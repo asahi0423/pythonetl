{
 "cells": [
  {
   "cell_type": "code",
   "execution_count": 2,
   "metadata": {
    "collapsed": false
   },
   "outputs": [
    {
     "data": {
      "text/plain": [
       "5"
      ]
     },
     "execution_count": 2,
     "metadata": {},
     "output_type": "execute_result"
    }
   ],
   "source": [
    "a = 3\n",
    "b = 2\n",
    "a + b"
   ]
  },
  {
   "cell_type": "code",
   "execution_count": 3,
   "metadata": {
    "collapsed": false
   },
   "outputs": [
    {
     "data": {
      "text/plain": [
       "3"
      ]
     },
     "execution_count": 3,
     "metadata": {},
     "output_type": "execute_result"
    }
   ],
   "source": [
    "a"
   ]
  },
  {
   "cell_type": "code",
   "execution_count": 21,
   "metadata": {
    "collapsed": false
   },
   "outputs": [
    {
     "data": {
      "text/plain": [
       "'\\nthis is a multi-line comments\\n1\\n2\\n3\\n4\\n'"
      ]
     },
     "execution_count": 21,
     "metadata": {},
     "output_type": "execute_result"
    }
   ],
   "source": [
    "# this is a comment\n",
    "\n",
    "'''\n",
    "this is a multi-line comments\n",
    "1\n",
    "2\n",
    "3\n",
    "4\n",
    "'''"
   ]
  },
  {
   "cell_type": "code",
   "execution_count": 22,
   "metadata": {
    "collapsed": true
   },
   "outputs": [],
   "source": [
    "a = 3"
   ]
  },
  {
   "cell_type": "code",
   "execution_count": 23,
   "metadata": {
    "collapsed": false
   },
   "outputs": [
    {
     "ename": "NameError",
     "evalue": "name 'pgae' is not defined",
     "output_type": "error",
     "traceback": [
      "\u001b[1;31m---------------------------------------------------------------------------\u001b[0m",
      "\u001b[1;31mNameError\u001b[0m                                 Traceback (most recent call last)",
      "\u001b[1;32m<ipython-input-23-cdc571d07023>\u001b[0m in \u001b[0;36m<module>\u001b[1;34m()\u001b[0m\n\u001b[0;32m      1\u001b[0m \u001b[1;32mfor\u001b[0m \u001b[0mpage\u001b[0m \u001b[1;32min\u001b[0m \u001b[0mrange\u001b[0m\u001b[1;33m(\u001b[0m\u001b[1;36m1\u001b[0m\u001b[1;33m,\u001b[0m\u001b[1;36m10\u001b[0m\u001b[1;33m)\u001b[0m\u001b[1;33m:\u001b[0m\u001b[1;33m\u001b[0m\u001b[0m\n\u001b[1;32m----> 2\u001b[1;33m     \u001b[1;32mprint\u001b[0m \u001b[0mpgae\u001b[0m\u001b[1;33m\u001b[0m\u001b[0m\n\u001b[0m",
      "\u001b[1;31mNameError\u001b[0m: name 'pgae' is not defined"
     ]
    }
   ],
   "source": [
    "for page in range(1,10):\n",
    "    print pgae"
   ]
  },
  {
   "cell_type": "code",
   "execution_count": 28,
   "metadata": {
    "collapsed": false
   },
   "outputs": [
    {
     "name": "stdout",
     "output_type": "stream",
     "text": [
      "1\n",
      "2\n",
      "3\n",
      "4\n",
      "5\n",
      "6\n",
      "7\n",
      "8\n",
      "9\n"
     ]
    }
   ],
   "source": [
    "for page in range(1,10):\n",
    "    print page"
   ]
  },
  {
   "cell_type": "code",
   "execution_count": 29,
   "metadata": {
    "collapsed": true
   },
   "outputs": [],
   "source": [
    "a = 1"
   ]
  },
  {
   "cell_type": "code",
   "execution_count": 30,
   "metadata": {
    "collapsed": true
   },
   "outputs": [],
   "source": [
    "b = 'hello world'"
   ]
  },
  {
   "cell_type": "code",
   "execution_count": 31,
   "metadata": {
    "collapsed": false
   },
   "outputs": [
    {
     "name": "stdout",
     "output_type": "stream",
     "text": [
      "<type 'int'>\n"
     ]
    }
   ],
   "source": [
    "print type(a)"
   ]
  },
  {
   "cell_type": "code",
   "execution_count": 32,
   "metadata": {
    "collapsed": false
   },
   "outputs": [
    {
     "name": "stdout",
     "output_type": "stream",
     "text": [
      "<type 'str'>\n"
     ]
    }
   ],
   "source": [
    "print type(b)"
   ]
  },
  {
   "cell_type": "code",
   "execution_count": 33,
   "metadata": {
    "collapsed": false
   },
   "outputs": [
    {
     "ename": "TypeError",
     "evalue": "unsupported operand type(s) for +: 'int' and 'str'",
     "output_type": "error",
     "traceback": [
      "\u001b[1;31m---------------------------------------------------------------------------\u001b[0m",
      "\u001b[1;31mTypeError\u001b[0m                                 Traceback (most recent call last)",
      "\u001b[1;32m<ipython-input-33-f96fb8f649b6>\u001b[0m in \u001b[0;36m<module>\u001b[1;34m()\u001b[0m\n\u001b[1;32m----> 1\u001b[1;33m \u001b[0ma\u001b[0m \u001b[1;33m+\u001b[0m \u001b[0mb\u001b[0m\u001b[1;33m\u001b[0m\u001b[0m\n\u001b[0m",
      "\u001b[1;31mTypeError\u001b[0m: unsupported operand type(s) for +: 'int' and 'str'"
     ]
    }
   ],
   "source": [
    "a + b"
   ]
  },
  {
   "cell_type": "code",
   "execution_count": 35,
   "metadata": {
    "collapsed": false
   },
   "outputs": [
    {
     "name": "stdout",
     "output_type": "stream",
     "text": [
      "Hello World\n"
     ]
    }
   ],
   "source": [
    "import sys\n",
    "\n",
    "# This is a single line comment\n",
    "def main():\n",
    "    print 'Hello World'\n",
    "    \n",
    "main()"
   ]
  },
  {
   "cell_type": "code",
   "execution_count": 36,
   "metadata": {
    "collapsed": true
   },
   "outputs": [
    {
     "name": "stdout",
     "output_type": "stream",
     "text": [
      "Help on built-in module sys:\n",
      "\n",
      "NAME\n",
      "    sys\n",
      "\n",
      "FILE\n",
      "    (built-in)\n",
      "\n",
      "MODULE DOCS\n",
      "    http://docs.python.org/library/sys\n",
      "\n",
      "DESCRIPTION\n",
      "    This module provides access to some objects used or maintained by the\n",
      "    interpreter and to functions that interact strongly with the interpreter.\n",
      "    \n",
      "    Dynamic objects:\n",
      "    \n",
      "    argv -- command line arguments; argv[0] is the script pathname if known\n",
      "    path -- module search path; path[0] is the script directory, else ''\n",
      "    modules -- dictionary of loaded modules\n",
      "    \n",
      "    displayhook -- called to show results in an interactive session\n",
      "    excepthook -- called to handle any uncaught exception other than SystemExit\n",
      "      To customize printing in an interactive session or to install a custom\n",
      "      top-level exception handler, assign other functions to replace these.\n",
      "    \n",
      "    exitfunc -- if sys.exitfunc exists, this routine is called when Python exits\n",
      "      Assigning to sys.exitfunc is deprecated; use the atexit module instead.\n",
      "    \n",
      "    stdin -- standard input file object; used by raw_input() and input()\n",
      "    stdout -- standard output file object; used by the print statement\n",
      "    stderr -- standard error object; used for error messages\n",
      "      By assigning other file objects (or objects that behave like files)\n",
      "      to these, it is possible to redirect all of the interpreter's I/O.\n",
      "    \n",
      "    last_type -- type of last uncaught exception\n",
      "    last_value -- value of last uncaught exception\n",
      "    last_traceback -- traceback of last uncaught exception\n",
      "      These three are only available in an interactive session after a\n",
      "      traceback has been printed.\n",
      "    \n",
      "    exc_type -- type of exception currently being handled\n",
      "    exc_value -- value of exception currently being handled\n",
      "    exc_traceback -- traceback of exception currently being handled\n",
      "      The function exc_info() should be used instead of these three,\n",
      "      because it is thread-safe.\n",
      "    \n",
      "    Static objects:\n",
      "    \n",
      "    float_info -- a dict with information about the float inplementation.\n",
      "    long_info -- a struct sequence with information about the long implementation.\n",
      "    maxint -- the largest supported integer (the smallest is -maxint-1)\n",
      "    maxsize -- the largest supported length of containers.\n",
      "    maxunicode -- the largest supported character\n",
      "    builtin_module_names -- tuple of module names built into this interpreter\n",
      "    version -- the version of this interpreter as a string\n",
      "    version_info -- version information as a named tuple\n",
      "    hexversion -- version information encoded as a single integer\n",
      "    copyright -- copyright notice pertaining to this interpreter\n",
      "    platform -- platform identifier\n",
      "    executable -- absolute path of the executable binary of the Python interpreter\n",
      "    prefix -- prefix used to find the Python library\n",
      "    exec_prefix -- prefix used to find the machine-specific Python library\n",
      "    float_repr_style -- string indicating the style of repr() output for floats\n",
      "    dllhandle -- [Windows only] integer handle of the Python DLL\n",
      "    winver -- [Windows only] version number of the Python DLL\n",
      "    __stdin__ -- the original stdin; don't touch!\n",
      "    __stdout__ -- the original stdout; don't touch!\n",
      "    __stderr__ -- the original stderr; don't touch!\n",
      "    __displayhook__ -- the original displayhook; don't touch!\n",
      "    __excepthook__ -- the original excepthook; don't touch!\n",
      "    \n",
      "    Functions:\n",
      "    \n",
      "    displayhook() -- print an object to the screen, and save it in __builtin__._\n",
      "    excepthook() -- print an exception and its traceback to sys.stderr\n",
      "    exc_info() -- return thread-safe information about the current exception\n",
      "    exc_clear() -- clear the exception state for the current thread\n",
      "    exit() -- exit the interpreter by raising SystemExit\n",
      "    getdlopenflags() -- returns flags to be used for dlopen() calls\n",
      "    getprofile() -- get the global profiling function\n",
      "    getrefcount() -- return the reference count for an object (plus one :-)\n",
      "    getrecursionlimit() -- return the max recursion depth for the interpreter\n",
      "    getsizeof() -- return the size of an object in bytes\n",
      "    gettrace() -- get the global debug tracing function\n",
      "    setcheckinterval() -- control how often the interpreter checks for events\n",
      "    setdlopenflags() -- set the flags to be used for dlopen() calls\n",
      "    setprofile() -- set the global profiling function\n",
      "    setrecursionlimit() -- set the max recursion depth for the interpreter\n",
      "    settrace() -- set the global debug tracing function\n",
      "\n",
      "FUNCTIONS\n",
      "    __displayhook__ = displayhook(...)\n",
      "        displayhook(object) -> None\n",
      "        \n",
      "        Print an object to sys.stdout and also save it in __builtin__._\n",
      "    \n",
      "    __excepthook__ = excepthook(...)\n",
      "        excepthook(exctype, value, traceback) -> None\n",
      "        \n",
      "        Handle an exception by displaying it with a traceback on sys.stderr.\n",
      "    \n",
      "    call_tracing(...)\n",
      "        call_tracing(func, args) -> object\n",
      "        \n",
      "        Call func(*args), while tracing is enabled.  The tracing state is\n",
      "        saved, and restored afterwards.  This is intended to be called from\n",
      "        a debugger from a checkpoint, to recursively debug some other code.\n",
      "    \n",
      "    callstats(...)\n",
      "        callstats() -> tuple of integers\n",
      "        \n",
      "        Return a tuple of function call statistics, if CALL_PROFILE was defined\n",
      "        when Python was built.  Otherwise, return None.\n",
      "        \n",
      "        When enabled, this function returns detailed, implementation-specific\n",
      "        details about the number of function calls executed. The return value is\n",
      "        a 11-tuple where the entries in the tuple are counts of:\n",
      "        0. all function calls\n",
      "        1. calls to PyFunction_Type objects\n",
      "        2. PyFunction calls that do not create an argument tuple\n",
      "        3. PyFunction calls that do not create an argument tuple\n",
      "           and bypass PyEval_EvalCodeEx()\n",
      "        4. PyMethod calls\n",
      "        5. PyMethod calls on bound methods\n",
      "        6. PyType calls\n",
      "        7. PyCFunction calls\n",
      "        8. generator calls\n",
      "        9. All other calls\n",
      "        10. Number of stack pops performed by call_function()\n",
      "    \n",
      "    exc_clear(...)\n",
      "        exc_clear() -> None\n",
      "        \n",
      "        Clear global information on the current exception.  Subsequent calls to\n",
      "        exc_info() will return (None,None,None) until another exception is raised\n",
      "        in the current thread or the execution stack returns to a frame where\n",
      "        another exception is being handled.\n",
      "    \n",
      "    exc_info(...)\n",
      "        exc_info() -> (type, value, traceback)\n",
      "        \n",
      "        Return information about the most recent exception caught by an except\n",
      "        clause in the current stack frame or in an older stack frame.\n",
      "    \n",
      "    exit(...)\n",
      "        exit([status])\n",
      "        \n",
      "        Exit the interpreter by raising SystemExit(status).\n",
      "        If the status is omitted or None, it defaults to zero (i.e., success).\n",
      "        If the status is an integer, it will be used as the system exit status.\n",
      "        If it is another kind of object, it will be printed and the system\n",
      "        exit status will be one (i.e., failure).\n",
      "    \n",
      "    getcheckinterval(...)\n",
      "        getcheckinterval() -> current check interval; see setcheckinterval().\n",
      "    \n",
      "    getdefaultencoding(...)\n",
      "        getdefaultencoding() -> string\n",
      "        \n",
      "        Return the current default string encoding used by the Unicode \n",
      "        implementation.\n",
      "    \n",
      "    getfilesystemencoding(...)\n",
      "        getfilesystemencoding() -> string\n",
      "        \n",
      "        Return the encoding used to convert Unicode filenames in\n",
      "        operating system filenames.\n",
      "    \n",
      "    getprofile(...)\n",
      "        getprofile()\n",
      "        \n",
      "        Return the profiling function set with sys.setprofile.\n",
      "        See the profiler chapter in the library manual.\n",
      "    \n",
      "    getrecursionlimit(...)\n",
      "        getrecursionlimit()\n",
      "        \n",
      "        Return the current value of the recursion limit, the maximum depth\n",
      "        of the Python interpreter stack.  This limit prevents infinite\n",
      "        recursion from causing an overflow of the C stack and crashing Python.\n",
      "    \n",
      "    getrefcount(...)\n",
      "        getrefcount(object) -> integer\n",
      "        \n",
      "        Return the reference count of object.  The count returned is generally\n",
      "        one higher than you might expect, because it includes the (temporary)\n",
      "        reference as an argument to getrefcount().\n",
      "    \n",
      "    getsizeof(...)\n",
      "        getsizeof(object, default) -> int\n",
      "        \n",
      "        Return the size of object in bytes.\n",
      "    \n",
      "    gettrace(...)\n",
      "        gettrace()\n",
      "        \n",
      "        Return the global debug tracing function set with sys.settrace.\n",
      "        See the debugger chapter in the library manual.\n",
      "    \n",
      "    getwindowsversion(...)\n",
      "        getwindowsversion()\n",
      "        \n",
      "        Return information about the running version of Windows as a named tuple.\n",
      "        The members are named: major, minor, build, platform, service_pack,\n",
      "        service_pack_major, service_pack_minor, suite_mask, and product_type. For\n",
      "        backward compatibility, only the first 5 items are available by indexing.\n",
      "        All elements are numbers, except service_pack which is a string. Platform\n",
      "        may be 0 for win32s, 1 for Windows 9x/ME, 2 for Windows NT/2000/XP/Vista/7,\n",
      "        3 for Windows CE. Product_type may be 1 for a workstation, 2 for a domain\n",
      "        controller, 3 for a server.\n",
      "    \n",
      "    setcheckinterval(...)\n",
      "        setcheckinterval(n)\n",
      "        \n",
      "        Tell the Python interpreter to check for asynchronous events every\n",
      "        n instructions.  This also affects how often thread switches occur.\n",
      "    \n",
      "    setprofile(...)\n",
      "        setprofile(function)\n",
      "        \n",
      "        Set the profiling function.  It will be called on each function call\n",
      "        and return.  See the profiler chapter in the library manual.\n",
      "    \n",
      "    setrecursionlimit(...)\n",
      "        setrecursionlimit(n)\n",
      "        \n",
      "        Set the maximum depth of the Python interpreter stack to n.  This\n",
      "        limit prevents infinite recursion from causing an overflow of the C\n",
      "        stack and crashing Python.  The highest possible limit is platform-\n",
      "        dependent.\n",
      "    \n",
      "    settrace(...)\n",
      "        settrace(function)\n",
      "        \n",
      "        Set the global debug tracing function.  It will be called on each\n",
      "        function call.  See the debugger chapter in the library manual.\n",
      "\n",
      "DATA\n",
      "    __stderr__ = <open file '<stderr>', mode 'w'>\n",
      "    __stdin__ = <open file '<stdin>', mode 'r'>\n",
      "    __stdout__ = <open file '<stdout>', mode 'w'>\n",
      "    api_version = 1013\n",
      "    argv = [r'C:\\Python27\\lib\\site-packages\\ipykernel\\__main__.py', '-f', ...\n",
      "    builtin_module_names = ('__builtin__', '__main__', '_ast', '_bisect', ...\n",
      "    byteorder = 'little'\n",
      "    copyright = 'Copyright (c) 2001-2015 Python Software Foundati...ematis...\n",
      "    displayhook = <ipykernel.displayhook.ZMQShellDisplayHook object>\n",
      "    dllhandle = 503316480\n",
      "    dont_write_bytecode = False\n",
      "    exc_value = TypeError(\"<module 'sys' (built-in)> is a built-in module\"...\n",
      "    exec_prefix = r'C:\\Python27'\n",
      "    executable = r'C:\\Python27\\python.exe'\n",
      "    flags = sys.flags(debug=0, py3k_warning=0, division_warn...unicode=0, ...\n",
      "    float_info = sys.float_info(max=1.7976931348623157e+308, max_...epsilo...\n",
      "    float_repr_style = 'short'\n",
      "    hexversion = 34015984\n",
      "    last_value = TypeError(\"unsupported operand type(s) for +: 'int' and '...\n",
      "    long_info = sys.long_info(bits_per_digit=15, sizeof_digit=2)\n",
      "    maxint = 2147483647\n",
      "    maxsize = 2147483647\n",
      "    maxunicode = 65535\n",
      "    meta_path = []\n",
      "    modules = {'Cookie': <module 'Cookie' from 'C:\\Python27\\lib\\Cookie.pyc...\n",
      "    path = ['', r'C:\\Windows\\system32\\python27.zip', r'C:\\Python27\\DLLs', ...\n",
      "    path_hooks = [<type 'zipimport.zipimporter'>]\n",
      "    path_importer_cache = {'': None, r'C:\\Python27': None, r'C:\\Python27\\D...\n",
      "    platform = 'win32'\n",
      "    prefix = r'C:\\Python27'\n",
      "    ps1 = 'In : '\n",
      "    ps2 = '...: '\n",
      "    ps3 = 'Out: '\n",
      "    py3kwarning = False\n",
      "    stderr = <ipykernel.iostream.OutStream object>\n",
      "    stdin = <open file '<stdin>', mode 'r'>\n",
      "    stdout = <ipykernel.iostream.OutStream object>\n",
      "    subversion = ('CPython', '', '')\n",
      "    version = '2.7.10 (default, May 23 2015, 09:40:32) [MSC v.1500 32 bit ...\n",
      "    version_info = sys.version_info(major=2, minor=7, micro=10, releaselev...\n",
      "    warnoptions = []\n",
      "    winver = '2.7'\n",
      "\n",
      "\n",
      "None\n"
     ]
    }
   ],
   "source": [
    "print help(sys)"
   ]
  },
  {
   "cell_type": "code",
   "execution_count": 37,
   "metadata": {
    "collapsed": true
   },
   "outputs": [
    {
     "name": "stdout",
     "output_type": "stream",
     "text": [
      "['__displayhook__', '__doc__', '__excepthook__', '__name__', '__package__', '__stderr__', '__stdin__', '__stdout__', '_clear_type_cache', '_current_frames', '_getframe', '_mercurial', 'api_version', 'argv', 'builtin_module_names', 'byteorder', 'call_tracing', 'callstats', 'copyright', 'displayhook', 'dllhandle', 'dont_write_bytecode', 'exc_clear', 'exc_info', 'exc_type', 'excepthook', 'exec_prefix', 'executable', 'exit', 'exitfunc', 'flags', 'float_info', 'float_repr_style', 'getcheckinterval', 'getdefaultencoding', 'getfilesystemencoding', 'getprofile', 'getrecursionlimit', 'getrefcount', 'getsizeof', 'gettrace', 'getwindowsversion', 'hexversion', 'last_traceback', 'last_type', 'last_value', 'long_info', 'maxint', 'maxsize', 'maxunicode', 'meta_path', 'modules', 'path', 'path_hooks', 'path_importer_cache', 'platform', 'prefix', 'ps1', 'ps2', 'ps3', 'py3kwarning', 'setcheckinterval', 'setprofile', 'setrecursionlimit', 'settrace', 'stderr', 'stdin', 'stdout', 'subversion', 'version', 'version_info', 'warnoptions', 'winver']\n"
     ]
    }
   ],
   "source": [
    "print dir(sys)"
   ]
  },
  {
   "cell_type": "code",
   "execution_count": 38,
   "metadata": {
    "collapsed": true
   },
   "outputs": [
    {
     "name": "stdout",
     "output_type": "stream",
     "text": [
      "Help on built-in function exit in module sys:\n",
      "\n",
      "exit(...)\n",
      "    exit([status])\n",
      "    \n",
      "    Exit the interpreter by raising SystemExit(status).\n",
      "    If the status is omitted or None, it defaults to zero (i.e., success).\n",
      "    If the status is an integer, it will be used as the system exit status.\n",
      "    If it is another kind of object, it will be printed and the system\n",
      "    exit status will be one (i.e., failure).\n",
      "\n",
      "None\n"
     ]
    }
   ],
   "source": [
    "print help(sys.exit)"
   ]
  },
  {
   "cell_type": "code",
   "execution_count": 39,
   "metadata": {
    "collapsed": true
   },
   "outputs": [],
   "source": [
    "sys.exit?"
   ]
  },
  {
   "cell_type": "code",
   "execution_count": 40,
   "metadata": {
    "collapsed": true
   },
   "outputs": [],
   "source": [
    "a = 3\n",
    "b = 2"
   ]
  },
  {
   "cell_type": "code",
   "execution_count": 41,
   "metadata": {
    "collapsed": false
   },
   "outputs": [
    {
     "data": {
      "text/plain": [
       "5"
      ]
     },
     "execution_count": 41,
     "metadata": {},
     "output_type": "execute_result"
    }
   ],
   "source": [
    "a + b"
   ]
  },
  {
   "cell_type": "code",
   "execution_count": 42,
   "metadata": {
    "collapsed": false
   },
   "outputs": [
    {
     "name": "stdout",
     "output_type": "stream",
     "text": [
      "5\n"
     ]
    }
   ],
   "source": [
    "print a + b"
   ]
  },
  {
   "cell_type": "code",
   "execution_count": 43,
   "metadata": {
    "collapsed": false
   },
   "outputs": [
    {
     "data": {
      "text/plain": [
       "6"
      ]
     },
     "execution_count": 43,
     "metadata": {},
     "output_type": "execute_result"
    }
   ],
   "source": [
    "a + b\n",
    "a - b \n",
    "a * b"
   ]
  },
  {
   "cell_type": "code",
   "execution_count": 44,
   "metadata": {
    "collapsed": false
   },
   "outputs": [
    {
     "name": "stdout",
     "output_type": "stream",
     "text": [
      "5\n",
      "1\n",
      "6\n"
     ]
    }
   ],
   "source": [
    "print a + b\n",
    "print a - b \n",
    "print a * b"
   ]
  },
  {
   "cell_type": "code",
   "execution_count": 45,
   "metadata": {
    "collapsed": false
   },
   "outputs": [
    {
     "name": "stdout",
     "output_type": "stream",
     "text": [
      "3\n",
      "<type 'int'>\n"
     ]
    }
   ],
   "source": [
    "print a\n",
    "print type(a)"
   ]
  },
  {
   "cell_type": "code",
   "execution_count": 46,
   "metadata": {
    "collapsed": false
   },
   "outputs": [
    {
     "name": "stdout",
     "output_type": "stream",
     "text": [
      "5\n",
      "<type 'int'>\n"
     ]
    }
   ],
   "source": [
    "print a + b\n",
    "print type(a+b)"
   ]
  },
  {
   "cell_type": "code",
   "execution_count": 47,
   "metadata": {
    "collapsed": false
   },
   "outputs": [
    {
     "name": "stdout",
     "output_type": "stream",
     "text": [
      "3.0\n",
      "<type 'float'>\n"
     ]
    }
   ],
   "source": [
    "c = 3.0\n",
    "print c\n",
    "print type(c)"
   ]
  },
  {
   "cell_type": "code",
   "execution_count": 48,
   "metadata": {
    "collapsed": false
   },
   "outputs": [
    {
     "name": "stdout",
     "output_type": "stream",
     "text": [
      "<type 'float'>\n"
     ]
    }
   ],
   "source": [
    "d = 4.0\n",
    "print type(c + d)"
   ]
  },
  {
   "cell_type": "code",
   "execution_count": 50,
   "metadata": {
    "collapsed": false
   },
   "outputs": [
    {
     "name": "stdout",
     "output_type": "stream",
     "text": [
      "2\n",
      "2\n",
      "2.0\n",
      "3.2\n"
     ]
    }
   ],
   "source": [
    "print int('2')\n",
    "print int(2)\n",
    "print float(2)\n",
    "print float('3.2')"
   ]
  },
  {
   "cell_type": "code",
   "execution_count": 51,
   "metadata": {
    "collapsed": false
   },
   "outputs": [
    {
     "name": "stdout",
     "output_type": "stream",
     "text": [
      "<type 'str'>\n",
      "<type 'int'>\n"
     ]
    }
   ],
   "source": [
    "print type('2')\n",
    "print type(int('2'))"
   ]
  },
  {
   "cell_type": "code",
   "execution_count": 52,
   "metadata": {
    "collapsed": false
   },
   "outputs": [
    {
     "name": "stdout",
     "output_type": "stream",
     "text": [
      "<type 'float'>\n"
     ]
    }
   ],
   "source": [
    "print type(float(int('2')))"
   ]
  },
  {
   "cell_type": "code",
   "execution_count": 53,
   "metadata": {
    "collapsed": false
   },
   "outputs": [
    {
     "name": "stdout",
     "output_type": "stream",
     "text": [
      "qooqooqooqooqooqooqooqoo\n"
     ]
    }
   ],
   "source": [
    "a = 'qoo'\n",
    "print a * 8"
   ]
  },
  {
   "cell_type": "code",
   "execution_count": 56,
   "metadata": {
    "collapsed": false
   },
   "outputs": [
    {
     "name": "stdout",
     "output_type": "stream",
     "text": [
      "??????????\n",
      "?, ?, ?, ?, ?, ?, ?, ?, ?, ?\n",
      "?@?@?@?@?@?@?@?@?@?\n"
     ]
    }
   ],
   "source": [
    "# 'insert into table(col1, col2, col3 ... coln) values(?,?,?...?)'\n",
    "print '?' * 10\n",
    "print ', '.join('?' * 10)\n",
    "print '@'.join('?' * 10)"
   ]
  },
  {
   "cell_type": "code",
   "execution_count": 57,
   "metadata": {
    "collapsed": false
   },
   "outputs": [
    {
     "name": "stdout",
     "output_type": "stream",
     "text": [
      "0\n"
     ]
    }
   ],
   "source": [
    "a = 1\n",
    "b = 3\n",
    "print a/b"
   ]
  },
  {
   "cell_type": "code",
   "execution_count": 58,
   "metadata": {
    "collapsed": false
   },
   "outputs": [
    {
     "name": "stdout",
     "output_type": "stream",
     "text": [
      "0.333333333333\n"
     ]
    }
   ],
   "source": [
    "a = 1.0\n",
    "b = 3.0\n",
    "print a/b"
   ]
  },
  {
   "cell_type": "code",
   "execution_count": 60,
   "metadata": {
    "collapsed": false
   },
   "outputs": [
    {
     "name": "stdout",
     "output_type": "stream",
     "text": [
      "0.333333333333\n"
     ]
    }
   ],
   "source": [
    "a = 1\n",
    "b = 3\n",
    "print float(a)/b"
   ]
  },
  {
   "cell_type": "code",
   "execution_count": 61,
   "metadata": {
    "collapsed": false
   },
   "outputs": [
    {
     "ename": "ZeroDivisionError",
     "evalue": "integer division or modulo by zero",
     "output_type": "error",
     "traceback": [
      "\u001b[1;31m---------------------------------------------------------------------------\u001b[0m",
      "\u001b[1;31mZeroDivisionError\u001b[0m                         Traceback (most recent call last)",
      "\u001b[1;32m<ipython-input-61-a169bdba1a32>\u001b[0m in \u001b[0;36m<module>\u001b[1;34m()\u001b[0m\n\u001b[1;32m----> 1\u001b[1;33m \u001b[1;32mprint\u001b[0m \u001b[1;36m3\u001b[0m \u001b[1;33m/\u001b[0m \u001b[1;36m0\u001b[0m\u001b[1;33m\u001b[0m\u001b[0m\n\u001b[0m",
      "\u001b[1;31mZeroDivisionError\u001b[0m: integer division or modulo by zero"
     ]
    }
   ],
   "source": [
    "print 3 / 0"
   ]
  },
  {
   "cell_type": "code",
   "execution_count": 62,
   "metadata": {
    "collapsed": false
   },
   "outputs": [
    {
     "name": "stdout",
     "output_type": "stream",
     "text": [
      "this is an error\n"
     ]
    }
   ],
   "source": [
    "try:\n",
    "    print 3 / 0\n",
    "except:\n",
    "    print \"this is an error\""
   ]
  },
  {
   "cell_type": "code",
   "execution_count": 63,
   "metadata": {
    "collapsed": false
   },
   "outputs": [
    {
     "name": "stdout",
     "output_type": "stream",
     "text": [
      "1\n",
      "hello world\n"
     ]
    }
   ],
   "source": [
    "print a\n",
    "print \"hello world\""
   ]
  },
  {
   "cell_type": "code",
   "execution_count": 64,
   "metadata": {
    "collapsed": false
   },
   "outputs": [
    {
     "name": "stdout",
     "output_type": "stream",
     "text": [
      "How are you?fine\n"
     ]
    },
    {
     "data": {
      "text/plain": [
       "'fine'"
      ]
     },
     "execution_count": 64,
     "metadata": {},
     "output_type": "execute_result"
    }
   ],
   "source": [
    "raw_input(\"How are you?\")"
   ]
  },
  {
   "cell_type": "code",
   "execution_count": 66,
   "metadata": {
    "collapsed": false
   },
   "outputs": [
    {
     "name": "stdout",
     "output_type": "stream",
     "text": [
      "How are you?fine\n"
     ]
    },
    {
     "ename": "NameError",
     "evalue": "name 'fine' is not defined",
     "output_type": "error",
     "traceback": [
      "\u001b[1;31m---------------------------------------------------------------------------\u001b[0m",
      "\u001b[1;31mNameError\u001b[0m                                 Traceback (most recent call last)",
      "\u001b[1;32m<ipython-input-66-43609d24bbb7>\u001b[0m in \u001b[0;36m<module>\u001b[1;34m()\u001b[0m\n\u001b[1;32m----> 1\u001b[1;33m \u001b[0minput\u001b[0m\u001b[1;33m(\u001b[0m\u001b[1;34m\"How are you?\"\u001b[0m\u001b[1;33m)\u001b[0m\u001b[1;33m\u001b[0m\u001b[0m\n\u001b[0m",
      "\u001b[1;32mC:\\Python27\\lib\\site-packages\\ipykernel\\ipkernel.pyc\u001b[0m in \u001b[0;36m<lambda>\u001b[1;34m(prompt)\u001b[0m\n\u001b[0;32m    139\u001b[0m             \u001b[0mself\u001b[0m\u001b[1;33m.\u001b[0m\u001b[0m_sys_eval_input\u001b[0m \u001b[1;33m=\u001b[0m \u001b[0mbuiltin_mod\u001b[0m\u001b[1;33m.\u001b[0m\u001b[0minput\u001b[0m\u001b[1;33m\u001b[0m\u001b[0m\n\u001b[0;32m    140\u001b[0m             \u001b[0mbuiltin_mod\u001b[0m\u001b[1;33m.\u001b[0m\u001b[0mraw_input\u001b[0m \u001b[1;33m=\u001b[0m \u001b[0mself\u001b[0m\u001b[1;33m.\u001b[0m\u001b[0mraw_input\u001b[0m\u001b[1;33m\u001b[0m\u001b[0m\n\u001b[1;32m--> 141\u001b[1;33m             \u001b[0mbuiltin_mod\u001b[0m\u001b[1;33m.\u001b[0m\u001b[0minput\u001b[0m \u001b[1;33m=\u001b[0m \u001b[1;32mlambda\u001b[0m \u001b[0mprompt\u001b[0m\u001b[1;33m=\u001b[0m\u001b[1;34m''\u001b[0m\u001b[1;33m:\u001b[0m \u001b[0meval\u001b[0m\u001b[1;33m(\u001b[0m\u001b[0mself\u001b[0m\u001b[1;33m.\u001b[0m\u001b[0mraw_input\u001b[0m\u001b[1;33m(\u001b[0m\u001b[0mprompt\u001b[0m\u001b[1;33m)\u001b[0m\u001b[1;33m)\u001b[0m\u001b[1;33m\u001b[0m\u001b[0m\n\u001b[0m\u001b[0;32m    142\u001b[0m         \u001b[0mself\u001b[0m\u001b[1;33m.\u001b[0m\u001b[0m_save_getpass\u001b[0m \u001b[1;33m=\u001b[0m \u001b[0mgetpass\u001b[0m\u001b[1;33m.\u001b[0m\u001b[0mgetpass\u001b[0m\u001b[1;33m\u001b[0m\u001b[0m\n\u001b[0;32m    143\u001b[0m         \u001b[0mgetpass\u001b[0m\u001b[1;33m.\u001b[0m\u001b[0mgetpass\u001b[0m \u001b[1;33m=\u001b[0m \u001b[0mself\u001b[0m\u001b[1;33m.\u001b[0m\u001b[0mgetpass\u001b[0m\u001b[1;33m\u001b[0m\u001b[0m\n",
      "\u001b[1;32mC:\\Python27\\lib\\site-packages\\ipykernel\\ipkernel.pyc\u001b[0m in \u001b[0;36m<module>\u001b[1;34m()\u001b[0m\n",
      "\u001b[1;31mNameError\u001b[0m: name 'fine' is not defined"
     ]
    }
   ],
   "source": [
    "input(\"How are you?\")"
   ]
  },
  {
   "cell_type": "code",
   "execution_count": 67,
   "metadata": {
    "collapsed": false
   },
   "outputs": [
    {
     "name": "stdout",
     "output_type": "stream",
     "text": [
      "How are you?cool\n"
     ]
    }
   ],
   "source": [
    " answer = raw_input(\"How are you?\")"
   ]
  },
  {
   "cell_type": "code",
   "execution_count": 68,
   "metadata": {
    "collapsed": false
   },
   "outputs": [
    {
     "name": "stdout",
     "output_type": "stream",
     "text": [
      "cool\n"
     ]
    }
   ],
   "source": [
    "print answer"
   ]
  },
  {
   "cell_type": "code",
   "execution_count": 70,
   "metadata": {
    "collapsed": false
   },
   "outputs": [
    {
     "name": "stdout",
     "output_type": "stream",
     "text": [
      "What is your name? qoo\n",
      "Your name again?\n"
     ]
    }
   ],
   "source": [
    "name = raw_input(\"What is your name? \")\n",
    "if name == \"David\":\n",
    "    print (\"Nice to mee you! \" + name)\n",
    "else:\n",
    "    print (\"Your name again?\") \n"
   ]
  },
  {
   "cell_type": "code",
   "execution_count": 79,
   "metadata": {
    "collapsed": false
   },
   "outputs": [
    {
     "name": "stdout",
     "output_type": "stream",
     "text": [
      "1\n",
      "2\n",
      "qoo\n",
      "qoo\n"
     ]
    }
   ],
   "source": [
    "for i in range(1,5):\n",
    "    if i < 3:\n",
    "        print i\n",
    "    else:\n",
    "        print \"qoo\""
   ]
  },
  {
   "cell_type": "code",
   "execution_count": 80,
   "metadata": {
    "collapsed": false
   },
   "outputs": [
    {
     "name": "stdout",
     "output_type": "stream",
     "text": [
      "Hello World\n"
     ]
    }
   ],
   "source": [
    "def main():\n",
    "    print 'Hello World'\n",
    "main()"
   ]
  },
  {
   "cell_type": "code",
   "execution_count": 81,
   "metadata": {
    "collapsed": false
   },
   "outputs": [
    {
     "name": "stdout",
     "output_type": "stream",
     "text": [
      "helloworld\n"
     ]
    }
   ],
   "source": [
    "a = 'hello'\n",
    "b = 'world'\n",
    "\n",
    "print a+b "
   ]
  },
  {
   "cell_type": "code",
   "execution_count": 84,
   "metadata": {
    "collapsed": false
   },
   "outputs": [
    {
     "name": "stdout",
     "output_type": "stream",
     "text": [
      "my name is David, I am 30 year's old, and I am 180 centiment's tall\n",
      "my name is David, I am 30 year's old, and I am 180 centiment's tall\n",
      "my name is David, I am 30 year's old, and I am 180 centiment's tall\n"
     ]
    }
   ],
   "source": [
    "name = 'David'\n",
    "age = 30\n",
    "height = 180\n",
    "\n",
    "print \"my name is \" + name + \", I am \" + str(age) + \" year's old, and I am \" + str(height) + \" centiment's tall\"\n",
    "\n",
    "# using format - recommend using this\n",
    "print \"my name is {}, I am {} year's old, and I am {} centiment's tall\".format(name, age, height)\n",
    "\n",
    "# using c string format\n",
    "print \"my name is %s, I am %d year's old, and I am %d centiment's tall\"%(name, age, height)\n"
   ]
  },
  {
   "cell_type": "code",
   "execution_count": 87,
   "metadata": {
    "collapsed": false
   },
   "outputs": [
    {
     "name": "stdout",
     "output_type": "stream",
     "text": [
      "http://www.appledaily.com.tw/%E9%9E%E8%AC%9/5\n"
     ]
    },
    {
     "ename": "TypeError",
     "evalue": "float argument required, not str",
     "output_type": "error",
     "traceback": [
      "\u001b[1;31m---------------------------------------------------------------------------\u001b[0m",
      "\u001b[1;31mTypeError\u001b[0m                                 Traceback (most recent call last)",
      "\u001b[1;32m<ipython-input-87-53c280807306>\u001b[0m in \u001b[0;36m<module>\u001b[1;34m()\u001b[0m\n\u001b[0;32m      7\u001b[0m \u001b[1;31m#using c string format\u001b[0m\u001b[1;33m\u001b[0m\u001b[1;33m\u001b[0m\u001b[0m\n\u001b[0;32m      8\u001b[0m \u001b[0murl\u001b[0m \u001b[1;33m=\u001b[0m \u001b[1;34m'http://www.appledaily.com.tw/%E9%9E%E8%AC%9/%s'\u001b[0m\u001b[1;33m\u001b[0m\u001b[0m\n\u001b[1;32m----> 9\u001b[1;33m \u001b[1;32mprint\u001b[0m \u001b[0murl\u001b[0m\u001b[1;33m%\u001b[0m\u001b[1;33m(\u001b[0m\u001b[1;34m'5'\u001b[0m\u001b[1;33m)\u001b[0m\u001b[1;33m\u001b[0m\u001b[0m\n\u001b[0m",
      "\u001b[1;31mTypeError\u001b[0m: float argument required, not str"
     ]
    }
   ],
   "source": [
    "url = 'http://www.appledaily.com.tw/realtimenews/article/life/20151104/725341/%E9%A6%AC%E7%BF%92%E6%9C%83%E5%B0%87%E7%99%BB%E5%A0%B4%E3%80%80%E6%9F%AFP%EF%BC%9A%E6%AD%A4%E6%B6%88%E6%81%AF%E6%87%89%E8%A9%B2%E6%97%A9%E9%BB%9E%E8%AC%9B/'\n",
    "#using format\n",
    "url = 'http://www.appledaily.com.tw/%E9%9E%E8%AC%9/{}'\n",
    "print url.format('5')\n",
    "\n",
    "#using c string format\n",
    "url = 'http://www.appledaily.com.tw/%E9%9E%E8%AC%9/%s'\n",
    "print url%('5')"
   ]
  },
  {
   "cell_type": "code",
   "execution_count": 65,
   "metadata": {
    "collapsed": false
   },
   "outputs": [
    {
     "name": "stdout",
     "output_type": "stream",
     "text": [
      "hi\n"
     ]
    }
   ],
   "source": [
    "print \"hi\""
   ]
  },
  {
   "cell_type": "code",
   "execution_count": 88,
   "metadata": {
    "collapsed": false
   },
   "outputs": [
    {
     "ename": "ZeroDivisionError",
     "evalue": "integer division or modulo by zero",
     "output_type": "error",
     "traceback": [
      "\u001b[1;31m---------------------------------------------------------------------------\u001b[0m",
      "\u001b[1;31mZeroDivisionError\u001b[0m                         Traceback (most recent call last)",
      "\u001b[1;32m<ipython-input-88-4a47098edefb>\u001b[0m in \u001b[0;36m<module>\u001b[1;34m()\u001b[0m\n\u001b[1;32m----> 1\u001b[1;33m \u001b[1;32mprint\u001b[0m \u001b[1;36m3\u001b[0m\u001b[1;33m/\u001b[0m\u001b[1;36m0\u001b[0m\u001b[1;33m\u001b[0m\u001b[0m\n\u001b[0m",
      "\u001b[1;31mZeroDivisionError\u001b[0m: integer division or modulo by zero"
     ]
    }
   ],
   "source": [
    "print 3/0"
   ]
  },
  {
   "cell_type": "code",
   "execution_count": 89,
   "metadata": {
    "collapsed": false
   },
   "outputs": [
    {
     "name": "stdout",
     "output_type": "stream",
     "text": [
      "error\n"
     ]
    }
   ],
   "source": [
    "try:\n",
    "    3/0\n",
    "except:\n",
    "    print \"error\""
   ]
  },
  {
   "cell_type": "code",
   "execution_count": 94,
   "metadata": {
    "collapsed": false
   },
   "outputs": [
    {
     "name": "stdout",
     "output_type": "stream",
     "text": [
      "Dividend: hello\n",
      "Divisor: 0\n",
      "error\n"
     ]
    }
   ],
   "source": [
    "dividend = raw_input(\"Dividend: \")\n",
    "divisor = raw_input(\"Divisor: \")\n",
    "try:\n",
    "    print float(dividend) / float(divisor)\n",
    "except: \n",
    "    print \"error\"\n"
   ]
  },
  {
   "cell_type": "code",
   "execution_count": 97,
   "metadata": {
    "collapsed": false
   },
   "outputs": [
    {
     "name": "stdout",
     "output_type": "stream",
     "text": [
      "Dividend: hello\n",
      "Divisor: 0\n",
      "Value Error could not convert string to float: hello\n"
     ]
    }
   ],
   "source": [
    "dividend = raw_input(\"Dividend: \")\n",
    "divisor = raw_input(\"Divisor: \")\n",
    "try:\n",
    "    print float(dividend) / float(divisor)\n",
    "except ZeroDivisionError as detail:\n",
    "    print \"ZeroDvisionError\", detail\n",
    "except ValueError as detail2:\n",
    "    print \"Value Error\", detail2\n"
   ]
  },
  {
   "cell_type": "code",
   "execution_count": 99,
   "metadata": {
    "collapsed": false
   },
   "outputs": [
    {
     "name": "stdout",
     "output_type": "stream",
     "text": [
      "Dividend: jjkjk\n",
      "Divisor: 0\n",
      "whatever error\n"
     ]
    }
   ],
   "source": [
    "dividend = raw_input(\"Dividend: \")\n",
    "divisor = raw_input(\"Divisor: \")\n",
    "try:\n",
    "    print float(dividend) / float(divisor)\n",
    "except ZeroDivisionError as detail:\n",
    "    print \"ZeroDvisionError\", detail\n",
    "except ValueError as detail2:\n",
    "    print \"Value Error\", detail2\n",
    "except:\n",
    "    print \"whatever error\""
   ]
  },
  {
   "cell_type": "code",
   "execution_count": 101,
   "metadata": {
    "collapsed": false,
    "scrolled": true
   },
   "outputs": [
    {
     "name": "stdout",
     "output_type": "stream",
     "text": [
      "['__add__', '__class__', '__contains__', '__delattr__', '__doc__', '__eq__', '__format__', '__ge__', '__getattribute__', '__getitem__', '__getnewargs__', '__getslice__', '__gt__', '__hash__', '__init__', '__le__', '__len__', '__lt__', '__mod__', '__mul__', '__ne__', '__new__', '__reduce__', '__reduce_ex__', '__repr__', '__rmod__', '__rmul__', '__setattr__', '__sizeof__', '__str__', '__subclasshook__', '_formatter_field_name_split', '_formatter_parser', 'capitalize', 'center', 'count', 'decode', 'encode', 'endswith', 'expandtabs', 'find', 'format', 'index', 'isalnum', 'isalpha', 'isdigit', 'islower', 'isspace', 'istitle', 'isupper', 'join', 'ljust', 'lower', 'lstrip', 'partition', 'replace', 'rfind', 'rindex', 'rjust', 'rpartition', 'rsplit', 'rstrip', 'split', 'splitlines', 'startswith', 'strip', 'swapcase', 'title', 'translate', 'upper', 'zfill']\n",
      "3\n"
     ]
    }
   ],
   "source": [
    "a = 'hello world'\n",
    "print dir(a)\n",
    "print a.count('l')"
   ]
  },
  {
   "cell_type": "code",
   "execution_count": 102,
   "metadata": {
    "collapsed": false
   },
   "outputs": [
    {
     "name": "stdout",
     "output_type": "stream",
     "text": [
      "True\n"
     ]
    }
   ],
   "source": [
    "a = 'hello world'\n",
    "b = \"hello world\"\n",
    "print a == b"
   ]
  },
  {
   "cell_type": "code",
   "execution_count": 105,
   "metadata": {
    "collapsed": false
   },
   "outputs": [
    {
     "name": "stdout",
     "output_type": "stream",
     "text": [
      "this is a \"book\"\n",
      "this is a 'book'\n",
      "False\n"
     ]
    }
   ],
   "source": [
    "print 'this is a \"book\"'\n",
    "print \"this is a 'book'\"\n",
    "print 'this is a \"book\"' == \"this is a 'book'\""
   ]
  },
  {
   "cell_type": "code",
   "execution_count": 107,
   "metadata": {
    "collapsed": false
   },
   "outputs": [
    {
     "name": "stdout",
     "output_type": "stream",
     "text": [
      "helloworld\n",
      "helloworld\n"
     ]
    }
   ],
   "source": [
    "print \"hello\" + \"world\"\n",
    "\n",
    "a = \"hello\"\n",
    "tmp  = a + \"world\"\n",
    "print tmp"
   ]
  },
  {
   "cell_type": "code",
   "execution_count": 114,
   "metadata": {
    "collapsed": false
   },
   "outputs": [
    {
     "name": "stdout",
     "output_type": "stream",
     "text": [
      "1 101 ??? hhhhhhhhhhhhhhhhhhhhhhhhhhhhhhhhhhhhhhhhhhhhhhhhhhhhhhhhhhhhhh\n"
     ]
    }
   ],
   "source": [
    "for i in range(1,2):\n",
    "    '''\n",
    "    print a \n",
    "    print qoo \n",
    "    print adfdsafd\n",
    "    '''\n",
    "    print i, i+ 100, 3 * '?', \\\n",
    "    'hhhhhhhhhhhhhhhhhhhhhhhhhhhhhhhhhhhhhhhhhhhhhhhhhhhhhhhhhhhhhh'"
   ]
  },
  {
   "cell_type": "code",
   "execution_count": 113,
   "metadata": {
    "collapsed": false
   },
   "outputs": [
    {
     "name": "stdout",
     "output_type": "stream",
     "text": [
      "\n",
      "中華民國總統馬英九與中國國家主席習近平，\n",
      "本周六將以兩岸領導人身分，在新加坡會面。\n",
      "消息曝光後，有網友在台大批踢踢po文，在馬習會前夕，揭開一段恐怖故事。\n",
      "\n",
      "\n",
      "中華民國總統馬英九與中國國家主席習近平，\n",
      "本周六將以兩岸領導人身分，在新加坡會面。\n",
      "消息曝光後，有網友在台大批踢踢po文，在馬習會前夕，揭開一段恐怖故事。\n",
      "\n"
     ]
    }
   ],
   "source": [
    "a= \"\"\"\n",
    "中華民國總統馬英九與中國國家主席習近平，\n",
    "本周六將以兩岸領導人身分，在新加坡會面。\n",
    "消息曝光後，有網友在台大批踢踢po文，在馬習會前夕，揭開一段恐怖故事。\n",
    "\"\"\"\n",
    "print a\n",
    "\n",
    "a= '''\n",
    "中華民國總統馬英九與中國國家主席習近平，\n",
    "本周六將以兩岸領導人身分，在新加坡會面。\n",
    "消息曝光後，有網友在台大批踢踢po文，在馬習會前夕，揭開一段恐怖故事。\n",
    "'''\n",
    "print a"
   ]
  },
  {
   "cell_type": "code",
   "execution_count": 117,
   "metadata": {
    "collapsed": false
   },
   "outputs": [
    {
     "name": "stdout",
     "output_type": "stream",
     "text": [
      "h\n",
      "e\n",
      "d\n"
     ]
    }
   ],
   "source": [
    "a = 'hello world'\n",
    "print a[0] #h\n",
    "print a[1] #e\n",
    "print a[-1] #d\n",
    "\n"
   ]
  },
  {
   "cell_type": "code",
   "execution_count": 126,
   "metadata": {
    "collapsed": false
   },
   "outputs": [
    {
     "name": "stdout",
     "output_type": "stream",
     "text": [
      "oo\n",
      "loves\n",
      "sevol\n",
      "qoo loves oop\n",
      "qoo loves oop\n",
      "poo sevol ooq\n"
     ]
    }
   ],
   "source": [
    "a = 'qoo loves oop'\n",
    "print a[1:3] # for(i = 1; i< 3; i++)\n",
    "print a[4:9] # for(i = 4; i< 9; i++)\n",
    "print a[8:3:-1] # for(i = 8; i> 4; i--)\n",
    "\n",
    "print a\n",
    "print a[::1]\n",
    "print a[::-1] "
   ]
  },
  {
   "cell_type": "code",
   "execution_count": 129,
   "metadata": {
    "collapsed": false
   },
   "outputs": [
    {
     "name": "stdout",
     "output_type": "stream",
     "text": [
      "desserts\n",
      "True\n"
     ]
    }
   ],
   "source": [
    "a = 'stressed'\n",
    "print a[::-1]\n",
    "\n",
    "a = 'redivider'\n",
    "print a == a[::-1]"
   ]
  },
  {
   "cell_type": "code",
   "execution_count": 131,
   "metadata": {
    "collapsed": false
   },
   "outputs": [
    {
     "name": "stdout",
     "output_type": "stream",
     "text": [
      "11\n",
      "hello worldyoyo\n"
     ]
    }
   ],
   "source": [
    "a = 'hello world'\n",
    "print len(a)\n",
    "print a + 'yoyo'"
   ]
  },
  {
   "cell_type": "code",
   "execution_count": 133,
   "metadata": {
    "collapsed": false
   },
   "outputs": [
    {
     "name": "stdout",
     "output_type": "stream",
     "text": [
      "my age is 30\n"
     ]
    }
   ],
   "source": [
    "age = 30\n",
    "print \"my age is \" + str(age)"
   ]
  },
  {
   "cell_type": "code",
   "execution_count": 136,
   "metadata": {
    "collapsed": false
   },
   "outputs": [
    {
     "name": "stdout",
     "output_type": "stream",
     "text": [
      "this is a string \t with format \n",
      " this is a new line\n",
      "this is a string \\t with format \\n this is a new line\n",
      "'this is a string \\t with format \\n this is a new line'\n"
     ]
    }
   ],
   "source": [
    "a = 'this is a string \\t with format \\n this is a new line'\n",
    "print a\n",
    "\n",
    "a = r'this is a string \\t with format \\n this is a new line'\n",
    "print a\n",
    "\n",
    "\n",
    "a = repr('this is a string \\t with format \\n this is a new line')\n",
    "print a"
   ]
  },
  {
   "cell_type": "code",
   "execution_count": 4,
   "metadata": {
    "collapsed": true
   },
   "outputs": [
    {
     "name": "stdout",
     "output_type": "stream",
     "text": [
      "<!DOCTYPE html>\n",
      "<!--[if lt IE 7 ]> <html lang=\"zh-TW\" class=\"ie6 ielt8\"> <![endif]-->\n",
      "<!--[if IE 7 ]>    <html lang=\"zh-TW\" class=\"ie7 ielt8\"> <![endif]-->\n",
      "<!--[if IE 8 ]>    <html lang=\"zh-TW\" class=\"ie8\"> <![endif]-->\n",
      "<!--[if (gte IE 9)|!(IE)]><!--> <html lang=\"zh-TW\"> <!--<![endif]-->\n",
      "<head>\n",
      "  <meta charset=\"utf-8\" />\n",
      "  <title>蘋果即時新聞｜蘋果日報｜Apple Daily</title>\n",
      "  <meta name=\"description\" content=\"蘋果日報網站提供即時、快速、豐富的最新時事動態，包含國際、社會、娛樂、政治、生活、財經等最新訊息，並為您搜奇地球村萬象與趣聞，強調有圖有真相、影片最明白，讓您時時刻刻掌握天下事！\" />\n",
      "  <meta name=\"keywords\" content=\"蘋果日報,Apple Daily,台灣,壹傳媒,Apple, Animation news, Action News, Apple news, news,蘋果,即時,最新,蘋果新聞,新聞,壹週刊,壹電視,動新聞,即時新聞,Facebook,臉書,蘋果粉絲團,plurk,twitter,留言,分享,按讚,天氣,影音新聞,影片,影音,行動版,手機,App,Android,iphone,Mango,爆料,投稿,發票,統一發票,RSS,生活,國際,娛樂,體育,副刊,財經,股市,樂透,威力彩,社會,熱門,彩券,頭彩\" />\n",
      "  <meta property=\"og:title\" content=\"蘋果即時新聞｜蘋果日報｜Apple Daily\"/>\n",
      "  <meta property=\"og:image\" content=\"http://twimg.edgesuite.net/appledaily/images/core/logo_bg.png\"/>\n",
      "  <meta property=\"og:description\" content=\"蘋果日報網站提供即時、快速、豐富的最新時事動態，包含國際、社會、娛樂、政治、生活、財經等最新訊息，並為您搜奇地球村萬象與趣聞，強調有圖有真相、影片最明白，讓您時時刻刻掌握天下事！\"/>\n",
      "  <link rel=\"shortcut icon\" href=\"http://twimg.edgesuite.net/appledaily/pinsite/64x64.ico\">\n",
      "  <link rel=\"shortcut icon\" type=\"image/x-icon\" href=\"http://twimg.edgesuite.net/appledaily/pinsite/64x64.ico\">\n",
      "  <link rel=\"icon\" type=\"image/ico\" href=\"http://twimg.edgesuite.net/appledaily/pinsite/64x64.ico\">\n",
      "  <link rel=\"stylesheet\" href=\"http://twimg.edgesuite.net/appledaily/images/css/style.css\">\n",
      "  <link rel=\"stylesheet\" href=\"http://twimg.edgesuite.net/appledaily/images/css/modules.css\">\n",
      "  <link rel=\"stylesheet\" href=\"http://twimg.edgesuite.net/appledaily/images/css/rtnewslist.css\" />\n",
      "  <link rel=\"stylesheet\" href=\"http://twimg.edgesuite.net/appledaily/style.css\" />\n",
      "  <link rel=\"stylesheet\" href=\"http://twimg.edgesuite.net/appledaily/images/css/realtimenews.css\" />\n",
      "  <script src=\"http://twimg.edgesuite.net/www/js/html5.js\"></script>\n",
      "  <script src=\"http://twimg.edgesuite.net/appledaily/images/js/jquery-1.7.2.min.js\"></script>\n",
      "  <script type=\"text/javascript\" src=\"http://twimg.edgesuite.net/appledaily/images/js/iepngfix.js\"></script>\n",
      "  <script type=\"text/javascript\" src=\"http://twimg.edgesuite.net/appledaily/images/js/jquery.ifixpng.js\"></script>\n",
      "  <script type=\"text/javascript\" language=\"JavaScript\" src=\"http://twimg.edgesuite.net/adx/gpt.js\"></script>\n",
      "  <script type=\"text/javascript\" language=\"JavaScript\" src=\"http://twimg.edgesuite.net/appledaily/images/js/OneAD_Realtime_v1.js\"></script>\n",
      "  <link rel=\"stylesheet\" href=\"http://twimg.edgesuite.net/appledaily/images/js/owlcarousel/owl.carousel.css\">\n",
      "  <link rel=\"stylesheet\" href=\"http://twimg.edgesuite.net/appledaily/images/js/owlcarousel/carousel-layout.css\">\n",
      "  <link rel=\"stylesheet\" href=\"http://twimg.edgesuite.net/appledaily/images/js/owlcarousel/assets/css/animate-custom.css\">\n",
      "  <script src=\"http://twimg.edgesuite.net/appledaily/images/js/owlcarousel/owl.carousel.fix.js\"></script>\n",
      "  <script type=\"text/javascript\" src=\"http://twimg.edgesuite.net/appledaily/images/js/appledaily-detectmobilebrowser.js\"></script>\n",
      "  <script>        \n",
      "        if (ONEAD){\n",
      "            ONEAD.uid = \"1000001\";\n",
      "            ONEAD.external_url = \"http://advideoadmin.appledaily.com.tw/\"; // base_url, post-slash is necessary\n",
      "            ONEAD.wrapper = 'ONEAD_player_wrapper';\n",
      "            ONEAD.category = '2-realtimenews_b';\n",
      "            ONEAD.display_type = 'inpage'; // inpage | instream\n",
      "        }\n",
      "        if (typeof window.isip_js == \"undefined\") {\n",
      "                (function() {\n",
      "                var src = 'http://ad-specs.guoshipartners.com/static/js/isip.v2.js';\n",
      "                var js = document.createElement('script');\n",
      "                js.async = true;\n",
      "                js.type = 'text/javascript';\n",
      "                var useSSL = 'https:' == document.location.protocol;\n",
      "                js.src = src;\n",
      "                var node = document.getElementsByTagName('script')[0];\n",
      "                node.parentNode.insertBefore(js, node.nextSibling); // insert after\n",
      "                })();\n",
      "        }\n",
      "  </script>\n",
      "  <script type=\"text/javascript\" src=\"http://twimg.edgesuite.net/applemobile/js/jquery.cookie.js\"></script>\n",
      "  <script type=\"text/javascript\" src=\"http://twimg.edgesuite.net/appledaily/images/js/GeoApi.js\"></script>\n",
      "  <script>\n",
      "        googletag.cmd.push(function() {\n",
      "            var mappingHeadBanner = googletag.sizeMapping().addSize([0, 0], [ [970,90], [970,250] ]).build();\n",
      "            var mappingLREC1 = googletag.sizeMapping().addSize([0, 0], [ [300,250], [300,600] ]).build();\n",
      "            HeadBanner = gpt.createAdSlot('AppleDaily/realtimenews_new_index/HeadBanner', 'HeadBanner', 'leaderboard', GeoDFP).defineSizeMapping(mappingHeadBanner).setCollapseEmptyDiv(true);\n",
      "            LREC1 = gpt.createAdSlot('AppleDaily/realtimenews_new_index/LREC1', 'LREC', 'rectangleAD1', GeoDFP).defineSizeMapping(mappingLREC1).setCollapseEmptyDiv(true);\n",
      "            LREC2 = gpt.createAdSlot('AppleDaily/realtimenews_new_index/LREC2', 'LREC', 'rectangleAD2', GeoDFP);\n",
      "            W1 = gpt.createAdSlot('AppleDaily/realtimenews_new_index/Wallpaper1', '150x800', 'door-left', GeoDFP);\n",
      "            W2 = gpt.createAdSlot('AppleDaily/realtimenews_new_index/Wallpaper2', '150x800', 'door-right', GeoDFP);\n",
      "            BottomBanner = gpt.createAdSlot('AppleDaily/realtimenews_new_index/BottomBanner', '1x1', 'div-ad-bottom', GeoDFP);\n",
      "            Minibar = gpt.createAdSlot('AppleDaily/realtimenews_new_index/minibar', '640x90', 'minibar', GeoDFP);\n",
      "            gpt.enableServices();\n",
      "        });                \n",
      "  </script>\n",
      "</head>\n",
      "<body id=\"article\" class=\"all\">\n",
      "    <div class=\"wrapper\">\n",
      "        <div class=\"sqrezeer\">\n",
      "            <script>\n",
      "  var _comscore = _comscore || [];\n",
      "  _comscore.push({ c1: \"2\", c2: \"8028476\" });\n",
      "  (function() {\n",
      "    var s = document.createElement(\"script\"), el = document.getElementsByTagName(\"script\")[0]; s.async = true;\n",
      "    s.src = (document.location.protocol == \"https:\" ? \"https://sb\" : \"http://b\") + \".scorecardresearch.com/beacon.js\";\n",
      "    el.parentNode.insertBefore(s, el);\n",
      "  })();\n",
      "</script>\n",
      "<noscript>\n",
      "  <img src=\"http://b.scorecardresearch.com/p?c1=2&c2=8028476&cv=2.0&cj=1\" />\n",
      "</noscript>\n",
      "\n",
      "<!-- 1X1 -->\n",
      "<script type=\"text/javascript\" src=\"http://imp.nextmedia.com/js/nxm_tr_v16.js\"></script>\n",
      "<script type=\"text/javascript\" src=\"http://twimg.edgesuite.net/appledaily/images/js/1x1/fingerprint.js\"></script>\n",
      "<script>\n",
      "    nxmTrack.nxmAddSeg(\"REGION=TW\");\n",
      "    nxmTrack.nxmAddSeg(\"PROD=ADAILY\");\n",
      "    nxmTrack.nxmAddSeg(\"SITE=www.appledaily.com.tw\"); \n",
      "    nxmTrack.nxmAddSeg(\"CH=APPLEDAILY\");\n",
      "    nxmTrack.nxmAddSeg(\"SECTION=REAL\");\n",
      "    nxmTrack.nxmAddSeg(\"MENU=\"); \n",
      "    nxmTrack.nxmAddSeg(\"TITLE=\");\n",
      "    nxmTrack.nxmAddSeg(\"SUBSECT=new\");\n",
      "    nxmTrack.nxmAddSeg(\"SUBSUBSECT=new\"); \n",
      "    nxmTrack.nxmAddSeg(\"MEDIA=TEXT\");\n",
      "    nxmTrack.nxmAddSeg(\"CONTENT=INDEX\"); \n",
      "    nxmTrack.nxmAddSeg(\"ISSUEID=\"); \n",
      "    nxmTrack.nxmAddSeg(\"CID=new\"); \n",
      "    nxmTrack.nxmAddSeg(\"NEWS=REALTIME\"); \n",
      "    nxmTrack.nxmAddSeg(\"PLATFORM=WEB\"); \n",
      "    nxmTrack.nxmAddSeg(\"EDM=MOST\");\n",
      "    nxmTrack.nxmAddSeg(\"VERSION=\");\n",
      "    nxmTrack.nxmAddSeg(\"DEVICE=\");\n",
      "    nxmTrack.nxmAddSeg(\"ACTION=PAGEVIEW\");\n",
      "    var ngs_id = nxmTrack.readCookie('ngs_id');\n",
      "    if (ngs_id == null) ngs_id = '';\n",
      "    nxmTrack.nxmAddSeg('NGSID=' + ngs_id);\n",
      "\n",
      "    $(document).ready(function() {\n",
      "        nxmTrack.nxmSendPageDepth(0, new Date().getTime());\n",
      "\n",
      "        //Scroll up/down tracking depth\n",
      "        var trackRecords = [];\n",
      "        $(window).scroll(function() {\n",
      "            var scrollPercent = getPageScrollPercent();\n",
      "            if (scrollPercent >= 25 && trackRecords.indexOf(\"25\") == -1) {\n",
      "                trackRecords.push(\"25\");\n",
      "                nxmTrack.nxmSendPageDepth(25, new Date().getTime());\n",
      "            } else if (scrollPercent >= 50 && trackRecords.indexOf(\"50\") == -1) {\n",
      "                trackRecords.push(\"50\");\n",
      "                nxmTrack.nxmSendPageDepth(50, new Date().getTime());\n",
      "            } else if (scrollPercent >= 75 && trackRecords.indexOf(\"75\") == -1) {\n",
      "                trackRecords.push(\"75\");\n",
      "                nxmTrack.nxmSendPageDepth(75, new Date().getTime());\n",
      "            } else if (scrollPercent == 100 && trackRecords.indexOf(\"100\") == -1) {\n",
      "                trackRecords.push(\"100\");\n",
      "                nxmTrack.nxmSendPageDepth(100, new Date().getTime());\n",
      "            }\n",
      "        });\n",
      "        function getPageScrollPercent() {\n",
      "            var bottom = $(window).height() + $(window).scrollTop();\n",
      "            var height = $(document).height();\n",
      "            return Math.round(100 * bottom / height);\n",
      "        }\n",
      "    });\n",
      "     \n",
      "</script>\n",
      "\n",
      "<style>\n",
      "    #door {position:relative; width:970px; margin-top:45px;}\n",
      "    #door-left{position:absolute;left:-155px;}\n",
      "    #door-right{position:absolute;right:-155px;}\n",
      "    #ypv {float:right;margin:-71px 400px 0px 0px;}\n",
      "    #ypv a {color:#055b94}\n",
      "    .nypv {background: url('http://twimg.edgesuite.net/appledaily/images/core/iconset.png') 0px -41px no-repeat;display: inline-block;color: #055b94;width:14px;height:12px;}\n",
      "    #corpnav a {padding: 0 8px 0 8px;}\n",
      "    a.mc {left:580px;}\n",
      "</style>\n",
      "<header id=\"globehead\">\n",
      "    <div class=\"sqzer\">\n",
      "        <hgroup>\n",
      "            <h2 class=\"nlogo\"><a href=\"http://www.nextdigital.com.hk/investor/\" class=\"nextmedia overcooked\">This is a part of NextMedia</a></h2>\n",
      "            <h1 class=\"rlogo\"><a href=\"/realtimenews\" class=\"overcooked\">蘋果日報 | APPLE DAILY</a></h1>\n",
      "        </hgroup>\n",
      "        <nav id=\"corpnav\">\n",
      "            <a href=\"http://epl.appledaily.com.tw/\" class=\"opacity first\" target=\"_blank\"><img src=\"http://twimg.edgesuite.net/appledaily/images/core/logo_menubar.gif\" alt=\" 蘋果足球\" /></a>\n",
      "            <a href=\"/\" class=\"opacity \" target=\"_blank\"><img src=\"http://twimg.edgesuite.net/appledaily/images/core/menu_AppleDaily.png\" alt=\" 蘋果日報\" /></a>            \n",
      "            <a href=\"http://www.applelive.com.tw/livechannel/\" class=\"opacity\" target=\"_blank\"><img src=\"http://twimg.edgesuite.net/appledaily/images/core/applelive.gif\" alt=\" 蘋果Live\" /></a>\n",
      "            <a href=\"/animation/\" class=\"opacity\" target=\"_blank\"><img src=\"http://twimg.edgesuite.net/appledaily/images/core/menu_AnimatedNews.png\" alt=\" 動新聞\" /></a>\n",
      "            <a href=\"http://sharpdaily.tw/\" class=\"opacity\" target=\"_blank\"><img src=\"http://twimg.edgesuite.net/appledaily/images/core/menu_SharpDaily.png\" alt=\"爽報\" /></a>\n",
      "            <a href=\"http://www.nextmag.com.tw/\" class=\"opacity\" target=\"_blank\"><img src=\"http://twimg.edgesuite.net/appledaily/images/core/menu_NextMag.png\" alt=\"壹週刊\" /></a>\n",
      "            <a href=\"http://www.eat-travel.com.tw/\" class=\"opacity\" target=\"_blank\"><img src=\"http://twimg.edgesuite.net/appledaily/images/core/menu_eatintravel.png\" alt=\"飲食男女\" /></a>\n",
      "            <a href=\"http://tw.tomonews.net/\" class=\"opacity\" target=\"_blank\"><img src=\"http://twimg.edgesuite.net/appledaily/images/core/menu_tomonews_s.png\" alt=\"Tomonews\"/></a>           \n",
      "            <a href=\"https://www.youtube.com/user/twappledaily/\" class=\"opacity last\" target=\"_blank\"><img src=\"http://twimg.edgesuite.net/appledaily/images/core/menu_youtube.png\" alt=\"youtube\" /></a>\n",
      "\n",
      "        </nav>\n",
      "                <section id=\"worldwide\">\n",
      "            <a href=\"http://www.twnextdigital.com/\" class=\"tw on\">台灣&nbsp;</a>\n",
      "            <a href=\"http://www.nextdigital.com.hk/\" class=\"hk\">香港&nbsp;</a>\n",
      "        </section>\n",
      "        <section id=\"ypv\">\n",
      "            <a href=\"http://www.nextdigital.com.hk/investor/\" target=\"_blank\"><span class=\"nypv\"></span><span>昨日瀏覽量&nbsp;:&nbsp;</span><span id=\"pv\"></span></a>\n",
      "        </section>\n",
      "        <div style=\"clear:both\"></div>\n",
      "        <section id=\"corpgs\">\n",
      "            <a href=\"/ethics/index.html\" class=\"mc\" target=\"_blank\">蘋果日報自律委員會</a>\n",
      "            <a class=\"fund\" href=\"/charity\" target=\"_blank\" style=\"background-image:url('http://twimg.edgesuite.net/appledaily/images/core/foundation_top.png');width:65px;height:14px;margin-left:720px\"></a>\n",
      "            <a href=\"http://www.nextdigital.com.hk/investor/\" class=\"nxlik\" target=\"_blank\"><span class=\"nh overcooked\">Nextmedia</span></a>\n",
      "        </section>\n",
      "                    <section id=\"door\">\n",
      "                <div id=\"door-left\"><script type='text/javascript'>googletag.cmd.push(function() {googletag.display('door-left');})</script></div>\n",
      "                <div id=\"door-right\"><script type='text/javascript'>googletag.cmd.push(function() {googletag.display('door-right');})</script></div>\n",
      "            </section>\n",
      "            </div>\n",
      "</header>\n",
      "<style>\n",
      "    .navlv2 {width: 88px;}\n",
      "    .rsearch {border-right:0px}\n",
      "    #newnav .boomed a,#newnav .boom a:hover {background-color:#EC7F27;color: #FFFFFF;}\n",
      "    #newnav .new a:hover,#newnav .newed a {background:#D50404}\n",
      "</style>\n",
      "<nav id=\"realnav\" >\n",
      "    <div id=\"newnav\">\n",
      "        <ul>\n",
      "            <li class=\"newed navlv2 nav1line\"><a title=\"最新\" href=\"/realtimenews/section/new/\">最新</a></li>\n",
      "            <li class=\"recommend navlv2 nav1line\"><a title=\"焦點\" href=\"/realtimenews/section/recommend/\">焦點</a></li>\n",
      "            <li class=\"hot navlv2 nav1line\"><a title=\"熱門\" href=\"/realtimenews/section/hot/\">熱門</a></li>\n",
      "            <li class=\"boom navlv2 nav1line\"><a title=\"爆社\" href=\"http://www.appledaily.com.tw/complainevent\" target=\"_blank\">爆社</a></li>\n",
      "            <li class=\"zoo navlv2 nav1line\"><a title=\"動物\" href=\"/realtimenews/section/animal/\">動物</a></li>\n",
      "            <li class=\"fun navlv2 nav1line\"><a title=\"FUN\" href=\"/realtimenews/section/fun/\">FUN</a></li>\n",
      "            <li class=\"ccc navlv2 nav1line\"><a title=\"3C\" href=\"/realtimenews/section/3c/\">瘋啥</a></li>\n",
      "            <li class=\"rsea navlv2 nav1line\"><a title=\"搜奇\" href=\"/realtimenews/section/strange/\">搜奇</a></li>\n",
      "            <li class=\"video navlv2 nav1line\"><a title=\"影片\" href=\"/realtimenews/section/video/\">影片</a></li>\n",
      "            <li class=\"hotg navlv2 nav1line\"><a title=\"正妹\" href=\"/realtimenews/section/beauty/\">正妹</a></li>\n",
      "            <li class=\"sport navlv2 nav1line\"><a title=\"體育\" href=\"/realtimenews/section/sports/\">體育</a></li>\n",
      "            <li class=\"enter navlv2\"><a title=\"娛樂\" href=\"/realtimenews/section/entertainment/\">娛樂</a></li>\n",
      "            <li class=\"fashion navlv2\"><a title=\"時尚\" href=\"/realtimenews/section/fashion/\">時尚</a></li>\n",
      "            <li class=\"life navlv2\"><a title=\"生活\" href=\"/realtimenews/section/life/\">生活</a></li>\n",
      "            <li class=\"soci navlv2\"><a title=\"社會\" href=\"/realtimenews/section/local/\">社會</a></li>\n",
      "            <li class=\"inter navlv2\"><a title=\"國際\" href=\"/realtimenews/section/international/\">國際</a></li>\n",
      "            <li class=\"business navlv2\"><a title=\"財經\" href=\"/realtimenews/section/finance/\">財經</a></li>\n",
      "            <li class=\"house navlv2\"><a title=\"地產\" href=\"/realtimenews/section/property/\">地產</a></li>\n",
      "            <li class=\"polit navlv2\"><a title=\"政治\" href=\"/realtimenews/section/politics/\">政治</a></li>\n",
      "            <li class=\"blog navlv2\"><a title=\"論壇\" href=\"/realtimenews/section/forum/\">論壇</a></li>\n",
      "            <li class=\"forum navlv2\"><a title=\"陣線\" href=\"/realtimenews/forum/\">陣線</a></li>\n",
      "            <li class=\"rsearch\">\n",
      "                <form name=\"searchform\" id=\"searchform\" action=\"http://search.appledaily.com.tw/appledaily/search\" method=\"POST\">\n",
      "                  <input type=\"hidden\" name=\"searchType\" value=\"text\">\n",
      "                  <input type=\"hidden\" name=\"searchMode\" value=\"Sim\">\n",
      "                  <input type=\"text\" name=\"querystrS\" id=\"search\" class=\"rsbox\" />\n",
      "                  <input type=\"submit\" value=\"\" class=\"rsbtn\" />\n",
      "                </form>\n",
      "            </li>\n",
      "            <div style=\"clear:both\"></div>\n",
      "        </ul>\n",
      "    </div>\n",
      "</nav>            \n",
      "            <div class=\"soil\">\n",
      "                <div id=\"div-incover-ad\">\n",
      "                    <script type=\"text/javascript\">\n",
      "                        if (typeof(ONEAD) !== \"undefined\"){\n",
      "                            ONEAD.cmd = ONEAD.cmd || [];\n",
      "                            ONEAD.cmd.push(function(){\n",
      "                                ONEAD_slot('div-incover-ad', 'incover');\n",
      "                                console.log('incover');\n",
      "                            });\n",
      "                        }\n",
      "                    </script>\n",
      "                 </div>\n",
      "              <section id=\"leaderboard\" class=\"ads\"><script type='text/javascript'>googletag.cmd.push(function() {googletag.display('leaderboard');})</script></section>\n",
      "              <article id=\"maincontent\" class=\"vertebrae\">\n",
      "                  <style>#hotnewsbox{ background:url(\"http://twimg.edgesuite.net/appledaily/images/yellow_news.gif\") no-repeat; height:36px; padding:14px 0 0 134px}</style>                    <script type=\"text/javascript\" src=\"http://twimg.edgesuite.net/appledaily/images/js/jquery.textslider.min.js\"></script>\n",
      "                    <style>\n",
      "                        .slideText { position: relative; overflow: hidden; height: 32px; }\n",
      "                        .slideText ul, .slideText li {margin: 0;padding: 0;list-style: none;}\n",
      "                        .slideText ul {position: absolute;}\n",
      "                        .slideText li a {font-size:20px;color:#000000;display: block;overflow: hidden;height: 30px;line-height: 25px;text-decoration: none;}\n",
      "                        .slideText li a:hover {text-decoration: underline;}\n",
      "                        #hotnewsbox2 {background: url(\"http://twimg.edgesuite.net/appledaily/images/red_recommend.gif\") no-repeat;height: 36px;padding: 14px 0 0 195px;}\n",
      "                    </style>\n",
      "                    <script type=\"text/javascript\">\n",
      "                      $(document).ready(function(){\n",
      "                          $('.slideText').textslider({\n",
      "                              direction : 'scrollUp',\n",
      "                              scrollNum : 1,\n",
      "                              scrollSpeed : 800,\n",
      "                              pause : 3200\n",
      "                          });\n",
      "                      });\n",
      "                    </script>\n",
      "                    <div id=\"hotnewsbox\">\n",
      "                        <div class=\"slideText\">\n",
      "                            <ul>\n",
      "                                <li><a href=\"/realtimenews/article/politics/20151104/725314/\" #>【幕後】馬習會在新加坡舉行　馬總統提議的</a></li>                            </ul>\n",
      "                        </div>\n",
      "                    </div>\n",
      "                  \n",
      "                  <div class=\"thoracis\">\n",
      "                    <style>\n",
      "                          /* firewire */\n",
      "                          .firewire-container {width: 650px; height: 100px; overflow: hidden; margin-bottom: 10px;}\n",
      "                          #firewire .item {width: 650px;  height: 100px;  background: #dddddd url(http://twimg.edgesuite.net/appledaily/images/js/owlcarousel/ajax-loader.gif) center center no-repeat;}\n",
      "                          #firewire .item a {width: 100%; height: 100%;  display: block;}\n",
      "                          #firewire .item img {display: block; border: none;}\n",
      "                          /* override */\n",
      "                          #splash { margin-bottom: 10px;}\n",
      "                        .hotkeynews {background-color:#e0e0e0}\n",
      "                        .hotkeynews time {color:#ff534f}\n",
      "                        .hotkeynews li {background-color:white;margin-bottom:2px;}\n",
      "                        .topheaddr {background:#cc0000;height:40px;position:relative;margin-top:-15px}\n",
      "                        .topheadrr {width:134px;height:40px;background:#ff1a14;float:left;}\n",
      "                        .topheadrr h1 {display:block;font-size:16px;color:white;padding:12px 0px 0px 19px;}\n",
      "                        .topheaddr time {float:right;color:white;padding:13px 19px 0px 0px;}\n",
      "                        .botlinerr {background:#cc0000;height:5px}\n",
      "                        .botlinedr {width:134px;height:5px;background:#ff1a14}\n",
      "                        .dddd {margin: 0.65em 0 0.65em;}\n",
      "                    </style>\n",
      "                    <section id=\"splash\">\n",
      "                        <div id=\"carousel\">\n",
      "                                                            <div class=\"item\">\n",
      "                                    <a href=\"/realtimenews/article/local/20151104/725285/\" target=\"_blank\">\n",
      "                                      <img  class=\"owl-lazy\" src=\"data:image/gif;base64,R0lGODlhAQABAIAAAAAAAP///yH5BAEAAAAALAAAAAABAAEAAAIBRAA7\" data-src=\"http://twimg.edgesuite.net/images/thumbnail/other/77030dea4faf7b8455b71d2cd2aae377.jpg\" alt=\"【賣淫名單曝光】38位賣淫女星　花名冊全曝光\" tcode=\"【賣淫名單曝光】38位賣淫女星　花名冊全曝光\"/>\n",
      "                                                                          </a>\n",
      "                                </div>\n",
      "                                                            <div class=\"item\">\n",
      "                                    <a href=\"/realtimenews/article/recommend/20151104/725235/\" target=\"_blank\">\n",
      "                                      <img  class=\"owl-lazy\" src=\"data:image/gif;base64,R0lGODlhAQABAIAAAAAAAP///yH5BAEAAAAALAAAAAABAAEAAAIBRAA7\" data-src=\"http://twimg.edgesuite.net/images/thumbnail/other/c698b6a775cb963ebf42fce6af9ae1ec.jpg\" alt=\"【賣淫名單曝光】L女星最大咖　亞洲知名度超高\" tcode=\"【賣淫名單曝光】L女星最大咖　亞洲知名度超高\"/>\n",
      "                                                                          </a>\n",
      "                                </div>\n",
      "                                                            <div class=\"item\">\n",
      "                                    <a href=\"/realtimenews/article/life/20151104/725231\" target=\"_blank\">\n",
      "                                      <img  class=\"owl-lazy\" src=\"data:image/gif;base64,R0lGODlhAQABAIAAAAAAAP///yH5BAEAAAAALAAAAAABAAEAAAIBRAA7\" data-src=\"http://twimg.edgesuite.net/images/thumbnail/other/2e135a2979a84663d7ef3ad6a06cdbfc.jpg\" alt=\"不賠終改口　三商美邦軟化原因曝光\" tcode=\"不賠終改口　三商美邦軟化原因曝光\"/>\n",
      "                                                                          </a>\n",
      "                                </div>\n",
      "                                                            <div class=\"item\">\n",
      "                                    <a href=\"/realtimenews/article/local/20151104/725177/\" target=\"_blank\">\n",
      "                                      <img  class=\"owl-lazy\" src=\"data:image/gif;base64,R0lGODlhAQABAIAAAAAAAP///yH5BAEAAAAALAAAAAABAAEAAAIBRAA7\" data-src=\"http://twimg.edgesuite.net/images/thumbnail/other/8b809adde3a1007c74dffcb59a9b9ac5.jpg\" alt=\"一線女星捲入跨國賣淫案　檢警掌握18富豪38藝人涉案\" tcode=\"一線女星捲入跨國賣淫案　檢警掌握18富豪38藝人涉案\"/>\n",
      "                                                                          </a>\n",
      "                                </div>\n",
      "                                                            <div class=\"item\">\n",
      "                                    <a href=\"/realtimenews/article/local/20151104/725308/\" target=\"_blank\">\n",
      "                                      <img  class=\"owl-lazy\" src=\"data:image/gif;base64,R0lGODlhAQABAIAAAAAAAP///yH5BAEAAAAALAAAAAABAAEAAAIBRAA7\" data-src=\"http://twimg.edgesuite.net/images/thumbnail/other/e813ee9eb03a89def8b03cc7f0c74261.jpg\" alt=\"【賣淫名單曝光】18買春大亨　名單看這裡\" tcode=\"【賣淫名單曝光】18買春大亨　名單看這裡\"/>\n",
      "                                                                          </a>\n",
      "                                </div>\n",
      "                                                            <div class=\"item\">\n",
      "                                    <a href=\"/realtimenews/article/local/20151104/725267/\" target=\"_blank\">\n",
      "                                      <img  class=\"owl-lazy\" src=\"data:image/gif;base64,R0lGODlhAQABAIAAAAAAAP///yH5BAEAAAAALAAAAAABAAEAAAIBRAA7\" data-src=\"http://twimg.edgesuite.net/images/thumbnail/other/98b97de1091bdb580056df41df281229.jpg\" alt=\"【賣淫名單曝光】除ZSLW　1C2Y女星也中槍\" tcode=\"【賣淫名單曝光】除ZSLW　1C2Y女星也中槍\"/>\n",
      "                                                                          </a>\n",
      "                                </div>\n",
      "                                                            <div class=\"item\">\n",
      "                                    <a href=\"/realtimenews/article/sports/20151104/725291/\" target=\"_blank\">\n",
      "                                      <img  class=\"owl-lazy\" src=\"data:image/gif;base64,R0lGODlhAQABAIAAAAAAAP///yH5BAEAAAAALAAAAAABAAEAAAIBRAA7\" data-src=\"http://twimg.edgesuite.net/images/thumbnail/other/c2603d0d20b2ba96630c34cfcd9d56ea.jpg\" alt=\"美媒：洋基鎖定陳偉殷\" tcode=\"美媒：洋基鎖定陳偉殷\"/>\n",
      "                                                                          </a>\n",
      "                                </div>\n",
      "                                                            <div class=\"item\">\n",
      "                                    <a href=\"/realtimenews/article/recommend/20151104/725243\" target=\"_blank\">\n",
      "                                      <img  class=\"owl-lazy\" src=\"data:image/gif;base64,R0lGODlhAQABAIAAAAAAAP///yH5BAEAAAAALAAAAAABAAEAAAIBRAA7\" data-src=\"http://twimg.edgesuite.net/images/thumbnail/other/45e29a7ec486c19441db580e919dbcc5.jpg\" alt=\"【賣淫名單曝光】一線女星C女　電影走紅中國撈錢\" tcode=\"【賣淫名單曝光】一線女星C女　電影走紅中國撈錢\"/>\n",
      "                                                                          </a>\n",
      "                                </div>\n",
      "                                                            <div class=\"item\">\n",
      "                                    <a href=\"/realtimenews/article/international/20151104/725246\" target=\"_blank\">\n",
      "                                      <img  class=\"owl-lazy\" src=\"data:image/gif;base64,R0lGODlhAQABAIAAAAAAAP///yH5BAEAAAAALAAAAAABAAEAAAIBRAA7\" data-src=\"http://twimg.edgesuite.net/images/thumbnail/other/58d523cc8376bf767700833eefa43f98.jpg\" alt=\"張志軍稱馬習會根據一中原則　兩岸領導人會面\" tcode=\"張志軍稱馬習會根據一中原則　兩岸領導人會面\"/>\n",
      "                                                                          </a>\n",
      "                                </div>\n",
      "                                                            <div class=\"item\">\n",
      "                                    <a href=\"/realtimenews/article/recommend/20151104/725257/\" target=\"_blank\">\n",
      "                                      <img  class=\"owl-lazy\" src=\"data:image/gif;base64,R0lGODlhAQABAIAAAAAAAP///yH5BAEAAAAALAAAAAABAAEAAAIBRAA7\" data-src=\"http://twimg.edgesuite.net/images/thumbnail/other/7cf5b09d6cebc833c5199509ca3bb4ae.jpg\" alt=\"台鐵龜山頭城段土牆坍塌淹水 北迴線不通\" tcode=\"台鐵龜山頭城段土牆坍塌淹水 北迴線不通\"/>\n",
      "                                                                          </a>\n",
      "                                </div>\n",
      "                                                            <div class=\"item\">\n",
      "                                    <a href=\"/realtimenews/article/international/20151104/725238/\" target=\"_blank\">\n",
      "                                      <img  class=\"owl-lazy\" src=\"data:image/gif;base64,R0lGODlhAQABAIAAAAAAAP///yH5BAEAAAAALAAAAAABAAEAAAIBRAA7\" data-src=\"http://twimg.edgesuite.net/images/thumbnail/other/27696dc718fc2f320618948349869210.jpg\" alt=\" 白宮評馬習會 「先看看會議談出什麼」\" tcode=\" 白宮評馬習會 「先看看會議談出什麼」\"/>\n",
      "                                                                          </a>\n",
      "                                </div>\n",
      "                                                            <div class=\"item\">\n",
      "                                    <a href=\"/realtimenews/article/politics/20151104/725279/\" target=\"_blank\">\n",
      "                                      <img  class=\"owl-lazy\" src=\"data:image/gif;base64,R0lGODlhAQABAIAAAAAAAP///yH5BAEAAAAALAAAAAABAAEAAAIBRAA7\" data-src=\"http://twimg.edgesuite.net/images/thumbnail/other/b95f6034a317e070c8c935f7a93b2f6a.jpg\" alt=\"馬習會周六1500登場　雙方共進晚餐\" tcode=\"馬習會周六1500登場　雙方共進晚餐\"/>\n",
      "                                                                          </a>\n",
      "                                </div>\n",
      "                                                            <div class=\"item\">\n",
      "                                    <a href=\"/realtimenews/article/beauty/20151104/725150/\" target=\"_blank\">\n",
      "                                      <img  class=\"owl-lazy\" src=\"data:image/gif;base64,R0lGODlhAQABAIAAAAAAAP///yH5BAEAAAAALAAAAAABAAEAAAIBRAA7\" data-src=\"http://twimg.edgesuite.net/images/thumbnail/other/118479816acb9e5cbc86703970cd78ad.jpg\" alt=\"\" tcode=\"\"/>\n",
      "                                                                          </a>\n",
      "                                </div>\n",
      "                                                            <div class=\"item\">\n",
      "                                    <a href=\"/realtimenews/article/recommend/20151104/725152/\" target=\"_blank\">\n",
      "                                      <img  class=\"owl-lazy\" src=\"data:image/gif;base64,R0lGODlhAQABAIAAAAAAAP///yH5BAEAAAAALAAAAAABAAEAAAIBRAA7\" data-src=\"http://twimg.edgesuite.net/images/thumbnail/other/5e09171b3ad26530832adcc4f091bf83.jpg\" alt=\"人妻為賺錢　3年內每周與男屍做愛\" tcode=\"人妻為賺錢　3年內每周與男屍做愛\"/>\n",
      "                                                                          </a>\n",
      "                                </div>\n",
      "                                                            <div class=\"item\">\n",
      "                                    <a href=\"/realtimenews/article/politics/20151104/725314/\" target=\"_blank\">\n",
      "                                      <img  class=\"owl-lazy\" src=\"data:image/gif;base64,R0lGODlhAQABAIAAAAAAAP///yH5BAEAAAAALAAAAAABAAEAAAIBRAA7\" data-src=\"http://twimg.edgesuite.net/images/thumbnail/other/c0aeeacdea715cf910680d5c01ae265b.jpg\" alt=\"【幕後】馬習會在新加坡舉行　馬總統提議的\" tcode=\"【幕後】馬習會在新加坡舉行　馬總統提議的\"/>\n",
      "                                                                          </a>\n",
      "                                </div>\n",
      "                                                    </div>\n",
      "                        <div class=\"xPrev\">上一則</div>\n",
      "                        <div class=\"xNext\">下一則</div>\n",
      "                    </section>\n",
      "                    <!--十月圍城-->                    \n",
      "                    <script type=\"text/javascript\" src=\"http://twimg.edgesuite.net/property/js/jquery.carouFredSel-6.2.1.js\"></script>\n",
      "<style>\n",
      "#october {width:650px;height:200px;overflow:hidden;}\n",
      "#october .slidebox {width:650px;height:200px;}\n",
      "#october .slidebox .pics {float:left;width:650px;height:183px;overflow:hidden;margin:10px 2px 10px 2px;}\n",
      "#october .slidebox .pics img {max-width:650px;height:auto;}\n",
      "</style>\n",
      "      <div style=\"width:100%;margin-top:-10px;\"></div>\n",
      "      <div id=\"october\">          \n",
      "                          <div class=\"slidebox\">            \n",
      "                    <div class=\"pics\">\n",
      "                      <a href=\"http://goo.gl/hlOhaZ\" target=\"_blank\"><img src=\"http://twimg.edgesuite.net/appledaily/data/oct/3edf2508df1aef539d47fbba604905e8.jpg\" /></a>\n",
      "                    </div>\t\t\t\t           \n",
      "                </div>\n",
      "                                       <div class=\"slidebox\">            \n",
      "                    <div class=\"pics\">\n",
      "                      <a href=\"http://goo.gl/uilrxX\" target=\"_blank\"><img src=\"http://twimg.edgesuite.net/appledaily/data/oct/086039fa04355fea37680a97a59d6392.jpg\" /></a>\n",
      "                    </div>\t\t\t\t           \n",
      "                </div>\n",
      "                                       <div class=\"slidebox\">            \n",
      "                    <div class=\"pics\">\n",
      "                      <a href=\"http://goo.gl/Ku7VUG\" target=\"_blank\"><img src=\"http://twimg.edgesuite.net/appledaily/data/oct/16cef19432443d1a00404f61f85b3137.jpg\" /></a>\n",
      "                    </div>\t\t\t\t           \n",
      "                </div>\n",
      "                                       <div class=\"slidebox\">            \n",
      "                    <div class=\"pics\">\n",
      "                      <a href=\"http://goo.gl/YUDxVn\" target=\"_blank\"><img src=\"http://twimg.edgesuite.net/appledaily/data/oct/015d8efb8b1f260d1e10e6affc9a4f1b.jpg\" /></a>\n",
      "                    </div>\t\t\t\t           \n",
      "                </div>\n",
      "                                 \n",
      "      </div>\t\t\t\n",
      "<script type=\"text/javascript\">\n",
      "$(document).ready(function() {\n",
      "    $('#october').carouFredSel({\n",
      "        items: 1,\n",
      "        direction: \"up\",\n",
      "                infinite: true,\n",
      "                circular: true,\n",
      "        scroll: {\n",
      "                    items: 1,\n",
      "                    duration: 1250,\n",
      "                    timeoutDuration: 2500,\n",
      "                    easing: 'swing',\n",
      "                    pauseOnHover: 'immediate'   \n",
      "                },\n",
      "    });\n",
      "});\n",
      "</script>\t\t    \n",
      "                    <!--十月圍城-->                    \n",
      "                    <style>\n",
      "                        .realword {padding-top:5px;padding-bottom:30px;}\n",
      "                        .realword .link1 a {color:red;font-size:22px;font-weight:bold;}\n",
      "                        .realword .link1 {float:left;width:320px;text-align:center;}\n",
      "                        .rtddd .sp_ad {padding: 0.625em 20px;}\n",
      "                        .rtddd .sp_ad time {display: inline;font-size: 1em;margin-right: 20px;vertical-align: middle;}\n",
      "                        .rtddd .sp_ad h2 {background-color:#049000;display: inline;font-size: 1em;margin-right: 20px;vertical-align: middle;}\n",
      "                        .rtddd .sp_ad h1 {display: inline;}\n",
      "                        .rtddd .sp_ad h1 a {display: inline;font-size:16px;color:black;padding-left: 0px;}\n",
      "                    </style>\t\t\t\t\t\n",
      "                    <script type='text/javascript'>googletag.cmd.push(function() {googletag.display('minibar');})</script>\n",
      "                    <div class=\"abdominis rlby clearmen\">                       \n",
      "                        <h1 class=\"dddd\"><time>2015 / 11 / 04</time></h1><ul class=\"rtddd slvl\">                                <li class=\"rtddt inter\">\n",
      "                                    <a href=\"/realtimenews/article/international/20151104/725332/乘客踹機門　歐洲航班緊急降落\" target=\"_blank\">\n",
      "                                        <time>10:22</time>\n",
      "                                        <h2>國際</h2>\n",
      "                                        <h1><font color=\"#383c40\">乘客踹機門　歐洲航班緊急降落(0)</font></h1>\n",
      "                                    </a>\n",
      "                                </li>\n",
      "                                                        <li class=\"rtddt local even\">\n",
      "                                    <a href=\"/realtimenews/article/local/20151104/725337/酒駕直衝商店　消費者1死1傷\" target=\"_blank\">\n",
      "                                        <time>10:22</time>\n",
      "                                        <h2>社會</h2>\n",
      "                                        <h1><font color=\"#383c40\">酒駕直衝商店　消費者1死1傷(0)</font></h1>\n",
      "                                    </a>\n",
      "                                </li>\n",
      "                                                        <li class=\"rtddt fun\">\n",
      "                                    <a href=\"/realtimenews/article/fun/20151104/725006/不要這樣玩弄古蹟會壞掉啦\" target=\"_blank\">\n",
      "                                        <time>10:21</time>\n",
      "                                        <h2>FUN</h2>\n",
      "                                        <h1><font color=\"#383c40\">不要這樣玩弄古蹟  會壞掉啦(46)</font></h1>\n",
      "                                    </a>\n",
      "                                </li>\n",
      "                                                        <li class=\"rtddt sp_ad  even\">                                    \n",
      "                                    <time>10:21</time>\n",
      "                                    <h2>特企</h2>\t\t\t\t\t\t\t\t\t\t\n",
      "                                    <h1>\n",
      "                                        <a href=\"http://www.appledaily.com.tw/realtimenews/article/life/20151104/725167/\" target=\"_blank\">\n",
      "                                            <font color=\"#383c40\">【特企】歐盟非基改標準、IP豆種、不添加... (1952)</span></font>\n",
      "                                        </a>\t\n",
      "                                    </h1>                                    \n",
      "                                </li>                                \n",
      "                                                        <li class=\"rtddt polit\">\n",
      "                                    <a href=\"/realtimenews/article/politics/20151104/725338/OneTaiwan產生問世　經典就是那句點\" target=\"_blank\">\n",
      "                                        <time>10:21</time>\n",
      "                                        <h2>政治</h2>\n",
      "                                        <h1><font color=\"#ff0000\">One Taiwan 產生問世　經典就是...(0)</font></h1>\n",
      "                                    </a>\n",
      "                                </li>\n",
      "                                                        <li class=\"rtddt local even\">\n",
      "                                    <a href=\"/realtimenews/article/local/20151104/725331/台灣國防廉潔度　排名亞洲前段班\" target=\"_blank\">\n",
      "                                        <time>10:20</time>\n",
      "                                        <h2>社會</h2>\n",
      "                                        <h1><font color=\"#383c40\">台灣國防廉潔度　排名亞洲前段班(13)</font></h1>\n",
      "                                    </a>\n",
      "                                </li>\n",
      "                                                        <li class=\"rtddt polit hsv\">\n",
      "                                    <a href=\"/realtimenews/article/politics/20151104/725326/專訪影片被挖出　馬：絕不跟大陸領導人見面\" target=\"_blank\">\n",
      "                                        <time>10:18</time>\n",
      "                                        <h2>政治</h2>\n",
      "                                        <h1><font color=\"#ff0000\">專訪影片被挖出　馬：絕不跟大陸領導人見面(190)</font></h1>\n",
      "                                    </a>\n",
      "                                </li>\n",
      "                                                        <li class=\"rtddt polit even\">\n",
      "                                    <a href=\"/realtimenews/article/politics/20151104/725339/馬習會周六舉行　外交部：已知會美日主要國家\" target=\"_blank\">\n",
      "                                        <time>10:15</time>\n",
      "                                        <h2>政治</h2>\n",
      "                                        <h1><font color=\"#383c40\">馬習會周六舉行　外交部：已知會美日主要國...(612)</font></h1>\n",
      "                                    </a>\n",
      "                                </li>\n",
      "                                                        <li class=\"rtddt life\">\n",
      "                                    <a href=\"/realtimenews/article/life/20151104/725336/今上午9時蘇花公路有落石擊車　一人重傷送醫\" target=\"_blank\">\n",
      "                                        <time>10:14</time>\n",
      "                                        <h2>生活</h2>\n",
      "                                        <h1><font color=\"#383c40\">今上午9時蘇花公路有落石擊車　一人重傷送...(280)</font></h1>\n",
      "                                    </a>\n",
      "                                </li>\n",
      "                                                        <li class=\"rtddt sport even\">\n",
      "                                    <a href=\"/realtimenews/article/sports/20151104/725271/【更新】林書豪15分　黃蜂大勝公牛終止開季3連敗\" target=\"_blank\">\n",
      "                                        <time>10:13</time>\n",
      "                                        <h2>體育</h2>\n",
      "                                        <h1><font color=\"#ff0000\">【更新】林書豪15分　黃蜂大勝公牛終止開...(13849)</font></h1>\n",
      "                                    </a>\n",
      "                                </li>\n",
      "                                                        <li class=\"rtddt busi\">\n",
      "                                    <a href=\"/realtimenews/article/finance/20151104/725334/馬習會登場　曾銘宗：股市上漲反映和平紅利\" target=\"_blank\">\n",
      "                                        <time>10:11</time>\n",
      "                                        <h2>財經</h2>\n",
      "                                        <h1><font color=\"#383c40\">馬習會登場　曾銘宗：股市上漲反映和平紅利(171)</font></h1>\n",
      "                                    </a>\n",
      "                                </li>\n",
      "                                                        <li class=\"rtddt life even\">\n",
      "                                    <a href=\"/realtimenews/article/life/20151104/725341/馬習會將登場　柯P：此消息應該早點講\" target=\"_blank\">\n",
      "                                        <time>10:11</time>\n",
      "                                        <h2>生活</h2>\n",
      "                                        <h1><font color=\"#383c40\">馬習會將登場　柯P：此消息應該早點講(0)</font></h1>\n",
      "                                    </a>\n",
      "                                </li>\n",
      "                                                        <li class=\"rtddt life\">\n",
      "                                    <a href=\"/realtimenews/article/life/20151104/725330/登革熱再奪12命　高雄單日病例再創新高\" target=\"_blank\">\n",
      "                                        <time>10:09</time>\n",
      "                                        <h2>生活</h2>\n",
      "                                        <h1><font color=\"#383c40\">登革熱再奪12命　高雄單日病例再創新高(149)</font></h1>\n",
      "                                    </a>\n",
      "                                </li>\n",
      "                                                        <li class=\"rtddt polit even\">\n",
      "                                    <a href=\"/realtimenews/article/politics/20151104/725289/馬習會前夕　網友揭「那一年差點被統一」\" target=\"_blank\">\n",
      "                                        <time>10:08</time>\n",
      "                                        <h2>政治</h2>\n",
      "                                        <h1><font color=\"#ff0000\">馬習會前夕　網友揭「那一年差點被統一」(4127)</font></h1>\n",
      "                                    </a>\n",
      "                                </li>\n",
      "                                                        <li class=\"rtddt polit\">\n",
      "                                    <a href=\"/realtimenews/article/politics/20151104/725314/【幕後】馬習會在新加坡舉行　馬總統提議的\" target=\"_blank\">\n",
      "                                        <time>10:08</time>\n",
      "                                        <h2>政治</h2>\n",
      "                                        <h1><font color=\"#ff0000\">【幕後】馬習會在新加坡舉行　馬總統提議的(9529)</font></h1>\n",
      "                                    </a>\n",
      "                                </li>\n",
      "                                                        <li class=\"rtddt life even\">\n",
      "                                    <a href=\"/realtimenews/article/life/20151104/725333/馬習會握手　柯P：習近平自求多福\" target=\"_blank\">\n",
      "                                        <time>10:08</time>\n",
      "                                        <h2>生活</h2>\n",
      "                                        <h1><font color=\"#383c40\">馬習會握手　柯P：習近平自求多福(793)</font></h1>\n",
      "                                    </a>\n",
      "                                </li>\n",
      "                                                        <li class=\"rtddt polit\">\n",
      "                                    <a href=\"/realtimenews/article/politics/20151104/725327/政大教授揭馬習會目的「干預台灣選舉」\" target=\"_blank\">\n",
      "                                        <time>10:06</time>\n",
      "                                        <h2>政治</h2>\n",
      "                                        <h1><font color=\"#ff0000\">政大教授揭馬習會目的 「干預台灣選舉」(2015)</font></h1>\n",
      "                                    </a>\n",
      "                                </li>\n",
      "                                                        <li class=\"rtddt local even hsv\">\n",
      "                                    <a href=\"/realtimenews/article/local/20151104/725296/蘇花公路落石砸車　2人脫困、駕駛命危送醫\" target=\"_blank\">\n",
      "                                        <time>10:05</time>\n",
      "                                        <h2>社會</h2>\n",
      "                                        <h1><font color=\"#ff0000\">蘇花公路落石砸車　2人脫困、駕駛命危送醫(2495)</font></h1>\n",
      "                                    </a>\n",
      "                                </li>\n",
      "                                                        <li class=\"rtddt polit hsv\">\n",
      "                                    <a href=\"/realtimenews/article/politics/20151104/725306/黃國昌高喊「罷免馬英九」　率眾前往總統府\" target=\"_blank\">\n",
      "                                        <time>10:05</time>\n",
      "                                        <h2>政治</h2>\n",
      "                                        <h1><font color=\"#ff0000\">黃國昌高喊「罷免馬英九」　率眾前往總統府(5639)</font></h1>\n",
      "                                    </a>\n",
      "                                </li>\n",
      "                                                        <li class=\"rtddt local even\">\n",
      "                                    <a href=\"/realtimenews/article/local/20151104/725311/酒店妹催情萬語　他用一招完封\" target=\"_blank\">\n",
      "                                        <time>10:03</time>\n",
      "                                        <h2>社會</h2>\n",
      "                                        <h1><font color=\"#ff0000\">酒店妹催情萬語　他用一招完封(3684)</font></h1>\n",
      "                                    </a>\n",
      "                                </li>\n",
      "                                                        <li class=\"rtddt property\">\n",
      "                                    <a href=\"/realtimenews/article/property/20151104/721348/【特企】房市大追擊-凶宅、嫌惡設施會影響房價？\" target=\"_blank\">\n",
      "                                        <time>10:00</time>\n",
      "                                        <h2>地產</h2>\n",
      "                                        <h1><font color=\"#383c40\">【特企】房市大追擊-凶宅、嫌惡設施會影響...(98)</font></h1>\n",
      "                                    </a>\n",
      "                                </li>\n",
      "                                                        <li class=\"rtddt busi even\">\n",
      "                                    <a href=\"/realtimenews/article/finance/20151104/725325/亞股跟進美股上漲　日股重返19000點\" target=\"_blank\">\n",
      "                                        <time>09:57</time>\n",
      "                                        <h2>財經</h2>\n",
      "                                        <h1><font color=\"#383c40\">亞股跟進美股上漲　日股重返19000點(206)</font></h1>\n",
      "                                    </a>\n",
      "                                </li>\n",
      "                                                        <li class=\"rtddt local hsv\">\n",
      "                                    <a href=\"/realtimenews/article/local/20151104/725324/賓士超車不成反逼車　慢慢折磨人\" target=\"_blank\">\n",
      "                                        <time>09:56</time>\n",
      "                                        <h2>社會</h2>\n",
      "                                        <h1><font color=\"#ff0000\">賓士超車不成反逼車　慢慢折磨人(1858)</font></h1>\n",
      "                                    </a>\n",
      "                                </li>\n",
      "                                                        <li class=\"rtddt strange even\">\n",
      "                                    <a href=\"/realtimenews/article/strange/20151104/725316/下課時間看A片　做錯了嗎？\" target=\"_blank\">\n",
      "                                        <time>09:55</time>\n",
      "                                        <h2>搜奇</h2>\n",
      "                                        <h1><font color=\"#ff0000\">下課時間看A片　做錯了嗎？(2772)</font></h1>\n",
      "                                    </a>\n",
      "                                </li>\n",
      "                                                        <li class=\"rtddt busi\">\n",
      "                                    <a href=\"/realtimenews/article/finance/20151104/725321/張盛和：今年證交稅估與去年相當\" target=\"_blank\">\n",
      "                                        <time>09:54</time>\n",
      "                                        <h2>財經</h2>\n",
      "                                        <h1><font color=\"#383c40\">張盛和：今年證交稅估與去年相當(176)</font></h1>\n",
      "                                    </a>\n",
      "                                </li>\n",
      "                                                        <li class=\"rtddt life even\">\n",
      "                                    <a href=\"/realtimenews/article/life/20151104/725323/新制！台大等7大學明年招收百名公費醫學生\" target=\"_blank\">\n",
      "                                        <time>09:54</time>\n",
      "                                        <h2>生活</h2>\n",
      "                                        <h1><font color=\"#383c40\">新制！台大等7大學明年招收百名公費醫學生(884)</font></h1>\n",
      "                                    </a>\n",
      "                                </li>\n",
      "                                                        <li class=\"rtddt polit\">\n",
      "                                    <a href=\"/realtimenews/article/politics/20151104/725295/馬習會遭轟　王炳忠反嗆：你們又幹出什麼？\" target=\"_blank\">\n",
      "                                        <time>09:53</time>\n",
      "                                        <h2>政治</h2>\n",
      "                                        <h1><font color=\"#ff0000\">馬習會遭轟　王炳忠反嗆：你們又幹出什麼？(4281)</font></h1>\n",
      "                                    </a>\n",
      "                                </li>\n",
      "                                                        <li class=\"rtddt polit even\">\n",
      "                                    <a href=\"/realtimenews/article/politics/20151104/725315/馬習會　AIT：美一中政策未變\" target=\"_blank\">\n",
      "                                        <time>09:53</time>\n",
      "                                        <h2>政治</h2>\n",
      "                                        <h1><font color=\"#383c40\">馬習會　AIT：美一中政策未變(1000)</font></h1>\n",
      "                                    </a>\n",
      "                                </li>\n",
      "                                                        <li class=\"rtddt polit\">\n",
      "                                    <a href=\"/realtimenews/article/politics/20151104/725320/卸任前拚馬習會　台大教授譙馬英九「卑劣」\" target=\"_blank\">\n",
      "                                        <time>09:53</time>\n",
      "                                        <h2>政治</h2>\n",
      "                                        <h1><font color=\"#ff0000\">卸任前拚馬習會　台大教授譙馬英九「卑劣」(3827)</font></h1>\n",
      "                                    </a>\n",
      "                                </li>\n",
      "                                                        <li class=\"rtddt fun even\">\n",
      "                                    <a href=\"/realtimenews/article/fun/20151104/725014/媽，這次我真的翅膀硬了\" target=\"_blank\">\n",
      "                                        <time>09:51</time>\n",
      "                                        <h2>FUN</h2>\n",
      "                                        <h1><font color=\"#383c40\">媽，這次我真的翅膀硬了(1522)</font></h1>\n",
      "                                    </a>\n",
      "                                </li>\n",
      "                                                        <li class=\"rtddt polit\">\n",
      "                                    <a href=\"/realtimenews/article/politics/20151104/725290/綠委批馬習會黑箱　要求夏立言報告\" target=\"_blank\">\n",
      "                                        <time>09:51</time>\n",
      "                                        <h2>政治</h2>\n",
      "                                        <h1><font color=\"#383c40\">綠委批馬習會黑箱　要求夏立言報告(966)</font></h1>\n",
      "                                    </a>\n",
      "                                </li>\n",
      "                                                </ul>                            \n",
      "                        <nav class=\"page_switch lisw fillup\" style=\"margin-top:0em;margin-bottom:1em;text-align:center\">\n",
      "                        <a href=\"/realtimenews/section/new/1\" title=\"1\" class=\"enable\">1</a><a href=\"/realtimenews/section/new/2\" title=\"2\" >2</a><a href=\"/realtimenews/section/new/3\" title=\"3\" >3</a><a href=\"/realtimenews/section/new/4\" title=\"4\" >4</a><a href=\"/realtimenews/section/new/5\" title=\"5\" >5</a><a href=\"/realtimenews/section/new/6\" title=\"6\" >6</a><a href=\"/realtimenews/section/new/7\" title=\"7\" >7</a><a href=\"/realtimenews/section/new/8\" title=\"8\" >8</a><a href=\"/realtimenews/section/new/9\" title=\"9\" >9</a><a href=\"/realtimenews/section/new/10\" title=\"10\" >10</a><a href=\"/realtimenews/section/new/11\" title=\"下10頁\">下10頁</a>                        </nav>\n",
      "                        <span class=\"clear man\"></span>\n",
      "                    </div>\n",
      "                </div>\n",
      "                <div class=\"abdominis\"></div>\n",
      "              </article>\n",
      "              <aside id=\"sitesidecontent\" class=\"manu lvl\">\n",
      "                <div id=\"rectangleAD1\" class=\"ads rtb rtf\"><script type='text/javascript'>googletag.cmd.push(function() {googletag.display('rectangleAD1');})</script></div>\n",
      "                <div id=\"rectangleAD2\" class=\"ads rtb\"><script type='text/javascript'>googletag.cmd.push(function() {googletag.display('rectangleAD2');})</script></div>\n",
      "                <section id=\"section-hot-sidebox\" class=\"shsb slvl clearmen  shsbfinance\"><header><h1>財經最&nbsp;Hot</h1><span><a target=\"_blank\" href=\"/appledaily/hotdaily/finance\">看更多</a></span></header><article><ul><li><h2><a href=\"/appledaily/article/finance/20151104/36879447/hotdailyart_right\">日月光3度進軍DRAM封測</a></h2><span>5696</span></li><li><h2><a href=\"/appledaily/article/finance/20151104/36879454/hotdailyart_right\">以韓治韓 日月光收服韓國工...</a></h2><span>5040</span></li><li><h2><a href=\"/appledaily/article/finance/20151104/36879563/hotdailyart_right\">名家獻寶 10大必收藏鈔票...</a></h2><span>3527</span></li><li><h2><a href=\"/appledaily/article/finance/20151104/36879535/hotdailyart_right\">趨勢大師：科技廠參一腳 車...</a></h2><span>2889</span></li><li><h2><a href=\"/appledaily/article/finance/20151104/36879492/hotdailyart_right\">寶成豐泰 廣招自動化人才</a></h2><span>2169</span></li></ul></article></section>\n",
      "<!--crowdynews ad-->\n",
      "<div style=\"width: 300px; height: 400px;\" data-crowdynews-widget=\"AppleDaily/taipei-vertical\"><script src=\"//widget.crowdynews.com/js/widget.js\" async=\"true\"></script></div>\n",
      "\n",
      "<section id=\"facebookbox\" class=\"fbbx slvl clearmen\">\n",
      "    <header>\n",
      "        <h1>Facebook&nbsp;</h1>\n",
      "        <a id=\"fblikebtn\" class=\"on\">蘋果粉絲團</a>\n",
      "    </header>\t\t\n",
      "    <article>\n",
      "        <div id=\"fb-root\"></div>\n",
      "        <script language=\"javascript\">\n",
      "            (function(d, s, id) {\n",
      "              var js, fjs = d.getElementsByTagName(s)[0];\n",
      "              if (d.getElementById(id)) return;\n",
      "              js = d.createElement(s); js.id = id;\n",
      "              js.src = \"//connect.facebook.net/zh_TW/all.js#xfbml=1\";\n",
      "              fjs.parentNode.insertBefore(js, fjs);\n",
      "            }(document, 'script', 'facebook-jssdk'));\n",
      "        </script>              \n",
      "        <div id=\"changeFBlike\">\n",
      "            <div class=\"fb-like-box\" data-href=\"http://www.facebook.com/appledaily.tw\" data-width=\"300\" data-height=\"370\" data-show-faces=\"false\" data-stream=\"true\" data-show-border=\"true\" data-header=\"false\"></div>  \n",
      "        </div>\n",
      "    </article>\n",
      "</section>              </aside>\n",
      "            </div>\n",
      "            <div><script type='text/javascript'>googletag.cmd.push(function() {googletag.display('div-ad-bottom');})</script></div>\n",
      "            <link rel=\"stylesheet\" href=\"http://twimg.edgesuite.net/appledaily/images/css/dateinput_skin.css\" />\n",
      "<div class=\"abkct clearmen\"><a onClick=\"javascript:window.scroll(0,0)\" class=\"abktp\">回到最上面</a></div>\n",
      "<section id=\"extras\" class=\"fexbr\">\n",
      "    <div class=\"sqzer fillup\">\n",
      "        <a href=\"/index/dailyquote/\" title=\"每日一句\" class=\"dyw\"><span data-tooltip=\"每天一句好話\"></span>每日一句</a>\n",
      "        <a href=\"/index/lottery\" title=\"樂透發票\" class=\"lnr\"><span data-tooltip=\"看看你手氣\"></span>樂透發票</a>\n",
      "        <a href=\"#\" title=\"線上美語\" class=\"oneg\" onclick=\"JavaScript:window.open('/index/englishlearning/','','width=650,height=495')\"><span data-tooltip=\"學習英文\"></span>線上美語</a>\n",
      "        <a href=\"/index/weather\" title=\"天氣\" class=\"wkw\"><span data-tooltip=\"今天一周天氣預報\"></span>天氣</a>\n",
      "        <a href=\"/index/complain\" title=\"爆料投訴\" class=\"rpter\"><span data-tooltip=\"爆料給蘋果\"></span>爆料投訴</a>\n",
      "        <a href=\"/index/prize\" title=\"中獎名單\" class=\"itul\"><span data-tooltip=\"蘋果送大獎！\">中獎名單</span></a>\n",
      "        <a href=\"/index/ticket\" title=\"贈獎活動\" class=\"pguss\"><span data-tooltip=\"贈獎活動\"></span>贈獎活動</a>\n",
      "        <a href=\"/index/mobileguide\" title=\"行動版\" class=\"wmvs\"><span data-tooltip=\"行動版\">行動版</span></a>\n",
      "    </div>\n",
      "</section>\n",
      "\n",
      "<footer id=\"corpfoot\">\n",
      "    <div class=\"sqzer\">\n",
      "        <figure><a href=\"http://www.nextdigital.com.hk/investor/\"><img src=\"http://twimg.edgesuite.net/images/NextDigital/logo_NextMedia_m.png\" /></a></figure>\n",
      "        <section id=\"corpcompanies\" class=\"clearmen\">\n",
      "            <a href=\"/\" class=\"first\" target=\"_blank\"><img src=\"http://twimg.edgesuite.net/appledaily/images/core/ft_AppleDaily.png\" alt=\"蘋果日報 AppleDaily\"  /></a>\n",
      "            <a href=\"http://epl.appledaily.com.tw/\" target=\"_blank\"><img src=\"http://twimg.edgesuite.net/appledaily/images/core/logo_menubar.gif\" alt=\"蘋果足球\"  /></a>\n",
      "            <a href=\"/animation\" target=\"_blank\"><img src=\"http://twimg.edgesuite.net/appledaily/images/core/ft_AnimatedNews.png\" alt=\"動新聞\"  /></a>\n",
      "            <a href=\"http://www.applelive.com.tw/livechannel/\"  target=\"_blank\"><img src=\"http://twimg.edgesuite.net/appledaily/images/core/applelive.gif\" alt=\"蘋果Live\"  /></a>\n",
      "            <a href=\"http://sharpdaily.tw/\" target=\"_blank\"><img src=\"http://twimg.edgesuite.net/appledaily/images/core/ft_SharpDaily.png\" alt=\"爽報\"  /></a>\n",
      "            <a href=\"http://www.nextmag.com.tw/\" target=\"_blank\"><img src=\"http://twimg.edgesuite.net/appledaily/images/core/ft_NextMag.png\" alt=\"壹周刊\"  /></a>\n",
      "            <a href=\"http://www.eat-travel.com.tw/\"  target=\"_blank\"><img src=\"http://twimg.edgesuite.net/appledaily/images/core/ft_eatintravel.png\" alt=\"飲食男女\" /></a>\n",
      "            <a href=\"http://fashion.appledaily.com.tw/\"  target=\"_blank\"><img src=\"http://twimg.edgesuite.net/appledaily/images/core/applefashion_website_head_39x30.png\" alt=\"蘋果時尚\" /></a>\n",
      "            <a href=\"http://tw.tomonews.net/\" target=\"_blank\"><img src=\"http://twimg.edgesuite.net/appledaily/images/core/menu_tomonews_s.png\" alt=\"Tomonews\"  /></a>            \n",
      "            <a href=\"https://www.youtube.com/user/twappledaily/\" class=\"last\" target=\"_blank\"><img src=\"http://twimg.edgesuite.net/appledaily/images/core/ft_youtube.png\" alt=\"Youtube\" /></a>\n",
      "        </section>\n",
      "        <section id=\"corpinfo\" class=\"fillip\">\n",
      "            <a href=\"/rss/\" style=\"color:red\">RSS</a>\t\t\t\t\t\n",
      "            <a href=\"/index/aboutus/\">了解蘋果日報</a>\n",
      "            <a href=\"/index/contactus/\">聯絡我們</a>\n",
      "            <a href=\"/adguide\" target=\"_blank\">廣告刊登</a>\n",
      "            <a href=\"/index/faq/\">常見問題</a>\n",
      "            <a href=\"/index/sitemap/\">網站導覽</a>\n",
      "            <a href=\"/index/termofuse/\">使用條款</a>\n",
      "            <a href=\"/index/authorization/\">授權申請程序</a>\n",
      "            <a href=\"/index/privacy/\">隱私權說明</a>\n",
      "            <a href=\"/index/disclaimer/\">免責與分級</a>\n",
      "            <a href=\"/index/community/\">蘋果社群</a>\n",
      "            <a href=\"http://www.facebook.com/nextmediastudent/\" target=\"_blank\">校園培果計畫</a>\n",
      "            <a href=\"http://www.1111.com.tw/job-bank/company-description.asp?nNo=2785257\"  target=\"_blank\">蘋果徵才</a>\n",
      "            <a href=\"/index/subscribe\" class=\"last\">訂閱蘋果</a>               \n",
      "        </section>\n",
      "        <p id=\"copyright\">© 2015 www.appledaily.com.tw Limited. All rights reserved. 台灣蘋果日報 版權所有 不得轉載</p>\n",
      "    </div>\n",
      "</footer>\n",
      "<link rel=\"stylesheet\" href=\"http://twimg.edgesuite.net/appledaily/images/css/appledaily.backtotop.css\" />\n",
      "<script src=\"http://twimg.edgesuite.net/appledaily/images/js/jquery.appledaily.backtotop.js\"></script>\n",
      "<div class=\"back-to-top-side\"><a onclick=\"javascript:window.scroll(0,0)\" class=\"back-to-top-btn overcooked\">回到最上面</a></div><!-- .back-to-top-side -->\n",
      "<script type=\"text/javascript\">\n",
      "    $(document).ready(function() {\n",
      "       var opacity = 0.5,\n",
      "            toOpacity = 1,\n",
      "            duration = 250;\n",
      "        $('.opacity').css('opacity', opacity).hover(function() {\n",
      "            $(this).fadeTo(duration, toOpacity);\n",
      "        }, function() {\n",
      "            $(this).fadeTo(duration, opacity);\n",
      "        });\n",
      "        \n",
      "       $.ajax({\n",
      "            url: '/index/getpv/?callback=',\n",
      "            dataType: 'jsonp',\n",
      "            success: function(data){\n",
      "                $('#pv').html(data.appledaily_view);\n",
      "            }\n",
      "       });             \n",
      "       $(window).scroll(function() {\n",
      "         if($(this).scrollTop()>130&&($(this).scrollTop()-(-800)<$(document).height()-350)){\n",
      "             $('#door').css('position','fixed').css('top','-45px');\n",
      "         }else{\n",
      "             $('#door').css('position','relative').css('top','0px');\n",
      "         }\n",
      "       });\n",
      "     });\n",
      "</script>\n",
      "\n",
      "<!-- Google Analytics -->\n",
      "<script>\n",
      "  (function(i,s,o,g,r,a,m){i['GoogleAnalyticsObject']=r;i[r]=i[r]||function(){\n",
      "      (i[r].q=i[r].q||[]).push(arguments)},i[r].l=1*new Date();a=s.createElement(o),\n",
      "      m=s.getElementsByTagName(o)[0];a.async=1;a.src=g;m.parentNode.insertBefore(a,m)\n",
      "  })(window,document,'script','//www.google-analytics.com/analytics.js','ga');\n",
      "\n",
      "  ga('create', 'UA-2067247-40', 'auto', {'sampleRate':1});\n",
      "  ga('require', 'linkid', 'linkid.js');\n",
      "  ga('require', 'displayfeatures');\n",
      "    \n",
      "</script>\n",
      "<noscript>\n",
      "    <iframe src=\"//www.googletagmanager.com/ns.html?id=GTM-P5MXMC\" height=\"0\" width=\"0\" style=\"display:none;visibility:hidden\"></iframe>\n",
      "</noscript>\n",
      "<script>\n",
      "            dataLayer = [{\n",
      "            'pageLevel' : 'Listing',\n",
      "            'videoArticle': 'non-video',\n",
      "            'publishDay': '', \n",
      "            'columnist' : '', \n",
      "            'column' : '' \n",
      "         }];\n",
      "     \n",
      "    (function(w,d,s,l,i){w[l]=w[l]||[];w[l].push({'gtm.start':\n",
      "    new Date().getTime(),event:'gtm.js'});var f=d.getElementsByTagName(s)[0],\n",
      "    j=d.createElement(s),dl=l!='dataLayer'?'&l='+l:'';j.async=true;j.src='//www.googletagmanager.com/gtm.js?id='+i+dl;f.parentNode.insertBefore(j,f);\n",
      "    })(window,document,'script','dataLayer','GTM-P5MXMC');\n",
      "</script>\n",
      "<div id=\"nxm_iframeDiv\" style=\"display:none\"></div>\n",
      "<div id=\"nxm_vtrk_iframeDiv\" style=\"display:none\"></div>\n",
      "<!--page idle-->\n",
      "<link href=\"http://twimg.edgesuite.net/appledaily/images/adidle/css/fancybox.css\"  rel=\"stylesheet\" type=\"text/css\">\n",
      "<script src=\"http://twimg.edgesuite.net/appledaily/images/adidle/js/plugin.js\" ></script>\n",
      "<script src=\"http://twimg.edgesuite.net/appledaily/images/adidle/js/adidle.js\" ></script>\n",
      "<script LANGUAGE=\"JavaScript\">\n",
      "    document.write('<a class=\"pageidle\" data-fancybox-type=\"iframe\" href=\"/index/adidle#'+Math.random()+'\"></a>');\n",
      "</script>\n",
      "<!--page idle-->\n",
      "        </div>\n",
      "    </div>\n",
      "    <script type=\"text/javascript\" src=\"https://apis.google.com/js/plusone.js\"></script>\n",
      "    <script>\n",
      "        $(document).ready(function($) {\n",
      "          /* main carousel */\n",
      "          $('#carousel').on('onInitAfter',function(e){\n",
      "            $(this).find('.owl-dots').append( '<span class=\"masker\"></span>' );\n",
      "          }).owlCarousel({\n",
      "            mouseDrag:false,\n",
      "            touchDrag:true,\n",
      "            pullDrag:false,\n",
      "            navText:['下一則','上一則'],\n",
      "            nav:false,\n",
      "            navSpeed:500,\n",
      "            dotsSpeed:500,\n",
      "            dots:false,\n",
      "            items:1,\n",
      "            autoplay:true,\n",
      "            autoplayHoverPause:false,\n",
      "            autoplayTimeout: 5000,\n",
      "            lazyLoad:true,\n",
      "            info: (typeof getInfo == 'function') ? getInfo : {},\n",
      "            loop:true\n",
      "          }).mouseenter(function() {\n",
      "            $(this).addClass('on');\n",
      "            $(this).trigger('pause.owl');\n",
      "            $('#splash').addClass('on');\n",
      "          }).mouseleave(function() {\n",
      "            $(this).removeClass('on');\n",
      "            $(this).trigger('autoplay.owl');\n",
      "            $('#splash').removeClass('on');\n",
      "          });\n",
      "\n",
      "          $('.xPrev').click(function() {\n",
      "            $('#carousel').trigger('prev.owl');\n",
      "          });\n",
      "          $('.xNext').click(function() {\n",
      "            $('#carousel').trigger('next.owl');\n",
      "          });\n",
      "\n",
      "          $('.xPrev, .xNext').mouseenter(function() {\n",
      "            $('#carousel').addClass('on');\n",
      "            $('#carousel').trigger('pause.owl');\n",
      "            $('#splash').addClass('on');\n",
      "          }).mouseleave(function() {\n",
      "            $('#carousel').removeClass('on');\n",
      "            $('#carousel').trigger('autoplay.owl');\n",
      "            $('#splash').removeClass('on');\n",
      "          });\n",
      "\n",
      "          /* firewire */\n",
      "          $('#firewire').owlCarousel({\n",
      "            mouseDrag:false,\n",
      "            touchDrag:false,\n",
      "            pullDrag:false,\n",
      "            animateOut: 'slideOutDown-100',\n",
      "            animateIn: 'slideInDown-100',\n",
      "            nav:false,\n",
      "            navSpeed:1000,\n",
      "            dots:false,\n",
      "            items:1,\n",
      "            autoplay:true,\n",
      "            autoplayHoverPause:true,\n",
      "            autoplayTimeout: 6000,\n",
      "            lazyLoad:true,\n",
      "            loop:true\n",
      "          });\n",
      "\n",
      "        });\n",
      "\n",
      "        function getInfo(owlInfo){\n",
      "          $('#carousel').data('currentPosition', owlInfo['currentPosition']);\n",
      "        }\n",
      "\n",
      "        $( document ).ready(function() {\n",
      "          var mainImgs = $('#carousel').find('.owl-item').not('.cloned').find('.item').find('img');\n",
      "          var mainLinks = $('#carousel').find('.owl-item').not('.cloned').find('.item').find('a');\n",
      "\n",
      "          function trackHomeMainImg(action, label) {\n",
      "            if ( ga ) ga('send', 'event', 'HomeMainImg', action, label);\n",
      "            if (window['console'] !== undefined) { console.log('SendGA: '+action) };\n",
      "          }\n",
      "\n",
      "          function isAD(imgAlt) {\n",
      "            return ((imgAlt) && (imgAlt.toUpperCase().substring(0,2)==\"AD\"));\n",
      "          }\n",
      "\n",
      "          function mainImgView(idx) {\n",
      "            var imgAlt = $(mainImgs[idx]).attr('tcode');\n",
      "            if (isAD(imgAlt)) trackHomeMainImg('views', imgAlt);\n",
      "          }\n",
      "\n",
      "          function mainImgClick(e) {\n",
      "            var imgAlt = $(e.currentTarget).find('img').attr('tcode');\n",
      "            if (isAD(imgAlt)) trackHomeMainImg('clicks', imgAlt);\n",
      "          };\n",
      "\n",
      "          $('#carousel').on('onTransitionEnd', function(e) {\n",
      "            var idx = $('#carousel').data('currentPosition');\n",
      "            if ($.isNumeric(idx)) mainImgView(idx);\n",
      "          });\n",
      "\n",
      "          /* entry track */\n",
      "          if ($('#carousel')) mainImgView(0);\n",
      "\n",
      "          /* bind click event */\n",
      "          $('#carousel').find('.owl-item').find('.item').find('a').click(mainImgClick);\n",
      "\n",
      "        });\n",
      "    </script>\n",
      "</body>\n",
      "</html>\n"
     ]
    }
   ],
   "source": [
    "import requests\n",
    "res = requests.get('http://www.appledaily.com.tw/realtimenews/section/new/')\n",
    "print res.text"
   ]
  },
  {
   "cell_type": "code",
   "execution_count": 149,
   "metadata": {
    "collapsed": true
   },
   "outputs": [
    {
     "name": "stdout",
     "output_type": "stream",
     "text": [
      "['__add__', '__class__', '__contains__', '__delattr__', '__doc__', '__eq__', '__format__', '__ge__', '__getattribute__', '__getitem__', '__getnewargs__', '__getslice__', '__gt__', '__hash__', '__init__', '__le__', '__len__', '__lt__', '__mod__', '__mul__', '__ne__', '__new__', '__reduce__', '__reduce_ex__', '__repr__', '__rmod__', '__rmul__', '__setattr__', '__sizeof__', '__str__', '__subclasshook__', '_formatter_field_name_split', '_formatter_parser', 'capitalize', 'center', 'count', 'decode', 'encode', 'endswith', 'expandtabs', 'find', 'format', 'index', 'isalnum', 'isalpha', 'isdigit', 'islower', 'isspace', 'istitle', 'isupper', 'join', 'ljust', 'lower', 'lstrip', 'partition', 'replace', 'rfind', 'rindex', 'rjust', 'rpartition', 'rsplit', 'rstrip', 'split', 'splitlines', 'startswith', 'strip', 'swapcase', 'title', 'translate', 'upper', 'zfill']\n",
      "['__abs__', '__add__', '__and__', '__class__', '__cmp__', '__coerce__', '__delattr__', '__div__', '__divmod__', '__doc__', '__float__', '__floordiv__', '__format__', '__getattribute__', '__getnewargs__', '__hash__', '__hex__', '__index__', '__init__', '__int__', '__invert__', '__long__', '__lshift__', '__mod__', '__mul__', '__neg__', '__new__', '__nonzero__', '__oct__', '__or__', '__pos__', '__pow__', '__radd__', '__rand__', '__rdiv__', '__rdivmod__', '__reduce__', '__reduce_ex__', '__repr__', '__rfloordiv__', '__rlshift__', '__rmod__', '__rmul__', '__ror__', '__rpow__', '__rrshift__', '__rshift__', '__rsub__', '__rtruediv__', '__rxor__', '__setattr__', '__sizeof__', '__str__', '__sub__', '__subclasshook__', '__truediv__', '__trunc__', '__xor__', 'bit_length', 'conjugate', 'denominator', 'imag', 'numerator', 'real']\n"
     ]
    }
   ],
   "source": [
    "a = '123'\n",
    "b = 5\n",
    "print dir(a)\n",
    "print dir(b)"
   ]
  },
  {
   "cell_type": "code",
   "execution_count": 152,
   "metadata": {
    "collapsed": false
   },
   "outputs": [
    {
     "name": "stdout",
     "output_type": "stream",
     "text": [
      "123\n",
      "123\n",
      "<method-wrapper '__str__' of str object at 0x08DDF518>\n"
     ]
    }
   ],
   "source": [
    "print a\n",
    "print a.__str__()\n",
    "print a.__str__"
   ]
  },
  {
   "cell_type": "code",
   "execution_count": 140,
   "metadata": {
    "collapsed": true
   },
   "outputs": [
    {
     "name": "stdout",
     "output_type": "stream",
     "text": [
      "['__add__', '__class__', '__contains__', '__delattr__', '__doc__', '__eq__', '__format__', '__ge__', '__getattribute__', '__getitem__', '__getnewargs__', '__getslice__', '__gt__', '__hash__', '__init__', '__le__', '__len__', '__lt__', '__mod__', '__mul__', '__ne__', '__new__', '__reduce__', '__reduce_ex__', '__repr__', '__rmod__', '__rmul__', '__setattr__', '__sizeof__', '__str__', '__subclasshook__', '_formatter_field_name_split', '_formatter_parser', 'capitalize', 'center', 'count', 'decode', 'encode', 'endswith', 'expandtabs', 'find', 'format', 'index', 'isalnum', 'isalpha', 'isdigit', 'islower', 'isspace', 'istitle', 'isupper', 'join', 'ljust', 'lower', 'lstrip', 'partition', 'replace', 'rfind', 'rindex', 'rjust', 'rpartition', 'rsplit', 'rstrip', 'split', 'splitlines', 'startswith', 'strip', 'swapcase', 'title', 'translate', 'upper', 'zfill']\n",
      "123\n",
      "123\n"
     ]
    }
   ],
   "source": [
    "a = '123'\n",
    "print dir(a)\n",
    "print a\n",
    "print a.__str__()"
   ]
  },
  {
   "cell_type": "code",
   "execution_count": 153,
   "metadata": {
    "collapsed": false
   },
   "outputs": [
    {
     "name": "stdout",
     "output_type": "stream",
     "text": [
      "['__add__', '__class__', '__contains__', '__delattr__', '__doc__', '__eq__', '__format__', '__ge__', '__getattribute__', '__getitem__', '__getnewargs__', '__getslice__', '__gt__', '__hash__', '__init__', '__le__', '__len__', '__lt__', '__mod__', '__mul__', '__ne__', '__new__', '__reduce__', '__reduce_ex__', '__repr__', '__rmod__', '__rmul__', '__setattr__', '__sizeof__', '__str__', '__subclasshook__', '_formatter_field_name_split', '_formatter_parser', 'capitalize', 'center', 'count', 'decode', 'encode', 'endswith', 'expandtabs', 'find', 'format', 'index', 'isalnum', 'isalpha', 'isdigit', 'islower', 'isspace', 'istitle', 'isupper', 'join', 'ljust', 'lower', 'lstrip', 'partition', 'replace', 'rfind', 'rindex', 'rjust', 'rpartition', 'rsplit', 'rstrip', 'split', 'splitlines', 'startswith', 'strip', 'swapcase', 'title', 'translate', 'upper', 'zfill']\n"
     ]
    }
   ],
   "source": [
    "a = '123'\n",
    "print dir(a)"
   ]
  },
  {
   "cell_type": "code",
   "execution_count": 157,
   "metadata": {
    "collapsed": false
   },
   "outputs": [
    {
     "name": "stdout",
     "output_type": "stream",
     "text": [
      "['Qoo', 'loves', 'OOP']\n",
      "loves\n",
      "Qoo Loves Oop\n",
      "QOO LOVES OOP\n"
     ]
    }
   ],
   "source": [
    "a = 'Qoo loves OOP'\n",
    "print a.split()\n",
    "print a.split()[1]\n",
    "print a.title()\n",
    "print a.upper()"
   ]
  },
  {
   "cell_type": "code",
   "execution_count": 161,
   "metadata": {
    "collapsed": false
   },
   "outputs": [
    {
     "name": "stdout",
     "output_type": "stream",
     "text": [
      "['Qoo', 'loves', 'OOP']\n",
      "Qoo-loves-OOP\n",
      "Qoo@loves@OOP\n",
      "Qoo~^_^~loves~^_^~OOP\n"
     ]
    }
   ],
   "source": [
    "a = 'Qoo loves OOP'\n",
    "print a.split()\n",
    "print '-'.join(a.split())\n",
    "print '@'.join(a.split())\n",
    "print '~^_^~'.join(a.split())"
   ]
  },
  {
   "cell_type": "code",
   "execution_count": 171,
   "metadata": {
    "collapsed": false
   },
   "outputs": [
    {
     "name": "stdout",
     "output_type": "stream",
     "text": [
      "\n",
      "中華民國總統\n",
      "與中國國家主席習近平，\n",
      "本周六將以兩岸領導人身分，在新加坡會面。\n",
      "消息曝光後，有網友在台大批踢踢po文，在馬習會前夕，揭開一段恐怖故事。\n",
      "\n",
      "\n",
      "中華民國總統 與中國國家主席習近平，\n",
      "本周六將以兩岸領導人身分，在新加坡會面。\n",
      "消息曝光後，有網友在台大批踢踢po文，在馬習會前夕，揭開一段恐怖故事。\n",
      "\n",
      "\n",
      "中華民國總統QOO與中國國家主席習近平，\n",
      "本周六將以兩岸領導人身分，在新加坡會面。\n",
      "消息曝光後，有網友在台大批踢踢po文，在馬習會前夕，揭開一段恐怖故事。\n",
      "\n"
     ]
    }
   ],
   "source": [
    "a= '''\n",
    "中華民國總統馬英九與中國國家主席習近平，\n",
    "本周六將以兩岸領導人身分，在新加坡會面。\n",
    "消息曝光後，有網友在台大批踢踢po文，在馬習會前夕，揭開一段恐怖故事。\n",
    "'''\n",
    "print a.split('馬英九')[0]\n",
    "print a.split('馬英九')[1]\n",
    "\n",
    "print ' '.join(a.split('馬英九'))\n",
    "print 'QOO'.join(a.split('馬英九'))"
   ]
  },
  {
   "cell_type": "code",
   "execution_count": 172,
   "metadata": {
    "collapsed": false
   },
   "outputs": [
    {
     "name": "stdout",
     "output_type": "stream",
     "text": [
      "ell\n",
      "ello\n",
      "hello\n",
      "hello\n",
      "ello\n"
     ]
    }
   ],
   "source": [
    "s = 'hello'\n",
    "print s[1:4] \n",
    "print s[1:] \n",
    "print s[:] \n",
    "print s\n",
    "print s[1:100]"
   ]
  },
  {
   "cell_type": "code",
   "execution_count": 174,
   "metadata": {
    "collapsed": false
   },
   "outputs": [
    {
     "name": "stdout",
     "output_type": "stream",
     "text": [
      "o\n",
      "e\n",
      "he\n",
      "llo\n",
      "hello\n"
     ]
    }
   ],
   "source": [
    "s = 'hello'\n",
    "print s[-1]\n",
    "print s[-4]\n",
    "print s[:-3]\n",
    "print s[-3:]\n",
    "print s[:-3] + s[-3:] # s"
   ]
  },
  {
   "cell_type": "code",
   "execution_count": 178,
   "metadata": {
    "collapsed": false
   },
   "outputs": [
    {
     "name": "stdout",
     "output_type": "stream",
     "text": [
      "The results are 3.14 and 5\n",
      "The results are 3.14159 and 5\n",
      "The results are 3.14159 and 5\n",
      "The results are 5 and 5\n"
     ]
    }
   ],
   "source": [
    "print 'The results are %.02f and %d' % (3.14159, 5)\n",
    "print 'The results are {} and {}'.format(3.14159, 5)\n",
    "print 'The results are {0} and {1}'.format(3.14159, 5)\n",
    "print 'The results are {1} and {1}'.format(3.14159, 5)"
   ]
  },
  {
   "cell_type": "code",
   "execution_count": 181,
   "metadata": {
    "collapsed": false
   },
   "outputs": [
    {
     "name": "stdout",
     "output_type": "stream",
     "text": [
      "['asap', 3]\n",
      "103\n"
     ]
    }
   ],
   "source": [
    "print ['asap', 3]\n",
    "print ['asap', 3][1] + 100\n"
   ]
  },
  {
   "cell_type": "code",
   "execution_count": 182,
   "metadata": {
    "collapsed": false
   },
   "outputs": [
    {
     "name": "stdout",
     "output_type": "stream",
     "text": [
      "['w', 'o', 'r', 'd']\n"
     ]
    }
   ],
   "source": [
    "print list(\"word\")"
   ]
  },
  {
   "cell_type": "code",
   "execution_count": 183,
   "metadata": {
    "collapsed": false
   },
   "outputs": [
    {
     "name": "stdout",
     "output_type": "stream",
     "text": [
      "[['list'], ['of', 'lists']]\n",
      "of\n"
     ]
    }
   ],
   "source": [
    "print [['list'], ['of', 'lists']]\n",
    "print [['list'], ['of', 'lists']][1][0]\n"
   ]
  },
  {
   "cell_type": "code",
   "execution_count": 185,
   "metadata": {
    "collapsed": false
   },
   "outputs": [
    {
     "name": "stdout",
     "output_type": "stream",
     "text": [
      "['a', 1]\n"
     ]
    }
   ],
   "source": [
    "print list(('a', 1))"
   ]
  },
  {
   "cell_type": "code",
   "execution_count": 186,
   "metadata": {
    "collapsed": false
   },
   "outputs": [
    {
     "data": {
      "text/plain": [
       "8"
      ]
     },
     "execution_count": 186,
     "metadata": {},
     "output_type": "execute_result"
    }
   ],
   "source": [
    "a = ['heterogeneous', 3]\n",
    "a[1] + 5"
   ]
  },
  {
   "cell_type": "code",
   "execution_count": 188,
   "metadata": {
    "collapsed": false
   },
   "outputs": [
    {
     "name": "stdout",
     "output_type": "stream",
     "text": [
      "5\n",
      "[7, 's']\n",
      "s\n",
      "7\n",
      "[7, 's']\n"
     ]
    }
   ],
   "source": [
    "a = [5, 6, 7,'s'] # a = [5 6 7 ‘s’]\n",
    "print a[0] # 5\n",
    "print a[2:4] # [7, ‘s’]\n",
    "print a[-1] # ‘s’\n",
    "print a[-2] # 7\n",
    "print a[2:] # [7, ‘s’]\n",
    "\n"
   ]
  },
  {
   "cell_type": "code",
   "execution_count": 190,
   "metadata": {
    "collapsed": false
   },
   "outputs": [
    {
     "name": "stdout",
     "output_type": "stream",
     "text": [
      "[5, 7]\n",
      "['s', 7, 6, 5]\n",
      "4\n",
      "[5, 's']\n"
     ]
    }
   ],
   "source": [
    "print a[::2] # [5, 7] for (i = 0 ; i< len(a); i+=2)\n",
    "print a[::-1] # [‘s’, 7, 6, 5]\n",
    "print len(a) # 4\n",
    "print [min(a), max(a)] # [5, ‘s’]"
   ]
  },
  {
   "cell_type": "code",
   "execution_count": 192,
   "metadata": {
    "collapsed": false
   },
   "outputs": [
    {
     "name": "stdout",
     "output_type": "stream",
     "text": [
      "5050\n"
     ]
    }
   ],
   "source": [
    "s = 0 \n",
    "for i in range(1,101):\n",
    "    s += i\n",
    "print s"
   ]
  },
  {
   "cell_type": "code",
   "execution_count": 194,
   "metadata": {
    "collapsed": false
   },
   "outputs": [
    {
     "data": {
      "text/plain": [
       "5050"
      ]
     },
     "execution_count": 194,
     "metadata": {},
     "output_type": "execute_result"
    }
   ],
   "source": [
    "sum(range(1,101))"
   ]
  },
  {
   "cell_type": "code",
   "execution_count": 204,
   "metadata": {
    "collapsed": false
   },
   "outputs": [
    {
     "name": "stdout",
     "output_type": "stream",
     "text": [
      "['0']\n",
      "[['1.0'], ['1.1.0', '1.1.1', ['1.1.2.0']]]\n",
      "['1.0']\n",
      "['1.1.0', '1.1.1', ['1.1.2.0']]\n",
      "['1.1.2.0']\n",
      "1.1.2.0\n"
     ]
    }
   ],
   "source": [
    "a = [[\"0\"], [[\"1.0\"], [\"1.1.0\", \"1.1.1\", [\"1.1.2.0\"]] ]]\n",
    "print a[0]\n",
    "print a[1]\n",
    "print a[1][0]\n",
    "print a[1][1]\n",
    "print a[1][1][2]\n",
    "print a[1][1][2][0]"
   ]
  },
  {
   "cell_type": "code",
   "execution_count": 208,
   "metadata": {
    "collapsed": false
   },
   "outputs": [
    {
     "name": "stdout",
     "output_type": "stream",
     "text": [
      "o\n",
      "A\n"
     ]
    }
   ],
   "source": [
    "a = 'helloA'\n",
    "print max(a)\n",
    "print min(a)"
   ]
  },
  {
   "cell_type": "code",
   "execution_count": 209,
   "metadata": {
    "collapsed": false
   },
   "outputs": [
    {
     "name": "stdout",
     "output_type": "stream",
     "text": [
      "[1, 2, 3, 4, 5, 6, 7, 8, 9, 10, 11, 12, 13, 14, 15, 16, 17, 18, 19, 20, 21, 22, 23, 24, 25, 26, 27, 28, 29, 30, 31, 32, 33, 34, 35, 36, 37, 38, 39, 40, 41, 42, 43, 44, 45, 46, 47, 48, 49, 50, 51, 52, 53, 54, 55, 56, 57, 58, 59, 60, 61, 62, 63, 64, 65, 66, 67, 68, 69, 70, 71, 72, 73, 74, 75, 76, 77, 78, 79, 80, 81, 82, 83, 84, 85, 86, 87, 88, 89, 90, 91, 92, 93, 94, 95, 96, 97, 98, 99, 100]\n",
      "[1, 3, 5, 7, 9, 11, 13, 15, 17, 19, 21, 23, 25, 27, 29, 31, 33, 35, 37, 39, 41, 43, 45, 47, 49, 51, 53, 55, 57, 59, 61, 63, 65, 67, 69, 71, 73, 75, 77, 79, 81, 83, 85, 87, 89, 91, 93, 95, 97, 99]\n",
      "[1, 3, 5, 7, 9, 11, 13, 15, 17, 19, 21, 23, 25, 27, 29, 31, 33, 35, 37, 39, 41, 43, 45, 47, 49, 51, 53, 55, 57, 59, 61, 63, 65, 67, 69, 71, 73, 75, 77, 79, 81, 83, 85, 87, 89, 91, 93, 95, 97, 99]\n"
     ]
    }
   ],
   "source": [
    "a = range(1,101)\n",
    "print a[0:len(a):1]  # for (i = 0; i < len(a); i +=1)\n",
    "print a[0:len(a):2]  # for (i = 0; i < len(a); i +=2)\n",
    "print a[::2]\n"
   ]
  },
  {
   "cell_type": "code",
   "execution_count": 211,
   "metadata": {
    "collapsed": false
   },
   "outputs": [
    {
     "name": "stdout",
     "output_type": "stream",
     "text": [
      "[5, 6, 7]\n",
      "[5, 6, 7, 2]\n",
      "[2, 5, 6, 7]\n",
      "[7, 6, 5, 2]\n"
     ]
    }
   ],
   "source": [
    "a = [5, 6, 7, 8]\n",
    "a.pop() # a = [5, 6, 7]\n",
    "print a\n",
    "\n",
    "a.append(2) # a = [5, 6, 7, 2]\n",
    "print a\n",
    "\n",
    "a.sort() # a = [2, 5, 6, 7]\n",
    "print a\n",
    "\n",
    "a.reverse() # a = [7, 6, 5, 2]\n",
    "print a"
   ]
  },
  {
   "cell_type": "code",
   "execution_count": 213,
   "metadata": {
    "collapsed": false
   },
   "outputs": [
    {
     "name": "stdout",
     "output_type": "stream",
     "text": [
      "[7, 6, 5, 2]\n"
     ]
    }
   ],
   "source": [
    "a = [7, 6, 5, 2]\n",
    "a.sort()\n",
    "a.reverse()\n",
    "print a"
   ]
  },
  {
   "cell_type": "code",
   "execution_count": 216,
   "metadata": {
    "collapsed": false
   },
   "outputs": [
    {
     "name": "stdout",
     "output_type": "stream",
     "text": [
      "['h', 'e', 'l', 'l', 'o', ' ', 'w', 'o', 'r', 'l', 'd']\n",
      "True\n",
      "False\n"
     ]
    }
   ],
   "source": [
    "list('a')\n",
    "hello = list('hello world')\n",
    "print hello\n",
    "print 'h' in hello\n",
    "print 'q' in hello"
   ]
  },
  {
   "cell_type": "code",
   "execution_count": 195,
   "metadata": {
    "collapsed": false
   },
   "outputs": [
    {
     "name": "stdout",
     "output_type": "stream",
     "text": [
      "o\n"
     ]
    }
   ],
   "source": [
    "a = 'hello'\n",
    "print max(a)"
   ]
  },
  {
   "cell_type": "code",
   "execution_count": 221,
   "metadata": {
    "collapsed": false
   },
   "outputs": [
    {
     "name": "stdout",
     "output_type": "stream",
     "text": [
      "[1, 2, 3]\n",
      "[1, 2, 3]\n"
     ]
    }
   ],
   "source": [
    "a = [1, 2, 3]\n",
    "b = a\n",
    "print a\n",
    "print b"
   ]
  },
  {
   "cell_type": "code",
   "execution_count": 222,
   "metadata": {
    "collapsed": false
   },
   "outputs": [
    {
     "data": {
      "text/plain": [
       "[1, 2000, 3]"
      ]
     },
     "execution_count": 222,
     "metadata": {},
     "output_type": "execute_result"
    }
   ],
   "source": [
    "a[1] = 2000\n",
    "b"
   ]
  },
  {
   "cell_type": "code",
   "execution_count": 223,
   "metadata": {
    "collapsed": false
   },
   "outputs": [
    {
     "name": "stdout",
     "output_type": "stream",
     "text": [
      "[1, 2, 3]\n"
     ]
    }
   ],
   "source": [
    "a = [1, 2, 3]\n",
    "import copy\n",
    "aa = copy.deepcopy(a) # Deep Copy\n",
    "a[1] = 2000\n",
    "print aa"
   ]
  },
  {
   "cell_type": "code",
   "execution_count": 227,
   "metadata": {
    "collapsed": false
   },
   "outputs": [
    {
     "name": "stdout",
     "output_type": "stream",
     "text": [
      "[1, 4, 9, 16]\n"
     ]
    }
   ],
   "source": [
    "a = [1,2,3,4]\n",
    "squares = []\n",
    "for ele in a:\n",
    "    squares.append(ele * ele)\n",
    "print squares"
   ]
  },
  {
   "cell_type": "code",
   "execution_count": 228,
   "metadata": {
    "collapsed": false
   },
   "outputs": [
    {
     "name": "stdout",
     "output_type": "stream",
     "text": [
      "[1, 4, 9, 16]\n"
     ]
    }
   ],
   "source": [
    "a = [1,2,3,4]\n",
    "print [ele * ele for ele in a]"
   ]
  },
  {
   "cell_type": "code",
   "execution_count": 231,
   "metadata": {
    "collapsed": false
   },
   "outputs": [
    {
     "name": "stdout",
     "output_type": "stream",
     "text": [
      "[2, 1]\n"
     ]
    }
   ],
   "source": [
    "nums = [2, 8, 1, 6]\n",
    "small = []\n",
    "for n in nums:\n",
    "    if n <=2:\n",
    "        #print n\n",
    "        small.append(n)\n",
    "print small\n"
   ]
  },
  {
   "cell_type": "code",
   "execution_count": 232,
   "metadata": {
    "collapsed": false
   },
   "outputs": [
    {
     "name": "stdout",
     "output_type": "stream",
     "text": [
      "[2, 1]\n"
     ]
    }
   ],
   "source": [
    "nums = [2, 8, 1, 6]\n",
    "small = [ n for n in nums if n <= 2 ] ## [2, 1]\n",
    "print small"
   ]
  },
  {
   "cell_type": "code",
   "execution_count": 233,
   "metadata": {
    "collapsed": false
   },
   "outputs": [
    {
     "name": "stdout",
     "output_type": "stream",
     "text": [
      "['APPLE', 'BANNANA']\n"
     ]
    }
   ],
   "source": [
    "fruits = ['apple', 'cherry','bannana', 'lemon']\n",
    "afruits = [ s.upper() for s in fruits if 'a' in s ]\n",
    "print afruits"
   ]
  },
  {
   "cell_type": "code",
   "execution_count": 235,
   "metadata": {
    "collapsed": false
   },
   "outputs": [
    {
     "name": "stdout",
     "output_type": "stream",
     "text": [
      "Contact Name:qoo\n",
      "You have 1 contacts\n",
      "Contact Name:qoo1\n",
      "You have 2 contacts\n",
      "Contact Name:qoo2\n",
      "You have 3 contacts\n",
      "Contact Name:Done\n",
      "Your contacts ['qoo', 'qoo1', 'qoo2']\n"
     ]
    }
   ],
   "source": [
    "contact_list = []\n",
    "while True:    \n",
    "    contacts = raw_input('Contact Name:')\n",
    "    if contacts == 'Done':\n",
    "        break\n",
    "    else:\n",
    "        contact_list.append(contacts)\n",
    "        print \"You have {} contacts\" .format(len(contact_list))\n",
    "        \n",
    "print \"Your contacts {}\".format(contact_list)"
   ]
  },
  {
   "cell_type": "code",
   "execution_count": 237,
   "metadata": {
    "collapsed": false
   },
   "outputs": [
    {
     "name": "stdout",
     "output_type": "stream",
     "text": [
      "9 was not in the list\n",
      "9 was not in the list\n",
      "9 was not in the list\n",
      "9 was not in the list\n",
      "9 was not in the list\n",
      "9 was not in the list\n",
      "9 was not in the list\n",
      "8 found\n",
      "9 found!\n"
     ]
    }
   ],
   "source": [
    "a = 9\n",
    "b = 8\n",
    "for i in range(1,10):\n",
    "    if i == a:\n",
    "        print(str(a) + ' found!')\n",
    "        break\n",
    "    elif i == b:\n",
    "        print str(b) + ' found'\n",
    "    else:\n",
    "        print(str(a) + ' was not in the list')"
   ]
  },
  {
   "cell_type": "code",
   "execution_count": 239,
   "metadata": {
    "collapsed": false
   },
   "outputs": [
    {
     "name": "stdout",
     "output_type": "stream",
     "text": [
      "[1, 2, 3, 4, 5, 6, 7, 8, 9]\n",
      "11\n",
      "12\n",
      "13\n",
      "14\n",
      "15\n",
      "16\n",
      "17\n",
      "18\n",
      "19\n"
     ]
    }
   ],
   "source": [
    "print range(1,10)\n",
    "for i in range(1,10):\n",
    "    print  i + 10"
   ]
  },
  {
   "cell_type": "code",
   "execution_count": 240,
   "metadata": {
    "collapsed": false
   },
   "outputs": [
    {
     "name": "stdout",
     "output_type": "stream",
     "text": [
      "1 2 3 4 5 6 7 8 9\n"
     ]
    }
   ],
   "source": [
    "# from 1 to 10\n",
    "for i in range(1,10):\n",
    "    print i,\n",
    "print"
   ]
  },
  {
   "cell_type": "code",
   "execution_count": 243,
   "metadata": {
    "collapsed": false
   },
   "outputs": [
    {
     "name": "stdout",
     "output_type": "stream",
     "text": [
      "1 3 5 7 9\n"
     ]
    }
   ],
   "source": [
    "# step by 2\n",
    "for i in range(1,10,2):\n",
    "    print i,\n",
    "print\n"
   ]
  },
  {
   "cell_type": "code",
   "execution_count": 249,
   "metadata": {
    "collapsed": false
   },
   "outputs": [
    {
     "name": "stdout",
     "output_type": "stream",
     "text": [
      "1 200 30 49 51\n"
     ]
    }
   ],
   "source": [
    "a = [1,200,30,49,51]\n",
    "for qoooooooooooooooooooooooooooooooo in a:\n",
    "    print qoooooooooooooooooooooooooooooooo,"
   ]
  },
  {
   "cell_type": "code",
   "execution_count": 260,
   "metadata": {
    "collapsed": false
   },
   "outputs": [
    {
     "name": "stdout",
     "output_type": "stream",
     "text": [
      "5050\n"
     ]
    }
   ],
   "source": [
    "i =0\n",
    "s = 0\n",
    "while(i < 101):\n",
    "    s += i\n",
    "    i +=1\n",
    "print s\n",
    "    "
   ]
  },
  {
   "cell_type": "code",
   "execution_count": 263,
   "metadata": {
    "collapsed": true
   },
   "outputs": [],
   "source": [
    "a = 100"
   ]
  },
  {
   "cell_type": "code",
   "execution_count": 265,
   "metadata": {
    "collapsed": false
   },
   "outputs": [
    {
     "ename": "NameError",
     "evalue": "name 'a' is not defined",
     "output_type": "error",
     "traceback": [
      "\u001b[1;31m---------------------------------------------------------------------------\u001b[0m",
      "\u001b[1;31mNameError\u001b[0m                                 Traceback (most recent call last)",
      "\u001b[1;32m<ipython-input-265-20b737fba730>\u001b[0m in \u001b[0;36m<module>\u001b[1;34m()\u001b[0m\n\u001b[0;32m      1\u001b[0m \u001b[1;32mdel\u001b[0m \u001b[0ma\u001b[0m\u001b[1;33m\u001b[0m\u001b[0m\n\u001b[1;32m----> 2\u001b[1;33m \u001b[1;32mprint\u001b[0m \u001b[0ma\u001b[0m\u001b[1;33m\u001b[0m\u001b[0m\n\u001b[0m",
      "\u001b[1;31mNameError\u001b[0m: name 'a' is not defined"
     ]
    }
   ],
   "source": [
    "del a\n",
    "print a"
   ]
  },
  {
   "cell_type": "code",
   "execution_count": 262,
   "metadata": {
    "collapsed": false
   },
   "outputs": [
    {
     "data": {
      "text/plain": [
       "5050"
      ]
     },
     "execution_count": 262,
     "metadata": {},
     "output_type": "execute_result"
    }
   ],
   "source": [
    "sum(range(1,101))"
   ]
  },
  {
   "cell_type": "code",
   "execution_count": 268,
   "metadata": {
    "collapsed": false
   },
   "outputs": [
    {
     "name": "stdout",
     "output_type": "stream",
     "text": [
      "hello world\n"
     ]
    }
   ],
   "source": [
    "def say_hello():\n",
    "    print \"hello world\"\n",
    "\n",
    "    \n",
    "say_hello\n",
    "say_hello()"
   ]
  },
  {
   "cell_type": "code",
   "execution_count": 269,
   "metadata": {
    "collapsed": false
   },
   "outputs": [
    {
     "name": "stdout",
     "output_type": "stream",
     "text": [
      "5\n"
     ]
    }
   ],
   "source": [
    "def addNum(a, b):#Define Function\n",
    "    return a+b #Return function\n",
    "print addNum(1,4)\n"
   ]
  },
  {
   "cell_type": "code",
   "execution_count": 272,
   "metadata": {
    "collapsed": false
   },
   "outputs": [
    {
     "name": "stdout",
     "output_type": "stream",
     "text": [
      "['__doc__', '__name__', '__package__', 'acos', 'acosh', 'asin', 'asinh', 'atan', 'atan2', 'atanh', 'ceil', 'copysign', 'cos', 'cosh', 'degrees', 'e', 'erf', 'erfc', 'exp', 'expm1', 'fabs', 'factorial', 'floor', 'fmod', 'frexp', 'fsum', 'gamma', 'hypot', 'isinf', 'isnan', 'ldexp', 'lgamma', 'log', 'log10', 'log1p', 'modf', 'pi', 'pow', 'radians', 'sin', 'sinh', 'sqrt', 'tan', 'tanh', 'trunc']\n",
      "4.0\n"
     ]
    }
   ],
   "source": [
    "import math\n",
    "print dir(math)\n",
    "a = 3.21\n",
    "print math.ceil(a)"
   ]
  },
  {
   "cell_type": "code",
   "execution_count": 273,
   "metadata": {
    "collapsed": false
   },
   "outputs": [
    {
     "name": "stdout",
     "output_type": "stream",
     "text": [
      "<module 'math' (built-in)>\n"
     ]
    }
   ],
   "source": [
    "import math #Importing Modules\n",
    "print math #Print Content"
   ]
  },
  {
   "cell_type": "code",
   "execution_count": 274,
   "metadata": {
    "collapsed": false
   },
   "outputs": [
    {
     "name": "stdout",
     "output_type": "stream",
     "text": [
      "['C:\\\\Python27\\\\lib\\\\site-packages\\\\ipykernel\\\\__main__.py', '-f', 'C:\\\\Users\\\\BigData\\\\AppData\\\\Roaming\\\\jupyter\\\\runtime\\\\kernel-e5af6ecb-aba3-4321-9889-ef6e5104bd9c.json']\n"
     ]
    }
   ],
   "source": [
    "import sys #Importing Modules\n",
    "print(sys.argv) #Print Argument"
   ]
  },
  {
   "cell_type": "code",
   "execution_count": 279,
   "metadata": {
    "collapsed": false
   },
   "outputs": [
    {
     "name": "stdout",
     "output_type": "stream",
     "text": [
      "name?\"david\"\n"
     ]
    }
   ],
   "source": [
    "contact = input('name?')"
   ]
  },
  {
   "cell_type": "code",
   "execution_count": 280,
   "metadata": {
    "collapsed": false
   },
   "outputs": [
    {
     "name": "stdout",
     "output_type": "stream",
     "text": [
      "name?david\n"
     ]
    }
   ],
   "source": [
    "contact = raw_input('name?')"
   ]
  },
  {
   "cell_type": "code",
   "execution_count": 289,
   "metadata": {
    "collapsed": true
   },
   "outputs": [],
   "source": [
    "def addContacts(name):\n",
    "    contact_list.append(name)\n",
    "    print \"You have %d contacts\" % (len(contact_list))"
   ]
  },
  {
   "cell_type": "code",
   "execution_count": 290,
   "metadata": {
    "collapsed": true
   },
   "outputs": [],
   "source": [
    "def get_contact():\n",
    "    print \"Your Contacts: %s\"%(contact_list)"
   ]
  },
  {
   "cell_type": "code",
   "execution_count": 293,
   "metadata": {
    "collapsed": false
   },
   "outputs": [],
   "source": [
    "contact_list = []\n",
    "def main():   \n",
    "    while True:\n",
    "        contact = raw_input(\"Input your username\")\n",
    "        if contact == \"Done\":\n",
    "            break\n",
    "        else:\n",
    "            addContacts(contact)\n",
    "    get_contact()\n"
   ]
  },
  {
   "cell_type": "code",
   "execution_count": 294,
   "metadata": {
    "collapsed": false
   },
   "outputs": [
    {
     "name": "stdout",
     "output_type": "stream",
     "text": [
      "Input your usernameDavid\n",
      "You have 1 contacts\n",
      "Input your usernameQoo\n",
      "You have 2 contacts\n",
      "Input your usernameDone\n",
      "Your Contacts: ['David', 'Qoo']\n"
     ]
    }
   ],
   "source": [
    "main()"
   ]
  },
  {
   "cell_type": "code",
   "execution_count": 218,
   "metadata": {
    "collapsed": false
   },
   "outputs": [
    {
     "name": "stdout",
     "output_type": "stream",
     "text": [
      "財經 【更新】深港通+馬習會　深圳股市收漲逾5...(2046) 15:00\n",
      "財經 台塑王瑞華：馬習會「樂觀其成」(482) 14:56\n",
      "國際 【央廣RTI】馬習會／學者：陸方試圖突破...(356) 14:48\n"
     ]
    }
   ],
   "source": [
    "from bs4 import BeautifulSoup\n",
    "url = 'http://www.appledaily.com.tw/realtimenews/section/new/' + str(1)\n",
    "res = requests.get(url)    \n",
    "soup = BeautifulSoup(res.text)\n",
    "for ele in soup.select('.rtddt'):\n",
    "    if '馬習會' in ele.select('h1')[0].text.encode('utf-8'):\n",
    "        print ele.select('h2')[0].text, ele.select('h1')[0].text, ele.select('time')[0].text "
   ]
  },
  {
   "cell_type": "code",
   "execution_count": 9,
   "metadata": {
    "collapsed": true
   },
   "outputs": [
    {
     "name": "stdout",
     "output_type": "stream",
     "text": [
      "國際 乘客踹機門　歐洲航班緊急降落(0) 10:22\n",
      "社會 酒駕直衝商店　消費者1死1傷(0) 10:22\n",
      "FUN 不要這樣玩弄古蹟  會壞掉啦(46) 10:21\n",
      "特企 \n",
      "\n",
      "【特企】歐盟非基改標準、IP豆種、不添加... (1952) 10:21\n",
      "政治 One Taiwan 產生問世　經典就是...(0) 10:21\n",
      "社會 台灣國防廉潔度　排名亞洲前段班(13) 10:20\n",
      "政治 專訪影片被挖出　馬：絕不跟大陸領導人見面(190) 10:18\n",
      "政治 馬習會周六舉行　外交部：已知會美日主要國...(612) 10:15\n",
      "生活 今上午9時蘇花公路有落石擊車　一人重傷送...(280) 10:14\n",
      "體育 【更新】林書豪15分　黃蜂大勝公牛終止開...(13849) 10:13\n",
      "財經 馬習會登場　曾銘宗：股市上漲反映和平紅利(171) 10:11\n",
      "生活 馬習會將登場　柯P：此消息應該早點講(0) 10:11\n",
      "生活 登革熱再奪12命　高雄單日病例再創新高(149) 10:09\n",
      "政治 馬習會前夕　網友揭「那一年差點被統一」(4127) 10:08\n",
      "政治 【幕後】馬習會在新加坡舉行　馬總統提議的(9529) 10:08\n",
      "生活 馬習會握手　柯P：習近平自求多福(793) 10:08\n",
      "政治 政大教授揭馬習會目的 「干預台灣選舉」(2015) 10:06\n",
      "社會 蘇花公路落石砸車　2人脫困、駕駛命危送醫(2495) 10:05\n",
      "政治 黃國昌高喊「罷免馬英九」　率眾前往總統府(5639) 10:05\n",
      "社會 酒店妹催情萬語　他用一招完封(3684) 10:03\n",
      "地產 【特企】房市大追擊-凶宅、嫌惡設施會影響...(98) 10:00\n",
      "財經 亞股跟進美股上漲　日股重返19000點(206) 09:57\n",
      "社會 賓士超車不成反逼車　慢慢折磨人(1858) 09:56\n",
      "搜奇 下課時間看A片　做錯了嗎？(2772) 09:55\n",
      "財經 張盛和：今年證交稅估與去年相當(176) 09:54\n",
      "生活 新制！台大等7大學明年招收百名公費醫學生(884) 09:54\n",
      "政治 馬習會遭轟　王炳忠反嗆：你們又幹出什麼？(4281) 09:53\n",
      "政治 馬習會　AIT：美一中政策未變(1000) 09:53\n",
      "政治 卸任前拚馬習會　台大教授譙馬英九「卑劣」(3827) 09:53\n",
      "FUN 媽，這次我真的翅膀硬了(1522) 09:51\n",
      "政治 綠委批馬習會黑箱　要求夏立言報告(966) 09:51\n"
     ]
    }
   ],
   "source": [
    "from bs4 import BeautifulSoup\n",
    "soup = BeautifulSoup(res.text)\n",
    "for ele in soup.select('.rtddt'):\n",
    "    print ele.select('h2')[0].text, ele.select('h1')[0].text, ele.select('time')[0].text "
   ]
  },
  {
   "cell_type": "code",
   "execution_count": 13,
   "metadata": {
    "collapsed": true
   },
   "outputs": [
    {
     "name": "stdout",
     "output_type": "stream",
     "text": [
      "政治 他用約分手砲形容馬習會　被封為神比喻！(0) 10:32 他用約分手砲形容馬習會　被封為神比喻！ 0\n",
      "政治 馬習周六會晤　民進黨：兩岸議題不應做選舉...(0) 10:31 馬習周六會晤　民進黨：兩岸議題不應做選舉... 0\n",
      "娛樂 揮單人氣暴跌　福山哥冠軍失守(0) 10:30 揮單人氣暴跌　福山哥冠軍失守 0\n",
      "社會 蘇花公路落石砸車　2人脫困、駕駛命危送醫(2738) 10:30 蘇花公路落石砸車　2人脫困、駕駛命危送醫 2738\n",
      "財經 101董座宋文琪想走　張盛和邀盧秀燕接棒...(0) 10:30 101董座宋文琪想走　張盛和邀盧秀燕接棒... 0\n",
      "財經 外資喊買聯亞光電  看好本季營收向上(0) 10:27 外資喊買聯亞光電  看好本季營收向上 0\n",
      "國際 乘客踹機門　歐洲航班緊急降落(46) 10:22 乘客踹機門　歐洲航班緊急降落 46\n",
      "社會 酒駕直衝商店　消費者1死1傷(174) 10:22 酒駕直衝商店　消費者1死1傷 174\n",
      "FUN 不要這樣玩弄古蹟  會壞掉啦(445) 10:21 不要這樣玩弄古蹟  會壞掉啦 445\n",
      "政治 One Taiwan 產生問世　經典就是...(282) 10:21 One Taiwan 產生問世　經典就是... 282\n",
      "社會 台灣國防廉潔度　排名亞洲前段班(157) 10:20 台灣國防廉潔度　排名亞洲前段班 157\n",
      "政治 專訪影片被挖出　馬：絕不跟大陸領導人見面(1023) 10:18 專訪影片被挖出　馬：絕不跟大陸領導人見面 1023\n",
      "政治 馬習會周六舉行　外交部：已知會美日主要國...(809) 10:15 馬習會周六舉行　外交部：已知會美日主要國... 809\n",
      "生活 今上午9時蘇花公路有落石擊車　一人重傷送...(382) 10:14 今上午9時蘇花公路有落石擊車　一人重傷送... 382\n",
      "體育 【更新】林書豪15分　黃蜂大勝公牛終止開...(15071) 10:13 【更新】林書豪15分　黃蜂大勝公牛終止開... 15071\n",
      "國際 【央廣RTI】俄羅斯反對  UN秘書長遴...(0) 10:13 【央廣RTI】俄羅斯反對  UN秘書長遴... 0\n",
      "財經 馬習會登場　曾銘宗：股市上漲反映和平紅利(408) 10:11 馬習會登場　曾銘宗：股市上漲反映和平紅利 408\n",
      "生活 馬習會將登場　柯P：此消息應該早點講(109) 10:11 馬習會將登場　柯P：此消息應該早點講 109\n",
      "生活 登革熱再奪12命　高雄單日病例再創新高(252) 10:09 登革熱再奪12命　高雄單日病例再創新高 252\n",
      "政治 馬習會前夕　網友揭「那一年差點被統一」(4659) 10:08 馬習會前夕　網友揭「那一年差點被統一」 4659\n",
      "政治 【幕後】馬習會在新加坡舉行　馬總統提議的(11425) 10:08 【幕後】馬習會在新加坡舉行　馬總統提議的 11425\n",
      "生活 馬習會握手　柯P：習近平自求多福(1281) 10:08 馬習會握手　柯P：習近平自求多福 1281\n",
      "政治 政大教授揭馬習會目的 「干預台灣選舉」(2543) 10:06 政大教授揭馬習會目的 「干預台灣選舉」 2543\n",
      "政治 黃國昌高喊「罷免馬英九」　率眾前往總統府(6024) 10:05 黃國昌高喊「罷免馬英九」　率眾前往總統府 6024\n",
      "社會 酒店妹催情萬語　他用一招完封(5634) 10:03 酒店妹催情萬語　他用一招完封 5634\n",
      "地產 【特企】房市大追擊-凶宅、嫌惡設施會影響...(103) 10:00 【特企】房市大追擊-凶宅、嫌惡設施會影響... 103\n",
      "財經 亞股跟進美股上漲　日股重返19000點(218) 09:57 亞股跟進美股上漲　日股重返19000點 218\n",
      "社會 賓士超車不成反逼車　慢慢折磨人(2334) 09:56 賓士超車不成反逼車　慢慢折磨人 2334\n",
      "搜奇 下課時間看A片　做錯了嗎？(2946) 09:55 下課時間看A片　做錯了嗎？ 2946\n",
      "財經 張盛和：今年證交稅估與去年相當(187) 09:54 張盛和：今年證交稅估與去年相當 187\n",
      "生活 新制！台大等7大學明年招收百名公費醫學生(1025) 09:54 新制！台大等7大學明年招收百名公費醫學生 1025\n",
      "政治 馬習會遭轟　王炳忠反嗆：你們又幹出什麼？(5121) 09:53 馬習會遭轟　王炳忠反嗆：你們又幹出什麼？ 5121\n",
      "政治 馬習會　AIT：美一中政策未變(1082) 09:53 馬習會　AIT：美一中政策未變 1082\n",
      "政治 卸任前拚馬習會　台大教授譙馬英九「卑劣」(4496) 09:53 卸任前拚馬習會　台大教授譙馬英九「卑劣」 4496\n",
      "FUN 媽，這次我真的翅膀硬了(1661) 09:51 媽，這次我真的翅膀硬了 1661\n",
      "政治 綠委批馬習會黑箱　要求夏立言報告(1058) 09:51 綠委批馬習會黑箱　要求夏立言報告 1058\n",
      "國際 全球最噁心「口香糖牆」　即將清除(1866) 09:50 全球最噁心「口香糖牆」　即將清除 1866\n",
      "財經 焦點股～日K連4紅　聯發科衝新高(274) 09:50 焦點股～日K連4紅　聯發科衝新高 274\n",
      "政治 馬總統曾稱任內「絕不見大陸領導」　小段酸...(1790) 09:49 馬總統曾稱任內「絕不見大陸領導」　小段酸... 1790\n",
      "社會 【賣淫名單曝光】18買春大亨　名單看這裡(20566) 09:49 【賣淫名單曝光】18買春大亨　名單看這裡 20566\n",
      "體育 藍鳥動用選擇權　留包大人等3名悍將(2392) 09:49 藍鳥動用選擇權　留包大人等3名悍將 2392\n",
      "國際 【央廣RTI】喜憂參半  麥當勞薯條重回...(281) 09:49 【央廣RTI】喜憂參半  麥當勞薯條重回... 281\n",
      "政治 抗議馬習會　學運團體、第三勢力政黨圍堵立...(1206) 09:47 抗議馬習會　學運團體、第三勢力政黨圍堵立... 1206\n",
      "政治 府院10點赴立院報告「馬習會」 《蘋果L...(10518) 09:45 府院10點赴立院報告「馬習會」 《蘋果L... 10518\n",
      "生活 因大雨致北迴線不通　台鐵：估17時搶通東...(34485) 09:40 因大雨致北迴線不通　台鐵：估17時搶通東... 34485\n",
      "體育 大都會與教頭柯林斯續約至2017年(1582) 09:38 大都會與教頭柯林斯續約至2017年 1582\n",
      "生活 「孩子有自己的天空」　慈母助障兒開畫展(305) 09:37 「孩子有自己的天空」　慈母助障兒開畫展 305\n",
      "生活 創新高！繁星推薦+個人申請招生名額破5....(580) 09:36 創新高！繁星推薦+個人申請招生名額破5.... 580\n",
      "政治 【財訊】謝金河：誰來投資台灣？下屆政府的...(2346) 09:35 【財訊】謝金河：誰來投資台灣？下屆政府的... 2346\n",
      "政治 【獨家】「馬習會」我方與會七名單曝光(24341) 09:34 【獨家】「馬習會」我方與會七名單曝光 24341\n",
      "生活 【網路溫度計】美味獨具！網路最紅十大披薩...(417) 09:34 【網路溫度計】美味獨具！網路最紅十大披薩... 417\n",
      "社會 【賣淫名單曝光】38位賣淫女星　花名冊全...(54317) 09:33 【賣淫名單曝光】38位賣淫女星　花名冊全... 54317\n",
      "財經 【更新】馬習會激勵　台股一度突破8千8(11492) 09:32 【更新】馬習會激勵　台股一度突破8千8 11492\n",
      "財經 焦點股～陸封測龍頭有意投資　台星科奔漲停(433) 09:31 焦點股～陸封測龍頭有意投資　台星科奔漲停 433\n",
      "財經 博物館學生優惠取消？　財政部：只是檢討(703) 09:30 博物館學生優惠取消？　財政部：只是檢討 703\n",
      "搜奇 男殺人切陰莖　對死者女友說「幹嘛找小雞男...(5433) 09:28 男殺人切陰莖　對死者女友說「幹嘛找小雞男... 5433\n",
      "生活 首例！宜蘭發布非颱風期間首次大豪雨特報(18367) 09:25 首例！宜蘭發布非颱風期間首次大豪雨特報 18367\n",
      "財經 感恩節促銷起跑　宏達電Nexus 9打頭...(799) 09:25 感恩節促銷起跑　宏達電Nexus 9打頭... 799\n",
      "政治 看馬習會　他拭目以待國民黨的全面反攻(6664) 09:24 看馬習會　他拭目以待國民黨的全面反攻 6664\n",
      "政治 馬習會賣台？他公布馬英九打的算盤真相(8156) 09:23 馬習會賣台？他公布馬英九打的算盤真相 8156\n",
      "國際 張志軍稱馬習會根據一中原則　兩岸領導人會...(38404) 09:22 張志軍稱馬習會根據一中原則　兩岸領導人會... 38404\n",
      "社會 西螺大橋疑有人落水　雲彰警消搜救(589) 09:21 西螺大橋疑有人落水　雲彰警消搜救 589\n",
      "財經 【更新】新台幣早盤～實質匯價再破32.4...(725) 09:19 【更新】新台幣早盤～實質匯價再破32.4... 725\n",
      "財經 張盛和：馬習會對台股是好事(453) 09:19 張盛和：馬習會對台股是好事 453\n",
      "娛樂 【痞客邦】這些DC與Marvel的強檔，...(370) 09:17 【痞客邦】這些DC與Marvel的強檔，... 370\n",
      "社會 演藝圈賣淫風暴　國內賣淫界「F4」現形(11691) 09:17 演藝圈賣淫風暴　國內賣淫界「F4」現形 11691\n",
      "政治 馬習會周六1500登場　雙方互稱先生共進...(17750) 09:17 馬習會周六1500登場　雙方互稱先生共進... 17750\n",
      "體育 美媒：洋基鎖定陳偉殷(28939) 09:16 美媒：洋基鎖定陳偉殷 28939\n",
      "社會 在野​黨抗議馬習會　立院外聚集舉牌抗議(1954) 09:15 在野​黨抗議馬習會　立院外聚集舉牌抗議 1954\n",
      "政治 【蘋果Live】「馬習會」7日登場　時代...(11885) 09:10 【蘋果Live】「馬習會」7日登場　時代... 11885\n",
      "論壇 【公庫】獄卒人生：懺悔(1222) 09:05 【公庫】獄卒人生：懺悔 1222\n",
      "國際 【更新】白宮看馬習會　「歡迎、但看結果是...(39149) 09:04 【更新】白宮看馬習會　「歡迎、但看結果是... 39149\n",
      "FUN 當初無奈休學　80年後落淚拿文憑(1634) 09:02 當初無奈休學　80年後落淚拿文憑 1634\n",
      "論壇 【公庫】這個議會還不屬於人民:桃園市議會...(814) 09:01 【公庫】這個議會還不屬於人民:桃園市議會... 814\n",
      "生活 小兒發燒 先找病因對症下藥(889) 09:00 小兒發燒 先找病因對症下藥 889\n",
      "生活 大福彩頭獎連56摃了　會不會再度摃龜？(1183) 09:00 大福彩頭獎連56摃了　會不會再度摃龜？ 1183\n",
      "生活 高鐵假期冬出遊3.5折起　APP可搞定(775) 09:00 高鐵假期冬出遊3.5折起　APP可搞定 775\n",
      "國際 淫魔稱被少女誘惑　法官：想扭斷你的脖子(4955) 08:54 淫魔稱被少女誘惑　法官：想扭斷你的脖子 4955\n",
      "政治 馬+習=騽　網友驚呼：古文藏先知密碼(8034) 08:53 馬+習=騽　網友驚呼：古文藏先知密碼 8034\n",
      "政治 馬習會周六登場　他酸馬「真是有始有終」(4840) 08:48 馬習會周六登場　他酸馬「真是有始有終」 4840\n",
      "體育 皇家30年來首次封王大遊行　堪薩斯市陷瘋...(3029) 08:48 皇家30年來首次封王大遊行　堪薩斯市陷瘋... 3029\n",
      "政治 馬習真的要會面　他怒換臉書封面(9721) 08:46 馬習真的要會面　他怒換臉書封面 9721\n",
      "體育 灰熊有意交易熱火錢默斯(1743) 08:45 灰熊有意交易熱火錢默斯 1743\n",
      "社會 【賣淫名單曝光】除ZSLW　1C2Y女星...(45937) 08:44 【賣淫名單曝光】除ZSLW　1C2Y女星... 45937\n",
      "政治 王丹批馬習會自私 「想過人民的感受嗎」(3754) 08:39 王丹批馬習會自私 「想過人民的感受嗎」 3754\n",
      "搜奇 為了50歲「辣媽」　28歲男友狂砍33歲...(8351) 08:38 為了50歲「辣媽」　28歲男友狂砍33歲... 8351\n",
      "論壇 馬習會賣台？　呂秋遠：有一件事可以確定(7524) 08:35 馬習會賣台？　呂秋遠：有一件事可以確定 7524\n",
      "體育 合球世界盃　臺灣提前晉級4強(534) 08:31 合球世界盃　臺灣提前晉級4強 534\n",
      "社會 重量級嫖客　傳買票議長捧千萬逼戴姊封口(29478) 08:29 重量級嫖客　傳買票議長捧千萬逼戴姊封口 29478\n",
      "娛樂 聖誕節大騙局　浩角翔起被識破(4347) 08:24 聖誕節大騙局　浩角翔起被識破 4347\n",
      "社會 【賣淫名單曝光】Z女素人出身　沒代表作知...(35438) 08:16 【賣淫名單曝光】Z女素人出身　沒代表作知... 35438\n",
      "體育 【歐冠】皇馬、曼城提前2輪出線(565) 08:16 【歐冠】皇馬、曼城提前2輪出線 565\n",
      "國際 慎入！IS士兵任務失敗　身體自爆斷兩節(11356) 08:12 慎入！IS士兵任務失敗　身體自爆斷兩節 11356\n",
      "財經 【財訊】從第3季營收亮眼族群　尋找第四季...(1085) 08:10 【財訊】從第3季營收亮眼族群　尋找第四季... 1085\n",
      "瘋啥 試聽不花錢  搶抽萬元耳機(965) 08:08 試聽不花錢  搶抽萬元耳機 965\n",
      "瘋啥 雙11湊一咖　新薑味咖啡膠囊超去寒(917) 08:07 雙11湊一咖　新薑味咖啡膠囊超去寒 917\n",
      "瘋啥 開車族必備　放電比2A還勇猛(3525) 08:05 開車族必備　放電比2A還勇猛 3525\n",
      "瘋啥 國產家電年度新品  大小家電齊發(1130) 08:04 國產家電年度新品  大小家電齊發 1130\n",
      "娛樂 巴黎行後變海咪咪　名模整形被抓到了(9427) 08:01 巴黎行後變海咪咪　名模整形被抓到了 9427\n",
      "娛樂 女友示愛也沒用　小豬被1句話惹火(7195) 08:00 女友示愛也沒用　小豬被1句話惹火 7195\n",
      "搜奇 肛肛好不好？　6成男人都想要(19981) 07:56 肛肛好不好？　6成男人都想要 19981\n",
      "時尚 人比人氣死人　影后自曝短腿缺點(3277) 07:51 人比人氣死人　影后自曝短腿缺點 3277\n",
      "娛樂 整形女友公開索愛　羅志祥這樣回應(11775) 07:51 整形女友公開索愛　羅志祥這樣回應 11775\n",
      "生活 【醫藥新知】女性飽餐後對談情說愛較有興趣(1647) 07:45 【醫藥新知】女性飽餐後對談情說愛較有興趣 1647\n",
      "社會 【賣淫名單曝光】Y女代言電玩起家　轉戰電...(35524) 07:38 【賣淫名單曝光】Y女代言電玩起家　轉戰電... 35524\n",
      "娛樂 50吳太機場堵人　吳奇隆失神嚇一跳(8554) 07:35 50吳太機場堵人　吳奇隆失神嚇一跳 8554\n",
      "生活 【醫藥新知】子宮內避孕器的長期避孕效益較...(2014) 07:35 【醫藥新知】子宮內避孕器的長期避孕效益較... 2014\n",
      "娛樂 【壹週刊】女打仔變歌手　楊凱琳苦熬2年出...(4002) 07:29 【壹週刊】女打仔變歌手　楊凱琳苦熬2年出... 4002\n",
      "娛樂 【壹週刊】滑倒成人體拖把　阿喜屁股開花慘...(6104) 07:29 【壹週刊】滑倒成人體拖把　阿喜屁股開花慘... 6104\n",
      "社會 山上養菇天雷地火　人妻竟一次就中(20470) 07:29 山上養菇天雷地火　人妻竟一次就中 20470\n",
      "財經 【壹週刊】不滿何薇玲訴願引外援　石世豪快...(3277) 07:27 【壹週刊】不滿何薇玲訴願引外援　石世豪快... 3277\n",
      "娛樂 【壹週刊】《康熙》倒數再留瞎事　潘若迪豪...(8051) 07:26 【壹週刊】《康熙》倒數再留瞎事　潘若迪豪... 8051\n",
      "社會 【賣淫名單曝光】女星Y姐　曾因親人登社會...(44030) 07:26 【賣淫名單曝光】女星Y姐　曾因親人登社會... 44030\n",
      "社會 相差26歲畸戀　少女撞球桌上遭性侵(15207) 07:21 相差26歲畸戀　少女撞球桌上遭性侵 15207\n",
      "社會 夭壽！密醫騙民眾肝硬化　賣偽藥詐5百萬(2394) 07:12 夭壽！密醫騙民眾肝硬化　賣偽藥詐5百萬 2394\n",
      "國際 美軍司令訪中　揚言「續巡航南海」(1647) 07:09 美軍司令訪中　揚言「續巡航南海」 1647\n",
      "社會 【壹週刊】躲十四K幫追殺　香港富商綁架案...(5599) 07:07 【壹週刊】躲十四K幫追殺　香港富商綁架案... 5599\n",
      "社會 名醫通姦生子棄家　癌妻死前為子女撤告(14831) 07:07 名醫通姦生子棄家　癌妻死前為子女撤告 14831\n",
      "社會 富商摔癱獲賠千萬　25K女桿弟剉咧等(16194) 07:07 富商摔癱獲賠千萬　25K女桿弟剉咧等 16194\n",
      "社會 【賣淫名單曝光】一線女星C女　電影走紅中...(88949) 07:06 【賣淫名單曝光】一線女星C女　電影走紅中... 88949\n",
      "社會 富商摔癱獲賠千萬　25K女桿弟剉咧等(16149) 07:07 富商摔癱獲賠千萬　25K女桿弟剉咧等 16149\n",
      "社會 【賣淫名單曝光】一線女星C女　電影走紅中...(89394) 07:06 【賣淫名單曝光】一線女星C女　電影走紅中... 89394\n",
      "娛樂  【狗仔偷拍】快點開　E奶女星男友胯下好...(15654) 07:02  【狗仔偷拍】快點開　E奶女星男友胯下好... 15654\n",
      "娛樂  【壹週刊】親密影片太受傷　安心亞拜三太...(6095) 07:01  【壹週刊】親密影片太受傷　安心亞拜三太... 6095\n",
      "財經 【壹週刊】微風信義獨家搶客　廖鎮漢肉搏吳...(2425) 07:00 【壹週刊】微風信義獨家搶客　廖鎮漢肉搏吳... 2425\n",
      "國際 【法廣RFI】台灣炸鍋:馬英九與習近平將...(3016) 06:59 【法廣RFI】台灣炸鍋:馬英九與習近平將... 3016\n",
      "國際 17歲進NASA　台裔神童4個月大會講話(7949) 06:58 17歲進NASA　台裔神童4個月大會講話 7949\n",
      "社會 【賣淫名單曝光】S姐女模出身　偶像劇暴紅...(66464) 06:58 【賣淫名單曝光】S姐女模出身　偶像劇暴紅... 66464\n",
      "國際 中共入侵　美電台變傳聲筒、司法部調查(1239) 06:52 中共入侵　美電台變傳聲筒、司法部調查 1239\n",
      "國際 「亡靈節」掃墓　3歲女童遭墓碑壓死(3197) 06:50 「亡靈節」掃墓　3歲女童遭墓碑壓死 3197\n",
      "社會 【賣淫名單曝光】L女星最大咖　亞洲知名度...(145728) 06:49 【賣淫名單曝光】L女星最大咖　亞洲知名度... 145728\n",
      "國際 馬習會　白宮：先看看談出什麼(3342) 06:46 馬習會　白宮：先看看談出什麼 3342\n",
      "社會 【壹週刊】小模爆　戴姐找未成年陪睡大陸土...(23395) 06:43 【壹週刊】小模爆　戴姐找未成年陪睡大陸土... 23395\n",
      "娛樂 【壹週刊】仲介事件波及　劉喬安當藝人夢碎(21335) 06:42 【壹週刊】仲介事件波及　劉喬安當藝人夢碎 21335\n",
      "娛樂 【壹週刊】被爆當小王　彈頭帶空姐開房間(19703) 06:42 【壹週刊】被爆當小王　彈頭帶空姐開房間 19703\n",
      "政治 黃昆輝痛批馬習會　「踐踏國家利益及尊嚴」(5018) 06:42 黃昆輝痛批馬習會　「踐踏國家利益及尊嚴」 5018\n",
      "生活 5縣市發布豪大雨特報　宜蘭縣慎防大豪雨(34411) 06:38 5縣市發布豪大雨特報　宜蘭縣慎防大豪雨 34411\n",
      "政治 十一月四日各報頭條搶先報(4463) 06:32 十一月四日各報頭條搶先報 4463\n",
      "國際 十一月四日世界各報頭條搶先報(1455) 06:30 十一月四日世界各報頭條搶先報 1455\n",
      "生活 不賠終改口　三商美邦軟化原因曝光(86534) 06:29 不賠終改口　三商美邦軟化原因曝光 86534\n",
      "娛樂 【壹週刊】劈腿哈林　張嘉欣急甩老外男友(31012) 06:22 【壹週刊】劈腿哈林　張嘉欣急甩老外男友 31012\n",
      "政治 【壹週刊】護朱有功進前10卻要王殿後  ...(7588) 06:21 【壹週刊】護朱有功進前10卻要王殿後  ... 7588\n",
      "政治 這幾周都在溝通馬習會　陸委會：沒偷偷摸摸(5286) 06:19 這幾周都在溝通馬習會　陸委會：沒偷偷摸摸 5286\n",
      "社會 女子公寓墜樓亡　警清查身份(11046) 06:18 女子公寓墜樓亡　警清查身份 11046\n",
      "生活 李進良乾爹　整形名醫演藝人脈起底(7780) 06:17 李進良乾爹　整形名醫演藝人脈起底 7780\n",
      "政治 馬習會為何選在新加坡？　其實早有淵源(6483) 06:15 馬習會為何選在新加坡？　其實早有淵源 6483\n",
      "娛樂 【壹週刊】遭影射賣淫Ｓ女星　林采緹半夜牽...(19897) 06:13 【壹週刊】遭影射賣淫Ｓ女星　林采緹半夜牽... 19897\n",
      "財經 華碩訂單補　華冠明年營收UP！(1201) 06:12 華碩訂單補　華冠明年營收UP！ 1201\n",
      "社會 【壹週刊】一線女星　18富豪捲入　檢警掌...(330071) 06:11 【壹週刊】一線女星　18富豪捲入　檢警掌... 330071\n",
      "政治 馬總統自打臉！　馬習會周六星國登場(12124) 06:10 馬總統自打臉！　馬習會周六星國登場 12124\n",
      "政治 馬習會成真　促成關鍵人物曝光(20655) 06:10 馬習會成真　促成關鍵人物曝光 20655\n",
      "財經 十一月四日財經焦點搶先看(2210) 05:58 十一月四日財經焦點搶先看 2210\n",
      "國際 福斯自爆：還有80萬輛車涉弊、損失710...(2781) 05:47 福斯自爆：還有80萬輛車涉弊、損失710... 2781\n",
      "社會 公寓6樓墜落　妙齡女命危(5995) 05:37 公寓6樓墜落　妙齡女命危 5995\n",
      "國際  想做成功人士　早餐前要完成這14件事(5393) 05:18  想做成功人士　早餐前要完成這14件事 5393\n",
      "國際 狂刷國際存在感？馬習會消息登世界媒體(5198) 04:41 狂刷國際存在感？馬習會消息登世界媒體 5198\n",
      "國際 濃霧籠罩歐洲　2.3萬航班大亂(374) 04:22 濃霧籠罩歐洲　2.3萬航班大亂 374\n",
      "論壇 H：感情問題回答之十(2391) 03:30 H：感情問題回答之十 2391\n",
      "論壇 鼻妹：火車之移動大冒險(1476) 03:30 鼻妹：火車之移動大冒險 1476\n",
      "論壇 劉黎兒：妻子外遇 也無妨 (7424) 03:30 劉黎兒：妻子外遇 也無妨  7424\n",
      "國際 高田氣囊瑕疵將　美政府重罰22億(3257) 03:28 高田氣囊瑕疵將　美政府重罰22億 3257\n",
      "國際 BBC：中台兩國領導人將首次會面(4282) 03:23 BBC：中台兩國領導人將首次會面 4282\n",
      "娛樂 慘被漩渦捲入　成龍險死在廣西(16354) 03:20 慘被漩渦捲入　成龍險死在廣西 16354\n",
      "娛樂 《十日性愛死》揭大導私密情慾　邊愛愛邊談...(8680) 03:02 《十日性愛死》揭大導私密情慾　邊愛愛邊談... 8680\n",
      "社會 撞球台嘿咻乾女兒　出獄恐嚇少女家人　(25468) 02:30 撞球台嘿咻乾女兒　出獄恐嚇少女家人　25468\n",
      "國際 馬習會登場　對岸網友：馬英九懦弱多年(15958) 02:27 馬習會登場　對岸網友：馬英九懦弱多年 15958\n",
      "國際 「馬習會登場」為哪樁　日媒這麼看(14155) 02:19 「馬習會登場」為哪樁　日媒這麼看 14155\n",
      "政治 中共官媒無聲　馬習會似「只能由台灣方面宣...(7986) 01:49 中共官媒無聲　馬習會似「只能由台灣方面宣... 7986\n",
      "政治 馬習會　趙春山：兩岸關係的歷史定位(6792) 01:33 馬習會　趙春山：兩岸關係的歷史定位 6792\n",
      "國際 馬習會　德國之聲：65年來重大突破(7194) 01:28 馬習會　德國之聲：65年來重大突破 7194\n",
      "國際 【國際好聞】若「燒夷彈女童」活在另個世界...(5676) 01:27 【國際好聞】若「燒夷彈女童」活在另個世界... 5676\n",
      "娛樂 蕭敬騰找回12年阿嬤遺物　淚崩訴此生遺憾(18595) 01:16 蕭敬騰找回12年阿嬤遺物　淚崩訴此生遺憾 18595\n",
      "國際 馬習會定案　日本網友：討論逃亡嗎？(11228) 01:16 馬習會定案　日本網友：討論逃亡嗎？ 11228\n",
      "國際 【法廣RFI】馬蒂亞斯•艾那爾德榮獲20...(448) 01:10 【法廣RFI】馬蒂亞斯•艾那爾德榮獲20... 448\n",
      "國際 馬習會　外交官雜誌：會面頭銜待確認(3174) 01:05 馬習會　外交官雜誌：會面頭銜待確認 3174\n",
      "國際 BBC中文網：馬習會7日在新加坡登場(3830) 00:58 BBC中文網：馬習會7日在新加坡登場 3830\n",
      "時尚 郭碧婷把茶當水喝　曾發呆紓壓忘回家(6670) 00:55 郭碧婷把茶當水喝　曾發呆紓壓忘回家 6670\n",
      "政治 馬習會見面身分　黃暐瀚：是總統對國家主席(26034) 00:52 馬習會見面身分　黃暐瀚：是總統對國家主席 26034\n",
      "國際 【法廣RFI】大陸原四川省政協主席獲刑１...(1426) 00:50 【法廣RFI】大陸原四川省政協主席獲刑１... 1426\n",
      "娛樂 女星變人妻豁出去　敷黑面膜直接上街(15057) 00:45 女星變人妻豁出去　敷黑面膜直接上街 15057\n",
      "國際 【法廣RFI】大陸原四川省政協主席獲刑１...(1426) 00:50 【法廣RFI】大陸原四川省政協主席獲刑１... 1426\n",
      "娛樂 女星變人妻豁出去　敷黑面膜直接上街(15103) 00:45 女星變人妻豁出去　敷黑面膜直接上街 15103\n",
      "國際 馬習會定案　外媒高度關注(5678) 00:43 馬習會定案　外媒高度關注 5678\n",
      "娛樂 星闊太44歲好嬌俏　紮馬尾約會富商(26839) 00:38 星闊太44歲好嬌俏　紮馬尾約會富商 26839\n",
      "政治 段宜康：馬習會沒不好　席哥把馬帶回去更好(8556) 00:34 段宜康：馬習會沒不好　席哥把馬帶回去更好 8556\n",
      "政治 ​朱訪美前傳馬習會　學者：恐衝擊朱選情 (17711) 00:31 ​朱訪美前傳馬習會　學者：恐衝擊朱選情  17711\n",
      "娛樂 【唱新聞】字母女星是誰？趕緊看過來(19034) 00:30 【唱新聞】字母女星是誰？趕緊看過來 19034\n",
      "國際 【法廣RFI】加中關係回暖在即(950) 00:30 【法廣RFI】加中關係回暖在即 950\n",
      "娛樂 女星分手憔悴　素顏買健康食品(39875) 00:29 女星分手憔悴　素顏買健康食品 39875\n",
      "FUN 前男友結婚    她請假打扮美美竟是為了...(19667) 00:29 前男友結婚    她請假打扮美美竟是為了... 19667\n",
      "社會 【苦勞網】民團批航空城養貪官 籲安置輔導...(1628) 00:29 【苦勞網】民團批航空城養貪官 籲安置輔導... 1628\n",
      "政治 會晤習近平　馬英九對歷次馬習會說法整理(8581) 00:29 會晤習近平　馬英九對歷次馬習會說法整理 8581\n",
      "政治 府方證實馬習會　時代力量號召共赴立院抗議(4732) 00:29 府方證實馬習會　時代力量號召共赴立院抗議 4732\n",
      "瘋啥 高通頻鋪梗    瞬間動態更好拍(1926) 00:27 高通頻鋪梗    瞬間動態更好拍 1926\n",
      "瘋啥 智慧充電線  換模式充更快(7726) 00:26 智慧充電線  換模式充更快 7726\n",
      "瘋啥 拼平價  宏碁機海今登場(4232) 00:25 拼平價  宏碁機海今登場 4232\n",
      "瘋啥 摺疊機二代  換皮再賣 (5357) 00:24 摺疊機二代  換皮再賣  5357\n",
      "動物 胖成這樣？遇到貓要逃都難(3832) 00:23 胖成這樣？遇到貓要逃都難 3832\n",
      "政治 馬習會　國台辦：我們態度積極開放(34864) 00:23 馬習會　國台辦：我們態度積極開放 34864\n",
      "財經 新產品太像　拍立得母公司控GoPro侵權(2493) 00:23 新產品太像　拍立得母公司控GoPro侵權 2493\n",
      "動物 狗兒打乒乓 超強DER！(1622) 00:22 狗兒打乒乓 超強DER！ 1622\n",
      "動物 我們這一家有狗有鳥還有？(3418) 00:21 我們這一家有狗有鳥還有？ 3418\n",
      "動物 只要給一點溫暖　牠可以起死回生(5081) 00:20 只要給一點溫暖　牠可以起死回生 5081\n",
      "動物 這一口咬下去杯具了  (4574) 00:19 這一口咬下去杯具了   4574\n",
      "動物 狗狗是這樣把妹的(2125) 00:18 狗狗是這樣把妹的 2125\n",
      "動物 好Q的頂上風光~(1451) 00:17 好Q的頂上風光~ 1451\n",
      "政治 馬習星國會晤　陳致中：馬用何種身份？(4383) 00:17 馬習星國會晤　陳致中：馬用何種身份？ 4383\n",
      "動物 厚！終於抓到你了 (3180) 00:16 厚！終於抓到你了  3180\n",
      "動物 汪星人好天真和影子捍衛地盤 (2266) 00:15 汪星人好天真和影子捍衛地盤  2266\n",
      "國際 【更新】馬習會定案　中國網友：統一有望、...(11411) 00:15 【更新】馬習會定案　中國網友：統一有望、... 11411\n",
      "動物 喵星人愛暖呼呼(2029) 00:13 喵星人愛暖呼呼 2029\n",
      "正妹 波多野結衣自曝性癖　這招讓她玩上癮(103034) 00:13 波多野結衣自曝性癖　這招讓她玩上癮 103034\n",
      "論壇 王金平始終是老K核心外的人(4677) 00:12 王金平始終是老K核心外的人 4677\n",
      "動物 是誰這麼大膽惹怒喵大爺(1867) 00:12 是誰這麼大膽惹怒喵大爺 1867\n",
      "動物 賣力撞門 流浪狗為自己爭取幸福(2422) 00:11 賣力撞門 流浪狗為自己爭取幸福 2422\n",
      "娛樂 超模慶生前後看光光　姊妹搶露事業線(20589) 00:10 超模慶生前後看光光　姊妹搶露事業線 20589\n",
      "論壇 名不符實的國際發明展(3742) 00:10 名不符實的國際發明展 3742\n",
      "FUN 【占卜】不勞而獲就是爽！(1367) 00:10 【占卜】不勞而獲就是爽！ 1367\n",
      "國際 【法廣RFI】美軍艦南海行後華府的外交攻...(1407) 00:10 【法廣RFI】美軍艦南海行後華府的外交攻... 1407\n",
      "FUN 她不是正妹    卻讓猛男帥哥都抱緊處理(4192) 00:09 她不是正妹    卻讓猛男帥哥都抱緊處理 4192\n",
      "政治 馬習會不簽協議　網友酸：此地無銀三百兩(5820) 00:09 馬習會不簽協議　網友酸：此地無銀三百兩 5820\n",
      "論壇 人間異語：重症醫師娘的淚水(7518) 00:08 人間異語：重症醫師娘的淚水 7518\n",
      "FUN 有了它，不再那麼討厭下雨天！(2366) 00:08 有了它，不再那麼討厭下雨天！ 2366\n",
      "FUN 【旅途中】原來衝浪板可以這樣玩(1426) 00:07 【旅途中】原來衝浪板可以這樣玩 1426\n",
      "論壇 豆花大戰 法務部當沒事嗎(3001) 00:06 豆花大戰 法務部當沒事嗎 3001\n",
      "FUN 超神奇伸展窗台     把好窄變豪宅(2649) 00:06 超神奇伸展窗台     把好窄變豪宅 2649\n",
      "FUN 大學室友超誇張！10種行為忍無可忍(5844) 00:05 大學室友超誇張！10種行為忍無可忍 5844\n",
      "論壇 朱宥勳：文學作品是可公評之物嗎(988) 00:04 朱宥勳：文學作品是可公評之物嗎 988\n",
      "FUN 【消夜文】五味雜陳的淡菜(1910) 00:04 【消夜文】五味雜陳的淡菜 1910\n",
      "財經 NIKE氣盛！　股價頻頻超越蘋果(2253) 00:04 NIKE氣盛！　股價頻頻超越蘋果 2253\n",
      "財經 【蘋果360】主持人兼畫家　龎銚想挑戰軟...(1497) 00:03 【蘋果360】主持人兼畫家　龎銚想挑戰軟... 1497\n",
      "政治 馬習會成定局　洪智坤：爭奪選後國共代理權(6348) 00:03 馬習會成定局　洪智坤：爭奪選後國共代理權 6348\n",
      "論壇 吳若權：宅男愛情診斷書(1281) 00:02 吳若權：宅男愛情診斷書 1281\n",
      "FUN 【這不是新聞】拒絕推銷電話的5種反應(4665) 00:02 【這不是新聞】拒絕推銷電話的5種反應 4665\n",
      "社會 打高爾夫遇玩命關頭　富商癱瘓獲賠千萬元(14968) 00:02 打高爾夫遇玩命關頭　富商癱瘓獲賠千萬元 14968\n",
      "娛樂 女星人緣好　29歲生日趴慶8攤(13820) 00:02 女星人緣好　29歲生日趴慶8攤 13820\n",
      "生活 【特企】歐盟非基改標準、IP豆種、不添加...(1982) 00:01 【特企】歐盟非基改標準、IP豆種、不添加... 1982\n",
      "FUN 【祕密客】真的！主廚是俊男(1360) 00:01 【祕密客】真的！主廚是俊男 1360\n",
      "生活 一句話惹毛服務業　第二點最想幹譙(4044) 00:01 一句話惹毛服務業　第二點最想幹譙 4044\n",
      "財經 11月4日(三)　全球重要經濟數據預覽(727) 00:01 11月4日(三)　全球重要經濟數據預覽 727\n",
      "生活 一句話惹毛服務業　第二點最想幹譙(4054) 00:01 一句話惹毛服務業　第二點最想幹譙 4054\n",
      "財經 11月4日(三)　全球重要經濟數據預覽(727) 00:01 11月4日(三)　全球重要經濟數據預覽 727\n",
      "社會 馬路就是運動場　她在路中央攀車拉筋(10611) 00:01 馬路就是運動場　她在路中央攀車拉筋 10611\n",
      "生活 【快看】六百萬點閱率　第3季冠軍廣告影片...(1441) 00:01 【快看】六百萬點閱率　第3季冠軍廣告影片... 1441\n",
      "論壇 許佑生：男人射精的死德行(7220) 00:00 許佑生：男人射精的死德行 7220\n",
      "生活 他數鈔票睡覺　嗆年輕人買不起廁所(23512) 00:00 他數鈔票睡覺　嗆年輕人買不起廁所 23512\n",
      "搜奇 2186隻綿羊齊放屁　新航班機迫降峇里島(61191) 00:00 2186隻綿羊齊放屁　新航班機迫降峇里島 61191\n",
      "正妹 【動新聞】E奶小模太胸狠　洋裝快被撐爆了(15596) 00:00 【動新聞】E奶小模太胸狠　洋裝快被撐爆了 15596\n",
      "FUN 遇上暗戀對象　4種血型女孩會有4種反應(5877) 00:00 遇上暗戀對象　4種血型女孩會有4種反應 5877\n",
      "國際 人妻為賺錢　3年內每周與男屍做愛(132602) 00:00 人妻為賺錢　3年內每周與男屍做愛 132602\n",
      "政治 馬習會將登場　音地大帝：馬英九持續賣台(4946) 23:56 馬習會將登場　音地大帝：馬英九持續賣台 4946\n",
      "政治 黃國昌批馬習會　「企圖出賣主權」(4514) 23:53 黃國昌批馬習會　「企圖出賣主權」 4514\n",
      "國際 【法廣RFI】東協國防部長系列會議吉隆坡...(427) 23:50 【法廣RFI】東協國防部長系列會議吉隆坡... 427\n",
      "政治 馬習會新加坡登場　他酸：該提前請他下台(11967) 23:49 馬習會新加坡登場　他酸：該提前請他下台 11967\n",
      "政治 王定宇轟馬習會　「偷偷摸摸、背離常規」(3472) 23:49 王定宇轟馬習會　「偷偷摸摸、背離常規」 3472\n",
      "政治 周六馬習會登場　綠黨議員：人民又得上街頭...(4636) 23:46 周六馬習會登場　綠黨議員：人民又得上街頭... 4636\n",
      "政治 總統府證實馬習會　不簽任何協議(32632) 23:44 總統府證實馬習會　不簽任何協議 32632\n",
      "娛樂 男團獻初體驗　一句話曖昧扯不清(4345) 23:36 男團獻初體驗　一句話曖昧扯不清 4345\n",
      "政治 馬習會拍板定案　林飛帆諷：任性如往昔(8294) 23:31 馬習會拍板定案　林飛帆諷：任性如往昔 8294\n",
      "國際 【法廣RFI】美將每季度兩次在南沙附近巡...(858) 23:30 【法廣RFI】美將每季度兩次在南沙附近巡... 858\n",
      "政治 周六馬習會　民進黨團：台灣人民不可能接受(9938) 23:28 周六馬習會　民進黨團：台灣人民不可能接受 9938\n",
      "政治 馬習周六星國會晤　民進黨批：時機可議(26891) 23:28 馬習周六星國會晤　民進黨批：時機可議 26891\n",
      "政治 11/7新加坡馬習會　府院明向國會報告(35256) 23:22 11/7新加坡馬習會　府院明向國會報告 35256\n",
      "財經 美國經濟怎麼救？　葛洛斯：賣長債買短債(1272) 23:22 美國經濟怎麼救？　葛洛斯：賣長債買短債 1272\n",
      "論壇 【法廣RFI】楊東平教授談大陸教育公平問...(374) 23:20 【法廣RFI】楊東平教授談大陸教育公平問... 374\n",
      "政治 【馬習會】米果：民調那麼低能代表啥啦(9111) 23:20 【馬習會】米果：民調那麼低能代表啥啦 9111\n",
      "政治 馬習會定案　網友酸：歷史定位不能等(9705) 23:18 馬習會定案　網友酸：歷史定位不能等 9705\n",
      "政治 宅神諷馬習會作用　「外帶肉骨茶嗎？」(8869) 23:13 宅神諷馬習會作用　「外帶肉骨茶嗎？」 8869\n",
      "國際 【法廣RFI】美國國務卿結束中亞五國之旅(687) 23:10 【法廣RFI】美國國務卿結束中亞五國之旅 687\n",
      "生活 逛百貨當吃貨！星港日台知名餐飲搶進微風信...(4514) 23:10 逛百貨當吃貨！星港日台知名餐飲搶進微風信... 4514\n",
      "社會 銀樓玻璃敲不破　搶匪落荒而逃(7174) 23:06 銀樓玻璃敲不破　搶匪落荒而逃 7174\n",
      "生活 深情夫顧中風癌妻憨兒 「我不疼  誰疼！...(7978) 23:00 深情夫顧中風癌妻憨兒 「我不疼  誰疼！... 7978\n",
      "政治 馬英九7日新加坡會晤習近平(68409) 22:58 馬英九7日新加坡會晤習近平 68409\n",
      "財經 【更新】投資人居高思危　美股小跌(3765) 22:51 【更新】投資人居高思危　美股小跌 3765\n",
      "財經 聯博：紅潮來襲　擁技術與IP優勢才能勝出(2240) 22:50 聯博：紅潮來襲　擁技術與IP優勢才能勝出 2240\n",
      "社會 娃娃車肇事翻車　12幼童受驚嚇(10174) 22:50 娃娃車肇事翻車　12幼童受驚嚇 10174\n",
      "國際 【法廣RFI】法總統呼籲陸說服新興國家減...(578) 22:50 【法廣RFI】法總統呼籲陸說服新興國家減... 578\n",
      "國際 日中學少年跳軌輕生　遺書透露遭霸凌(4392) 22:43 日中學少年跳軌輕生　遺書透露遭霸凌 4392\n",
      "生活 【更新】平安鹽祭將登場　Ｑ版王爺來助陣(3319) 22:40 【更新】平安鹽祭將登場　Ｑ版王爺來助陣 3319\n",
      "社會 【更新】爽賺百億卻污染環境　正新輪胎挨批(20411) 22:38 【更新】爽賺百億卻污染環境　正新輪胎挨批 20411\n",
      "社會 【更新】不老騎士夜衝逆襲國道　快被他嚇死(7899) 22:37 【更新】不老騎士夜衝逆襲國道　快被他嚇死 7899\n",
      "社會 【更新】運氣總會用完　消防暖男燒焦手套的...(76817) 22:36 【更新】運氣總會用完　消防暖男燒焦手套的... 76817\n",
      "時尚 【法廣RFI】法國時尚界怎麼了？(3839) 22:35 【法廣RFI】法國時尚界怎麼了？ 3839\n",
      "國際 梵蒂岡再傳洩密風暴　教宗改革恐受阻(1643) 22:27 梵蒂岡再傳洩密風暴　教宗改革恐受阻 1643\n",
      "國際 【法廣RFI】法國回聲報：巴黎打中國牌(1423) 22:25 【法廣RFI】法國回聲報：巴黎打中國牌 1423\n",
      "國際 一次網路聊天 少婦驚恐三年(15924) 22:19 一次網路聊天 少婦驚恐三年 15924\n",
      "國際 【法廣RFI】法總統訪韓推動雙邊全面合作(836) 22:15 【法廣RFI】法總統訪韓推動雙邊全面合作 836\n",
      "政治 拒任主委　王金平：已同意出任朱後援總會總...(13764) 22:13 拒任主委　王金平：已同意出任朱後援總會總... 13764\n",
      "財經 全球經濟何時好轉？　3隻「灰天鵝」決定(5257) 22:10 全球經濟何時好轉？　3隻「灰天鵝」決定 5257\n",
      "政治 【民報】小野不捨老友柯一正：進國會去拼 ...(4501) 22:10 【民報】小野不捨老友柯一正：進國會去拼 ... 4501\n",
      "體育 陳冠宇狀況佳　將擔任前2戰其中1場先發(8286) 22:09 陳冠宇狀況佳　將擔任前2戰其中1場先發 8286\n",
      "體育 【更新】台灣雙轟勝統一　組訓賽5勝1和(24557) 22:03 【更新】台灣雙轟勝統一　組訓賽5勝1和 24557\n",
      "財經 【更新】三商美邦意外險理賠案　學者：應建...(35671) 22:03 【更新】三商美邦意外險理賠案　學者：應建... 35671\n",
      "生活 宅神怒批孝子保險糾紛　網友諷：三商沒幫(39807) 22:03 宅神怒批孝子保險糾紛　網友諷：三商沒幫 39807\n",
      "國際 盜女裸照與性愛片　紐約爛警找嘸人辯護(10498) 22:01 盜女裸照與性愛片　紐約爛警找嘸人辯護 10498\n",
      "體育 桃猿二游搭檔歸位　郭嚴文、林智勝同場開轟(6396) 22:00 桃猿二游搭檔歸位　郭嚴文、林智勝同場開轟 6396\n",
      "財經 聯家軍成立焱元投資　將買回矽品股權？(6114) 21:55 聯家軍成立焱元投資　將買回矽品股權？ 6114\n",
      "國際 【法廣RFI】龔古爾文學獎将出 突國作家...(556) 21:53 【法廣RFI】龔古爾文學獎将出 突國作家... 556\n",
      "財經 台灣首富竟不願拿現金增資宏泰人壽(15095) 21:51 台灣首富竟不願拿現金增資宏泰人壽 15095\n",
      "體育 闖星國F1賽道　英男子判6周監禁(3058) 21:48 闖星國F1賽道　英男子判6周監禁 3058\n",
      "國際 惡水吞噬養老院　4老婦困地下室溺死(9412) 21:38 惡水吞噬養老院　4老婦困地下室溺死 9412\n",
      "國際 烏克蘭檢察總長遭狙擊　防彈玻璃救命(4209) 21:35 烏克蘭檢察總長遭狙擊　防彈玻璃救命 4209\n",
      "搜奇 學貸另類用法　讓罩杯從B→H(18173) 21:32 學貸另類用法　讓罩杯從B→H 18173\n",
      "瘋啥 【壹週刊】買 Apple TV 前　你要...(5455) 21:31 【壹週刊】買 Apple TV 前　你要... 5455\n",
      "娛樂 【娛樂online】為何？小豬1秒就發火(14624) 21:30 【娛樂online】為何？小豬1秒就發火 14624\n",
      "社會 【暖蘋果】公車司機開一半落跑了　只為(11342) 21:29 【暖蘋果】公車司機開一半落跑了　只為 11342\n",
      "體育 國民新教頭諜對諜　貝克扮程咬金殺出(7170) 21:28 國民新教頭諜對諜　貝克扮程咬金殺出 7170\n",
      "體育 盧彥勳首度搭檔李欣翰　華欣網賽晉雙打8強(933) 21:26 盧彥勳首度搭檔李欣翰　華欣網賽晉雙打8強 933\n",
      "娛樂 王心凌情歌發威　秀蘭瑪雅都說讚(10452) 21:26 王心凌情歌發威　秀蘭瑪雅都說讚 10452\n",
      "政治 國民黨要求藍委切結　不支持國會改革就祭黨...(10030) 21:23 國民黨要求藍委切結　不支持國會改革就祭黨... 10030\n",
      "財經 【更新】開放中國入股IC設計?施振榮：適...(2861) 21:21 【更新】開放中國入股IC設計?施振榮：適... 2861\n",
      "娛樂 產後減肥很蠢　花邊教主仍速回S曲線(20037) 21:15 產後減肥很蠢　花邊教主仍速回S曲線 20037\n",
      "時尚 44歲凍齡女星裝簡單　靠愛馬仕配色(13135) 21:15 44歲凍齡女星裝簡單　靠愛馬仕配色 13135\n",
      "財經 悠遊卡儲值金可網購　每天限3萬元(4009) 21:07 悠遊卡儲值金可網購　每天限3萬元 4009\n",
      "財經 對賭匯率TRF商品　大戶不能玩了(3758) 21:07 對賭匯率TRF商品　大戶不能玩了 3758\n",
      "娛樂 【更新】洪小鈴美腿跨那裡　王傳一起生理反...(28256) 21:06 【更新】洪小鈴美腿跨那裡　王傳一起生理反... 28256\n",
      "政治 汗字下多個孔　顏寬恒淌汙水(12611) 21:05 汗字下多個孔　顏寬恒淌汙水 12611\n",
      "財經 【更新】孝子保險理賠糾紛　三商美邦：不再...(167699) 21:04 【更新】孝子保險理賠糾紛　三商美邦：不再... 167699\n",
      "生活 【更新】男嬰嘔吐　赫見2.5公分別針刺喉(18812) 21:01 【更新】男嬰嘔吐　赫見2.5公分別針刺喉 18812\n",
      "娛樂 【漁人碼頭唱新聞】女星多P　街頭藝人都知...(87055) 21:00 【漁人碼頭唱新聞】女星多P　街頭藝人都知... 87055\n",
      "時尚 王大陸出國跑趴　征服香港妹(3759) 21:00 王大陸出國跑趴　征服香港妹 3759\n",
      "社會 【更新】下班見車禍　3護理師停車相助(11578) 20:59 【更新】下班見車禍　3護理師停車相助 11578\n",
      "生活 【更新】不等開幕搶先賞花　新社花海超亂的(12960) 20:58 【更新】不等開幕搶先賞花　新社花海超亂的 12960\n",
      "生活 【暖蘋果】熱心哥扶盲伯過馬路　網友讚「想...(21516) 20:57 【暖蘋果】熱心哥扶盲伯過馬路　網友讚「想... 21516\n",
      "生活 11月3日台灣彩券開獎號碼(4620) 20:52 11月3日台灣彩券開獎號碼 4620\n",
      "財經 孝子理賠糾紛不上訴　三商昨還發內部信【全...(143677) 20:52 孝子理賠糾紛不上訴　三商昨還發內部信【全... 143677\n",
      "FUN A片十大真相　最多人用的關鍵字是...　(106849) 20:50 A片十大真相　最多人用的關鍵字是...　106849\n",
      "社會 【四方報】雇主濫用  仲介摑臉  印看護...(4822) 20:46 【四方報】雇主濫用  仲介摑臉  印看護... 4822\n",
      "論壇 【公庫】我家的老樹和農地要被徵收了 抗議...(2372) 20:42 【公庫】我家的老樹和農地要被徵收了 抗議... 2372\n",
      "社會 【公庫】1128中科擴廠停工大遊行(3346) 20:39 【公庫】1128中科擴廠停工大遊行 3346\n",
      "時尚 阿嬌乖乖遮腿　靠腰帶升級型女　(4841) 20:37 阿嬌乖乖遮腿　靠腰帶升級型女　4841\n",
      "娛樂 祖雄帶妹泡湯　重要部位被砸(12113) 20:37 祖雄帶妹泡湯　重要部位被砸 12113\n",
      "生活 慟！塵爆傷患吳玟儀　出院後再入院竟不治(25888) 20:35 慟！塵爆傷患吳玟儀　出院後再入院竟不治 25888\n",
      "論壇 中選會當然該舉辦政黨辯論會(1276) 20:34 中選會當然該舉辦政黨辯論會 1276\n",
      "國際 不得諾貝爾太可惜　你怎麼看(2285) 20:33 不得諾貝爾太可惜　你怎麼看 2285\n",
      "生活 分享拒賠案遭保險業同學批　她回：是非不分(51277) 20:26 分享拒賠案遭保險業同學批　她回：是非不分 51277\n",
      "財經 【更新】魔獸吃糖！暴雪1930億併Can...(50487) 20:25 【更新】魔獸吃糖！暴雪1930億併Can... 50487\n",
      "國際 和男友私奔　19歲少女慘遭投石致死(45132) 20:24 和男友私奔　19歲少女慘遭投石致死 45132\n",
      "生活 柯文哲：北市國小電子圍籬明年底全數完成(3095) 20:21 柯文哲：北市國小電子圍籬明年底全數完成 3095\n",
      "社會 【四方報】戲說菸酒檳防制種籽培育　在彰化...(1239) 20:21 【四方報】戲說菸酒檳防制種籽培育　在彰化... 1239\n",
      "社會 三商美邦願賠償　家屬：弟弟孝心終於可以留...(52906) 20:19 三商美邦願賠償　家屬：弟弟孝心終於可以留... 52906\n",
      "社會 出海口抓紅蟳　男疑心臟病發亡(5273) 20:19 出海口抓紅蟳　男疑心臟病發亡 5273\n",
      "時尚 昆凌百萬鑽飾加身　甩甜美風(7646) 20:15 昆凌百萬鑽飾加身　甩甜美風 7646\n",
      "國際 性侵女客UBER司機　被判終身監禁(5544) 20:13 性侵女客UBER司機　被判終身監禁 5544\n",
      "體育 金酒籃球隊新Logo太武山當後盾(4388) 20:12 金酒籃球隊新Logo太武山當後盾 4388\n",
      "社會 【獨】大逆轉！名醫妻飆桃機　稱：「全因航...(234054) 20:09 【獨】大逆轉！名醫妻飆桃機　稱：「全因航... 234054\n",
      "時尚 蔡詩芸聯手PUMA　新歌教女生勇敢愛(3071) 20:08 蔡詩芸聯手PUMA　新歌教女生勇敢愛 3071\n",
      "生活 蘇花觀音段坍方　晚間7時20分搶通(2651) 20:07 蘇花觀音段坍方　晚間7時20分搶通 2651\n",
      "娛樂 漂白成功！柯震東沾毒15個月後　確認復出...(15822) 20:06 漂白成功！柯震東沾毒15個月後　確認復出... 15822\n",
      "財經 股價狂飆　華擎提前公布Q3賺0.55元(3477) 20:06 股價狂飆　華擎提前公布Q3賺0.55元 3477\n",
      "國際 一天2罐甜味飲料　增加心臟病風險23%(2730) 19:59 一天2罐甜味飲料　增加心臟病風險23% 2730\n",
      "社會 【更新】捷運共構宅延2年交屋　建商判賠4...(15519) 19:57 【更新】捷運共構宅延2年交屋　建商判賠4... 15519\n",
      "財經 亞馬遜平板帶旺　仁寶Q4出貨看俏(1487) 19:55 亞馬遜平板帶旺　仁寶Q4出貨看俏 1487\n",
      "國際 【法廣RFI】氣候問題:法總統尋求北京的...(611) 19:55 【法廣RFI】氣候問題:法總統尋求北京的... 611\n",
      "生活 三商美邦要賠了　網友怒：回不去的商譽！(100149) 19:54 三商美邦要賠了　網友怒：回不去的商譽！ 100149\n",
      "時尚 莉莉柯林斯低胸配西服　帥過魔戒神射手(5192) 19:53 莉莉柯林斯低胸配西服　帥過魔戒神射手 5192\n",
      "財經 【更新】葛洛斯跳槽以來最大打擊：索羅斯抽...(4680) 19:52 【更新】葛洛斯跳槽以來最大打擊：索羅斯抽... 4680\n",
      "娛樂 【更新】關之琳與百億富商情變　錄影笑嗨嗨(31864) 19:50 【更新】關之琳與百億富商情變　錄影笑嗨嗨 31864\n",
      "財經 【更新】2015繁榮指數　台灣進步1名至...(4341) 19:49 【更新】2015繁榮指數　台灣進步1名至... 4341\n",
      "國際 拒絕男友婚約　巴國妙齡女被燒死(11876) 19:48 拒絕男友婚約　巴國妙齡女被燒死 11876\n",
      "財經 大聯大本季營收估跌3.89~8.16%(1244) 19:48 大聯大本季營收估跌3.89~8.16% 1244\n",
      "娛樂 韋禮安飄癡漢fu　偷窺情侶幹什麼(4021) 19:45 韋禮安飄癡漢fu　偷窺情侶幹什麼 4021\n",
      "財經 【更新】渣打Q3意外虧損　擬裁員1.5萬...(7394) 19:44 【更新】渣打Q3意外虧損　擬裁員1.5萬... 7394\n",
      "生活 【更新】江守山指新光醫院抹黑　要告新光(48310) 19:43 【更新】江守山指新光醫院抹黑　要告新光 48310\n",
      "財經 【法廣RFI】法國企業積極籌備巴黎氣候大...(384) 19:40 【法廣RFI】法國企業積極籌備巴黎氣候大... 384\n",
      "社會 救護車又被撞！　救護員搶救不停手(17739) 19:39 救護車又被撞！　救護員搶救不停手 17739\n",
      "體育 推廣身障者健康運動　國際輪椅羽球邀請賽6...(929) 19:38 推廣身障者健康運動　國際輪椅羽球邀請賽6... 929\n",
      "財經 施振榮：宏碁自建雲3架飛機將起飛(4545) 19:35 施振榮：宏碁自建雲3架飛機將起飛 4545\n",
      "時尚 湯唯愛現Ferragamo鞋　第一個穿好...(5373) 19:35 湯唯愛現Ferragamo鞋　第一個穿好... 5373\n",
      "財經 緯創宏碁中興軟創合資　打造重慶打樣中心(1457) 19:34 緯創宏碁中興軟創合資　打造重慶打樣中心 1457\n",
      "社會 【更新】媚登峰莊雅清姪兒　跑步趕公車昏倒...(140901) 19:32 【更新】媚登峰莊雅清姪兒　跑步趕公車昏倒... 140901\n",
      "社會 好痛！油門「催真雄」　修車工遭撞斷腿(14255) 19:31 好痛！油門「催真雄」　修車工遭撞斷腿 14255\n",
      "國際 【微博熱點】文青美照背後的蠢樣與辛酸(5223) 19:29 【微博熱點】文青美照背後的蠢樣與辛酸 5223\n",
      "生活 八仙塵爆第14死　吳玟儀肝衰竭不治(30509) 19:29 八仙塵爆第14死　吳玟儀肝衰竭不治 30509\n",
      "生活 柯P發長輩圖提醒員工保暖　「認同請分享」(4953) 19:20 柯P發長輩圖提醒員工保暖　「認同請分享」 4953\n",
      "政治 第三勢力搶地盤　時代力量、綠社盟港湖提名...(4888) 19:19 第三勢力搶地盤　時代力量、綠社盟港湖提名... 4888\n",
      "財經 宏碁切入電動車　施振榮：台灣懂車的太少　(4405) 19:19 宏碁切入電動車　施振榮：台灣懂車的太少　4405\n",
      "生活 【更新】文化女童案　家屬撤銷國賠申請(6613) 19:15 【更新】文化女童案　家屬撤銷國賠申請 6613\n",
      "論壇 滷蛋的滋味(3675) 19:14 滷蛋的滋味 3675\n",
      "生活 【央廣RTI】警察史蹟館啟用 記錄台灣治...(851) 19:14 【央廣RTI】警察史蹟館啟用 記錄台灣治... 851\n",
      "生活 【更新】喬兵役的小凱回聘當委員　柯P：他...(11873) 19:13 【更新】喬兵役的小凱回聘當委員　柯P：他... 11873\n",
      "生活 男友叫她別化妝　她真素顏赴約結果...(52277) 19:13 男友叫她別化妝　她真素顏赴約結果... 52277\n",
      "體育 台灣隊二壘守備組　林志祥早有體認(8889) 19:13 台灣隊二壘守備組　林志祥早有體認 8889\n",
      "生活 【更新】輔選惹議　柯：朱立倫也會拜託站台(45906) 19:12 【更新】輔選惹議　柯：朱立倫也會拜託站台 45906\n",
      "娛樂 T.O.P率野田妹　周五密抵寶島打戲(7921) 19:11 T.O.P率野田妹　周五密抵寶島打戲 7921\n",
      "國際 尼泊爾山區巴士翻覆　釀30死35傷(1554) 19:10 尼泊爾山區巴士翻覆　釀30死35傷 1554\n",
      "財經 【法廣RFI】陸總理擬會見日本經濟訪華團(433) 19:10 【法廣RFI】陸總理擬會見日本經濟訪華團 433\n",
      "生活 35大學註冊率差列管　教育部堅不公布校名(3749) 19:08 35大學註冊率差列管　教育部堅不公布校名 3749\n",
      "論壇 兒少性交應該除罪化(6475) 19:07 兒少性交應該除罪化 6475\n",
      "體育 4年前的今天弄斷腿　高國輝穿同套球衣(8509) 19:06 4年前的今天弄斷腿　高國輝穿同套球衣 8509\n",
      "財經 【法廣RFI】陸總理擬會見日本經濟訪華團(433) 19:10 【法廣RFI】陸總理擬會見日本經濟訪華團 433\n",
      "生活 35大學註冊率差列管　教育部堅不公布校名(3762) 19:08 35大學註冊率差列管　教育部堅不公布校名 3762\n",
      "論壇 兒少性交應該除罪化(6475) 19:07 兒少性交應該除罪化 6475\n",
      "體育 4年前的今天弄斷腿　高國輝穿同套球衣(8531) 19:06 4年前的今天弄斷腿　高國輝穿同套球衣 8531\n",
      "財經 國父150歲紀念銀幣　央行秀新技術(6921) 19:05 國父150歲紀念銀幣　央行秀新技術 6921\n",
      "政治 【民調】你覺得王金平應被列國民黨不分區第...(13061) 19:05 【民調】你覺得王金平應被列國民黨不分區第... 13061\n",
      "國際 「基地」分支濫殺珍稀動物　肢解長頸鹿(4203) 19:04 「基地」分支濫殺珍稀動物　肢解長頸鹿 4203\n",
      "國際 【央廣RTI】俄外長將會UN敘利亞特使(324) 19:03 【央廣RTI】俄外長將會UN敘利亞特使 324\n",
      "社會 闖屋搶老人皮包　吃檳榔花光贓款(2578) 19:02 闖屋搶老人皮包　吃檳榔花光贓款 2578\n",
      "時尚 天后裝嫩　拎 PS1扮學生妹(7182) 19:00 天后裝嫩　拎 PS1扮學生妹 7182\n",
      "娛樂 【奶姬妹】最賺超模祕密動刀　胸器再進化(20155) 19:00 【奶姬妹】最賺超模祕密動刀　胸器再進化 20155\n",
      "論壇 王金平的「馬劫」與「朱害」(4654) 19:00 王金平的「馬劫」與「朱害」 4654\n",
      "國際 【法廣RFI】新疆當局雙開總編、官員 拍...(1034) 18:59 【法廣RFI】新疆當局雙開總編、官員 拍... 1034\n",
      "社會 偷車界魯蛇逆襲　泡水車還魂集團瓦解(5320) 18:59 偷車界魯蛇逆襲　泡水車還魂集團瓦解 5320\n",
      "搜奇 【圖輯】裸背印「用我」　內衣女穿高跟鞋遊...(9860) 18:58 【圖輯】裸背印「用我」　內衣女穿高跟鞋遊... 9860\n",
      "社會 角頭殺妻　「踩到血滑倒才刺進老婆胸膛」(47388) 18:57 角頭殺妻　「踩到血滑倒才刺進老婆胸膛」 47388\n",
      "社會 【獨】情侶欠租落跑　餓死喵星人剩毛皮送房...(228818) 18:55 【獨】情侶欠租落跑　餓死喵星人剩毛皮送房... 228818\n",
      "財經 【直擊】 董事長做了個動作　LV都飛起來...(4220) 18:54 【直擊】 董事長做了個動作　LV都飛起來... 4220\n",
      "娛樂 【更新】韓瑜失婚獨用餐　「戀上一個人的美...(298162) 18:52 【更新】韓瑜失婚獨用餐　「戀上一個人的美... 298162\n",
      "國際 【央廣RTI】以煽動為名  以色列軍方關...(665) 18:52 【央廣RTI】以煽動為名  以色列軍方關... 665\n",
      "社會 美國護照好棒棒！名醫妻嗆海關「給我小心」(158342) 18:50 美國護照好棒棒！名醫妻嗆海關「給我小心」 158342\n",
      "國際 性侵9歲女童不遂　15歲少年將她推下樓(10386) 18:46 性侵9歲女童不遂　15歲少年將她推下樓 10386\n",
      "體育 陳金鋒成為自由球員　林智勝不意外(16400) 18:45 陳金鋒成為自由球員　林智勝不意外 16400\n",
      "財經 銘旺實首季接單佳　寮國新廠10月完工(1306) 18:44 銘旺實首季接單佳　寮國新廠10月完工 1306\n",
      "政治 美台商業協會見馬總統　稱150%支持台灣...(2209) 18:41 美台商業協會見馬總統　稱150%支持台灣... 2209\n",
      "國際 港大錄音風波　梁振英：偷錄音不道德(1986) 18:41 港大錄音風波　梁振英：偷錄音不道德 1986\n",
      "體育 扛台灣隊4棒  林益全「就當是第4個上場...(8593) 18:39 扛台灣隊4棒  林益全「就當是第4個上場... 8593\n",
      "生活 【央廣RTI】認識台灣最好的方式  野島...(636) 18:38 【央廣RTI】認識台灣最好的方式  野島... 636\n",
      "國際 【法廣RFI】大公報撤陸辨事處 益港左報...(267) 18:37 【法廣RFI】大公報撤陸辨事處 益港左報... 267\n",
      "社會 男颱風天溺斃地下室　家屬求國賠2181萬(17805) 18:35 男颱風天溺斃地下室　家屬求國賠2181萬 17805\n",
      "政治 【更新】小英質疑太平島觀光　朱立倫酸她是...(7929) 18:28 【更新】小英質疑太平島觀光　朱立倫酸她是... 7929\n",
      "生活 強國漁船越界　新北艦航抵金門護漁　(2520) 18:28 強國漁船越界　新北艦航抵金門護漁　2520\n",
      "財經 台達垂直關節機器人　中國工博會首曝光(1382) 18:28 台達垂直關節機器人　中國工博會首曝光 1382\n",
      "生活 【央廣RTI】登革熱病例地圖上線  掌握...(906) 18:28 【央廣RTI】登革熱病例地圖上線  掌握... 906\n",
      "社會 世足賽用球代工大廠　驚爆協理捲款潛逃(2850) 18:26 世足賽用球代工大廠　驚爆協理捲款潛逃 2850\n",
      "國際 【動新聞】以色列狠爸　體罰女兒竟是塞水桶(2901) 18:26 【動新聞】以色列狠爸　體罰女兒竟是塞水桶 2901\n",
      "生活 又2車款涉排污造假？環署：760輛待釐清(3381) 18:25 又2車款涉排污造假？環署：760輛待釐清 3381\n",
      "體育 炫富退休拳王扮電影角色佯裝搶銀行(3733) 18:25 炫富退休拳王扮電影角色佯裝搶銀行 3733\n",
      "財經 京城銀獲利動能恢復　10月每股賺0.4元(1103) 18:24 京城銀獲利動能恢復　10月每股賺0.4元 1103\n",
      "財經 【更新】知名科技公關公司爆內鬼　董座告董...(7680) 18:23 【更新】知名科技公關公司爆內鬼　董座告董... 7680\n",
      "生活 討戰文？　他千字控台灣女性亞洲最「公主」(54767) 18:23 討戰文？　他千字控台灣女性亞洲最「公主」 54767\n",
      "國際 巴西1歲半男童　花園咬死毒蛇(27770) 18:20 巴西1歲半男童　花園咬死毒蛇 27770\n",
      "政治 【更新】王金平上周三求見遭拒　朱立倫：沒...(106085) 18:18 【更新】王金平上周三求見遭拒　朱立倫：沒... 106085\n",
      "財經 董季華將接任遠雄人壽董座(1344) 18:18 董季華將接任遠雄人壽董座 1344\n",
      "政治 【更新】鄭秀玲辭台大經濟系主任　加入時代...(24401) 18:15 【更新】鄭秀玲辭台大經濟系主任　加入時代... 24401\n",
      "國際 土豪撐不起Armani外套　遭譏像鬆垮醫...(12196) 18:15 土豪撐不起Armani外套　遭譏像鬆垮醫... 12196\n",
      "國際 【動新聞】就愛這一味！犯人偷渡麥當勞入獄(2900) 18:14 【動新聞】就愛這一味！犯人偷渡麥當勞入獄 2900\n",
      "時尚 女神焦慮才搞怪　黑白獨眼龍Look踩街(2501) 18:12 女神焦慮才搞怪　黑白獨眼龍Look踩街 2501\n",
      "生活 「我有沒有職業倦怠」　20徵兆告訴你(30942) 18:12 「我有沒有職業倦怠」　20徵兆告訴你 30942\n",
      "政治 朱王心結　網友：台灣公道伯遇到詐騙集團(5645) 18:11 朱王心結　網友：台灣公道伯遇到詐騙集團 5645\n",
      "生活 花都藝術節設計爆抄襲　包商坦承套用(2268) 18:11 花都藝術節設計爆抄襲　包商坦承套用 2268\n",
      "社會 馬自達殺手自製「萬能金鑰」 數秒完美偷車(16828) 18:10 馬自達殺手自製「萬能金鑰」 數秒完美偷車 16828\n",
      "生活 北市16處土壤液化警戒　柯：1年內統整公...(1810) 18:09 北市16處土壤液化警戒　柯：1年內統整公... 1810\n",
      "社會 女兒不像爸　原來人妻11年前一夜情...(105460) 18:06 女兒不像爸　原來人妻11年前一夜情... 105460\n",
      "國際 【法廣RFI】陸黨紀條例尚未生效 已超前...(628) 18:06 【法廣RFI】陸黨紀條例尚未生效 已超前... 628\n",
      "娛樂 【今周刊】王大文 在台灣找回自己的聲音(2800) 18:05 【今周刊】王大文 在台灣找回自己的聲音 2800\n",
      "社會 【更新】中國工行參股永豐銀　台聯告發連勝...(4344) 18:04 【更新】中國工行參股永豐銀　台聯告發連勝... 4344\n",
      "政治 台東火車票多難買　查關鍵字跑出「一票難求...(2347) 18:02 台東火車票多難買　查關鍵字跑出「一票難求... 2347\n",
      "體育 大女兒Joanne獻花　郭總：很感動(19033) 18:01 大女兒Joanne獻花　郭總：很感動 19033\n",
      "國際 【財訊】沙烏地阿拉伯的油價殺戮策略　不惜...(5139) 18:00 【財訊】沙烏地阿拉伯的油價殺戮策略　不惜... 5139\n",
      "體育 大女兒Joanne獻花　郭總：很感動(19013) 18:01 大女兒Joanne獻花　郭總：很感動 19013\n",
      "國際 【財訊】沙烏地阿拉伯的油價殺戮策略　不惜...(5142) 18:00 【財訊】沙烏地阿拉伯的油價殺戮策略　不惜... 5142\n",
      "生活 【更新】台中這大樓要不要拆　正反方快打起...(8562) 17:58 【更新】台中這大樓要不要拆　正反方快打起... 8562\n",
      "社會 三商美邦拒賠孝子　法官提4歷程打臉(158665) 17:58 三商美邦拒賠孝子　法官提4歷程打臉 158665\n",
      "生活 兒時玩伴失聯44年　戶政尋人助重逢(2078) 17:57 兒時玩伴失聯44年　戶政尋人助重逢 2078\n",
      "生活 【民報】張鈞甯罕病公益廣告首播：因為有你...(1089) 17:57 【民報】張鈞甯罕病公益廣告首播：因為有你... 1089\n",
      "娛樂 【更新】中國首富獨子夜店泡妞　一晚喝掉百...(245147) 17:55 【更新】中國首富獨子夜店泡妞　一晚喝掉百... 245147\n",
      "生活 【更新】高鐵雲林站明啟用　開放團體參觀和...(6031) 17:54 【更新】高鐵雲林站明啟用　開放團體參觀和... 6031\n",
      "國際 【央廣RTI】難民危機   無國籍孩童人...(521) 17:54 【央廣RTI】難民危機   無國籍孩童人... 521\n",
      "地產 東區空置店面多　3年還租不出去(6439) 17:53 東區空置店面多　3年還租不出去 6439\n",
      "財經 iOS每「升」愈下？　網友抱怨卡卡(4826) 17:52 iOS每「升」愈下？　網友抱怨卡卡 4826\n",
      "國際 北韓無人島建不明設施　引南韓關注(2130) 17:51 北韓無人島建不明設施　引南韓關注 2130\n",
      "財經 【法廣RFI】法中籤署系列協議 陸將投資...(405) 17:50 【法廣RFI】法中籤署系列協議 陸將投資... 405\n",
      "體育 30歲女騎師奪澳洲墨爾本盃155年賽史首...(1154) 17:47 30歲女騎師奪澳洲墨爾本盃155年賽史首... 1154\n",
      "社會 男大生慶生酒駕　1死1昏迷(16801) 17:44 男大生慶生酒駕　1死1昏迷 16801\n",
      "生活 【更新】衝刺年底車市　車商本月競推優惠(3809) 17:41 【更新】衝刺年底車市　車商本月競推優惠 3809\n",
      "FUN 迎聖誕 歐美品牌推新品搶客(1789) 17:41 迎聖誕 歐美品牌推新品搶客 1789\n",
      "政治 傅崐萁動員百人歡迎朱立倫　提醒「全台選情...(6289) 17:39 傅崐萁動員百人歡迎朱立倫　提醒「全台選情... 6289\n",
      "國際 【法廣RFI】土總統希望世界尊重其大選結...(403) 17:39 【法廣RFI】土總統希望世界尊重其大選結... 403\n",
      "地產 豪宅漏水求售？　建商：誤會一場(5505) 17:38 豪宅漏水求售？　建商：誤會一場 5505\n",
      "社會 張家榮逮捕張家榮　「命中註定逮到你」(4636) 17:36 張家榮逮捕張家榮　「命中註定逮到你」 4636\n",
      "財經 LG摺疊孝親機登台　6千有找(3750) 17:35 LG摺疊孝親機登台　6千有找 3750\n",
      "FUN 孩子掉落車外　家人不理繼續開(10498) 17:34 孩子掉落車外　家人不理繼續開 10498\n",
      "國際 【央廣RTI】愛爾蘭政府設立海洛因注射中...(876) 17:34 【央廣RTI】愛爾蘭政府設立海洛因注射中... 876\n",
      "體育 國手運動員轉職　凱撒飯店釋百職缺　(6179) 17:34 國手運動員轉職　凱撒飯店釋百職缺　6179\n",
      "國際 兄弟會趴「僅限白人女子」　耶魯大學惹議(4348) 17:33 兄弟會趴「僅限白人女子」　耶魯大學惹議 4348\n",
      "國際 複製網路成功秘訣　亞馬遜開設首間實體書店(1052) 17:31 複製網路成功秘訣　亞馬遜開設首間實體書店 1052\n",
      "生活 台彩推天生贏家刮刮樂　達14個百萬頭獎(2457) 17:31 台彩推天生贏家刮刮樂　達14個百萬頭獎 2457\n",
      "體育 南韓不怕大谷翔平　可能派金廣鉉對日本(11507) 17:28 南韓不怕大谷翔平　可能派金廣鉉對日本 11507\n",
      "生活 自行車擬開放載幼童　交通部將訂配套(1341) 17:27 自行車擬開放載幼童　交通部將訂配套 1341\n",
      "娛樂 【暖蘋果】混血歌姬來台最棒的事　美聲感化...(7578) 17:22 【暖蘋果】混血歌姬來台最棒的事　美聲感化... 7578\n",
      "生活 多款便秘浣腸劑漲價　公平會要查(1539) 17:22 多款便秘浣腸劑漲價　公平會要查 1539\n",
      "生活 台中人小心！城市地雷　圖片血腥慎入(13898) 17:21 台中人小心！城市地雷　圖片血腥慎入 13898\n",
      "社會 開車撞安全島　妻重傷夫命危(8213) 17:17 開車撞安全島　妻重傷夫命危 8213\n",
      "政治 朱立倫下周二訪美　可望進入白宮與國務院(43347) 17:14 朱立倫下周二訪美　可望進入白宮與國務院 43347\n",
      "財經 【誰說餐飲不景氣？】王品陳正輝沒在怕～(4460) 17:12 【誰說餐飲不景氣？】王品陳正輝沒在怕～ 4460\n",
      "社會 【影片】雙煞沒錢搭小黃　竟叩友洗劫運將(6168) 17:07 【影片】雙煞沒錢搭小黃　竟叩友洗劫運將 6168\n",
      "國際 【TOMO雙語爆】4.5公里深海沉船　許...(2708) 17:05 【TOMO雙語爆】4.5公里深海沉船　許... 2708\n",
      "財經 美股快不行了？　有人預言牛市終結(5580) 17:05 美股快不行了？　有人預言牛市終結 5580\n",
      "社會 呂忠吉首出庭　當庭認罪卻又這麼說(8292) 17:03 呂忠吉首出庭　當庭認罪卻又這麼說 8292\n",
      "社會 台灣人好欺負？撞人老外嗆警FUCK後竟閃...(16565) 17:00 台灣人好欺負？撞人老外嗆警FUCK後竟閃... 16565\n",
      "娛樂 隋棠老公怪招馭兒　圍兜兜圈臉防漏(28111) 17:00 隋棠老公怪招馭兒　圍兜兜圈臉防漏 28111\n",
      "時尚 54歲黛姨好辣　黑裙打洞勾嫩草(8115) 17:00 54歲黛姨好辣　黑裙打洞勾嫩草 8115\n",
      "FUN 臉書新錄音功能　DenKa神曲讓網友用心...(2925) 17:00 臉書新錄音功能　DenKa神曲讓網友用心... 2925\n",
      "生活 參與研究計畫送禮券是利誘？中研院：是補助(1244) 16:59 參與研究計畫送禮券是利誘？中研院：是補助 1244\n",
      "國際 英國胖母閉門苦練　15個月減去半個自己(6306) 16:57 英國胖母閉門苦練　15個月減去半個自己 6306\n",
      "國際 美國佛州「降雪」　積雪達1.5公尺？(3385) 16:56 美國佛州「降雪」　積雪達1.5公尺？ 3385\n",
      "生活 【快搶喔】福容響應刺激經濟　推出超優惠方...(2641) 16:56 【快搶喔】福容響應刺激經濟　推出超優惠方... 2641\n",
      "FUN 【更新】這個醫生好壞　女孩崩潰跳小蘋果求...(19606) 16:55 【更新】這個醫生好壞　女孩崩潰跳小蘋果求... 19606\n",
      "生活 【更新】蘇花公路坍方　下午4時40分搶通(29862) 16:51 【更新】蘇花公路坍方　下午4時40分搶通 29862\n",
      "社會 肚餓偷蘋果　警給紅包嬤哭了(12364) 16:49 肚餓偷蘋果　警給紅包嬤哭了 12364\n",
      "地產 日本人搞什麼？　繽紛屋看的眼睛都花了(3610) 16:47 日本人搞什麼？　繽紛屋看的眼睛都花了 3610\n",
      "社會 兩車擦撞　騎士遭壓車底幸腳傷(2273) 16:46 兩車擦撞　騎士遭壓車底幸腳傷 2273\n",
      "財經 彭淮南澄清：並未表示贊同廢證所稅(2251) 16:45 彭淮南澄清：並未表示贊同廢證所稅 2251\n",
      "國際 【TOMO雙語爆】大學員工被爆為女拉皮條...(4480) 16:44 【TOMO雙語爆】大學員工被爆為女拉皮條... 4480\n",
      "生活 騙很大！臥床漸凍人喝蜂蜜飲能走路(6533) 16:43 騙很大！臥床漸凍人喝蜂蜜飲能走路 6533\n",
      "國際 【TOMO雙語爆】日本無業男盜墓　變賣陪...(2350) 16:43 【TOMO雙語爆】日本無業男盜墓　變賣陪... 2350\n",
      "國際 【TOMO雙語爆】芝加哥合法持槍客　擊斃...(1808) 16:43 【TOMO雙語爆】芝加哥合法持槍客　擊斃... 1808\n",
      "國際 【TOMO雙語爆】番茄醬裸女超嗨　跳上餐...(5750) 16:42 【TOMO雙語爆】番茄醬裸女超嗨　跳上餐... 5750\n",
      "生活 連日豪雨　蘇澳至東澳路段封閉不通(1246) 16:38 連日豪雨　蘇澳至東澳路段封閉不通 1246\n",
      "生活 毛！房內出現「死」字　你敢住嗎？(63348) 16:37 毛！房內出現「死」字　你敢住嗎？ 63348\n",
      "政治 驚爆拔柱錄音檔！「她讓男人面子掛不住」(220855) 16:37 驚爆拔柱錄音檔！「她讓男人面子掛不住」 220855\n",
      "財經 【名家獻寶】10大必收藏鈔票曝光(6944) 16:36 【名家獻寶】10大必收藏鈔票曝光 6944\n",
      "國際 拍荒淫吸毒片介紹泰國　戰鬥小情侶被砲翻(12341) 16:35 拍荒淫吸毒片介紹泰國　戰鬥小情侶被砲翻 12341\n",
      "國際 不滿第二胎是女兒　男子逼8月孕妻墮胎(9353) 16:34 不滿第二胎是女兒　男子逼8月孕妻墮胎 9353\n",
      "社會 喝酒喝得不爽快　少年持蝴蝶刀殺友(4794) 16:33 喝酒喝得不爽快　少年持蝴蝶刀殺友 4794\n",
      "政治 警察史蹟館啟用　陳威仁：傳承警察歷史(1691) 16:31 警察史蹟館啟用　陳威仁：傳承警察歷史 1691\n",
      "國際 選美佳麗泳裝秀　台灣辣妹不討喜(51506) 16:30 選美佳麗泳裝秀　台灣辣妹不討喜 51506\n",
      "娛樂 暴力名導再爆不倫　攬小三同居ing(19592) 16:30 暴力名導再爆不倫　攬小三同居ing 19592\n",
      "正妹 30秒乳震185次　「奇檬子奇檬子奇檬子...(150129) 16:29 30秒乳震185次　「奇檬子奇檬子奇檬子... 150129\n",
      "國際 雪梨海灘驚見劇毒海蛇　漂離棲地數千公里(9725) 16:28 雪梨海灘驚見劇毒海蛇　漂離棲地數千公里 9725\n",
      "體育 自由球員申請截止　還是鋒哥、大師兄、達鴻...(9193) 16:26 自由球員申請截止　還是鋒哥、大師兄、達鴻... 9193\n",
      "政治 【更新】朱立倫提太平島觀光　羅紹和冷回應(10730) 16:25 【更新】朱立倫提太平島觀光　羅紹和冷回應 10730\n",
      "生活 鄉民10疑點　爆「350E獵雷艦」不單純(50625) 16:24 鄉民10疑點　爆「350E獵雷艦」不單純 50625\n",
      "財經 資料建檔隨心所欲　卡西歐標籤機搶市(1677) 16:22 資料建檔隨心所欲　卡西歐標籤機搶市 1677\n",
      "生活 ​乳牛業開放外勞否？　最快下月確定(923) 16:22 ​乳牛業開放外勞否？　最快下月確定 923\n",
      "生活 她這樣捏一捏摸一摸　這葡萄還有誰要買？(12383) 16:20 她這樣捏一捏摸一摸　這葡萄還有誰要買？ 12383\n",
      "生活 【更新】中興航空欠薪　北市府：本周將再開...(1604) 16:17 【更新】中興航空欠薪　北市府：本周將再開... 1604\n",
      "財經 【現場直擊】真假？Stan哥現場脫了(1372) 16:17 【現場直擊】真假？Stan哥現場脫了 1372\n",
      "財經 【證所稅喊廢】證券股飆　挑戰半年線(33128) 16:16 【證所稅喊廢】證券股飆　挑戰半年線 33128\n",
      "生活 【更新】高鐵新三站曝光　原來長這樣......(28330) 16:15 【更新】高鐵新三站曝光　原來長這樣...... 28330\n",
      "生活 有了這認證　蚵仔寮更勝東京築地(4473) 16:15 有了這認證　蚵仔寮更勝東京築地 4473\n",
      "動物 鶴立雞群你也會？　鴨子：略懂略懂(4999) 16:12 鶴立雞群你也會？　鴨子：略懂略懂 4999\n",
      "國際 IG擁百萬追隨者　為什麼她要放棄帳號？(25059) 16:11 IG擁百萬追隨者　為什麼她要放棄帳號？ 25059\n",
      "財經 平板動能趨緩　亞馬遜買5送1突圍(1134) 16:09 平板動能趨緩　亞馬遜買5送1突圍 1134\n",
      "財經 新台幣收盤~32.625元　升值9.6分(804) 16:05 新台幣收盤~32.625元　升值9.6分 804\n",
      "國際 放浪男女　商場親子廁所內吸毒做愛(9266) 16:03 放浪男女　商場親子廁所內吸毒做愛 9266\n",
      "體育 ​U16台灣擊敗日本　全勝進8強  (6079) 16:01 ​U16台灣擊敗日本　全勝進8強   6079\n",
      "娛樂 這是混血兒？ 劉玉玲Q兒正面曝光　借種成...(37699) 16:00 這是混血兒？ 劉玉玲Q兒正面曝光　借種成... 37699\n",
      "生活 美容展一元競標　還抽免費拉皮課程(587) 15:59 美容展一元競標　還抽免費拉皮課程 587\n",
      "體育 NBA走步管超鬆　今天再創一例(12821) 15:58 NBA走步管超鬆　今天再創一例 12821\n",
      "生活 【暖蘋果】一張照片：孩子我還沒愛夠你！(56545) 15:57 【暖蘋果】一張照片：孩子我還沒愛夠你！ 56545\n",
      "財經 中裕愛滋新藥　估明年Q3取得FDA藥證(2871) 15:57 中裕愛滋新藥　估明年Q3取得FDA藥證 2871\n",
      "國際 趁隙啾咪愛妻　91歲老總統好浪漫(4688) 15:57 趁隙啾咪愛妻　91歲老總統好浪漫 4688\n",
      "政治 【更新】吳思瑤要求釋出政戰校區　羅紹和：...(8144) 15:52 【更新】吳思瑤要求釋出政戰校區　羅紹和：... 8144\n",
      "社會 快瘋了！綠燈了前車不動　一看竟沒駕駛(16691) 15:52 快瘋了！綠燈了前車不動　一看竟沒駕駛 16691\n",
      "生活 挑戰最低價　SOGO周年慶商品券加碼送(1733) 15:52 挑戰最低價　SOGO周年慶商品券加碼送 1733\n",
      "娛樂 【暖蘋果】李炳輝沒錢賺就義演　老婆拒欠人...(45655) 15:51 【暖蘋果】李炳輝沒錢賺就義演　老婆拒欠人... 45655\n",
      "生活 第三季YouTube最成功廣告　台灣之星...(1403) 15:50 第三季YouTube最成功廣告　台灣之星... 1403\n",
      "論壇 氣爆和解  為緩解家屬痛苦(2145) 15:49 氣爆和解  為緩解家屬痛苦 2145\n",
      "國際 【央廣RTI】餐廳菜單標示卡路里  效果...(562) 15:46 【央廣RTI】餐廳菜單標示卡路里  效果... 562\n",
      "國際 「這是性侵嗎？」　BBC新節目惹議(13240) 15:45 「這是性侵嗎？」　BBC新節目惹議 13240\n",
      "論壇 遷松機 打造兆元經濟新契機(2666) 15:44 遷松機 打造兆元經濟新契機 2666\n",
      "娛樂 導演漏口風～章子怡真的懷孕了！(44182) 15:40 導演漏口風～章子怡真的懷孕了！ 44182\n",
      "正妹 最強胴體女優Julia　性愛教室5連發(101234) 15:39 最強胴體女優Julia　性愛教室5連發 101234\n",
      "國際 「多情總統」歐蘭德　帶前前女友訪中 (2111) 15:38 「多情總統」歐蘭德　帶前前女友訪中  2111\n",
      "社會 台版藍可兒墜樓亡　母提4點質疑不單純(15068) 15:37 台版藍可兒墜樓亡　母提4點質疑不單純 15068\n",
      "社會 遇警臨檢心虛落跑　當場「挫賽」(3948) 15:33 遇警臨檢心虛落跑　當場「挫賽」 3948\n",
      "體育 「日本一」MVP李大浩　宣告挑戰大聯盟(14358) 15:29 「日本一」MVP李大浩　宣告挑戰大聯盟 14358\n",
      "財經 【更新】徐翔案引騷動　陸股震盪收挫(3400) 15:28 【更新】徐翔案引騷動　陸股震盪收挫 3400\n",
      "財經 服務業成景氣明燈　消費產業受惠(925) 15:27 服務業成景氣明燈　消費產業受惠 925\n",
      "生活 【更新】想抗老　用這十種偏方就GG了！　(4467) 15:26 【更新】想抗老　用這十種偏方就GG了！　4467\n",
      "政治 美眾院挺台入國際刑警組織　民進黨表感謝(2143) 15:24 美眾院挺台入國際刑警組織　民進黨表感謝 2143\n",
      "體育 NBA今日戰績(6288) 15:23 NBA今日戰績 6288\n",
      "生活 【更新】柯文哲早7晚10　議員送乖乖要柯...(5179) 15:22 【更新】柯文哲早7晚10　議員送乖乖要柯... 5179\n",
      "政治 演習視同作戰　女標槍飛彈手為參戰延後婚期(4489) 15:21 演習視同作戰　女標槍飛彈手為參戰延後婚期 4489\n",
      "國際 「基地」組織呼籲追隨者　發動孤狼式恐攻(1593) 15:21 「基地」組織呼籲追隨者　發動孤狼式恐攻 1593\n",
      "財經 安永調查　8成台商認為貪污賄賂普遍(2033) 15:21 安永調查　8成台商認為貪污賄賂普遍 2033\n",
      "地產 神工具　讓你不用找室內設計師(8563) 15:20 神工具　讓你不用找室內設計師 8563\n",
      "社會 更生美展「璀璨的人生」　味丹小開油畫參展(4462) 15:14 更生美展「璀璨的人生」　味丹小開油畫參展 4462\n",
      "瘋啥 小米：我們不做6吋手機(6584) 15:14 小米：我們不做6吋手機 6584\n",
      "論壇 兩岸和平的偽善修辭(2095) 15:13 兩岸和平的偽善修辭 2095\n",
      "娛樂 周揚青呼喚愛　小豬想婚了(21142) 15:11 周揚青呼喚愛　小豬想婚了 21142\n",
      "搜奇 搭機被建議加購座位　她甩肉90公斤大蛻變(14425) 15:10 搭機被建議加購座位　她甩肉90公斤大蛻變 14425\n",
      "生活 世大運臨時人員成卡位平台？柯：政風需介入(1575) 15:10 世大運臨時人員成卡位平台？柯：政風需介入 1575\n",
      "財經 兩岸獲利增　震旦前3季每股賺2.9元(1007) 15:09 兩岸獲利增　震旦前3季每股賺2.9元 1007\n",
      "生活 EF英語力指標報告　台灣是亞洲第7(1484) 15:05 EF英語力指標報告　台灣是亞洲第7 1484\n",
      "國際 【央廣RTI】孤狼行動號角響起  恐怖攻...(965) 15:05 【央廣RTI】孤狼行動號角響起  恐怖攻... 965\n",
      "正妹 輔大正妹月曆　12位美女一次曝光(31972) 15:04 輔大正妹月曆　12位美女一次曝光 31972\n",
      "生活 超萌交通安全熊平安貼圖　今起免費下載(2225) 15:04 超萌交通安全熊平安貼圖　今起免費下載 2225\n",
      "政治 澎湖藍綠過招　帶職參選副議長被酸(5002) 15:01 澎湖藍綠過招　帶職參選副議長被酸 5002\n",
      "娛樂 阿B慘賠數百萬　控彭順小三新歡害的！(45791) 15:00 阿B慘賠數百萬　控彭順小三新歡害的！ 45791\n",
      "時尚 格雷女現身電影獎　激凸櫬Gucci(6776) 15:00 格雷女現身電影獎　激凸櫬Gucci 6776\n",
      "生活 雨不停　新北等4縣市發布豪雨、大雨特報(41271) 14:58 雨不停　新北等4縣市發布豪雨、大雨特報 41271\n",
      "國際 【蟻人入侵？】陸海關查獲8百活蟻　恐致生...(156303) 14:57 【蟻人入侵？】陸海關查獲8百活蟻　恐致生... 156303\n",
      "生活 【更新】喝咖啡不只聊是非　微風信義創「廁...(5304) 14:55 【更新】喝咖啡不只聊是非　微風信義創「廁... 5304\n",
      "社會 【更新】這東西只要被女人穿過　就會讓他忍...(34745) 14:54 【更新】這東西只要被女人穿過　就會讓他忍... 34745\n",
      "社會 酒駕射擊實境體驗！　警史館今天成立(3968) 14:54 酒駕射擊實境體驗！　警史館今天成立 3968\n",
      "社會 香港富商遭綁前密會總統駙馬？　影片曝光(10242) 14:52 香港富商遭綁前密會總統駙馬？　影片曝光 10242\n",
      "財經 搶雙11單身財　療癒甜品網購發燒(1219) 14:50 搶雙11單身財　療癒甜品網購發燒 1219\n",
      "國際 深圳連鎖商場烤鴨　驚現大活肥蛆蛆(4149) 14:48 深圳連鎖商場烤鴨　驚現大活肥蛆蛆 4149\n",
      "財經 文曄前3季EPS 3.35元　本季營收小...(960) 14:48 文曄前3季EPS 3.35元　本季營收小... 960\n",
      "瘋啥 【更新】搶雙11商機  紅米Note 2...(8541) 14:45 【更新】搶雙11商機  紅米Note 2... 8541\n",
      "政治 宋楚瑜體驗做甜甜圈　直呼比當總統還難(2188) 14:45 宋楚瑜體驗做甜甜圈　直呼比當總統還難 2188\n",
      "國際 南極融冰一發不可收拾　海平面將上升3米(13533) 14:38 南極融冰一發不可收拾　海平面將上升3米 13533\n",
      "社會 賣油的燒炭　小21歲妻趕去救他(9845) 14:37 賣油的燒炭　小21歲妻趕去救他 9845\n",
      "生活 漲票價卻不漲租金　桃園球場年租金僅30萬(3810) 14:33 漲票價卻不漲租金　桃園球場年租金僅30萬 3810\n",
      "社會 邵國寧白色巨塔貪污　起訴再添一樁(4443) 14:33 邵國寧白色巨塔貪污　起訴再添一樁 4443\n",
      "社會 注意！十種餐桌胎哥鬼　約嘸妹吃飯別哭哭(14397) 14:30 注意！十種餐桌胎哥鬼　約嘸妹吃飯別哭哭 14397\n",
      "政治 【更新】公關費多到花不完　高市議員父母生...(16776) 14:29 【更新】公關費多到花不完　高市議員父母生... 16776\n",
      "搜奇 8成男人都很好色　「百人斬」告訴你(190381) 14:24 8成男人都很好色　「百人斬」告訴你 190381\n",
      "生活 傳導干擾超過標準　大潤發的平板最嚴重(2851) 14:24 傳導干擾超過標準　大潤發的平板最嚴重 2851\n",
      "生活 【更新】高鐵新增三站通車搶客　推團體6....(5980) 14:23 【更新】高鐵新增三站通車搶客　推團體6.... 5980\n",
      "生活 【央廣RTI】孩子的教室在社運街頭 聽家...(509) 14:23 【央廣RTI】孩子的教室在社運街頭 聽家... 509\n",
      "國際 秀臀肌就給現金　男女爭相露屁屁(2988) 14:21 秀臀肌就給現金　男女爭相露屁屁 2988\n",
      "生活 男友第一次10秒就射　她當天就分手(352871) 14:21 男友第一次10秒就射　她當天就分手 352871\n",
      "FUN 【更新】看見台鐵絕美路段 你去過哪幾個？...(12344) 14:20 【更新】看見台鐵絕美路段 你去過哪幾個？... 12344\n",
      "FUN 老婆喝醉盧小的一句話　讓他忍不住上網靠北(11053) 14:19 老婆喝醉盧小的一句話　讓他忍不住上網靠北 11053\n",
      "生活 高雄登革熱日增252例　全台總數破3萬！(1790) 14:18 高雄登革熱日增252例　全台總數破3萬！ 1790\n",
      "財經 【更新】人工智慧夯　Appier再獲創投...(2832) 14:17 【更新】人工智慧夯　Appier再獲創投... 2832\n",
      "財經 紅米Note 2國際版　雙十一港台星馬開...(2162) 14:17 紅米Note 2國際版　雙十一港台星馬開... 2162\n",
      "娛樂 V6井之原主持《紅白》　救援天然呆綾瀨遙(5710) 14:15 V6井之原主持《紅白》　救援天然呆綾瀨遙 5710\n",
      "地產 買老屋翻修夯　佔比逾4成(5032) 14:10 買老屋翻修夯　佔比逾4成 5032\n",
      "娛樂 浩角翔起改裝聖誕老人　女兒哭哭惹(7426) 14:10 浩角翔起改裝聖誕老人　女兒哭哭惹 7426\n",
      "國際 新鋪跑道甲苯超標　深圳多名小學生流鼻血(1467) 14:10 新鋪跑道甲苯超標　深圳多名小學生流鼻血 1467\n",
      "財經 SOGO周年慶12日開跑　東區3店業績衝...(1990) 14:06 SOGO周年慶12日開跑　東區3店業績衝... 1990\n",
      "財經 聯想新品10連發　官網旗艦店開幕(1177) 14:04 聯想新品10連發　官網旗艦店開幕 1177\n",
      "娛樂 孫鵬好大的膽子　嗆狄鶯不要頂嘴(123702) 14:03 孫鵬好大的膽子　嗆狄鶯不要頂嘴 123702\n",
      "社會 單親童寄住「叔叔」房間　被性侵80次(19667) 14:01 單親童寄住「叔叔」房間　被性侵80次 19667\n",
      "時尚 女神姊妹黑白配！潔西卡開新店　暗藏男友(5029) 14:00 女神姊妹黑白配！潔西卡開新店　暗藏男友 5029\n",
      "國際 【央廣RTI】職業足球員比球技也要比牙齒(619) 14:00 【央廣RTI】職業足球員比球技也要比牙齒 619\n",
      "FUN 【更新】超討厭！泡湯玩水最不想碰上的5種...(8300) 13:57 【更新】超討厭！泡湯玩水最不想碰上的5種... 8300\n",
      "社會 任性的賊！想吃魚撈到蝦　倒回池時遭逮(5295) 13:56 任性的賊！想吃魚撈到蝦　倒回池時遭逮 5295\n",
      "社會 保健食品加滑石粉未申請　生技公司被訴(4150) 13:56 保健食品加滑石粉未申請　生技公司被訴 4150\n",
      "論壇 【想想論壇】《灣生回家》的認同政治與生死...(1523) 13:56 【想想論壇】《灣生回家》的認同政治與生死... 1523\n",
      "國際 誰會買來穿？　價逾6400萬胸罩亮相(2692) 13:54 誰會買來穿？　價逾6400萬胸罩亮相 2692\n",
      "體育 喬克維奇171周封王史上第5　巴黎爭今年...(2249) 13:53 喬克維奇171周封王史上第5　巴黎爭今年... 2249\n",
      "搜奇 超嗨音樂祭　露點正妹隨處可見(671235) 13:52 超嗨音樂祭　露點正妹隨處可見 671235\n",
      "國際 【央廣RTI】詹皇得分破2.5萬 NBA...(1518) 13:51 【央廣RTI】詹皇得分破2.5萬 NBA... 1518\n",
      "政治 被罵「不要臉」　花蓮女議員控告議長(3008) 13:48 被罵「不要臉」　花蓮女議員控告議長 3008\n",
      "社會 強冠噁油遭罰5000萬　執行署追繳完畢(3314) 13:48 強冠噁油遭罰5000萬　執行署追繳完畢 3314\n",
      "社會 拐杖暗藏利器　男闖急診室刺護理師(18385) 13:45 拐杖暗藏利器　男闖急診室刺護理師 18385\n",
      "搜奇 各國第一次「啪啪啪」年齡　網友看完悲憤了(168512) 13:43 各國第一次「啪啪啪」年齡　網友看完悲憤了 168512\n",
      "論壇 你押注「中國崛起」嗎？(4579) 13:41 你押注「中國崛起」嗎？ 4579\n",
      "社會 【更新】糟糕胎教　懷孕9月偷I6S被法辦(8408) 13:40 【更新】糟糕胎教　懷孕9月偷I6S被法辦 8408\n",
      "國際 8歲讀大學　17歲台裔神童入NASA實習(98625) 13:40 8歲讀大學　17歲台裔神童入NASA實習 98625\n",
      "生活 【暖蘋果】霸氣公車司機　讓正妹媽咪哭了(18395) 13:40 【暖蘋果】霸氣公車司機　讓正妹媽咪哭了 18395\n",
      "社會 【更新】無業女潛公寓　一口氣偷8雙鞋(6096) 13:39 【更新】無業女潛公寓　一口氣偷8雙鞋 6096\n",
      "體育 台灣殺人蜂莊凱婷惜敗　無緣復仇香港拳后(1818) 13:36 台灣殺人蜂莊凱婷惜敗　無緣復仇香港拳后 1818\n",
      "論壇 處處跟年輕人為敵，國民黨怎麼續命？(11820) 13:32 處處跟年輕人為敵，國民黨怎麼續命？ 11820\n",
      "娛樂 《好聲音》女聲挾新輯撲台　補精急吞雞睪丸(6356) 13:30 《好聲音》女聲挾新輯撲台　補精急吞雞睪丸 6356\n",
      "社會 交警違規撞傷女大生　判國賠183萬(5776) 13:30 交警違規撞傷女大生　判國賠183萬 5776\n",
      "生活 推漏洞回報獎金計畫　LINE：已近200...(1281) 13:30 推漏洞回報獎金計畫　LINE：已近200... 1281\n",
      "生活 星巴克明起推耶誕商品　隨行杯是熱賣品(4451) 13:30 星巴克明起推耶誕商品　隨行杯是熱賣品 4451\n",
      "地產 神愛世人　教友購屋最低打75折(3439) 13:28 神愛世人　教友購屋最低打75折 3439\n",
      "生活 北投行義路溫泉業者　後年3月前需申請合法(975) 13:25 北投行義路溫泉業者　後年3月前需申請合法 975\n",
      "國際 中國雕刻家刻英女王大頭　遭譏像湯姆漢克(2676) 13:21 中國雕刻家刻英女王大頭　遭譏像湯姆漢克 2676\n",
      "FUN 一句暖暖的鼓勵 可提升45%成功率(3378) 13:14 一句暖暖的鼓勵 可提升45%成功率 3378\n",
      "社會 趕上班還喝酒？　醉漢撞單車男肇逃(2566) 13:10 趕上班還喝酒？　醉漢撞單車男肇逃 2566\n",
      "國際 俄機墜毀前最後時刻曝光　乘客被吸出機外(123453) 13:08 俄機墜毀前最後時刻曝光　乘客被吸出機外 123453\n",
      "財經 國內首檔歐元區指數基金　9日開募(889) 13:08 國內首檔歐元區指數基金　9日開募 889\n",
      "生活 不幸遇到火災　一定要先做這件事！(10165) 13:07 不幸遇到火災　一定要先做這件事！ 10165\n",
      "社會 【有片】不能好好吃鴨嗎　20人打群架3傷(10943) 13:06 【有片】不能好好吃鴨嗎　20人打群架3傷 10943\n",
      "體育 命中率迷航中　Kobe自嘲打得像屎(7654) 13:05 命中率迷航中　Kobe自嘲打得像屎 7654\n",
      "社會 教授告同事抄襲不成　反遭控誣告(3708) 13:04 教授告同事抄襲不成　反遭控誣告 3708\n",
      "生活 【社企流】「老人最想要的，是留在自己的家...(2424) 13:00 【社企流】「老人最想要的，是留在自己的家... 2424\n",
      "娛樂 蔣偉文碰上偶像　兒子也爽到失控！(17483) 13:00 蔣偉文碰上偶像　兒子也爽到失控！ 17483\n",
      "生活 22K月休4天　大驚！網友竟說還不錯(27855) 12:59 22K月休4天　大驚！網友竟說還不錯 27855\n",
      "社會 兒婿都被炸得體無完膚　八旬翁憂醫藥費(122638) 12:59 兒婿都被炸得體無完膚　八旬翁憂醫藥費 122638\n",
      "社會 孝男意外身亡被拒賠　可能欠缺3定義(51129) 12:57 孝男意外身亡被拒賠　可能欠缺3定義 51129\n",
      "政治 朱王互信差　藍委：最大的問題就是馬總統(10694) 12:57 朱王互信差　藍委：最大的問題就是馬總統 10694\n",
      "政治 證所稅修法　立院最快下周二處理(1481) 12:55 證所稅修法　立院最快下周二處理 1481\n",
      "生活 劣藥爆不停　老牌薄荷棒也出包(4054) 12:55 劣藥爆不停　老牌薄荷棒也出包 4054\n",
      "生活 只是想喝鮮奶　為什麼要把人逼哭(5340) 12:52 只是想喝鮮奶　為什麼要把人逼哭 5340\n",
      "社會 車頭燈太炫　偷車賊GG了(5430) 12:50 車頭燈太炫　偷車賊GG了 5430\n",
      "社會 大樓暗夜竄火　雲梯車救命3人嗆傷(4641) 12:49 大樓暗夜竄火　雲梯車救命3人嗆傷 4641\n",
      "社會 OL告主管性侵　卻LINE「我都這樣還不...(111003) 12:48 OL告主管性侵　卻LINE「我都這樣還不... 111003\n",
      "財經 澳洲央行沒動作　澳元彈升0.9%(1882) 12:46 澳洲央行沒動作　澳元彈升0.9% 1882\n",
      "社會 男大生畸戀10歲女　竟在補習班性侵她(113707) 12:41 男大生畸戀10歲女　竟在補習班性侵她 113707\n",
      "政治 【更新】副手人選　蔡英文：登記前會公布(7882) 12:41 【更新】副手人選　蔡英文：登記前會公布 7882\n",
      "論壇 南海問題的實像與虛像(2017) 12:37 南海問題的實像與虛像 2017\n",
      "生活 南台灣觀光護照　好康優惠到明年5月底(1499) 12:37 南台灣觀光護照　好康優惠到明年5月底 1499\n",
      "生活 預約血鉛檢驗　北市衛生局：已2799人登...(736) 12:37 預約血鉛檢驗　北市衛生局：已2799人登... 736\n",
      "政治 【更新】輔選時代力量黃國昌　蔡英文：政黨...(6208) 12:36 【更新】輔選時代力量黃國昌　蔡英文：政黨... 6208\n",
      "國際 父親夢見空難　俄空少辭職逃過一劫(84305) 12:34 父親夢見空難　俄空少辭職逃過一劫 84305\n",
      "社會 麥當勞圍毆事件　房東妻子哭訴真相(23226) 12:34 麥當勞圍毆事件　房東妻子哭訴真相 23226\n",
      "論壇 政客何時才能不再說謊！(3401) 12:33 政客何時才能不再說謊！ 3401\n",
      "時尚 潮錶黑時尚　炫光添亮點(3751) 12:30 潮錶黑時尚　炫光添亮點 3751\n",
      "娛樂 周董揪言承旭尬球　蛤～肌肉已成往事(28710) 12:30 周董揪言承旭尬球　蛤～肌肉已成往事 28710\n",
      "生活 國研院開發MIT擬人鼠　新藥開發添助力(902) 12:30 國研院開發MIT擬人鼠　新藥開發添助力 902\n",
      "政治 ​很重要所以說三次！　藍委質詢講三次「O...(7930) 12:30 ​很重要所以說三次！　藍委質詢講三次「O... 7930\n",
      "動物 萬能紙箱幫懶貓換裝 (2825) 12:29 萬能紙箱幫懶貓換裝  2825\n",
      "財經 【更新】王品托盤大賽　新任董座好嗨！(4036) 12:29 【更新】王品托盤大賽　新任董座好嗨！ 4036\n",
      "政治 吳釗燮說美方將出售軍艦　林郁方：去年就告...(4053) 12:29 吳釗燮說美方將出售軍艦　林郁方：去年就告... 4053\n",
      "動物 超萌汪星人  累到睡一團(5168) 12:28 超萌汪星人  累到睡一團 5168\n",
      "社會 假也假得不專業　阿伯冒小鮮肉破功(6800) 12:28 假也假得不專業　阿伯冒小鮮肉破功 6800\n",
      "社會 她曾全裸抗議　這次搶記者相機刪照被判拘(9435) 12:28 她曾全裸抗議　這次搶記者相機刪照被判拘 9435\n",
      "論壇 立法院長要年輕形象好？(2778) 12:28 立法院長要年輕形象好？ 2778\n",
      "生活 北市城市博物館喊卡　議員要求交懲處名單(2049) 12:27 北市城市博物館喊卡　議員要求交懲處名單 2049\n",
      "生活 《金剛戰士》22年後　戰士改拍同志A片(37936) 12:26 《金剛戰士》22年後　戰士改拍同志A片 37936\n",
      "體育 馬丁利接馬林魚兵符　想要待10年(8281) 12:25 馬丁利接馬林魚兵符　想要待10年 8281\n",
      "國際 中共在美電台播官媒內容　美司法部調查(1522) 12:24 中共在美電台播官媒內容　美司法部調查 1522\n",
      "財經 醫電高峰論壇登場　看好智慧醫療穿戴(763) 12:23 醫電高峰論壇登場　看好智慧醫療穿戴 763\n",
      "論壇 國民黨需要草根的「一清專案」(3368) 12:22 國民黨需要草根的「一清專案」 3368\n",
      "地產 真這麼冷？　小港僅剩一品牌房仲(13525) 12:21 真這麼冷？　小港僅剩一品牌房仲 13525\n",
      "政治 【更新】朱支持度只比柱多1.6%　蔡英文...(7873) 12:21 【更新】朱支持度只比柱多1.6%　蔡英文... 7873\n",
      "政治 朱立倫：國民黨不管有多少聲音　最後要團結(3212) 12:21 朱立倫：國民黨不管有多少聲音　最後要團結 3212\n",
      "生活 【更新】響應政府訂房送千　阿基師推銷福容...(2147) 12:20 【更新】響應政府訂房送千　阿基師推銷福容... 2147\n",
      "FUN 門外放貓食竟然換來栗子　猜猜誰報恩(5847) 12:19 門外放貓食竟然換來栗子　猜猜誰報恩 5847\n",
      "財經 ​【遠見】勞退新制研擬一次領與按月領，該...(5570) 12:19 ​【遠見】勞退新制研擬一次領與按月領，該... 5570\n",
      "社會 騎士失控自摔　護欄鋼筋穿腿(5047) 12:18 騎士失控自摔　護欄鋼筋穿腿 5047\n",
      "論壇 南方朔：責任在朱立倫而非王金平(12245) 12:18 南方朔：責任在朱立倫而非王金平 12245\n",
      "生活 【央廣RTI】南台灣觀光護照 可與消費提...(608) 12:18 【央廣RTI】南台灣觀光護照 可與消費提... 608\n",
      "社會 偷軍方電纜巧遇視察　笨賊被活逮(2479) 12:16 偷軍方電纜巧遇視察　笨賊被活逮 2479\n",
      "生活 這款性愛玩具　原來竟是用於治療.....(4650) 12:15 這款性愛玩具　原來竟是用於治療..... 4650\n",
      "社會 起步油門踩太猛　400萬賓士甩尾撞爛警車(93432) 12:14 起步油門踩太猛　400萬賓士甩尾撞爛警車 93432\n",
      "政治 空軍少校搜救失事同學　「心急但仍秉持專業...(4215) 12:14 空軍少校搜救失事同學　「心急但仍秉持專業... 4215\n",
      "生活 汐止油管爆裂　開挖找原因進度慢(968) 12:14 汐止油管爆裂　開挖找原因進度慢 968\n",
      "生活 28年首例！中興航空繳回民航運輸業許可證...(45762) 12:13 28年首例！中興航空繳回民航運輸業許可證... 45762\n",
      "社會 她對親兒下藥　有不得己苦衷(12683) 12:11 她對親兒下藥　有不得己苦衷 12683\n",
      "生活 出賣女友笨歪了　網友笑：有當總統的實力！(28139) 12:08 出賣女友笨歪了　網友笑：有當總統的實力！ 28139\n",
      "國際 【央廣RTI】內外形勢嚴峻 習近平強硬以...(1985) 12:08 【央廣RTI】內外形勢嚴峻 習近平強硬以... 1985\n",
      "FUN 路上看見正妹被偷拍　他們選擇這樣做(14049) 12:07 路上看見正妹被偷拍　他們選擇這樣做 14049\n",
      "國際 周永康心腹李崇禧　涉貪一審遭判12年(1479) 12:06 周永康心腹李崇禧　涉貪一審遭判12年 1479\n",
      "娛樂 勇樣新婚一直玩　夫妻同「色」好幸福(21977) 12:04 勇樣新婚一直玩　夫妻同「色」好幸福 21977\n",
      "地產 房市冷　房仲靠科技獲獎(2079) 12:04 房市冷　房仲靠科技獲獎 2079\n",
      "社會 工程師點錯技能　攻擊關鍵字牟利被逮(3584) 12:04 工程師點錯技能　攻擊關鍵字牟利被逮 3584\n",
      "生活 高鐵新站票價表「很政治」 北部藍南部綠(4849) 12:04 高鐵新站票價表「很政治」 北部藍南部綠 4849\n",
      "生活 ​弱勢家庭免繳就安費　追溯至9月生效(953) 12:02 ​弱勢家庭免繳就安費　追溯至9月生效 953\n",
      "體育 自由市場暖身　金鶯周六前對殷仔提合格報價(17626) 12:01 自由市場暖身　金鶯周六前對殷仔提合格報價 17626\n",
      "財經 戴爾變大股東　VMware：跟惠普聯想合...(887) 12:01 戴爾變大股東　VMware：跟惠普聯想合... 887\n",
      "財經 新台幣午盤~32.422元　升值2.99...(635) 12:00 新台幣午盤~32.422元　升值2.99... 635\n",
      "生活 【特企】真的假的！賀一航與邵庭為何捲入了...(2095) 12:00 【特企】真的假的！賀一航與邵庭為何捲入了... 2095\n",
      "財經 中國伺服器價格　讓人目瞪口呆！(4474) 11:57 中國伺服器價格　讓人目瞪口呆！ 4474\n",
      "生活 【央廣RTI】獨立書店複合經營  島呼冊...(401) 11:57 【央廣RTI】獨立書店複合經營  島呼冊... 401\n",
      "生活 關說兵役的小凱　柯P再聘他任公民參與委員(53559) 11:55 關說兵役的小凱　柯P再聘他任公民參與委員 53559\n",
      "政治 宋楚瑜批國民黨再執政　「台灣的飛機天天掉...(7572) 11:55 宋楚瑜批國民黨再執政　「台灣的飛機天天掉... 7572\n",
      "政治 欠北市公車補貼款　侯友宜允2天內算清楚(4475) 11:51 欠北市公車補貼款　侯友宜允2天內算清楚 4475\n",
      "生活 收養不怕白養？收養家庭：不　我們很幸福(2123) 11:51 收養不怕白養？收養家庭：不　我們很幸福 2123\n",
      "生活 癌症不易手術的患者　質子放射治療獲生機(1397) 11:51 癌症不易手術的患者　質子放射治療獲生機 1397\n",
      "政治 英國藍不起訴　學者：北檢錯誤引用粗糙報告(2598) 11:48 英國藍不起訴　學者：北檢錯誤引用粗糙報告 2598\n",
      "財經 Sony拍照～它呷意　傳三星S7用Z5感...(3294) 11:48 Sony拍照～它呷意　傳三星S7用Z5感... 3294\n",
      "政治 ​太平島開放觀光？　毛揆：島嶼承載力有限...(3297) 11:46 ​太平島開放觀光？　毛揆：島嶼承載力有限... 3297\n",
      "體育 哈登不再打鐵　火箭勝雷霆奪首勝(8565) 11:46 哈登不再打鐵　火箭勝雷霆奪首勝 8565\n",
      "生活 【央廣RTI】國父150歲誕辰紀念幣 相...(1126) 11:46 【央廣RTI】國父150歲誕辰紀念幣 相... 1126\n",
      "政治 綠營質疑太平島觀光　林郁方：懦弱怎麼執政(6060) 11:45 綠營質疑太平島觀光　林郁方：懦弱怎麼執政 6060\n",
      "生活 北藝中心明年若未完工　倪重華也喊要下台負...(885) 11:42 北藝中心明年若未完工　倪重華也喊要下台負... 885\n",
      "國際 大霧壟罩歐洲　各機場航班取消或誤點(1361) 11:40 大霧壟罩歐洲　各機場航班取消或誤點 1361\n",
      "社會 連續襲臀2女學生　色工人遭痛毆(6643) 11:40 連續襲臀2女學生　色工人遭痛毆 6643\n",
      "生活 【更新】都發局員工疑過勞中風　林洲民否認...(2903) 11:39 【更新】都發局員工疑過勞中風　林洲民否認... 2903\n",
      "財經 【更新】台股盤中～價量齊揚　突破8700...(1043) 11:38 【更新】台股盤中～價量齊揚　突破8700... 1043\n",
      "財經 昱晶攜手MPRIME　明年歐洲出貨翻倍(960) 11:36 昱晶攜手MPRIME　明年歐洲出貨翻倍 960\n",
      "國際 【央廣RTI】半世紀的等待  星際爭霸戰...(1014) 11:36 【央廣RTI】半世紀的等待  星際爭霸戰... 1014\n",
      "體育 紅雀留人　左投賈西亞3.75億續約(7499) 11:35 紅雀留人　左投賈西亞3.75億續約 7499\n",
      "政治 國台辦涉收賄　民團：貨貿談判不應「賄聲賄...(2333) 11:34 國台辦涉收賄　民團：貨貿談判不應「賄聲賄... 2333\n",
      "社會 這款丈夫　與妻鬧翻竟做了這件事(21842) 11:33 這款丈夫　與妻鬧翻竟做了這件事 21842\n",
      "時尚 #Guccigram廣發藝術帖　IG彩繪...(1233) 11:31 #Guccigram廣發藝術帖　IG彩繪... 1233\n",
      "社會 「石頭人」4ni？　還好有它救了打火英雄(4849) 11:30 「石頭人」4ni？　還好有它救了打火英雄 4849\n",
      "生活 台鐵不只正妹列車長　暖男行為好棒棒(7640) 11:28 台鐵不只正妹列車長　暖男行為好棒棒 7640\n",
      "地產 亞昕Q3業績倍增　跨足飯店業(1629) 11:28 亞昕Q3業績倍增　跨足飯店業 1629\n",
      "財經 蝦米？中國網購假貨、次貨佔40%(2778) 11:25 蝦米？中國網購假貨、次貨佔40% 2778\n",
      "國際 22中共公安幹部被查　4人為副軍級(3094) 11:24 22中共公安幹部被查　4人為副軍級 3094\n",
      "體育  卡達夏家族專搞NBA球員？小妹戀上湖人...(9852) 11:21  卡達夏家族專搞NBA球員？小妹戀上湖人... 9852\n",
      "FUN 史上最夢幻工作？　「幫鴿子掃墓」徵才　(37950) 11:17 史上最夢幻工作？　「幫鴿子掃墓」徵才　37950\n",
      "體育 12強首場日韓戰　大谷翔平先發(13237) 11:15 12強首場日韓戰　大谷翔平先發 13237\n",
      "動物 世界上最小哺乳類　拇指鼠看過嗎(5164) 11:15 世界上最小哺乳類　拇指鼠看過嗎 5164\n",
      "社會 【擔心起火】機車擦撞摔倒　油料流滿地(2995) 11:15 【擔心起火】機車擦撞摔倒　油料流滿地 2995\n",
      "生活 【央廣RTI】他知道白海豚數量減少的主要...(1247) 11:15 【央廣RTI】他知道白海豚數量減少的主要... 1247\n",
      "財經 【更新】台幣盤中升逾3角　一度升破32....(1128) 11:13 【更新】台幣盤中升逾3角　一度升破32.... 1128\n",
      "財經 大立光智財案勝訴　先進光：第1審尚未終結(802) 11:13 大立光智財案勝訴　先進光：第1審尚未終結 802\n",
      "政治 機場捷運遲未通車　藍委怒批：丟臉(8285) 11:11 機場捷運遲未通車　藍委怒批：丟臉 8285\n",
      "國際 【央廣RTI】「下一步占領哪」列R級  ...(975) 11:08 【央廣RTI】「下一步占領哪」列R級  ... 975\n",
      "體育  詹姆士史上最年輕2萬5千分　助騎士勝7...(5560) 11:04  詹姆士史上最年輕2萬5千分　助騎士勝7... 5560\n",
      "娛樂 【特企】高雄大遠百週年慶‧10/29盛大...(3017) 11:00 【特企】高雄大遠百週年慶‧10/29盛大... 3017\n",
      "娛樂 夏川里美開唱倒數　苦練二姊《家後》贈台粉(3272) 11:00 夏川里美開唱倒數　苦練二姊《家後》贈台粉 3272\n",
      "財經 歐元套利買啥？人民幣、盧比、披索(1946) 10:55 歐元套利買啥？人民幣、盧比、披索 1946\n",
      "國際 【央廣RTI】美派特種部隊入敘 歐巴馬：...(1910) 10:55 【央廣RTI】美派特種部隊入敘 歐巴馬：... 1910\n",
      "政治 選情不樂觀　藍委怨馬政府做事方式不對(8813) 10:53 選情不樂觀　藍委怨馬政府做事方式不對 8813\n",
      "生活 今年9、10月地震活躍　擠進前10%活躍...(3403) 10:53 今年9、10月地震活躍　擠進前10%活躍... 3403\n",
      "瘋啥 愛瘋6s好棒棒？果粉真實告白告訴你(16270) 10:52 愛瘋6s好棒棒？果粉真實告白告訴你 16270\n",
      "瘋啥 LINE3款貼圖免費送　黑白馬長得超欠揍...(25651) 10:50 LINE3款貼圖免費送　黑白馬長得超欠揍... 25651\n",
      "財經 外資上調精華目標價　日客戶訂單補(953) 10:50 外資上調精華目標價　日客戶訂單補 953\n",
      "政治 兩度騙王金平？　朱立倫：不樂見放話傷害黨(7946) 10:48 兩度騙王金平？　朱立倫：不樂見放話傷害黨 7946\n",
      "FUN 【愛飛遜】愛麗絲好忙　品牌搶聯名(1344) 10:44 【愛飛遜】愛麗絲好忙　品牌搶聯名 1344\n",
      "FUN 【愛漂亮】 卸妝水也可乾淨溜溜(1645) 10:40 【愛漂亮】 卸妝水也可乾淨溜溜 1645\n",
      "生活 【更新】教育部長：35所大學列招生管控名...(22338) 10:40 【更新】教育部長：35所大學列招生管控名... 22338\n",
      "生活 Gogoro賣翻！網友這麼解讀(12346) 10:38 Gogoro賣翻！網友這麼解讀 12346\n",
      "生活 【環境資訊】幸「蝠」三部曲：歡迎光臨幸蝠...(977) 10:35 【環境資訊】幸「蝠」三部曲：歡迎光臨幸蝠... 977\n",
      "生活 買了預售屋被親友酸　網友都這樣說(18718) 10:34 買了預售屋被親友酸　網友都這樣說 18718\n",
      "生活 【環境資訊】【十一月民俗植物曆】冬季裡的...(857) 10:32 【環境資訊】【十一月民俗植物曆】冬季裡的... 857\n",
      "生活 南市祭重賞滅孓　111里評比角逐(982) 10:31 南市祭重賞滅孓　111里評比角逐 982\n",
      "時尚 安妮斯頓穿鏤空裝　小曬副乳上腹肉(8005) 10:30 安妮斯頓穿鏤空裝　小曬副乳上腹肉 8005\n",
      "搜奇 他戴了名牌眼鏡　為何2年都摘不掉？(10782) 10:30 他戴了名牌眼鏡　為何2年都摘不掉？ 10782\n",
      "地產 【財訊】搶賺海外地產財 必學四大心法(1249) 10:30 【財訊】搶賺海外地產財 必學四大心法 1249\n",
      "生活 【環境資訊】法部長：西非砍森林 疑是伊波...(1175) 10:29 【環境資訊】法部長：西非砍森林 疑是伊波... 1175\n",
      "生活 三年前他做了買房這決定　如今他這麼說(34522) 10:28 三年前他做了買房這決定　如今他這麼說 34522\n",
      "社會 中台科大側門車內燒炭　男死逾4天(13747) 10:27 中台科大側門車內燒炭　男死逾4天 13747\n",
      "搜奇 Uber司機被醉漢慘揍　胡椒噴霧器回擊(4926) 10:26 Uber司機被醉漢慘揍　胡椒噴霧器回擊 4926\n",
      "娛樂 艾莎公主親子裝好sweet 　吳佩慈產子...(41644) 10:26 艾莎公主親子裝好sweet 　吳佩慈產子... 41644\n",
      "國際 醉女闖動物園抱老虎　遭咬傷還挨告(3689) 10:24 醉女闖動物園抱老虎　遭咬傷還挨告 3689\n",
      "FUN 惡搞奶奶無極限　殺夫被逮你贏了！(4865) 10:24 惡搞奶奶無極限　殺夫被逮你贏了！ 4865\n",
      "國際 【央廣RTI】打臉北愛國會  同性婚姻法...(1019) 10:23 【央廣RTI】打臉北愛國會  同性婚姻法... 1019\n",
      "生活 【醫藥新知】專家建議用袋鼠護理法照顧新生...(1323) 10:20 【醫藥新知】專家建議用袋鼠護理法照顧新生... 1323\n",
      "體育 古巴核彈頭成自由身　大都會可能不留(15177) 10:18 古巴核彈頭成自由身　大都會可能不留 15177\n",
      "財經 紫光欲插旗聯發科　趙偉國說出心聲(10478) 10:17 紫光欲插旗聯發科　趙偉國說出心聲 10478\n",
      "FUN 櫻花蝦王的專業　被發現跟蟑螂有關(4931) 10:15 櫻花蝦王的專業　被發現跟蟑螂有關 4931\n",
      "生活 台鐵今晨電車線斷落　因承包商吊樑過程不當(2213) 10:14 台鐵今晨電車線斷落　因承包商吊樑過程不當 2213\n",
      "國際 以軍丟催淚彈阻遊行　律師強勢一腳踢回去(8124) 10:12 以軍丟催淚彈阻遊行　律師強勢一腳踢回去 8124\n",
      "生活 【醫藥新知】營養補充品對麩質過敏症的效益(639) 10:12 【醫藥新知】營養補充品對麩質過敏症的效益 639\n",
      "生活 台鐵豐富站施工壓斷電車線　影響上班通勤　...(833) 10:11 台鐵豐富站施工壓斷電車線　影響上班通勤　... 833\n",
      "FUN 街道巷弄的藝術　唯有下雨才看得到(3606) 10:10 街道巷弄的藝術　唯有下雨才看得到 3606\n",
      "FUN 踩街就是要「袋」這樣才時尚！(1765) 10:09 踩街就是要「袋」這樣才時尚！ 1765\n",
      "瘋啥 智慧電磁爐  APP幫煮變大廚(1435) 10:08 智慧電磁爐  APP幫煮變大廚 1435\n",
      "FUN 別再把我用完即丟了！(4296) 10:07 別再把我用完即丟了！ 4296\n",
      "瘋啥 導航品牌撈很大  首推智慧體重計(2350) 10:06 導航品牌撈很大  首推智慧體重計 2350\n",
      "財經 41億刺激經濟方案　外資：邊際效應有限(1395) 10:00 41億刺激經濟方案　外資：邊際效應有限 1395\n",
      "政治 美眾院通過法案　挺台入國際刑警組織(3303) 09:59 美眾院通過法案　挺台入國際刑警組織 3303\n",
      "國際 【央廣RTI】中非首都衝突再起 教宗訪問...(376) 09:59 【央廣RTI】中非首都衝突再起 教宗訪問... 376\n",
      "生活 骨折會要命　換髖關節病例逐年增加(2800) 09:57 骨折會要命　換髖關節病例逐年增加 2800\n",
      "生活 懦弱夫扶不起　她年紀輕輕帶小孩離婚(14739) 09:56 懦弱夫扶不起　她年紀輕輕帶小孩離婚 14739\n",
      "體育 奪30年首冠　皇家明慶功遊行(5532) 09:52 奪30年首冠　皇家明慶功遊行 5532\n",
      "國際 【央廣RTI】2563  史努比閃耀好萊...(786) 09:47 【央廣RTI】2563  史努比閃耀好萊... 786\n",
      "生活 輕軌「長草」宣導　先是一驚、後來一笑(13064) 09:46 輕軌「長草」宣導　先是一驚、後來一笑 13064\n",
      "生活 哇！是台灣！同志大遊行的美麗巧合(6151) 09:46 哇！是台灣！同志大遊行的美麗巧合 6151\n",
      "財經 焦點股～買盤追價　F-百達連3天漲停(2271) 09:40 焦點股～買盤追價　F-百達連3天漲停 2271\n",
      "國際 澳洲難民營午餐　驚現2顆染紅人齒(3379) 09:38 澳洲難民營午餐　驚現2顆染紅人齒 3379\n",
      "財經 熱錢湧入　台幣盤中升逾3角直逼32.4元(1286) 09:37 熱錢湧入　台幣盤中升逾3角直逼32.4元 1286\n",
      "搜奇 Google街景太強大　拍到女子街頭放尿(42399) 09:34 Google街景太強大　拍到女子街頭放尿 42399\n",
      "政治 朱蔡宋洪國慶同台照　立法院展示中(2901) 09:30 朱蔡宋洪國慶同台照　立法院展示中 2901\n",
      "生活 台科大規劃地下運輸系統奪冠　將赴美MIT...(1929) 09:27 台科大規劃地下運輸系統奪冠　將赴美MIT... 1929\n",
      "娛樂 【網路溫度計】惡魔四伏來了！火辣龐德女郎...(4776) 09:27 【網路溫度計】惡魔四伏來了！火辣龐德女郎... 4776\n",
      "國際 法國防部新大樓斥資1680億　號稱耐導彈(2637) 09:24 法國防部新大樓斥資1680億　號稱耐導彈 2637\n",
      "財經 焦點股～財報補　凌巨奔漲停(2044) 09:23 焦點股～財報補　凌巨奔漲停 2044\n",
      "財經 歐美股助攻　台股盤中衝破8千7(26363) 09:20 歐美股助攻　台股盤中衝破8千7 26363\n",
      "生活 【更新】乘客扛「牠」搭高鐵　一張照片令人...(24134) 09:19 【更新】乘客扛「牠」搭高鐵　一張照片令人... 24134\n",
      "娛樂 【民報】誰能讓歌仔戲國寶廖瓊枝、唐美雲等...(5365) 09:15 【民報】誰能讓歌仔戲國寶廖瓊枝、唐美雲等... 5365\n",
      "生活 大媽幹菜神招　看的令人拳頭都硬了　(44095) 09:13 大媽幹菜神招　看的令人拳頭都硬了　44095\n",
      "生活 【更新】台鐵電車線遭砸毀　徹夜搶修影響逾...(45877) 09:12 【更新】台鐵電車線遭砸毀　徹夜搶修影響逾... 45877\n",
      "國際 【法廣RFI】俄國： 為空難原因下定論為...(1328) 09:10 【法廣RFI】俄國： 為空難原因下定論為... 1328\n",
      "FUN 史上最雷的小說？　這家出版社讓人有感(5471) 09:07 史上最雷的小說？　這家出版社讓人有感 5471\n",
      "政治 【財訊】公司法修正，反制日月光模式併購新...(2434) 09:05 【財訊】公司法修正，反制日月光模式併購新... 2434\n",
      "生活 獨立的她不哭不鬧　卻被男友這樣對待(32749) 09:03 獨立的她不哭不鬧　卻被男友這樣對待 32749\n",
      "生活 新北基宜今防大雨　後天起注意秋老虎(4912) 09:01 新北基宜今防大雨　後天起注意秋老虎 4912\n",
      "生活 大樂透頭獎連7摃　今晚開獎(1918) 09:00 大樂透頭獎連7摃　今晚開獎 1918\n",
      "國際 【民報】當澳洲拔掉騎士勳章時　下一步會不...(3630) 09:00 【民報】當澳洲拔掉騎士勳章時　下一步會不... 3630\n",
      "FUN 東南西北放閃文　網友模仿結果GG(76839) 08:56 東南西北放閃文　網友模仿結果GG 76839\n",
      "FUN 想讓女友抱緊你？　把這招學起來(11417) 08:56 想讓女友抱緊你？　把這招學起來 11417\n",
      "搜奇 女擤鼻涕太用力　腫成金魚眼差點失明(4851) 08:55 女擤鼻涕太用力　腫成金魚眼差點失明 4851\n",
      "國際 美軍將每季2次巡航南海　「或更多一點」(2830) 08:53 美軍將每季2次巡航南海　「或更多一點」 2830\n",
      "瘋啥 憑空揮揮手  修圖打字超輕鬆(1783) 08:50 憑空揮揮手  修圖打字超輕鬆 1783\n",
      "動物 小狗站玄關突抓狂　原來有人丟…(6210) 08:49 小狗站玄關突抓狂　原來有人丟… 6210\n",
      "國際 【法廣RFI】埃爾多安強勢勝出 歐安:大...(408) 08:47 【法廣RFI】埃爾多安強勢勝出 歐安:大... 408\n",
      "生活 【民報林聰勝攝影專欄】鐵牛不是牛，海牛是...(782) 08:42 【民報林聰勝攝影專欄】鐵牛不是牛，海牛是... 782\n",
      "娛樂 駁海外賣淫　女星：我光繳稅就200萬(55890) 08:37 駁海外賣淫　女星：我光繳稅就200萬 55890\n",
      "國際 申裝APP約砲　專家：恐致愛滋病毒大爆發(8039) 08:28 申裝APP約砲　專家：恐致愛滋病毒大爆發 8039\n",
      "生活 台灣最美麗的風景？　新社花海爆亂踩踏(36285) 08:23 台灣最美麗的風景？　新社花海爆亂踩踏 36285\n",
      "娛樂 名模人妻被淫媒開價　邀約赴日伴遊(59416) 08:20 名模人妻被淫媒開價　邀約赴日伴遊 59416\n",
      "國際 【法廣RFI】美透露“拉森號”駛近陸人造...(3254) 08:20 【法廣RFI】美透露“拉森號”駛近陸人造... 3254\n",
      "生活 吃下一個大麥克　消化反式脂肪要這麼久！(7245) 08:18 吃下一個大麥克　消化反式脂肪要這麼久！ 7245\n",
      "政治 【民報】抄襲事件 陳芳明批朱：愛說謊沒誠...(6778) 08:18 【民報】抄襲事件 陳芳明批朱：愛說謊沒誠... 6778\n",
      "政治 偵辦時被傳真施壓　女檢再摃段宜康介入(14289) 08:16 偵辦時被傳真施壓　女檢再摃段宜康介入 14289\n",
      "財經 【財訊】全球股市逆勢上漲　美國財報示警，...(2914) 08:10 【財訊】全球股市逆勢上漲　美國財報示警，... 2914\n",
      "生活 08:06東部規模4.4地震　新北震度達...(74704) 08:08 08:06東部規模4.4地震　新北震度達... 74704\n",
      "國際 爸爸體罰過當　把女兒硬塞進水桶還加蓋(5304) 08:00 爸爸體罰過當　把女兒硬塞進水桶還加蓋 5304\n",
      "國際 【法廣RFI】美宣布將定期前往南海人造島...(2331) 07:59 【法廣RFI】美宣布將定期前往南海人造島... 2331\n",
      "生活 台灣南投2件事寫紀錄　通通讓人嚇一跳(11407) 07:45 台灣南投2件事寫紀錄　通通讓人嚇一跳 11407\n",
      "搜奇 口含不明液體噴女性　日癡漢遭逮捕(6039) 07:45 口含不明液體噴女性　日癡漢遭逮捕 6039\n",
      "生活 愛喝含糖飲料　女孩容易性早熟(5106) 07:41 愛喝含糖飲料　女孩容易性早熟 5106\n",
      "社會 老夫殺嫩妻　少女哭報案「我媽死了」(25047) 07:28 老夫殺嫩妻　少女哭報案「我媽死了」 25047\n",
      "生活 LINE打字超厲害　但這些字竟手寫不出來(24677) 07:20 LINE打字超厲害　但這些字竟手寫不出來 24677\n",
      "生活 外國人拜託台灣這件事　50萬人超有感(21042) 07:19 外國人拜託台灣這件事　50萬人超有感 21042\n",
      "國際 【法廣RFI】日韓首腦會談打開慰安婦問題...(957) 07:10 【法廣RFI】日韓首腦會談打開慰安婦問題... 957\n",
      "社會 阿扁滑手機活跳跳？　健康報告曝光(140086) 07:08 阿扁滑手機活跳跳？　健康報告曝光 140086\n",
      "娛樂 李妍憬再爆「潛規則」　3字女星找她陪吃(221917) 07:05 李妍憬再爆「潛規則」　3字女星找她陪吃 221917\n",
      "生活 小野虧柯P不懂文化　要他「多看電影」(4681) 07:05 小野虧柯P不懂文化　要他「多看電影」 4681\n",
      "政治 LINE半夜狂咚　46歲北市公務員中風加...(78703) 06:59 LINE半夜狂咚　46歲北市公務員中風加... 78703\n",
      "國際 欠3300元遭債主性侵　印度婦羞憤自殺(9806) 06:54 欠3300元遭債主性侵　印度婦羞憤自殺 9806\n",
      "生活 東北風影響　新北、基、宜大雨特報(36328) 06:54 東北風影響　新北、基、宜大雨特報 36328\n",
      "社會 狼偷拍正妹裙底風光　手機還有20段影片(15032) 06:47 狼偷拍正妹裙底風光　手機還有20段影片 15032\n",
      "娛樂 任達華邋遢失戀2個月　崔震東血汗拍片被譙...(16853) 06:45 任達華邋遢失戀2個月　崔震東血汗拍片被譙... 16853\n",
      "娛樂 白冰冰床戰木頭人　60歲擠乳溝好拼(11228) 06:45 白冰冰床戰木頭人　60歲擠乳溝好拼 11228\n",
      "娛樂 字母女星出來賺　她爆乳亮物證！(36196) 06:44 字母女星出來賺　她爆乳亮物證！ 36196\n",
      "政治 朱立倫競選總部找好了　竟選在這裡(28779) 06:44 朱立倫競選總部找好了　竟選在這裡 28779\n",
      "社會 視訊毆打前女友　惡男嗆情敵「要不要來3P...(22645) 06:43 視訊毆打前女友　惡男嗆情敵「要不要來3P... 22645\n",
      "國際 【法廣RFI】第二屆法廣“吉斯蘭娜和維爾...(502) 06:42 【法廣RFI】第二屆法廣“吉斯蘭娜和維爾... 502\n",
      "社會 一張照片露餡　人妻啪啪啪一臉幸福　(54992) 06:41 一張照片露餡　人妻啪啪啪一臉幸福　54992\n",
      "政治 國民黨「柱下朱上」　《蘋果》民調發現殘酷...(31823) 06:38 國民黨「柱下朱上」　《蘋果》民調發現殘酷... 31823\n",
      "財經 【法廣RFI】法能源集團阿海琺準備允許陸...(784) 06:37 【法廣RFI】法能源集團阿海琺準備允許陸... 784\n",
      "社會 五花大綁挖眼　女求：別挖眼、劃疤就好(22757) 06:33 五花大綁挖眼　女求：別挖眼、劃疤就好 22757\n",
      "生活 五星級buffet吃回本　9大攻略看這裡(8731) 06:33 五星級buffet吃回本　9大攻略看這裡 8731\n",
      "國際 十一月三日世界各報頭條搶先報(2136) 06:32 十一月三日世界各報頭條搶先報 2136\n",
      "生活 江守山因做這件事　同行對他褒貶不一(12251) 06:25 江守山因做這件事　同行對他褒貶不一 12251\n",
      "社會 正妹視訊學英文　外籍師竟當場噴了！(16196) 06:22 正妹視訊學英文　外籍師竟當場噴了！ 16196\n",
      "政治 十一月三日各報頭條搶先報(9087) 06:20 十一月三日各報頭條搶先報 9087\n",
      "生活 名醫暗示新光醫崩壞　反遭院方控A錢(4015) 06:19 名醫暗示新光醫崩壞　反遭院方控A錢 4015\n",
      "社會 防止保險拒賠錢　專家要你這樣做(202698) 06:13 防止保險拒賠錢　專家要你這樣做 202698\n",
      "社會 狠夫殺妻又灌農藥　小21歲嫩妻曝光(237444) 06:12 狠夫殺妻又灌農藥　小21歲嫩妻曝光 237444\n",
      "社會 保險公司拖延拒賠　6大奧步大公開(151936) 06:09 保險公司拖延拒賠　6大奧步大公開 151936\n",
      "社會 三商美邦人壽拒賠孝男200萬　原因曝光(672959) 06:04 三商美邦人壽拒賠孝男200萬　原因曝光 672959\n",
      "財經 十一月三日財經焦點搶先看(3371) 05:59 十一月三日財經焦點搶先看 3371\n",
      "國際 中國火星探測器　遭諷像保險套(3802) 05:45 中國火星探測器　遭諷像保險套 3802\n",
      "國際 關鐵籠遊街　敘反抗軍遭控抓平民當「人肉盾...(2045) 05:32 關鐵籠遊街　敘反抗軍遭控抓平民當「人肉盾... 2045\n",
      "國際 飛機因「外力」墜毀？　俄官方斥無事實根據(2784) 05:08 飛機因「外力」墜毀？　俄官方斥無事實根據 2784\n",
      "國際 STAP細胞學術造假研究員　早稻田取消博...(4919) 04:53 STAP細胞學術造假研究員　早稻田取消博... 4919\n",
      "國際 土耳其執政黨單獨組閣　面臨多重考驗(661) 04:38 土耳其執政黨單獨組閣　面臨多重考驗 661\n",
      "國際 【更新】美控新一起排氣造假　福斯否認　(6006) 04:24 【更新】美控新一起排氣造假　福斯否認　6006\n",
      "國際 「對方要求戴套」　惡男辯不構成性侵(14969) 04:11 「對方要求戴套」　惡男辯不構成性侵 14969\n",
      "國際 柿子當飯吃　老翁胃潰瘍又長結石(8209) 03:47 柿子當飯吃　老翁胃潰瘍又長結石 8209\n",
      "論壇 Choyce：道東標津 鮭魚卵製作體驗(2390) 03:30 Choyce：道東標津 鮭魚卵製作體驗 2390\n",
      "論壇 史丹利：根本就是兒童節(4177) 03:30 史丹利：根本就是兒童節 4177\n"
     ]
    }
   ],
   "source": [
    "import re\n",
    "for i in range(1,31):\n",
    "    url = 'http://www.appledaily.com.tw/realtimenews/section/new/' + str(i)\n",
    "    res = requests.get(url)    \n",
    "    soup = BeautifulSoup(res.text)\n",
    "    for ele in soup.select('.rtddt'):\n",
    "        title =  ele.select('h1')[0].text\n",
    "        p = re.match('(.*)\\((\\d+)\\)',title)\n",
    "        if p:\n",
    "            print ele.select('h2')[0].text, ele.select('h1')[0].text, ele.select('time')[0].text,\\\n",
    "                p.group(1), p.group(2)"
   ]
  },
  {
   "cell_type": "code",
   "execution_count": 19,
   "metadata": {
    "collapsed": false
   },
   "outputs": [],
   "source": [
    "import jieba\n",
    "import jieba.analyse\n",
    "\n",
    "dic = {}\n",
    "for i in range(1,31):\n",
    "    url = 'http://www.appledaily.com.tw/realtimenews/section/new/' + str(i)\n",
    "    res = requests.get(url)    \n",
    "    soup = BeautifulSoup(res.text)\n",
    "    for ele in soup.select('.rtddt'):\n",
    "        title =  ele.select('h1')[0].text\n",
    "        for w in jieba.analyse.extract_tags(ele.select('h1')[0].text):\n",
    "            if w not in dic:\n",
    "                dic[w] = 1\n",
    "            else:\n",
    "                dic[w] = dic[w] + 1\n"
   ]
  },
  {
   "cell_type": "code",
   "execution_count": 20,
   "metadata": {
    "collapsed": true
   },
   "outputs": [
    {
     "name": "stdout",
     "output_type": "stream",
     "text": [
      "... 247\n",
      "更新 70\n",
      "習會 51\n",
      "法廣 29\n",
      "RFI 29\n",
      "央廣 25\n",
      "RTI 25\n",
      "曝光 22\n",
      "台灣 21\n",
      "女星 17\n",
      "週刊 16\n",
      "登場 16\n",
      "網友 15\n",
      "10 15\n",
      "這樣 13\n",
      "蘋果 12\n",
      "總統 11\n",
      "賣淫 11\n",
      "男友 10\n",
      "名單 10\n",
      "周六 10\n",
      "中國 10\n",
      "三商 9\n",
      "經濟 8\n",
      "11 8\n",
      "報告 8\n",
      "王金平 7\n",
      "明年 7\n",
      "這麼 7\n",
      "朱立倫 7\n",
      "12 7\n",
      "世界 7\n",
      "十一月 7\n",
      "日本 7\n",
      "正妹 6\n",
      "財訊 6\n",
      "美邦 6\n",
      "影片 6\n",
      "立院 6\n",
      "焦點 6\n",
      "新加坡 6\n",
      "女兒 6\n",
      "國民黨 6\n",
      "30 6\n",
      "富商 6\n",
      "民報 6\n",
      "怎麼 5\n",
      "什麼 5\n",
      "人民 5\n",
      "特企 5\n",
      "雙語 5\n",
      "就是 5\n",
      "大雨 5\n",
      "時代 5\n",
      "投資 5\n",
      "20 5\n",
      "性侵 5\n",
      "公庫 5\n",
      "南海 5\n",
      "人妻 5\n",
      "自己 5\n",
      "女友 5\n",
      "定案 5\n",
      "TOMO 5\n",
      "國際 5\n",
      "台鐵 5\n",
      "不要 5\n",
      "抗議 5\n",
      "品牌 4\n",
      "歐洲 4\n",
      "一次 4\n",
      "先報 4\n",
      "遇到 4\n",
      "香港 4\n",
      "新知 4\n",
      "亞洲 4\n",
      "要求 4\n",
      "真的 4\n",
      "不再 4\n",
      "領導 4\n",
      "航班 4\n",
      "50 4\n",
      "NBA 4\n",
      "各報 4\n",
      "智慧 4\n",
      "美國 4\n",
      "我們 4\n",
      "教授 4\n",
      "歷史 4\n",
      "英文 4\n",
      "15 4\n",
      "還有 4\n",
      "原因 4\n",
      "兩岸 4\n",
      "太平 4\n",
      "英九 4\n",
      "少女 4\n",
      "董座 4\n",
      "這件 4\n",
      "特報 4\n"
     ]
    }
   ],
   "source": [
    "import operator\n",
    "words_freq = sorted(dic.iteritems(),key=operator.itemgetter(1),reverse=True)\n",
    "for ele in words_freq[0:100]:\n",
    "    print ele[0], ele[1]"
   ]
  },
  {
   "cell_type": "code",
   "execution_count": 165,
   "metadata": {
    "collapsed": false
   },
   "outputs": [
    {
     "name": "stdout",
     "output_type": "stream",
     "text": [
      "<工程類> 5153 屋頂及防水工程\n"
     ]
    }
   ],
   "source": [
    "import requests\n",
    "from bs4 import BeautifulSoup as bs\n",
    "res = requests.get('http://web.pcc.gov.tw/tps/main/pms/tps/atm/atmAwardAction.do?newEdit=false&searchMode=common&method=inquiryForPublic&pkAtmMain=51680785&tenderCaseNo=A7907189-10411')\n",
    "soup = bs(res.text)\n",
    "for tr in soup.select('tr'):\n",
    "    if len(tr.select('th')) > 0:\n",
    "        if tr.select('th')[0].text.encode('utf-8') == '標的分類':\n",
    "            #print repr(tr.select('td')[0].text)\n",
    "            print ' '.join(tr.select('td')[0].text.split())"
   ]
  },
  {
   "cell_type": "code",
   "execution_count": null,
   "metadata": {
    "collapsed": true
   },
   "outputs": [],
   "source": []
  }
 ],
 "metadata": {
  "kernelspec": {
   "display_name": "Python 2",
   "language": "python",
   "name": "python2"
  },
  "language_info": {
   "codemirror_mode": {
    "name": "ipython",
    "version": 2
   },
   "file_extension": ".py",
   "mimetype": "text/x-python",
   "name": "python",
   "nbconvert_exporter": "python",
   "pygments_lexer": "ipython2",
   "version": "2.7.10"
  }
 },
 "nbformat": 4,
 "nbformat_minor": 0
}
