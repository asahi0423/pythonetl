{
 "cells": [
  {
   "cell_type": "markdown",
   "metadata": {},
   "source": [
    "# Dictionary "
   ]
  },
  {
   "cell_type": "markdown",
   "metadata": {},
   "source": [
    "- (): Tuple\n",
    "- []: List\n",
    "- {}: Dictionary"
   ]
  },
  {
   "cell_type": "code",
   "execution_count": 1,
   "metadata": {
    "collapsed": false
   },
   "outputs": [
    {
     "name": "stdout",
     "output_type": "stream",
     "text": [
      "[1, 2, 3]\n"
     ]
    }
   ],
   "source": [
    "a = [1,2]\n",
    "a.append(3)\n",
    "print a"
   ]
  },
  {
   "cell_type": "code",
   "execution_count": 2,
   "metadata": {
    "collapsed": false
   },
   "outputs": [
    {
     "data": {
      "text/plain": [
       "['__add__',\n",
       " '__class__',\n",
       " '__contains__',\n",
       " '__delattr__',\n",
       " '__delitem__',\n",
       " '__delslice__',\n",
       " '__doc__',\n",
       " '__eq__',\n",
       " '__format__',\n",
       " '__ge__',\n",
       " '__getattribute__',\n",
       " '__getitem__',\n",
       " '__getslice__',\n",
       " '__gt__',\n",
       " '__hash__',\n",
       " '__iadd__',\n",
       " '__imul__',\n",
       " '__init__',\n",
       " '__iter__',\n",
       " '__le__',\n",
       " '__len__',\n",
       " '__lt__',\n",
       " '__mul__',\n",
       " '__ne__',\n",
       " '__new__',\n",
       " '__reduce__',\n",
       " '__reduce_ex__',\n",
       " '__repr__',\n",
       " '__reversed__',\n",
       " '__rmul__',\n",
       " '__setattr__',\n",
       " '__setitem__',\n",
       " '__setslice__',\n",
       " '__sizeof__',\n",
       " '__str__',\n",
       " '__subclasshook__',\n",
       " 'append',\n",
       " 'count',\n",
       " 'extend',\n",
       " 'index',\n",
       " 'insert',\n",
       " 'pop',\n",
       " 'remove',\n",
       " 'reverse',\n",
       " 'sort']"
      ]
     },
     "execution_count": 2,
     "metadata": {},
     "output_type": "execute_result"
    }
   ],
   "source": [
    "dir(a)"
   ]
  },
  {
   "cell_type": "code",
   "execution_count": 3,
   "metadata": {
    "collapsed": false
   },
   "outputs": [
    {
     "ename": "AttributeError",
     "evalue": "'tuple' object has no attribute 'append'",
     "output_type": "error",
     "traceback": [
      "\u001b[1;31m---------------------------------------------------------------------------\u001b[0m",
      "\u001b[1;31mAttributeError\u001b[0m                            Traceback (most recent call last)",
      "\u001b[1;32m<ipython-input-3-94549867a91c>\u001b[0m in \u001b[0;36m<module>\u001b[1;34m()\u001b[0m\n\u001b[0;32m      1\u001b[0m \u001b[0mt\u001b[0m \u001b[1;33m=\u001b[0m \u001b[1;33m(\u001b[0m\u001b[1;36m1\u001b[0m\u001b[1;33m,\u001b[0m\u001b[1;36m2\u001b[0m\u001b[1;33m)\u001b[0m\u001b[1;33m\u001b[0m\u001b[0m\n\u001b[1;32m----> 2\u001b[1;33m \u001b[0mt\u001b[0m\u001b[1;33m.\u001b[0m\u001b[0mappend\u001b[0m\u001b[1;33m(\u001b[0m\u001b[1;36m3\u001b[0m\u001b[1;33m)\u001b[0m\u001b[1;33m\u001b[0m\u001b[0m\n\u001b[0m",
      "\u001b[1;31mAttributeError\u001b[0m: 'tuple' object has no attribute 'append'"
     ]
    }
   ],
   "source": [
    "t = (1,2)\n",
    "t.append(3)"
   ]
  },
  {
   "cell_type": "code",
   "execution_count": 4,
   "metadata": {
    "collapsed": false
   },
   "outputs": [
    {
     "name": "stdout",
     "output_type": "stream",
     "text": [
      "['__add__', '__class__', '__contains__', '__delattr__', '__doc__', '__eq__', '__format__', '__ge__', '__getattribute__', '__getitem__', '__getnewargs__', '__getslice__', '__gt__', '__hash__', '__init__', '__iter__', '__le__', '__len__', '__lt__', '__mul__', '__ne__', '__new__', '__reduce__', '__reduce_ex__', '__repr__', '__rmul__', '__setattr__', '__sizeof__', '__str__', '__subclasshook__', 'count', 'index']\n"
     ]
    }
   ],
   "source": [
    "print dir(t)"
   ]
  },
  {
   "cell_type": "code",
   "execution_count": 6,
   "metadata": {
    "collapsed": false
   },
   "outputs": [
    {
     "name": "stdout",
     "output_type": "stream",
     "text": [
      "['__add__', '__class__', '__contains__', '__delattr__', '__doc__', '__eq__', '__format__', '__ge__', '__getattribute__', '__getitem__', '__getnewargs__', '__getslice__', '__gt__', '__hash__', '__init__', '__iter__', '__le__', '__len__', '__lt__', '__mul__', '__ne__', '__new__', '__reduce__', '__reduce_ex__', '__repr__', '__rmul__', '__setattr__', '__sizeof__', '__str__', '__subclasshook__', 'count', 'index']\n"
     ]
    }
   ],
   "source": [
    "a1 = tuple(a)\n",
    "print dir(a1)"
   ]
  },
  {
   "cell_type": "code",
   "execution_count": 8,
   "metadata": {
    "collapsed": false
   },
   "outputs": [
    {
     "name": "stdout",
     "output_type": "stream",
     "text": [
      "['__add__', '__class__', '__contains__', '__delattr__', '__delitem__', '__delslice__', '__doc__', '__eq__', '__format__', '__ge__', '__getattribute__', '__getitem__', '__getslice__', '__gt__', '__hash__', '__iadd__', '__imul__', '__init__', '__iter__', '__le__', '__len__', '__lt__', '__mul__', '__ne__', '__new__', '__reduce__', '__reduce_ex__', '__repr__', '__reversed__', '__rmul__', '__setattr__', '__setitem__', '__setslice__', '__sizeof__', '__str__', '__subclasshook__', 'append', 'count', 'extend', 'index', 'insert', 'pop', 'remove', 'reverse', 'sort']\n"
     ]
    }
   ],
   "source": [
    "t1 = list(t)\n",
    "print dir(t1)"
   ]
  },
  {
   "cell_type": "code",
   "execution_count": 9,
   "metadata": {
    "collapsed": false
   },
   "outputs": [
    {
     "name": "stdout",
     "output_type": "stream",
     "text": [
      "2 1\n"
     ]
    }
   ],
   "source": [
    "a = 1\n",
    "b = 2\n",
    "tmp = -1\n",
    "\n",
    "tmp = a\n",
    "a = b\n",
    "b = tmp\n",
    "print a,b"
   ]
  },
  {
   "cell_type": "code",
   "execution_count": 10,
   "metadata": {
    "collapsed": false
   },
   "outputs": [
    {
     "name": "stdout",
     "output_type": "stream",
     "text": [
      "2 1\n"
     ]
    }
   ],
   "source": [
    "a = 1\n",
    "b = 2\n",
    "a,b = b,a\n",
    "print a,b"
   ]
  },
  {
   "cell_type": "code",
   "execution_count": 11,
   "metadata": {
    "collapsed": true
   },
   "outputs": [],
   "source": [
    "a,b,c,d,e = 1,2,3,4,5\n",
    "a,b,c,d,e = e,d,c,b,a"
   ]
  },
  {
   "cell_type": "code",
   "execution_count": 12,
   "metadata": {
    "collapsed": false
   },
   "outputs": [
    {
     "name": "stdout",
     "output_type": "stream",
     "text": [
      "5 4 3 2 1\n"
     ]
    }
   ],
   "source": [
    "print a,b,c,d,e"
   ]
  },
  {
   "cell_type": "code",
   "execution_count": 17,
   "metadata": {
    "collapsed": true
   },
   "outputs": [
    {
     "name": "stdout",
     "output_type": "stream",
     "text": [
      "looking 1\n",
      "looking 2\n",
      "looking 3\n",
      "looking 4\n",
      "looking 5\n",
      "looking 6\n",
      "looking 7\n",
      "looking 8\n",
      "looking 9\n",
      "looking 10\n",
      "looking 11\n",
      "looking 12\n",
      "looking 13\n",
      "looking 14\n",
      "looking 15\n",
      "looking 16\n",
      "looking 17\n",
      "looking 18\n",
      "looking 19\n",
      "looking 20\n",
      "looking 21\n",
      "looking 22\n",
      "looking 23\n",
      "looking 24\n",
      "looking 25\n",
      "looking 26\n",
      "looking 27\n",
      "looking 28\n",
      "looking 29\n",
      "looking 30\n",
      "looking 31\n",
      "looking 32\n",
      "looking 33\n",
      "looking 34\n",
      "looking 35\n",
      "find 35\n"
     ]
    }
   ],
   "source": [
    "for i in range(1,101):\n",
    "    print \"looking\", i \n",
    "    if i == 35:\n",
    "        print \"find\",i\n",
    "        break"
   ]
  },
  {
   "cell_type": "code",
   "execution_count": 18,
   "metadata": {
    "collapsed": true
   },
   "outputs": [
    {
     "name": "stdout",
     "output_type": "stream",
     "text": [
      "looking 1\n",
      "looking 2\n",
      "looking 3\n",
      "looking 4\n",
      "looking 5\n",
      "looking 6\n",
      "looking 7\n",
      "looking 8\n",
      "looking 9\n",
      "looking 10\n",
      "looking 11\n",
      "looking 12\n",
      "looking 13\n",
      "looking 14\n",
      "looking 15\n",
      "looking 16\n",
      "looking 17\n",
      "looking 18\n",
      "looking 19\n",
      "looking 20\n",
      "looking 21\n",
      "looking 22\n",
      "looking 23\n",
      "looking 24\n",
      "looking 25\n",
      "looking 26\n",
      "looking 27\n",
      "looking 28\n",
      "looking 29\n",
      "looking 30\n",
      "looking 31\n",
      "looking 32\n",
      "looking 33\n",
      "looking 34\n",
      "looking 35\n",
      "looking 36\n",
      "looking 37\n",
      "looking 38\n",
      "looking 39\n",
      "looking 40\n",
      "looking 41\n",
      "looking 42\n",
      "looking 43\n",
      "looking 44\n",
      "looking 45\n",
      "looking 46\n",
      "looking 47\n",
      "looking 48\n",
      "looking 49\n",
      "looking 50\n",
      "looking 51\n",
      "looking 52\n",
      "looking 53\n",
      "looking 54\n",
      "looking 55\n",
      "looking 56\n",
      "looking 57\n",
      "looking 58\n",
      "looking 59\n",
      "looking 60\n",
      "looking 61\n",
      "looking 62\n",
      "looking 63\n",
      "looking 64\n",
      "find 64\n"
     ]
    }
   ],
   "source": [
    "for i in range(1,101):\n",
    "    print \"looking\", i \n",
    "    if i == 64:\n",
    "        print \"find\",i\n",
    "        break"
   ]
  },
  {
   "cell_type": "code",
   "execution_count": 19,
   "metadata": {
    "collapsed": true
   },
   "outputs": [],
   "source": [
    "dic = {} \n",
    "for i in range(1,101):\n",
    "    dic[i] = i"
   ]
  },
  {
   "cell_type": "code",
   "execution_count": 20,
   "metadata": {
    "collapsed": false
   },
   "outputs": [
    {
     "name": "stdout",
     "output_type": "stream",
     "text": [
      "79\n"
     ]
    }
   ],
   "source": [
    "print dic[79]"
   ]
  },
  {
   "cell_type": "code",
   "execution_count": 23,
   "metadata": {
    "collapsed": false
   },
   "outputs": [
    {
     "name": "stdout",
     "output_type": "stream",
     "text": [
      "['a', 'c', 'b']\n",
      "[100, 0.98, 'yes']\n",
      "[('a', 100), ('c', 0.98), ('b', 'yes')]\n"
     ]
    }
   ],
   "source": [
    "dic = {'a':100, 'b':\"yes\", 'c':0.98}\n",
    "print dic.keys()\n",
    "print dic.values()\n",
    "print dic.items()"
   ]
  },
  {
   "cell_type": "code",
   "execution_count": 24,
   "metadata": {
    "collapsed": false
   },
   "outputs": [
    {
     "name": "stdout",
     "output_type": "stream",
     "text": [
      "100\n"
     ]
    }
   ],
   "source": [
    "print dic['a']"
   ]
  },
  {
   "cell_type": "code",
   "execution_count": 26,
   "metadata": {
    "collapsed": false
   },
   "outputs": [
    {
     "ename": "KeyError",
     "evalue": "'d'",
     "output_type": "error",
     "traceback": [
      "\u001b[1;31m---------------------------------------------------------------------------\u001b[0m",
      "\u001b[1;31mKeyError\u001b[0m                                  Traceback (most recent call last)",
      "\u001b[1;32m<ipython-input-26-143205e8c65b>\u001b[0m in \u001b[0;36m<module>\u001b[1;34m()\u001b[0m\n\u001b[1;32m----> 1\u001b[1;33m \u001b[1;32mprint\u001b[0m \u001b[0mdic\u001b[0m\u001b[1;33m[\u001b[0m\u001b[1;34m'd'\u001b[0m\u001b[1;33m]\u001b[0m\u001b[1;33m\u001b[0m\u001b[0m\n\u001b[0m",
      "\u001b[1;31mKeyError\u001b[0m: 'd'"
     ]
    }
   ],
   "source": [
    "print dic['d']"
   ]
  },
  {
   "cell_type": "code",
   "execution_count": 29,
   "metadata": {
    "collapsed": false
   },
   "outputs": [
    {
     "name": "stdout",
     "output_type": "stream",
     "text": [
      "100\n",
      "None\n"
     ]
    }
   ],
   "source": [
    "print dic.get('a')\n",
    "print dic.get('d')"
   ]
  },
  {
   "cell_type": "code",
   "execution_count": 30,
   "metadata": {
    "collapsed": false
   },
   "outputs": [
    {
     "name": "stdout",
     "output_type": "stream",
     "text": [
      "not found\n"
     ]
    }
   ],
   "source": [
    "print dic.get('d', 'not found')"
   ]
  },
  {
   "cell_type": "code",
   "execution_count": 31,
   "metadata": {
    "collapsed": true
   },
   "outputs": [],
   "source": [
    "dic['d'] = 123"
   ]
  },
  {
   "cell_type": "code",
   "execution_count": 32,
   "metadata": {
    "collapsed": false
   },
   "outputs": [
    {
     "name": "stdout",
     "output_type": "stream",
     "text": [
      "{'a': 100, 'c': 0.98, 'b': 'yes', 'd': 123}\n"
     ]
    }
   ],
   "source": [
    "print dic"
   ]
  },
  {
   "cell_type": "code",
   "execution_count": 33,
   "metadata": {
    "collapsed": false
   },
   "outputs": [
    {
     "name": "stdout",
     "output_type": "stream",
     "text": [
      "{'a': 100, 99: 98, 'c': 0.98, 'b': 'yes', 'd': 123, 'coca': 'cola'}\n"
     ]
    }
   ],
   "source": [
    "qoo = {'coca': 'cola', 99:98} \n",
    "dic.update(qoo)\n",
    "print dic"
   ]
  },
  {
   "cell_type": "code",
   "execution_count": 35,
   "metadata": {
    "collapsed": false
   },
   "outputs": [
    {
     "name": "stdout",
     "output_type": "stream",
     "text": [
      "a 100\n",
      "99 98\n",
      "c 0.98\n",
      "b yes\n",
      "d 123\n",
      "coca cola\n"
     ]
    }
   ],
   "source": [
    "for key in dic:\n",
    "    print key, dic[key]"
   ]
  },
  {
   "cell_type": "code",
   "execution_count": 36,
   "metadata": {
    "collapsed": false
   },
   "outputs": [
    {
     "name": "stdout",
     "output_type": "stream",
     "text": [
      "1\n",
      "2\n",
      "d\n"
     ]
    }
   ],
   "source": [
    "def func(x):\n",
    "    if x == 'a':\n",
    "        return 1\n",
    "    elif x == 'b':\n",
    "        return 2\n",
    "    return x\n",
    "\n",
    "print func('a')\n",
    "print func('b')\n",
    "print func('d')"
   ]
  },
  {
   "cell_type": "code",
   "execution_count": 37,
   "metadata": {
    "collapsed": false
   },
   "outputs": [
    {
     "name": "stdout",
     "output_type": "stream",
     "text": [
      "1\n",
      "2\n",
      "None\n"
     ]
    }
   ],
   "source": [
    "def func(x):\n",
    "    dic = {'a':1, 'b':2}\n",
    "    return dic.get(x)\n",
    "\n",
    "print func('a')\n",
    "print func('b')\n",
    "print func('d')"
   ]
  },
  {
   "cell_type": "code",
   "execution_count": 38,
   "metadata": {
    "collapsed": false
   },
   "outputs": [
    {
     "name": "stdout",
     "output_type": "stream",
     "text": [
      "1\n",
      "2\n",
      "0\n"
     ]
    }
   ],
   "source": [
    "def func(x):\n",
    "    dic = {'a':1, 'b':2}\n",
    "    return dic.get(x, 0)\n",
    "\n",
    "print func('a')\n",
    "print func('b')\n",
    "print func('d')"
   ]
  },
  {
   "cell_type": "code",
   "execution_count": 39,
   "metadata": {
    "collapsed": false
   },
   "outputs": [
    {
     "name": "stdout",
     "output_type": "stream",
     "text": [
      "1\n",
      "2\n",
      "0\n"
     ]
    }
   ],
   "source": [
    "def func(x):\n",
    "    return {\n",
    "    'a': 1,\n",
    "    'b': 2,\n",
    "    }.get(x, 0)\n",
    "print func('a')\n",
    "print func('b')\n",
    "print func('d')"
   ]
  },
  {
   "cell_type": "code",
   "execution_count": 41,
   "metadata": {
    "collapsed": false
   },
   "outputs": [
    {
     "name": "stdout",
     "output_type": "stream",
     "text": [
      "{'a': 100, 99: 98, 'c': 0.98, 'b': 'yes', 'd': 123, 'coca': 'cola'}\n",
      "{'a': 100, 99: 98, 'c': 0.98, 'b': 'yes', 'e': 'e', 'd': 123, 'coca': 'cola'}\n"
     ]
    }
   ],
   "source": [
    "print dic\n",
    "dic['e'] = 'e'\n",
    "print dic"
   ]
  },
  {
   "cell_type": "code",
   "execution_count": 42,
   "metadata": {
    "collapsed": false
   },
   "outputs": [
    {
     "name": "stdout",
     "output_type": "stream",
     "text": [
      "{'a': 'qoo', 99: 98, 'c': 0.98, 'b': 'yes', 'e': 'e', 'd': 123, 'coca': 'cola'}\n"
     ]
    }
   ],
   "source": [
    "dic['a'] = 'qoo'\n",
    "print dic"
   ]
  },
  {
   "cell_type": "code",
   "execution_count": 51,
   "metadata": {
    "collapsed": true
   },
   "outputs": [],
   "source": [
    "class Person():\n",
    "    count = 0 # Static/class variable\n",
    "    def __init__(self, name, city):\n",
    "        print \"this is a constructor\"\n",
    "        self.name = name # Variable for the instance\n",
    "        self.city = city # Variable for the instance\n",
    "        Person.count += 1\n",
    "    def number_of_persons(self):\n",
    "        print \"number of persons\"\n",
    "        return Person.count"
   ]
  },
  {
   "cell_type": "code",
   "execution_count": 52,
   "metadata": {
    "collapsed": false
   },
   "outputs": [
    {
     "name": "stdout",
     "output_type": "stream",
     "text": [
      "this is a constructor\n",
      "number of persons\n"
     ]
    },
    {
     "data": {
      "text/plain": [
       "1"
      ]
     },
     "execution_count": 52,
     "metadata": {},
     "output_type": "execute_result"
    }
   ],
   "source": [
    "xiaomin = Person('xiaomin','Taipei')\n",
    "xiaomin.number_of_persons()"
   ]
  },
  {
   "cell_type": "code",
   "execution_count": 53,
   "metadata": {
    "collapsed": false
   },
   "outputs": [
    {
     "name": "stdout",
     "output_type": "stream",
     "text": [
      "this is a constructor\n",
      "number of persons\n"
     ]
    },
    {
     "data": {
      "text/plain": [
       "2"
      ]
     },
     "execution_count": 53,
     "metadata": {},
     "output_type": "execute_result"
    }
   ],
   "source": [
    "John = Person('John','Tainan')\n",
    "John.number_of_persons()"
   ]
  },
  {
   "cell_type": "code",
   "execution_count": 58,
   "metadata": {
    "collapsed": false
   },
   "outputs": [
    {
     "name": "stdout",
     "output_type": "stream",
     "text": [
      "['__doc__', '__init__', '__module__', 'city', 'count', 'name', 'number_of_persons']\n",
      "Taipei\n",
      "2\n",
      "xiaomin\n",
      "number of persons\n",
      "2\n"
     ]
    }
   ],
   "source": [
    "print dir(xiaomin)\n",
    "print xiaomin.city\n",
    "print xiaomin.count\n",
    "print xiaomin.name\n",
    "print xiaomin.number_of_persons()"
   ]
  },
  {
   "cell_type": "code",
   "execution_count": 60,
   "metadata": {
    "collapsed": false
   },
   "outputs": [
    {
     "name": "stdout",
     "output_type": "stream",
     "text": [
      "10\n"
     ]
    }
   ],
   "source": [
    "def addnum(a,b): # prefix method\n",
    "    return a + b\n",
    "\n",
    "print addnum(addnum(2,3), 5)"
   ]
  },
  {
   "cell_type": "code",
   "execution_count": 61,
   "metadata": {
    "collapsed": false
   },
   "outputs": [
    {
     "name": "stdout",
     "output_type": "stream",
     "text": [
      "10\n"
     ]
    }
   ],
   "source": [
    "print 2 + 3 + 5 # infix method"
   ]
  },
  {
   "cell_type": "code",
   "execution_count": 64,
   "metadata": {
    "collapsed": false
   },
   "outputs": [
    {
     "name": "stdout",
     "output_type": "stream",
     "text": [
      "constructor\n",
      "['__doc__', '__init__', '__module__', 'integer']\n",
      "constructor\n"
     ]
    },
    {
     "ename": "TypeError",
     "evalue": "unsupported operand type(s) for +: 'instance' and 'instance'",
     "output_type": "error",
     "traceback": [
      "\u001b[1;31m---------------------------------------------------------------------------\u001b[0m",
      "\u001b[1;31mTypeError\u001b[0m                                 Traceback (most recent call last)",
      "\u001b[1;32m<ipython-input-64-6dbab0b07be6>\u001b[0m in \u001b[0;36m<module>\u001b[1;34m()\u001b[0m\n\u001b[0;32m      7\u001b[0m \u001b[1;33m\u001b[0m\u001b[0m\n\u001b[0;32m      8\u001b[0m \u001b[0mb\u001b[0m \u001b[1;33m=\u001b[0m \u001b[0mMyInteger\u001b[0m\u001b[1;33m(\u001b[0m\u001b[1;36m5\u001b[0m\u001b[1;33m)\u001b[0m\u001b[1;33m\u001b[0m\u001b[0m\n\u001b[1;32m----> 9\u001b[1;33m \u001b[1;32mprint\u001b[0m \u001b[0ma\u001b[0m\u001b[1;33m+\u001b[0m \u001b[0mb\u001b[0m\u001b[1;33m\u001b[0m\u001b[0m\n\u001b[0m",
      "\u001b[1;31mTypeError\u001b[0m: unsupported operand type(s) for +: 'instance' and 'instance'"
     ]
    }
   ],
   "source": [
    "class MyInteger():\n",
    "    def __init__(self, integer):\n",
    "        print \"constructor\"\n",
    "        self.integer = integer\n",
    "a = MyInteger(3)\n",
    "print dir(a)\n",
    "\n",
    "b = MyInteger(5)\n",
    "print a+ b"
   ]
  },
  {
   "cell_type": "code",
   "execution_count": 65,
   "metadata": {
    "collapsed": true
   },
   "outputs": [],
   "source": [
    "class MyInteger():\n",
    "    def __init__(self, integer):\n",
    "        print \"constructor\"\n",
    "        self.integer = integer\n",
    "\n",
    "    def __add__(self, integer): # Overloaded '+' operator\n",
    "        if self.integer == 2 and integer == 2:\n",
    "            return 5\n",
    "        else:\n",
    "            return self.integer + integer"
   ]
  },
  {
   "cell_type": "code",
   "execution_count": 69,
   "metadata": {
    "collapsed": false
   },
   "outputs": [
    {
     "name": "stdout",
     "output_type": "stream",
     "text": [
      "constructor\n",
      "['__add__', '__doc__', '__init__', '__module__', 'integer']\n",
      "6\n",
      "6\n",
      "constructor\n",
      "5\n"
     ]
    }
   ],
   "source": [
    "a = MyInteger(3)\n",
    "print dir(a)\n",
    "\n",
    "print a.__add__(3)\n",
    "print a + 3\n",
    "\n",
    "b = MyInteger(2)\n",
    "print b + 2"
   ]
  },
  {
   "cell_type": "code",
   "execution_count": 72,
   "metadata": {
    "collapsed": false
   },
   "outputs": [
    {
     "name": "stdout",
     "output_type": "stream",
     "text": [
      "['__doc__', '__module__', 'my_own']\n",
      "['__doc__', '__init__', '__module__', 'color', 'has_wheels', 'my_own']\n",
      "['__doc__', '__init__', '__module__', 'color', 'has_wheels', 'my_own']\n",
      "False\n",
      "yellow\n",
      "<__main__.rent_bike instance at 0x03040800>\n"
     ]
    }
   ],
   "source": [
    "class Vehicle():\n",
    "    def my_own(self): return True\n",
    "\n",
    "class Bicycle(Vehicle):\n",
    "    def __init__(self, color): self.color = color\n",
    "    def has_wheels(self): return True\n",
    "    \n",
    "class rent_bike(Bicycle):\n",
    "    def my_own(self): return False\n",
    "\n",
    "v = Vehicle()\n",
    "print dir(v)\n",
    "\n",
    "b = Bicycle(\"red\")\n",
    "print dir(b)\n",
    "    \n",
    "Ubike = rent_bike('yellow')\n",
    "print dir(Ubike)\n",
    "\n",
    "print Ubike.my_own()\n",
    "print Ubike.color\n",
    "print Ubike"
   ]
  },
  {
   "cell_type": "code",
   "execution_count": 75,
   "metadata": {
    "collapsed": false
   },
   "outputs": [
    {
     "name": "stdout",
     "output_type": "stream",
     "text": [
      "hello world\n",
      "['__add__', '__class__', '__contains__', '__delattr__', '__doc__', '__eq__', '__format__', '__ge__', '__getattribute__', '__getitem__', '__getnewargs__', '__getslice__', '__gt__', '__hash__', '__init__', '__le__', '__len__', '__lt__', '__mod__', '__mul__', '__ne__', '__new__', '__reduce__', '__reduce_ex__', '__repr__', '__rmod__', '__rmul__', '__setattr__', '__sizeof__', '__str__', '__subclasshook__', '_formatter_field_name_split', '_formatter_parser', 'capitalize', 'center', 'count', 'decode', 'encode', 'endswith', 'expandtabs', 'find', 'format', 'index', 'isalnum', 'isalpha', 'isdigit', 'islower', 'isspace', 'istitle', 'isupper', 'join', 'ljust', 'lower', 'lstrip', 'partition', 'replace', 'rfind', 'rindex', 'rjust', 'rpartition', 'rsplit', 'rstrip', 'split', 'splitlines', 'startswith', 'strip', 'swapcase', 'title', 'translate', 'upper', 'zfill']\n",
      "hello world\n"
     ]
    }
   ],
   "source": [
    "a = 'hello world'\n",
    "print a\n",
    "\n",
    "print dir(a)\n",
    "print a.__str__()"
   ]
  },
  {
   "cell_type": "code",
   "execution_count": 78,
   "metadata": {
    "collapsed": false
   },
   "outputs": [
    {
     "name": "stdout",
     "output_type": "stream",
     "text": [
      "['__doc__', '__init__', '__module__', '__str__', 'color', 'has_wheels', 'my_own']\n",
      "rent_bike is yellow\n",
      "rent_bike is yellow\n"
     ]
    }
   ],
   "source": [
    "class Vehicle():\n",
    "    def my_own(self): return True\n",
    "\n",
    "class Bicycle(Vehicle):\n",
    "    def __init__(self, color): self.color = color\n",
    "    def has_wheels(self): return True\n",
    "    def __str__(self): return \"%s is %s\"%(self.__class__.__name__,self.color)\n",
    "    \n",
    "class rent_bike(Bicycle):\n",
    "    def my_own(self): return False\n",
    "\n",
    "Ubike = rent_bike('yellow')\n",
    "print dir(Ubike)\n",
    "print Ubike\n",
    "print Ubike.__str__()"
   ]
  },
  {
   "cell_type": "markdown",
   "metadata": {},
   "source": [
    "### DRY :  Do not repeat yourself"
   ]
  },
  {
   "cell_type": "code",
   "execution_count": 82,
   "metadata": {
    "collapsed": true
   },
   "outputs": [],
   "source": [
    "fid = open('test.txt', 'w') # w:write, r:read, a:append\n",
    "fid.write('Hello\\nWorld')\n",
    "fid.close()"
   ]
  },
  {
   "cell_type": "code",
   "execution_count": 84,
   "metadata": {
    "collapsed": false
   },
   "outputs": [],
   "source": [
    "with open('test2.txt', 'w') as f:\n",
    "    f.write('qoo')"
   ]
  },
  {
   "cell_type": "code",
   "execution_count": 85,
   "metadata": {
    "collapsed": false
   },
   "outputs": [
    {
     "name": "stdout",
     "output_type": "stream",
     "text": [
      "Line: Hello\n",
      "\n",
      "Line: World\n"
     ]
    }
   ],
   "source": [
    "fid = open('test.txt', 'r')\n",
    "for line in fid: # Using file identifier as iterator\n",
    "    print(\"Line: \" + line)\n",
    "fid.close()"
   ]
  },
  {
   "cell_type": "code",
   "execution_count": 86,
   "metadata": {
    "collapsed": false
   },
   "outputs": [
    {
     "name": "stdout",
     "output_type": "stream",
     "text": [
      "1\n",
      "2\n",
      "3\n"
     ]
    }
   ],
   "source": [
    "for i in range(1,4):\n",
    "    print i"
   ]
  },
  {
   "cell_type": "code",
   "execution_count": 87,
   "metadata": {
    "collapsed": false
   },
   "outputs": [
    {
     "name": "stdout",
     "output_type": "stream",
     "text": [
      "1 2 3\n"
     ]
    }
   ],
   "source": [
    "for i in range(1,4):\n",
    "    print i,"
   ]
  },
  {
   "cell_type": "code",
   "execution_count": 88,
   "metadata": {
    "collapsed": false
   },
   "outputs": [
    {
     "name": "stdout",
     "output_type": "stream",
     "text": [
      "I love python <3 \n",
      "\n",
      "\n"
     ]
    }
   ],
   "source": [
    "a = 'I love python <3 \\n\\n'\n",
    "print a"
   ]
  },
  {
   "cell_type": "code",
   "execution_count": 89,
   "metadata": {
    "collapsed": false
   },
   "outputs": [
    {
     "name": "stdout",
     "output_type": "stream",
     "text": [
      "I love python <3\n"
     ]
    }
   ],
   "source": [
    "print a.strip()"
   ]
  },
  {
   "cell_type": "code",
   "execution_count": 90,
   "metadata": {
    "collapsed": false
   },
   "outputs": [
    {
     "name": "stdout",
     "output_type": "stream",
     "text": [
      "           \n",
      "\n",
      "   I love python <3 \n",
      "\n",
      "\n"
     ]
    }
   ],
   "source": [
    "a = '           \\n\\n   I love python <3 \\n\\n'\n",
    "print a"
   ]
  },
  {
   "cell_type": "code",
   "execution_count": 91,
   "metadata": {
    "collapsed": false
   },
   "outputs": [
    {
     "name": "stdout",
     "output_type": "stream",
     "text": [
      "I love python <3\n"
     ]
    }
   ],
   "source": [
    "print a.strip()"
   ]
  },
  {
   "cell_type": "code",
   "execution_count": 92,
   "metadata": {
    "collapsed": false
   },
   "outputs": [
    {
     "name": "stdout",
     "output_type": "stream",
     "text": [
      "I love python \n"
     ]
    }
   ],
   "source": [
    "a = 'I love python <3'\n",
    "print a.strip('<3')"
   ]
  },
  {
   "cell_type": "code",
   "execution_count": 93,
   "metadata": {
    "collapsed": false
   },
   "outputs": [
    {
     "name": "stdout",
     "output_type": "stream",
     "text": [
      "Line: Hello\n",
      "Line: World\n"
     ]
    }
   ],
   "source": [
    "fid = open('test.txt', 'r')\n",
    "for line in fid: # Using file identifier as iterator\n",
    "    print(\"Line: \" + line.strip())\n",
    "fid.close()"
   ]
  },
  {
   "cell_type": "code",
   "execution_count": 95,
   "metadata": {
    "collapsed": false
   },
   "outputs": [
    {
     "name": "stdout",
     "output_type": "stream",
     "text": [
      "line Hello\n",
      "World\n"
     ]
    }
   ],
   "source": [
    "fid = open('test.txt', 'r')\n",
    "s = fid.read() # Read the entire file\n",
    "fid.close()\n",
    "\n",
    "print \"line\",s"
   ]
  },
  {
   "cell_type": "code",
   "execution_count": 96,
   "metadata": {
    "collapsed": false
   },
   "outputs": [
    {
     "name": "stdout",
     "output_type": "stream",
     "text": [
      "2\n"
     ]
    }
   ],
   "source": [
    "fid = open('test.txt')\n",
    "k = 0\n",
    "for line in fid:\n",
    "    k = k + 1\n",
    "fid.close()\n",
    "\n",
    "print(k)"
   ]
  },
  {
   "cell_type": "code",
   "execution_count": 98,
   "metadata": {
    "collapsed": false
   },
   "outputs": [
    {
     "name": "stdout",
     "output_type": "stream",
     "text": [
      "['Hello\\n', 'World']\n",
      "2\n"
     ]
    }
   ],
   "source": [
    "print [line for line in open('test.txt')]\n",
    "print len([line for line in open('test.txt')])"
   ]
  },
  {
   "cell_type": "code",
   "execution_count": 100,
   "metadata": {
    "collapsed": false
   },
   "outputs": [
    {
     "name": "stdout",
     "output_type": "stream",
     "text": [
      "72\n",
      "72\n"
     ]
    }
   ],
   "source": [
    "print len([line for line in open('ma.txt')])\n",
    "\n",
    "cnt = 0\n",
    "f = open('ma.txt', 'r')\n",
    "for line in f:\n",
    "    cnt +=1\n",
    "print cnt\n",
    "f.close()"
   ]
  },
  {
   "cell_type": "code",
   "execution_count": 101,
   "metadata": {
    "collapsed": true
   },
   "outputs": [
    {
     "name": "stdout",
     "output_type": "stream",
     "text": [
      "Leaders of China and Taiwan hold first talks since bitter 1949 split\n",
      "(CNN)When the Presidents of China and Taiwan shook hands on Saturday, they reached across a gap that has yawned between the two sides since 1949, in the wake of China's civil war.\n",
      "\n",
      "Then, the Communist Party took control of the majority of China and Chiang Kai-shek's Nationalists fled to Taiwan. The mainland became the People's Republic of China; Taiwan took the name Republic of China and embraced democracy.\n",
      "\n",
      "Mistrust and fear of more bloodshed between them have haunted them for decades.\n",
      "\n",
      "Chinese President Xi Jinping and Taiwanese President Ma Ying-jeou met in a third-party country -- Singapore. They eschewed their presidential titles and address each other simply as \"Mr.\"\n",
      "\n",
      "China-Taiwan relations remain tense\n",
      "\n",
      "China-Taiwan relations remain tense 02:23\n",
      "In a Thursday press conference, Ma said that the two sides would even split the bill for their hotel and meal costs.\n",
      "\n",
      "What may seem like informal manners was actually governed by a complicated protocol reflecting the bitter history between the two. Every gesture they made has been closely scrutinized.\n",
      "\n",
      "Improvement? Perhaps, perhaps not\n",
      "The two men sounded upbeat in their public statements.\n",
      "\n",
      "\"Today marks a new chapter in the cross-strait relationship,\" Xi told journalists. \"The separation of families on both sides of the Taiwan strait has caused deep pain and regrets to countless families.\"\n",
      "\n",
      "Ma called for a hotline between Taiwan and the mainland to deal with urgent matters.\n",
      "\n",
      "\"I call for (a) reduction of hostility, and for the resolution of disputes with peaceful measures,\" he said. \"I call for enhancement of cross-strait exchange, and reinforcement of win-win.\"\n",
      "\n",
      "But Ma's political opposition in Taiwan is displeased with the meeting with Xi, and with an election around the corner, they are ahead in the polls. Ma's visit could boost his party's standing, analysts say, but it also might not.\n",
      "\n",
      "Protesters took to the street in Taiwan's capital Taipei to voice protest against the meeting.\n",
      "\n",
      "Taiwan politics\n",
      "Ma is the former head of the Kuomintang (KMT) party, and has been a key driver in forging closer ties with Beijing since he came to power in a 2008 election.\n",
      "\n",
      "Tsai Ing-wen, the head of the opposition Democratic Progressive Party (DPP) and the leading candidate to replace Ma in the January elections, has spoken out against his rival's historic meeting with Xi on Saturday.\n",
      "\n",
      "The KMT's candidate Eric Chiu is trailing Tsai by a wide margin, and Ma cannot run because of term limits. If the positive effects of closer ties between China and Taiwan don't weigh well in the balance, Ma's party could lose by a landslide.\n",
      "\n",
      "China sees Taiwan as a renegade province, which heats up resentment in Taiwan. Beijing has warned that a formal declaration of independence by Taiwan could lead to military intervention.\n",
      "\n",
      "To this day, it's reported to have missiles pointed at the island of 22 million people.\n",
      "\n",
      "Ma raised the issue with Xi on Saturday.\n",
      "\n",
      "\"I have expressed people's concerns over the deployment of hostile military presence against Taiwan, including missiles. Xi told me that those are not targeted at Taiwan,\" Ma said.\n",
      "\n",
      "Xi: One country, not two\n",
      "On Saturday, Xi reinforced Beijing's stance that Taiwan is a Chinese province.\n",
      "\n",
      "In a closed door meeting, he told Ma that the cross-strait relationship is not a relationship between two countries, is not the relationship between China and Taiwan. Territories on both sides of the strait belong to the same country, this is a historical fact, and the legal foundation of this fact cannot and will not change, he said, according to China's Taiwan Affairs Office.\n",
      "\n",
      "That will likely not sit well with many in Taiwan.\n",
      "\n",
      "Ma told journalists that Taiwan agreed with China's One China Policy, \"but we continue to differ on its definition.\"\n",
      "\n",
      "Despite differences, both sides have made strides toward each other over the last seven years.\n",
      "\n",
      "\"Since 2008, the cross-strait relations have moved on to a path of peaceful development, and have been increasingly stabilized in the past seven years, thanks to the efforts of many people on both sides of the Taiwan Strait,\" Xi said.\n",
      "\n",
      "\n",
      "No agreements\n",
      "Both sides have said that no agreements would be signed at the meeting, but that they would discuss ways to cement peace.\n",
      "\n",
      "\"If Xi tries to put down any markers about improving political ties or setting any deadlines for steps toward reunification, it will cause a massive anti-Beijing backlash across Taiwan,\" said Robert Manning, senior fellow at the Atlantic Council.\n",
      "\n",
      "READ: Explained: Why historic meeting matters\n",
      "\n",
      "Despite the rift, China is Taiwan's biggest trade partner, hundreds of flights go between the two nations each week and Chinese banks now operate on the island, while some Taiwanese companies have factories in China.\n",
      "\n",
      "MORE: Summit: Empty symbolism or game changer?\n",
      "\n",
      "MORE: Behind threats and supercharged rhetoric: Trade\n",
      "\n",
      "CNN's Shen Lu in Beijing contributed to this report\n"
     ]
    }
   ],
   "source": [
    "f = open('ma.txt', 'r')\n",
    "for line in f:\n",
    "    print line.strip()\n",
    "f.close()"
   ]
  },
  {
   "cell_type": "code",
   "execution_count": 102,
   "metadata": {
    "collapsed": false
   },
   "outputs": [
    {
     "name": "stdout",
     "output_type": "stream",
     "text": [
      "['Leaders', 'of', 'China', 'and', 'Taiwan', 'hold', 'first', 'talks', 'since', 'bitter', '1949', 'split']\n"
     ]
    }
   ],
   "source": [
    "title = 'Leaders of China and Taiwan hold first talks since bitter 1949 split'\n",
    "print title.split()"
   ]
  },
  {
   "cell_type": "code",
   "execution_count": 106,
   "metadata": {
    "collapsed": false
   },
   "outputs": [
    {
     "name": "stdout",
     "output_type": "stream",
     "text": [
      "[1, 2, 3, 4, 5, 6]\n"
     ]
    }
   ],
   "source": [
    "a = [1,2,3]\n",
    "a += [4,5,6]\n",
    "print a"
   ]
  },
  {
   "cell_type": "code",
   "execution_count": 107,
   "metadata": {
    "collapsed": true
   },
   "outputs": [],
   "source": [
    "words = []\n",
    "\n",
    "f = open('ma.txt', 'r')\n",
    "for line in f:\n",
    "    words += line.strip().split()\n",
    "f.close()"
   ]
  },
  {
   "cell_type": "code",
   "execution_count": 113,
   "metadata": {
    "collapsed": false
   },
   "outputs": [
    {
     "name": "stdout",
     "output_type": "stream",
     "text": [
      "['a', 'a', 'a', 'b', 'c']\n"
     ]
    }
   ],
   "source": [
    "words = ['a', 'b', 'a','a', 'c']\n",
    "words.sort()\n",
    "print words"
   ]
  },
  {
   "cell_type": "code",
   "execution_count": 114,
   "metadata": {
    "collapsed": false
   },
   "outputs": [
    {
     "name": "stdout",
     "output_type": "stream",
     "text": [
      "a 3\n",
      "b 1\n",
      "c 1\n"
     ]
    }
   ],
   "source": [
    "current_word = ''\n",
    "cnt = 0\n",
    "for w in words:\n",
    "    if w != current_word:\n",
    "        if current_word != '':\n",
    "            print current_word, cnt\n",
    "        current_word = w\n",
    "        cnt = 1\n",
    "    else:\n",
    "        cnt += 1\n",
    "print current_word, cnt"
   ]
  },
  {
   "cell_type": "code",
   "execution_count": 115,
   "metadata": {
    "collapsed": true
   },
   "outputs": [],
   "source": [
    "words = []\n",
    "\n",
    "f = open('ma.txt', 'r')\n",
    "for line in f:\n",
    "    words += line.strip().split()\n",
    "f.close()"
   ]
  },
  {
   "cell_type": "code",
   "execution_count": 116,
   "metadata": {
    "collapsed": true
   },
   "outputs": [],
   "source": [
    "words.sort()"
   ]
  },
  {
   "cell_type": "code",
   "execution_count": 117,
   "metadata": {
    "collapsed": false
   },
   "outputs": [
    {
     "name": "stdout",
     "output_type": "stream",
     "text": [
      "\"I 3\n",
      "\"If 1\n",
      "\"Mr.\" 1\n",
      "\"Since 1\n",
      "\"The 1\n",
      "\"Today 1\n",
      "\"but 1\n",
      "(CNN)When 1\n",
      "(DPP) 1\n",
      "(KMT) 1\n",
      "(a) 1\n",
      "-- 1\n",
      "02:23 1\n",
      "1949 1\n",
      "1949, 1\n",
      "2008 1\n",
      "2008, 1\n",
      "22 1\n",
      "Affairs 1\n",
      "Atlantic 1\n",
      "Behind 1\n",
      "Beijing 3\n",
      "Beijing's 1\n",
      "Both 1\n",
      "But 1\n",
      "CNN's 1\n",
      "Chiang 1\n",
      "China 9\n",
      "China's 3\n",
      "China-Taiwan 2\n",
      "China. 1\n",
      "China; 1\n",
      "Chinese 3\n",
      "Chiu 1\n",
      "Communist 1\n",
      "Council. 1\n",
      "Democratic 1\n",
      "Despite 2\n",
      "Empty 1\n",
      "Eric 1\n",
      "Every 1\n",
      "Explained: 1\n",
      "If 1\n",
      "Improvement? 1\n",
      "In 2\n",
      "Ing-wen, 1\n",
      "January 1\n",
      "Jinping 1\n",
      "KMT's 1\n",
      "Kai-shek's 1\n",
      "Kuomintang 1\n",
      "Leaders 1\n",
      "Lu 1\n",
      "MORE: 2\n",
      "Ma 10\n",
      "Ma's 3\n",
      "Manning, 1\n",
      "Mistrust 1\n",
      "Nationalists 1\n",
      "No 1\n",
      "Office. 1\n",
      "On 1\n",
      "One 2\n",
      "Party 2\n",
      "People's 1\n",
      "Perhaps, 1\n",
      "Policy, 1\n",
      "President 2\n",
      "Presidents 1\n",
      "Progressive 1\n",
      "Protesters 1\n",
      "READ: 1\n",
      "Republic 2\n",
      "Robert 1\n",
      "Saturday, 2\n",
      "Saturday. 2\n",
      "Shen 1\n",
      "Singapore. 1\n",
      "Strait,\" 1\n",
      "Summit: 1\n",
      "Taipei 1\n",
      "Taiwan 14\n",
      "Taiwan's 2\n",
      "Taiwan, 1\n",
      "Taiwan,\" 2\n",
      "Taiwan. 4\n",
      "Taiwanese 2\n",
      "Territories 1\n",
      "That 1\n",
      "The 3\n",
      "Then, 1\n",
      "They 1\n",
      "Thursday 1\n",
      "To 1\n",
      "Trade 1\n",
      "Tsai 2\n",
      "What 1\n",
      "Why 1\n",
      "Xi 8\n",
      "Xi, 1\n",
      "Xi: 1\n",
      "Ying-jeou 1\n",
      "a 18\n",
      "about 1\n",
      "according 1\n",
      "across 2\n",
      "actually 1\n",
      "address 1\n",
      "against 3\n",
      "agreed 1\n",
      "agreements 2\n",
      "ahead 1\n",
      "also 1\n",
      "an 1\n",
      "analysts 1\n",
      "and 23\n",
      "anti-Beijing 1\n",
      "any 2\n",
      "are 2\n",
      "around 1\n",
      "as 2\n",
      "at 4\n",
      "backlash 1\n",
      "balance, 1\n",
      "banks 1\n",
      "be 1\n",
      "became 1\n",
      "because 1\n",
      "been 3\n",
      "belong 1\n",
      "between 8\n",
      "biggest 1\n",
      "bill 1\n",
      "bitter 2\n",
      "bloodshed 1\n",
      "boost 1\n",
      "both 4\n",
      "but 2\n",
      "by 4\n",
      "call 2\n",
      "called 1\n",
      "came 1\n",
      "candidate 2\n",
      "cannot 2\n",
      "capital 1\n",
      "cause 1\n",
      "caused 1\n",
      "cement 1\n",
      "change, 1\n",
      "changer? 1\n",
      "chapter 1\n",
      "civil 1\n",
      "closed 1\n",
      "closely 1\n",
      "closer 2\n",
      "companies 1\n",
      "complicated 1\n",
      "concerns 1\n",
      "conference, 1\n",
      "continue 1\n",
      "contributed 1\n",
      "control 1\n",
      "corner, 1\n",
      "costs. 1\n",
      "could 3\n",
      "countless 1\n",
      "countries, 1\n",
      "country 1\n",
      "country, 2\n",
      "cross-strait 4\n",
      "day, 1\n",
      "deadlines 1\n",
      "deal 1\n",
      "decades. 1\n",
      "declaration 1\n",
      "deep 1\n",
      "definition.\" 1\n",
      "democracy. 1\n",
      "deployment 1\n",
      "development, 1\n",
      "differ 1\n",
      "differences, 1\n",
      "discuss 1\n",
      "displeased 1\n",
      "disputes 1\n",
      "don't 1\n",
      "door 1\n",
      "down 1\n",
      "driver 1\n",
      "each 3\n",
      "effects 1\n",
      "efforts 1\n",
      "election 1\n",
      "election. 1\n",
      "elections, 1\n",
      "embraced 1\n",
      "enhancement 1\n",
      "eschewed 1\n",
      "even 1\n",
      "exchange, 1\n",
      "expressed 1\n",
      "fact 1\n",
      "fact, 1\n",
      "factories 1\n",
      "families 1\n",
      "families.\" 1\n",
      "fear 1\n",
      "fellow 1\n",
      "first 1\n",
      "fled 1\n",
      "flights 1\n",
      "for 7\n",
      "forging 1\n",
      "formal 1\n",
      "former 1\n",
      "foundation 1\n",
      "game 1\n",
      "gap 1\n",
      "gesture 1\n",
      "go 1\n",
      "governed 1\n",
      "hands 1\n",
      "has 6\n",
      "haunted 1\n",
      "have 8\n",
      "he 4\n",
      "head 2\n",
      "heats 1\n",
      "his 2\n",
      "historic 2\n",
      "historical 1\n",
      "history 1\n",
      "hold 1\n",
      "hostile 1\n",
      "hostility, 1\n",
      "hotel 1\n",
      "hotline 1\n",
      "hundreds 1\n",
      "improving 1\n",
      "in 16\n",
      "including 1\n",
      "increasingly 1\n",
      "independence 1\n",
      "informal 1\n",
      "intervention. 1\n",
      "is 8\n",
      "island 1\n",
      "island, 1\n",
      "issue 1\n",
      "it 2\n",
      "it's 1\n",
      "its 1\n",
      "journalists 1\n",
      "journalists. 1\n",
      "key 1\n",
      "landslide. 1\n",
      "last 1\n",
      "lead 1\n",
      "leading 1\n",
      "legal 1\n",
      "like 1\n",
      "likely 1\n",
      "limits. 1\n",
      "lose 1\n",
      "made 2\n",
      "mainland 2\n",
      "majority 1\n",
      "manners 1\n",
      "many 2\n",
      "margin, 1\n",
      "markers 1\n",
      "marks 1\n",
      "massive 1\n",
      "matters 1\n",
      "matters. 1\n",
      "may 1\n",
      "me 1\n",
      "meal 1\n",
      "measures,\" 1\n",
      "meeting 3\n",
      "meeting, 2\n",
      "meeting. 1\n",
      "men 1\n",
      "met 1\n",
      "might 1\n",
      "military 2\n",
      "million 1\n",
      "missiles 1\n",
      "missiles. 1\n",
      "more 1\n",
      "moved 1\n",
      "name 1\n",
      "nations 1\n",
      "new 1\n",
      "no 1\n",
      "not 7\n",
      "not. 1\n",
      "now 1\n",
      "of 27\n",
      "on 9\n",
      "operate 1\n",
      "opposition 2\n",
      "or 2\n",
      "other 2\n",
      "out 1\n",
      "over 2\n",
      "pain 1\n",
      "partner, 1\n",
      "party 1\n",
      "party's 1\n",
      "party, 1\n",
      "past 1\n",
      "path 1\n",
      "peace. 1\n",
      "peaceful 2\n",
      "people 1\n",
      "people's 1\n",
      "people. 1\n",
      "perhaps 1\n",
      "pointed 1\n",
      "political 2\n",
      "politics 1\n",
      "polls. 1\n",
      "positive 1\n",
      "power 1\n",
      "presence 1\n",
      "presidential 1\n",
      "press 1\n",
      "protest 1\n",
      "protocol 1\n",
      "province, 1\n",
      "province. 1\n",
      "public 1\n",
      "put 1\n",
      "raised 1\n",
      "reached 1\n",
      "reduction 1\n",
      "reflecting 1\n",
      "regrets 1\n",
      "reinforced 1\n",
      "reinforcement 1\n",
      "relations 3\n",
      "relationship 3\n",
      "relationship,\" 1\n",
      "remain 2\n",
      "renegade 1\n",
      "replace 1\n",
      "report 1\n",
      "reported 1\n",
      "resentment 1\n",
      "resolution 1\n",
      "reunification, 1\n",
      "rhetoric: 1\n",
      "rift, 1\n",
      "rival's 1\n",
      "run 1\n",
      "said 3\n",
      "said, 1\n",
      "said. 3\n",
      "same 1\n",
      "say, 1\n",
      "scrutinized. 1\n",
      "seem 1\n",
      "sees 1\n",
      "senior 1\n",
      "separation 1\n",
      "setting 1\n",
      "seven 2\n",
      "shook 1\n",
      "sides 7\n",
      "signed 1\n",
      "simply 1\n",
      "since 3\n",
      "sit 1\n",
      "some 1\n",
      "sounded 1\n",
      "split 2\n",
      "spoken 1\n",
      "stabilized 1\n",
      "stance 1\n",
      "standing, 1\n",
      "statements. 1\n",
      "steps 1\n",
      "strait 2\n",
      "street 1\n",
      "strides 1\n",
      "supercharged 1\n",
      "symbolism 1\n",
      "talks 1\n",
      "targeted 1\n",
      "tense 2\n",
      "term 1\n",
      "thanks 1\n",
      "that 9\n",
      "the 46\n",
      "their 3\n",
      "them 2\n",
      "they 4\n",
      "third-party 1\n",
      "this 4\n",
      "those 1\n",
      "threats 1\n",
      "ties 3\n",
      "titles 1\n",
      "to 17\n",
      "told 4\n",
      "took 3\n",
      "toward 2\n",
      "trade 1\n",
      "trailing 1\n",
      "tries 1\n",
      "two 6\n",
      "two. 1\n",
      "up 1\n",
      "upbeat 1\n",
      "urgent 1\n",
      "visit 1\n",
      "voice 1\n",
      "wake 1\n",
      "war. 1\n",
      "warned 1\n",
      "was 1\n",
      "ways 1\n",
      "we 1\n",
      "week 1\n",
      "weigh 1\n",
      "well 2\n",
      "which 1\n",
      "while 1\n",
      "wide 1\n",
      "will 3\n",
      "win-win.\" 1\n",
      "with 10\n",
      "would 3\n",
      "yawned 1\n",
      "years, 1\n",
      "years. 1\n"
     ]
    }
   ],
   "source": [
    "current_word = ''\n",
    "cnt = 0\n",
    "for w in words:\n",
    "    if w != current_word:\n",
    "        if current_word != '':\n",
    "            print current_word, cnt\n",
    "        current_word = w\n",
    "        cnt = 1\n",
    "    else:\n",
    "        cnt += 1\n",
    "print current_word, cnt"
   ]
  },
  {
   "cell_type": "code",
   "execution_count": 118,
   "metadata": {
    "collapsed": true
   },
   "outputs": [],
   "source": [
    "words = []\n",
    "\n",
    "f = open('ma.txt', 'r')\n",
    "for line in f:\n",
    "    words += line.strip().split()\n",
    "f.close()"
   ]
  },
  {
   "cell_type": "code",
   "execution_count": 119,
   "metadata": {
    "collapsed": true
   },
   "outputs": [
    {
     "name": "stdout",
     "output_type": "stream",
     "text": [
      "{'caused': 1, 'eschewed': 1, 'protest': 1, 'Republic': 2, 'markers': 1, 'talks': 1, 'Communist': 1, '1949,': 1, 'party,': 1, '1949': 1, \"China's\": 3, 'former': 1, 'to': 17, 'Ying-jeou': 1, 'marks': 1, 'regrets': 1, 'Perhaps,': 1, '--': 1, 'cause': 1, 'companies': 1, 'Policy,': 1, 'Ing-wen,': 1, 'Strait,\"': 1, 'past': 1, 'go': 1, 'likely': 1, 'titles': 1, 'enhancement': 1, 'forging': 1, 'even': 1, 'change,': 1, 'contributed': 1, 'expressed': 1, 'capital': 1, 'new': 1, 'boost': 1, 'public': 1, 'told': 4, \"Taiwan's\": 2, 'Ma': 10, 'stance': 1, 'men': 1, 'hundreds': 1, 'met': 1, 'separation': 1, 'address': 1, 'path': 1, 'say,': 1, 'backlash': 1, 'Chinese': 3, 'Shen': 1, 'landslide.': 1, 'analysts': 1, 'military': 2, 'shook': 1, 'anti-Beijing': 1, 'Summit:': 1, 'elections,': 1, 'replace': 1, 'war.': 1, 'Behind': 1, '\"Today': 1, 'would': 3, 'positive': 1, 'visit': 1, 'two': 6, 'call': 2, \"People's\": 1, 'more': 1, 'door': 1, 'journalists': 1, 'rhetoric:': 1, 'Chiang': 1, 'hold': 1, 'me': 1, 'stabilized': 1, 'this': 4, 'signed': 1, 'Taiwanese': 2, 'remain': 2, 'democracy.': 1, 'history': 1, 'control': 1, \"Beijing's\": 1, 'measures,\"': 1, 'Lu': 1, 'Party': 2, 'sit': 1, 'Why': 1, 'may': 1, 'tries': 1, 'improving': 1, 'ties': 3, 'a': 18, 'missiles.': 1, 'One': 2, 'banks': 1, 'relationship,\"': 1, 'reinforced': 1, 'gesture': 1, 'development,': 1, 'What': 1, \"don't\": 1, 'pointed': 1, 'operate': 1, '\"I': 3, 'including': 1, 'its': 1, 'scrutinized.': 1, 'No': 1, 'actually': 1, 'corner,': 1, 'factories': 1, 'might': 1, 'Council.': 1, 'them': 2, 'effects': 1, 'they': 4, 'hands': 1, 'not': 7, 'now': 1, 'fled': 1, 'Taipei': 1, 'term': 1, 'name': 1, 'warned': 1, 'each': 3, 'hotline': 1, 'meal': 1, \"party's\": 1, 'out': 1, '(a)': 1, '\"If': 1, 'since': 3, 'day,': 1, 'China': 9, 'issue': 1, 'independence': 1, 'foundation': 1, 'third-party': 1, 'margin,': 1, 'Manning,': 1, 'million': 1, 'disputes': 1, 'complicated': 1, \"people's\": 1, 'put': 1, 'mainland': 2, 'hostile': 1, 'could': 3, 'massive': 1, 'Eric': 1, 'first': 1, 'Jinping': 1, 'spoken': 1, 'Territories': 1, 'embraced': 1, 'reached': 1, 'two.': 1, 'differ': 1, 'leading': 1, 'relations': 3, 'their': 3, 'which': 1, 'Saturday.': 2, 'Saturday,': 2, 'bitter': 2, 'bloodshed': 1, 'relationship': 3, 'that': 9, 'journalists.': 1, 'Tsai': 2, 'costs.': 1, 'hotel': 1, 'took': 3, 'reflecting': 1, 'decades.': 1, 'Democratic': 1, \"Kai-shek's\": 1, 'wide': 1, 'Xi': 8, 'yawned': 1, 'nations': 1, 'street': 1, 'historical': 1, 'toward': 2, 'and': 23, 'Affairs': 1, '\"Mr.\"': 1, 'sees': 1, 'have': 8, 'seem': 1, 'any': 2, 'reunification,': 1, 'Singapore.': 1, 'hostility,': 1, 'also': 1, 'concerns': 1, 'Nationalists': 1, 'They': 1, 'pain': 1, 'Mistrust': 1, '(CNN)When': 1, '(DPP)': 1, 'threats': 1, 'The': 3, 'Kuomintang': 1, '2008,': 1, 'weigh': 1, 'senior': 1, 'not.': 1, 'fact': 1, 'exchange,': 1, 'agreed': 1, 'Explained:': 1, 'fear': 1, 'Taiwan,\"': 2, 'flights': 1, '\"Since': 1, 'Taiwan,': 1, 'over': 2, 'his': 2, 'years.': 1, 'Progressive': 1, 'Xi,': 1, 'cannot': 2, 'haunted': 1, 'meeting,': 2, 'closely': 1, 'meeting.': 1, 'report': 1, 'Xi:': 1, 'trade': 1, 'Leaders': 1, 'partner,': 1, 'cross-strait': 4, 'statements.': 1, 'are': 2, 'closer': 2, 'said': 3, 'matters.': 1, 'That': 1, 'ways': 1, 'years,': 1, 'closed': 1, 'between': 8, 'across': 2, 'we': 1, 'rift,': 1, 'targeted': 1, 'strides': 1, 'opposition': 2, 'both': 4, 'last': 1, '22': 1, 'reported': 1, 'country': 1, 'countries,': 1, 'according': 1, 'against': 3, 'Chiu': 1, 'became': 1, 'key': 1, 'manners': 1, 'MORE:': 2, 'resentment': 1, 'simply': 1, \"it's\": 1, 'political': 2, 'been': 3, 'election.': 1, 'reduction': 1, 'agreements': 2, 'peaceful': 2, 'upbeat': 1, 'meeting': 3, 'families': 1, 'gap': 1, 'wake': 1, 'Thursday': 1, 'declaration': 1, 'changer?': 1, 'fellow': 1, 'standing,': 1, 'those': 1, 'countless': 1, 'ahead': 1, 'Presidents': 1, 'bill': 1, 'will': 3, 'while': 1, \"KMT's\": 1, 'many': 2, 'Taiwan': 14, 'voice': 1, 'province,': 1, 'province.': 1, 'seven': 2, 'Both': 1, 'is': 8, 'strait': 2, 'it': 2, 'in': 16, 'said,': 1, 'said.': 3, 'missiles': 1, 'perhaps': 1, 'belong': 1, 'Protesters': 1, 'same': 1, 'island,': 1, 'split': 2, 'party': 1, 'week': 1, 'displeased': 1, 'island': 1, 'driver': 1, 'cement': 1, 'renegade': 1, 'conference,': 1, 'differences,': 1, 'President': 2, 'people.': 1, 'well': 2, 'supercharged': 1, 'In': 2, 'the': 46, 'If': 1, 'protocol': 1, 'Then,': 1, 'increasingly': 1, 'Office.': 1, 'symbolism': 1, 'thanks': 1, 'READ:': 1, 'candidate': 2, 'majority': 1, 'informal': 1, 'discuss': 1, 'setting': 1, 'presidential': 1, 'Despite': 2, 'has': 6, 'Robert': 1, 'On': 1, 'around': 1, 'fact,': 1, 'matters': 1, 'game': 1, 'historic': 2, 'deployment': 1, 'press': 1, '\"but': 1, 'formal': 1, 'like': 1, 'country,': 2, 'continue': 1, 'steps': 1, 'lose': 1, 'China.': 1, 'because': 1, 'deal': 1, 'people': 1, 'limits.': 1, 'some': 1, 'urgent': 1, \"CNN's\": 1, 'China;': 1, \"rival's\": 1, 'peace.': 1, '\"The': 1, 'for': 7, 'legal': 1, 'be': 1, 'run': 1, 'power': 1, 'by': 4, 'chapter': 1, 'on': 9, 'about': 1, 'definition.\"': 1, 'of': 27, 'Trade': 1, 'families.\"': 1, 'efforts': 1, 'or': 2, 'raised': 1, 'presence': 1, 'civil': 1, 'down': 1, '(KMT)': 1, 'But': 1, 'Empty': 1, 'deadlines': 1, 'Every': 1, 'biggest': 1, 'was': 1, 'head': 2, 'January': 1, 'but': 2, 'balance,': 1, 'with': 10, 'Taiwan.': 4, 'he': 4, 'Beijing': 3, 'made': 2, \"Ma's\": 3, 'up': 1, 'reinforcement': 1, 'Improvement?': 1, 'called': 1, 'election': 1, 'China-Taiwan': 2, 'moved': 1, 'deep': 1, 'an': 1, 'To': 1, 'as': 2, 'at': 4, 'politics': 1, 'win-win.\"': 1, 'trailing': 1, 'no': 1, 'other': 2, 'Atlantic': 1, '02:23': 1, 'intervention.': 1, 'sides': 7, 'polls.': 1, 'lead': 1, 'governed': 1, 'heats': 1, 'came': 1, 'tense': 2, '2008': 1, 'resolution': 1, 'sounded': 1}\n"
     ]
    }
   ],
   "source": [
    "dic = {}\n",
    "for w in words:\n",
    "    if w not in dic:\n",
    "        dic[w] = 1\n",
    "    else:\n",
    "        dic[w] = dic[w] + 1\n",
    "\n",
    "print dic\n"
   ]
  },
  {
   "cell_type": "code",
   "execution_count": 120,
   "metadata": {
    "collapsed": false
   },
   "outputs": [
    {
     "name": "stdout",
     "output_type": "stream",
     "text": [
      "[('a', 100), ('c', 0.98), ('b', 'qo')]\n"
     ]
    }
   ],
   "source": [
    "a = {'a':100, 'b':'qo', 'c':0.98}\n",
    "print a.items()"
   ]
  },
  {
   "cell_type": "code",
   "execution_count": 122,
   "metadata": {
    "collapsed": false
   },
   "outputs": [
    {
     "name": "stdout",
     "output_type": "stream",
     "text": [
      "[('the', 46), ('of', 27), ('and', 23), ('a', 18), ('to', 17), ('in', 16), ('Taiwan', 14), ('Ma', 10), ('with', 10), ('China', 9), ('that', 9), ('on', 9), ('Xi', 8), ('have', 8), ('between', 8), ('is', 8), ('not', 7), ('for', 7), ('sides', 7), ('two', 6)]\n"
     ]
    }
   ],
   "source": [
    "import operator\n",
    "sorted_x = sorted(dic.items(), key=operator.itemgetter(1), reverse=True)\n",
    "print sorted_x[0:20]"
   ]
  },
  {
   "cell_type": "code",
   "execution_count": null,
   "metadata": {
    "collapsed": true
   },
   "outputs": [],
   "source": []
  }
 ],
 "metadata": {
  "kernelspec": {
   "display_name": "Python 2",
   "language": "python",
   "name": "python2"
  },
  "language_info": {
   "codemirror_mode": {
    "name": "ipython",
    "version": 2
   },
   "file_extension": ".py",
   "mimetype": "text/x-python",
   "name": "python",
   "nbconvert_exporter": "python",
   "pygments_lexer": "ipython2",
   "version": "2.7.10"
  }
 },
 "nbformat": 4,
 "nbformat_minor": 0
}
