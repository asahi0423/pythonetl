{
 "cells": [
  {
   "cell_type": "code",
   "execution_count": 21,
   "metadata": {
    "collapsed": false
   },
   "outputs": [
    {
     "name": "stdout",
     "output_type": "stream",
     "text": [
      "長篇小說檢舉區 2015.11.07-286樓已處理(內附本板板規) Nickice 感謝 2\n",
      "長篇小說錯區及完本獎勵提報 225樓 Nickice 感謝 7\n",
      "長篇小說排行榜 huahua88 感謝 12\n",
      "長篇小說問題和意見區 Nickice 感謝 23\n",
      "隆重推出「精品小說計劃」 Nickice 感謝 130\n",
      "長篇小說區審改員招募 Nickice 感謝 14\n",
      "小說文章排版技巧㊣ Nickice 感謝 27\n",
      "發帖注意事項※請發帖前多加注意(04/06/12更新!) bib 感謝 22\n",
      "發表小說章節時的一些小技巧分享 fred09 感謝 3\n",
      "[教學帖]讓你一夜從菜鳥變高手(09/09/04更新) aa0120u 感謝 298\n",
      "神控天下 作者：我本純洁  (連載中) aoshyang 感謝 61\n",
      "[電子競技] 神級英雄  作者：大煙缸 (連載中) mk2258 感謝 108\n",
      "[網遊]網遊之大盜賊 作者：泛舟填詞 (連載中) MK2LO 感謝 8\n",
      "[未來世界] 隨身異界瀏覽器 作者：念千靈 (連載中) liolee 感謝 5\n",
      "真武世界 作者：蠶繭裡的牛(連載中) appleline 感謝 8\n",
      "[東方玄幻] 逆天邪神 作者：火星引力(連載中) qq1685168 感謝 25\n",
      "［東方玄幻］棋祖　作者：蒼天白鶴（連載中） georgewan 感謝 20\n",
      "從仙俠世界歸來  作者：發狂的妖魔(連載中) 卡嘉塔 感謝 9\n",
      "[重生異界]暗影神座 作者：余雲飛(連載中) MK2LO 感謝 3\n",
      "[時空穿梭]魔法帝國文明錄  作者：大笨淡 (連載中) mk2258 感謝 1\n"
     ]
    }
   ],
   "source": [
    "import requests\n",
    "from bs4 import BeautifulSoup as bs\n",
    "headers = {\n",
    "    'User-Agent':'Mozilla/5.0 (Windows NT 6.1; WOW64) AppleWebKit/537.36 (KHTML, like Gecko) Chrome/46.0.2490.80 Safari/537.3'    \n",
    "}\n",
    "res = requests.get('http://ck101.com/forum-237-1.html', headers = headers) \n",
    "soup = bs(res.text)\n",
    "for li in soup.select('.threadrow'):\n",
    "    print li.select('h2')[0].text, li.select('.ellipsis')[0].text, li.select('.num span')[0].text.strip()"
   ]
  },
  {
   "cell_type": "code",
   "execution_count": 32,
   "metadata": {
    "collapsed": false
   },
   "outputs": [
    {
     "name": "stdout",
     "output_type": "stream",
     "text": [
      "http://www.xiaoshuotxt.com/kehuan/3084/203333.html 1. 疯狂年代中国，1967年。\n",
      "http://www.xiaoshuotxt.com/kehuan/3084/203336.html 4.三十八年后。\n",
      "http://www.xiaoshuotxt.com/kehuan/3084/203339.html 7.三体。\n",
      "http://www.xiaoshuotxt.com/kehuan/3084/203342.html 10. 大史\n",
      "http://www.xiaoshuotxt.com/kehuan/3084/203345.html 13. 红岸之三\n",
      "http://www.xiaoshuotxt.com/kehuan/3084/203348.html 16.三体问题\n",
      "http://www.xiaoshuotxt.com/kehuan/3084/203351.html 19.三体、爱因斯坦、单摆、大撕裂汪淼\n",
      "http://www.xiaoshuotxt.com/kehuan/3084/203354.html 22.红岸之五\n",
      "http://www.xiaoshuotxt.com/kehuan/3084/203357.html 25.雷志成、杨卫宁之死\n",
      "http://www.xiaoshuotxt.com/kehuan/3084/203360.html 28：第二红岸基地\n",
      "http://www.xiaoshuotxt.com/kehuan/3084/203363.html 31.古筝行动\n",
      "http://www.xiaoshuotxt.com/kehuan/3084/203366.html 34.虫子\n",
      "http://www.xiaoshuotxt.com/kehuan/3084/203334.html 2.寂静的春天两年以后，大兴安岭。\n",
      "http://www.xiaoshuotxt.com/kehuan/3084/203337.html 5.台  球\n",
      "http://www.xiaoshuotxt.com/kehuan/3084/203340.html 8.叶文洁\n",
      "http://www.xiaoshuotxt.com/kehuan/3084/203343.html 11.三体。墨子。\n",
      "http://www.xiaoshuotxt.com/kehuan/3084/203346.html 14. 红岸之四\n",
      "http://www.xiaoshuotxt.com/kehuan/3084/203349.html 17.三体、牛顿、冯。诺依曼、秦始皇、三日连珠《三体》\n",
      "http://www.xiaoshuotxt.com/kehuan/3084/203352.html 20 远征\n",
      "http://www.xiaoshuotxt.com/kehuan/3084/203355.html 23.红岸之六\n",
      "http://www.xiaoshuotxt.com/kehuan/3084/203358.html 26.无人忏悔\n",
      "http://www.xiaoshuotxt.com/kehuan/3084/203361.html 29.地球三体运动\n",
      "http://www.xiaoshuotxt.com/kehuan/3084/203364.html 32.监听员\n",
      "http://www.xiaoshuotxt.com/kehuan/3084/203367.html 35.尾声。遗址\n",
      "http://www.xiaoshuotxt.com/kehuan/3084/203335.html 3.红岸之一\n",
      "http://www.xiaoshuotxt.com/kehuan/3084/203338.html 6.射手和农场主\n",
      "http://www.xiaoshuotxt.com/kehuan/3084/203341.html 9.宇宙闪烁\n",
      "http://www.xiaoshuotxt.com/kehuan/3084/203344.html 12. 红岸之二\n",
      "http://www.xiaoshuotxt.com/kehuan/3084/203347.html 15.三体、哥白尼、宇宙橄榄球、三日凌空\n",
      "http://www.xiaoshuotxt.com/kehuan/3084/203350.html 18.聚会《三体》\n",
      "http://www.xiaoshuotxt.com/kehuan/3084/203353.html 21 地球叛军\n",
      "http://www.xiaoshuotxt.com/kehuan/3084/203356.html 24.叛乱\n",
      "http://www.xiaoshuotxt.com/kehuan/3084/203359.html 27 伊文斯回到大学\n",
      "http://www.xiaoshuotxt.com/kehuan/3084/203362.html 30.两个质子\n",
      "http://www.xiaoshuotxt.com/kehuan/3084/203365.html 33.智子\n"
     ]
    }
   ],
   "source": [
    "import requests\n",
    "from bs4 import BeautifulSoup as bs\n",
    "res = requests.get('http://www.xiaoshuotxt.com/kehuan/3084/')\n",
    "\n",
    "#print res.encoding\n",
    "res.encoding = 'utf-8'\n",
    "soup = bs(res.text)\n",
    "domain = 'http://www.xiaoshuotxt.com'\n",
    "zlb = soup.select('.zlb table')[0]\n",
    "for li in zlb.select('li'):\n",
    "    if len(li.select('a')) > 0:\n",
    "        print domain + li.select('a')[0]['href'], li.text"
   ]
  },
  {
   "cell_type": "markdown",
   "metadata": {},
   "source": [
    "### Simple VIM Tutorial\n",
    "- Put a single quote infront of a line: :%s/^/'/g\n",
    "- Surround the colon with single quote: :%s/:/':'/g\n",
    "- Put \"',\" at the rear of the line:   :%s/$/',/g\n",
    "- Delete line match to certain pattern: :g/'',/d "
   ]
  },
  {
   "cell_type": "code",
   "execution_count": 57,
   "metadata": {
    "collapsed": false
   },
   "outputs": [],
   "source": [
    "import requests\n",
    "from bs4 import BeautifulSoup as bs\n",
    "payload = {\n",
    "'method':'search',\n",
    "'searchMethod':'true',\n",
    "'searchTarget':'ATM',\n",
    "'hid_1':'1',\n",
    "'tenderStatus':'4,5,21,29',\n",
    "'awardAnnounceStartDate':'104/11/12',\n",
    "'awardAnnounceEndDate':'104/11/12',\n",
    "'proctrgCate':'3',\n",
    "'radProctrgCate':'3',\n",
    "'hid_2':'1',\n",
    "'hid_3':'1',\n",
    "'btnQuery':'查詢'\n",
    "}\n",
    "rs = requests.session()\n",
    "res = rs.post('http://web.pcc.gov.tw/tps/pss/tender.do?searchMode=common&searchType=advance', data=payload)\n",
    "soup = bs(res.text)\n"
   ]
  },
  {
   "cell_type": "code",
   "execution_count": 58,
   "metadata": {
    "collapsed": false
   },
   "outputs": [
    {
     "name": "stdout",
     "output_type": "stream",
     "text": [
      "3\n"
     ]
    }
   ],
   "source": [
    "import math\n",
    "rec_number = soup.select('.T11b')[0].text\n",
    "page_number = int(math.ceil(float(rec_number) / 100))\n",
    "print page_number"
   ]
  },
  {
   "cell_type": "code",
   "execution_count": 59,
   "metadata": {
    "collapsed": false
   },
   "outputs": [],
   "source": [
    "page_format = 'http://web.pcc.gov.tw/tps/pss/tender.do?searchMode=common&searchType=advance&searchTarget=ATM&method=search&isSpdt=&pageIndex={}'\n",
    "for page in range(1, page_number+1):\n",
    "    bid_list = page_format.format(page)\n",
    "    bid_response = rs.get(bid_list)"
   ]
  },
  {
   "cell_type": "code",
   "execution_count": null,
   "metadata": {
    "collapsed": true
   },
   "outputs": [],
   "source": [
    "http://web.pcc.gov.tw/tps/main/pms/tps/atm/atmAwardAction.do?newEdit=false&searchMode=common&method=inquiryForPublic&pkAtmMain=51658371&tenderCaseNo=AH1041002\n",
    "                       ../main/pms/tps/atm/atmAwardAction.do?newEdit=false&searchMode=common&method=inquiryForPublic&pkAtmMain=51658371&tenderCaseNo=AH1041002"
   ]
  },
  {
   "cell_type": "code",
   "execution_count": 66,
   "metadata": {
    "collapsed": false
   },
   "outputs": [
    {
     "name": "stdout",
     "output_type": "stream",
     "text": [
      "http://web.pcc.gov.tw/tps/main/pms/tps/atm/atmAwardAction.do?newEdit=false&searchMode=common&method=inquiryForPublic&pkAtmMain=51658371&tenderCaseNo=AH1041002\n",
      "http://web.pcc.gov.tw/tps/main/pms/tps/atm/atmAwardAction.do?newEdit=false&searchMode=common&method=inquiryForPublic&pkAtmMain=51669565&tenderCaseNo=1041008B\n",
      "http://web.pcc.gov.tw/tps/main/pms/tps/atm/atmAwardAction.do?newEdit=false&searchMode=common&method=inquiryForPublic&pkAtmMain=51671363&tenderCaseNo=1041012A01\n",
      "http://web.pcc.gov.tw/tps/main/pms/tps/atm/atmAwardAction.do?newEdit=false&searchMode=common&method=inquiryForPublic&pkAtmMain=51686117&tenderCaseNo=104A280\n",
      "http://web.pcc.gov.tw/tps/main/pms/tps/atm/atmAwardAction.do?newEdit=false&searchMode=common&method=inquiryForPublic&pkAtmMain=51686279&tenderCaseNo=HC05004P013\n",
      "http://web.pcc.gov.tw/tps/main/pms/tps/atm/atmAwardAction.do?newEdit=false&searchMode=common&method=inquiryForPublic&pkAtmMain=51686287&tenderCaseNo=CAA104CE06\n",
      "http://web.pcc.gov.tw/tps/main/pms/tps/atm/atmAwardAction.do?newEdit=false&searchMode=common&method=inquiryForPublic&pkAtmMain=51686294&tenderCaseNo=104-d-20-E1020-1\n",
      "http://web.pcc.gov.tw/tps/main/pms/tps/atm/atmAwardAction.do?newEdit=false&searchMode=common&method=inquiryForPublic&pkAtmMain=51686298&tenderCaseNo=104-d-20-E1020-4\n",
      "http://web.pcc.gov.tw/tps/main/pms/tps/atm/atmAwardAction.do?newEdit=false&searchMode=common&method=inquiryForPublic&pkAtmMain=51686299&tenderCaseNo=C105-02EF\n",
      "http://web.pcc.gov.tw/tps/main/pms/tps/atm/atmAwardAction.do?newEdit=false&searchMode=common&method=inquiryForPublic&pkAtmMain=51686304&tenderCaseNo=1041000247\n",
      "http://web.pcc.gov.tw/tps/main/pms/tps/atm/atmAwardAction.do?newEdit=false&searchMode=common&method=inquiryForPublic&pkAtmMain=51686311&tenderCaseNo=L0204P1142Q\n",
      "http://web.pcc.gov.tw/tps/main/pms/tps/atm/atmAwardAction.do?newEdit=false&searchMode=common&method=inquiryForPublic&pkAtmMain=51686313&tenderCaseNo=C105-01EF\n",
      "http://web.pcc.gov.tw/tps/main/pms/tps/atm/atmAwardAction.do?newEdit=false&searchMode=common&method=inquiryForPublic&pkAtmMain=51686316&tenderCaseNo=104-B052-00T\n",
      "http://web.pcc.gov.tw/tps/main/pms/tps/atm/atmAwardAction.do?newEdit=false&searchMode=common&method=inquiryForPublic&pkAtmMain=51686320&tenderCaseNo=A103-047-1\n",
      "http://web.pcc.gov.tw/tps/main/pms/tps/atm/atmAwardAction.do?newEdit=false&searchMode=common&method=inquiryForPublic&pkAtmMain=51686322&tenderCaseNo=104176CE\n",
      "http://web.pcc.gov.tw/tps/main/pms/tps/atm/atmAwardAction.do?newEdit=false&searchMode=common&method=inquiryForPublic&pkAtmMain=51686331&tenderCaseNo=1041000232\n",
      "http://web.pcc.gov.tw/tps/main/pms/tps/atm/atmAwardAction.do?newEdit=false&searchMode=common&method=inquiryForPublic&pkAtmMain=51686337&tenderCaseNo=104116001503\n",
      "http://web.pcc.gov.tw/tps/main/pms/tps/atm/atmAwardAction.do?newEdit=false&searchMode=common&method=inquiryForPublic&pkAtmMain=51686342&tenderCaseNo=104FIN63\n",
      "http://web.pcc.gov.tw/tps/main/pms/tps/atm/atmAwardAction.do?newEdit=false&searchMode=common&method=inquiryForPublic&pkAtmMain=51686344&tenderCaseNo=10415\n",
      "http://web.pcc.gov.tw/tps/main/pms/tps/atm/atmAwardAction.do?newEdit=false&searchMode=common&method=inquiryForPublic&pkAtmMain=51686357&tenderCaseNo=ntsh1040930\n",
      "http://web.pcc.gov.tw/tps/main/pms/tps/atm/atmAwardAction.do?newEdit=false&searchMode=common&method=inquiryForPublic&pkAtmMain=51686370&tenderCaseNo=FC05001P005\n",
      "http://web.pcc.gov.tw/tps/main/pms/tps/atm/atmAwardAction.do?newEdit=false&searchMode=common&method=inquiryForPublic&pkAtmMain=51686382&tenderCaseNo=104C005\n",
      "http://web.pcc.gov.tw/tps/main/pms/tps/atm/atmAwardAction.do?newEdit=false&searchMode=common&method=inquiryForPublic&pkAtmMain=51686384&tenderCaseNo=1040924\n",
      "http://web.pcc.gov.tw/tps/main/pms/tps/atm/atmAwardAction.do?newEdit=false&searchMode=common&method=inquiryForPublic&pkAtmMain=51686394&tenderCaseNo=tc10410\n",
      "http://web.pcc.gov.tw/tps/main/pms/tps/atm/atmAwardAction.do?newEdit=false&searchMode=common&method=inquiryForPublic&pkAtmMain=51686398&tenderCaseNo=104102901\n",
      "http://web.pcc.gov.tw/tps/main/pms/tps/atm/atmAwardAction.do?newEdit=false&searchMode=common&method=inquiryForPublic&pkAtmMain=51686412&tenderCaseNo=M01-0914-C\n",
      "http://web.pcc.gov.tw/tps/main/pms/tps/atm/atmAwardAction.do?newEdit=false&searchMode=common&method=inquiryForPublic&pkAtmMain=51686423&tenderCaseNo=0610400010\n",
      "http://web.pcc.gov.tw/tps/main/pms/tps/atm/atmAwardAction.do?newEdit=false&searchMode=common&method=inquiryForPublic&pkAtmMain=51686428&tenderCaseNo=104-10\n",
      "http://web.pcc.gov.tw/tps/main/pms/tps/atm/atmAwardAction.do?newEdit=false&searchMode=common&method=inquiryForPublic&pkAtmMain=51686430&tenderCaseNo=tces10411\n",
      "http://web.pcc.gov.tw/tps/main/pms/tps/atm/atmAwardAction.do?newEdit=false&searchMode=common&method=inquiryForPublic&pkAtmMain=51686433&tenderCaseNo=DCB0361001-1\n",
      "http://web.pcc.gov.tw/tps/main/pms/tps/atm/atmAwardAction.do?newEdit=false&searchMode=common&method=inquiryForPublic&pkAtmMain=51686438&tenderCaseNo=1040901\n",
      "http://web.pcc.gov.tw/tps/main/pms/tps/atm/atmAwardAction.do?newEdit=false&searchMode=common&method=inquiryForPublic&pkAtmMain=51686451&tenderCaseNo=104-0130-2-004\n",
      "http://web.pcc.gov.tw/tps/main/pms/tps/atm/atmAwardAction.do?newEdit=false&searchMode=common&method=inquiryForPublic&pkAtmMain=51686456&tenderCaseNo=104-45\n",
      "http://web.pcc.gov.tw/tps/main/pms/tps/atm/atmAwardAction.do?newEdit=false&searchMode=common&method=inquiryForPublic&pkAtmMain=51686472&tenderCaseNo=LHF0470003\n",
      "http://web.pcc.gov.tw/tps/main/pms/tps/atm/atmAwardAction.do?newEdit=false&searchMode=common&method=inquiryForPublic&pkAtmMain=51686476&tenderCaseNo=103B082-1-1\n",
      "http://web.pcc.gov.tw/tps/main/pms/tps/atm/atmAwardAction.do?newEdit=false&searchMode=common&method=inquiryForPublic&pkAtmMain=51686487&tenderCaseNo=105-0441-1-002\n",
      "http://web.pcc.gov.tw/tps/main/pms/tps/atm/atmAwardAction.do?newEdit=false&searchMode=common&method=inquiryForPublic&pkAtmMain=51686493&tenderCaseNo=104-094\n",
      "http://web.pcc.gov.tw/tps/main/pms/tps/atm/atmAwardAction.do?newEdit=false&searchMode=common&method=inquiryForPublic&pkAtmMain=51686497&tenderCaseNo=104QE307C1\n",
      "http://web.pcc.gov.tw/tps/main/pms/tps/atm/atmAwardAction.do?newEdit=false&searchMode=common&method=inquiryForPublic&pkAtmMain=51686517&tenderCaseNo=104B-016\n",
      "http://web.pcc.gov.tw/tps/main/pms/tps/atm/atmAwardAction.do?newEdit=false&searchMode=common&method=inquiryForPublic&pkAtmMain=51686518&tenderCaseNo=1041020-01\n",
      "http://web.pcc.gov.tw/tps/main/pms/tps/atm/atmAwardAction.do?newEdit=false&searchMode=common&method=inquiryForPublic&pkAtmMain=51686526&tenderCaseNo=MPB1041021C027\n",
      "http://web.pcc.gov.tw/tps/main/pms/tps/atm/atmAwardAction.do?newEdit=false&searchMode=common&method=inquiryForPublic&pkAtmMain=51686532&tenderCaseNo=ENSO104051\n",
      "http://web.pcc.gov.tw/tps/main/pms/tps/atm/atmAwardAction.do?newEdit=false&searchMode=common&method=inquiryForPublic&pkAtmMain=51686542&tenderCaseNo=1090400020\n",
      "http://web.pcc.gov.tw/tps/main/pms/tps/atm/atmAwardAction.do?newEdit=false&searchMode=common&method=inquiryForPublic&pkAtmMain=51686495&tenderCaseNo=1040905\n",
      "http://web.pcc.gov.tw/tps/main/pms/tps/atm/atmAwardAction.do?newEdit=false&searchMode=common&method=inquiryForPublic&pkAtmMain=51686537&tenderCaseNo=SV-10413\n",
      "http://web.pcc.gov.tw/tps/main/pms/tps/atm/atmAwardAction.do?newEdit=false&searchMode=common&method=inquiryForPublic&pkAtmMain=51686551&tenderCaseNo=101B040-3-105\n",
      "http://web.pcc.gov.tw/tps/main/pms/tps/atm/atmAwardAction.do?newEdit=false&searchMode=common&method=inquiryForPublic&pkAtmMain=51686591&tenderCaseNo=104006\n",
      "http://web.pcc.gov.tw/tps/main/pms/tps/atm/atmAwardAction.do?newEdit=false&searchMode=common&method=inquiryForPublic&pkAtmMain=51686601&tenderCaseNo=ENG-1040054\n",
      "http://web.pcc.gov.tw/tps/main/pms/tps/atm/atmAwardAction.do?newEdit=false&searchMode=common&method=inquiryForPublic&pkAtmMain=51686603&tenderCaseNo=1041028C\n",
      "http://web.pcc.gov.tw/tps/main/pms/tps/atm/atmAwardAction.do?newEdit=false&searchMode=common&method=inquiryForPublic&pkAtmMain=51686608&tenderCaseNo=1034F177-1\n",
      "http://web.pcc.gov.tw/tps/main/pms/tps/atm/atmAwardAction.do?newEdit=false&searchMode=common&method=inquiryForPublic&pkAtmMain=51686610&tenderCaseNo=104930\n",
      "http://web.pcc.gov.tw/tps/main/pms/tps/atm/atmAwardAction.do?newEdit=false&searchMode=common&method=inquiryForPublic&pkAtmMain=51686619&tenderCaseNo=1041012\n",
      "http://web.pcc.gov.tw/tps/main/pms/tps/atm/atmAwardAction.do?newEdit=false&searchMode=common&method=inquiryForPublic&pkAtmMain=51686621&tenderCaseNo=10417\n",
      "http://web.pcc.gov.tw/tps/main/pms/tps/atm/atmAwardAction.do?newEdit=false&searchMode=common&method=inquiryForPublic&pkAtmMain=51686622&tenderCaseNo=0605L1041021\n",
      "http://web.pcc.gov.tw/tps/main/pms/tps/atm/atmAwardAction.do?newEdit=false&searchMode=common&method=inquiryForPublic&pkAtmMain=51686632&tenderCaseNo=C1041001-01\n",
      "http://web.pcc.gov.tw/tps/main/pms/tps/atm/atmAwardAction.do?newEdit=false&searchMode=common&method=inquiryForPublic&pkAtmMain=51686645&tenderCaseNo=102B054-2-105\n",
      "http://web.pcc.gov.tw/tps/main/pms/tps/atm/atmAwardAction.do?newEdit=false&searchMode=common&method=inquiryForPublic&pkAtmMain=51686654&tenderCaseNo=104-S001\n",
      "http://web.pcc.gov.tw/tps/main/pms/tps/atm/atmAwardAction.do?newEdit=false&searchMode=common&method=inquiryForPublic&pkAtmMain=51686668&tenderCaseNo=tms105005\n",
      "http://web.pcc.gov.tw/tps/main/pms/tps/atm/atmAwardAction.do?newEdit=false&searchMode=common&method=inquiryForPublic&pkAtmMain=51686670&tenderCaseNo=hles104110601\n",
      "http://web.pcc.gov.tw/tps/main/pms/tps/atm/atmAwardAction.do?newEdit=false&searchMode=common&method=inquiryForPublic&pkAtmMain=51686677&tenderCaseNo=GM05037P006\n",
      "http://web.pcc.gov.tw/tps/main/pms/tps/atm/atmAwardAction.do?newEdit=false&searchMode=common&method=inquiryForPublic&pkAtmMain=51686685&tenderCaseNo=D104-0528-172\n",
      "http://web.pcc.gov.tw/tps/main/pms/tps/atm/atmAwardAction.do?newEdit=false&searchMode=common&method=inquiryForPublic&pkAtmMain=51686687&tenderCaseNo=104C006\n",
      "http://web.pcc.gov.tw/tps/main/pms/tps/atm/atmAwardAction.do?newEdit=false&searchMode=common&method=inquiryForPublic&pkAtmMain=51686697&tenderCaseNo=104Y0916\n",
      "http://web.pcc.gov.tw/tps/main/pms/tps/atm/atmAwardAction.do?newEdit=false&searchMode=common&method=inquiryForPublic&pkAtmMain=51686700&tenderCaseNo=104A08\n",
      "http://web.pcc.gov.tw/tps/main/pms/tps/atm/atmAwardAction.do?newEdit=false&searchMode=common&method=inquiryForPublic&pkAtmMain=51686706&tenderCaseNo=RDL0416017\n",
      "http://web.pcc.gov.tw/tps/main/pms/tps/atm/atmAwardAction.do?newEdit=false&searchMode=common&method=inquiryForPublic&pkAtmMain=51686714&tenderCaseNo=HI05014P029\n",
      "http://web.pcc.gov.tw/tps/main/pms/tps/atm/atmAwardAction.do?newEdit=false&searchMode=common&method=inquiryForPublic&pkAtmMain=51686715&tenderCaseNo=DGC0342002\n",
      "http://web.pcc.gov.tw/tps/main/pms/tps/atm/atmAwardAction.do?newEdit=false&searchMode=common&method=inquiryForPublic&pkAtmMain=51686720&tenderCaseNo=10410\n",
      "http://web.pcc.gov.tw/tps/main/pms/tps/atm/atmAwardAction.do?newEdit=false&searchMode=common&method=inquiryForPublic&pkAtmMain=51686725&tenderCaseNo=GM05028P002\n",
      "http://web.pcc.gov.tw/tps/main/pms/tps/atm/atmAwardAction.do?newEdit=false&searchMode=common&method=inquiryForPublic&pkAtmMain=51686737&tenderCaseNo=3410400310-S04122\n",
      "http://web.pcc.gov.tw/tps/main/pms/tps/atm/atmAwardAction.do?newEdit=false&searchMode=common&method=inquiryForPublic&pkAtmMain=51686739&tenderCaseNo=10410002\n",
      "http://web.pcc.gov.tw/tps/main/pms/tps/atm/atmAwardAction.do?newEdit=false&searchMode=common&method=inquiryForPublic&pkAtmMain=51686744&tenderCaseNo=1041022Q01-10\n",
      "http://web.pcc.gov.tw/tps/main/pms/tps/atm/atmAwardAction.do?newEdit=false&searchMode=common&method=inquiryForPublic&pkAtmMain=51686746&tenderCaseNo=1041005-01\n",
      "http://web.pcc.gov.tw/tps/main/pms/tps/atm/atmAwardAction.do?newEdit=false&searchMode=common&method=inquiryForPublic&pkAtmMain=51686751&tenderCaseNo=104-61\n",
      "http://web.pcc.gov.tw/tps/main/pms/tps/atm/atmAwardAction.do?newEdit=false&searchMode=common&method=inquiryForPublic&pkAtmMain=51686768&tenderCaseNo=104-025\n",
      "http://web.pcc.gov.tw/tps/main/pms/tps/atm/atmAwardAction.do?newEdit=false&searchMode=common&method=inquiryForPublic&pkAtmMain=51686789&tenderCaseNo=101B042-3-105\n",
      "http://web.pcc.gov.tw/tps/main/pms/tps/atm/atmAwardAction.do?newEdit=false&searchMode=common&method=inquiryForPublic&pkAtmMain=51686793&tenderCaseNo=10468D003468\n",
      "http://web.pcc.gov.tw/tps/main/pms/tps/atm/atmAwardAction.do?newEdit=false&searchMode=common&method=inquiryForPublic&pkAtmMain=51686795&tenderCaseNo=3510400302\n",
      "http://web.pcc.gov.tw/tps/main/pms/tps/atm/atmAwardAction.do?newEdit=false&searchMode=common&method=inquiryForPublic&pkAtmMain=51686813&tenderCaseNo=89B010-2\n",
      "http://web.pcc.gov.tw/tps/main/pms/tps/atm/atmAwardAction.do?newEdit=false&searchMode=common&method=inquiryForPublic&pkAtmMain=51686821&tenderCaseNo=1684\n",
      "http://web.pcc.gov.tw/tps/main/pms/tps/atm/atmAwardAction.do?newEdit=false&searchMode=common&method=inquiryForPublic&pkAtmMain=51686822&tenderCaseNo=104224\n",
      "http://web.pcc.gov.tw/tps/main/pms/tps/atm/atmAwardAction.do?newEdit=false&searchMode=common&method=inquiryForPublic&pkAtmMain=51686835&tenderCaseNo=0240400014\n",
      "http://web.pcc.gov.tw/tps/main/pms/tps/atm/atmAwardAction.do?newEdit=false&searchMode=common&method=inquiryForPublic&pkAtmMain=51686865&tenderCaseNo=D145\n",
      "http://web.pcc.gov.tw/tps/main/pms/tps/atm/atmAwardAction.do?newEdit=false&searchMode=common&method=inquiryForPublic&pkAtmMain=51686882&tenderCaseNo=3600400091\n",
      "http://web.pcc.gov.tw/tps/main/pms/tps/atm/atmAwardAction.do?newEdit=false&searchMode=common&method=inquiryForPublic&pkAtmMain=51686885&tenderCaseNo=D150\n",
      "http://web.pcc.gov.tw/tps/main/pms/tps/atm/atmAwardAction.do?newEdit=false&searchMode=common&method=inquiryForPublic&pkAtmMain=51686889&tenderCaseNo=1041070148B\n",
      "http://web.pcc.gov.tw/tps/main/pms/tps/atm/atmAwardAction.do?newEdit=false&searchMode=common&method=inquiryForPublic&pkAtmMain=51686907&tenderCaseNo=1045015\n",
      "http://web.pcc.gov.tw/tps/main/pms/tps/atm/atmAwardAction.do?newEdit=false&searchMode=common&method=inquiryForPublic&pkAtmMain=51686909&tenderCaseNo=10410pc001\n",
      "http://web.pcc.gov.tw/tps/main/pms/tps/atm/atmAwardAction.do?newEdit=false&searchMode=common&method=inquiryForPublic&pkAtmMain=51686911&tenderCaseNo=3710400485\n",
      "http://web.pcc.gov.tw/tps/main/pms/tps/atm/atmAwardAction.do?newEdit=false&searchMode=common&method=inquiryForPublic&pkAtmMain=51686921&tenderCaseNo=3500400239\n",
      "http://web.pcc.gov.tw/tps/main/pms/tps/atm/atmAwardAction.do?newEdit=false&searchMode=common&method=inquiryForPublic&pkAtmMain=51686923&tenderCaseNo=1040020173B\n",
      "http://web.pcc.gov.tw/tps/main/pms/tps/atm/atmAwardAction.do?newEdit=false&searchMode=common&method=inquiryForPublic&pkAtmMain=51686933&tenderCaseNo=1040600D00016\n",
      "http://web.pcc.gov.tw/tps/main/pms/tps/atm/atmAwardAction.do?newEdit=false&searchMode=common&method=inquiryForPublic&pkAtmMain=51686937&tenderCaseNo=1041016\n",
      "http://web.pcc.gov.tw/tps/main/pms/tps/atm/atmAwardAction.do?newEdit=false&searchMode=common&method=inquiryForPublic&pkAtmMain=51686938&tenderCaseNo=104700330410\n",
      "http://web.pcc.gov.tw/tps/main/pms/tps/atm/atmAwardAction.do?newEdit=false&searchMode=common&method=inquiryForPublic&pkAtmMain=51686942&tenderCaseNo=105003\n",
      "http://web.pcc.gov.tw/tps/main/pms/tps/atm/atmAwardAction.do?newEdit=false&searchMode=common&method=inquiryForPublic&pkAtmMain=51686944&tenderCaseNo=A1040574ENG025\n",
      "http://web.pcc.gov.tw/tps/main/pms/tps/atm/atmAwardAction.do?newEdit=false&searchMode=common&method=inquiryForPublic&pkAtmMain=51686945&tenderCaseNo=3700400064\n",
      "http://web.pcc.gov.tw/tps/main/pms/tps/atm/atmAwardAction.do?newEdit=false&searchMode=common&method=inquiryForPublic&pkAtmMain=51686949&tenderCaseNo=M04C5386\n",
      "http://web.pcc.gov.tw/tps/main/pms/tps/atm/atmAwardAction.do?newEdit=false&searchMode=common&method=inquiryForPublic&pkAtmMain=51686950&tenderCaseNo=S104IZ023\n",
      "http://web.pcc.gov.tw/tps/main/pms/tps/atm/atmAwardAction.do?newEdit=false&searchMode=common&method=inquiryForPublic&pkAtmMain=51686952&tenderCaseNo=104C037-K-Z02\n"
     ]
    }
   ],
   "source": [
    "bid_list = page_format.format(1)\n",
    "#print bid_list\n",
    "\n",
    "# get print area\n",
    "bid_response = rs.get(bid_list)\n",
    "bid_soup = bs(bid_response.text)\n",
    "domain = 'http://web.pcc.gov.tw/tps'\n",
    "bid_table =  bid_soup.select('#print_area')[0]\n",
    "for bid_rows in bid_table.select('tr')[1:-1]:\n",
    "    print domain + bid_rows.select('a')[0]['href'][2:]"
   ]
  },
  {
   "cell_type": "code",
   "execution_count": 68,
   "metadata": {
    "collapsed": false
   },
   "outputs": [],
   "source": [
    "# get print area\n",
    "bid_file = open(\"bid_list.txt\", 'w')\n",
    "\n",
    "\n",
    "for page in range(1, page_number+1):\n",
    "    bid_list = page_format.format(page)\n",
    "    bid_response = rs.get(bid_list)\n",
    "    bid_soup = bs(bid_response.text)\n",
    "    domain = 'http://web.pcc.gov.tw/tps'\n",
    "    bid_table =  bid_soup.select('#print_area')[0]\n",
    "    for bid_rows in bid_table.select('tr')[1:-1]:\n",
    "        link_href =  domain + bid_rows.select('a')[0]['href'][2:]\n",
    "        bid_file.write(link_href + \"\\n\")\n",
    "\n",
    "bid_file.close()"
   ]
  },
  {
   "cell_type": "code",
   "execution_count": 54,
   "metadata": {
    "collapsed": false
   },
   "outputs": [
    {
     "name": "stdout",
     "output_type": "stream",
     "text": [
      "[2, 3, 4, 5]\n",
      "[2, 3, 4, 5]\n"
     ]
    }
   ],
   "source": [
    "a = [1,2,3,4,5,6]\n",
    "print a[1:5]\n",
    "print a[1:-1]"
   ]
  },
  {
   "cell_type": "code",
   "execution_count": 69,
   "metadata": {
    "collapsed": false
   },
   "outputs": [
    {
     "name": "stdout",
     "output_type": "stream",
     "text": [
      " 磁碟區 C 中的磁碟沒有標籤。\n",
      " 磁碟區序號:  5EE0-34BC\n",
      "\n",
      " C:\\Users\\BigData\\pythonetl 的目錄\n",
      "\n",
      "2015/11/12  上午 10:53    <DIR>          .\n",
      "2015/11/12  上午 10:53    <DIR>          ..\n",
      "2015/11/12  上午 09:03    <DIR>          .ipynb_checkpoints\n",
      "2015/11/04  上午 11:04           157,847 201506 ETL 課程預先安裝說明_v3.docx\n",
      "2015/11/04  上午 11:04           168,605 201506 ETL 課程預先安裝說明_v3.pdf\n",
      "2015/11/04  下午 04:25           290,699 20151104Demo.ipynb\n",
      "2015/11/10  下午 04:42           773,236 20151110Demo.ipynb\n",
      "2015/11/12  上午 10:53            66,589 20151112Demo.ipynb\n",
      "2015/11/04  上午 11:04            26,870 bid_detail.txt\n",
      "2015/11/12  上午 10:54            36,562 bid_list.txt\n",
      "2015/11/04  上午 11:04    <DIR>          gov\n",
      "2015/11/10  上午 11:13             4,962 ma.txt\n",
      "2015/11/04  上午 11:04            47,175 Python_Basic.ipynb\n",
      "2015/11/04  上午 11:04            38,273 Python_ETL_1.ipynb\n",
      "2015/11/04  上午 11:04            67,224 Python_ETL_2.ipynb\n",
      "2015/11/04  上午 11:04            55,367 Python_Introduction.ipynb\n",
      "2015/11/04  上午 11:04               577 README.md\n",
      "2015/11/04  上午 11:04    <DIR>          src\n",
      "2015/11/10  下午 04:41             1,226 test.txt\n",
      "2015/11/10  上午 11:03                 3 test2.txt\n",
      "2015/11/04  上午 11:04           545,174 Untitled0.ipynb\n",
      "              16 個檔案       2,280,389 位元組\n",
      "               5 個目錄  109,463,044,096 位元組可用\n"
     ]
    }
   ],
   "source": [
    "%ls"
   ]
  },
  {
   "cell_type": "code",
   "execution_count": 70,
   "metadata": {
    "collapsed": false
   },
   "outputs": [
    {
     "name": "stdout",
     "output_type": "stream",
     "text": [
      "228\n"
     ]
    }
   ],
   "source": [
    "print len([line for line in open('bid_list.txt')])"
   ]
  }
 ],
 "metadata": {
  "kernelspec": {
   "display_name": "Python 2",
   "language": "python",
   "name": "python2"
  },
  "language_info": {
   "codemirror_mode": {
    "name": "ipython",
    "version": 2
   },
   "file_extension": ".py",
   "mimetype": "text/x-python",
   "name": "python",
   "nbconvert_exporter": "python",
   "pygments_lexer": "ipython2",
   "version": "2.7.10"
  }
 },
 "nbformat": 4,
 "nbformat_minor": 0
}
