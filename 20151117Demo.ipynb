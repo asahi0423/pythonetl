{
 "cells": [
  {
   "cell_type": "code",
   "execution_count": 1,
   "metadata": {
    "collapsed": false
   },
   "outputs": [
    {
     "name": "stdout",
     "output_type": "stream",
     "text": [
      "match\n"
     ]
    }
   ],
   "source": [
    "a = 'hello'\n",
    "if a == 'hello':\n",
    "    print \"match\""
   ]
  },
  {
   "cell_type": "code",
   "execution_count": 4,
   "metadata": {
    "collapsed": false
   },
   "outputs": [
    {
     "name": "stdout",
     "output_type": "stream",
     "text": [
      "台北市大安區安和路二段23巷11號一樓\n",
      "大安區青田街一號 台北市\n"
     ]
    }
   ],
   "source": [
    "add1 = '台北市大安區安和路二段23巷11號一樓'\n",
    "add2 = '大安區青田街一號 台北市'\n",
    "add3 = '中壢資策會'\n",
    "\n",
    "addrary = [add1,add2,add3]\n",
    "for addr in addrary:\n",
    "    if '台北市' in addr:\n",
    "        print addr"
   ]
  },
  {
   "cell_type": "code",
   "execution_count": 5,
   "metadata": {
    "collapsed": false
   },
   "outputs": [
    {
     "name": "stdout",
     "output_type": "stream",
     "text": [
      "台北市大安區安和路二段23巷11號一樓\n",
      "大安區青田街一號 臺北市\n"
     ]
    }
   ],
   "source": [
    "add1 = '台北市大安區安和路二段23巷11號一樓'\n",
    "add2 = '大安區青田街一號 臺北市'\n",
    "add3 = '中壢資策會'\n",
    "\n",
    "addrary = [add1,add2,add3]\n",
    "for addr in addrary:\n",
    "    if ('台北市' in addr) or ('臺北市' in addr):\n",
    "        print addr"
   ]
  },
  {
   "cell_type": "code",
   "execution_count": 10,
   "metadata": {
    "collapsed": false
   },
   "outputs": [
    {
     "name": "stdout",
     "output_type": "stream",
     "text": [
      "台北市大安區安和路二段23巷11號一樓\n",
      "大安區青田街一號 臺北市\n"
     ]
    }
   ],
   "source": [
    "import re\n",
    "add1 = '台北市大安區安和路二段23巷11號一樓'\n",
    "add2 = '大安區青田街一號 臺北市'\n",
    "add3 = '中壢資策會'\n",
    "\n",
    "addrary = [add1,add2,add3]\n",
    "for addr in addrary:\n",
    "    m= re.search('[台|臺]北市', addr)\n",
    "    if m:\n",
    "        print addr"
   ]
  },
  {
   "cell_type": "code",
   "execution_count": 11,
   "metadata": {
    "collapsed": true
   },
   "outputs": [],
   "source": [
    "email1 = 'david@largitdata.com'\n",
    "email2 = 'qoo!qoo.oop'\n",
    "email3 = 'david@YAHOO.com'\n",
    "\n",
    "phone1 = '0912345678'\n",
    "phone2 = '0200000999990'\n",
    "phone3 = '02 123 2222'"
   ]
  },
  {
   "cell_type": "markdown",
   "metadata": {},
   "source": [
    "### Matching Alphabet"
   ]
  },
  {
   "cell_type": "code",
   "execution_count": 15,
   "metadata": {
    "collapsed": false
   },
   "outputs": [
    {
     "name": "stdout",
     "output_type": "stream",
     "text": [
      "<_sre.SRE_Match object at 0x02D39870>\n",
      "None\n",
      "<_sre.SRE_Match object at 0x02D39870> <_sre.SRE_Match object at 0x02D39BF0>\n"
     ]
    }
   ],
   "source": [
    "str1 = 'a'\n",
    "m = re.match('[a]',str1)\n",
    "print m\n",
    "\n",
    "str2 = 'b'\n",
    "m = re.match('[a]',str2)\n",
    "print m\n",
    "\n",
    "m1 = re.match('[ab]',str1)\n",
    "m2 = re.match('[ab]',str2)\n",
    "print m1, m2"
   ]
  },
  {
   "cell_type": "code",
   "execution_count": 17,
   "metadata": {
    "collapsed": false
   },
   "outputs": [
    {
     "name": "stdout",
     "output_type": "stream",
     "text": [
      "<_sre.SRE_Match object at 0x02D399C0>\n",
      "None\n",
      "<_sre.SRE_Match object at 0x02D39C60>\n"
     ]
    }
   ],
   "source": [
    "str3 = 'f'\n",
    "m3 = re.match('[abcdefghijklmnopqrstuvwxyz]',str3)\n",
    "print m3\n",
    "\n",
    "\n",
    "str3 = 'f'\n",
    "m4 = re.match('[az]',str3)\n",
    "print m4\n",
    "m5 = re.match('[a-z]',str3)\n",
    "print m5"
   ]
  },
  {
   "cell_type": "code",
   "execution_count": 24,
   "metadata": {
    "collapsed": false
   },
   "outputs": [
    {
     "name": "stdout",
     "output_type": "stream",
     "text": [
      "None\n",
      "<_sre.SRE_Match object at 0x02D39FA8>\n",
      "<_sre.SRE_Match object at 0x02D39DB0>\n"
     ]
    }
   ],
   "source": [
    "str4 = 'G'\n",
    "m6 = re.match('[a-z]',str4)\n",
    "print m6\n",
    "\n",
    "m7 = re.match('[a-zA-Z]',str4)\n",
    "print m7\n",
    "\n",
    "m8 = re.match('\\w',str4)\n",
    "print m8"
   ]
  },
  {
   "cell_type": "code",
   "execution_count": 29,
   "metadata": {
    "collapsed": false
   },
   "outputs": [
    {
     "name": "stdout",
     "output_type": "stream",
     "text": [
      "None\n",
      "<_sre.SRE_Match object at 0x02D39E20>\n"
     ]
    }
   ],
   "source": [
    "str5 = '*'\n",
    "m9 = re.match('\\w',str5) # include alphabet and digit [a-zA-Z0-9]\n",
    "print m9\n",
    "\n",
    "m10 = re.match('[a-zA-Z*!@#$%^]',str5)\n",
    "print m10\n"
   ]
  },
  {
   "cell_type": "markdown",
   "metadata": {},
   "source": [
    "### Matching Digit"
   ]
  },
  {
   "cell_type": "code",
   "execution_count": 32,
   "metadata": {
    "collapsed": false
   },
   "outputs": [
    {
     "name": "stdout",
     "output_type": "stream",
     "text": [
      "None\n",
      "<_sre.SRE_Match object at 0x02D4F1A8>\n",
      "<_sre.SRE_Match object at 0x02D39B80>\n",
      "<_sre.SRE_Match object at 0x02D39F38>\n",
      "<_sre.SRE_Match object at 0x02D4F5D0>\n"
     ]
    }
   ],
   "source": [
    "str6 = '3'\n",
    "m11 = re.match('[a-zA-Z*!@#$%^]',str6)\n",
    "print m11\n",
    "\n",
    "m12 = re.match('[3]',str6)\n",
    "print m12\n",
    "\n",
    "\n",
    "m13 = re.match('[0-9]',str6)\n",
    "print m13\n",
    "\n",
    "m14 = re.match('\\d',str6) #[0-9]\n",
    "print m14"
   ]
  },
  {
   "cell_type": "markdown",
   "metadata": {},
   "source": [
    "### Matching anything"
   ]
  },
  {
   "cell_type": "code",
   "execution_count": null,
   "metadata": {
    "collapsed": true
   },
   "outputs": [],
   "source": [
    "m11 = re.match('.',str5)\n",
    "print m11"
   ]
  },
  {
   "cell_type": "code",
   "execution_count": 41,
   "metadata": {
    "collapsed": false
   },
   "outputs": [
    {
     "name": "stdout",
     "output_type": "stream",
     "text": [
      "None\n",
      "<_sre.SRE_Match object at 0x02D4F790>\n",
      "None\n",
      "<_sre.SRE_Match object at 0x02D4F678>\n",
      "None\n",
      "<_sre.SRE_Match object at 0x02D4F720>\n"
     ]
    }
   ],
   "source": [
    "str7 = 'car'\n",
    "str8 = 'cats'\n",
    "str9 = '0912384512'\n",
    "str10 = 'cardinal'\n",
    "\n",
    "m15 = re.match('[a-z]{4,5}',str7) # match string at least 4 characters long, at most 5 characters long.\n",
    "print m15\n",
    "m16 = re.match('[a-z]{4,5}',str8)\n",
    "print m16\n",
    "m17 = re.match('[a-z]{4,5}',str9)\n",
    "print m17\n",
    "m18 = re.match('[a-z]{4,5}',str10)\n",
    "print m18\n",
    "\n",
    "\n",
    "m19 = re.match('[a-z]{4,}',str7)\n",
    "print m19\n",
    "\n",
    "m20 = re.match('[a-z]{4,}',str8)\n",
    "print m20\n"
   ]
  },
  {
   "cell_type": "markdown",
   "metadata": {},
   "source": [
    "### Matching at least zero character"
   ]
  },
  {
   "cell_type": "code",
   "execution_count": 44,
   "metadata": {
    "collapsed": false
   },
   "outputs": [
    {
     "name": "stdout",
     "output_type": "stream",
     "text": [
      "<_sre.SRE_Match object at 0x02D4F9C0>\n",
      "<_sre.SRE_Match object at 0x02D4F950>\n",
      "<_sre.SRE_Match object at 0x02D4F918>\n"
     ]
    }
   ],
   "source": [
    "m21 = re.match('[a-z]{0,}',str7)\n",
    "print m21\n",
    "\n",
    "m22 = re.match('[a-z]*',str7) #{0,}\n",
    "print m22\n",
    "\n",
    "str11 = ''\n",
    "m23 = re.match('[a-z]*',str11) #{0,}\n",
    "print m23\n",
    "\n",
    "#m20 = re.match('[a-z]{4,}',str8)\n",
    "#print m20"
   ]
  },
  {
   "cell_type": "markdown",
   "metadata": {},
   "source": [
    "### Matching at least one character"
   ]
  },
  {
   "cell_type": "code",
   "execution_count": 47,
   "metadata": {
    "collapsed": false
   },
   "outputs": [
    {
     "name": "stdout",
     "output_type": "stream",
     "text": [
      "<_sre.SRE_Match object at 0x02D4FB10>\n",
      "<_sre.SRE_Match object at 0x02D4FAA0>\n",
      "None\n"
     ]
    }
   ],
   "source": [
    "m24 = re.match('[a-z]{1,}',str7)\n",
    "print m24\n",
    "\n",
    "m25 = re.match('[a-z]+',str7) # + => {1,}\n",
    "print m25\n",
    "\n",
    "str11 = ''\n",
    "m26 = re.match('[a-z]+',str11) \n",
    "print m26"
   ]
  },
  {
   "cell_type": "markdown",
   "metadata": {},
   "source": [
    "### Starts with"
   ]
  },
  {
   "cell_type": "code",
   "execution_count": 50,
   "metadata": {
    "collapsed": false
   },
   "outputs": [
    {
     "name": "stdout",
     "output_type": "stream",
     "text": [
      "<_sre.SRE_Match object at 0x02D4FB80>\n",
      "<_sre.SRE_Match object at 0x02D4FA68>\n",
      "None\n"
     ]
    }
   ],
   "source": [
    "str12 = 'car'\n",
    "str13 = 'cats'\n",
    "str14 = 'dogs'\n",
    "\n",
    "m27 = re.match('^c[a-z]+',str12) # ^ starts with\n",
    "print m27\n",
    "\n",
    "m28 = re.match('^c[a-z]+',str13) # ^ starts with\n",
    "print m28\n",
    "\n",
    "m29 = re.match('^c[a-z]+',str14) # ^ starts with\n",
    "print m29"
   ]
  },
  {
   "cell_type": "markdown",
   "metadata": {},
   "source": [
    "### Ends with"
   ]
  },
  {
   "cell_type": "code",
   "execution_count": 51,
   "metadata": {
    "collapsed": false
   },
   "outputs": [
    {
     "name": "stdout",
     "output_type": "stream",
     "text": [
      "None\n",
      "<_sre.SRE_Match object at 0x02D4FC60>\n",
      "None\n"
     ]
    }
   ],
   "source": [
    "m30 = re.match('^c[a-z]+s$',str12) # $ ends with\n",
    "print m30\n",
    "\n",
    "m31 = re.match('^c[a-z]+s$',str13) # $ ends with\n",
    "print m31\n",
    "\n",
    "m32 = re.match('^c[a-z]+s$',str14) # $ ends with\n",
    "print m32"
   ]
  },
  {
   "cell_type": "markdown",
   "metadata": {},
   "source": [
    "### Matching Cell Phone"
   ]
  },
  {
   "cell_type": "code",
   "execution_count": 53,
   "metadata": {
    "collapsed": false
   },
   "outputs": [
    {
     "name": "stdout",
     "output_type": "stream",
     "text": [
      "<_sre.SRE_Match object at 0x02D4FC98>\n",
      "None\n"
     ]
    }
   ],
   "source": [
    "phone1 = '0912345678'\n",
    "phone2 = '0212309109283092231'\n",
    "\n",
    "m = re.match('^09\\d{8}', phone1)\n",
    "print m\n",
    "\n",
    "m = re.match('^09\\d{8}', phone2)\n",
    "print m\n"
   ]
  },
  {
   "cell_type": "code",
   "execution_count": 57,
   "metadata": {
    "collapsed": false
   },
   "outputs": [
    {
     "name": "stdout",
     "output_type": "stream",
     "text": [
      "None\n",
      "<_sre.SRE_Match object at 0x02D4FD08>\n",
      "<_sre.SRE_Match object at 0x02D4FDE8>\n"
     ]
    }
   ],
   "source": [
    "txt = 'Hi, my name is qoo, i loves oop. My phone number is 0912345678, and my qq number is 1029319283011, also you can find me at 106 Anha district'\n",
    "\n",
    "m = re.match('09\\d{8}', txt)\n",
    "print m\n",
    "\n",
    "m = re.match('.*09\\d{8}.*', txt) # should put all matching pattern\n",
    "print m\n",
    "\n",
    "m = re.search('09\\d{8}', txt) # can put pattern that only match\n",
    "print m"
   ]
  },
  {
   "cell_type": "markdown",
   "metadata": {},
   "source": [
    "### group"
   ]
  },
  {
   "cell_type": "code",
   "execution_count": 64,
   "metadata": {
    "collapsed": false
   },
   "outputs": [
    {
     "name": "stdout",
     "output_type": "stream",
     "text": [
      "0912345678\n",
      "Hi, my name is qoo, i loves oop. My phone number is 0912345678, and my qq number is 1029319283011, also you can find me at 106 Anha district\n",
      "0912345678\n",
      "1029319283011\n",
      "106\n"
     ]
    }
   ],
   "source": [
    "m = re.match('.*(09\\d{8}).*', txt) # () get matched pattern\n",
    "print m.group(1)\n",
    "\n",
    "print txt\n",
    "m = re.match('.*(09\\d{8}).*(10\\d+).*(\\d{3}).*', txt) # () get matched pattern\n",
    "print m.group(1)\n",
    "print m.group(2)\n",
    "print m.group(3)"
   ]
  },
  {
   "cell_type": "code",
   "execution_count": 69,
   "metadata": {
    "collapsed": false
   },
   "outputs": [
    {
     "name": "stdout",
     "output_type": "stream",
     "text": [
      "Hi, my name is qoo, i loves oop. My phone number is 0912345678, and my qq number is 1029319283011, also you can find me at 106 Anha district\n",
      "0912345678\n",
      "['0912345678', '0923123456', '0933999999']\n"
     ]
    }
   ],
   "source": [
    "print txt\n",
    "m = re.search('(09\\d{8})', txt) # () get matched pattern\n",
    "print m.group(1)\n",
    "\n",
    "txt2 = 'my phone is 0912345678, 0923123456, and my personal number is 0933999999'\n",
    "match_list = re.findall('(09\\d{8})', txt2)\n",
    "print match_list"
   ]
  },
  {
   "cell_type": "markdown",
   "metadata": {},
   "source": [
    "## giving pattern name"
   ]
  },
  {
   "cell_type": "code",
   "execution_count": 71,
   "metadata": {
    "collapsed": false
   },
   "outputs": [
    {
     "name": "stdout",
     "output_type": "stream",
     "text": [
      "Hi, my name is qoo, i loves oop. My phone number is 0912345678, and my qq number is 1029319283011, also you can find me at 106 Anha district\n",
      "0912345678\n",
      "1029319283011\n",
      "106\n",
      "0912345678\n",
      "1029319283011\n",
      "106\n"
     ]
    }
   ],
   "source": [
    "print txt\n",
    "m = re.match('.*(?P<Phone>09\\d{8}).*(?P<QQ>10\\d+).*(?P<District>\\d{3}).*', txt) # () get matched pattern\n",
    "print m.group(1)\n",
    "print m.group(2)\n",
    "print m.group(3)\n",
    "\n",
    "print m.group('Phone')\n",
    "print m.group('QQ')\n",
    "print m.group('District')"
   ]
  },
  {
   "cell_type": "code",
   "execution_count": 77,
   "metadata": {
    "collapsed": false
   },
   "outputs": [
    {
     "name": "stdout",
     "output_type": "stream",
     "text": [
      "None\n",
      "cats\n",
      "None\n",
      "cardi\n"
     ]
    }
   ],
   "source": [
    "str7 = 'car'\n",
    "str8 = 'cats'\n",
    "str9 = '0912384512'\n",
    "str10 = 'cardinal'\n",
    "\n",
    "m15 = re.match('([a-z]{4,5})',str7) # match string at least 4 characters long, at most 5 characters long.\n",
    "print m15.group(1) if m15 else None\n",
    "\n",
    "m16 = re.match('([a-z]{4,5})',str8)\n",
    "print m16.group(1) if m16 else None\n",
    "\n",
    "m17 = re.match('([a-z]{4,5})',str9)\n",
    "print m17.group(1) if m17 else None\n",
    "\n",
    "m18 = re.match('([a-z]{4,5})',str10)\n",
    "print m18.group(1) if m18 else None"
   ]
  },
  {
   "cell_type": "code",
   "execution_count": 78,
   "metadata": {
    "collapsed": false
   },
   "outputs": [
    {
     "name": "stdout",
     "output_type": "stream",
     "text": [
      "None\n",
      "cats\n",
      "None\n",
      "None\n"
     ]
    }
   ],
   "source": [
    "m15 = re.match('^([a-z]{4,5})$',str7) # match string at least 4 characters long, at most 5 characters long.\n",
    "print m15.group(1) if m15 else None\n",
    "\n",
    "m16 = re.match('^([a-z]{4,5})$',str8)\n",
    "print m16.group(1) if m16 else None\n",
    "\n",
    "m17 = re.match('^([a-z]{4,5})$',str9)\n",
    "print m17.group(1) if m17 else None\n",
    "\n",
    "m18 = re.match('^([a-z]{4,5})$',str10)\n",
    "print m18.group(1) if m18 else None"
   ]
  },
  {
   "cell_type": "markdown",
   "metadata": {},
   "source": [
    "### Lazy Evaluation"
   ]
  },
  {
   "cell_type": "code",
   "execution_count": 86,
   "metadata": {
    "collapsed": false
   },
   "outputs": [
    {
     "name": "stdout",
     "output_type": "stream",
     "text": [
      "0912345678\n",
      "123\n"
     ]
    }
   ],
   "source": [
    "txt = 'my phone: 0912345678, my qq is 123, ^_^' \n",
    "m = re.match('.*?(09\\d{8}).*?(\\d+).*?', txt) # Perform lazy evaluation\n",
    "print m.group(1)\n",
    "print m.group(2)"
   ]
  },
  {
   "cell_type": "markdown",
   "metadata": {},
   "source": [
    "### If exist or not"
   ]
  },
  {
   "cell_type": "markdown",
   "metadata": {},
   "source": [
    "- ? => *? , +? : lazy evaluation\n",
    "- ? => nomal charaacter a? , -?, [a-z]?: 可有可沒有"
   ]
  },
  {
   "cell_type": "code",
   "execution_count": 90,
   "metadata": {
    "collapsed": false
   },
   "outputs": [
    {
     "name": "stdout",
     "output_type": "stream",
     "text": [
      "0912345678\n",
      "None\n",
      "None\n",
      "0912454646\n"
     ]
    },
    {
     "data": {
      "text/plain": [
       "'\\nif m:\\n    print m.group(1)\\nelse:\\n    print None\\n'"
      ]
     },
     "execution_count": 90,
     "metadata": {},
     "output_type": "execute_result"
    }
   ],
   "source": [
    "phone1 = '0912345678'\n",
    "phone2 = '0912-345678'\n",
    "phone3 = '0912-345-678'\n",
    "phone4 = '091245464646345546545464678'\n",
    "m = re.match('(09\\d{8})', phone1)\n",
    "print m.group(1) if m else None\n",
    "\n",
    "m = re.match('(09\\d{8})', phone2)\n",
    "print m.group(1) if m else None\n",
    "\n",
    "m = re.match('(09\\d{8})', phone3)\n",
    "print m.group(1) if m else None\n",
    "\n",
    "m = re.match('(09\\d{8})', phone4)\n",
    "print m.group(1) if m else None\n",
    "'''\n",
    "if m:\n",
    "    print m.group(1)\n",
    "else:\n",
    "    print None\n",
    "'''"
   ]
  },
  {
   "cell_type": "code",
   "execution_count": 91,
   "metadata": {
    "collapsed": false
   },
   "outputs": [
    {
     "name": "stdout",
     "output_type": "stream",
     "text": [
      "0912345678\n",
      "0912-345678\n",
      "0912-345-678\n",
      "0912454646\n"
     ]
    }
   ],
   "source": [
    "m = re.match('(09\\d{2}-?\\d{3}-?\\d{3})', phone1)\n",
    "print m.group(1) if m else None\n",
    "\n",
    "m = re.match('(09\\d{2}-?\\d{3}-?\\d{3})', phone2)\n",
    "print m.group(1) if m else None\n",
    "\n",
    "m = re.match('(09\\d{2}-?\\d{3}-?\\d{3})', phone3)\n",
    "print m.group(1) if m else None\n",
    "\n",
    "m = re.match('(09\\d{2}-?\\d{3}-?\\d{3})', phone4)\n",
    "print m.group(1) if m else None"
   ]
  },
  {
   "cell_type": "code",
   "execution_count": 92,
   "metadata": {
    "collapsed": false
   },
   "outputs": [
    {
     "name": "stdout",
     "output_type": "stream",
     "text": [
      "0912345678\n",
      "0912-345678\n",
      "0912-345-678\n",
      "None\n"
     ]
    }
   ],
   "source": [
    "m = re.match('(^09\\d{2}-?\\d{3}-?\\d{3}$)', phone1)\n",
    "print m.group(1) if m else None\n",
    "\n",
    "m = re.match('(^09\\d{2}-?\\d{3}-?\\d{3}$)', phone2)\n",
    "print m.group(1) if m else None\n",
    "\n",
    "m = re.match('(^09\\d{2}-?\\d{3}-?\\d{3}$)', phone3)\n",
    "print m.group(1) if m else None\n",
    "\n",
    "m = re.match('(^09\\d{2}-?\\d{3}-?$)', phone4)\n",
    "print m.group(1) if m else None"
   ]
  },
  {
   "cell_type": "code",
   "execution_count": 95,
   "metadata": {
    "collapsed": false
   },
   "outputs": [
    {
     "name": "stdout",
     "output_type": "stream",
     "text": [
      "david@largitdata.com\n",
      "None\n",
      "qoo.oop@yahoo.com\n"
     ]
    }
   ],
   "source": [
    "email1 = 'david@largitdata.com'\n",
    "email2 = 'david#largitdata1.com'\n",
    "email3 = 'qoo.oop@yahoo.com'\n",
    "\n",
    "m = re.match('(.+@.+)', email1)\n",
    "print m.group(1) if m else None\n",
    "\n",
    "m = re.match('(.+@.+)', email2)\n",
    "print m.group(1) if m else None\n",
    "\n",
    "m = re.match('(.+@.+)', email3)\n",
    "print m.group(1) if m else None"
   ]
  },
  {
   "cell_type": "code",
   "execution_count": 96,
   "metadata": {
    "collapsed": false
   },
   "outputs": [
    {
     "name": "stdout",
     "output_type": "stream",
     "text": [
      "david\n",
      "largitdata.com\n",
      "None\n",
      "None\n",
      "qoo.oop\n",
      "yahoo.com\n"
     ]
    }
   ],
   "source": [
    "m = re.match('(.+)@(.+)', email1)\n",
    "print m.group(1) if m else None\n",
    "print m.group(2) if m else None\n",
    "\n",
    "m = re.match('(.+)@(.+)', email2)\n",
    "print m.group(1) if m else None\n",
    "print m.group(2) if m else None\n",
    "\n",
    "m = re.match('(.+)@(.+)', email3)\n",
    "print m.group(1) if m else None\n",
    "print m.group(2) if m else None"
   ]
  },
  {
   "cell_type": "code",
   "execution_count": 98,
   "metadata": {
    "collapsed": false
   },
   "outputs": [
    {
     "name": "stdout",
     "output_type": "stream",
     "text": [
      "david\n",
      "largitdata.com\n",
      "None\n",
      "None\n",
      "qoo.oop\n",
      "yahoo.com\n"
     ]
    }
   ],
   "source": [
    "m = re.match('(?P<username>.+)@(?P<domainname>.+)', email1)\n",
    "print m.group('username') if m else None\n",
    "print m.group('domainname') if m else None\n",
    "\n",
    "m = re.match('(?P<username>.+)@(?P<domainname>.+)', email2)\n",
    "print m.group('username') if m else None\n",
    "print m.group('domainname') if m else None\n",
    "\n",
    "m = re.match('(?P<username>.+)@(?P<domainname>.+)', email3)\n",
    "print m.group('username') if m else None\n",
    "print m.group('domainname') if m else None"
   ]
  },
  {
   "cell_type": "code",
   "execution_count": 100,
   "metadata": {
    "collapsed": false
   },
   "outputs": [
    {
     "name": "stdout",
     "output_type": "stream",
     "text": [
      "<!DOCTYPE html PUBLIC \"-//W3C//DTD XHTML 1.0 Transitional//EN\" \"http://www.w3.org/TR/xhtml1/DTD/xhtml1-transitional.dtd\">\r\n",
      "<html xmlns=\"http://www.w3.org/1999/xhtml\">\r\n",
      "<head>\r\n",
      "<meta http-equiv=\"Content-Type\" content=\"text/html; charset=utf-8\"/>\r\n",
      "<meta http-equiv=\"content-language\" content=\"zh-tw\">\r\n",
      "<meta http-equiv=\"X-UA-Compatible\" content=\"IE=edge\" />\r\n",
      "<title>PChome線上購物 - </title>\r\n",
      "<META name=\"author\" content=\"PChome線上購物\">\r\n",
      "<META id=\"MetaKeywords\" NAME=\"keywords\" CONTENT=\"\">\r\n",
      "<META id=\"MetaDescription\" NAME=\"description\" CONTENT=\"\">\r\n",
      "<meta property=\"og:title\" id='ogtitle' content=\"\"/>\r\n",
      "<meta property=\"og:type\" id='ogtype' content=\"product\"/>\r\n",
      "<meta property=\"og:image\" id='ogimage' content=\"\"/>\r\n",
      "<meta property=\"og:url\" id='ogurl' content=\"\"/>\r\n",
      "<meta property=\"og:description\" id='ogdesc' content=\"\"/>\r\n",
      "<meta property=\"og:site_name\" content=\"PChome 24h購物\"/>\r\n",
      "<meta name=\"copyright\" content=\"網路家庭版權所有、轉載必究 ● Copyright PChome Online\">\r\n",
      "<meta name=\"robots\" content=\"NOODP\">\r\n",
      "<link id=\"canonical\" rel=\"canonical\" href=\"\">\r\n",
      "<link id=\"css\" name=\"h24css\" type=\"text/css\" href=\"/min/g=prodh24cssv2&20151104\" rel=\"stylesheet\">\r\n",
      "<script type=\"text/javascript\" async src=\"/min/g=prodjsv2&20151113\"></script>\r\n",
      "</head>\r\n",
      "<body>\r\n",
      "<dl id=\"nc17Container\"  style=\"display:none\">\r\n",
      "    <dt><!-- 敬告啟示-未成年者(註)請勿瀏覽及購買本館商品，本網站已依台灣網站內容分級規定處理。註：以當地國家法律規定之成年年齡為準。 --></dt>\r\n",
      "    <dd><a class=\"ico forbid\" href=\"javascript:void(0);\"><!-- 我未滿18歲，禁止進入 --></a></dd>\r\n",
      "    <dd><a class=\"ico allow\" href=\"javascript:void(0);\"><!-- 我已滿18歲，進入本館 --></a></dd>\r\n",
      "</dl>\r\n",
      "<div id=\"GLOBALWRAPPER\" class=\"prod_w\" style=\"display:none\">\r\n",
      "    <div id=\"WRAPPER\" class=\"style_h24\">\r\n",
      "    <!-- HEADER start -->\r\n",
      "<div id=\"HEADER\">\r\n",
      "<div class=\"clearfix\">\r\n",
      "<h1 class=\"logotype left\"><a class=\"prod\" href=\"http://24h.pchome.com.tw\">PChome 24h購物</a></h1>\r\n",
      "<div class=\"site_tool relative\">\r\n",
      "<sup></sup>\r\n",
      "  <ul class=\"bar_nav absolute\">\r\n",
      "    <li><a href=\"http://shopping.pchome.com.tw\">線上購物</a></li>\r\n",
      "    <li><a href=\"http://24h.pchome.com.tw\">24h購物</a></li>\r\n",
      "    <li><a href=\"http://mall.pchome.com.tw\">購物中心</a></li>\r\n",
      "    <li><a href=\"/book\">書店</a></li>\r\n",
      "    <li><a class=\"sp\" href=\"http://global.pchome.com.tw\">全球購物</a></li>\r\n",
      "  </ul>\r\n",
      "  <ul class=\"bar_service absolute\">\r\n",
      "    <li><a href=\"http://shopping.pchome.com.tw/?mod=store&func=choice_buy&page_url=shopping&NO=D&C=D\" class=\"cart sp\" accesskey=\"B\" title=\"點擊後進入結帳清單\">購物車</a></li>\r\n",
      "    <li><a href=\"https://ecvip.pchome.com.tw\">顧客中心</a></li>\r\n",
      "    <li><a href=\"https://ecvip.pchome.com.tw/?m=vendor\" >廠商合作</a></li>\r\n",
      "    <li><a href=\"https://ecvip.pchome.com.tw/?m=myaccount&c=service&f=showBugService&url=aHR0cDovLzI0aC5wY2hvbWUuY29tLnR3L3NpZ24vM2MuaHRt\">故障通報</a></li>\r\n",
      "    <li><a href=\"http://www.pchome.com.tw/\">PChome</a></li>\r\n",
      "  </ul>\r\n",
      "</div>\r\n",
      "</div>\r\n",
      "<div class=\"block_H relative\">\r\n",
      "<dl class=\"h1 absolute\">\r\n",
      "  <dd id=\"24hrFeeContainer\"><p class=\"absolute \"><small>購物滿$490</small>免運費</p></dd>\r\n",
      "  <dd id=\"SearchContainer\" class=\"bar_search site_corner cor1px\">\r\n",
      "        <sup class=\"l\"></sup><sup class=\"r\"></sup>\r\n",
      "        <sub class=\"l\"></sub><sub class=\"r\"></sub>\r\n",
      "        <label for=\"keyword\" class=\"unblock\">搜尋框，請輸入關鍵字後按enter查詢</label><input accesskey=\"S\" placeholder=\"請輸入關鍵字\" type=\"text\" id=\"keyword\" class=\"text left\"  x-webkit-speech=\"\" x-webkit-grammar=\"builtin:translate\" />\r\n",
      "        <input type=\"button\" id='doSearch'  class=\"button\" value=\"找商品\" />\r\n",
      "    </dd>\r\n",
      "  <dd class=\"absolute sp\"><a href=\"https://ecvip.pchome.com.tw/?m=myaccount&c=service&f=showSearchService\">買不到通知我</a></dd>\r\n",
      "  <dd class=\"bar_account\"><a href=\"https://ecvip.pchome.com.tw\">顧客中心(查訂單、退貨、客服)</a></dd>\r\n",
      "  <dd id=\"shopAd220Container\" class=\"site_ad unblock\"><a href=\"\"><img src=\"\" alt=\"\"/></a></dd>\r\n",
      "</dl>\r\n",
      "<div id=\"site_roadsign\" class=\"h2 absolute\"></div>\r\n",
      "<div class=\"h3 absolute\">\r\n",
      "<div class=\"site_tooth\"></div>\r\n",
      "</div>\r\n",
      "</div>\r\n",
      "</div>\r\n",
      "<!-- HEADER end -->\r\n",
      "        <!-- CONTENT start -->\r\n",
      "        <div id=\"CONTENT\" class=\"clearfix\">\r\n",
      "            <!-- block_N start -->\r\n",
      "            <div class=\"block_N\">\r\n",
      "                <sup></sup>\r\n",
      "                <sub></sub>\r\n",
      "                <h3><a id=\"StoreName\" href=\"javascript:void(0);\"></a></h3>\r\n",
      "                <a id=\"shopAd500Container\" class=\"site_ad unblock\" href=\"\"><img src=\"\" alt=\"\"/></a>\r\n",
      "                <div class=\"info\">\r\n",
      "                <div id=debug></div>\r\n",
      "                    <b class=\"b1f\"></b>\r\n",
      "                    <ul>\r\n",
      "                        <li class=\"sp\">‧台北巿6小時到貨(試營運)</li>\r\n",
      "                        <li>‧全台灣24小時到貨，遲到給100</li>\r\n",
      "                        <li>‧非北北基22:00～10:00間下單、離島、資訊不完整、<br/>　新客、安裝商品、ATM或 ibon付款者等不在此限<a href=\"http://shopping.pchome.com.tw/?m=sitemap&func=24h\" target=\"_blank\">→說明</a></li>\r\n",
      "                    </ul>\r\n",
      "                    <b class=\"b1f\"></b>\r\n",
      "                </div>\r\n",
      "                <!--購物車 start-->\r\n",
      "               <div id=\"24hrCartContainer\" class=\"cart cart_1\">\r\n",
      "                    <span class=\"price\"><span class=\"value\">$0</span></span>\r\n",
      "                    <a class=\"number\" href=\"http://shopping.pchome.com.tw/?mod=store&func=choice_buy&page_url=shopping&NO=D&C=D\">(<span>0</span>)</a>\r\n",
      "                    <a class=\"check\" href=\"http://shopping.pchome.com.tw/?mod=store&func=choice_buy&page_url=shopping&NO=D&C=D\">結帳&gt;</a>\r\n",
      "                </div>\r\n",
      "\r\n",
      "                <!--購物車 end-->\r\n",
      "                <ul id=\"LinkContainer\" class=\"path\">\r\n",
      "                    <li itemscope itemtype=\"http://data-vocabulary.org/Breadcrumb\"><a href=\"http://www.pchome.com.tw/\" itemprop=\"url\"><span itemprop=\"title\">PChome</span></a> &gt;</li>\r\n",
      "                    <li itemscope itemtype=\"http://data-vocabulary.org/Breadcrumb\"><a href=\"http://shopping.pchome.com.tw/\" itemprop=\"url\"><span itemprop=\"title\">線上購物</span></a> &gt;</li>\r\n",
      "                    <li itemscope itemtype=\"http://data-vocabulary.org/Breadcrumb\"></li>\r\n",
      "                    <li class=\"unblock\" itemscope itemtype=\"http://data-vocabulary.org/Breadcrumb\" id='linkRegion'></li>\r\n",
      "                    <li class=\"unblock\" itemscope itemtype=\"http://data-vocabulary.org/Breadcrumb\" id='linkStore'></li>\r\n",
      "                </ul>\r\n",
      "            </div>\r\n",
      "            <!-- block_N end -->\r\n",
      "             <!-- block_W sidebar start -->\r\n",
      "            <div class=\"block_W sidebar\">\r\n",
      "                <sup></sup>\r\n",
      "                <!-- store_list start -->\r\n",
      "                <dl class=\"store_list\">\r\n",
      "                    <dt id=\"RegionName\"></dt>\r\n",
      "                    <dd>\r\n",
      "                        <dl id=\"StoreContainer\"></dl>\r\n",
      "                    </dd>\r\n",
      "                </dl>\r\n",
      "                <!-- store_list end -->\r\n",
      "                <!-- hot_list start -->\r\n",
      "                <dl id=\"SaleContainer\" class=\"hot_list unblock\">\r\n",
      "                </dl>\r\n",
      "                <!-- hot_list end -->\r\n",
      "              </div>\r\n",
      "            <!-- block_W sidebar end -->\r\n",
      "            <!-- block_c start -->\r\n",
      "            <div class=\"block_C\">\r\n",
      "                <!-- prod_list start -->\r\n",
      "                <dl class=\"prod_list\" itemscope itemtype=\"http://schema.org/Product\">\r\n",
      "                    <dd id=\"StoreAd800Container\" class=\"unblock\"><a class=\"site_ad\" href=\"\" target=\"_blank\"><img src=\"\" alt=\"\"/></a></dd>\r\n",
      "                    <dd  id=\"NameContainer\" class=\"Ct clearfix\"></dd>\r\n",
      "                    <dd class=\"clearfix\">\r\n",
      "                        <!-- Cl start -->\r\n",
      "                        <div class=\"Cl\">\r\n",
      "                            <div id=\"BonusContainer\" class=\"bar_bonus site_corner cor1px unblock\">\r\n",
      "                                <sup class=\"l\"></sup>\r\n",
      "                                <sup class=\"r\"></sup>\r\n",
      "                                <sub class=\"l\"></sub>\r\n",
      "                                <sub class=\"r\"></sub>\r\n",
      "                                <span>\r\n",
      "                                    <b>送</b>單品加碼金：<i>0</i>點\r\n",
      "                                    <a href=\"/html/BADD_help.html\" title=\"1.加碼金使用方式及規則同現金積點。　2.加碼金不適用任何現金積點倍數送活動。\" >說明</a>\r\n",
      "                                </span>\r\n",
      "                            </div>\r\n",
      "                            <div id=\"ImgContainer\" class=\"prod_img\"></div>\r\n",
      "                            <ul id=\"UpAndDownContainer\" class=\"bar_prodnav unblock\">\r\n",
      "                            </ul>\r\n",
      "                            <dl id=\"SPFInfoContainer\" class=\"msg unblock\">\r\n",
      "                                <dt>※</dt>\r\n",
      "                                <dd>消費者同意，此預購型商品發生缺貨或貨源不足..等情形、致網路家庭無法出貨時，此商品預購契約不成立</dd>\r\n",
      "                            </dl>\r\n",
      "                            <!-- prod_combo start -->\r\n",
      "                            <dl id=\"CombineContainer\" class=\"prod_combo unblock\">\r\n",
      "                                <dt>搭配商品：</dt>\r\n",
      "                            </dl>\r\n",
      "                            <!-- bar_combo end -->\r\n",
      "                        </div>\r\n",
      "                        <!-- Cl end -->\r\n",
      "                        <!-- Cr start -->\r\n",
      "                        <div class=\"Cr\">\r\n",
      "                            <!-- prod_descrb start -->\r\n",
      "                            <!-- prod_descrb -->\r\n",
      "                            <div id=\"DescrbContainer\" class=\"prod_describe clearfix\">\r\n",
      "                                <ul class=\"right\">\r\n",
      "                                <!-- h24區塊 -->\r\n",
      "                                <li id=\"h24Block\"></li>\r\n",
      "                                </ul>\r\n",
      "                                <div class=\"left\">\r\n",
      "                                    <div id=\"MarketingContainer\" class=\"bar_gift\"><ul>\r\n",
      "                                        <li id=\"MarketingBonus\" class=\"popupOn unblock\"><a href=\"#\">\r\n",
      "                                            <span class=\"sign\">現金積點</span>\r\n",
      "                                            <div></div>\r\n",
      "                                            <span class=\"more\">(詳)</span>\r\n",
      "                                            <span class=\"note\">止</span>\r\n",
      "                                        </a></li>\r\n",
      "                                        <li id=\"MarketingActivity\" class=\"unblock\"><a href=\"#\">\r\n",
      "                                            <span class=\"sign\">折扣活動</span>\r\n",
      "                                            <div></div>\r\n",
      "                                            <span class=\"note\">止</span>\r\n",
      "                                        </a></li>\r\n",
      "                                        <li id=\"MarketingRaiseBonus\" class=\"popupOn unblock\"><a href=\"#\">\r\n",
      "                                            <span class=\"sign\">加碼金</span>\r\n",
      "                                            <div></div>\r\n",
      "                                            <span class=\"more\">(詳)</span>\r\n",
      "                                            <span class=\"note\">止</span>\r\n",
      "                                        </a></li>\r\n",
      "                                        <li id=\"MarketingGift\" class=\"popupOn unblock\"><a href=\"#\">\r\n",
      "                                            <span class=\"sign\">滿額贈</span>\r\n",
      "                                            <div></div>\r\n",
      "                                            <span class=\"more\">(詳)</span>\r\n",
      "                                            <span class=\"note\">止</span>\r\n",
      "                                        </a></li>\r\n",
      "                                    </ul><span id=\"moreMarketing\" class=\"ui-btn-collapsible unblock\">展開</span></div>\r\n",
      "                                    <div class=\"slogan\">\r\n",
      "                                        <div id=\"ActivityContainer\" class=\"bar_event unblock\">\r\n",
      "                                            <sup></sup><sub></sub>\r\n",
      "                                            <span><b>活動商品：</b><a href=\"javascript:void(0);\"></a></span>\r\n",
      "                                        </div>\r\n",
      "                                        <p id=\"ExtraContainer\" class=\"title sp unblock\"></p>\r\n",
      "                                        <p id=\"NickContainer\" class=\"title clearfix\"></p>\r\n",
      "                                                                                <a id=\"EnergySave\" class=\"ico energy unblock\" href=\"#\">本商品符合政府節能補助</a>\r\n",
      "                                                                                <div id=\"SloganContainer\"></div>\r\n",
      "                                        <ul id=\"BookInfoContainer\" class=\"sp\"></ul>\r\n",
      "                                    </div>\r\n",
      "                                </div>\r\n",
      "                            </div>\r\n",
      "                            <!-- prod_descrb end -->\r\n",
      "                            <!-- prodPayway start -->\r\n",
      "                           <div id=\"PaymentContainer\" class=\"prod_payway clearfix\"  itemprop=\"offers\" itemscope itemtype=\"http://schema.org/Offer\">\r\n",
      "                            </div>\r\n",
      "                            <!-- prodPayway end -->\r\n",
      "                                  <!-- bar_bonus start -->\r\n",
      "                            <div id='BonusInfoContainer' class=\"bar_bonus unblock\">\r\n",
      "                                <p>送單品加碼金<i>0</i>點<a href=\"http://shopping.pchome.com.tw/?m=item&f=bonus_help\" target=\"_blank\">說明</a><span>(1點 = 1元)</span></p>\r\n",
      "                                <span>(限使用貨到付款、ATM、7-11 ibon、金融卡即時轉帳、信用卡1、3、6期可獲得)</span>\r\n",
      "                            </div>\r\n",
      "                            <!-- bar_bonus end -->\r\n",
      "                            <dl class=\"site_timer\">\r\n",
      "                                <dt></dt>\r\n",
      "                                <dd>您約在<div class=\"timer\"><span class=\"min\"></span><span class=\"sec\"></span></div>後可進入搶購流程</dd>\r\n",
      "                            </dl>\r\n",
      "\r\n",
      "                             <div id=\"ButtonContainer\" class=\"site_btn tr\">\r\n",
      "                            </div>\r\n",
      "                             <!-- prod_gift start -->\r\n",
      "                            <dl id=\"AddContainer\" class=\"prod_gift sp unblock\">\r\n",
      "                                <dt>加購商品：</dt>\r\n",
      "                                <dd class=\"clear_magi\">\r\n",
      "                                    <ol>\r\n",
      "                                    </ol>\r\n",
      "                                </dd>\r\n",
      "                                <dd class=\"tr clear_line\">\r\n",
      "                                    <p><a href=\"javascript:void(0);\">看更多&gt;</a></p>\r\n",
      "                                </dd>\r\n",
      "                            </dl>\r\n",
      "                            <!-- prod_gift end -->\r\n",
      "                            <!-- prod_gift start -->\r\n",
      "                            <dl id=\"GiftContainer\" class=\"prod_gift unblock\">\r\n",
      "                                <dt>贈品：</dt>\r\n",
      "                                <dd>\r\n",
      "                                    <ol>\r\n",
      "                                    </ol>\r\n",
      "                                </dd>\r\n",
      "                            </dl>\r\n",
      "                            <!-- prod_gift end -->\r\n",
      "                        </div>\r\n",
      "                    </dd>\r\n",
      "                    <dd class=\"Cb clearfix\">\r\n",
      "                         <dl id=\"GiftListContainer\" class=\"prod_gift\">\r\n",
      "                        </dl>\r\n",
      "                        <!-- prod_gift end -->\r\n",
      "                        <!-- prod_option start -->\r\n",
      "                        <dl id=\"GiftListPicContainer\" class=\"prod_option clearfix\">\r\n",
      "                        </dl>\r\n",
      "                         <dl class=\"prod_recommend unblock\" id='AlsoViewAndBuyContainer'>\r\n",
      "                            <dd class=\"head clearfix\">\r\n",
      "                                <ul class=\"tab_box\">\r\n",
      "                                    <li id='AlsoView'><a href=\"javascript:void(0)\">看此商品的人也看了...</a><sup></sup><sub></sub></li>\r\n",
      "                                    <li id='AlsoBuy'><a href=\"javascript:void(0)\">買此商品的人也買了...</a><sup></sup><sub></sub></li>\r\n",
      "                                </ul>\r\n",
      "                            </dd>\r\n",
      "                            <dd  class=\"body clearfix\">\r\n",
      "                                <a href=\"javascript:void(0)\"  style = \"outline:none\" class='left'><span class=\"ico prev\">上一頁</span></a>\r\n",
      "                                <div class=\"list\">\r\n",
      "                                    <dl id=\"AlsoBody\" class=\"clarfix site_looplist vc_120\">\r\n",
      "                                    </dl>\r\n",
      "                                </div>\r\n",
      "                                <a href=\"javascript:void(0)\"  style = \"outline:none\" class='right'><span class=\"ico next\">下一頁</span></a>\r\n",
      "                            </dd>\r\n",
      "                        </dl>\r\n",
      "                        <p class=\"line_dotted\">&nbsp;</p>\r\n",
      "                        <dl id='StoreProdAd800Container' class=\"unblock\"><a class=\"site_ad\" href=\"\" target=\"_blank\"><img src=\"\" /></a></dl>\r\n",
      "                        <!-- prod_intro start -->\r\n",
      "                        <dl id='IntroContainer' class=\"prod_intro unblock\">\r\n",
      "                        </dl>\r\n",
      "                         <!-- prod_intro end -->\r\n",
      "                        <!-- site_btn start -->\r\n",
      "                        <div class=\"site_btn tc\">\r\n",
      "                        </div>\r\n",
      "                        <!-- site_btn end -->\r\n",
      "                        <p class=\"line_dotted\">&nbsp;</p>\r\n",
      "\r\n",
      "                        <!-- prod_add start -->\r\n",
      "                        <dl id=\"MoreAddContainer\" class=\"prod_add unblock\">\r\n",
      "                            <dt>加購專區</dt>\r\n",
      "                            <dd class=\"tr\">\r\n",
      "                                <a id =\"top\" href=\"javascript:void(0)\">△回TOP</a>\r\n",
      "                            </dd>\r\n",
      "                        </dl>\r\n",
      "                        <!-- prod_add end -->\r\n",
      "                        <!-- site_btn start -->\r\n",
      "                        <div class=\"site_btn tc\">\r\n",
      "                        </div>\r\n",
      "                        <!-- prod_info start -->\r\n",
      "                        <p class=\"line_dotted\">&nbsp;</p>\r\n",
      "                        <!-- prod_info start -->\r\n",
      "                        <dl id=\"EquipContainer\" class=\"prod_info site_corner unblock\">\r\n",
      "                            <dd>\r\n",
      "                                <dl>\r\n",
      "                                    <dt>本商品標準配備 + 贈品</dt>\r\n",
      "                                    <dd  id=\"Equiphtml\">\r\n",
      "                                    </dd>\r\n",
      "                                </dl>\r\n",
      "                                <sup class=\"l\"></sup>\r\n",
      "                                <sup class=\"r\"></sup>\r\n",
      "                                <sub class=\"l\"></sub>\r\n",
      "                                <sub class=\"r\"></sub>\r\n",
      "                            </dd>\r\n",
      "                        </dl>\r\n",
      "                        <!-- prod_info end -->\r\n",
      "                        <!-- prod_info start -->\r\n",
      "                        <dl id=\"StmtContainer\" class=\"prod_info site_corner unblock\">\r\n",
      "                            <dd>\r\n",
      "                                <dl>\r\n",
      "                                    <dt>本商品規格</dt>\r\n",
      "                                    <dd  id=\"Foodhtml\">\r\n",
      "                                    </dd>\r\n",
      "                                    <dd  id=\"Stmthtml\">\r\n",
      "                                    </dd>\r\n",
      "                                </dl>\r\n",
      "                                <sup class=\"l\"></sup>\r\n",
      "                                <sup class=\"r\"></sup>\r\n",
      "                                <sub class=\"l\"></sub>\r\n",
      "                                <sub class=\"r\"></sub>\r\n",
      "                            </dd>\r\n",
      "                        </dl>\r\n",
      "                        <!-- prod_info end -->\r\n",
      "                        <!-- prod_info start -->\r\n",
      "                      <dl id=\"RemarkContainer\" class=\"prod_info site_square unblock\">\r\n",
      "                       </dl>\r\n",
      "                        <!-- prod_info end -->\r\n",
      "                        <!-- site_btn start -->\r\n",
      "                        <div class=\"site_btn tc\">\r\n",
      "                        </div>\r\n",
      "                        <!-- site_btn end -->\r\n",
      "                        <p class=\"line_dotted\">&nbsp;</p>\r\n",
      "                        <!-- shop_info start -->\r\n",
      "                        <dl id=\"WarrantyContainer\" class=\"shop_info unblock\">\r\n",
      "                            <dt>運送及其他說明\r\n",
      "                            <b class=\"ico shipping\">配送到府</b>\r\n",
      "                            </dt>\r\n",
      "                            <dd class=\"site_corner\">\r\n",
      "                                <dl class=\"clearfix\">\r\n",
      "                                </dl>\r\n",
      "                                <sup class=\"l\"></sup>\r\n",
      "                                <sup class=\"r\"></sup>\r\n",
      "                                <sub class=\"l\"></sub>\r\n",
      "                                <sub class=\"r\"></sub>\r\n",
      "                            </dd>\r\n",
      "                        </dl>\r\n",
      "                        <dl class=\"shop_info\">\r\n",
      "                            <dt>商品退貨需知<b class=\"ico return\">退貨免費，到府收貨</b></dt>\r\n",
      "                            <dd class=\"site_corner\">\r\n",
      "                                <dl class=\"clearfix\">\r\n",
      "                                    <dt>關於退貨：</dt>\r\n",
      "                                    <dd>PChome Online線上購物的消費者，都可以依照消費者保護法的規定，享有商品貨到次日起七天猶豫期的權益。但猶豫期並非試用期，請留意，您所退回的商品必須回復原狀（須回復至商品到貨時的原始狀態）並且保持完整包裝（包括商品本體、配件、贈品、保證書、原廠包裝及所有附隨文件或資料的完整性），切勿缺漏任何配件或損毀原廠外盒。<br/>\r\n",
      "如果您所購買的商品是電腦軟體、遊戲光碟、CD、VCD、DVD、食品、耗材、個人衛生用品等一經拆封即無法回復原狀的商品，在您還不確定是否要辦理退貨以前，請勿拆封。<br/>\r\n",
      "若您需辦理退貨，請利用顧客中心「查訂單」或「退訂/退款查詢」的「退訂/退貨」功能填寫申請，我們將於接獲申請之次日起1個工作天內檢視您的退貨要求，檢視完畢後將以E-mail回覆通知您，並將委託本公司指定之宅配公司，在5個工作天內透過電話與您連絡前往取回退貨商品。請您保持電話暢通，並備妥原商品及所有包裝及附件，以便於交付予本公司指定之宅配公司取回（宅配公司僅負責收件，退貨商品仍由特約廠商進行驗收），宅配公司取件後會提供簽收單據給您，請注意留存。<br/>\r\n",
      "退回商品時，請以本公司或特約廠商寄送商品給您時所使用的外包裝（紙箱或包裝袋），原封包裝後交付給前來取件的宅配公司；如果本公司或特約廠商寄送商品給您時所使用的外包裝（紙箱或包裝袋）已經遺失，請您在商品原廠外盒之外，再以其他適當的包裝盒進行包裝，切勿任由宅配單直接粘貼在商品原廠外盒上或書寫文字。<br/>\r\n",
      "提醒您，原廠外盒及原廠包裝都屬於商品的一部分，若有遺失、毀損或缺件，可能影響您退貨的權益，也可能依照損毀程度扣除為回復原狀所必要的費用。<br/>\r\n",
      "若因您要求退貨或換貨、或因本公司無法接受您全部或部分之訂單、或因契約解除或失其效力，而需為您辦理退款事宜時，您同意本公司得代您處理發票或折讓單等相關法令所要求之單據，以利本公司為您辦理退款。<br/>\r\n",
      "本公司收到您所提出的申請後，若經確認無誤，將依消費者保護法之相關規定，返還您已支付之對價（含信用卡交易），退款日當天會再發送E-mail通知函給您。<br/>\r\n",
      "                                    </dd>\r\n",
      "                                </dl>\r\n",
      "                                <sup class=\"l\"></sup>\r\n",
      "                                <sup class=\"r\"></sup>\r\n",
      "                                <sub class=\"l\"></sub>\r\n",
      "                                <sub class=\"r\"></sub>\r\n",
      "                            </dd>\r\n",
      "                        </dl>\r\n",
      "                        <!-- shop_info end -->\r\n",
      "                         <!-- site_btn start -->\r\n",
      "                        <div class=\"site_btn tc\">\r\n",
      "                        </div>\r\n",
      "                        <!-- site_btn end -->\r\n",
      "                    </dd>\r\n",
      "                    <!-- Cb end -->\r\n",
      "                </dl>\r\n",
      "                <!-- prod_list end -->\r\n",
      "            </div>\r\n",
      "            <!-- block_C end -->\r\n",
      "            <!-- block_S bt_top start -->\r\n",
      "            <div class=\"block_S bt_top\">\r\n",
      "                <a class ='gototop' href=\"javascript:void(0)\">△回TOP</a>\r\n",
      "            </div>\r\n",
      "            <!-- block_S bt_top end -->\r\n",
      "        </div>\r\n",
      "        <!-- CONTENT end -->\r\n",
      "        <!-- FOOTER start -->\r\n",
      "        <div id=\"FOOTER\">\r\n",
      "            <p><a href=\"http://shopping.pchome.com.tw/\">PChome線上購物</a><b>-</b>網路家庭國際資訊股份有限公司 版權所有‧轉載必究<a class=\"sp\" href=\"http://faq.pchome.com.tw/faq_solution.html?q_id=16&c_nickname=member&f_id=4\">隱私權聲明</a><a class=\"fc-white\" href=\"http://shopping.pchome.com.tw/?mod=sitemap&amp;func=sitemap\" accesskey=\"M\" title=\"網站導覽\">:::</a></p>\r\n",
      "            <p>106 台北市大安區敦化南路二段105號12樓　電話(上班時間)：02-2326-1460<span>(本公司不會以此電話號碼撥打給您，如有來電顯示此號碼，請勿理會)</span></p>\r\n",
      "            <p class=\"sp\">PChome and PChome Online are trademarks of PChome Online Inc.</p>\r\n",
      "            <p>本網站產品已投保新光產物產品責任保險$100,000,000元。(保險證號：130004AKP0000791)</p>\r\n",
      "        </div>\r\n",
      "        <!-- FOOTER end -->\r\n",
      "\r\n",
      "\r\n",
      "        <!--購物車 start-->\r\n",
      "        <div id=\"CarInfo\" class='unblock site_cart'>\r\n",
      "            <span id=\"Cardebug\"></span>\r\n",
      "            <span id=\"theResult\" class=\"the_result\">加入購物車中...</span>\r\n",
      "            <div class=\"cart_box cart cart_1\" href=\"#\">\r\n",
      "                <span class=\"price\"><span class=\"value\">0</span></span>\r\n",
      "                <span class=\"number\">(<a href=\"https://ecssl.pchome.com.tw/sys/cflow/?m=shopcar\">0</a>)</span>\r\n",
      "                <span class=\"check\"><a href=\"https://ecssl.pchome.com.tw/sys/cflow/?m=shopcar\">結帳&gt;</a></span>\r\n",
      "            </div>\r\n",
      "        </div>\r\n",
      "        <!--購物車 end-->\r\n",
      "\r\n",
      "        <!-- 瀏覽記錄 start-->\r\n",
      "        <dl class=\"site_record unblock\">\r\n",
      "            <dd class=\"head\"><span>瀏覽紀錄</span><span class=\"close_box ico close\"></span></dd>\r\n",
      "            <dd class=\"body\">\r\n",
      "                <ul id=\"ul_list\" class=\"col2f\"></ul>\r\n",
      "            </dd>\r\n",
      "            <dd class=\"foot unblock\">\r\n",
      "                <a href=\"#\" target=\"_BLANK\"><span>more&gt;</span></a>\r\n",
      "            </dd>\r\n",
      "        </dl>\r\n",
      "        <!-- 瀏覽記錄 end-->\r\n",
      "\r\n",
      "\r\n",
      "    </div>\r\n",
      "\r\n",
      "    <!--彈出畫面 start-->\r\n",
      "    <div id=\"PopDiscountContainer\" class=\"site_popDiscount unblock\"></div>\r\n",
      "    <div id=\"PopPhoneContainer\" class=\"site_popPhoneNumber unblock\"></div>\r\n",
      "    <div id=\"PopMarketingContainer\" class=\"overlay_lightbox site_popLayout site_popGift unblock\"></div>\r\n",
      "    <!--彈出畫面 end-->\r\n",
      "    <!--分期銀行資料 start-->\r\n",
      "    <div id=\"PopInstallment\" class=\"site_popInstallment unblock\">\r\n",
      "        <dl>\r\n",
      "            <dt>接受{0}家銀行線上分期付款</dt>\r\n",
      "            <dd>{1}</dd>\r\n",
      "            <dd>※除不盡餘數於第一期收取</dd>\r\n",
      "        </dl>\r\n",
      "        <a href=\"javascript:window.close()\">△關視窗</a>\r\n",
      "    </div>\r\n",
      "    <!--分期銀行資料 end-->\r\n",
      "</div>\r\n",
      "<form>\r\n",
      "<input type=\"hidden\" name=\"MyEvent\" id=\"MyEvent\" >\r\n",
      "<input type=\"hidden\" name=\"sid\" id=\"sid\" value=\"\">\r\n",
      "<input type=\"hidden\" name=\"inventory\" id=\"inventory\" value=\"0\">\r\n",
      "</form>\r\n",
      "</body>\r\n",
      "</html>\n"
     ]
    }
   ],
   "source": [
    "import requests\n",
    "res = requests.get('http://24h.pchome.com.tw/prod/DYAP8E-A9006M8J2?q=/S/DYAP8E')\n",
    "print res.text"
   ]
  },
  {
   "cell_type": "code",
   "execution_count": 101,
   "metadata": {
    "collapsed": false
   },
   "outputs": [
    {
     "name": "stdout",
     "output_type": "stream",
     "text": [
      "try{jsonp_prod({\"DYAP8E-A9006M8J2-000\":{\"Seq\":14581809,\"Id\":\"DYAP8E-A9006M8J2-000\",\"Name\":\"Adonit Jot Pro \\u5c08\\u696d\\u96a8\\u884c\\u89f8\\u63a7\\u7b46-\\u73ab\\u7470\\u91d1\",\"Nick\":\"Adonit Jot Pro \\u5c08\\u696d\\u96a8\\u884c\\u89f8\\u63a7\\u7b46-\\u73ab\\u7470\\u91d1\",\"Store\":\"DYAP8E\",\"PreOrdDate\":\"\",\"SpeOrdDate\":\"\",\"Price\":{\"M\":1080,\"P\":1080},\"Discount\":0,\"Pic\":{\"B\":\"\\/pic\\/v1\\/data\\/item\\/201511\\/D\\/Y\\/A\\/P\\/8\\/E\\/DYAP8E-A9006M8J2000_563b3aae12969.jpg\",\"S\":\"\\/pic\\/v1\\/data\\/item\\/201511\\/D\\/Y\\/A\\/P\\/8\\/E\\/sDYAP8E-A9006M8J2000_563b3aae144ca.jpg\"},\"Weight\":0.05,\"ISBN\":\"\",\"Qty\":8,\"Bonus\":0,\"isBig\":0,\"isSpec\":0,\"isCombine\":0,\"isDiy\":0,\"isRecyclable\":0,\"isCarrier\":0,\"isMedical\":0,\"isBigCart\":1,\"isSnapUp\":0,\"isDescAndIntroSync\":0,\"isFoodContents\":0,\"isHuge\":0,\"isEnergySubsidy\":0}});}catch(e){if(window.console){console.log(e);}}\n"
     ]
    }
   ],
   "source": [
    "import requests\n",
    "res = requests.get('http://ecapi.pchome.com.tw/ecshop/prodapi/v2/prod/DYAP8E-A9006M8J2-000&store=DYAP8E&fields=Seq,Id,Name,Nick,Store,PreOrdDate,SpeOrdDate,Price,Discount,Pic,Weight,ISBN,Qty,Bonus,isBig,isSpec,isCombine,isDiy,isRecyclable,isCarrier,isMedical,isBigCart,isSnapUp,isDescAndIntroSync,isFoodContents,isHuge,isEnergySubsidy&_callback=jsonp_prod?_callback=jsonp_prod')\n",
    "print res.text"
   ]
  },
  {
   "cell_type": "code",
   "execution_count": 112,
   "metadata": {
    "collapsed": false
   },
   "outputs": [
    {
     "name": "stdout",
     "output_type": "stream",
     "text": [
      "{\"DYAP8E-A9006M8J2-000\":{\"Seq\":14581809,\"Id\":\"DYAP8E-A9006M8J2-000\",\"Name\":\"Adonit Jot Pro \\u5c08\\u696d\\u96a8\\u884c\\u89f8\\u63a7\\u7b46-\\u73ab\\u7470\\u91d1\",\"Nick\":\"Adonit Jot Pro \\u5c08\\u696d\\u96a8\\u884c\\u89f8\\u63a7\\u7b46-\\u73ab\\u7470\\u91d1\",\"Store\":\"DYAP8E\",\"PreOrdDate\":\"\",\"SpeOrdDate\":\"\",\"Price\":{\"M\":1080,\"P\":1080},\"Discount\":0,\"Pic\":{\"B\":\"\\/pic\\/v1\\/data\\/item\\/201511\\/D\\/Y\\/A\\/P\\/8\\/E\\/DYAP8E-A9006M8J2000_563b3aae12969.jpg\",\"S\":\"\\/pic\\/v1\\/data\\/item\\/201511\\/D\\/Y\\/A\\/P\\/8\\/E\\/sDYAP8E-A9006M8J2000_563b3aae144ca.jpg\"},\"Weight\":0.05,\"ISBN\":\"\",\"Qty\":8,\"Bonus\":0,\"isBig\":0,\"isSpec\":0,\"isCombine\":0,\"isDiy\":0,\"isRecyclable\":0,\"isCarrier\":0,\"isMedical\":0,\"isBigCart\":1,\"isSnapUp\":0,\"isDescAndIntroSync\":0,\"isFoodContents\":0,\"isHuge\":0,\"isEnergySubsidy\":0}}\n"
     ]
    }
   ],
   "source": [
    "import re\n",
    "m = re.search('try\\{jsonp_prod\\((.*?)\\);', res.text)\n",
    "print m.group(1)\n",
    "\n",
    "\n",
    "import json\n",
    "jd = json.loads(m.group(1))"
   ]
  },
  {
   "cell_type": "code",
   "execution_count": 117,
   "metadata": {
    "collapsed": false
   },
   "outputs": [
    {
     "name": "stdout",
     "output_type": "stream",
     "text": [
      "{u'isCombine': 0, u'isSnapUp': 0, u'ISBN': u'', u'Nick': u'Adonit Jot Pro \\u5c08\\u696d\\u96a8\\u884c\\u89f8\\u63a7\\u7b46-\\u73ab\\u7470\\u91d1', u'PreOrdDate': u'', u'isDescAndIntroSync': 0, u'isBig': 0, u'isHuge': 0, u'isMedical': 0, u'Store': u'DYAP8E', u'Bonus': 0, u'isEnergySubsidy': 0, u'Price': {u'P': 1080, u'M': 1080}, u'Discount': 0, u'isFoodContents': 0, u'isCarrier': 0, u'SpeOrdDate': u'', u'isRecyclable': 0, u'Name': u'Adonit Jot Pro \\u5c08\\u696d\\u96a8\\u884c\\u89f8\\u63a7\\u7b46-\\u73ab\\u7470\\u91d1', u'isDiy': 0, u'isBigCart': 1, u'Weight': 0.05, u'Seq': 14581809, u'isSpec': 0, u'Pic': {u'S': u'/pic/v1/data/item/201511/D/Y/A/P/8/E/sDYAP8E-A9006M8J2000_563b3aae144ca.jpg', u'B': u'/pic/v1/data/item/201511/D/Y/A/P/8/E/DYAP8E-A9006M8J2000_563b3aae12969.jpg'}, u'Qty': 8, u'Id': u'DYAP8E-A9006M8J2-000'}\n",
      "{u'P': 1080, u'M': 1080}\n",
      "1080\n"
     ]
    }
   ],
   "source": [
    "#print jd\n",
    "print jd['DYAP8E-A9006M8J2-000']\n",
    "print jd['DYAP8E-A9006M8J2-000']['Price']\n",
    "print jd['DYAP8E-A9006M8J2-000']['Price']['P']"
   ]
  },
  {
   "cell_type": "raw",
   "metadata": {},
   "source": [
    "-- XML\n",
    "<Department>\n",
    "    <Employee>\n",
    "        <name>qoo</name>\n",
    "        <gender>M</gender>\n",
    "    </Employee>\n",
    "    <Employee>\n",
    "        <name>oop</name>\n",
    "    </Employee>\n",
    "    <Employee>\n",
    "        <name>abc</name>\n",
    "        <gender>F</gender>\n",
    "    </Employee>\n",
    "</Department>"
   ]
  },
  {
   "cell_type": "code",
   "execution_count": 169,
   "metadata": {
    "collapsed": false
   },
   "outputs": [],
   "source": [
    "# JSON\n",
    "J = '''{u'department': [\n",
    "{u'gender': u'M', u'name': u'qoo'}, \n",
    "{u'name': u'oop'}, \n",
    "{u'gender': u'F', u'name': u'abc'}\n",
    "]\n",
    "}'''\n"
   ]
  },
  {
   "cell_type": "code",
   "execution_count": 170,
   "metadata": {
    "collapsed": false
   },
   "outputs": [
    {
     "name": "stdout",
     "output_type": "stream",
     "text": [
      "<type 'dict'>\n",
      "{\"department\": [{\"gender\": \"M\", \"name\": \"qoo\"}, {\"name\": \"oop\"}, {\"gender\": \"F\", \"name\": \"abc\"}]}\n",
      "{u'department': [{u'gender': u'M', u'name': u'qoo'}, {u'name': u'oop'}, {u'gender': u'F', u'name': u'abc'}]}\n"
     ]
    }
   ],
   "source": [
    "# JSON\n",
    "import json\n",
    "J = {'department':[{'name':'qoo', 'gender':'M'}, {'name':'oop'}, {'name':'abc', 'gender':'F'}]}\n",
    "\n",
    "print type(J)\n",
    "print json.dumps(J)\n",
    "print json.loads('{\"department\": [{\"gender\": \"M\", \"name\": \"qoo\"}, {\"name\": \"oop\"}, {\"gender\": \"F\", \"name\": \"abc\"}]}')"
   ]
  },
  {
   "cell_type": "code",
   "execution_count": 173,
   "metadata": {
    "collapsed": false
   },
   "outputs": [
    {
     "name": "stdout",
     "output_type": "stream",
     "text": [
      "352,111\n",
      "352111\n"
     ]
    }
   ],
   "source": [
    "import re\n",
    "m = re.match( r\"([0-9,]+)\", '352,111元')\n",
    "print m.group(1)\n",
    "print ''.join(m.group(1).split(','))\n"
   ]
  },
  {
   "cell_type": "code",
   "execution_count": null,
   "metadata": {
    "collapsed": true
   },
   "outputs": [],
   "source": [
    "with open('gov/51658371.txt', 'r') as f:\n",
    "    soup = bs(f.read())\n",
    "\n",
    "dic = {'機關代碼':'','機關名稱':'','單位名稱':'', '聯絡電話':'', '標的分類':''}\n",
    "#print soup.select('tr')[2]\n",
    "for tr in soup.select('tr'):\n",
    "    if len(tr.select('th')) >0:\n",
    "        if tr.select('th')[0].text.strip().encode('utf-8') in dic:\n",
    "            print  tr.select('td')[0].text.strip().encode('utf-8')\n",
    "            \n",
    "            "
   ]
  },
  {
   "cell_type": "code",
   "execution_count": 176,
   "metadata": {
    "collapsed": true
   },
   "outputs": [],
   "source": [
    "from bs4 import BeautifulSoup as bs\n",
    "\n",
    "def get_response_element(file_name):\n",
    "    with open(file_name, 'r') as f:\n",
    "        soup = bs(f.read())\n",
    "    return soup.select('tr')    "
   ]
  },
  {
   "cell_type": "code",
   "execution_count": 177,
   "metadata": {
    "collapsed": false
   },
   "outputs": [
    {
     "name": "stdout",
     "output_type": "stream",
     "text": [
      "[<tr>\\n<td align=\"center\" colspan=\"4\" style=\"border:1px solid #FFFFFF;\">\\n<center>\\n<h1>\\n       \\u66f4\\u6b63\\u6c7a\\u6a19\\u516c\\u544a\\n      </h1>\\n</center>\\n<div align=\"center\" id=\"printAwardDate\" style=\"display:block\">\\n<h3>\\n       \\u516c\\u544a\\u65e5:104/11/12\\n      </h3>\\n</div>\\n<div class=\"remind_msg\">\\n</div>\\n</td>\\n</tr>, <tr class=\"award_table_tr_1\" id=\"noneDisWord\">\\n<td align=\"left\" class=\"T12\" colspan=\"4\">\\n     \\u8a3b\\uff1a\\n     <font color=\"red\">\\n<strong>\\n       \\u25ce\\n      </strong>\\n</font>\\n     \\u7d05\\u8272\\u5b57\\u9ad4\\u8868\\u793a\\u6b64\\u6b21\\u66f4\\u6b63\\u516c\\u544a\\u8207\\u524d\\u6b21\\u4e4b\\u5dee\\u7570\\uff0c\\u524d\\u6b21\\u516c\\u544a\\u5167\\u5bb9\\u65bc\\u6ed1\\u9f20\\u79fb\\u81f3\\u6587\\u5b57\\u4e0a\\u65b9\\u6642\\u81ea\\u52d5\\u986f\\u793a\\n    </td>\\n</tr>, <tr class=\"award_table_tr_1\">\\n<td align=\"center\" bgcolor=\"#89C0C7\" class=\"style1\" rowspan=\"8\" valign=\"middle\" width=\"38\">\\n<span class=\"newstop\">\\n      \\u6a5f\\n      <br/>\\n      \\u95dc\\n      <br/>\\n      \\u8cc7\\n      <br/>\\n      \\u6599\\n     </span>\\n</td>\\n</tr>, <tr class=\"award_table_tr_1\">\\n<th align=\"left\" bgcolor=\"#DAEBED\" class=\"T11b\" valign=\"middle\" width=\"200\">\\n     \\u6a5f\\u95dc\\u4ee3\\u78bc\\n    </th>\\n<td bgcolor=\"#EFF1F1\" class=\"newstop\" height=\"25\">\\n     3.82.8.63\\n    </td>\\n</tr>, <tr class=\"award_table_tr_1\">\\n<th align=\"left\" bgcolor=\"#DAEBED\" class=\"T11b\" valign=\"middle\" width=\"200\">\\n     \\u6a5f\\u95dc\\u540d\\u7a31\\n    </th>\\n<td bgcolor=\"#EFF1F1\" class=\"newstop\" height=\"25\">\\n     \\u65b0\\u5317\\u5e02\\u571f\\u57ce\\u5340\\u5b89\\u548c\\u570b\\u6c11\\u5c0f\\u5b78\\n    </td>\\n</tr>, <tr class=\"award_table_tr_1\">\\n<th align=\"left\" bgcolor=\"#DAEBED\" class=\"T11b\" valign=\"middle\" width=\"200\">\\n     \\u55ae\\u4f4d\\u540d\\u7a31\\n    </th>\\n<td bgcolor=\"#EFF1F1\" class=\"newstop\" height=\"25\">\\n     \\u7e3d\\u52d9\\u8655\\n    </td>\\n</tr>, <tr class=\"award_table_tr_1\">\\n<th align=\"left\" bgcolor=\"#DAEBED\" class=\"T11b\" valign=\"middle\" width=\"200\">\\n     \\u6a5f\\u95dc\\u5730\\u5740\\n    </th>\\n<td bgcolor=\"#EFF1F1\" class=\"newstop\" height=\"25\">\\n     236\\u65b0\\u5317\\u5e02\\u571f\\u57ce\\u5340\\u5ef6\\u548c\\u8def23\\u865f\\n    </td>\\n</tr>, <tr class=\"award_table_tr_1\">\\n<th align=\"left\" bgcolor=\"#DAEBED\" class=\"T11b\" valign=\"middle\" width=\"200\">\\n     \\u806f\\u7d61\\u4eba\\n    </th>\\n<td bgcolor=\"#EFF1F1\" class=\"newstop\" height=\"25\">\\n     \\u6881\\u744b\\u7950\\n    </td>\\n</tr>, <tr class=\"award_table_tr_1\">\\n<th align=\"left\" bgcolor=\"#DAEBED\" class=\"T11b\" valign=\"middle\" width=\"200\">\\n     \\u806f\\u7d61\\u96fb\\u8a71\\n    </th>\\n<td bgcolor=\"#EFF1F1\" class=\"newstop\" height=\"25\">\\n     (02)22603451\\xa0\\u5206\\u6a5f\\xa0132\\n    </td>\\n</tr>, <tr class=\"award_table_tr_1\">\\n<th align=\"left\" bgcolor=\"#DAEBED\" class=\"T11b\" style=\"height: 25px\" valign=\"middle\" width=\"200\">\\n     \\u50b3\\u771f\\u865f\\u78bc\\n    </th>\\n<td bgcolor=\"#EFF1F1\" class=\"newstop\" height=\"25\">\\n     (02)22629672\\n    </td>\\n</tr>, <tr class=\"award_table_tr_2\">\\n<td align=\"center\" bgcolor=\"#FCD847\" class=\"form_head\" rowspan=\"27 \" valign=\"middle\" width=\"38\">\\n<span class=\"newstop\">\\n      \\u5df2\\n      <br/>\\n      \\u516c\\n      <br/>\\n      \\u544a\\n      <br/>\\n      \\u8cc7\\n      <br/>\\n      \\u6599\\n     </span>\\n</td>\\n</tr>, <tr class=\"award_table_tr_2\">\\n<th align=\"left\" bgcolor=\"#FFFF99\" class=\"T11b\" valign=\"middle\" width=\"200\">\\n     \\u6a19\\u6848\\u6848\\u865f\\n    </th>\\n<td bgcolor=\"#EFF1F1\" class=\"newstop\">\\n     AH1041002\\n    </td>\\n</tr>, <tr class=\"award_table_tr_2\">\\n<th align=\"left\" bgcolor=\"#FFFF99\" class=\"T11b\" valign=\"middle\" width=\"200\">\\n     \\u62db\\u6a19\\u65b9\\u5f0f\\n    </th>\\n<td bgcolor=\"#EFF1F1\" class=\"newstop\">\\n     \\u516c\\u958b\\u53d6\\u5f97\\u5831\\u50f9\\u55ae\\u6216\\u4f01\\u5283\\u66f8\\n     <div class=\"remind_msg\">\\n</div>\\n</td>\\n</tr>, <tr class=\"award_table_tr_2\">\\n<th align=\"left\" bgcolor=\"#FFFF99\" class=\"T11b\" valign=\"middle\" width=\"200\">\\n     \\u6c7a\\u6a19\\u65b9\\u5f0f\\n    </th>\\n<td bgcolor=\"#EFF1F1\" class=\"newstop\">\\n     \\u53c3\\u8003\\u6700\\u6709\\u5229\\u6a19\\u7cbe\\u795e\\n     <div class=\"remind_msg\">\\n</div>\\n</td>\\n</tr>, <tr class=\"award_table_tr_2\">\\n<th align=\"left\" bgcolor=\"#FFFF99\" class=\"T11b\" valign=\"middle\" width=\"200\">\\n     \\u65b0\\u589e\\u516c\\u544a\\u50b3\\u8f38\\u6b21\\u6578\\n    </th>\\n<td bgcolor=\"#EFF1F1\" class=\"newstop\">\\n     01\\n    </td>\\n</tr>, <tr class=\"award_table_tr_2\">\\n<th align=\"left\" bgcolor=\"#FFFF99\" class=\"T11b\" valign=\"middle\" width=\"200\">\\n     \\u662f\\u5426\\u4f9d\\u64da\\u63a1\\u8cfc\\u6cd5\\u7b2c106\\u689d\\u7b2c1\\u9805\\u7b2c1\\u6b3e\\u8fa6\\u7406\\n    </th>\\n<td bgcolor=\"#EFF1F1\" class=\"newstop\">\\n     \\u5426\\n    </td>\\n</tr>, <tr class=\"award_table_tr_2\">\\n<th align=\"left\" bgcolor=\"#FFFF99\" class=\"T11b\" valign=\"middle\" width=\"200\">\\n     \\u6a19\\u6848\\u540d\\u7a31\\n    </th>\\n<td bgcolor=\"#EFF1F1\" class=\"newstop\">\\n     104\\u5b78\\u5e74\\u5ea6\\u4e8c\\u3001\\u4e09\\u3001\\u56db\\u3001\\u4e94\\u5e74\\u7d1a\\u6821\\u5916\\u6559\\u5b78\\u59d4\\u8a17\\u670d\\u52d9\\n    </td>\\n</tr>, <tr class=\"award_table_tr_2\">\\n<th align=\"left\" bgcolor=\"#FFFF99\" class=\"T11b\" valign=\"middle\" width=\"200\">\\n     \\u6c7a\\u6a19\\u8cc7\\u6599\\u985e\\u5225\\n    </th>\\n<td bgcolor=\"#EFF1F1\" class=\"newstop\">\\n     \\u6c7a\\u6a19\\u516c\\u544a\\n    </td>\\n</tr>, <tr class=\"award_table_tr_2\">\\n<th align=\"left\" bgcolor=\"#FFFF99\" class=\"T11b\" valign=\"middle\" width=\"200\">\\n     \\u662f\\u5426\\u5c6c\\u5171\\u540c\\u4f9b\\u61c9\\u5951\\u7d04\\u63a1\\u8cfc\\n    </th>\\n<td bgcolor=\"#EFF1F1\" class=\"newstop\">\\n     \\u5426\\n    </td>\\n</tr>, <tr class=\"award_table_tr_2\">\\n<th align=\"left\" bgcolor=\"#FFFF99\" class=\"T11b\" valign=\"middle\" width=\"200\">\\n     \\u662f\\u5426\\u5c6c\\u4e8c\\u4ee5\\u4e0a\\u6a5f\\u95dc\\u4e4b\\u806f\\u5408\\u63a1\\u8cfc(\\u4e0d\\u9069\\u7528\\u5171\\u540c\\u4f9b\\u61c9\\u5951\\u7d04\\u898f\\u5b9a)\\n    </th>\\n<td bgcolor=\"#EFF1F1\" class=\"newstop\">\\n     \\u662f\\n    </td>\\n</tr>, <tr class=\"award_table_tr_2\">\\n<th align=\"left\" bgcolor=\"#FFFF99\" class=\"T11b\" valign=\"middle\" width=\"200\">\\n     \\u662f\\u5426\\u8907\\u6578\\u6c7a\\u6a19\\n    </th>\\n<td bgcolor=\"#EFF1F1\" class=\"newstop\">\\n     \\u662f\\n    </td>\\n</tr>, <tr class=\"award_table_tr_2\">\\n<th align=\"left\" bgcolor=\"#FFFF99\" class=\"T11b\" valign=\"middle\" width=\"200\">\\n     \\u6a19\\u7684\\u5206\\u985e\\n    </th>\\n<td bgcolor=\"#EFF1F1\" class=\"newstop\">\\n     &lt;\\u52de\\u52d9\\u985e&gt;    \\r\\n                            74\\r\\n                            \\u652f\\u63f4\\u53ca\\u8f14\\u52a9\\u904b\\u8f38\\u670d\\u52d9\\n    </td>\\n</tr>, <tr class=\"award_table_tr_2\">\\n<th align=\"left\" bgcolor=\"#FFFF99\" class=\"T11b\" valign=\"middle\" width=\"200\">\\n     \\u662f\\u5426\\u5c6c\\u7d71\\u5305\\n    </th>\\n<td bgcolor=\"#EFF1F1\" class=\"newstop\">\\n     \\u5426\\n    </td>\\n</tr>, <tr class=\"award_table_tr_2\">\\n<th align=\"left\" bgcolor=\"#FFFF99\" class=\"T11b\" valign=\"middle\" width=\"200\">\\n     \\u662f\\u5426\\u61c9\\u4f9d\\u516c\\u5171\\u5de5\\u7a0b\\u5c08\\u696d\\u6280\\u5e2b\\u7c3d\\u8b49\\u898f\\u5247\\u5be6\\u65bd\\u6280\\u5e2b\\u7c3d\\u8b49\\n    </th>\\n<td bgcolor=\"#EFF1F1\" class=\"newstop\">\\n     \\u5426\\n    </td>\\n</tr>, <tr class=\"award_table_tr_2\">\\n<th align=\"left\" bgcolor=\"#FFFF99\" class=\"T11b\" valign=\"middle\" width=\"200\">\\n     \\u958b\\u6a19\\u6642\\u9593\\n    </th>\\n<td bgcolor=\"#EFF1F1\" class=\"newstop\">\\n     104/10/02 10:00\\n    </td>\\n</tr>, <tr class=\"award_table_tr_2\">\\n<th align=\"left\" bgcolor=\"#FFFF99\" class=\"T11b\" valign=\"middle\" width=\"200\">\\n     \\u539f\\u516c\\u544a\\u65e5\\u671f\\n    </th>\\n<td bgcolor=\"#EFF1F1\" class=\"newstop\">\\n     104/09/22\\n     <span>\\n<span class=\"remind_msg\">\\n       \\u539f\\u516c\\u544a\\u65e5\\u671f\\u4fc2\\u6307\\u6700\\u8fd11\\u6b21\\u62db\\u6a19\\u516c\\u544a\\u6216\\u66f4\\u6b63\\u65e5\\u671f\\n      </span>\\n</span>\\n</td>\\n</tr>, <tr class=\"award_table_tr_2\">\\n<th align=\"left\" bgcolor=\"#FFFF99\" class=\"T11b\" valign=\"middle\" width=\"200\">\\n     \\u63a1\\u8cfc\\u91d1\\u984d\\u7d1a\\u8ddd\\n    </th>\\n<td bgcolor=\"#EFF1F1\" class=\"newstop\">\\n     \\u672a\\u9054\\u516c\\u544a\\u91d1\\u984d\\n     <div class=\"remind_msg\">\\n</div>\\n</td>\\n</tr>, <tr class=\"award_table_tr_2\">\\n<th align=\"left\" bgcolor=\"#FFFF99\" class=\"T11b\" valign=\"middle\" width=\"200\">\\n     \\u8fa6\\u7406\\u65b9\\u5f0f\\n    </th>\\n<td bgcolor=\"#EFF1F1\" class=\"newstop\">\\n     \\u81ea\\u8fa6\\n    </td>\\n</tr>, <tr class=\"award_table_tr_2\">\\n<th align=\"left\" bgcolor=\"#FFFF99\" class=\"T11b\" valign=\"middle\" width=\"200\">\\n     \\u9810\\u7b97\\u91d1\\u984d\\u662f\\u5426\\u516c\\u958b\\n    </th>\\n<td bgcolor=\"#EFF1F1\" class=\"newstop\">\\n     \\u662f\\n    </td>\\n</tr>, <tr class=\"award_table_tr_2\">\\n<th align=\"left\" bgcolor=\"#FFFF99\" class=\"T11b\" valign=\"middle\" width=\"200\">\\n     \\u9810\\u7b97\\u91d1\\u984d\\n    </th>\\n<td bgcolor=\"#EFF1F1\" class=\"newstop\">\\n     895,450\\u5143\\n    </td>\\n</tr>, <tr class=\"award_table_tr_2\">\\n<th align=\"left\" bgcolor=\"#FFFF99\" class=\"T11b\" valign=\"middle\" width=\"200\">\\n     \\u662f\\u5426\\u53d7\\u6a5f\\u95dc\\u88dc\\u52a9\\n    </th>\\n<td bgcolor=\"#EFF1F1\" class=\"newstop\">\\n     \\u5426\\n    </td>\\n</tr>, <tr class=\"award_table_tr_2\">\\n<th align=\"left\" bgcolor=\"#FFFF99\" class=\"T11b\" valign=\"middle\" width=\"200\">\\n     \\u5c65\\u7d04\\u5730\\u9ede\\n    </th>\\n<td bgcolor=\"#EFF1F1\" class=\"newstop\">\\n     \\u6843\\u5712\\u5e02(\\u975e\\u539f\\u4f4f\\u6c11\\u5730\\u5340)\\n    </td>\\n</tr>, <tr class=\"award_table_tr_2\">\\n<th align=\"left\" bgcolor=\"#FFFF99\" class=\"T11b\" valign=\"middle\" width=\"200\">\\n     \\u5c65\\u7d04\\u5730\\u9ede\\uff08\\u542b\\u5730\\u5340\\uff09\\n    </th>\\n<td bgcolor=\"#EFF1F1\" class=\"newstop\">\\n     \\u6843\\u5712\\u5e02\\uff0d\\u5168\\u5340\\n    </td>\\n</tr>, <tr class=\"award_table_tr_2\">\\n<th align=\"left\" bgcolor=\"#FFFF99\" class=\"T11b\" valign=\"middle\" width=\"200\">\\n     \\u662f\\u5426\\u65bc\\u62db\\u6a19\\u6587\\u4ef6\\u8f09\\u660e\\u512a\\u5148\\u6c7a\\u6a19\\u4e88\\u8eab\\u5fc3\\u969c\\u7919\\u798f\\u5229\\u6a5f\\u69cb\\u5718\\u9ad4\\u6216\\u5e87\\u8b77\\u5de5\\u5834\\n    </th>\\n<td bgcolor=\"#EFF1F1\" class=\"newstop\">\\n     \\u5426\\n    </td>\\n</tr>, <tr class=\"award_table_tr_2\">\\n<th align=\"left\" bgcolor=\"#FFFF99\" class=\"T11b\" valign=\"middle\" width=\"200\">\\n     \\u662f\\u5426\\u542b\\u7279\\u5225\\u9810\\u7b97\\n    </th>\\n<td bgcolor=\"#EFF1F1\" class=\"newstop\">\\n     \\u5426\\n    </td>\\n</tr>, <tr class=\"award_table_tr_2\">\\n<th align=\"left\" bgcolor=\"#FFFF99\" class=\"T11b\" valign=\"middle\" width=\"200\">\\n     \\u6b78\\u5c6c\\u8a08\\u756b\\u985e\\u5225\\n    </th>\\n<td bgcolor=\"#EFF1F1\" class=\"newstop\">\\n     \\u975e\\u5c6c\\u611b\\u53f0\\u5341\\u4e8c\\u9805\\u8a08\\u756b\\n    </td>\\n</tr>, <tr class=\"award_table_tr_2\">\\n<th align=\"left\" bgcolor=\"#FFFF99\" class=\"T11b\" valign=\"middle\" width=\"200\">\\n     \\u672c\\u6848\\u63a1\\u8cfc\\u5951\\u7d04\\u662f\\u5426\\u63a1\\u7528\\u4e3b\\u7ba1\\u6a5f\\u95dc\\u8a02\\u5b9a\\u4e4b\\u7bc4\\u672c\\n    </th>\\n<td bgcolor=\"#EFF1F1\" class=\"newstop\">\\n     \\u662f\\n    </td>\\n</tr>, <tr class=\"award_table_tr_3\">\\n<td align=\"center\" bgcolor=\"#F5BF65\" rowspan=\"2\" valign=\"middle\" width=\"38\">\\n<span class=\"newstop\">\\n      \\u6295\\n      <br/>\\n      \\u6a19\\n      <br/>\\n      \\u5ee0\\n      <br/>\\n      \\u5546\\n     </span>\\n</td>\\n</tr>, <tr class=\"award_table_tr_3\">\\n<td colspan=\"3\" style=\"padding-top:0px; padding-bottom:0px; padding-right:0px; padding-left:0px;\">\\n<table bgcolor=\"#F5BF65\" border=\"1\" bordercolor=\"#F5BF65\" cellpadding=\"1\" cellspacing=\"1\" class=\"table_block tender_table\" height=\"100%\" style=\"border-collapse:collapse;\" summary=\"*\" width=\"100%\">\\n<tr>\\n<th align=\"left\" bgcolor=\"#ffdd83\" class=\"T11b\" valign=\"middle\" width=\"200\">\\n        \\u6295\\u6a19\\u5ee0\\u5546\\u5bb6\\u6578\\n       </th>\\n<td bgcolor=\"#EFF1F1\" class=\"newstop\" height=\"25\">\\n        3\\n       </td>\\n</tr>\\n<tr>\\n<th align=\"left\" bgcolor=\"#ffdd83\" class=\"T11b\" valign=\"middle\" width=\"200\">\\n        \\u6295\\u6a19\\u5ee0\\u55461\\n       </th>\\n<td bgcolor=\"#EFF1F1\" class=\"newstop\" height=\"25\">\\n</td>\\n</tr>\\n<tr>\\n<th align=\"left\" bgcolor=\"#ffdd83\" class=\"T11b\" valign=\"middle\" width=\"200\">\\n        \\u5ee0\\u5546\\u4ee3\\u78bc\\n       </th>\\n<td bgcolor=\"#EFF1F1\" class=\"newstop\" height=\"25\">\\n        28290536\\n       </td>\\n</tr>\\n<tr>\\n<th align=\"left\" bgcolor=\"#ffdd83\" class=\"T11b\" valign=\"middle\" width=\"200\">\\n        \\u5ee0\\u5546\\u540d\\u7a31\\n       </th>\\n<td bgcolor=\"#EFF1F1\" class=\"newstop\">\\n        \\u5357\\u548c\\u570b\\u969b\\u65c5\\u884c\\u793e\\u6709\\u9650\\u516c\\u53f8\\u6843\\u5712\\u5206\\u516c\\u53f8\\n       </td>\\n</tr>\\n<tr>\\n<th align=\"left\" bgcolor=\"#ffdd83\" class=\"T11b\" valign=\"middle\" width=\"200\">\\n        \\u662f\\u5426\\u5f97\\u6a19\\n       </th>\\n<td bgcolor=\"#EFF1F1\" class=\"newstop\">\\n        \\u662f\\n       </td>\\n</tr>\\n<tr>\\n<th align=\"left\" bgcolor=\"#ffdd83\" class=\"T11b\" valign=\"middle\" width=\"200\">\\n        \\u7d44\\u7e54\\u578b\\u614b\\n       </th>\\n<td bgcolor=\"#EFF1F1\" class=\"newstop\" height=\"7\">\\n        \\u516c\\u53f8\\u767b\\u8a18\\n       </td>\\n</tr>\\n<tr>\\n<th align=\"left\" bgcolor=\"#ffdd83\" class=\"T11b\" valign=\"middle\" width=\"200\">\\n        \\u5ee0\\u5546\\u696d\\u5225\\n       </th>\\n<td bgcolor=\"#EFF1F1\" class=\"newstop\" height=\"7\">\\n        \\u5176\\u4ed6\\n       </td>\\n</tr>\\n<tr>\\n<th align=\"left\" bgcolor=\"#ffdd83\" class=\"T11b\" valign=\"middle\" width=\"200\">\\n        \\u5ee0\\u5546\\u5730\\u5740\\n       </th>\\n<td bgcolor=\"#EFF1F1\" class=\"newstop\">\\n        330\\u6843\\u5712\\u5e02\\u6843\\u5712\\u5340\\u6587\\u4e2d\\u8def745\\u865f3\\u6a13\\n       </td>\\n</tr>\\n<tr>\\n<th align=\"left\" bgcolor=\"#ffdd83\" class=\"T11b\" valign=\"middle\" width=\"200\">\\n        \\u5ee0\\u5546\\u96fb\\u8a71\\n       </th>\\n<td bgcolor=\"#EFF1F1\" class=\"newstop\" height=\"25\">\\n        (03)\\r\\n\\t\\t\\t\\r\\n\\t\\t\\t\\r\\n\\t\\t\\t\\t3700303\\n       </td>\\n</tr>\\n<tr>\\n<th align=\"left\" bgcolor=\"#ffdd83\" class=\"T11b\" valign=\"middle\" width=\"200\">\\n        \\u6c7a\\u6a19\\u91d1\\u984d\\n       </th>\\n<td bgcolor=\"#EFF1F1\" class=\"newstop\" height=\"25\">\\n<span style=\"color:red;font-weight:bold\" title=\"\\u524d\\u6b21\\u516c\\u544a\\u70ba\\uff1a271,250\">\\n         266,000\\n        </span>\\n        \\u5143\\n       </td>\\n</tr>\\n<tr>\\n<th align=\"left\" bgcolor=\"#ffdd83\" class=\"T11b\" valign=\"middle\" width=\"200\">\\n        \\u5f97\\u6a19\\u5ee0\\u5546\\u570b\\u5225\\n       </th>\\n<td bgcolor=\"#EFF1F1\" class=\"newstop\" height=\"25\">\\n        \\u4e2d\\u83ef\\u6c11\\u570b(Republic of China (Taiwan))\\n       </td>\\n</tr>\\n<tr>\\n<th align=\"left\" bgcolor=\"#ffdd83\" class=\"T11b\" valign=\"middle\" width=\"200\">\\n        \\u662f\\u5426\\u70ba\\u4e2d\\u5c0f\\u4f01\\u696d\\n       </th>\\n<td bgcolor=\"#EFF1F1\" class=\"newstop\" height=\"25\">\\n        \\u662f\\n       </td>\\n</tr>\\n<tr>\\n<th align=\"left\" bgcolor=\"#ffdd83\" class=\"T11b\" valign=\"middle\" width=\"200\">\\n        \\u5c65\\u7d04\\u8d77\\u8fc4\\u65e5\\u671f\\n       </th>\\n<td bgcolor=\"#EFF1F1\" class=\"newstop\" height=\"25\">\\n        104/10/08\\uff0d104/12/31\\r\\n\\t\\t\\t\\t(\\u9810\\u4f30)\\n       </td>\\n</tr>\\n<tr>\\n<th align=\"left\" bgcolor=\"#ffdd83\" class=\"T11b\" valign=\"middle\" width=\"200\">\\n        \\u96c7\\u7528\\u54e1\\u5de5\\u7e3d\\u4eba\\u6578\\u662f\\u5426\\n        <br>\\n         \\u8d85\\u904e100\\u4eba\\n        </br>\\n</th>\\n<td bgcolor=\"#EFF1F1\" class=\"newstop\" height=\"25\">\\n        \\u5426\\n       </td>\\n</tr>\\n<!-- isEmployeeOver100 -->\\n<!-- isObtain -->\\n<!-- isNotObtain end -->\\n<tr>\\n<th align=\"left\" bgcolor=\"#ffdd83\" class=\"T11b\" valign=\"middle\" width=\"200\">\\n        \\u6295\\u6a19\\u5ee0\\u55462\\n       </th>\\n<td bgcolor=\"#EFF1F1\" class=\"newstop\" height=\"25\">\\n</td>\\n</tr>\\n<tr>\\n<th align=\"left\" bgcolor=\"#ffdd83\" class=\"T11b\" valign=\"middle\" width=\"200\">\\n        \\u5ee0\\u5546\\u4ee3\\u78bc\\n       </th>\\n<td bgcolor=\"#EFF1F1\" class=\"newstop\" height=\"25\">\\n        23059116\\n       </td>\\n</tr>\\n<tr>\\n<th align=\"left\" bgcolor=\"#ffdd83\" class=\"T11b\" valign=\"middle\" width=\"200\">\\n        \\u5ee0\\u5546\\u540d\\u7a31\\n       </th>\\n<td bgcolor=\"#EFF1F1\" class=\"newstop\">\\n        \\u5409\\u8c61\\u65c5\\u884c\\u793e\\u80a1\\u4efd\\u6709\\u9650\\u516c\\u53f8\\n       </td>\\n</tr>\\n<tr>\\n<th align=\"left\" bgcolor=\"#ffdd83\" class=\"T11b\" valign=\"middle\" width=\"200\">\\n        \\u662f\\u5426\\u5f97\\u6a19\\n       </th>\\n<td bgcolor=\"#EFF1F1\" class=\"newstop\">\\n        \\u662f\\n       </td>\\n</tr>\\n<tr>\\n<th align=\"left\" bgcolor=\"#ffdd83\" class=\"T11b\" valign=\"middle\" width=\"200\">\\n        \\u7d44\\u7e54\\u578b\\u614b\\n       </th>\\n<td bgcolor=\"#EFF1F1\" class=\"newstop\" height=\"7\">\\n        \\u516c\\u53f8\\u767b\\u8a18\\n       </td>\\n</tr>\\n<tr>\\n<th align=\"left\" bgcolor=\"#ffdd83\" class=\"T11b\" valign=\"middle\" width=\"200\">\\n        \\u5ee0\\u5546\\u696d\\u5225\\n       </th>\\n<td bgcolor=\"#EFF1F1\" class=\"newstop\" height=\"7\">\\n        \\u5176\\u4ed6\\n       </td>\\n</tr>\\n<tr>\\n<th align=\"left\" bgcolor=\"#ffdd83\" class=\"T11b\" valign=\"middle\" width=\"200\">\\n        \\u5ee0\\u5546\\u5730\\u5740\\n       </th>\\n<td bgcolor=\"#EFF1F1\" class=\"newstop\">\\n        116\\u81fa\\u5317\\u5e02\\u6587\\u5c71\\u5340\\u666f\\u8208\\u8def21\\u865f2\\u6a13\\n       </td>\\n</tr>\\n<tr>\\n<th align=\"left\" bgcolor=\"#ffdd83\" class=\"T11b\" valign=\"middle\" width=\"200\">\\n        \\u5ee0\\u5546\\u96fb\\u8a71\\n       </th>\\n<td bgcolor=\"#EFF1F1\" class=\"newstop\" height=\"25\">\\n        (02)\\r\\n\\t\\t\\t\\r\\n\\t\\t\\t\\r\\n\\t\\t\\t\\t89312008\\n       </td>\\n</tr>\\n<tr>\\n<th align=\"left\" bgcolor=\"#ffdd83\" class=\"T11b\" valign=\"middle\" width=\"200\">\\n        \\u6c7a\\u6a19\\u91d1\\u984d\\n       </th>\\n<td bgcolor=\"#EFF1F1\" class=\"newstop\" height=\"25\">\\n        216,000\\u5143\\n       </td>\\n</tr>\\n<tr>\\n<th align=\"left\" bgcolor=\"#ffdd83\" class=\"T11b\" valign=\"middle\" width=\"200\">\\n        \\u5f97\\u6a19\\u5ee0\\u5546\\u570b\\u5225\\n       </th>\\n<td bgcolor=\"#EFF1F1\" class=\"newstop\" height=\"25\">\\n        \\u4e2d\\u83ef\\u6c11\\u570b(Republic of China (Taiwan))\\n       </td>\\n</tr>\\n<tr>\\n<th align=\"left\" bgcolor=\"#ffdd83\" class=\"T11b\" valign=\"middle\" width=\"200\">\\n        \\u662f\\u5426\\u70ba\\u4e2d\\u5c0f\\u4f01\\u696d\\n       </th>\\n<td bgcolor=\"#EFF1F1\" class=\"newstop\" height=\"25\">\\n        \\u662f\\n       </td>\\n</tr>\\n<tr>\\n<th align=\"left\" bgcolor=\"#ffdd83\" class=\"T11b\" valign=\"middle\" width=\"200\">\\n        \\u5c65\\u7d04\\u8d77\\u8fc4\\u65e5\\u671f\\n       </th>\\n<td bgcolor=\"#EFF1F1\" class=\"newstop\" height=\"25\">\\n        104/10/08\\uff0d104/12/31\\r\\n\\t\\t\\t\\t(\\u9810\\u4f30)\\n       </td>\\n</tr>\\n<tr>\\n<th align=\"left\" bgcolor=\"#ffdd83\" class=\"T11b\" valign=\"middle\" width=\"200\">\\n        \\u96c7\\u7528\\u54e1\\u5de5\\u7e3d\\u4eba\\u6578\\u662f\\u5426\\n        <br>\\n         \\u8d85\\u904e100\\u4eba\\n        </br>\\n</th>\\n<td bgcolor=\"#EFF1F1\" class=\"newstop\" height=\"25\">\\n        \\u5426\\n       </td>\\n</tr>\\n<!-- isEmployeeOver100 -->\\n<!-- isObtain -->\\n<!-- isNotObtain end -->\\n<tr>\\n<th align=\"left\" bgcolor=\"#ffdd83\" class=\"T11b\" valign=\"middle\" width=\"200\">\\n        \\u6295\\u6a19\\u5ee0\\u55463\\n       </th>\\n<td bgcolor=\"#EFF1F1\" class=\"newstop\" height=\"25\">\\n</td>\\n</tr>\\n<tr>\\n<th align=\"left\" bgcolor=\"#ffdd83\" class=\"T11b\" valign=\"middle\" width=\"200\">\\n        \\u5ee0\\u5546\\u4ee3\\u78bc\\n       </th>\\n<td bgcolor=\"#EFF1F1\" class=\"newstop\" height=\"25\">\\n        80069682\\n       </td>\\n</tr>\\n<tr>\\n<th align=\"left\" bgcolor=\"#ffdd83\" class=\"T11b\" valign=\"middle\" width=\"200\">\\n        \\u5ee0\\u5546\\u540d\\u7a31\\n       </th>\\n<td bgcolor=\"#EFF1F1\" class=\"newstop\">\\n        \\u76ca\\u7fa4\\u65c5\\u884c\\u793e\\u6709\\u9650\\u516c\\u53f8\\n       </td>\\n</tr>\\n<tr>\\n<th align=\"left\" bgcolor=\"#ffdd83\" class=\"T11b\" valign=\"middle\" width=\"200\">\\n        \\u662f\\u5426\\u5f97\\u6a19\\n       </th>\\n<td bgcolor=\"#EFF1F1\" class=\"newstop\">\\n        \\u662f\\n       </td>\\n</tr>\\n<tr>\\n<th align=\"left\" bgcolor=\"#ffdd83\" class=\"T11b\" valign=\"middle\" width=\"200\">\\n        \\u7d44\\u7e54\\u578b\\u614b\\n       </th>\\n<td bgcolor=\"#EFF1F1\" class=\"newstop\" height=\"7\">\\n        \\u516c\\u53f8\\u767b\\u8a18\\n       </td>\\n</tr>\\n<tr>\\n<th align=\"left\" bgcolor=\"#ffdd83\" class=\"T11b\" valign=\"middle\" width=\"200\">\\n        \\u5ee0\\u5546\\u696d\\u5225\\n       </th>\\n<td bgcolor=\"#EFF1F1\" class=\"newstop\" height=\"7\">\\n        \\u5176\\u4ed6\\n       </td>\\n</tr>\\n<tr>\\n<th align=\"left\" bgcolor=\"#ffdd83\" class=\"T11b\" valign=\"middle\" width=\"200\">\\n        \\u5ee0\\u5546\\u5730\\u5740\\n       </th>\\n<td bgcolor=\"#EFF1F1\" class=\"newstop\">\\n        247\\u65b0\\u5317\\u5e02\\u8606\\u6d32\\u5340\\u6b63\\u7fa9\\u91cc\\u9577\\u69ae\\u8def201\\u865f2\\u6a13\\n       </td>\\n</tr>\\n<tr>\\n<th align=\"left\" bgcolor=\"#ffdd83\" class=\"T11b\" valign=\"middle\" width=\"200\">\\n        \\u5ee0\\u5546\\u96fb\\u8a71\\n       </th>\\n<td bgcolor=\"#EFF1F1\" class=\"newstop\" height=\"25\">\\n        (02)\\r\\n\\t\\t\\t\\r\\n\\t\\t\\t\\r\\n\\t\\t\\t\\t82853524\\n       </td>\\n</tr>\\n<tr>\\n<th align=\"left\" bgcolor=\"#ffdd83\" class=\"T11b\" valign=\"middle\" width=\"200\">\\n        \\u6c7a\\u6a19\\u91d1\\u984d\\n       </th>\\n<td bgcolor=\"#EFF1F1\" class=\"newstop\" height=\"25\">\\n        189,000\\u5143\\n       </td>\\n</tr>\\n<tr>\\n<th align=\"left\" bgcolor=\"#ffdd83\" class=\"T11b\" valign=\"middle\" width=\"200\">\\n        \\u5f97\\u6a19\\u5ee0\\u5546\\u570b\\u5225\\n       </th>\\n<td bgcolor=\"#EFF1F1\" class=\"newstop\" height=\"25\">\\n        \\u4e2d\\u83ef\\u6c11\\u570b(Republic of China (Taiwan))\\n       </td>\\n</tr>\\n<tr>\\n<th align=\"left\" bgcolor=\"#ffdd83\" class=\"T11b\" valign=\"middle\" width=\"200\">\\n        \\u662f\\u5426\\u70ba\\u4e2d\\u5c0f\\u4f01\\u696d\\n       </th>\\n<td bgcolor=\"#EFF1F1\" class=\"newstop\" height=\"25\">\\n        \\u662f\\n       </td>\\n</tr>\\n<tr>\\n<th align=\"left\" bgcolor=\"#ffdd83\" class=\"T11b\" valign=\"middle\" width=\"200\">\\n        \\u5c65\\u7d04\\u8d77\\u8fc4\\u65e5\\u671f\\n       </th>\\n<td bgcolor=\"#EFF1F1\" class=\"newstop\" height=\"25\">\\n        104/10/08\\uff0d104/12/31\\r\\n\\t\\t\\t\\t(\\u9810\\u4f30)\\n       </td>\\n</tr>\\n<tr>\\n<th align=\"left\" bgcolor=\"#ffdd83\" class=\"T11b\" valign=\"middle\" width=\"200\">\\n        \\u96c7\\u7528\\u54e1\\u5de5\\u7e3d\\u4eba\\u6578\\u662f\\u5426\\n        <br>\\n         \\u8d85\\u904e100\\u4eba\\n        </br>\\n</th>\\n<td bgcolor=\"#EFF1F1\" class=\"newstop\" height=\"25\">\\n        \\u5426\\n       </td>\\n</tr>\\n<!-- isEmployeeOver100 -->\\n<!-- isObtain -->\\n<!-- isNotObtain end -->\\n</table>\\n</td>\\n</tr>, <tr>\\n<th align=\"left\" bgcolor=\"#ffdd83\" class=\"T11b\" valign=\"middle\" width=\"200\">\\n        \\u6295\\u6a19\\u5ee0\\u5546\\u5bb6\\u6578\\n       </th>\\n<td bgcolor=\"#EFF1F1\" class=\"newstop\" height=\"25\">\\n        3\\n       </td>\\n</tr>, <tr>\\n<th align=\"left\" bgcolor=\"#ffdd83\" class=\"T11b\" valign=\"middle\" width=\"200\">\\n        \\u6295\\u6a19\\u5ee0\\u55461\\n       </th>\\n<td bgcolor=\"#EFF1F1\" class=\"newstop\" height=\"25\">\\n</td>\\n</tr>, <tr>\\n<th align=\"left\" bgcolor=\"#ffdd83\" class=\"T11b\" valign=\"middle\" width=\"200\">\\n        \\u5ee0\\u5546\\u4ee3\\u78bc\\n       </th>\\n<td bgcolor=\"#EFF1F1\" class=\"newstop\" height=\"25\">\\n        28290536\\n       </td>\\n</tr>, <tr>\\n<th align=\"left\" bgcolor=\"#ffdd83\" class=\"T11b\" valign=\"middle\" width=\"200\">\\n        \\u5ee0\\u5546\\u540d\\u7a31\\n       </th>\\n<td bgcolor=\"#EFF1F1\" class=\"newstop\">\\n        \\u5357\\u548c\\u570b\\u969b\\u65c5\\u884c\\u793e\\u6709\\u9650\\u516c\\u53f8\\u6843\\u5712\\u5206\\u516c\\u53f8\\n       </td>\\n</tr>, <tr>\\n<th align=\"left\" bgcolor=\"#ffdd83\" class=\"T11b\" valign=\"middle\" width=\"200\">\\n        \\u662f\\u5426\\u5f97\\u6a19\\n       </th>\\n<td bgcolor=\"#EFF1F1\" class=\"newstop\">\\n        \\u662f\\n       </td>\\n</tr>, <tr>\\n<th align=\"left\" bgcolor=\"#ffdd83\" class=\"T11b\" valign=\"middle\" width=\"200\">\\n        \\u7d44\\u7e54\\u578b\\u614b\\n       </th>\\n<td bgcolor=\"#EFF1F1\" class=\"newstop\" height=\"7\">\\n        \\u516c\\u53f8\\u767b\\u8a18\\n       </td>\\n</tr>, <tr>\\n<th align=\"left\" bgcolor=\"#ffdd83\" class=\"T11b\" valign=\"middle\" width=\"200\">\\n        \\u5ee0\\u5546\\u696d\\u5225\\n       </th>\\n<td bgcolor=\"#EFF1F1\" class=\"newstop\" height=\"7\">\\n        \\u5176\\u4ed6\\n       </td>\\n</tr>, <tr>\\n<th align=\"left\" bgcolor=\"#ffdd83\" class=\"T11b\" valign=\"middle\" width=\"200\">\\n        \\u5ee0\\u5546\\u5730\\u5740\\n       </th>\\n<td bgcolor=\"#EFF1F1\" class=\"newstop\">\\n        330\\u6843\\u5712\\u5e02\\u6843\\u5712\\u5340\\u6587\\u4e2d\\u8def745\\u865f3\\u6a13\\n       </td>\\n</tr>, <tr>\\n<th align=\"left\" bgcolor=\"#ffdd83\" class=\"T11b\" valign=\"middle\" width=\"200\">\\n        \\u5ee0\\u5546\\u96fb\\u8a71\\n       </th>\\n<td bgcolor=\"#EFF1F1\" class=\"newstop\" height=\"25\">\\n        (03)\\r\\n\\t\\t\\t\\r\\n\\t\\t\\t\\r\\n\\t\\t\\t\\t3700303\\n       </td>\\n</tr>, <tr>\\n<th align=\"left\" bgcolor=\"#ffdd83\" class=\"T11b\" valign=\"middle\" width=\"200\">\\n        \\u6c7a\\u6a19\\u91d1\\u984d\\n       </th>\\n<td bgcolor=\"#EFF1F1\" class=\"newstop\" height=\"25\">\\n<span style=\"color:red;font-weight:bold\" title=\"\\u524d\\u6b21\\u516c\\u544a\\u70ba\\uff1a271,250\">\\n         266,000\\n        </span>\\n        \\u5143\\n       </td>\\n</tr>, <tr>\\n<th align=\"left\" bgcolor=\"#ffdd83\" class=\"T11b\" valign=\"middle\" width=\"200\">\\n        \\u5f97\\u6a19\\u5ee0\\u5546\\u570b\\u5225\\n       </th>\\n<td bgcolor=\"#EFF1F1\" class=\"newstop\" height=\"25\">\\n        \\u4e2d\\u83ef\\u6c11\\u570b(Republic of China (Taiwan))\\n       </td>\\n</tr>, <tr>\\n<th align=\"left\" bgcolor=\"#ffdd83\" class=\"T11b\" valign=\"middle\" width=\"200\">\\n        \\u662f\\u5426\\u70ba\\u4e2d\\u5c0f\\u4f01\\u696d\\n       </th>\\n<td bgcolor=\"#EFF1F1\" class=\"newstop\" height=\"25\">\\n        \\u662f\\n       </td>\\n</tr>, <tr>\\n<th align=\"left\" bgcolor=\"#ffdd83\" class=\"T11b\" valign=\"middle\" width=\"200\">\\n        \\u5c65\\u7d04\\u8d77\\u8fc4\\u65e5\\u671f\\n       </th>\\n<td bgcolor=\"#EFF1F1\" class=\"newstop\" height=\"25\">\\n        104/10/08\\uff0d104/12/31\\r\\n\\t\\t\\t\\t(\\u9810\\u4f30)\\n       </td>\\n</tr>, <tr>\\n<th align=\"left\" bgcolor=\"#ffdd83\" class=\"T11b\" valign=\"middle\" width=\"200\">\\n        \\u96c7\\u7528\\u54e1\\u5de5\\u7e3d\\u4eba\\u6578\\u662f\\u5426\\n        <br>\\n         \\u8d85\\u904e100\\u4eba\\n        </br>\\n</th>\\n<td bgcolor=\"#EFF1F1\" class=\"newstop\" height=\"25\">\\n        \\u5426\\n       </td>\\n</tr>, <tr>\\n<th align=\"left\" bgcolor=\"#ffdd83\" class=\"T11b\" valign=\"middle\" width=\"200\">\\n        \\u6295\\u6a19\\u5ee0\\u55462\\n       </th>\\n<td bgcolor=\"#EFF1F1\" class=\"newstop\" height=\"25\">\\n</td>\\n</tr>, <tr>\\n<th align=\"left\" bgcolor=\"#ffdd83\" class=\"T11b\" valign=\"middle\" width=\"200\">\\n        \\u5ee0\\u5546\\u4ee3\\u78bc\\n       </th>\\n<td bgcolor=\"#EFF1F1\" class=\"newstop\" height=\"25\">\\n        23059116\\n       </td>\\n</tr>, <tr>\\n<th align=\"left\" bgcolor=\"#ffdd83\" class=\"T11b\" valign=\"middle\" width=\"200\">\\n        \\u5ee0\\u5546\\u540d\\u7a31\\n       </th>\\n<td bgcolor=\"#EFF1F1\" class=\"newstop\">\\n        \\u5409\\u8c61\\u65c5\\u884c\\u793e\\u80a1\\u4efd\\u6709\\u9650\\u516c\\u53f8\\n       </td>\\n</tr>, <tr>\\n<th align=\"left\" bgcolor=\"#ffdd83\" class=\"T11b\" valign=\"middle\" width=\"200\">\\n        \\u662f\\u5426\\u5f97\\u6a19\\n       </th>\\n<td bgcolor=\"#EFF1F1\" class=\"newstop\">\\n        \\u662f\\n       </td>\\n</tr>, <tr>\\n<th align=\"left\" bgcolor=\"#ffdd83\" class=\"T11b\" valign=\"middle\" width=\"200\">\\n        \\u7d44\\u7e54\\u578b\\u614b\\n       </th>\\n<td bgcolor=\"#EFF1F1\" class=\"newstop\" height=\"7\">\\n        \\u516c\\u53f8\\u767b\\u8a18\\n       </td>\\n</tr>, <tr>\\n<th align=\"left\" bgcolor=\"#ffdd83\" class=\"T11b\" valign=\"middle\" width=\"200\">\\n        \\u5ee0\\u5546\\u696d\\u5225\\n       </th>\\n<td bgcolor=\"#EFF1F1\" class=\"newstop\" height=\"7\">\\n        \\u5176\\u4ed6\\n       </td>\\n</tr>, <tr>\\n<th align=\"left\" bgcolor=\"#ffdd83\" class=\"T11b\" valign=\"middle\" width=\"200\">\\n        \\u5ee0\\u5546\\u5730\\u5740\\n       </th>\\n<td bgcolor=\"#EFF1F1\" class=\"newstop\">\\n        116\\u81fa\\u5317\\u5e02\\u6587\\u5c71\\u5340\\u666f\\u8208\\u8def21\\u865f2\\u6a13\\n       </td>\\n</tr>, <tr>\\n<th align=\"left\" bgcolor=\"#ffdd83\" class=\"T11b\" valign=\"middle\" width=\"200\">\\n        \\u5ee0\\u5546\\u96fb\\u8a71\\n       </th>\\n<td bgcolor=\"#EFF1F1\" class=\"newstop\" height=\"25\">\\n        (02)\\r\\n\\t\\t\\t\\r\\n\\t\\t\\t\\r\\n\\t\\t\\t\\t89312008\\n       </td>\\n</tr>, <tr>\\n<th align=\"left\" bgcolor=\"#ffdd83\" class=\"T11b\" valign=\"middle\" width=\"200\">\\n        \\u6c7a\\u6a19\\u91d1\\u984d\\n       </th>\\n<td bgcolor=\"#EFF1F1\" class=\"newstop\" height=\"25\">\\n        216,000\\u5143\\n       </td>\\n</tr>, <tr>\\n<th align=\"left\" bgcolor=\"#ffdd83\" class=\"T11b\" valign=\"middle\" width=\"200\">\\n        \\u5f97\\u6a19\\u5ee0\\u5546\\u570b\\u5225\\n       </th>\\n<td bgcolor=\"#EFF1F1\" class=\"newstop\" height=\"25\">\\n        \\u4e2d\\u83ef\\u6c11\\u570b(Republic of China (Taiwan))\\n       </td>\\n</tr>, <tr>\\n<th align=\"left\" bgcolor=\"#ffdd83\" class=\"T11b\" valign=\"middle\" width=\"200\">\\n        \\u662f\\u5426\\u70ba\\u4e2d\\u5c0f\\u4f01\\u696d\\n       </th>\\n<td bgcolor=\"#EFF1F1\" class=\"newstop\" height=\"25\">\\n        \\u662f\\n       </td>\\n</tr>, <tr>\\n<th align=\"left\" bgcolor=\"#ffdd83\" class=\"T11b\" valign=\"middle\" width=\"200\">\\n        \\u5c65\\u7d04\\u8d77\\u8fc4\\u65e5\\u671f\\n       </th>\\n<td bgcolor=\"#EFF1F1\" class=\"newstop\" height=\"25\">\\n        104/10/08\\uff0d104/12/31\\r\\n\\t\\t\\t\\t(\\u9810\\u4f30)\\n       </td>\\n</tr>, <tr>\\n<th align=\"left\" bgcolor=\"#ffdd83\" class=\"T11b\" valign=\"middle\" width=\"200\">\\n        \\u96c7\\u7528\\u54e1\\u5de5\\u7e3d\\u4eba\\u6578\\u662f\\u5426\\n        <br>\\n         \\u8d85\\u904e100\\u4eba\\n        </br>\\n</th>\\n<td bgcolor=\"#EFF1F1\" class=\"newstop\" height=\"25\">\\n        \\u5426\\n       </td>\\n</tr>, <tr>\\n<th align=\"left\" bgcolor=\"#ffdd83\" class=\"T11b\" valign=\"middle\" width=\"200\">\\n        \\u6295\\u6a19\\u5ee0\\u55463\\n       </th>\\n<td bgcolor=\"#EFF1F1\" class=\"newstop\" height=\"25\">\\n</td>\\n</tr>, <tr>\\n<th align=\"left\" bgcolor=\"#ffdd83\" class=\"T11b\" valign=\"middle\" width=\"200\">\\n        \\u5ee0\\u5546\\u4ee3\\u78bc\\n       </th>\\n<td bgcolor=\"#EFF1F1\" class=\"newstop\" height=\"25\">\\n        80069682\\n       </td>\\n</tr>, <tr>\\n<th align=\"left\" bgcolor=\"#ffdd83\" class=\"T11b\" valign=\"middle\" width=\"200\">\\n        \\u5ee0\\u5546\\u540d\\u7a31\\n       </th>\\n<td bgcolor=\"#EFF1F1\" class=\"newstop\">\\n        \\u76ca\\u7fa4\\u65c5\\u884c\\u793e\\u6709\\u9650\\u516c\\u53f8\\n       </td>\\n</tr>, <tr>\\n<th align=\"left\" bgcolor=\"#ffdd83\" class=\"T11b\" valign=\"middle\" width=\"200\">\\n        \\u662f\\u5426\\u5f97\\u6a19\\n       </th>\\n<td bgcolor=\"#EFF1F1\" class=\"newstop\">\\n        \\u662f\\n       </td>\\n</tr>, <tr>\\n<th align=\"left\" bgcolor=\"#ffdd83\" class=\"T11b\" valign=\"middle\" width=\"200\">\\n        \\u7d44\\u7e54\\u578b\\u614b\\n       </th>\\n<td bgcolor=\"#EFF1F1\" class=\"newstop\" height=\"7\">\\n        \\u516c\\u53f8\\u767b\\u8a18\\n       </td>\\n</tr>, <tr>\\n<th align=\"left\" bgcolor=\"#ffdd83\" class=\"T11b\" valign=\"middle\" width=\"200\">\\n        \\u5ee0\\u5546\\u696d\\u5225\\n       </th>\\n<td bgcolor=\"#EFF1F1\" class=\"newstop\" height=\"7\">\\n        \\u5176\\u4ed6\\n       </td>\\n</tr>, <tr>\\n<th align=\"left\" bgcolor=\"#ffdd83\" class=\"T11b\" valign=\"middle\" width=\"200\">\\n        \\u5ee0\\u5546\\u5730\\u5740\\n       </th>\\n<td bgcolor=\"#EFF1F1\" class=\"newstop\">\\n        247\\u65b0\\u5317\\u5e02\\u8606\\u6d32\\u5340\\u6b63\\u7fa9\\u91cc\\u9577\\u69ae\\u8def201\\u865f2\\u6a13\\n       </td>\\n</tr>, <tr>\\n<th align=\"left\" bgcolor=\"#ffdd83\" class=\"T11b\" valign=\"middle\" width=\"200\">\\n        \\u5ee0\\u5546\\u96fb\\u8a71\\n       </th>\\n<td bgcolor=\"#EFF1F1\" class=\"newstop\" height=\"25\">\\n        (02)\\r\\n\\t\\t\\t\\r\\n\\t\\t\\t\\r\\n\\t\\t\\t\\t82853524\\n       </td>\\n</tr>, <tr>\\n<th align=\"left\" bgcolor=\"#ffdd83\" class=\"T11b\" valign=\"middle\" width=\"200\">\\n        \\u6c7a\\u6a19\\u91d1\\u984d\\n       </th>\\n<td bgcolor=\"#EFF1F1\" class=\"newstop\" height=\"25\">\\n        189,000\\u5143\\n       </td>\\n</tr>, <tr>\\n<th align=\"left\" bgcolor=\"#ffdd83\" class=\"T11b\" valign=\"middle\" width=\"200\">\\n        \\u5f97\\u6a19\\u5ee0\\u5546\\u570b\\u5225\\n       </th>\\n<td bgcolor=\"#EFF1F1\" class=\"newstop\" height=\"25\">\\n        \\u4e2d\\u83ef\\u6c11\\u570b(Republic of China (Taiwan))\\n       </td>\\n</tr>, <tr>\\n<th align=\"left\" bgcolor=\"#ffdd83\" class=\"T11b\" valign=\"middle\" width=\"200\">\\n        \\u662f\\u5426\\u70ba\\u4e2d\\u5c0f\\u4f01\\u696d\\n       </th>\\n<td bgcolor=\"#EFF1F1\" class=\"newstop\" height=\"25\">\\n        \\u662f\\n       </td>\\n</tr>, <tr>\\n<th align=\"left\" bgcolor=\"#ffdd83\" class=\"T11b\" valign=\"middle\" width=\"200\">\\n        \\u5c65\\u7d04\\u8d77\\u8fc4\\u65e5\\u671f\\n       </th>\\n<td bgcolor=\"#EFF1F1\" class=\"newstop\" height=\"25\">\\n        104/10/08\\uff0d104/12/31\\r\\n\\t\\t\\t\\t(\\u9810\\u4f30)\\n       </td>\\n</tr>, <tr>\\n<th align=\"left\" bgcolor=\"#ffdd83\" class=\"T11b\" valign=\"middle\" width=\"200\">\\n        \\u96c7\\u7528\\u54e1\\u5de5\\u7e3d\\u4eba\\u6578\\u662f\\u5426\\n        <br>\\n         \\u8d85\\u904e100\\u4eba\\n        </br>\\n</th>\\n<td bgcolor=\"#EFF1F1\" class=\"newstop\" height=\"25\">\\n        \\u5426\\n       </td>\\n</tr>, <tr class=\"award_table_tr_4\">\\n<td align=\"center\" bgcolor=\"#FF9999\" rowspan=\"2\" valign=\"middle\" width=\"38\">\\n<span class=\"newstop\">\\n      \\u6c7a\\n      <br/>\\n      \\u6a19\\n      <br/>\\n      \\u54c1\\n      <br/>\\n      \\u9805\\n     </span>\\n</td>\\n</tr>, <tr class=\"award_table_tr_4\">\\n<td colspan=\"3\" style=\"padding-top:0px; padding-bottom:0px; padding-right:0px; padding-left:0px;\">\\n<table bgcolor=\"#FF9999\" border=\"1\" bordercolor=\"#FF9999\" cellpadding=\"1\" cellspacing=\"1\" class=\"table_block tender_table\" height=\"100%\" style=\"border-collapse:collapse;\" summary=\"*\" width=\"100%\">\\n<tr>\\n<th align=\"left\" bgcolor=\"#FFCCCC\" class=\"T11b\" valign=\"middle\" width=\"200\">\\n        \\u6c7a\\u6a19\\u54c1\\u9805\\u6578\\n       </th>\\n<td bgcolor=\"#EFF1F1\" class=\"newstop\">\\n        3\\n       </td>\\n</tr>\\n<tr>\\n<th align=\"left\" bgcolor=\"#FFCCCC\" class=\"T11b\" valign=\"middle\" width=\"200\">\\n        \\u7b2c1\\u54c1\\u9805\\n       </th>\\n<td bgcolor=\"#EFF1F1\" class=\"newstop\">\\n</td>\\n</tr>\\n<tr>\\n<th align=\"left\" bgcolor=\"#FFCCCC\" class=\"T11b\" valign=\"middle\" width=\"200\">\\n        \\u54c1\\u9805\\u540d\\u7a31\\n       </th>\\n<td bgcolor=\"#EFF1F1\" class=\"newstop\">\\n        3\\u5e74\\u7d1a\\u6236\\u5916\\u6559\\u5b78\\n       </td>\\n</tr>\\n<tr>\\n<th align=\"left\" bgcolor=\"#FFCCCC\" class=\"T11b\" valign=\"middle\" width=\"200\">\\n        \\u55ae\\u4f4d\\n       </th>\\n<td bgcolor=\"#EFF1F1\" class=\"newstop\">\\n        330\\u4eba\\n       </td>\\n</tr>\\n<tr>\\n<th align=\"left\" bgcolor=\"#FFCCCC\" class=\"T11b\" valign=\"middle\" width=\"200\">\\n        \\u662f\\u5426\\u4ee5\\u55ae\\u50f9\\u53ca\\u9810\\u4f30\\u9700\\n        <br>\\n         \\u6c42\\u6578\\u91cf\\u4e4b\\u4e58\\u7a4d\\u6c7a\\u5b9a\\u6700\\n         <br>\\n          \\u4f4e\\u6a19\\n         </br>\\n</br>\\n</th>\\n<td bgcolor=\"#EFF1F1\" class=\"newstop\">\\n        \\u662f\\n       </td>\\n</tr>\\n<tr>\\n<th align=\"left\" bgcolor=\"#FFCCCC\" class=\"T11b\" valign=\"middle\" width=\"200\">\\n        \\u5f97\\u6a19\\u5ee0\\u55461\\n       </th>\\n<td bgcolor=\"#EFF1F1\" class=\"newstop\">\\n</td>\\n</tr>\\n<tr>\\n<th align=\"left\" bgcolor=\"#FFCCCC\" class=\"T11b\" valign=\"middle\" width=\"200\">\\n        \\u5f97\\u6a19\\u5ee0\\u5546\\n       </th>\\n<td bgcolor=\"#EFF1F1\" class=\"newstop\">\\n        \\u5409\\u8c61\\u65c5\\u884c\\u793e\\u80a1\\u4efd\\u6709\\u9650\\u516c\\u53f8\\n       </td>\\n</tr>\\n<tr>\\n<th align=\"left\" bgcolor=\"#FFCCCC\" class=\"T11b\" valign=\"middle\" width=\"200\">\\n        \\u6c7a\\u6a19\\u55ae\\u50f9\\n       </th>\\n<td bgcolor=\"#EFF1F1\" class=\"newstop\">\\n        480\\n       </td>\\n</tr>\\n<tr>\\n<th align=\"left\" bgcolor=\"#FFCCCC\" class=\"T11b\" valign=\"middle\" width=\"200\">\\n        \\u9810\\u4f30\\u9700\\u6c42\\u6578\\u91cf\\n       </th>\\n<td bgcolor=\"#EFF1F1\" class=\"newstop\">\\n        450\\n       </td>\\n</tr>\\n<tr>\\n<th align=\"left\" bgcolor=\"#FFCCCC\" class=\"T11b\" valign=\"middle\" width=\"200\">\\n        \\u6c7a\\u6a19\\u91d1\\u984d\\n       </th>\\n<td bgcolor=\"#EFF1F1\" class=\"newstop\">\\n        216,000\\r\\n\\t\\t\\t\\u5143\\n       </td>\\n</tr>\\n<tr>\\n<th align=\"left\" bgcolor=\"#FFCCCC\" class=\"T11b\" valign=\"middle\" width=\"200\">\\n        \\u5e95\\u50f9\\u91d1\\u984d\\n       </th>\\n<td bgcolor=\"#EFF1F1\" class=\"newstop\">\\n        216,000\\r\\n\\t\\t\\t\\u5143\\n       </td>\\n</tr>\\n<tr>\\n<th align=\"left\" bgcolor=\"#FFCCCC\" class=\"T11b\" valign=\"middle\" width=\"200\">\\n        \\u539f\\u7522\\u5730\\u570b\\u5225\\n       </th>\\n<td bgcolor=\"#EFF1F1\" class=\"newstop\">\\n<table border=\"0\" cellpadding=\"0\" cellspacing=\"1\" class=\"shift\" id=\"table_ob_nation\">\\n<tr>\\n<td class=\"newstop\" width=\"100px\">\\n           \\u539f\\u7522\\u5730\\u570b\\u5225\\n          </td>\\n<td class=\"newstop\">\\n           \\u4e2d\\u83ef\\u6c11\\u570b(Republic of China (Taiwan))\\n          </td>\\n</tr>\\n<tr>\\n<td class=\"newstop\" valign=\"top\">\\n           \\u539f\\u7522\\u5730\\u570b\\u5225\\n           <br/>\\n           \\u5f97\\u6a19\\u91d1\\u984d\\n          </td>\\n<td class=\"newstop\">\\n           216,000\\u5143\\n           <br/>\\n           \\u8cb3\\n           <span style=\"color:red\">\\n            \\u62fe\\n           </span>\\n           \\u58f9\\u842c\\u9678\\u4edf\\u5143\\n          </td>\\n</tr>\\n<tr>\\n<td class=\"newstop\" colspan=\"2\">\\n<hr/>\\n</td>\\n</tr>\\n</table>\\n</td>\\n</tr>\\n<tr>\\n<th align=\"left\" bgcolor=\"#FFCCCC\" class=\"T11b\" valign=\"middle\" width=\"200\">\\n        \\u672a\\u5f97\\u6a19\\u5ee0\\u55461\\n       </th>\\n<td bgcolor=\"#EFF1F1\" class=\"newstop\">\\n</td>\\n</tr>\\n<tr>\\n<th align=\"left\" bgcolor=\"#FFCCCC\" class=\"T11b\" valign=\"middle\" width=\"200\">\\n        \\u672a\\u5f97\\u6a19\\u5ee0\\u5546\\n       </th>\\n<td bgcolor=\"#EFF1F1\" class=\"newstop\">\\n        \\u76ca\\u7fa4\\u65c5\\u884c\\u793e\\u6709\\u9650\\u516c\\u53f8\\n       </td>\\n</tr>\\n<tr>\\n<th align=\"left\" bgcolor=\"#FFCCCC\" class=\"T11b\" valign=\"middle\" width=\"200\">\\n        \\u662f\\u5426\\u5408\\u683c\\n       </th>\\n<td bgcolor=\"#EFF1F1\" class=\"newstop\">\\n        \\u662f\\n       </td>\\n</tr>\\n<tr>\\n<th align=\"left\" bgcolor=\"#FFCCCC\" class=\"T11b\" valign=\"middle\" width=\"200\">\\n        \\u672a\\u5f97\\u6a19\\u539f\\u56e0\\n       </th>\\n<td bgcolor=\"#EFF1F1\" class=\"newstop\">\\n        \\u8cc7\\u683c\\u3001\\u898f\\u683c\\u5408\\u65bc\\u62db\\u6a19\\u6587\\u4ef6\\u4f46\\u975e\\u6700\\u6709\\u5229\\u6a19\\u6216\\u6700\\u512a\\u52dd\\u5ee0\\u5546\\n       </td>\\n</tr>\\n<tr>\\n<th align=\"left\" bgcolor=\"#FFCCCC\" class=\"T11b\" valign=\"middle\" width=\"200\">\\n        \\u7b2c2\\u54c1\\u9805\\n       </th>\\n<td bgcolor=\"#EFF1F1\" class=\"newstop\">\\n</td>\\n</tr>\\n<tr>\\n<th align=\"left\" bgcolor=\"#FFCCCC\" class=\"T11b\" valign=\"middle\" width=\"200\">\\n        \\u54c1\\u9805\\u540d\\u7a31\\n       </th>\\n<td bgcolor=\"#EFF1F1\" class=\"newstop\">\\n        4\\u5e74\\u7d1a\\u6236\\u5916\\u6559\\u5b78\\n       </td>\\n</tr>\\n<tr>\\n<th align=\"left\" bgcolor=\"#FFCCCC\" class=\"T11b\" valign=\"middle\" width=\"200\">\\n        \\u55ae\\u4f4d\\n       </th>\\n<td bgcolor=\"#EFF1F1\" class=\"newstop\">\\n        300\\u4eba\\n       </td>\\n</tr>\\n<tr>\\n<th align=\"left\" bgcolor=\"#FFCCCC\" class=\"T11b\" valign=\"middle\" width=\"200\">\\n        \\u662f\\u5426\\u4ee5\\u55ae\\u50f9\\u53ca\\u9810\\u4f30\\u9700\\n        <br>\\n         \\u6c42\\u6578\\u91cf\\u4e4b\\u4e58\\u7a4d\\u6c7a\\u5b9a\\u6700\\n         <br>\\n          \\u4f4e\\u6a19\\n         </br>\\n</br>\\n</th>\\n<td bgcolor=\"#EFF1F1\" class=\"newstop\">\\n        \\u662f\\n       </td>\\n</tr>\\n<tr>\\n<th align=\"left\" bgcolor=\"#FFCCCC\" class=\"T11b\" valign=\"middle\" width=\"200\">\\n        \\u5f97\\u6a19\\u5ee0\\u55461\\n       </th>\\n<td bgcolor=\"#EFF1F1\" class=\"newstop\">\\n</td>\\n</tr>\\n<tr>\\n<th align=\"left\" bgcolor=\"#FFCCCC\" class=\"T11b\" valign=\"middle\" width=\"200\">\\n        \\u5f97\\u6a19\\u5ee0\\u5546\\n       </th>\\n<td bgcolor=\"#EFF1F1\" class=\"newstop\">\\n        \\u76ca\\u7fa4\\u65c5\\u884c\\u793e\\u6709\\u9650\\u516c\\u53f8\\n       </td>\\n</tr>\\n<tr>\\n<th align=\"left\" bgcolor=\"#FFCCCC\" class=\"T11b\" valign=\"middle\" width=\"200\">\\n        \\u6c7a\\u6a19\\u55ae\\u50f9\\n       </th>\\n<td bgcolor=\"#EFF1F1\" class=\"newstop\">\\n        630\\n       </td>\\n</tr>\\n<tr>\\n<th align=\"left\" bgcolor=\"#FFCCCC\" class=\"T11b\" valign=\"middle\" width=\"200\">\\n        \\u9810\\u4f30\\u9700\\u6c42\\u6578\\u91cf\\n       </th>\\n<td bgcolor=\"#EFF1F1\" class=\"newstop\">\\n        300\\n       </td>\\n</tr>\\n<tr>\\n<th align=\"left\" bgcolor=\"#FFCCCC\" class=\"T11b\" valign=\"middle\" width=\"200\">\\n        \\u6c7a\\u6a19\\u91d1\\u984d\\n       </th>\\n<td bgcolor=\"#EFF1F1\" class=\"newstop\">\\n        189,000\\r\\n\\t\\t\\t\\u5143\\n       </td>\\n</tr>\\n<tr>\\n<th align=\"left\" bgcolor=\"#FFCCCC\" class=\"T11b\" valign=\"middle\" width=\"200\">\\n        \\u5e95\\u50f9\\u91d1\\u984d\\n       </th>\\n<td bgcolor=\"#EFF1F1\" class=\"newstop\">\\n        189,000\\r\\n\\t\\t\\t\\u5143\\n       </td>\\n</tr>\\n<tr>\\n<th align=\"left\" bgcolor=\"#FFCCCC\" class=\"T11b\" valign=\"middle\" width=\"200\">\\n        \\u539f\\u7522\\u5730\\u570b\\u5225\\n       </th>\\n<td bgcolor=\"#EFF1F1\" class=\"newstop\">\\n<table border=\"0\" cellpadding=\"0\" cellspacing=\"1\" class=\"shift\" id=\"table_ob_nation\">\\n<tr>\\n<td class=\"newstop\" width=\"100px\">\\n           \\u539f\\u7522\\u5730\\u570b\\u5225\\n          </td>\\n<td class=\"newstop\">\\n           \\u4e2d\\u83ef\\u6c11\\u570b(Republic of China (Taiwan))\\n          </td>\\n</tr>\\n<tr>\\n<td class=\"newstop\" valign=\"top\">\\n           \\u539f\\u7522\\u5730\\u570b\\u5225\\n           <br/>\\n           \\u5f97\\u6a19\\u91d1\\u984d\\n          </td>\\n<td class=\"newstop\">\\n           189,000\\u5143\\n           <br/>\\n           \\u58f9\\n           <span style=\"color:red\">\\n            \\u62fe\\n           </span>\\n           \\u634c\\u842c\\u7396\\u4edf\\u5143\\n          </td>\\n</tr>\\n<tr>\\n<td class=\"newstop\" colspan=\"2\">\\n<hr/>\\n</td>\\n</tr>\\n</table>\\n</td>\\n</tr>\\n<tr>\\n<th align=\"left\" bgcolor=\"#FFCCCC\" class=\"T11b\" valign=\"middle\" width=\"200\">\\n        \\u7b2c3\\u54c1\\u9805\\n       </th>\\n<td bgcolor=\"#EFF1F1\" class=\"newstop\">\\n</td>\\n</tr>\\n<tr>\\n<th align=\"left\" bgcolor=\"#FFCCCC\" class=\"T11b\" valign=\"middle\" width=\"200\">\\n        \\u54c1\\u9805\\u540d\\u7a31\\n       </th>\\n<td bgcolor=\"#EFF1F1\" class=\"newstop\">\\n        5\\u5e74\\u7d1a\\u6236\\u5916\\u6559\\u5b78\\n       </td>\\n</tr>\\n<tr>\\n<th align=\"left\" bgcolor=\"#FFCCCC\" class=\"T11b\" valign=\"middle\" width=\"200\">\\n        \\u55ae\\u4f4d\\n       </th>\\n<td bgcolor=\"#EFF1F1\" class=\"newstop\">\\n        350\\u4eba\\n       </td>\\n</tr>\\n<tr>\\n<th align=\"left\" bgcolor=\"#FFCCCC\" class=\"T11b\" valign=\"middle\" width=\"200\">\\n        \\u662f\\u5426\\u4ee5\\u55ae\\u50f9\\u53ca\\u9810\\u4f30\\u9700\\n        <br>\\n         \\u6c42\\u6578\\u91cf\\u4e4b\\u4e58\\u7a4d\\u6c7a\\u5b9a\\u6700\\n         <br>\\n          \\u4f4e\\u6a19\\n         </br>\\n</br>\\n</th>\\n<td bgcolor=\"#EFF1F1\" class=\"newstop\">\\n        \\u662f\\n       </td>\\n</tr>\\n<tr>\\n<th align=\"left\" bgcolor=\"#FFCCCC\" class=\"T11b\" valign=\"middle\" width=\"200\">\\n        \\u5f97\\u6a19\\u5ee0\\u55461\\n       </th>\\n<td bgcolor=\"#EFF1F1\" class=\"newstop\">\\n</td>\\n</tr>\\n<tr>\\n<th align=\"left\" bgcolor=\"#FFCCCC\" class=\"T11b\" valign=\"middle\" width=\"200\">\\n        \\u5f97\\u6a19\\u5ee0\\u5546\\n       </th>\\n<td bgcolor=\"#EFF1F1\" class=\"newstop\">\\n        \\u5357\\u548c\\u570b\\u969b\\u65c5\\u884c\\u793e\\u6709\\u9650\\u516c\\u53f8\\u6843\\u5712\\u5206\\u516c\\u53f8\\n       </td>\\n</tr>\\n<tr>\\n<th align=\"left\" bgcolor=\"#FFCCCC\" class=\"T11b\" valign=\"middle\" width=\"200\">\\n        \\u6c7a\\u6a19\\u55ae\\u50f9\\n       </th>\\n<td bgcolor=\"#EFF1F1\" class=\"newstop\">\\n<span style=\"color:red;font-weight:bold\" title=\"\\u524d\\u6b21\\u516c\\u544a\\u70ba\\uff1a775\">\\n         760\\n        </span>\\n</td>\\n</tr>\\n<tr>\\n<th align=\"left\" bgcolor=\"#FFCCCC\" class=\"T11b\" valign=\"middle\" width=\"200\">\\n        \\u9810\\u4f30\\u9700\\u6c42\\u6578\\u91cf\\n       </th>\\n<td bgcolor=\"#EFF1F1\" class=\"newstop\">\\n        350\\n       </td>\\n</tr>\\n<tr>\\n<th align=\"left\" bgcolor=\"#FFCCCC\" class=\"T11b\" valign=\"middle\" width=\"200\">\\n        \\u6c7a\\u6a19\\u91d1\\u984d\\n       </th>\\n<td bgcolor=\"#EFF1F1\" class=\"newstop\">\\n<span style=\"color:red;font-weight:bold\" title=\"\\u524d\\u6b21\\u516c\\u544a\\u70ba\\uff1a271,250\">\\n         266,000\\n        </span>\\n        \\u5143\\n       </td>\\n</tr>\\n<tr>\\n<th align=\"left\" bgcolor=\"#FFCCCC\" class=\"T11b\" valign=\"middle\" width=\"200\">\\n        \\u5e95\\u50f9\\u91d1\\u984d\\n       </th>\\n<td bgcolor=\"#EFF1F1\" class=\"newstop\">\\n        271,250\\r\\n\\t\\t\\t\\u5143\\n       </td>\\n</tr>\\n<tr>\\n<th align=\"left\" bgcolor=\"#FFCCCC\" class=\"T11b\" valign=\"middle\" width=\"200\">\\n        \\u539f\\u7522\\u5730\\u570b\\u5225\\n       </th>\\n<td bgcolor=\"#EFF1F1\" class=\"newstop\">\\n<table border=\"0\" cellpadding=\"0\" cellspacing=\"1\" class=\"shift\" id=\"table_ob_nation\">\\n<tr>\\n<td class=\"newstop\" width=\"100px\">\\n           \\u539f\\u7522\\u5730\\u570b\\u5225\\n          </td>\\n<td class=\"newstop\">\\n           \\u4e2d\\u83ef\\u6c11\\u570b(Republic of China (Taiwan))\\n          </td>\\n</tr>\\n<tr>\\n<td class=\"newstop\" valign=\"top\">\\n           \\u539f\\u7522\\u5730\\u570b\\u5225\\n           <br/>\\n           \\u5f97\\u6a19\\u91d1\\u984d\\n          </td>\\n<td class=\"newstop\">\\n<span style=\"color:red;font-weight:bold\" title=\"\\u524d\\u6b21\\u516c\\u544a\\u70ba\\uff1a271,250\">\\n            266,000\\n           </span>\\n           \\u5143\\n           <br/>\\n           \\u8cb3\\n           <span style=\"color:red\">\\n            \\u62fe\\n           </span>\\n           \\u9678\\u842c\\u9678\\u4edf\\u5143\\n          </td>\\n</tr>\\n<tr>\\n<td class=\"newstop\" colspan=\"2\">\\n<hr/>\\n</td>\\n</tr>\\n</table>\\n</td>\\n</tr>\\n<tr>\\n<th align=\"left\" bgcolor=\"#FFCCCC\" class=\"T11b\" valign=\"middle\" width=\"200\">\\n        \\u672a\\u5f97\\u6a19\\u5ee0\\u55461\\n       </th>\\n<td bgcolor=\"#EFF1F1\" class=\"newstop\">\\n</td>\\n</tr>\\n<tr>\\n<th align=\"left\" bgcolor=\"#FFCCCC\" class=\"T11b\" valign=\"middle\" width=\"200\">\\n        \\u672a\\u5f97\\u6a19\\u5ee0\\u5546\\n       </th>\\n<td bgcolor=\"#EFF1F1\" class=\"newstop\">\\n        \\u76ca\\u7fa4\\u65c5\\u884c\\u793e\\u6709\\u9650\\u516c\\u53f8\\n       </td>\\n</tr>\\n<tr>\\n<th align=\"left\" bgcolor=\"#FFCCCC\" class=\"T11b\" valign=\"middle\" width=\"200\">\\n        \\u662f\\u5426\\u5408\\u683c\\n       </th>\\n<td bgcolor=\"#EFF1F1\" class=\"newstop\">\\n        \\u662f\\n       </td>\\n</tr>\\n<tr>\\n<th align=\"left\" bgcolor=\"#FFCCCC\" class=\"T11b\" valign=\"middle\" width=\"200\">\\n        \\u672a\\u5f97\\u6a19\\u539f\\u56e0\\n       </th>\\n<td bgcolor=\"#EFF1F1\" class=\"newstop\">\\n        \\u8cc7\\u683c\\u3001\\u898f\\u683c\\u5408\\u65bc\\u62db\\u6a19\\u6587\\u4ef6\\u4f46\\u975e\\u6700\\u6709\\u5229\\u6a19\\u6216\\u6700\\u512a\\u52dd\\u5ee0\\u5546\\n       </td>\\n</tr>\\n</table>\\n</td>\\n</tr>, <tr>\\n<th align=\"left\" bgcolor=\"#FFCCCC\" class=\"T11b\" valign=\"middle\" width=\"200\">\\n        \\u6c7a\\u6a19\\u54c1\\u9805\\u6578\\n       </th>\\n<td bgcolor=\"#EFF1F1\" class=\"newstop\">\\n        3\\n       </td>\\n</tr>, <tr>\\n<th align=\"left\" bgcolor=\"#FFCCCC\" class=\"T11b\" valign=\"middle\" width=\"200\">\\n        \\u7b2c1\\u54c1\\u9805\\n       </th>\\n<td bgcolor=\"#EFF1F1\" class=\"newstop\">\\n</td>\\n</tr>, <tr>\\n<th align=\"left\" bgcolor=\"#FFCCCC\" class=\"T11b\" valign=\"middle\" width=\"200\">\\n        \\u54c1\\u9805\\u540d\\u7a31\\n       </th>\\n<td bgcolor=\"#EFF1F1\" class=\"newstop\">\\n        3\\u5e74\\u7d1a\\u6236\\u5916\\u6559\\u5b78\\n       </td>\\n</tr>, <tr>\\n<th align=\"left\" bgcolor=\"#FFCCCC\" class=\"T11b\" valign=\"middle\" width=\"200\">\\n        \\u55ae\\u4f4d\\n       </th>\\n<td bgcolor=\"#EFF1F1\" class=\"newstop\">\\n        330\\u4eba\\n       </td>\\n</tr>, <tr>\\n<th align=\"left\" bgcolor=\"#FFCCCC\" class=\"T11b\" valign=\"middle\" width=\"200\">\\n        \\u662f\\u5426\\u4ee5\\u55ae\\u50f9\\u53ca\\u9810\\u4f30\\u9700\\n        <br>\\n         \\u6c42\\u6578\\u91cf\\u4e4b\\u4e58\\u7a4d\\u6c7a\\u5b9a\\u6700\\n         <br>\\n          \\u4f4e\\u6a19\\n         </br>\\n</br>\\n</th>\\n<td bgcolor=\"#EFF1F1\" class=\"newstop\">\\n        \\u662f\\n       </td>\\n</tr>, <tr>\\n<th align=\"left\" bgcolor=\"#FFCCCC\" class=\"T11b\" valign=\"middle\" width=\"200\">\\n        \\u5f97\\u6a19\\u5ee0\\u55461\\n       </th>\\n<td bgcolor=\"#EFF1F1\" class=\"newstop\">\\n</td>\\n</tr>, <tr>\\n<th align=\"left\" bgcolor=\"#FFCCCC\" class=\"T11b\" valign=\"middle\" width=\"200\">\\n        \\u5f97\\u6a19\\u5ee0\\u5546\\n       </th>\\n<td bgcolor=\"#EFF1F1\" class=\"newstop\">\\n        \\u5409\\u8c61\\u65c5\\u884c\\u793e\\u80a1\\u4efd\\u6709\\u9650\\u516c\\u53f8\\n       </td>\\n</tr>, <tr>\\n<th align=\"left\" bgcolor=\"#FFCCCC\" class=\"T11b\" valign=\"middle\" width=\"200\">\\n        \\u6c7a\\u6a19\\u55ae\\u50f9\\n       </th>\\n<td bgcolor=\"#EFF1F1\" class=\"newstop\">\\n        480\\n       </td>\\n</tr>, <tr>\\n<th align=\"left\" bgcolor=\"#FFCCCC\" class=\"T11b\" valign=\"middle\" width=\"200\">\\n        \\u9810\\u4f30\\u9700\\u6c42\\u6578\\u91cf\\n       </th>\\n<td bgcolor=\"#EFF1F1\" class=\"newstop\">\\n        450\\n       </td>\\n</tr>, <tr>\\n<th align=\"left\" bgcolor=\"#FFCCCC\" class=\"T11b\" valign=\"middle\" width=\"200\">\\n        \\u6c7a\\u6a19\\u91d1\\u984d\\n       </th>\\n<td bgcolor=\"#EFF1F1\" class=\"newstop\">\\n        216,000\\r\\n\\t\\t\\t\\u5143\\n       </td>\\n</tr>, <tr>\\n<th align=\"left\" bgcolor=\"#FFCCCC\" class=\"T11b\" valign=\"middle\" width=\"200\">\\n        \\u5e95\\u50f9\\u91d1\\u984d\\n       </th>\\n<td bgcolor=\"#EFF1F1\" class=\"newstop\">\\n        216,000\\r\\n\\t\\t\\t\\u5143\\n       </td>\\n</tr>, <tr>\\n<th align=\"left\" bgcolor=\"#FFCCCC\" class=\"T11b\" valign=\"middle\" width=\"200\">\\n        \\u539f\\u7522\\u5730\\u570b\\u5225\\n       </th>\\n<td bgcolor=\"#EFF1F1\" class=\"newstop\">\\n<table border=\"0\" cellpadding=\"0\" cellspacing=\"1\" class=\"shift\" id=\"table_ob_nation\">\\n<tr>\\n<td class=\"newstop\" width=\"100px\">\\n           \\u539f\\u7522\\u5730\\u570b\\u5225\\n          </td>\\n<td class=\"newstop\">\\n           \\u4e2d\\u83ef\\u6c11\\u570b(Republic of China (Taiwan))\\n          </td>\\n</tr>\\n<tr>\\n<td class=\"newstop\" valign=\"top\">\\n           \\u539f\\u7522\\u5730\\u570b\\u5225\\n           <br/>\\n           \\u5f97\\u6a19\\u91d1\\u984d\\n          </td>\\n<td class=\"newstop\">\\n           216,000\\u5143\\n           <br/>\\n           \\u8cb3\\n           <span style=\"color:red\">\\n            \\u62fe\\n           </span>\\n           \\u58f9\\u842c\\u9678\\u4edf\\u5143\\n          </td>\\n</tr>\\n<tr>\\n<td class=\"newstop\" colspan=\"2\">\\n<hr/>\\n</td>\\n</tr>\\n</table>\\n</td>\\n</tr>, <tr>\\n<td class=\"newstop\" width=\"100px\">\\n           \\u539f\\u7522\\u5730\\u570b\\u5225\\n          </td>\\n<td class=\"newstop\">\\n           \\u4e2d\\u83ef\\u6c11\\u570b(Republic of China (Taiwan))\\n          </td>\\n</tr>, <tr>\\n<td class=\"newstop\" valign=\"top\">\\n           \\u539f\\u7522\\u5730\\u570b\\u5225\\n           <br/>\\n           \\u5f97\\u6a19\\u91d1\\u984d\\n          </td>\\n<td class=\"newstop\">\\n           216,000\\u5143\\n           <br/>\\n           \\u8cb3\\n           <span style=\"color:red\">\\n            \\u62fe\\n           </span>\\n           \\u58f9\\u842c\\u9678\\u4edf\\u5143\\n          </td>\\n</tr>, <tr>\\n<td class=\"newstop\" colspan=\"2\">\\n<hr/>\\n</td>\\n</tr>, <tr>\\n<th align=\"left\" bgcolor=\"#FFCCCC\" class=\"T11b\" valign=\"middle\" width=\"200\">\\n        \\u672a\\u5f97\\u6a19\\u5ee0\\u55461\\n       </th>\\n<td bgcolor=\"#EFF1F1\" class=\"newstop\">\\n</td>\\n</tr>, <tr>\\n<th align=\"left\" bgcolor=\"#FFCCCC\" class=\"T11b\" valign=\"middle\" width=\"200\">\\n        \\u672a\\u5f97\\u6a19\\u5ee0\\u5546\\n       </th>\\n<td bgcolor=\"#EFF1F1\" class=\"newstop\">\\n        \\u76ca\\u7fa4\\u65c5\\u884c\\u793e\\u6709\\u9650\\u516c\\u53f8\\n       </td>\\n</tr>, <tr>\\n<th align=\"left\" bgcolor=\"#FFCCCC\" class=\"T11b\" valign=\"middle\" width=\"200\">\\n        \\u662f\\u5426\\u5408\\u683c\\n       </th>\\n<td bgcolor=\"#EFF1F1\" class=\"newstop\">\\n        \\u662f\\n       </td>\\n</tr>, <tr>\\n<th align=\"left\" bgcolor=\"#FFCCCC\" class=\"T11b\" valign=\"middle\" width=\"200\">\\n        \\u672a\\u5f97\\u6a19\\u539f\\u56e0\\n       </th>\\n<td bgcolor=\"#EFF1F1\" class=\"newstop\">\\n        \\u8cc7\\u683c\\u3001\\u898f\\u683c\\u5408\\u65bc\\u62db\\u6a19\\u6587\\u4ef6\\u4f46\\u975e\\u6700\\u6709\\u5229\\u6a19\\u6216\\u6700\\u512a\\u52dd\\u5ee0\\u5546\\n       </td>\\n</tr>, <tr>\\n<th align=\"left\" bgcolor=\"#FFCCCC\" class=\"T11b\" valign=\"middle\" width=\"200\">\\n        \\u7b2c2\\u54c1\\u9805\\n       </th>\\n<td bgcolor=\"#EFF1F1\" class=\"newstop\">\\n</td>\\n</tr>, <tr>\\n<th align=\"left\" bgcolor=\"#FFCCCC\" class=\"T11b\" valign=\"middle\" width=\"200\">\\n        \\u54c1\\u9805\\u540d\\u7a31\\n       </th>\\n<td bgcolor=\"#EFF1F1\" class=\"newstop\">\\n        4\\u5e74\\u7d1a\\u6236\\u5916\\u6559\\u5b78\\n       </td>\\n</tr>, <tr>\\n<th align=\"left\" bgcolor=\"#FFCCCC\" class=\"T11b\" valign=\"middle\" width=\"200\">\\n        \\u55ae\\u4f4d\\n       </th>\\n<td bgcolor=\"#EFF1F1\" class=\"newstop\">\\n        300\\u4eba\\n       </td>\\n</tr>, <tr>\\n<th align=\"left\" bgcolor=\"#FFCCCC\" class=\"T11b\" valign=\"middle\" width=\"200\">\\n        \\u662f\\u5426\\u4ee5\\u55ae\\u50f9\\u53ca\\u9810\\u4f30\\u9700\\n        <br>\\n         \\u6c42\\u6578\\u91cf\\u4e4b\\u4e58\\u7a4d\\u6c7a\\u5b9a\\u6700\\n         <br>\\n          \\u4f4e\\u6a19\\n         </br>\\n</br>\\n</th>\\n<td bgcolor=\"#EFF1F1\" class=\"newstop\">\\n        \\u662f\\n       </td>\\n</tr>, <tr>\\n<th align=\"left\" bgcolor=\"#FFCCCC\" class=\"T11b\" valign=\"middle\" width=\"200\">\\n        \\u5f97\\u6a19\\u5ee0\\u55461\\n       </th>\\n<td bgcolor=\"#EFF1F1\" class=\"newstop\">\\n</td>\\n</tr>, <tr>\\n<th align=\"left\" bgcolor=\"#FFCCCC\" class=\"T11b\" valign=\"middle\" width=\"200\">\\n        \\u5f97\\u6a19\\u5ee0\\u5546\\n       </th>\\n<td bgcolor=\"#EFF1F1\" class=\"newstop\">\\n        \\u76ca\\u7fa4\\u65c5\\u884c\\u793e\\u6709\\u9650\\u516c\\u53f8\\n       </td>\\n</tr>, <tr>\\n<th align=\"left\" bgcolor=\"#FFCCCC\" class=\"T11b\" valign=\"middle\" width=\"200\">\\n        \\u6c7a\\u6a19\\u55ae\\u50f9\\n       </th>\\n<td bgcolor=\"#EFF1F1\" class=\"newstop\">\\n        630\\n       </td>\\n</tr>, <tr>\\n<th align=\"left\" bgcolor=\"#FFCCCC\" class=\"T11b\" valign=\"middle\" width=\"200\">\\n        \\u9810\\u4f30\\u9700\\u6c42\\u6578\\u91cf\\n       </th>\\n<td bgcolor=\"#EFF1F1\" class=\"newstop\">\\n        300\\n       </td>\\n</tr>, <tr>\\n<th align=\"left\" bgcolor=\"#FFCCCC\" class=\"T11b\" valign=\"middle\" width=\"200\">\\n        \\u6c7a\\u6a19\\u91d1\\u984d\\n       </th>\\n<td bgcolor=\"#EFF1F1\" class=\"newstop\">\\n        189,000\\r\\n\\t\\t\\t\\u5143\\n       </td>\\n</tr>, <tr>\\n<th align=\"left\" bgcolor=\"#FFCCCC\" class=\"T11b\" valign=\"middle\" width=\"200\">\\n        \\u5e95\\u50f9\\u91d1\\u984d\\n       </th>\\n<td bgcolor=\"#EFF1F1\" class=\"newstop\">\\n        189,000\\r\\n\\t\\t\\t\\u5143\\n       </td>\\n</tr>, <tr>\\n<th align=\"left\" bgcolor=\"#FFCCCC\" class=\"T11b\" valign=\"middle\" width=\"200\">\\n        \\u539f\\u7522\\u5730\\u570b\\u5225\\n       </th>\\n<td bgcolor=\"#EFF1F1\" class=\"newstop\">\\n<table border=\"0\" cellpadding=\"0\" cellspacing=\"1\" class=\"shift\" id=\"table_ob_nation\">\\n<tr>\\n<td class=\"newstop\" width=\"100px\">\\n           \\u539f\\u7522\\u5730\\u570b\\u5225\\n          </td>\\n<td class=\"newstop\">\\n           \\u4e2d\\u83ef\\u6c11\\u570b(Republic of China (Taiwan))\\n          </td>\\n</tr>\\n<tr>\\n<td class=\"newstop\" valign=\"top\">\\n           \\u539f\\u7522\\u5730\\u570b\\u5225\\n           <br/>\\n           \\u5f97\\u6a19\\u91d1\\u984d\\n          </td>\\n<td class=\"newstop\">\\n           189,000\\u5143\\n           <br/>\\n           \\u58f9\\n           <span style=\"color:red\">\\n            \\u62fe\\n           </span>\\n           \\u634c\\u842c\\u7396\\u4edf\\u5143\\n          </td>\\n</tr>\\n<tr>\\n<td class=\"newstop\" colspan=\"2\">\\n<hr/>\\n</td>\\n</tr>\\n</table>\\n</td>\\n</tr>, <tr>\\n<td class=\"newstop\" width=\"100px\">\\n           \\u539f\\u7522\\u5730\\u570b\\u5225\\n          </td>\\n<td class=\"newstop\">\\n           \\u4e2d\\u83ef\\u6c11\\u570b(Republic of China (Taiwan))\\n          </td>\\n</tr>, <tr>\\n<td class=\"newstop\" valign=\"top\">\\n           \\u539f\\u7522\\u5730\\u570b\\u5225\\n           <br/>\\n           \\u5f97\\u6a19\\u91d1\\u984d\\n          </td>\\n<td class=\"newstop\">\\n           189,000\\u5143\\n           <br/>\\n           \\u58f9\\n           <span style=\"color:red\">\\n            \\u62fe\\n           </span>\\n           \\u634c\\u842c\\u7396\\u4edf\\u5143\\n          </td>\\n</tr>, <tr>\\n<td class=\"newstop\" colspan=\"2\">\\n<hr/>\\n</td>\\n</tr>, <tr>\\n<th align=\"left\" bgcolor=\"#FFCCCC\" class=\"T11b\" valign=\"middle\" width=\"200\">\\n        \\u7b2c3\\u54c1\\u9805\\n       </th>\\n<td bgcolor=\"#EFF1F1\" class=\"newstop\">\\n</td>\\n</tr>, <tr>\\n<th align=\"left\" bgcolor=\"#FFCCCC\" class=\"T11b\" valign=\"middle\" width=\"200\">\\n        \\u54c1\\u9805\\u540d\\u7a31\\n       </th>\\n<td bgcolor=\"#EFF1F1\" class=\"newstop\">\\n        5\\u5e74\\u7d1a\\u6236\\u5916\\u6559\\u5b78\\n       </td>\\n</tr>, <tr>\\n<th align=\"left\" bgcolor=\"#FFCCCC\" class=\"T11b\" valign=\"middle\" width=\"200\">\\n        \\u55ae\\u4f4d\\n       </th>\\n<td bgcolor=\"#EFF1F1\" class=\"newstop\">\\n        350\\u4eba\\n       </td>\\n</tr>, <tr>\\n<th align=\"left\" bgcolor=\"#FFCCCC\" class=\"T11b\" valign=\"middle\" width=\"200\">\\n        \\u662f\\u5426\\u4ee5\\u55ae\\u50f9\\u53ca\\u9810\\u4f30\\u9700\\n        <br>\\n         \\u6c42\\u6578\\u91cf\\u4e4b\\u4e58\\u7a4d\\u6c7a\\u5b9a\\u6700\\n         <br>\\n          \\u4f4e\\u6a19\\n         </br>\\n</br>\\n</th>\\n<td bgcolor=\"#EFF1F1\" class=\"newstop\">\\n        \\u662f\\n       </td>\\n</tr>, <tr>\\n<th align=\"left\" bgcolor=\"#FFCCCC\" class=\"T11b\" valign=\"middle\" width=\"200\">\\n        \\u5f97\\u6a19\\u5ee0\\u55461\\n       </th>\\n<td bgcolor=\"#EFF1F1\" class=\"newstop\">\\n</td>\\n</tr>, <tr>\\n<th align=\"left\" bgcolor=\"#FFCCCC\" class=\"T11b\" valign=\"middle\" width=\"200\">\\n        \\u5f97\\u6a19\\u5ee0\\u5546\\n       </th>\\n<td bgcolor=\"#EFF1F1\" class=\"newstop\">\\n        \\u5357\\u548c\\u570b\\u969b\\u65c5\\u884c\\u793e\\u6709\\u9650\\u516c\\u53f8\\u6843\\u5712\\u5206\\u516c\\u53f8\\n       </td>\\n</tr>, <tr>\\n<th align=\"left\" bgcolor=\"#FFCCCC\" class=\"T11b\" valign=\"middle\" width=\"200\">\\n        \\u6c7a\\u6a19\\u55ae\\u50f9\\n       </th>\\n<td bgcolor=\"#EFF1F1\" class=\"newstop\">\\n<span style=\"color:red;font-weight:bold\" title=\"\\u524d\\u6b21\\u516c\\u544a\\u70ba\\uff1a775\">\\n         760\\n        </span>\\n</td>\\n</tr>, <tr>\\n<th align=\"left\" bgcolor=\"#FFCCCC\" class=\"T11b\" valign=\"middle\" width=\"200\">\\n        \\u9810\\u4f30\\u9700\\u6c42\\u6578\\u91cf\\n       </th>\\n<td bgcolor=\"#EFF1F1\" class=\"newstop\">\\n        350\\n       </td>\\n</tr>, <tr>\\n<th align=\"left\" bgcolor=\"#FFCCCC\" class=\"T11b\" valign=\"middle\" width=\"200\">\\n        \\u6c7a\\u6a19\\u91d1\\u984d\\n       </th>\\n<td bgcolor=\"#EFF1F1\" class=\"newstop\">\\n<span style=\"color:red;font-weight:bold\" title=\"\\u524d\\u6b21\\u516c\\u544a\\u70ba\\uff1a271,250\">\\n         266,000\\n        </span>\\n        \\u5143\\n       </td>\\n</tr>, <tr>\\n<th align=\"left\" bgcolor=\"#FFCCCC\" class=\"T11b\" valign=\"middle\" width=\"200\">\\n        \\u5e95\\u50f9\\u91d1\\u984d\\n       </th>\\n<td bgcolor=\"#EFF1F1\" class=\"newstop\">\\n        271,250\\r\\n\\t\\t\\t\\u5143\\n       </td>\\n</tr>, <tr>\\n<th align=\"left\" bgcolor=\"#FFCCCC\" class=\"T11b\" valign=\"middle\" width=\"200\">\\n        \\u539f\\u7522\\u5730\\u570b\\u5225\\n       </th>\\n<td bgcolor=\"#EFF1F1\" class=\"newstop\">\\n<table border=\"0\" cellpadding=\"0\" cellspacing=\"1\" class=\"shift\" id=\"table_ob_nation\">\\n<tr>\\n<td class=\"newstop\" width=\"100px\">\\n           \\u539f\\u7522\\u5730\\u570b\\u5225\\n          </td>\\n<td class=\"newstop\">\\n           \\u4e2d\\u83ef\\u6c11\\u570b(Republic of China (Taiwan))\\n          </td>\\n</tr>\\n<tr>\\n<td class=\"newstop\" valign=\"top\">\\n           \\u539f\\u7522\\u5730\\u570b\\u5225\\n           <br/>\\n           \\u5f97\\u6a19\\u91d1\\u984d\\n          </td>\\n<td class=\"newstop\">\\n<span style=\"color:red;font-weight:bold\" title=\"\\u524d\\u6b21\\u516c\\u544a\\u70ba\\uff1a271,250\">\\n            266,000\\n           </span>\\n           \\u5143\\n           <br/>\\n           \\u8cb3\\n           <span style=\"color:red\">\\n            \\u62fe\\n           </span>\\n           \\u9678\\u842c\\u9678\\u4edf\\u5143\\n          </td>\\n</tr>\\n<tr>\\n<td class=\"newstop\" colspan=\"2\">\\n<hr/>\\n</td>\\n</tr>\\n</table>\\n</td>\\n</tr>, <tr>\\n<td class=\"newstop\" width=\"100px\">\\n           \\u539f\\u7522\\u5730\\u570b\\u5225\\n          </td>\\n<td class=\"newstop\">\\n           \\u4e2d\\u83ef\\u6c11\\u570b(Republic of China (Taiwan))\\n          </td>\\n</tr>, <tr>\\n<td class=\"newstop\" valign=\"top\">\\n           \\u539f\\u7522\\u5730\\u570b\\u5225\\n           <br/>\\n           \\u5f97\\u6a19\\u91d1\\u984d\\n          </td>\\n<td class=\"newstop\">\\n<span style=\"color:red;font-weight:bold\" title=\"\\u524d\\u6b21\\u516c\\u544a\\u70ba\\uff1a271,250\">\\n            266,000\\n           </span>\\n           \\u5143\\n           <br/>\\n           \\u8cb3\\n           <span style=\"color:red\">\\n            \\u62fe\\n           </span>\\n           \\u9678\\u842c\\u9678\\u4edf\\u5143\\n          </td>\\n</tr>, <tr>\\n<td class=\"newstop\" colspan=\"2\">\\n<hr/>\\n</td>\\n</tr>, <tr>\\n<th align=\"left\" bgcolor=\"#FFCCCC\" class=\"T11b\" valign=\"middle\" width=\"200\">\\n        \\u672a\\u5f97\\u6a19\\u5ee0\\u55461\\n       </th>\\n<td bgcolor=\"#EFF1F1\" class=\"newstop\">\\n</td>\\n</tr>, <tr>\\n<th align=\"left\" bgcolor=\"#FFCCCC\" class=\"T11b\" valign=\"middle\" width=\"200\">\\n        \\u672a\\u5f97\\u6a19\\u5ee0\\u5546\\n       </th>\\n<td bgcolor=\"#EFF1F1\" class=\"newstop\">\\n        \\u76ca\\u7fa4\\u65c5\\u884c\\u793e\\u6709\\u9650\\u516c\\u53f8\\n       </td>\\n</tr>, <tr>\\n<th align=\"left\" bgcolor=\"#FFCCCC\" class=\"T11b\" valign=\"middle\" width=\"200\">\\n        \\u662f\\u5426\\u5408\\u683c\\n       </th>\\n<td bgcolor=\"#EFF1F1\" class=\"newstop\">\\n        \\u662f\\n       </td>\\n</tr>, <tr>\\n<th align=\"left\" bgcolor=\"#FFCCCC\" class=\"T11b\" valign=\"middle\" width=\"200\">\\n        \\u672a\\u5f97\\u6a19\\u539f\\u56e0\\n       </th>\\n<td bgcolor=\"#EFF1F1\" class=\"newstop\">\\n        \\u8cc7\\u683c\\u3001\\u898f\\u683c\\u5408\\u65bc\\u62db\\u6a19\\u6587\\u4ef6\\u4f46\\u975e\\u6700\\u6709\\u5229\\u6a19\\u6216\\u6700\\u512a\\u52dd\\u5ee0\\u5546\\n       </td>\\n</tr>, <tr class=\"award_table_tr_6\">\\n<td align=\"center\" bgcolor=\"#c79961\" class=\"form_head\" rowspan=\"16\" valign=\"middle\" width=\"38\">\\n<span class=\"newstop\">\\n      \\u6c7a\\n      <br/>\\n      \\u6a19\\n      <br/>\\n      \\u8cc7\\n      <br/>\\n      \\u6599\\n     </span>\\n</td>\\n</tr>, <tr class=\"award_table_tr_6\">\\n<th bgcolor=\"#ddc09e\" class=\"T11b\" width=\"200\">\\n     \\u6c7a\\u6a19\\u516c\\u544a\\u5e8f\\u865f\\n    </th>\\n<td bgcolor=\"#EFF1F1\" class=\"newstop\">\\n     001\\n    </td>\\n</tr>, <tr class=\"award_table_tr_6\">\\n<th bgcolor=\"#ddc09e\" class=\"T11b\" width=\"200\">\\n     \\u516c\\u544a\\u66f4\\u6b63\\u5e8f\\u865f\\n    </th>\\n<td bgcolor=\"#EFF1F1\" class=\"newstop\">\\n<span style=\"color:red;font-weight:bold\" title=\"\\u524d\\u6b21\\u516c\\u544a\\u70ba\\uff1a000\">\\n      001\\n     </span>\\n</td>\\n</tr>, <tr class=\"award_table_tr_6\">\\n<th bgcolor=\"#ddc09e\" class=\"T11b\" width=\"200\">\\n     \\u6c7a\\u6a19\\u65e5\\u671f\\n    </th>\\n<td bgcolor=\"#EFF1F1\" class=\"newstop\">\\n     104/10/07\\n    </td>\\n</tr>, <tr class=\"award_table_tr_6\">\\n<th bgcolor=\"#ddc09e\" class=\"T11b\" width=\"200\">\\n     \\u539f\\u6c7a\\u6a19\\u516c\\u544a\\u65e5\\u671f\\n    </th>\\n<td bgcolor=\"#EFF1F1\" class=\"newstop\">\\n     104/10/08\\n    </td>\\n</tr>, <tr class=\"award_table_tr_6\">\\n<th bgcolor=\"#ddc09e\" class=\"T11b\" width=\"200\">\\n     \\u6c7a\\u6a19\\u516c\\u544a\\u65e5\\u671f\\n    </th>\\n<td bgcolor=\"#EFF1F1\" class=\"newstop\">\\n<span style=\"color:red;font-weight:bold\" title=\"\\u524d\\u6b21\\u516c\\u544a\\u70ba\\uff1a104/10/08\">\\n      104/11/12\\n     </span>\\n</td>\\n</tr>, <tr class=\"award_table_tr_6\">\\n<th bgcolor=\"#ddc09e\" class=\"T11b\" width=\"200\">\\n     \\u57f7\\u884c\\u73fe\\u6cc1\\n    </th>\\n<td bgcolor=\"#EFF1F1\" class=\"newstop\">\\n     \\u8907\\u6578\\u6c7a\\u6a19\\u6848\\uff0c\\u90e8\\u5206\\u6c7a\\u6a19\\n    </td>\\n</tr>, <tr class=\"award_table_tr_6\">\\n<th bgcolor=\"#ddc09e\" class=\"T11b\" width=\"200\">\\n     \\u662f\\u5426\\u520a\\u767b\\u516c\\u5831\\n    </th>\\n<td bgcolor=\"#EFF1F1\" class=\"newstop\">\\n     \\u662f\\n    </td>\\n</tr>, <tr class=\"award_table_tr_6\">\\n<th bgcolor=\"#ddc09e\" class=\"T11b\" width=\"200\">\\n     \\u5e95\\u50f9\\u91d1\\u984d\\n    </th>\\n<td bgcolor=\"#EFF1F1\" class=\"newstop\">\\n     676,250\\u5143\\n    </td>\\n</tr>, <tr class=\"award_table_tr_6\">\\n<th bgcolor=\"#ddc09e\" class=\"T11b\" width=\"200\">\\n     \\u5e95\\u50f9\\u91d1\\u984d\\u662f\\u5426\\u516c\\u958b\\n    </th>\\n<td bgcolor=\"#EFF1F1\" class=\"newstop\">\\n     \\u662f\\n    </td>\\n</tr>, <tr class=\"award_table_tr_6\">\\n<th bgcolor=\"#ddc09e\" class=\"T11b\" width=\"200\">\\n     \\u7e3d\\u6c7a\\u6a19\\u91d1\\u984d\\n    </th>\\n<td bgcolor=\"#EFF1F1\" class=\"newstop\">\\n<span style=\"color:red;font-weight:bold\" title=\"\\u524d\\u6b21\\u516c\\u544a\\u70ba\\uff1a676,250\">\\n      671,000\\n     </span>\\n     \\u5143\\n    </td>\\n</tr>, <tr class=\"award_table_tr_6\">\\n<th bgcolor=\"#ddc09e\" class=\"T11b\" width=\"200\">\\n     \\u7e3d\\u6c7a\\u6a19\\u91d1\\u984d\\u662f\\u5426\\u516c\\u958b\\n    </th>\\n<td bgcolor=\"#EFF1F1\" class=\"newstop\">\\n     \\u662f\\n    </td>\\n</tr>, <tr class=\"award_table_tr_6\">\\n<th bgcolor=\"#ddc09e\" class=\"T11b\" width=\"200\">\\n     \\u5951\\u7d04\\u662f\\u5426\\u8a02\\u6709\\u4f9d\\u7269\\u50f9\\u6307\\u6578\\u8abf\\u6574\\u50f9\\u91d1\\u898f\\u5b9a\\n    </th>\\n<td bgcolor=\"#EFF1F1\" class=\"newstop\">\\n     \\u5426\\n    </td>\\n</tr>, <tr class=\"award_table_tr_6\">\\n<th bgcolor=\"#ddc09e\" class=\"T11b\" width=\"200\">\\n     \\u672a\\u5217\\u7269\\u50f9\\u8abf\\u6574\\u898f\\u5b9a\\u8aaa\\u660e\\n    </th>\\n<td bgcolor=\"#EFF1F1\" class=\"newstop\">\\n     \\u52de\\u52d9\\u6848\\n    </td>\\n</tr>, <tr class=\"award_table_tr_6\">\\n<th bgcolor=\"#ddc09e\" class=\"T11b\" width=\"200\">\\n     \\u5c65\\u7d04\\u57f7\\u884c\\u6a5f\\u95dc\\n    </th>\\n<td bgcolor=\"#EFF1F1\" class=\"newstop\">\\n     \\u6a5f\\u95dc\\u4ee3\\u78bc\\uff1a3.82.8.63\\n     <br>\\n      \\u6a5f\\u95dc\\u540d\\u7a31\\uff1a\\u65b0\\u5317\\u5e02\\u571f\\u57ce\\u5340\\u5b89\\u548c\\u570b\\u6c11\\u5c0f\\u5b78\\n     </br>\\n</td>\\n</tr>, <tr class=\"award_table_tr_6\">\\n<th bgcolor=\"#ddc09e\" class=\"T11b\" width=\"200\">\\n     \\u9644\\u52a0\\u8aaa\\u660e\\n    </th>\\n<td bgcolor=\"#EFF1F1\" class=\"newstop\">\\n</td>\\n</tr>]\n"
     ]
    },
    {
     "name": "stderr",
     "output_type": "stream",
     "text": [
      "C:\\Python27\\lib\\site-packages\\bs4\\__init__.py:166: UserWarning: No parser was explicitly specified, so I'm using the best available HTML parser for this system (\"html.parser\"). This usually isn't a problem, but if you run this code on another system, or in a different virtual environment, it may use a different parser and behave differently.\n",
      "\n",
      "To get rid of this warning, change this:\n",
      "\n",
      " BeautifulSoup([your markup])\n",
      "\n",
      "to this:\n",
      "\n",
      " BeautifulSoup([your markup], \"html.parser\")\n",
      "\n",
      "  markup_type=markup_type))\n"
     ]
    }
   ],
   "source": [
    "print  get_response_element('gov/51658371.txt')"
   ]
  },
  {
   "cell_type": "code",
   "execution_count": 217,
   "metadata": {
    "collapsed": false
   },
   "outputs": [],
   "source": [
    "from datetime import datetime\n",
    "\n",
    "def date_conversion(element):\n",
    "    m = re.match(r\"(\\d+/\\d+/\\d+)\",element)    \n",
    "    if m:\n",
    "        t = m.group(1).split('/', 1)\n",
    "    if t[0] != '':\n",
    "        return datetime.strptime(str(int(t[0]) + 1911) + \"/\" + \\\n",
    "         (''.join(t[1:]).split()[0] ), \"%Y/%m/%d\")\n",
    "    else:\n",
    "        return None\n",
    "    "
   ]
  },
  {
   "cell_type": "code",
   "execution_count": 218,
   "metadata": {
    "collapsed": false
   },
   "outputs": [
    {
     "name": "stdout",
     "output_type": "stream",
     "text": [
      "2015-11-17 00:00:00\n",
      "2015-11-17 00:00:00\n"
     ]
    }
   ],
   "source": [
    "print date_conversion('104/11/17')\n",
    "print date_conversion('104/11/17 13:40')"
   ]
  },
  {
   "cell_type": "code",
   "execution_count": 219,
   "metadata": {
    "collapsed": true
   },
   "outputs": [],
   "source": [
    "def money_conversion(element):\n",
    "    m = re.match( r\"\\$?-?([0-9,]+)\", \"\".join(element.split()))\n",
    "    return int(''.join(m.group(0).split(',')))\n"
   ]
  },
  {
   "cell_type": "code",
   "execution_count": 220,
   "metadata": {
    "collapsed": false
   },
   "outputs": [
    {
     "name": "stdout",
     "output_type": "stream",
     "text": [
      "111111222\n"
     ]
    }
   ],
   "source": [
    "print money_conversion(\"111,111,222元\")"
   ]
  },
  {
   "cell_type": "code",
   "execution_count": 221,
   "metadata": {
    "collapsed": true
   },
   "outputs": [],
   "source": [
    "def remove_space(element):\n",
    "    return \"\".join(element.split())"
   ]
  },
  {
   "cell_type": "code",
   "execution_count": 222,
   "metadata": {
    "collapsed": false
   },
   "outputs": [
    {
     "name": "stdout",
     "output_type": "stream",
     "text": [
      "adfadfdfdf\n"
     ]
    }
   ],
   "source": [
    "print remove_space('adfadf                              df                   df')"
   ]
  },
  {
   "cell_type": "code",
   "execution_count": 223,
   "metadata": {
    "collapsed": true
   },
   "outputs": [],
   "source": [
    "name_map = {\"機關代碼\":\"entity_code\", \"機關名稱\":\"procuring_entity\",\"標案案號\":\"job_number\",\"招標方式\":\"procurement_type\",\\\n",
    "            \"決標方式\":\"tender_awarding_type\",\"標案名稱\":\"subject_of_procurement\", \"決標資料類別\":\"attr_of_tender_awarding\", \\\n",
    "            \"標的分類\":\"attr_of_procurement\", \"預算金額\":\"budget_value\", \"開標時間\":\"opening_date\",\"決標公告日期\":\"tender_awarding_announce_date\",\\\n",
    "            \"歸屬計畫類別\":\"project_type\",\"總決標金額\":\"total_tender_awarding_value\",\"底價金額\":\"floor_price_value\",\"決標日期\":\"tender_awarding_date\", \"pkAtmMain\":\"pkAtmMain\"}\n",
    "\n",
    "tender_awards_map = {\"機關代碼\":remove_space, \"機關名稱\":remove_space, \"標案案號\":remove_space, \\\n",
    "                     \"招標方式\":remove_space,\"決標方式\":remove_space,\"標案名稱\":remove_space, \"決標資料類別\":remove_space, \\\n",
    "                     \"標的分類\":remove_space, \"預算金額\":money_conversion, \"開標時間\":date_conversion,\"歸屬計畫類別\":remove_space, \\\n",
    "                     \"總決標金額\":money_conversion,\"底價金額\":money_conversion,\"決標日期\":date_conversion, \"決標公告日期\":date_conversion}"
   ]
  },
  {
   "cell_type": "code",
   "execution_count": 224,
   "metadata": {
    "collapsed": false
   },
   "outputs": [
    {
     "name": "stdout",
     "output_type": "stream",
     "text": [
      "4\n",
      "6\n",
      "-3\n",
      "7\n",
      "15\n",
      "-6\n",
      "10\n",
      "24\n",
      "-9\n",
      "13\n",
      "33\n",
      "-12\n",
      "16\n",
      "42\n",
      "-15\n",
      "19\n",
      "51\n",
      "-18\n",
      "22\n"
     ]
    }
   ],
   "source": [
    "def a(x):\n",
    "    return x + 3\n",
    "def b(x):\n",
    "    return x * 3\n",
    "def c(x):\n",
    "    return x * -1\n",
    "\n",
    "dic = {1:a, 2:b, 0:c}\n",
    "\n",
    "for i in range(1,20):\n",
    "    print dic[i%3](i) "
   ]
  },
  {
   "cell_type": "code",
   "execution_count": 227,
   "metadata": {
    "collapsed": true
   },
   "outputs": [],
   "source": [
    "def get_award_info_dic(element):\n",
    "    returned_dic = {}\n",
    "    for row in element:\n",
    "        th = row.select('th')\n",
    "        if len(th) > 0  and row.get('class') is not None:\n",
    "            th_name = th[0].text.encode('utf-8').strip()\n",
    "            if ('award_table_tr_1' or 'award_table_tr_2' or 'award_table_tr_6' in row.get('class')) \\\n",
    "                and (th_name in tender_awards_map):\n",
    "                returned_dic[name_map[th_name]] = tender_awards_map[th_name](row.select('td')[0].text.strip())\n",
    "    return returned_dic"
   ]
  },
  {
   "cell_type": "code",
   "execution_count": 228,
   "metadata": {
    "collapsed": false
   },
   "outputs": [
    {
     "name": "stdout",
     "output_type": "stream",
     "text": [
      "{'opening_date': datetime.datetime(2015, 10, 2, 0, 0), 'total_tender_awarding_value': 671000, 'tender_awarding_date': datetime.datetime(2015, 10, 7, 0, 0), 'entity_code': u'3.82.8.63', 'procurement_type': u'\\u516c\\u958b\\u53d6\\u5f97\\u5831\\u50f9\\u55ae\\u6216\\u4f01\\u5283\\u66f8', 'procuring_entity': u'\\u65b0\\u5317\\u5e02\\u571f\\u57ce\\u5340\\u5b89\\u548c\\u570b\\u6c11\\u5c0f\\u5b78', 'attr_of_procurement': u'<\\u52de\\u52d9\\u985e>74\\u652f\\u63f4\\u53ca\\u8f14\\u52a9\\u904b\\u8f38\\u670d\\u52d9', 'tender_awarding_announce_date': datetime.datetime(2015, 11, 12, 0, 0), 'subject_of_procurement': u'104\\u5b78\\u5e74\\u5ea6\\u4e8c\\u3001\\u4e09\\u3001\\u56db\\u3001\\u4e94\\u5e74\\u7d1a\\u6821\\u5916\\u6559\\u5b78\\u59d4\\u8a17\\u670d\\u52d9', 'project_type': u'\\u975e\\u5c6c\\u611b\\u53f0\\u5341\\u4e8c\\u9805\\u8a08\\u756b', 'attr_of_tender_awarding': u'\\u6c7a\\u6a19\\u516c\\u544a', 'budget_value': 895450, 'floor_price_value': 676250, 'job_number': u'AH1041002', 'tender_awarding_type': u'\\u53c3\\u8003\\u6700\\u6709\\u5229\\u6a19\\u7cbe\\u795e'}\n"
     ]
    }
   ],
   "source": [
    "#print  get_response_element('gov/51658371.txt')\n",
    "print get_award_info_dic(get_response_element('gov/51658371.txt'))"
   ]
  },
  {
   "cell_type": "code",
   "execution_count": 230,
   "metadata": {
    "collapsed": false
   },
   "outputs": [
    {
     "name": "stdout",
     "output_type": "stream",
     "text": [
      "opening_date 2015-10-02 00:00:00\n",
      "total_tender_awarding_value 671000\n",
      "tender_awarding_date 2015-10-07 00:00:00\n",
      "entity_code 3.82.8.63\n",
      "procurement_type 公開取得報價單或企劃書\n",
      "procuring_entity 新北市土城區安和國民小學\n",
      "attr_of_procurement <勞務類>74支援及輔助運輸服務\n",
      "tender_awarding_announce_date 2015-11-12 00:00:00\n",
      "subject_of_procurement 104學年度二、三、四、五年級校外教學委託服務\n",
      "project_type 非屬愛台十二項計畫\n",
      "attr_of_tender_awarding 決標公告\n",
      "budget_value 895450\n",
      "floor_price_value 676250\n",
      "job_number AH1041002\n",
      "tender_awarding_type 參考最有利標精神\n"
     ]
    }
   ],
   "source": [
    "eles = get_award_info_dic(get_response_element('gov/51658371.txt'))\n",
    "for ele in eles:\n",
    "    print ele, eles[ele]"
   ]
  },
  {
   "cell_type": "code",
   "execution_count": 244,
   "metadata": {
    "collapsed": true
   },
   "outputs": [],
   "source": [
    "import sqlite3\n",
    "db = sqlite3.connect('tender.sqlite')\n",
    "cur = db.cursor()\n",
    "cur.execute('''CREATE TABLE IF NOT EXISTS Tender_awards(\n",
    "id INTEGER PRIMARY KEY,\n",
    "pkAtmMain TEXT,\n",
    "procuring_entity TEXT,\n",
    "entity_code TEXT,\n",
    "attr_of_procurement TEXT,\n",
    "opening_date DATETIME,\n",
    "procurement_type TEXT,\n",
    "tender_awarding_type TEXT,\n",
    "project_type TEXT,\n",
    "subject_of_procurement TEXT,\n",
    "job_number TEXT,\n",
    "budget_value BIGINTEGER,\n",
    "attr_of_tender_awarding TEXT,\n",
    "floor_price_value BIGINTEGER,\n",
    "tender_awarding_announce_date DATETIME,\n",
    "tender_awarding_date DATETIME,\n",
    "total_tender_awarding_value BIGINTEGER\n",
    ")''')\n",
    "db.close()"
   ]
  },
  {
   "cell_type": "code",
   "execution_count": 245,
   "metadata": {
    "collapsed": false
   },
   "outputs": [],
   "source": [
    "ele = get_response_element('gov/51658371.txt')\n",
    "award_info_dic = get_award_info_dic(ele)"
   ]
  },
  {
   "cell_type": "code",
   "execution_count": 248,
   "metadata": {
    "collapsed": false
   },
   "outputs": [
    {
     "name": "stdout",
     "output_type": "stream",
     "text": [
      "opening_date 2015-10-02 00:00:00\n",
      "total_tender_awarding_value 671000\n",
      "tender_awarding_date 2015-10-07 00:00:00\n",
      "entity_code 3.82.8.63\n",
      "procurement_type 公開取得報價單或企劃書\n",
      "procuring_entity 新北市土城區安和國民小學\n",
      "attr_of_procurement <勞務類>74支援及輔助運輸服務\n",
      "tender_awarding_announce_date 2015-11-12 00:00:00\n",
      "subject_of_procurement 104學年度二、三、四、五年級校外教學委託服務\n",
      "project_type 非屬愛台十二項計畫\n",
      "attr_of_tender_awarding 決標公告\n",
      "budget_value 895450\n",
      "floor_price_value 676250\n",
      "job_number AH1041002\n",
      "tender_awarding_type 參考最有利標精神\n"
     ]
    }
   ],
   "source": [
    "#print award_info_dic\n",
    "for ele in award_info_dic:\n",
    "    print ele, award_info_dic[ele]"
   ]
  },
  {
   "cell_type": "code",
   "execution_count": 256,
   "metadata": {
    "collapsed": false
   },
   "outputs": [
    {
     "name": "stdout",
     "output_type": "stream",
     "text": [
      "insert into Tender_awards(opening_date, total_tender_awarding_value, tender_awarding_date, entity_code, procurement_type, procuring_entity, attr_of_procurement, tender_awarding_announce_date, subject_of_procurement, project_type, attr_of_tender_awarding, budget_value, floor_price_value, job_number, tender_awarding_type) values(?,?,?,?,?,?,?,?,?,?,?,?,?,?,?)\n"
     ]
    }
   ],
   "source": [
    "# insert into table(col1, col2, col3) values(val1, val2, val3)\n",
    "# insert into table(col1, col2, col3) values(?,?,?)\n",
    "#print award_info_dic.keys()\n",
    "colname =  ', '.join(award_info_dic.keys())\n",
    "placeholder =  ','.join('?' * len(award_info_dic))\n",
    "sql = \"insert into Tender_awards({}) values({})\".format(colname, placeholder)\n",
    "print sql\n",
    "\n",
    "\n"
   ]
  },
  {
   "cell_type": "code",
   "execution_count": 258,
   "metadata": {
    "collapsed": true
   },
   "outputs": [],
   "source": [
    "import sqlite3\n",
    "db = sqlite3.connect('tender.sqlite')\n",
    "cur = db.cursor()\n",
    "cur.execute(sql, award_info_dic.values())\n",
    "db.commit()\n",
    "db.close()"
   ]
  },
  {
   "cell_type": "code",
   "execution_count": 259,
   "metadata": {
    "collapsed": true
   },
   "outputs": [],
   "source": [
    "import sqlite3 as lite\n",
    "salary = (\n",
    "(1 , 'Paul' , 32 , 'California', 20000),\n",
    "(2 , 'Allen' , 25 , 'Texas' , 15000),\n",
    "(3 , 'Teddy' , 23 , 'Norway' , 20000),\n",
    "(4 , 'Mark' , 25 , 'Rich-Mond' , 65000),\n",
    "(5 , 'David' , 27 , 'Texas' , 85000),\n",
    "(6 , 'Kim' , 22 , 'South-Hall', 45000),\n",
    "(7 , 'James' , 24 , 'Houston' , 10000)\n",
    ")\n",
    "department = (\n",
    "(1, 'IT Billing' ,1),\n",
    "(2, 'Engineerin' ,2),\n",
    "(3, 'Finance' ,7),\n",
    "(4, 'Finance' ,5),\n",
    "(5, 'Finance' ,6)\n",
    ")"
   ]
  },
  {
   "cell_type": "code",
   "execution_count": 263,
   "metadata": {
    "collapsed": false
   },
   "outputs": [],
   "source": [
    "import sqlite3\n",
    "con = lite.connect('test.sqlite')\n",
    "with con:\n",
    "    cur = con.cursor()\n",
    "    cur.execute(\"DROP TABLE IF EXISTS Salary\")\n",
    "    cur.execute(\"DROP TABLE IF EXISTS Department\")\n",
    "    cur.execute(\"CREATE TABLE Salary(ID INT, NAME TEXT, AGE INT, ADDRESS TEXT, SALARY INT, FOREIGN KEY(ID) REFERENCES QOO(EMP_ID))\")\n",
    "    cur.executemany(\"INSERT INTO Salary VALUES(?, ?, ?, ?, ?)\", salary)\n",
    "    cur.execute(\"CREATE TABLE Department(ID INT PRIMARY KEY, DEPT CHAR(50), EMP_ID INT)\")\n",
    "    cur.executemany(\"INSERT INTO Department VALUES(?, ?, ?)\", department)\n",
    "con.close()"
   ]
  },
  {
   "cell_type": "code",
   "execution_count": 3,
   "metadata": {
    "collapsed": false
   },
   "outputs": [
    {
     "name": "stdout",
     "output_type": "stream",
     "text": [
      "4.63700008392\n",
      "(1000000,)\n"
     ]
    }
   ],
   "source": [
    "import time\n",
    "import sqlite3 as lite\n",
    "dbname = 'test.sqlite'\n",
    "con = lite.connect(dbname)\n",
    "items = tuple(range(1,1000000))\n",
    "with con:\n",
    "    cur = con.cursor()\n",
    "    cur.execute(\"DROP TABLE IF EXISTS ptest\")\n",
    "    cur.execute(\"CREATE TABLE ptest(ID INT)\")\n",
    "    start = time.time()\n",
    "    for i in range(0,1000000):\n",
    "        cur.execute(\"INSERT INTO ptest VALUES(%s)\"%(i))\n",
    "        end = time.time()\n",
    "    print end -start\n",
    "    cur.execute(\"select count(1) from ptest\")\n",
    "    rows = cur.fetchone()\n",
    "    print rows\n",
    "con.close()"
   ]
  },
  {
   "cell_type": "code",
   "execution_count": 5,
   "metadata": {
    "collapsed": false
   },
   "outputs": [
    {
     "name": "stdout",
     "output_type": "stream",
     "text": [
      "<generator object <genexpr> at 0x030A88C8>\n"
     ]
    }
   ],
   "source": [
    "print ((id_, ) for id_ in xrange(4))"
   ]
  },
  {
   "cell_type": "code",
   "execution_count": 4,
   "metadata": {
    "collapsed": false
   },
   "outputs": [
    {
     "name": "stdout",
     "output_type": "stream",
     "text": [
      "1.18300008774\n",
      "(1000000,)\n"
     ]
    }
   ],
   "source": [
    "dbname = 'test.db'\n",
    "con = lite.connect(dbname)\n",
    "with con:\n",
    "    cur = con.cursor()\n",
    "    cur.execute(\"DROP TABLE IF EXISTS ptest\")\n",
    "    cur.execute(\"CREATE TABLE ptest(ID INT)\")\n",
    "    start = time.time()\n",
    "    cur.executemany(\"INSERT INTO ptest VALUES(?)\",((id_, ) for id_ in xrange(1000000)))\n",
    "    end = time.time()\n",
    "    print end -start\n",
    "    cur.execute(\"select count(1) from ptest\")\n",
    "    rows = cur.fetchone()\n",
    "    print rows\n",
    "con.close()"
   ]
  },
  {
   "cell_type": "code",
   "execution_count": null,
   "metadata": {
    "collapsed": true
   },
   "outputs": [],
   "source": []
  },
  {
   "cell_type": "code",
   "execution_count": 16,
   "metadata": {
    "collapsed": false
   },
   "outputs": [
    {
     "name": "stdout",
     "output_type": "stream",
     "text": [
      "(1, u'Paul', 32, u'California', 25000)\n",
      "(2, u'Allen', 25, u'Texas', 20000)\n",
      "(3, u'Teddy', 23, u'Norway', 20000)\n",
      "(4, u'Mark', 25, u'Rich-Mond', 65000)\n",
      "(5, u'David', 27, u'Texas', 85000)\n",
      "(6, u'Kim', 22, u'South-Hall', 45000)\n",
      "(7, u'James', 24, u'Houston', 10000)\n"
     ]
    }
   ],
   "source": [
    "con = lite.connect('test.sqlite')\n",
    "\n",
    "with con:\n",
    "    cur = con.cursor()\n",
    "    cur.execute(\"UPDATE salary SET SALARY=SALARY+5000 where name = 'Allen'\")\n",
    "    #con.commit()\n",
    "    con.rollback()\n",
    "    cur.execute(\"select * from salary\")\n",
    "    rows = cur.fetchall()\n",
    "    for row in rows:\n",
    "        print row\n",
    "con.close()\n"
   ]
  },
  {
   "cell_type": "code",
   "execution_count": null,
   "metadata": {
    "collapsed": true
   },
   "outputs": [],
   "source": []
  }
 ],
 "metadata": {
  "kernelspec": {
   "display_name": "Python 2",
   "language": "python",
   "name": "python2"
  },
  "language_info": {
   "codemirror_mode": {
    "name": "ipython",
    "version": 2
   },
   "file_extension": ".py",
   "mimetype": "text/x-python",
   "name": "python",
   "nbconvert_exporter": "python",
   "pygments_lexer": "ipython2",
   "version": "2.7.10"
  }
 },
 "nbformat": 4,
 "nbformat_minor": 0
}
