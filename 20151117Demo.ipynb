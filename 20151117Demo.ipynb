{
 "cells": [
  {
   "cell_type": "code",
   "execution_count": 1,
   "metadata": {
    "collapsed": false
   },
   "outputs": [
    {
     "name": "stdout",
     "output_type": "stream",
     "text": [
      "match\n"
     ]
    }
   ],
   "source": [
    "a = 'hello'\n",
    "if a == 'hello':\n",
    "    print \"match\""
   ]
  },
  {
   "cell_type": "code",
   "execution_count": 4,
   "metadata": {
    "collapsed": false
   },
   "outputs": [
    {
     "name": "stdout",
     "output_type": "stream",
     "text": [
      "台北市大安區安和路二段23巷11號一樓\n",
      "大安區青田街一號 台北市\n"
     ]
    }
   ],
   "source": [
    "add1 = '台北市大安區安和路二段23巷11號一樓'\n",
    "add2 = '大安區青田街一號 台北市'\n",
    "add3 = '中壢資策會'\n",
    "\n",
    "addrary = [add1,add2,add3]\n",
    "for addr in addrary:\n",
    "    if '台北市' in addr:\n",
    "        print addr"
   ]
  },
  {
   "cell_type": "code",
   "execution_count": 5,
   "metadata": {
    "collapsed": false
   },
   "outputs": [
    {
     "name": "stdout",
     "output_type": "stream",
     "text": [
      "台北市大安區安和路二段23巷11號一樓\n",
      "大安區青田街一號 臺北市\n"
     ]
    }
   ],
   "source": [
    "add1 = '台北市大安區安和路二段23巷11號一樓'\n",
    "add2 = '大安區青田街一號 臺北市'\n",
    "add3 = '中壢資策會'\n",
    "\n",
    "addrary = [add1,add2,add3]\n",
    "for addr in addrary:\n",
    "    if ('台北市' in addr) or ('臺北市' in addr):\n",
    "        print addr"
   ]
  },
  {
   "cell_type": "code",
   "execution_count": 10,
   "metadata": {
    "collapsed": false
   },
   "outputs": [
    {
     "name": "stdout",
     "output_type": "stream",
     "text": [
      "台北市大安區安和路二段23巷11號一樓\n",
      "大安區青田街一號 臺北市\n"
     ]
    }
   ],
   "source": [
    "import re\n",
    "add1 = '台北市大安區安和路二段23巷11號一樓'\n",
    "add2 = '大安區青田街一號 臺北市'\n",
    "add3 = '中壢資策會'\n",
    "\n",
    "addrary = [add1,add2,add3]\n",
    "for addr in addrary:\n",
    "    m= re.search('[台|臺]北市', addr)\n",
    "    if m:\n",
    "        print addr"
   ]
  },
  {
   "cell_type": "code",
   "execution_count": 11,
   "metadata": {
    "collapsed": true
   },
   "outputs": [],
   "source": [
    "email1 = 'david@largitdata.com'\n",
    "email2 = 'qoo!qoo.oop'\n",
    "email3 = 'david@YAHOO.com'\n",
    "\n",
    "phone1 = '0912345678'\n",
    "phone2 = '0200000999990'\n",
    "phone3 = '02 123 2222'"
   ]
  },
  {
   "cell_type": "markdown",
   "metadata": {},
   "source": [
    "### Matching Alphabet"
   ]
  },
  {
   "cell_type": "code",
   "execution_count": 15,
   "metadata": {
    "collapsed": false
   },
   "outputs": [
    {
     "name": "stdout",
     "output_type": "stream",
     "text": [
      "<_sre.SRE_Match object at 0x02D39870>\n",
      "None\n",
      "<_sre.SRE_Match object at 0x02D39870> <_sre.SRE_Match object at 0x02D39BF0>\n"
     ]
    }
   ],
   "source": [
    "str1 = 'a'\n",
    "m = re.match('[a]',str1)\n",
    "print m\n",
    "\n",
    "str2 = 'b'\n",
    "m = re.match('[a]',str2)\n",
    "print m\n",
    "\n",
    "m1 = re.match('[ab]',str1)\n",
    "m2 = re.match('[ab]',str2)\n",
    "print m1, m2"
   ]
  },
  {
   "cell_type": "code",
   "execution_count": 17,
   "metadata": {
    "collapsed": false
   },
   "outputs": [
    {
     "name": "stdout",
     "output_type": "stream",
     "text": [
      "<_sre.SRE_Match object at 0x02D399C0>\n",
      "None\n",
      "<_sre.SRE_Match object at 0x02D39C60>\n"
     ]
    }
   ],
   "source": [
    "str3 = 'f'\n",
    "m3 = re.match('[abcdefghijklmnopqrstuvwxyz]',str3)\n",
    "print m3\n",
    "\n",
    "\n",
    "str3 = 'f'\n",
    "m4 = re.match('[az]',str3)\n",
    "print m4\n",
    "m5 = re.match('[a-z]',str3)\n",
    "print m5"
   ]
  },
  {
   "cell_type": "code",
   "execution_count": 24,
   "metadata": {
    "collapsed": false
   },
   "outputs": [
    {
     "name": "stdout",
     "output_type": "stream",
     "text": [
      "None\n",
      "<_sre.SRE_Match object at 0x02D39FA8>\n",
      "<_sre.SRE_Match object at 0x02D39DB0>\n"
     ]
    }
   ],
   "source": [
    "str4 = 'G'\n",
    "m6 = re.match('[a-z]',str4)\n",
    "print m6\n",
    "\n",
    "m7 = re.match('[a-zA-Z]',str4)\n",
    "print m7\n",
    "\n",
    "m8 = re.match('\\w',str4)\n",
    "print m8"
   ]
  },
  {
   "cell_type": "code",
   "execution_count": 29,
   "metadata": {
    "collapsed": false
   },
   "outputs": [
    {
     "name": "stdout",
     "output_type": "stream",
     "text": [
      "None\n",
      "<_sre.SRE_Match object at 0x02D39E20>\n"
     ]
    }
   ],
   "source": [
    "str5 = '*'\n",
    "m9 = re.match('\\w',str5) # include alphabet and digit [a-zA-Z0-9]\n",
    "print m9\n",
    "\n",
    "m10 = re.match('[a-zA-Z*!@#$%^]',str5)\n",
    "print m10\n"
   ]
  },
  {
   "cell_type": "markdown",
   "metadata": {},
   "source": [
    "### Matching Digit"
   ]
  },
  {
   "cell_type": "code",
   "execution_count": 32,
   "metadata": {
    "collapsed": false
   },
   "outputs": [
    {
     "name": "stdout",
     "output_type": "stream",
     "text": [
      "None\n",
      "<_sre.SRE_Match object at 0x02D4F1A8>\n",
      "<_sre.SRE_Match object at 0x02D39B80>\n",
      "<_sre.SRE_Match object at 0x02D39F38>\n",
      "<_sre.SRE_Match object at 0x02D4F5D0>\n"
     ]
    }
   ],
   "source": [
    "str6 = '3'\n",
    "m11 = re.match('[a-zA-Z*!@#$%^]',str6)\n",
    "print m11\n",
    "\n",
    "m12 = re.match('[3]',str6)\n",
    "print m12\n",
    "\n",
    "\n",
    "m13 = re.match('[0-9]',str6)\n",
    "print m13\n",
    "\n",
    "m14 = re.match('\\d',str6) #[0-9]\n",
    "print m14"
   ]
  },
  {
   "cell_type": "markdown",
   "metadata": {},
   "source": [
    "### Matching anything"
   ]
  },
  {
   "cell_type": "code",
   "execution_count": null,
   "metadata": {
    "collapsed": true
   },
   "outputs": [],
   "source": [
    "m11 = re.match('.',str5)\n",
    "print m11"
   ]
  },
  {
   "cell_type": "code",
   "execution_count": 41,
   "metadata": {
    "collapsed": false
   },
   "outputs": [
    {
     "name": "stdout",
     "output_type": "stream",
     "text": [
      "None\n",
      "<_sre.SRE_Match object at 0x02D4F790>\n",
      "None\n",
      "<_sre.SRE_Match object at 0x02D4F678>\n",
      "None\n",
      "<_sre.SRE_Match object at 0x02D4F720>\n"
     ]
    }
   ],
   "source": [
    "str7 = 'car'\n",
    "str8 = 'cats'\n",
    "str9 = '0912384512'\n",
    "str10 = 'cardinal'\n",
    "\n",
    "m15 = re.match('[a-z]{4,5}',str7) # match string at least 4 characters long, at most 5 characters long.\n",
    "print m15\n",
    "m16 = re.match('[a-z]{4,5}',str8)\n",
    "print m16\n",
    "m17 = re.match('[a-z]{4,5}',str9)\n",
    "print m17\n",
    "m18 = re.match('[a-z]{4,5}',str10)\n",
    "print m18\n",
    "\n",
    "\n",
    "m19 = re.match('[a-z]{4,}',str7)\n",
    "print m19\n",
    "\n",
    "m20 = re.match('[a-z]{4,}',str8)\n",
    "print m20\n"
   ]
  },
  {
   "cell_type": "markdown",
   "metadata": {},
   "source": [
    "### Matching at least zero character"
   ]
  },
  {
   "cell_type": "code",
   "execution_count": 44,
   "metadata": {
    "collapsed": false
   },
   "outputs": [
    {
     "name": "stdout",
     "output_type": "stream",
     "text": [
      "<_sre.SRE_Match object at 0x02D4F9C0>\n",
      "<_sre.SRE_Match object at 0x02D4F950>\n",
      "<_sre.SRE_Match object at 0x02D4F918>\n"
     ]
    }
   ],
   "source": [
    "m21 = re.match('[a-z]{0,}',str7)\n",
    "print m21\n",
    "\n",
    "m22 = re.match('[a-z]*',str7) #{0,}\n",
    "print m22\n",
    "\n",
    "str11 = ''\n",
    "m23 = re.match('[a-z]*',str11) #{0,}\n",
    "print m23\n",
    "\n",
    "#m20 = re.match('[a-z]{4,}',str8)\n",
    "#print m20"
   ]
  },
  {
   "cell_type": "markdown",
   "metadata": {},
   "source": [
    "### Matching at least one character"
   ]
  },
  {
   "cell_type": "code",
   "execution_count": 47,
   "metadata": {
    "collapsed": false
   },
   "outputs": [
    {
     "name": "stdout",
     "output_type": "stream",
     "text": [
      "<_sre.SRE_Match object at 0x02D4FB10>\n",
      "<_sre.SRE_Match object at 0x02D4FAA0>\n",
      "None\n"
     ]
    }
   ],
   "source": [
    "m24 = re.match('[a-z]{1,}',str7)\n",
    "print m24\n",
    "\n",
    "m25 = re.match('[a-z]+',str7) # + => {1,}\n",
    "print m25\n",
    "\n",
    "str11 = ''\n",
    "m26 = re.match('[a-z]+',str11) \n",
    "print m26"
   ]
  },
  {
   "cell_type": "markdown",
   "metadata": {},
   "source": [
    "### Starts with"
   ]
  },
  {
   "cell_type": "code",
   "execution_count": 50,
   "metadata": {
    "collapsed": false
   },
   "outputs": [
    {
     "name": "stdout",
     "output_type": "stream",
     "text": [
      "<_sre.SRE_Match object at 0x02D4FB80>\n",
      "<_sre.SRE_Match object at 0x02D4FA68>\n",
      "None\n"
     ]
    }
   ],
   "source": [
    "str12 = 'car'\n",
    "str13 = 'cats'\n",
    "str14 = 'dogs'\n",
    "\n",
    "m27 = re.match('^c[a-z]+',str12) # ^ starts with\n",
    "print m27\n",
    "\n",
    "m28 = re.match('^c[a-z]+',str13) # ^ starts with\n",
    "print m28\n",
    "\n",
    "m29 = re.match('^c[a-z]+',str14) # ^ starts with\n",
    "print m29"
   ]
  },
  {
   "cell_type": "markdown",
   "metadata": {},
   "source": [
    "### Ends with"
   ]
  },
  {
   "cell_type": "code",
   "execution_count": 51,
   "metadata": {
    "collapsed": false
   },
   "outputs": [
    {
     "name": "stdout",
     "output_type": "stream",
     "text": [
      "None\n",
      "<_sre.SRE_Match object at 0x02D4FC60>\n",
      "None\n"
     ]
    }
   ],
   "source": [
    "m30 = re.match('^c[a-z]+s$',str12) # $ ends with\n",
    "print m30\n",
    "\n",
    "m31 = re.match('^c[a-z]+s$',str13) # $ ends with\n",
    "print m31\n",
    "\n",
    "m32 = re.match('^c[a-z]+s$',str14) # $ ends with\n",
    "print m32"
   ]
  },
  {
   "cell_type": "markdown",
   "metadata": {},
   "source": [
    "### Matching Cell Phone"
   ]
  },
  {
   "cell_type": "code",
   "execution_count": 53,
   "metadata": {
    "collapsed": false
   },
   "outputs": [
    {
     "name": "stdout",
     "output_type": "stream",
     "text": [
      "<_sre.SRE_Match object at 0x02D4FC98>\n",
      "None\n"
     ]
    }
   ],
   "source": [
    "phone1 = '0912345678'\n",
    "phone2 = '0212309109283092231'\n",
    "\n",
    "m = re.match('^09\\d{8}', phone1)\n",
    "print m\n",
    "\n",
    "m = re.match('^09\\d{8}', phone2)\n",
    "print m\n"
   ]
  },
  {
   "cell_type": "code",
   "execution_count": 57,
   "metadata": {
    "collapsed": false
   },
   "outputs": [
    {
     "name": "stdout",
     "output_type": "stream",
     "text": [
      "None\n",
      "<_sre.SRE_Match object at 0x02D4FD08>\n",
      "<_sre.SRE_Match object at 0x02D4FDE8>\n"
     ]
    }
   ],
   "source": [
    "txt = 'Hi, my name is qoo, i loves oop. My phone number is 0912345678, and my qq number is 1029319283011, also you can find me at 106 Anha district'\n",
    "\n",
    "m = re.match('09\\d{8}', txt)\n",
    "print m\n",
    "\n",
    "m = re.match('.*09\\d{8}.*', txt) # should put all matching pattern\n",
    "print m\n",
    "\n",
    "m = re.search('09\\d{8}', txt) # can put pattern that only match\n",
    "print m"
   ]
  },
  {
   "cell_type": "code",
   "execution_count": null,
   "metadata": {
    "collapsed": true
   },
   "outputs": [],
   "source": []
  }
 ],
 "metadata": {
  "kernelspec": {
   "display_name": "Python 2",
   "language": "python",
   "name": "python2"
  },
  "language_info": {
   "codemirror_mode": {
    "name": "ipython",
    "version": 2
   },
   "file_extension": ".py",
   "mimetype": "text/x-python",
   "name": "python",
   "nbconvert_exporter": "python",
   "pygments_lexer": "ipython2",
   "version": "2.7.10"
  }
 },
 "nbformat": 4,
 "nbformat_minor": 0
}
