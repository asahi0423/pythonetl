{
 "cells": [
  {
   "cell_type": "code",
   "execution_count": 1,
   "metadata": {
    "collapsed": false
   },
   "outputs": [
    {
     "name": "stdout",
     "output_type": "stream",
     "text": [
      "match\n"
     ]
    }
   ],
   "source": [
    "a = 'hello'\n",
    "if a == 'hello':\n",
    "    print \"match\""
   ]
  },
  {
   "cell_type": "code",
   "execution_count": 4,
   "metadata": {
    "collapsed": false
   },
   "outputs": [
    {
     "name": "stdout",
     "output_type": "stream",
     "text": [
      "台北市大安區安和路二段23巷11號一樓\n",
      "大安區青田街一號 台北市\n"
     ]
    }
   ],
   "source": [
    "add1 = '台北市大安區安和路二段23巷11號一樓'\n",
    "add2 = '大安區青田街一號 台北市'\n",
    "add3 = '中壢資策會'\n",
    "\n",
    "addrary = [add1,add2,add3]\n",
    "for addr in addrary:\n",
    "    if '台北市' in addr:\n",
    "        print addr"
   ]
  },
  {
   "cell_type": "code",
   "execution_count": 5,
   "metadata": {
    "collapsed": false
   },
   "outputs": [
    {
     "name": "stdout",
     "output_type": "stream",
     "text": [
      "台北市大安區安和路二段23巷11號一樓\n",
      "大安區青田街一號 臺北市\n"
     ]
    }
   ],
   "source": [
    "add1 = '台北市大安區安和路二段23巷11號一樓'\n",
    "add2 = '大安區青田街一號 臺北市'\n",
    "add3 = '中壢資策會'\n",
    "\n",
    "addrary = [add1,add2,add3]\n",
    "for addr in addrary:\n",
    "    if ('台北市' in addr) or ('臺北市' in addr):\n",
    "        print addr"
   ]
  },
  {
   "cell_type": "code",
   "execution_count": 10,
   "metadata": {
    "collapsed": false
   },
   "outputs": [
    {
     "name": "stdout",
     "output_type": "stream",
     "text": [
      "台北市大安區安和路二段23巷11號一樓\n",
      "大安區青田街一號 臺北市\n"
     ]
    }
   ],
   "source": [
    "import re\n",
    "add1 = '台北市大安區安和路二段23巷11號一樓'\n",
    "add2 = '大安區青田街一號 臺北市'\n",
    "add3 = '中壢資策會'\n",
    "\n",
    "addrary = [add1,add2,add3]\n",
    "for addr in addrary:\n",
    "    m= re.search('[台|臺]北市', addr)\n",
    "    if m:\n",
    "        print addr"
   ]
  },
  {
   "cell_type": "code",
   "execution_count": 11,
   "metadata": {
    "collapsed": true
   },
   "outputs": [],
   "source": [
    "email1 = 'david@largitdata.com'\n",
    "email2 = 'qoo!qoo.oop'\n",
    "email3 = 'david@YAHOO.com'\n",
    "\n",
    "phone1 = '0912345678'\n",
    "phone2 = '0200000999990'\n",
    "phone3 = '02 123 2222'"
   ]
  },
  {
   "cell_type": "markdown",
   "metadata": {},
   "source": [
    "### Matching Alphabet"
   ]
  },
  {
   "cell_type": "code",
   "execution_count": 15,
   "metadata": {
    "collapsed": false
   },
   "outputs": [
    {
     "name": "stdout",
     "output_type": "stream",
     "text": [
      "<_sre.SRE_Match object at 0x02D39870>\n",
      "None\n",
      "<_sre.SRE_Match object at 0x02D39870> <_sre.SRE_Match object at 0x02D39BF0>\n"
     ]
    }
   ],
   "source": [
    "str1 = 'a'\n",
    "m = re.match('[a]',str1)\n",
    "print m\n",
    "\n",
    "str2 = 'b'\n",
    "m = re.match('[a]',str2)\n",
    "print m\n",
    "\n",
    "m1 = re.match('[ab]',str1)\n",
    "m2 = re.match('[ab]',str2)\n",
    "print m1, m2"
   ]
  },
  {
   "cell_type": "code",
   "execution_count": 17,
   "metadata": {
    "collapsed": false
   },
   "outputs": [
    {
     "name": "stdout",
     "output_type": "stream",
     "text": [
      "<_sre.SRE_Match object at 0x02D399C0>\n",
      "None\n",
      "<_sre.SRE_Match object at 0x02D39C60>\n"
     ]
    }
   ],
   "source": [
    "str3 = 'f'\n",
    "m3 = re.match('[abcdefghijklmnopqrstuvwxyz]',str3)\n",
    "print m3\n",
    "\n",
    "\n",
    "str3 = 'f'\n",
    "m4 = re.match('[az]',str3)\n",
    "print m4\n",
    "m5 = re.match('[a-z]',str3)\n",
    "print m5"
   ]
  },
  {
   "cell_type": "code",
   "execution_count": 24,
   "metadata": {
    "collapsed": false
   },
   "outputs": [
    {
     "name": "stdout",
     "output_type": "stream",
     "text": [
      "None\n",
      "<_sre.SRE_Match object at 0x02D39FA8>\n",
      "<_sre.SRE_Match object at 0x02D39DB0>\n"
     ]
    }
   ],
   "source": [
    "str4 = 'G'\n",
    "m6 = re.match('[a-z]',str4)\n",
    "print m6\n",
    "\n",
    "m7 = re.match('[a-zA-Z]',str4)\n",
    "print m7\n",
    "\n",
    "m8 = re.match('\\w',str4)\n",
    "print m8"
   ]
  },
  {
   "cell_type": "code",
   "execution_count": 29,
   "metadata": {
    "collapsed": false
   },
   "outputs": [
    {
     "name": "stdout",
     "output_type": "stream",
     "text": [
      "None\n",
      "<_sre.SRE_Match object at 0x02D39E20>\n"
     ]
    }
   ],
   "source": [
    "str5 = '*'\n",
    "m9 = re.match('\\w',str5) # include alphabet and digit [a-zA-Z0-9]\n",
    "print m9\n",
    "\n",
    "m10 = re.match('[a-zA-Z*!@#$%^]',str5)\n",
    "print m10\n"
   ]
  },
  {
   "cell_type": "markdown",
   "metadata": {},
   "source": [
    "### Matching Digit"
   ]
  },
  {
   "cell_type": "code",
   "execution_count": 32,
   "metadata": {
    "collapsed": false
   },
   "outputs": [
    {
     "name": "stdout",
     "output_type": "stream",
     "text": [
      "None\n",
      "<_sre.SRE_Match object at 0x02D4F1A8>\n",
      "<_sre.SRE_Match object at 0x02D39B80>\n",
      "<_sre.SRE_Match object at 0x02D39F38>\n",
      "<_sre.SRE_Match object at 0x02D4F5D0>\n"
     ]
    }
   ],
   "source": [
    "str6 = '3'\n",
    "m11 = re.match('[a-zA-Z*!@#$%^]',str6)\n",
    "print m11\n",
    "\n",
    "m12 = re.match('[3]',str6)\n",
    "print m12\n",
    "\n",
    "\n",
    "m13 = re.match('[0-9]',str6)\n",
    "print m13\n",
    "\n",
    "m14 = re.match('\\d',str6) #[0-9]\n",
    "print m14"
   ]
  },
  {
   "cell_type": "markdown",
   "metadata": {},
   "source": [
    "### Matching anything"
   ]
  },
  {
   "cell_type": "code",
   "execution_count": null,
   "metadata": {
    "collapsed": true
   },
   "outputs": [],
   "source": [
    "m11 = re.match('.',str5)\n",
    "print m11"
   ]
  },
  {
   "cell_type": "code",
   "execution_count": 41,
   "metadata": {
    "collapsed": false
   },
   "outputs": [
    {
     "name": "stdout",
     "output_type": "stream",
     "text": [
      "None\n",
      "<_sre.SRE_Match object at 0x02D4F790>\n",
      "None\n",
      "<_sre.SRE_Match object at 0x02D4F678>\n",
      "None\n",
      "<_sre.SRE_Match object at 0x02D4F720>\n"
     ]
    }
   ],
   "source": [
    "str7 = 'car'\n",
    "str8 = 'cats'\n",
    "str9 = '0912384512'\n",
    "str10 = 'cardinal'\n",
    "\n",
    "m15 = re.match('[a-z]{4,5}',str7) # match string at least 4 characters long, at most 5 characters long.\n",
    "print m15\n",
    "m16 = re.match('[a-z]{4,5}',str8)\n",
    "print m16\n",
    "m17 = re.match('[a-z]{4,5}',str9)\n",
    "print m17\n",
    "m18 = re.match('[a-z]{4,5}',str10)\n",
    "print m18\n",
    "\n",
    "\n",
    "m19 = re.match('[a-z]{4,}',str7)\n",
    "print m19\n",
    "\n",
    "m20 = re.match('[a-z]{4,}',str8)\n",
    "print m20\n"
   ]
  },
  {
   "cell_type": "markdown",
   "metadata": {},
   "source": [
    "### Matching at least zero character"
   ]
  },
  {
   "cell_type": "code",
   "execution_count": 44,
   "metadata": {
    "collapsed": false
   },
   "outputs": [
    {
     "name": "stdout",
     "output_type": "stream",
     "text": [
      "<_sre.SRE_Match object at 0x02D4F9C0>\n",
      "<_sre.SRE_Match object at 0x02D4F950>\n",
      "<_sre.SRE_Match object at 0x02D4F918>\n"
     ]
    }
   ],
   "source": [
    "m21 = re.match('[a-z]{0,}',str7)\n",
    "print m21\n",
    "\n",
    "m22 = re.match('[a-z]*',str7) #{0,}\n",
    "print m22\n",
    "\n",
    "str11 = ''\n",
    "m23 = re.match('[a-z]*',str11) #{0,}\n",
    "print m23\n",
    "\n",
    "#m20 = re.match('[a-z]{4,}',str8)\n",
    "#print m20"
   ]
  },
  {
   "cell_type": "markdown",
   "metadata": {},
   "source": [
    "### Matching at least one character"
   ]
  },
  {
   "cell_type": "code",
   "execution_count": 47,
   "metadata": {
    "collapsed": false
   },
   "outputs": [
    {
     "name": "stdout",
     "output_type": "stream",
     "text": [
      "<_sre.SRE_Match object at 0x02D4FB10>\n",
      "<_sre.SRE_Match object at 0x02D4FAA0>\n",
      "None\n"
     ]
    }
   ],
   "source": [
    "m24 = re.match('[a-z]{1,}',str7)\n",
    "print m24\n",
    "\n",
    "m25 = re.match('[a-z]+',str7) # + => {1,}\n",
    "print m25\n",
    "\n",
    "str11 = ''\n",
    "m26 = re.match('[a-z]+',str11) \n",
    "print m26"
   ]
  },
  {
   "cell_type": "markdown",
   "metadata": {},
   "source": [
    "### Starts with"
   ]
  },
  {
   "cell_type": "code",
   "execution_count": 50,
   "metadata": {
    "collapsed": false
   },
   "outputs": [
    {
     "name": "stdout",
     "output_type": "stream",
     "text": [
      "<_sre.SRE_Match object at 0x02D4FB80>\n",
      "<_sre.SRE_Match object at 0x02D4FA68>\n",
      "None\n"
     ]
    }
   ],
   "source": [
    "str12 = 'car'\n",
    "str13 = 'cats'\n",
    "str14 = 'dogs'\n",
    "\n",
    "m27 = re.match('^c[a-z]+',str12) # ^ starts with\n",
    "print m27\n",
    "\n",
    "m28 = re.match('^c[a-z]+',str13) # ^ starts with\n",
    "print m28\n",
    "\n",
    "m29 = re.match('^c[a-z]+',str14) # ^ starts with\n",
    "print m29"
   ]
  },
  {
   "cell_type": "markdown",
   "metadata": {},
   "source": [
    "### Ends with"
   ]
  },
  {
   "cell_type": "code",
   "execution_count": 51,
   "metadata": {
    "collapsed": false
   },
   "outputs": [
    {
     "name": "stdout",
     "output_type": "stream",
     "text": [
      "None\n",
      "<_sre.SRE_Match object at 0x02D4FC60>\n",
      "None\n"
     ]
    }
   ],
   "source": [
    "m30 = re.match('^c[a-z]+s$',str12) # $ ends with\n",
    "print m30\n",
    "\n",
    "m31 = re.match('^c[a-z]+s$',str13) # $ ends with\n",
    "print m31\n",
    "\n",
    "m32 = re.match('^c[a-z]+s$',str14) # $ ends with\n",
    "print m32"
   ]
  },
  {
   "cell_type": "markdown",
   "metadata": {},
   "source": [
    "### Matching Cell Phone"
   ]
  },
  {
   "cell_type": "code",
   "execution_count": 53,
   "metadata": {
    "collapsed": false
   },
   "outputs": [
    {
     "name": "stdout",
     "output_type": "stream",
     "text": [
      "<_sre.SRE_Match object at 0x02D4FC98>\n",
      "None\n"
     ]
    }
   ],
   "source": [
    "phone1 = '0912345678'\n",
    "phone2 = '0212309109283092231'\n",
    "\n",
    "m = re.match('^09\\d{8}', phone1)\n",
    "print m\n",
    "\n",
    "m = re.match('^09\\d{8}', phone2)\n",
    "print m\n"
   ]
  },
  {
   "cell_type": "code",
   "execution_count": 57,
   "metadata": {
    "collapsed": false
   },
   "outputs": [
    {
     "name": "stdout",
     "output_type": "stream",
     "text": [
      "None\n",
      "<_sre.SRE_Match object at 0x02D4FD08>\n",
      "<_sre.SRE_Match object at 0x02D4FDE8>\n"
     ]
    }
   ],
   "source": [
    "txt = 'Hi, my name is qoo, i loves oop. My phone number is 0912345678, and my qq number is 1029319283011, also you can find me at 106 Anha district'\n",
    "\n",
    "m = re.match('09\\d{8}', txt)\n",
    "print m\n",
    "\n",
    "m = re.match('.*09\\d{8}.*', txt) # should put all matching pattern\n",
    "print m\n",
    "\n",
    "m = re.search('09\\d{8}', txt) # can put pattern that only match\n",
    "print m"
   ]
  },
  {
   "cell_type": "markdown",
   "metadata": {},
   "source": [
    "### group"
   ]
  },
  {
   "cell_type": "code",
   "execution_count": 64,
   "metadata": {
    "collapsed": false
   },
   "outputs": [
    {
     "name": "stdout",
     "output_type": "stream",
     "text": [
      "0912345678\n",
      "Hi, my name is qoo, i loves oop. My phone number is 0912345678, and my qq number is 1029319283011, also you can find me at 106 Anha district\n",
      "0912345678\n",
      "1029319283011\n",
      "106\n"
     ]
    }
   ],
   "source": [
    "m = re.match('.*(09\\d{8}).*', txt) # () get matched pattern\n",
    "print m.group(1)\n",
    "\n",
    "print txt\n",
    "m = re.match('.*(09\\d{8}).*(10\\d+).*(\\d{3}).*', txt) # () get matched pattern\n",
    "print m.group(1)\n",
    "print m.group(2)\n",
    "print m.group(3)"
   ]
  },
  {
   "cell_type": "code",
   "execution_count": 69,
   "metadata": {
    "collapsed": false
   },
   "outputs": [
    {
     "name": "stdout",
     "output_type": "stream",
     "text": [
      "Hi, my name is qoo, i loves oop. My phone number is 0912345678, and my qq number is 1029319283011, also you can find me at 106 Anha district\n",
      "0912345678\n",
      "['0912345678', '0923123456', '0933999999']\n"
     ]
    }
   ],
   "source": [
    "print txt\n",
    "m = re.search('(09\\d{8})', txt) # () get matched pattern\n",
    "print m.group(1)\n",
    "\n",
    "txt2 = 'my phone is 0912345678, 0923123456, and my personal number is 0933999999'\n",
    "match_list = re.findall('(09\\d{8})', txt2)\n",
    "print match_list"
   ]
  },
  {
   "cell_type": "markdown",
   "metadata": {},
   "source": [
    "## giving pattern name"
   ]
  },
  {
   "cell_type": "code",
   "execution_count": 71,
   "metadata": {
    "collapsed": false
   },
   "outputs": [
    {
     "name": "stdout",
     "output_type": "stream",
     "text": [
      "Hi, my name is qoo, i loves oop. My phone number is 0912345678, and my qq number is 1029319283011, also you can find me at 106 Anha district\n",
      "0912345678\n",
      "1029319283011\n",
      "106\n",
      "0912345678\n",
      "1029319283011\n",
      "106\n"
     ]
    }
   ],
   "source": [
    "print txt\n",
    "m = re.match('.*(?P<Phone>09\\d{8}).*(?P<QQ>10\\d+).*(?P<District>\\d{3}).*', txt) # () get matched pattern\n",
    "print m.group(1)\n",
    "print m.group(2)\n",
    "print m.group(3)\n",
    "\n",
    "print m.group('Phone')\n",
    "print m.group('QQ')\n",
    "print m.group('District')"
   ]
  },
  {
   "cell_type": "code",
   "execution_count": 77,
   "metadata": {
    "collapsed": false
   },
   "outputs": [
    {
     "name": "stdout",
     "output_type": "stream",
     "text": [
      "None\n",
      "cats\n",
      "None\n",
      "cardi\n"
     ]
    }
   ],
   "source": [
    "str7 = 'car'\n",
    "str8 = 'cats'\n",
    "str9 = '0912384512'\n",
    "str10 = 'cardinal'\n",
    "\n",
    "m15 = re.match('([a-z]{4,5})',str7) # match string at least 4 characters long, at most 5 characters long.\n",
    "print m15.group(1) if m15 else None\n",
    "\n",
    "m16 = re.match('([a-z]{4,5})',str8)\n",
    "print m16.group(1) if m16 else None\n",
    "\n",
    "m17 = re.match('([a-z]{4,5})',str9)\n",
    "print m17.group(1) if m17 else None\n",
    "\n",
    "m18 = re.match('([a-z]{4,5})',str10)\n",
    "print m18.group(1) if m18 else None"
   ]
  },
  {
   "cell_type": "code",
   "execution_count": 78,
   "metadata": {
    "collapsed": false
   },
   "outputs": [
    {
     "name": "stdout",
     "output_type": "stream",
     "text": [
      "None\n",
      "cats\n",
      "None\n",
      "None\n"
     ]
    }
   ],
   "source": [
    "m15 = re.match('^([a-z]{4,5})$',str7) # match string at least 4 characters long, at most 5 characters long.\n",
    "print m15.group(1) if m15 else None\n",
    "\n",
    "m16 = re.match('^([a-z]{4,5})$',str8)\n",
    "print m16.group(1) if m16 else None\n",
    "\n",
    "m17 = re.match('^([a-z]{4,5})$',str9)\n",
    "print m17.group(1) if m17 else None\n",
    "\n",
    "m18 = re.match('^([a-z]{4,5})$',str10)\n",
    "print m18.group(1) if m18 else None"
   ]
  },
  {
   "cell_type": "markdown",
   "metadata": {},
   "source": [
    "### Lazy Evaluation"
   ]
  },
  {
   "cell_type": "code",
   "execution_count": 86,
   "metadata": {
    "collapsed": false
   },
   "outputs": [
    {
     "name": "stdout",
     "output_type": "stream",
     "text": [
      "0912345678\n",
      "123\n"
     ]
    }
   ],
   "source": [
    "txt = 'my phone: 0912345678, my qq is 123, ^_^' \n",
    "m = re.match('.*?(09\\d{8}).*?(\\d+).*?', txt) # Perform lazy evaluation\n",
    "print m.group(1)\n",
    "print m.group(2)"
   ]
  },
  {
   "cell_type": "markdown",
   "metadata": {},
   "source": [
    "### If exist or not"
   ]
  },
  {
   "cell_type": "markdown",
   "metadata": {},
   "source": [
    "- ? => *? , +? : lazy evaluation\n",
    "- ? => nomal charaacter a? , -?, [a-z]?: 可有可沒有"
   ]
  },
  {
   "cell_type": "code",
   "execution_count": 90,
   "metadata": {
    "collapsed": false
   },
   "outputs": [
    {
     "name": "stdout",
     "output_type": "stream",
     "text": [
      "0912345678\n",
      "None\n",
      "None\n",
      "0912454646\n"
     ]
    },
    {
     "data": {
      "text/plain": [
       "'\\nif m:\\n    print m.group(1)\\nelse:\\n    print None\\n'"
      ]
     },
     "execution_count": 90,
     "metadata": {},
     "output_type": "execute_result"
    }
   ],
   "source": [
    "phone1 = '0912345678'\n",
    "phone2 = '0912-345678'\n",
    "phone3 = '0912-345-678'\n",
    "phone4 = '091245464646345546545464678'\n",
    "m = re.match('(09\\d{8})', phone1)\n",
    "print m.group(1) if m else None\n",
    "\n",
    "m = re.match('(09\\d{8})', phone2)\n",
    "print m.group(1) if m else None\n",
    "\n",
    "m = re.match('(09\\d{8})', phone3)\n",
    "print m.group(1) if m else None\n",
    "\n",
    "m = re.match('(09\\d{8})', phone4)\n",
    "print m.group(1) if m else None\n",
    "'''\n",
    "if m:\n",
    "    print m.group(1)\n",
    "else:\n",
    "    print None\n",
    "'''"
   ]
  },
  {
   "cell_type": "code",
   "execution_count": 91,
   "metadata": {
    "collapsed": false
   },
   "outputs": [
    {
     "name": "stdout",
     "output_type": "stream",
     "text": [
      "0912345678\n",
      "0912-345678\n",
      "0912-345-678\n",
      "0912454646\n"
     ]
    }
   ],
   "source": [
    "m = re.match('(09\\d{2}-?\\d{3}-?\\d{3})', phone1)\n",
    "print m.group(1) if m else None\n",
    "\n",
    "m = re.match('(09\\d{2}-?\\d{3}-?\\d{3})', phone2)\n",
    "print m.group(1) if m else None\n",
    "\n",
    "m = re.match('(09\\d{2}-?\\d{3}-?\\d{3})', phone3)\n",
    "print m.group(1) if m else None\n",
    "\n",
    "m = re.match('(09\\d{2}-?\\d{3}-?\\d{3})', phone4)\n",
    "print m.group(1) if m else None"
   ]
  },
  {
   "cell_type": "code",
   "execution_count": 92,
   "metadata": {
    "collapsed": false
   },
   "outputs": [
    {
     "name": "stdout",
     "output_type": "stream",
     "text": [
      "0912345678\n",
      "0912-345678\n",
      "0912-345-678\n",
      "None\n"
     ]
    }
   ],
   "source": [
    "m = re.match('(^09\\d{2}-?\\d{3}-?\\d{3}$)', phone1)\n",
    "print m.group(1) if m else None\n",
    "\n",
    "m = re.match('(^09\\d{2}-?\\d{3}-?\\d{3}$)', phone2)\n",
    "print m.group(1) if m else None\n",
    "\n",
    "m = re.match('(^09\\d{2}-?\\d{3}-?\\d{3}$)', phone3)\n",
    "print m.group(1) if m else None\n",
    "\n",
    "m = re.match('(^09\\d{2}-?\\d{3}-?$)', phone4)\n",
    "print m.group(1) if m else None"
   ]
  },
  {
   "cell_type": "code",
   "execution_count": 95,
   "metadata": {
    "collapsed": false
   },
   "outputs": [
    {
     "name": "stdout",
     "output_type": "stream",
     "text": [
      "david@largitdata.com\n",
      "None\n",
      "qoo.oop@yahoo.com\n"
     ]
    }
   ],
   "source": [
    "email1 = 'david@largitdata.com'\n",
    "email2 = 'david#largitdata1.com'\n",
    "email3 = 'qoo.oop@yahoo.com'\n",
    "\n",
    "m = re.match('(.+@.+)', email1)\n",
    "print m.group(1) if m else None\n",
    "\n",
    "m = re.match('(.+@.+)', email2)\n",
    "print m.group(1) if m else None\n",
    "\n",
    "m = re.match('(.+@.+)', email3)\n",
    "print m.group(1) if m else None"
   ]
  },
  {
   "cell_type": "code",
   "execution_count": 96,
   "metadata": {
    "collapsed": false
   },
   "outputs": [
    {
     "name": "stdout",
     "output_type": "stream",
     "text": [
      "david\n",
      "largitdata.com\n",
      "None\n",
      "None\n",
      "qoo.oop\n",
      "yahoo.com\n"
     ]
    }
   ],
   "source": [
    "m = re.match('(.+)@(.+)', email1)\n",
    "print m.group(1) if m else None\n",
    "print m.group(2) if m else None\n",
    "\n",
    "m = re.match('(.+)@(.+)', email2)\n",
    "print m.group(1) if m else None\n",
    "print m.group(2) if m else None\n",
    "\n",
    "m = re.match('(.+)@(.+)', email3)\n",
    "print m.group(1) if m else None\n",
    "print m.group(2) if m else None"
   ]
  },
  {
   "cell_type": "code",
   "execution_count": 98,
   "metadata": {
    "collapsed": false
   },
   "outputs": [
    {
     "name": "stdout",
     "output_type": "stream",
     "text": [
      "david\n",
      "largitdata.com\n",
      "None\n",
      "None\n",
      "qoo.oop\n",
      "yahoo.com\n"
     ]
    }
   ],
   "source": [
    "m = re.match('(?P<username>.+)@(?P<domainname>.+)', email1)\n",
    "print m.group('username') if m else None\n",
    "print m.group('domainname') if m else None\n",
    "\n",
    "m = re.match('(?P<username>.+)@(?P<domainname>.+)', email2)\n",
    "print m.group('username') if m else None\n",
    "print m.group('domainname') if m else None\n",
    "\n",
    "m = re.match('(?P<username>.+)@(?P<domainname>.+)', email3)\n",
    "print m.group('username') if m else None\n",
    "print m.group('domainname') if m else None"
   ]
  },
  {
   "cell_type": "code",
   "execution_count": 100,
   "metadata": {
    "collapsed": false
   },
   "outputs": [
    {
     "name": "stdout",
     "output_type": "stream",
     "text": [
      "<!DOCTYPE html PUBLIC \"-//W3C//DTD XHTML 1.0 Transitional//EN\" \"http://www.w3.org/TR/xhtml1/DTD/xhtml1-transitional.dtd\">\r\n",
      "<html xmlns=\"http://www.w3.org/1999/xhtml\">\r\n",
      "<head>\r\n",
      "<meta http-equiv=\"Content-Type\" content=\"text/html; charset=utf-8\"/>\r\n",
      "<meta http-equiv=\"content-language\" content=\"zh-tw\">\r\n",
      "<meta http-equiv=\"X-UA-Compatible\" content=\"IE=edge\" />\r\n",
      "<title>PChome線上購物 - </title>\r\n",
      "<META name=\"author\" content=\"PChome線上購物\">\r\n",
      "<META id=\"MetaKeywords\" NAME=\"keywords\" CONTENT=\"\">\r\n",
      "<META id=\"MetaDescription\" NAME=\"description\" CONTENT=\"\">\r\n",
      "<meta property=\"og:title\" id='ogtitle' content=\"\"/>\r\n",
      "<meta property=\"og:type\" id='ogtype' content=\"product\"/>\r\n",
      "<meta property=\"og:image\" id='ogimage' content=\"\"/>\r\n",
      "<meta property=\"og:url\" id='ogurl' content=\"\"/>\r\n",
      "<meta property=\"og:description\" id='ogdesc' content=\"\"/>\r\n",
      "<meta property=\"og:site_name\" content=\"PChome 24h購物\"/>\r\n",
      "<meta name=\"copyright\" content=\"網路家庭版權所有、轉載必究 ● Copyright PChome Online\">\r\n",
      "<meta name=\"robots\" content=\"NOODP\">\r\n",
      "<link id=\"canonical\" rel=\"canonical\" href=\"\">\r\n",
      "<link id=\"css\" name=\"h24css\" type=\"text/css\" href=\"/min/g=prodh24cssv2&20151104\" rel=\"stylesheet\">\r\n",
      "<script type=\"text/javascript\" async src=\"/min/g=prodjsv2&20151113\"></script>\r\n",
      "</head>\r\n",
      "<body>\r\n",
      "<dl id=\"nc17Container\"  style=\"display:none\">\r\n",
      "    <dt><!-- 敬告啟示-未成年者(註)請勿瀏覽及購買本館商品，本網站已依台灣網站內容分級規定處理。註：以當地國家法律規定之成年年齡為準。 --></dt>\r\n",
      "    <dd><a class=\"ico forbid\" href=\"javascript:void(0);\"><!-- 我未滿18歲，禁止進入 --></a></dd>\r\n",
      "    <dd><a class=\"ico allow\" href=\"javascript:void(0);\"><!-- 我已滿18歲，進入本館 --></a></dd>\r\n",
      "</dl>\r\n",
      "<div id=\"GLOBALWRAPPER\" class=\"prod_w\" style=\"display:none\">\r\n",
      "    <div id=\"WRAPPER\" class=\"style_h24\">\r\n",
      "    <!-- HEADER start -->\r\n",
      "<div id=\"HEADER\">\r\n",
      "<div class=\"clearfix\">\r\n",
      "<h1 class=\"logotype left\"><a class=\"prod\" href=\"http://24h.pchome.com.tw\">PChome 24h購物</a></h1>\r\n",
      "<div class=\"site_tool relative\">\r\n",
      "<sup></sup>\r\n",
      "  <ul class=\"bar_nav absolute\">\r\n",
      "    <li><a href=\"http://shopping.pchome.com.tw\">線上購物</a></li>\r\n",
      "    <li><a href=\"http://24h.pchome.com.tw\">24h購物</a></li>\r\n",
      "    <li><a href=\"http://mall.pchome.com.tw\">購物中心</a></li>\r\n",
      "    <li><a href=\"/book\">書店</a></li>\r\n",
      "    <li><a class=\"sp\" href=\"http://global.pchome.com.tw\">全球購物</a></li>\r\n",
      "  </ul>\r\n",
      "  <ul class=\"bar_service absolute\">\r\n",
      "    <li><a href=\"http://shopping.pchome.com.tw/?mod=store&func=choice_buy&page_url=shopping&NO=D&C=D\" class=\"cart sp\" accesskey=\"B\" title=\"點擊後進入結帳清單\">購物車</a></li>\r\n",
      "    <li><a href=\"https://ecvip.pchome.com.tw\">顧客中心</a></li>\r\n",
      "    <li><a href=\"https://ecvip.pchome.com.tw/?m=vendor\" >廠商合作</a></li>\r\n",
      "    <li><a href=\"https://ecvip.pchome.com.tw/?m=myaccount&c=service&f=showBugService&url=aHR0cDovLzI0aC5wY2hvbWUuY29tLnR3L3NpZ24vM2MuaHRt\">故障通報</a></li>\r\n",
      "    <li><a href=\"http://www.pchome.com.tw/\">PChome</a></li>\r\n",
      "  </ul>\r\n",
      "</div>\r\n",
      "</div>\r\n",
      "<div class=\"block_H relative\">\r\n",
      "<dl class=\"h1 absolute\">\r\n",
      "  <dd id=\"24hrFeeContainer\"><p class=\"absolute \"><small>購物滿$490</small>免運費</p></dd>\r\n",
      "  <dd id=\"SearchContainer\" class=\"bar_search site_corner cor1px\">\r\n",
      "        <sup class=\"l\"></sup><sup class=\"r\"></sup>\r\n",
      "        <sub class=\"l\"></sub><sub class=\"r\"></sub>\r\n",
      "        <label for=\"keyword\" class=\"unblock\">搜尋框，請輸入關鍵字後按enter查詢</label><input accesskey=\"S\" placeholder=\"請輸入關鍵字\" type=\"text\" id=\"keyword\" class=\"text left\"  x-webkit-speech=\"\" x-webkit-grammar=\"builtin:translate\" />\r\n",
      "        <input type=\"button\" id='doSearch'  class=\"button\" value=\"找商品\" />\r\n",
      "    </dd>\r\n",
      "  <dd class=\"absolute sp\"><a href=\"https://ecvip.pchome.com.tw/?m=myaccount&c=service&f=showSearchService\">買不到通知我</a></dd>\r\n",
      "  <dd class=\"bar_account\"><a href=\"https://ecvip.pchome.com.tw\">顧客中心(查訂單、退貨、客服)</a></dd>\r\n",
      "  <dd id=\"shopAd220Container\" class=\"site_ad unblock\"><a href=\"\"><img src=\"\" alt=\"\"/></a></dd>\r\n",
      "</dl>\r\n",
      "<div id=\"site_roadsign\" class=\"h2 absolute\"></div>\r\n",
      "<div class=\"h3 absolute\">\r\n",
      "<div class=\"site_tooth\"></div>\r\n",
      "</div>\r\n",
      "</div>\r\n",
      "</div>\r\n",
      "<!-- HEADER end -->\r\n",
      "        <!-- CONTENT start -->\r\n",
      "        <div id=\"CONTENT\" class=\"clearfix\">\r\n",
      "            <!-- block_N start -->\r\n",
      "            <div class=\"block_N\">\r\n",
      "                <sup></sup>\r\n",
      "                <sub></sub>\r\n",
      "                <h3><a id=\"StoreName\" href=\"javascript:void(0);\"></a></h3>\r\n",
      "                <a id=\"shopAd500Container\" class=\"site_ad unblock\" href=\"\"><img src=\"\" alt=\"\"/></a>\r\n",
      "                <div class=\"info\">\r\n",
      "                <div id=debug></div>\r\n",
      "                    <b class=\"b1f\"></b>\r\n",
      "                    <ul>\r\n",
      "                        <li class=\"sp\">‧台北巿6小時到貨(試營運)</li>\r\n",
      "                        <li>‧全台灣24小時到貨，遲到給100</li>\r\n",
      "                        <li>‧非北北基22:00～10:00間下單、離島、資訊不完整、<br/>　新客、安裝商品、ATM或 ibon付款者等不在此限<a href=\"http://shopping.pchome.com.tw/?m=sitemap&func=24h\" target=\"_blank\">→說明</a></li>\r\n",
      "                    </ul>\r\n",
      "                    <b class=\"b1f\"></b>\r\n",
      "                </div>\r\n",
      "                <!--購物車 start-->\r\n",
      "               <div id=\"24hrCartContainer\" class=\"cart cart_1\">\r\n",
      "                    <span class=\"price\"><span class=\"value\">$0</span></span>\r\n",
      "                    <a class=\"number\" href=\"http://shopping.pchome.com.tw/?mod=store&func=choice_buy&page_url=shopping&NO=D&C=D\">(<span>0</span>)</a>\r\n",
      "                    <a class=\"check\" href=\"http://shopping.pchome.com.tw/?mod=store&func=choice_buy&page_url=shopping&NO=D&C=D\">結帳&gt;</a>\r\n",
      "                </div>\r\n",
      "\r\n",
      "                <!--購物車 end-->\r\n",
      "                <ul id=\"LinkContainer\" class=\"path\">\r\n",
      "                    <li itemscope itemtype=\"http://data-vocabulary.org/Breadcrumb\"><a href=\"http://www.pchome.com.tw/\" itemprop=\"url\"><span itemprop=\"title\">PChome</span></a> &gt;</li>\r\n",
      "                    <li itemscope itemtype=\"http://data-vocabulary.org/Breadcrumb\"><a href=\"http://shopping.pchome.com.tw/\" itemprop=\"url\"><span itemprop=\"title\">線上購物</span></a> &gt;</li>\r\n",
      "                    <li itemscope itemtype=\"http://data-vocabulary.org/Breadcrumb\"></li>\r\n",
      "                    <li class=\"unblock\" itemscope itemtype=\"http://data-vocabulary.org/Breadcrumb\" id='linkRegion'></li>\r\n",
      "                    <li class=\"unblock\" itemscope itemtype=\"http://data-vocabulary.org/Breadcrumb\" id='linkStore'></li>\r\n",
      "                </ul>\r\n",
      "            </div>\r\n",
      "            <!-- block_N end -->\r\n",
      "             <!-- block_W sidebar start -->\r\n",
      "            <div class=\"block_W sidebar\">\r\n",
      "                <sup></sup>\r\n",
      "                <!-- store_list start -->\r\n",
      "                <dl class=\"store_list\">\r\n",
      "                    <dt id=\"RegionName\"></dt>\r\n",
      "                    <dd>\r\n",
      "                        <dl id=\"StoreContainer\"></dl>\r\n",
      "                    </dd>\r\n",
      "                </dl>\r\n",
      "                <!-- store_list end -->\r\n",
      "                <!-- hot_list start -->\r\n",
      "                <dl id=\"SaleContainer\" class=\"hot_list unblock\">\r\n",
      "                </dl>\r\n",
      "                <!-- hot_list end -->\r\n",
      "              </div>\r\n",
      "            <!-- block_W sidebar end -->\r\n",
      "            <!-- block_c start -->\r\n",
      "            <div class=\"block_C\">\r\n",
      "                <!-- prod_list start -->\r\n",
      "                <dl class=\"prod_list\" itemscope itemtype=\"http://schema.org/Product\">\r\n",
      "                    <dd id=\"StoreAd800Container\" class=\"unblock\"><a class=\"site_ad\" href=\"\" target=\"_blank\"><img src=\"\" alt=\"\"/></a></dd>\r\n",
      "                    <dd  id=\"NameContainer\" class=\"Ct clearfix\"></dd>\r\n",
      "                    <dd class=\"clearfix\">\r\n",
      "                        <!-- Cl start -->\r\n",
      "                        <div class=\"Cl\">\r\n",
      "                            <div id=\"BonusContainer\" class=\"bar_bonus site_corner cor1px unblock\">\r\n",
      "                                <sup class=\"l\"></sup>\r\n",
      "                                <sup class=\"r\"></sup>\r\n",
      "                                <sub class=\"l\"></sub>\r\n",
      "                                <sub class=\"r\"></sub>\r\n",
      "                                <span>\r\n",
      "                                    <b>送</b>單品加碼金：<i>0</i>點\r\n",
      "                                    <a href=\"/html/BADD_help.html\" title=\"1.加碼金使用方式及規則同現金積點。　2.加碼金不適用任何現金積點倍數送活動。\" >說明</a>\r\n",
      "                                </span>\r\n",
      "                            </div>\r\n",
      "                            <div id=\"ImgContainer\" class=\"prod_img\"></div>\r\n",
      "                            <ul id=\"UpAndDownContainer\" class=\"bar_prodnav unblock\">\r\n",
      "                            </ul>\r\n",
      "                            <dl id=\"SPFInfoContainer\" class=\"msg unblock\">\r\n",
      "                                <dt>※</dt>\r\n",
      "                                <dd>消費者同意，此預購型商品發生缺貨或貨源不足..等情形、致網路家庭無法出貨時，此商品預購契約不成立</dd>\r\n",
      "                            </dl>\r\n",
      "                            <!-- prod_combo start -->\r\n",
      "                            <dl id=\"CombineContainer\" class=\"prod_combo unblock\">\r\n",
      "                                <dt>搭配商品：</dt>\r\n",
      "                            </dl>\r\n",
      "                            <!-- bar_combo end -->\r\n",
      "                        </div>\r\n",
      "                        <!-- Cl end -->\r\n",
      "                        <!-- Cr start -->\r\n",
      "                        <div class=\"Cr\">\r\n",
      "                            <!-- prod_descrb start -->\r\n",
      "                            <!-- prod_descrb -->\r\n",
      "                            <div id=\"DescrbContainer\" class=\"prod_describe clearfix\">\r\n",
      "                                <ul class=\"right\">\r\n",
      "                                <!-- h24區塊 -->\r\n",
      "                                <li id=\"h24Block\"></li>\r\n",
      "                                </ul>\r\n",
      "                                <div class=\"left\">\r\n",
      "                                    <div id=\"MarketingContainer\" class=\"bar_gift\"><ul>\r\n",
      "                                        <li id=\"MarketingBonus\" class=\"popupOn unblock\"><a href=\"#\">\r\n",
      "                                            <span class=\"sign\">現金積點</span>\r\n",
      "                                            <div></div>\r\n",
      "                                            <span class=\"more\">(詳)</span>\r\n",
      "                                            <span class=\"note\">止</span>\r\n",
      "                                        </a></li>\r\n",
      "                                        <li id=\"MarketingActivity\" class=\"unblock\"><a href=\"#\">\r\n",
      "                                            <span class=\"sign\">折扣活動</span>\r\n",
      "                                            <div></div>\r\n",
      "                                            <span class=\"note\">止</span>\r\n",
      "                                        </a></li>\r\n",
      "                                        <li id=\"MarketingRaiseBonus\" class=\"popupOn unblock\"><a href=\"#\">\r\n",
      "                                            <span class=\"sign\">加碼金</span>\r\n",
      "                                            <div></div>\r\n",
      "                                            <span class=\"more\">(詳)</span>\r\n",
      "                                            <span class=\"note\">止</span>\r\n",
      "                                        </a></li>\r\n",
      "                                        <li id=\"MarketingGift\" class=\"popupOn unblock\"><a href=\"#\">\r\n",
      "                                            <span class=\"sign\">滿額贈</span>\r\n",
      "                                            <div></div>\r\n",
      "                                            <span class=\"more\">(詳)</span>\r\n",
      "                                            <span class=\"note\">止</span>\r\n",
      "                                        </a></li>\r\n",
      "                                    </ul><span id=\"moreMarketing\" class=\"ui-btn-collapsible unblock\">展開</span></div>\r\n",
      "                                    <div class=\"slogan\">\r\n",
      "                                        <div id=\"ActivityContainer\" class=\"bar_event unblock\">\r\n",
      "                                            <sup></sup><sub></sub>\r\n",
      "                                            <span><b>活動商品：</b><a href=\"javascript:void(0);\"></a></span>\r\n",
      "                                        </div>\r\n",
      "                                        <p id=\"ExtraContainer\" class=\"title sp unblock\"></p>\r\n",
      "                                        <p id=\"NickContainer\" class=\"title clearfix\"></p>\r\n",
      "                                                                                <a id=\"EnergySave\" class=\"ico energy unblock\" href=\"#\">本商品符合政府節能補助</a>\r\n",
      "                                                                                <div id=\"SloganContainer\"></div>\r\n",
      "                                        <ul id=\"BookInfoContainer\" class=\"sp\"></ul>\r\n",
      "                                    </div>\r\n",
      "                                </div>\r\n",
      "                            </div>\r\n",
      "                            <!-- prod_descrb end -->\r\n",
      "                            <!-- prodPayway start -->\r\n",
      "                           <div id=\"PaymentContainer\" class=\"prod_payway clearfix\"  itemprop=\"offers\" itemscope itemtype=\"http://schema.org/Offer\">\r\n",
      "                            </div>\r\n",
      "                            <!-- prodPayway end -->\r\n",
      "                                  <!-- bar_bonus start -->\r\n",
      "                            <div id='BonusInfoContainer' class=\"bar_bonus unblock\">\r\n",
      "                                <p>送單品加碼金<i>0</i>點<a href=\"http://shopping.pchome.com.tw/?m=item&f=bonus_help\" target=\"_blank\">說明</a><span>(1點 = 1元)</span></p>\r\n",
      "                                <span>(限使用貨到付款、ATM、7-11 ibon、金融卡即時轉帳、信用卡1、3、6期可獲得)</span>\r\n",
      "                            </div>\r\n",
      "                            <!-- bar_bonus end -->\r\n",
      "                            <dl class=\"site_timer\">\r\n",
      "                                <dt></dt>\r\n",
      "                                <dd>您約在<div class=\"timer\"><span class=\"min\"></span><span class=\"sec\"></span></div>後可進入搶購流程</dd>\r\n",
      "                            </dl>\r\n",
      "\r\n",
      "                             <div id=\"ButtonContainer\" class=\"site_btn tr\">\r\n",
      "                            </div>\r\n",
      "                             <!-- prod_gift start -->\r\n",
      "                            <dl id=\"AddContainer\" class=\"prod_gift sp unblock\">\r\n",
      "                                <dt>加購商品：</dt>\r\n",
      "                                <dd class=\"clear_magi\">\r\n",
      "                                    <ol>\r\n",
      "                                    </ol>\r\n",
      "                                </dd>\r\n",
      "                                <dd class=\"tr clear_line\">\r\n",
      "                                    <p><a href=\"javascript:void(0);\">看更多&gt;</a></p>\r\n",
      "                                </dd>\r\n",
      "                            </dl>\r\n",
      "                            <!-- prod_gift end -->\r\n",
      "                            <!-- prod_gift start -->\r\n",
      "                            <dl id=\"GiftContainer\" class=\"prod_gift unblock\">\r\n",
      "                                <dt>贈品：</dt>\r\n",
      "                                <dd>\r\n",
      "                                    <ol>\r\n",
      "                                    </ol>\r\n",
      "                                </dd>\r\n",
      "                            </dl>\r\n",
      "                            <!-- prod_gift end -->\r\n",
      "                        </div>\r\n",
      "                    </dd>\r\n",
      "                    <dd class=\"Cb clearfix\">\r\n",
      "                         <dl id=\"GiftListContainer\" class=\"prod_gift\">\r\n",
      "                        </dl>\r\n",
      "                        <!-- prod_gift end -->\r\n",
      "                        <!-- prod_option start -->\r\n",
      "                        <dl id=\"GiftListPicContainer\" class=\"prod_option clearfix\">\r\n",
      "                        </dl>\r\n",
      "                         <dl class=\"prod_recommend unblock\" id='AlsoViewAndBuyContainer'>\r\n",
      "                            <dd class=\"head clearfix\">\r\n",
      "                                <ul class=\"tab_box\">\r\n",
      "                                    <li id='AlsoView'><a href=\"javascript:void(0)\">看此商品的人也看了...</a><sup></sup><sub></sub></li>\r\n",
      "                                    <li id='AlsoBuy'><a href=\"javascript:void(0)\">買此商品的人也買了...</a><sup></sup><sub></sub></li>\r\n",
      "                                </ul>\r\n",
      "                            </dd>\r\n",
      "                            <dd  class=\"body clearfix\">\r\n",
      "                                <a href=\"javascript:void(0)\"  style = \"outline:none\" class='left'><span class=\"ico prev\">上一頁</span></a>\r\n",
      "                                <div class=\"list\">\r\n",
      "                                    <dl id=\"AlsoBody\" class=\"clarfix site_looplist vc_120\">\r\n",
      "                                    </dl>\r\n",
      "                                </div>\r\n",
      "                                <a href=\"javascript:void(0)\"  style = \"outline:none\" class='right'><span class=\"ico next\">下一頁</span></a>\r\n",
      "                            </dd>\r\n",
      "                        </dl>\r\n",
      "                        <p class=\"line_dotted\">&nbsp;</p>\r\n",
      "                        <dl id='StoreProdAd800Container' class=\"unblock\"><a class=\"site_ad\" href=\"\" target=\"_blank\"><img src=\"\" /></a></dl>\r\n",
      "                        <!-- prod_intro start -->\r\n",
      "                        <dl id='IntroContainer' class=\"prod_intro unblock\">\r\n",
      "                        </dl>\r\n",
      "                         <!-- prod_intro end -->\r\n",
      "                        <!-- site_btn start -->\r\n",
      "                        <div class=\"site_btn tc\">\r\n",
      "                        </div>\r\n",
      "                        <!-- site_btn end -->\r\n",
      "                        <p class=\"line_dotted\">&nbsp;</p>\r\n",
      "\r\n",
      "                        <!-- prod_add start -->\r\n",
      "                        <dl id=\"MoreAddContainer\" class=\"prod_add unblock\">\r\n",
      "                            <dt>加購專區</dt>\r\n",
      "                            <dd class=\"tr\">\r\n",
      "                                <a id =\"top\" href=\"javascript:void(0)\">△回TOP</a>\r\n",
      "                            </dd>\r\n",
      "                        </dl>\r\n",
      "                        <!-- prod_add end -->\r\n",
      "                        <!-- site_btn start -->\r\n",
      "                        <div class=\"site_btn tc\">\r\n",
      "                        </div>\r\n",
      "                        <!-- prod_info start -->\r\n",
      "                        <p class=\"line_dotted\">&nbsp;</p>\r\n",
      "                        <!-- prod_info start -->\r\n",
      "                        <dl id=\"EquipContainer\" class=\"prod_info site_corner unblock\">\r\n",
      "                            <dd>\r\n",
      "                                <dl>\r\n",
      "                                    <dt>本商品標準配備 + 贈品</dt>\r\n",
      "                                    <dd  id=\"Equiphtml\">\r\n",
      "                                    </dd>\r\n",
      "                                </dl>\r\n",
      "                                <sup class=\"l\"></sup>\r\n",
      "                                <sup class=\"r\"></sup>\r\n",
      "                                <sub class=\"l\"></sub>\r\n",
      "                                <sub class=\"r\"></sub>\r\n",
      "                            </dd>\r\n",
      "                        </dl>\r\n",
      "                        <!-- prod_info end -->\r\n",
      "                        <!-- prod_info start -->\r\n",
      "                        <dl id=\"StmtContainer\" class=\"prod_info site_corner unblock\">\r\n",
      "                            <dd>\r\n",
      "                                <dl>\r\n",
      "                                    <dt>本商品規格</dt>\r\n",
      "                                    <dd  id=\"Foodhtml\">\r\n",
      "                                    </dd>\r\n",
      "                                    <dd  id=\"Stmthtml\">\r\n",
      "                                    </dd>\r\n",
      "                                </dl>\r\n",
      "                                <sup class=\"l\"></sup>\r\n",
      "                                <sup class=\"r\"></sup>\r\n",
      "                                <sub class=\"l\"></sub>\r\n",
      "                                <sub class=\"r\"></sub>\r\n",
      "                            </dd>\r\n",
      "                        </dl>\r\n",
      "                        <!-- prod_info end -->\r\n",
      "                        <!-- prod_info start -->\r\n",
      "                      <dl id=\"RemarkContainer\" class=\"prod_info site_square unblock\">\r\n",
      "                       </dl>\r\n",
      "                        <!-- prod_info end -->\r\n",
      "                        <!-- site_btn start -->\r\n",
      "                        <div class=\"site_btn tc\">\r\n",
      "                        </div>\r\n",
      "                        <!-- site_btn end -->\r\n",
      "                        <p class=\"line_dotted\">&nbsp;</p>\r\n",
      "                        <!-- shop_info start -->\r\n",
      "                        <dl id=\"WarrantyContainer\" class=\"shop_info unblock\">\r\n",
      "                            <dt>運送及其他說明\r\n",
      "                            <b class=\"ico shipping\">配送到府</b>\r\n",
      "                            </dt>\r\n",
      "                            <dd class=\"site_corner\">\r\n",
      "                                <dl class=\"clearfix\">\r\n",
      "                                </dl>\r\n",
      "                                <sup class=\"l\"></sup>\r\n",
      "                                <sup class=\"r\"></sup>\r\n",
      "                                <sub class=\"l\"></sub>\r\n",
      "                                <sub class=\"r\"></sub>\r\n",
      "                            </dd>\r\n",
      "                        </dl>\r\n",
      "                        <dl class=\"shop_info\">\r\n",
      "                            <dt>商品退貨需知<b class=\"ico return\">退貨免費，到府收貨</b></dt>\r\n",
      "                            <dd class=\"site_corner\">\r\n",
      "                                <dl class=\"clearfix\">\r\n",
      "                                    <dt>關於退貨：</dt>\r\n",
      "                                    <dd>PChome Online線上購物的消費者，都可以依照消費者保護法的規定，享有商品貨到次日起七天猶豫期的權益。但猶豫期並非試用期，請留意，您所退回的商品必須回復原狀（須回復至商品到貨時的原始狀態）並且保持完整包裝（包括商品本體、配件、贈品、保證書、原廠包裝及所有附隨文件或資料的完整性），切勿缺漏任何配件或損毀原廠外盒。<br/>\r\n",
      "如果您所購買的商品是電腦軟體、遊戲光碟、CD、VCD、DVD、食品、耗材、個人衛生用品等一經拆封即無法回復原狀的商品，在您還不確定是否要辦理退貨以前，請勿拆封。<br/>\r\n",
      "若您需辦理退貨，請利用顧客中心「查訂單」或「退訂/退款查詢」的「退訂/退貨」功能填寫申請，我們將於接獲申請之次日起1個工作天內檢視您的退貨要求，檢視完畢後將以E-mail回覆通知您，並將委託本公司指定之宅配公司，在5個工作天內透過電話與您連絡前往取回退貨商品。請您保持電話暢通，並備妥原商品及所有包裝及附件，以便於交付予本公司指定之宅配公司取回（宅配公司僅負責收件，退貨商品仍由特約廠商進行驗收），宅配公司取件後會提供簽收單據給您，請注意留存。<br/>\r\n",
      "退回商品時，請以本公司或特約廠商寄送商品給您時所使用的外包裝（紙箱或包裝袋），原封包裝後交付給前來取件的宅配公司；如果本公司或特約廠商寄送商品給您時所使用的外包裝（紙箱或包裝袋）已經遺失，請您在商品原廠外盒之外，再以其他適當的包裝盒進行包裝，切勿任由宅配單直接粘貼在商品原廠外盒上或書寫文字。<br/>\r\n",
      "提醒您，原廠外盒及原廠包裝都屬於商品的一部分，若有遺失、毀損或缺件，可能影響您退貨的權益，也可能依照損毀程度扣除為回復原狀所必要的費用。<br/>\r\n",
      "若因您要求退貨或換貨、或因本公司無法接受您全部或部分之訂單、或因契約解除或失其效力，而需為您辦理退款事宜時，您同意本公司得代您處理發票或折讓單等相關法令所要求之單據，以利本公司為您辦理退款。<br/>\r\n",
      "本公司收到您所提出的申請後，若經確認無誤，將依消費者保護法之相關規定，返還您已支付之對價（含信用卡交易），退款日當天會再發送E-mail通知函給您。<br/>\r\n",
      "                                    </dd>\r\n",
      "                                </dl>\r\n",
      "                                <sup class=\"l\"></sup>\r\n",
      "                                <sup class=\"r\"></sup>\r\n",
      "                                <sub class=\"l\"></sub>\r\n",
      "                                <sub class=\"r\"></sub>\r\n",
      "                            </dd>\r\n",
      "                        </dl>\r\n",
      "                        <!-- shop_info end -->\r\n",
      "                         <!-- site_btn start -->\r\n",
      "                        <div class=\"site_btn tc\">\r\n",
      "                        </div>\r\n",
      "                        <!-- site_btn end -->\r\n",
      "                    </dd>\r\n",
      "                    <!-- Cb end -->\r\n",
      "                </dl>\r\n",
      "                <!-- prod_list end -->\r\n",
      "            </div>\r\n",
      "            <!-- block_C end -->\r\n",
      "            <!-- block_S bt_top start -->\r\n",
      "            <div class=\"block_S bt_top\">\r\n",
      "                <a class ='gototop' href=\"javascript:void(0)\">△回TOP</a>\r\n",
      "            </div>\r\n",
      "            <!-- block_S bt_top end -->\r\n",
      "        </div>\r\n",
      "        <!-- CONTENT end -->\r\n",
      "        <!-- FOOTER start -->\r\n",
      "        <div id=\"FOOTER\">\r\n",
      "            <p><a href=\"http://shopping.pchome.com.tw/\">PChome線上購物</a><b>-</b>網路家庭國際資訊股份有限公司 版權所有‧轉載必究<a class=\"sp\" href=\"http://faq.pchome.com.tw/faq_solution.html?q_id=16&c_nickname=member&f_id=4\">隱私權聲明</a><a class=\"fc-white\" href=\"http://shopping.pchome.com.tw/?mod=sitemap&amp;func=sitemap\" accesskey=\"M\" title=\"網站導覽\">:::</a></p>\r\n",
      "            <p>106 台北市大安區敦化南路二段105號12樓　電話(上班時間)：02-2326-1460<span>(本公司不會以此電話號碼撥打給您，如有來電顯示此號碼，請勿理會)</span></p>\r\n",
      "            <p class=\"sp\">PChome and PChome Online are trademarks of PChome Online Inc.</p>\r\n",
      "            <p>本網站產品已投保新光產物產品責任保險$100,000,000元。(保險證號：130004AKP0000791)</p>\r\n",
      "        </div>\r\n",
      "        <!-- FOOTER end -->\r\n",
      "\r\n",
      "\r\n",
      "        <!--購物車 start-->\r\n",
      "        <div id=\"CarInfo\" class='unblock site_cart'>\r\n",
      "            <span id=\"Cardebug\"></span>\r\n",
      "            <span id=\"theResult\" class=\"the_result\">加入購物車中...</span>\r\n",
      "            <div class=\"cart_box cart cart_1\" href=\"#\">\r\n",
      "                <span class=\"price\"><span class=\"value\">0</span></span>\r\n",
      "                <span class=\"number\">(<a href=\"https://ecssl.pchome.com.tw/sys/cflow/?m=shopcar\">0</a>)</span>\r\n",
      "                <span class=\"check\"><a href=\"https://ecssl.pchome.com.tw/sys/cflow/?m=shopcar\">結帳&gt;</a></span>\r\n",
      "            </div>\r\n",
      "        </div>\r\n",
      "        <!--購物車 end-->\r\n",
      "\r\n",
      "        <!-- 瀏覽記錄 start-->\r\n",
      "        <dl class=\"site_record unblock\">\r\n",
      "            <dd class=\"head\"><span>瀏覽紀錄</span><span class=\"close_box ico close\"></span></dd>\r\n",
      "            <dd class=\"body\">\r\n",
      "                <ul id=\"ul_list\" class=\"col2f\"></ul>\r\n",
      "            </dd>\r\n",
      "            <dd class=\"foot unblock\">\r\n",
      "                <a href=\"#\" target=\"_BLANK\"><span>more&gt;</span></a>\r\n",
      "            </dd>\r\n",
      "        </dl>\r\n",
      "        <!-- 瀏覽記錄 end-->\r\n",
      "\r\n",
      "\r\n",
      "    </div>\r\n",
      "\r\n",
      "    <!--彈出畫面 start-->\r\n",
      "    <div id=\"PopDiscountContainer\" class=\"site_popDiscount unblock\"></div>\r\n",
      "    <div id=\"PopPhoneContainer\" class=\"site_popPhoneNumber unblock\"></div>\r\n",
      "    <div id=\"PopMarketingContainer\" class=\"overlay_lightbox site_popLayout site_popGift unblock\"></div>\r\n",
      "    <!--彈出畫面 end-->\r\n",
      "    <!--分期銀行資料 start-->\r\n",
      "    <div id=\"PopInstallment\" class=\"site_popInstallment unblock\">\r\n",
      "        <dl>\r\n",
      "            <dt>接受{0}家銀行線上分期付款</dt>\r\n",
      "            <dd>{1}</dd>\r\n",
      "            <dd>※除不盡餘數於第一期收取</dd>\r\n",
      "        </dl>\r\n",
      "        <a href=\"javascript:window.close()\">△關視窗</a>\r\n",
      "    </div>\r\n",
      "    <!--分期銀行資料 end-->\r\n",
      "</div>\r\n",
      "<form>\r\n",
      "<input type=\"hidden\" name=\"MyEvent\" id=\"MyEvent\" >\r\n",
      "<input type=\"hidden\" name=\"sid\" id=\"sid\" value=\"\">\r\n",
      "<input type=\"hidden\" name=\"inventory\" id=\"inventory\" value=\"0\">\r\n",
      "</form>\r\n",
      "</body>\r\n",
      "</html>\n"
     ]
    }
   ],
   "source": [
    "import requests\n",
    "res = requests.get('http://24h.pchome.com.tw/prod/DYAP8E-A9006M8J2?q=/S/DYAP8E')\n",
    "print res.text"
   ]
  },
  {
   "cell_type": "code",
   "execution_count": 101,
   "metadata": {
    "collapsed": false
   },
   "outputs": [
    {
     "name": "stdout",
     "output_type": "stream",
     "text": [
      "try{jsonp_prod({\"DYAP8E-A9006M8J2-000\":{\"Seq\":14581809,\"Id\":\"DYAP8E-A9006M8J2-000\",\"Name\":\"Adonit Jot Pro \\u5c08\\u696d\\u96a8\\u884c\\u89f8\\u63a7\\u7b46-\\u73ab\\u7470\\u91d1\",\"Nick\":\"Adonit Jot Pro \\u5c08\\u696d\\u96a8\\u884c\\u89f8\\u63a7\\u7b46-\\u73ab\\u7470\\u91d1\",\"Store\":\"DYAP8E\",\"PreOrdDate\":\"\",\"SpeOrdDate\":\"\",\"Price\":{\"M\":1080,\"P\":1080},\"Discount\":0,\"Pic\":{\"B\":\"\\/pic\\/v1\\/data\\/item\\/201511\\/D\\/Y\\/A\\/P\\/8\\/E\\/DYAP8E-A9006M8J2000_563b3aae12969.jpg\",\"S\":\"\\/pic\\/v1\\/data\\/item\\/201511\\/D\\/Y\\/A\\/P\\/8\\/E\\/sDYAP8E-A9006M8J2000_563b3aae144ca.jpg\"},\"Weight\":0.05,\"ISBN\":\"\",\"Qty\":8,\"Bonus\":0,\"isBig\":0,\"isSpec\":0,\"isCombine\":0,\"isDiy\":0,\"isRecyclable\":0,\"isCarrier\":0,\"isMedical\":0,\"isBigCart\":1,\"isSnapUp\":0,\"isDescAndIntroSync\":0,\"isFoodContents\":0,\"isHuge\":0,\"isEnergySubsidy\":0}});}catch(e){if(window.console){console.log(e);}}\n"
     ]
    }
   ],
   "source": [
    "import requests\n",
    "res = requests.get('http://ecapi.pchome.com.tw/ecshop/prodapi/v2/prod/DYAP8E-A9006M8J2-000&store=DYAP8E&fields=Seq,Id,Name,Nick,Store,PreOrdDate,SpeOrdDate,Price,Discount,Pic,Weight,ISBN,Qty,Bonus,isBig,isSpec,isCombine,isDiy,isRecyclable,isCarrier,isMedical,isBigCart,isSnapUp,isDescAndIntroSync,isFoodContents,isHuge,isEnergySubsidy&_callback=jsonp_prod?_callback=jsonp_prod')\n",
    "print res.text"
   ]
  },
  {
   "cell_type": "code",
   "execution_count": 112,
   "metadata": {
    "collapsed": false
   },
   "outputs": [
    {
     "name": "stdout",
     "output_type": "stream",
     "text": [
      "{\"DYAP8E-A9006M8J2-000\":{\"Seq\":14581809,\"Id\":\"DYAP8E-A9006M8J2-000\",\"Name\":\"Adonit Jot Pro \\u5c08\\u696d\\u96a8\\u884c\\u89f8\\u63a7\\u7b46-\\u73ab\\u7470\\u91d1\",\"Nick\":\"Adonit Jot Pro \\u5c08\\u696d\\u96a8\\u884c\\u89f8\\u63a7\\u7b46-\\u73ab\\u7470\\u91d1\",\"Store\":\"DYAP8E\",\"PreOrdDate\":\"\",\"SpeOrdDate\":\"\",\"Price\":{\"M\":1080,\"P\":1080},\"Discount\":0,\"Pic\":{\"B\":\"\\/pic\\/v1\\/data\\/item\\/201511\\/D\\/Y\\/A\\/P\\/8\\/E\\/DYAP8E-A9006M8J2000_563b3aae12969.jpg\",\"S\":\"\\/pic\\/v1\\/data\\/item\\/201511\\/D\\/Y\\/A\\/P\\/8\\/E\\/sDYAP8E-A9006M8J2000_563b3aae144ca.jpg\"},\"Weight\":0.05,\"ISBN\":\"\",\"Qty\":8,\"Bonus\":0,\"isBig\":0,\"isSpec\":0,\"isCombine\":0,\"isDiy\":0,\"isRecyclable\":0,\"isCarrier\":0,\"isMedical\":0,\"isBigCart\":1,\"isSnapUp\":0,\"isDescAndIntroSync\":0,\"isFoodContents\":0,\"isHuge\":0,\"isEnergySubsidy\":0}}\n"
     ]
    }
   ],
   "source": [
    "import re\n",
    "m = re.search('try\\{jsonp_prod\\((.*?)\\);', res.text)\n",
    "print m.group(1)\n",
    "\n",
    "\n",
    "import json\n",
    "jd = json.loads(m.group(1))"
   ]
  },
  {
   "cell_type": "code",
   "execution_count": 117,
   "metadata": {
    "collapsed": false
   },
   "outputs": [
    {
     "name": "stdout",
     "output_type": "stream",
     "text": [
      "{u'isCombine': 0, u'isSnapUp': 0, u'ISBN': u'', u'Nick': u'Adonit Jot Pro \\u5c08\\u696d\\u96a8\\u884c\\u89f8\\u63a7\\u7b46-\\u73ab\\u7470\\u91d1', u'PreOrdDate': u'', u'isDescAndIntroSync': 0, u'isBig': 0, u'isHuge': 0, u'isMedical': 0, u'Store': u'DYAP8E', u'Bonus': 0, u'isEnergySubsidy': 0, u'Price': {u'P': 1080, u'M': 1080}, u'Discount': 0, u'isFoodContents': 0, u'isCarrier': 0, u'SpeOrdDate': u'', u'isRecyclable': 0, u'Name': u'Adonit Jot Pro \\u5c08\\u696d\\u96a8\\u884c\\u89f8\\u63a7\\u7b46-\\u73ab\\u7470\\u91d1', u'isDiy': 0, u'isBigCart': 1, u'Weight': 0.05, u'Seq': 14581809, u'isSpec': 0, u'Pic': {u'S': u'/pic/v1/data/item/201511/D/Y/A/P/8/E/sDYAP8E-A9006M8J2000_563b3aae144ca.jpg', u'B': u'/pic/v1/data/item/201511/D/Y/A/P/8/E/DYAP8E-A9006M8J2000_563b3aae12969.jpg'}, u'Qty': 8, u'Id': u'DYAP8E-A9006M8J2-000'}\n",
      "{u'P': 1080, u'M': 1080}\n",
      "1080\n"
     ]
    }
   ],
   "source": [
    "#print jd\n",
    "print jd['DYAP8E-A9006M8J2-000']\n",
    "print jd['DYAP8E-A9006M8J2-000']['Price']\n",
    "print jd['DYAP8E-A9006M8J2-000']['Price']['P']"
   ]
  },
  {
   "cell_type": "raw",
   "metadata": {},
   "source": [
    "-- XML\n",
    "<Department>\n",
    "    <Employee>\n",
    "        <name>qoo</name>\n",
    "        <gender>M</gender>\n",
    "    </Employee>\n",
    "    <Employee>\n",
    "        <name>oop</name>\n",
    "    </Employee>\n",
    "    <Employee>\n",
    "        <name>abc</name>\n",
    "        <gender>F</gender>\n",
    "    </Employee>\n",
    "</Department>"
   ]
  },
  {
   "cell_type": "code",
   "execution_count": 169,
   "metadata": {
    "collapsed": false
   },
   "outputs": [],
   "source": [
    "# JSON\n",
    "J = '''{u'department': [\n",
    "{u'gender': u'M', u'name': u'qoo'}, \n",
    "{u'name': u'oop'}, \n",
    "{u'gender': u'F', u'name': u'abc'}\n",
    "]\n",
    "}'''\n"
   ]
  },
  {
   "cell_type": "code",
   "execution_count": 170,
   "metadata": {
    "collapsed": false
   },
   "outputs": [
    {
     "name": "stdout",
     "output_type": "stream",
     "text": [
      "<type 'dict'>\n",
      "{\"department\": [{\"gender\": \"M\", \"name\": \"qoo\"}, {\"name\": \"oop\"}, {\"gender\": \"F\", \"name\": \"abc\"}]}\n",
      "{u'department': [{u'gender': u'M', u'name': u'qoo'}, {u'name': u'oop'}, {u'gender': u'F', u'name': u'abc'}]}\n"
     ]
    }
   ],
   "source": [
    "# JSON\n",
    "import json\n",
    "J = {'department':[{'name':'qoo', 'gender':'M'}, {'name':'oop'}, {'name':'abc', 'gender':'F'}]}\n",
    "\n",
    "print type(J)\n",
    "print json.dumps(J)\n",
    "print json.loads('{\"department\": [{\"gender\": \"M\", \"name\": \"qoo\"}, {\"name\": \"oop\"}, {\"gender\": \"F\", \"name\": \"abc\"}]}')"
   ]
  },
  {
   "cell_type": "code",
   "execution_count": null,
   "metadata": {
    "collapsed": true
   },
   "outputs": [],
   "source": []
  }
 ],
 "metadata": {
  "kernelspec": {
   "display_name": "Python 2",
   "language": "python",
   "name": "python2"
  },
  "language_info": {
   "codemirror_mode": {
    "name": "ipython",
    "version": 2
   },
   "file_extension": ".py",
   "mimetype": "text/x-python",
   "name": "python",
   "nbconvert_exporter": "python",
   "pygments_lexer": "ipython2",
   "version": "2.7.10"
  }
 },
 "nbformat": 4,
 "nbformat_minor": 0
}
