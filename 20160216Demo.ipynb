{
 "cells": [
  {
   "cell_type": "code",
   "execution_count": 1,
   "metadata": {
    "collapsed": false
   },
   "outputs": [
    {
     "name": "stdout",
     "output_type": "stream",
     "text": [
      "5\n"
     ]
    }
   ],
   "source": [
    "# Java - Integer a = new Integer()\n",
    "# python version\n",
    "a = 3\n",
    "b = 2\n",
    "print a + b"
   ]
  },
  {
   "cell_type": "code",
   "execution_count": 2,
   "metadata": {
    "collapsed": false
   },
   "outputs": [
    {
     "name": "stdout",
     "output_type": "stream",
     "text": [
      " 磁碟區 C 中的磁碟沒有標籤。\n",
      " 磁碟區序號:  5E12-79CB\n",
      "\n",
      " C:\\Users\\BIG DATA\\pythonetl 的目錄\n",
      "\n",
      "2016/02/16  上午 10:26    <DIR>          .\n",
      "2016/02/16  上午 10:26    <DIR>          ..\n",
      "2016/02/16  上午 10:23    <DIR>          .ipynb_checkpoints\n",
      "2016/02/16  上午 09:59           157,847 201506 ETL 課程預先安裝說明_v3.docx\n",
      "2016/02/16  上午 09:59           168,605 201506 ETL 課程預先安裝說明_v3.pdf\n",
      "2016/02/16  上午 09:59           295,891 20151104Demo.ipynb\n",
      "2016/02/16  上午 09:59           787,759 20151110Demo.ipynb\n",
      "2016/02/16  上午 09:59           201,104 20151112Demo.ipynb\n",
      "2016/02/16  上午 09:59           174,093 20151117Demo.ipynb\n",
      "2016/02/16  上午 10:26               945 20160216Demo.ipynb\n",
      "2016/02/16  上午 09:59            36,562 bid_list.txt\n",
      "2016/02/16  上午 09:59    <DIR>          gov\n",
      "2016/02/16  上午 09:59             5,033 ma.txt\n",
      "2016/02/16  上午 09:59            47,175 Python_Basic.ipynb\n",
      "2016/02/16  上午 09:59            38,273 Python_ETL_1.ipynb\n",
      "2016/02/16  上午 09:59            67,224 Python_ETL_2.ipynb\n",
      "2016/02/16  上午 09:59            55,367 Python_Introduction.ipynb\n",
      "2016/02/16  上午 09:59               577 README.md\n",
      "2016/02/16  上午 09:59    <DIR>          src\n",
      "2016/02/16  上午 09:59           545,174 Untitled0.ipynb\n",
      "              15 個檔案       2,581,629 位元組\n",
      "               5 個目錄  84,512,149,504 位元組可用\n"
     ]
    }
   ],
   "source": [
    "%ls"
   ]
  },
  {
   "cell_type": "markdown",
   "metadata": {},
   "source": [
    "### 開啟一個HTTP 伺服器\n",
    "- python -m SimpleHTTPServer\n",
    "- Server at 0.0.0.0 port 8000"
   ]
  },
  {
   "cell_type": "code",
   "execution_count": 3,
   "metadata": {
    "collapsed": false
   },
   "outputs": [
    {
     "name": "stdout",
     "output_type": "stream",
     "text": [
      "5\n"
     ]
    }
   ],
   "source": [
    "print a + 2"
   ]
  },
  {
   "cell_type": "code",
   "execution_count": null,
   "metadata": {
    "collapsed": true
   },
   "outputs": [],
   "source": [
    "# pip install requests\n",
    "# pip install BeautifulSoup4"
   ]
  },
  {
   "cell_type": "code",
   "execution_count": 71,
   "metadata": {
    "collapsed": false
   },
   "outputs": [],
   "source": [
    "import requests\n",
    "res = requests.get('https://www.ptt.cc/bbs/Food/index.html')\n",
    "#print res.text"
   ]
  },
  {
   "cell_type": "code",
   "execution_count": 124,
   "metadata": {
    "collapsed": false
   },
   "outputs": [
    {
     "name": "stdout",
     "output_type": "stream",
     "text": [
      "[公告] Food板 板規 V3.8\n",
      "[公告] 發文請在標題加上地區及提供地址電話。^^\n",
      "[公告] 文章被刪除者請洽精華區的資源回收桶\n",
      "[公告] 板規16發文標題須含餐廳店名之調整\n"
     ]
    }
   ],
   "source": [
    "from bs4 import BeautifulSoup \n",
    "soup = BeautifulSoup(res.text)\n",
    "for head in soup.select('.r-ent a'):\n",
    "    #print head.text\n",
    "    #if len(head.text.split()) > 0 :\n",
    "    #    print head.text.split()[0]\n",
    "    if '公告'.decode('utf-8') in head.text:\n",
    "        print head.text"
   ]
  },
  {
   "cell_type": "code",
   "execution_count": 7,
   "metadata": {
    "collapsed": false
   },
   "outputs": [
    {
     "name": "stdout",
     "output_type": "stream",
     "text": [
      "3\n"
     ]
    }
   ],
   "source": [
    "print a"
   ]
  },
  {
   "cell_type": "code",
   "execution_count": 8,
   "metadata": {
    "collapsed": false
   },
   "outputs": [
    {
     "ename": "TypeError",
     "evalue": "unsupported operand type(s) for +: 'int' and 'str'",
     "output_type": "error",
     "traceback": [
      "\u001b[1;31m---------------------------------------------------------------------------\u001b[0m",
      "\u001b[1;31mTypeError\u001b[0m                                 Traceback (most recent call last)",
      "\u001b[1;32m<ipython-input-8-12b88ba88b30>\u001b[0m in \u001b[0;36m<module>\u001b[1;34m()\u001b[0m\n\u001b[0;32m      1\u001b[0m \u001b[0mb\u001b[0m \u001b[1;33m=\u001b[0m \u001b[1;34m'hello world'\u001b[0m\u001b[1;33m\u001b[0m\u001b[0m\n\u001b[1;32m----> 2\u001b[1;33m \u001b[1;32mprint\u001b[0m \u001b[0ma\u001b[0m \u001b[1;33m+\u001b[0m \u001b[0mb\u001b[0m\u001b[1;33m\u001b[0m\u001b[0m\n\u001b[0m",
      "\u001b[1;31mTypeError\u001b[0m: unsupported operand type(s) for +: 'int' and 'str'"
     ]
    }
   ],
   "source": [
    "b = 'hello world'\n",
    "print a + b"
   ]
  },
  {
   "cell_type": "code",
   "execution_count": 9,
   "metadata": {
    "collapsed": false
   },
   "outputs": [
    {
     "name": "stdout",
     "output_type": "stream",
     "text": [
      "<type 'int'>\n",
      "<type 'str'>\n"
     ]
    }
   ],
   "source": [
    "print type(a)\n",
    "print type(b)"
   ]
  },
  {
   "cell_type": "code",
   "execution_count": 10,
   "metadata": {
    "collapsed": false
   },
   "outputs": [
    {
     "name": "stdout",
     "output_type": "stream",
     "text": [
      "['__abs__', '__add__', '__and__', '__class__', '__cmp__', '__coerce__', '__delattr__', '__div__', '__divmod__', '__doc__', '__float__', '__floordiv__', '__format__', '__getattribute__', '__getnewargs__', '__hash__', '__hex__', '__index__', '__init__', '__int__', '__invert__', '__long__', '__lshift__', '__mod__', '__mul__', '__neg__', '__new__', '__nonzero__', '__oct__', '__or__', '__pos__', '__pow__', '__radd__', '__rand__', '__rdiv__', '__rdivmod__', '__reduce__', '__reduce_ex__', '__repr__', '__rfloordiv__', '__rlshift__', '__rmod__', '__rmul__', '__ror__', '__rpow__', '__rrshift__', '__rshift__', '__rsub__', '__rtruediv__', '__rxor__', '__setattr__', '__sizeof__', '__str__', '__sub__', '__subclasshook__', '__truediv__', '__trunc__', '__xor__', 'bit_length', 'conjugate', 'denominator', 'imag', 'numerator', 'real']\n"
     ]
    }
   ],
   "source": [
    "print dir(a)"
   ]
  },
  {
   "cell_type": "code",
   "execution_count": 12,
   "metadata": {
    "collapsed": false
   },
   "outputs": [],
   "source": [
    "import sys\n",
    "# This is a single line comment\n",
    "def main():    \n",
    "    print'Hello World'"
   ]
  },
  {
   "cell_type": "code",
   "execution_count": 13,
   "metadata": {
    "collapsed": false
   },
   "outputs": [
    {
     "name": "stdout",
     "output_type": "stream",
     "text": [
      "Hello World\n"
     ]
    }
   ],
   "source": [
    "main()"
   ]
  },
  {
   "cell_type": "code",
   "execution_count": 14,
   "metadata": {
    "collapsed": true
   },
   "outputs": [
    {
     "name": "stdout",
     "output_type": "stream",
     "text": [
      "Help on built-in module sys:\n",
      "\n",
      "NAME\n",
      "    sys\n",
      "\n",
      "FILE\n",
      "    (built-in)\n",
      "\n",
      "MODULE DOCS\n",
      "    http://docs.python.org/library/sys\n",
      "\n",
      "DESCRIPTION\n",
      "    This module provides access to some objects used or maintained by the\n",
      "    interpreter and to functions that interact strongly with the interpreter.\n",
      "    \n",
      "    Dynamic objects:\n",
      "    \n",
      "    argv -- command line arguments; argv[0] is the script pathname if known\n",
      "    path -- module search path; path[0] is the script directory, else ''\n",
      "    modules -- dictionary of loaded modules\n",
      "    \n",
      "    displayhook -- called to show results in an interactive session\n",
      "    excepthook -- called to handle any uncaught exception other than SystemExit\n",
      "      To customize printing in an interactive session or to install a custom\n",
      "      top-level exception handler, assign other functions to replace these.\n",
      "    \n",
      "    exitfunc -- if sys.exitfunc exists, this routine is called when Python exits\n",
      "      Assigning to sys.exitfunc is deprecated; use the atexit module instead.\n",
      "    \n",
      "    stdin -- standard input file object; used by raw_input() and input()\n",
      "    stdout -- standard output file object; used by the print statement\n",
      "    stderr -- standard error object; used for error messages\n",
      "      By assigning other file objects (or objects that behave like files)\n",
      "      to these, it is possible to redirect all of the interpreter's I/O.\n",
      "    \n",
      "    last_type -- type of last uncaught exception\n",
      "    last_value -- value of last uncaught exception\n",
      "    last_traceback -- traceback of last uncaught exception\n",
      "      These three are only available in an interactive session after a\n",
      "      traceback has been printed.\n",
      "    \n",
      "    exc_type -- type of exception currently being handled\n",
      "    exc_value -- value of exception currently being handled\n",
      "    exc_traceback -- traceback of exception currently being handled\n",
      "      The function exc_info() should be used instead of these three,\n",
      "      because it is thread-safe.\n",
      "    \n",
      "    Static objects:\n",
      "    \n",
      "    float_info -- a dict with information about the float inplementation.\n",
      "    long_info -- a struct sequence with information about the long implementation.\n",
      "    maxint -- the largest supported integer (the smallest is -maxint-1)\n",
      "    maxsize -- the largest supported length of containers.\n",
      "    maxunicode -- the largest supported character\n",
      "    builtin_module_names -- tuple of module names built into this interpreter\n",
      "    version -- the version of this interpreter as a string\n",
      "    version_info -- version information as a named tuple\n",
      "    hexversion -- version information encoded as a single integer\n",
      "    copyright -- copyright notice pertaining to this interpreter\n",
      "    platform -- platform identifier\n",
      "    executable -- absolute path of the executable binary of the Python interpreter\n",
      "    prefix -- prefix used to find the Python library\n",
      "    exec_prefix -- prefix used to find the machine-specific Python library\n",
      "    float_repr_style -- string indicating the style of repr() output for floats\n",
      "    dllhandle -- [Windows only] integer handle of the Python DLL\n",
      "    winver -- [Windows only] version number of the Python DLL\n",
      "    __stdin__ -- the original stdin; don't touch!\n",
      "    __stdout__ -- the original stdout; don't touch!\n",
      "    __stderr__ -- the original stderr; don't touch!\n",
      "    __displayhook__ -- the original displayhook; don't touch!\n",
      "    __excepthook__ -- the original excepthook; don't touch!\n",
      "    \n",
      "    Functions:\n",
      "    \n",
      "    displayhook() -- print an object to the screen, and save it in __builtin__._\n",
      "    excepthook() -- print an exception and its traceback to sys.stderr\n",
      "    exc_info() -- return thread-safe information about the current exception\n",
      "    exc_clear() -- clear the exception state for the current thread\n",
      "    exit() -- exit the interpreter by raising SystemExit\n",
      "    getdlopenflags() -- returns flags to be used for dlopen() calls\n",
      "    getprofile() -- get the global profiling function\n",
      "    getrefcount() -- return the reference count for an object (plus one :-)\n",
      "    getrecursionlimit() -- return the max recursion depth for the interpreter\n",
      "    getsizeof() -- return the size of an object in bytes\n",
      "    gettrace() -- get the global debug tracing function\n",
      "    setcheckinterval() -- control how often the interpreter checks for events\n",
      "    setdlopenflags() -- set the flags to be used for dlopen() calls\n",
      "    setprofile() -- set the global profiling function\n",
      "    setrecursionlimit() -- set the max recursion depth for the interpreter\n",
      "    settrace() -- set the global debug tracing function\n",
      "\n",
      "FUNCTIONS\n",
      "    __displayhook__ = displayhook(...)\n",
      "        displayhook(object) -> None\n",
      "        \n",
      "        Print an object to sys.stdout and also save it in __builtin__._\n",
      "    \n",
      "    __excepthook__ = excepthook(...)\n",
      "        excepthook(exctype, value, traceback) -> None\n",
      "        \n",
      "        Handle an exception by displaying it with a traceback on sys.stderr.\n",
      "    \n",
      "    call_tracing(...)\n",
      "        call_tracing(func, args) -> object\n",
      "        \n",
      "        Call func(*args), while tracing is enabled.  The tracing state is\n",
      "        saved, and restored afterwards.  This is intended to be called from\n",
      "        a debugger from a checkpoint, to recursively debug some other code.\n",
      "    \n",
      "    callstats(...)\n",
      "        callstats() -> tuple of integers\n",
      "        \n",
      "        Return a tuple of function call statistics, if CALL_PROFILE was defined\n",
      "        when Python was built.  Otherwise, return None.\n",
      "        \n",
      "        When enabled, this function returns detailed, implementation-specific\n",
      "        details about the number of function calls executed. The return value is\n",
      "        a 11-tuple where the entries in the tuple are counts of:\n",
      "        0. all function calls\n",
      "        1. calls to PyFunction_Type objects\n",
      "        2. PyFunction calls that do not create an argument tuple\n",
      "        3. PyFunction calls that do not create an argument tuple\n",
      "           and bypass PyEval_EvalCodeEx()\n",
      "        4. PyMethod calls\n",
      "        5. PyMethod calls on bound methods\n",
      "        6. PyType calls\n",
      "        7. PyCFunction calls\n",
      "        8. generator calls\n",
      "        9. All other calls\n",
      "        10. Number of stack pops performed by call_function()\n",
      "    \n",
      "    exc_clear(...)\n",
      "        exc_clear() -> None\n",
      "        \n",
      "        Clear global information on the current exception.  Subsequent calls to\n",
      "        exc_info() will return (None,None,None) until another exception is raised\n",
      "        in the current thread or the execution stack returns to a frame where\n",
      "        another exception is being handled.\n",
      "    \n",
      "    exc_info(...)\n",
      "        exc_info() -> (type, value, traceback)\n",
      "        \n",
      "        Return information about the most recent exception caught by an except\n",
      "        clause in the current stack frame or in an older stack frame.\n",
      "    \n",
      "    exit(...)\n",
      "        exit([status])\n",
      "        \n",
      "        Exit the interpreter by raising SystemExit(status).\n",
      "        If the status is omitted or None, it defaults to zero (i.e., success).\n",
      "        If the status is an integer, it will be used as the system exit status.\n",
      "        If it is another kind of object, it will be printed and the system\n",
      "        exit status will be one (i.e., failure).\n",
      "    \n",
      "    getcheckinterval(...)\n",
      "        getcheckinterval() -> current check interval; see setcheckinterval().\n",
      "    \n",
      "    getdefaultencoding(...)\n",
      "        getdefaultencoding() -> string\n",
      "        \n",
      "        Return the current default string encoding used by the Unicode \n",
      "        implementation.\n",
      "    \n",
      "    getfilesystemencoding(...)\n",
      "        getfilesystemencoding() -> string\n",
      "        \n",
      "        Return the encoding used to convert Unicode filenames in\n",
      "        operating system filenames.\n",
      "    \n",
      "    getprofile(...)\n",
      "        getprofile()\n",
      "        \n",
      "        Return the profiling function set with sys.setprofile.\n",
      "        See the profiler chapter in the library manual.\n",
      "    \n",
      "    getrecursionlimit(...)\n",
      "        getrecursionlimit()\n",
      "        \n",
      "        Return the current value of the recursion limit, the maximum depth\n",
      "        of the Python interpreter stack.  This limit prevents infinite\n",
      "        recursion from causing an overflow of the C stack and crashing Python.\n",
      "    \n",
      "    getrefcount(...)\n",
      "        getrefcount(object) -> integer\n",
      "        \n",
      "        Return the reference count of object.  The count returned is generally\n",
      "        one higher than you might expect, because it includes the (temporary)\n",
      "        reference as an argument to getrefcount().\n",
      "    \n",
      "    getsizeof(...)\n",
      "        getsizeof(object, default) -> int\n",
      "        \n",
      "        Return the size of object in bytes.\n",
      "    \n",
      "    gettrace(...)\n",
      "        gettrace()\n",
      "        \n",
      "        Return the global debug tracing function set with sys.settrace.\n",
      "        See the debugger chapter in the library manual.\n",
      "    \n",
      "    getwindowsversion(...)\n",
      "        getwindowsversion()\n",
      "        \n",
      "        Return information about the running version of Windows as a named tuple.\n",
      "        The members are named: major, minor, build, platform, service_pack,\n",
      "        service_pack_major, service_pack_minor, suite_mask, and product_type. For\n",
      "        backward compatibility, only the first 5 items are available by indexing.\n",
      "        All elements are numbers, except service_pack which is a string. Platform\n",
      "        may be 0 for win32s, 1 for Windows 9x/ME, 2 for Windows NT/2000/XP/Vista/7,\n",
      "        3 for Windows CE. Product_type may be 1 for a workstation, 2 for a domain\n",
      "        controller, 3 for a server.\n",
      "    \n",
      "    setcheckinterval(...)\n",
      "        setcheckinterval(n)\n",
      "        \n",
      "        Tell the Python interpreter to check for asynchronous events every\n",
      "        n instructions.  This also affects how often thread switches occur.\n",
      "    \n",
      "    setprofile(...)\n",
      "        setprofile(function)\n",
      "        \n",
      "        Set the profiling function.  It will be called on each function call\n",
      "        and return.  See the profiler chapter in the library manual.\n",
      "    \n",
      "    setrecursionlimit(...)\n",
      "        setrecursionlimit(n)\n",
      "        \n",
      "        Set the maximum depth of the Python interpreter stack to n.  This\n",
      "        limit prevents infinite recursion from causing an overflow of the C\n",
      "        stack and crashing Python.  The highest possible limit is platform-\n",
      "        dependent.\n",
      "    \n",
      "    settrace(...)\n",
      "        settrace(function)\n",
      "        \n",
      "        Set the global debug tracing function.  It will be called on each\n",
      "        function call.  See the debugger chapter in the library manual.\n",
      "\n",
      "DATA\n",
      "    __stderr__ = <open file '<stderr>', mode 'w'>\n",
      "    __stdin__ = <open file '<stdin>', mode 'r'>\n",
      "    __stdout__ = <open file '<stdout>', mode 'w'>\n",
      "    api_version = 1013\n",
      "    argv = [r'C:\\Users\\BIG DATA\\Anaconda2\\lib\\site-packages\\ipykernel\\__ma...\n",
      "    builtin_module_names = ('__builtin__', '__main__', '_ast', '_bisect', ...\n",
      "    byteorder = 'little'\n",
      "    copyright = 'Copyright (c) 2001-2015 Python Software Foundati...ematis...\n",
      "    displayhook = <ipykernel.displayhook.ZMQShellDisplayHook object>\n",
      "    dllhandle = 503316480L\n",
      "    dont_write_bytecode = False\n",
      "    exc_value = TypeError(\"<module 'sys' (built-in)> is a built-in module\"...\n",
      "    exec_prefix = r'C:\\Users\\BIG DATA\\Anaconda2'\n",
      "    executable = r'C:\\Users\\BIG DATA\\Anaconda2\\python.exe'\n",
      "    flags = sys.flags(debug=0, py3k_warning=0, division_warn...unicode=0, ...\n",
      "    float_info = sys.float_info(max=1.7976931348623157e+308, max_...epsilo...\n",
      "    float_repr_style = 'short'\n",
      "    hexversion = 34016240\n",
      "    last_value = NameError(\"name 'importsys' is not defined\",)\n",
      "    long_info = sys.long_info(bits_per_digit=30, sizeof_digit=4)\n",
      "    maxint = 2147483647\n",
      "    maxsize = 9223372036854775807L\n",
      "    maxunicode = 65535\n",
      "    meta_path = []\n",
      "    modules = {'Cookie': <module 'Cookie' from 'C:\\Users\\BIG DATA\\Anaconda...\n",
      "    path = ['', r'C:\\Users\\BIG DATA\\Anaconda2\\python27.zip', r'C:\\Users\\BI...\n",
      "    path_hooks = [<type 'zipimport.zipimporter'>]\n",
      "    path_importer_cache = {'': None, r'C:\\Users\\BIG DATA\\.ipython': None, ...\n",
      "    platform = 'win32'\n",
      "    prefix = r'C:\\Users\\BIG DATA\\Anaconda2'\n",
      "    ps1 = 'In : '\n",
      "    ps2 = '...: '\n",
      "    ps3 = 'Out: '\n",
      "    py3kwarning = False\n",
      "    stderr = <ipykernel.iostream.OutStream object>\n",
      "    stdin = <open file '<stdin>', mode 'r'>\n",
      "    stdout = <ipykernel.iostream.OutStream object>\n",
      "    subversion = ('CPython', '', '')\n",
      "    version = '2.7.11 |Anaconda 2.4.1 (64-bit)| (default, Dec  7 2015, 14:...\n",
      "    version_info = sys.version_info(major=2, minor=7, micro=11, releaselev...\n",
      "    warnoptions = []\n",
      "    winver = '2.7'\n",
      "\n",
      "\n",
      "None\n"
     ]
    }
   ],
   "source": [
    "print help(sys)"
   ]
  },
  {
   "cell_type": "code",
   "execution_count": 15,
   "metadata": {
    "collapsed": true
   },
   "outputs": [],
   "source": [
    "?sys"
   ]
  },
  {
   "cell_type": "code",
   "execution_count": 16,
   "metadata": {
    "collapsed": true
   },
   "outputs": [
    {
     "data": {
      "text/plain": [
       "['__displayhook__',\n",
       " '__doc__',\n",
       " '__excepthook__',\n",
       " '__name__',\n",
       " '__package__',\n",
       " '__stderr__',\n",
       " '__stdin__',\n",
       " '__stdout__',\n",
       " '_clear_type_cache',\n",
       " '_current_frames',\n",
       " '_getframe',\n",
       " '_mercurial',\n",
       " 'api_version',\n",
       " 'argv',\n",
       " 'builtin_module_names',\n",
       " 'byteorder',\n",
       " 'call_tracing',\n",
       " 'callstats',\n",
       " 'copyright',\n",
       " 'displayhook',\n",
       " 'dllhandle',\n",
       " 'dont_write_bytecode',\n",
       " 'exc_clear',\n",
       " 'exc_info',\n",
       " 'exc_type',\n",
       " 'excepthook',\n",
       " 'exec_prefix',\n",
       " 'executable',\n",
       " 'exit',\n",
       " 'exitfunc',\n",
       " 'flags',\n",
       " 'float_info',\n",
       " 'float_repr_style',\n",
       " 'getcheckinterval',\n",
       " 'getdefaultencoding',\n",
       " 'getfilesystemencoding',\n",
       " 'getprofile',\n",
       " 'getrecursionlimit',\n",
       " 'getrefcount',\n",
       " 'getsizeof',\n",
       " 'gettrace',\n",
       " 'getwindowsversion',\n",
       " 'hexversion',\n",
       " 'last_traceback',\n",
       " 'last_type',\n",
       " 'last_value',\n",
       " 'long_info',\n",
       " 'maxint',\n",
       " 'maxsize',\n",
       " 'maxunicode',\n",
       " 'meta_path',\n",
       " 'modules',\n",
       " 'path',\n",
       " 'path_hooks',\n",
       " 'path_importer_cache',\n",
       " 'platform',\n",
       " 'prefix',\n",
       " 'ps1',\n",
       " 'ps2',\n",
       " 'ps3',\n",
       " 'py3kwarning',\n",
       " 'setcheckinterval',\n",
       " 'setprofile',\n",
       " 'setrecursionlimit',\n",
       " 'settrace',\n",
       " 'stderr',\n",
       " 'stdin',\n",
       " 'stdout',\n",
       " 'subversion',\n",
       " 'version',\n",
       " 'version_info',\n",
       " 'warnoptions',\n",
       " 'winver']"
      ]
     },
     "execution_count": 16,
     "metadata": {},
     "output_type": "execute_result"
    }
   ],
   "source": [
    "dir(sys)"
   ]
  },
  {
   "cell_type": "code",
   "execution_count": 17,
   "metadata": {
    "collapsed": false
   },
   "outputs": [
    {
     "name": "stdout",
     "output_type": "stream",
     "text": [
      "Help on built-in function exit in module sys:\n",
      "\n",
      "exit(...)\n",
      "    exit([status])\n",
      "    \n",
      "    Exit the interpreter by raising SystemExit(status).\n",
      "    If the status is omitted or None, it defaults to zero (i.e., success).\n",
      "    If the status is an integer, it will be used as the system exit status.\n",
      "    If it is another kind of object, it will be printed and the system\n",
      "    exit status will be one (i.e., failure).\n",
      "\n",
      "None\n"
     ]
    }
   ],
   "source": [
    "print help(sys.exit)"
   ]
  },
  {
   "cell_type": "code",
   "execution_count": 18,
   "metadata": {
    "collapsed": false
   },
   "outputs": [
    {
     "name": "stdout",
     "output_type": "stream",
     "text": [
      "Hello from python\n",
      "Hello from python\n"
     ]
    }
   ],
   "source": [
    "# python 3\n",
    "print(\"Hello from python\")\n",
    "\n",
    "# python 2\n",
    "print \"Hello from python\""
   ]
  },
  {
   "cell_type": "code",
   "execution_count": null,
   "metadata": {
    "collapsed": false
   },
   "outputs": [],
   "source": [
    "raw_input(\"How are you?\")"
   ]
  },
  {
   "cell_type": "code",
   "execution_count": 1,
   "metadata": {
    "collapsed": false
   },
   "outputs": [
    {
     "name": "stdout",
     "output_type": "stream",
     "text": [
      "How are you?ok\n"
     ]
    }
   ],
   "source": [
    "answer = raw_input(\"How are you?\")"
   ]
  },
  {
   "cell_type": "code",
   "execution_count": 2,
   "metadata": {
    "collapsed": false
   },
   "outputs": [
    {
     "name": "stdout",
     "output_type": "stream",
     "text": [
      "ok\n"
     ]
    }
   ],
   "source": [
    "print answer"
   ]
  },
  {
   "cell_type": "code",
   "execution_count": 4,
   "metadata": {
    "collapsed": false
   },
   "outputs": [
    {
     "name": "stdout",
     "output_type": "stream",
     "text": [
      "What is your name?Kevin\n",
      "Your name again?\n"
     ]
    }
   ],
   "source": [
    "name=raw_input(\"What is your name?\")\n",
    "\n",
    "if name==\"David\":\n",
    "    print \"Nice to meeyou! \"+name\n",
    "else:\n",
    "    print \"Your name again?\""
   ]
  },
  {
   "cell_type": "code",
   "execution_count": 9,
   "metadata": {
    "collapsed": false
   },
   "outputs": [],
   "source": [
    "def main():\n",
    "    print'Hello World'"
   ]
  },
  {
   "cell_type": "code",
   "execution_count": 16,
   "metadata": {
    "collapsed": false
   },
   "outputs": [
    {
     "name": "stdout",
     "output_type": "stream",
     "text": [
      "Hello, my name is David, I am 18 year's old, my profession is RD\n",
      "Hello, my name is David, I am 18 year's old, my profession is RD\n",
      "Hello, my name is David, I am 18 year's old, my profession is RD\n"
     ]
    }
   ],
   "source": [
    "age = \"18\"\n",
    "name = \"David\"\n",
    "profession = \"RD\"\n",
    "\n",
    "# original, with + notation\n",
    "print \"Hello, my name is \" + name + \", I am \" + age + \" year's old, my profession is \" + profession\n",
    "\n",
    "# format - best practice\n",
    "print \"Hello, my name is {}, I am {} year's old, my profession is {}\".format(name,age,profession)\n",
    "\n",
    "# cstring format\n",
    "print \"Hello, my name is %s, I am %s year's old, my profession is %s\"%(name,age,profession)"
   ]
  },
  {
   "cell_type": "code",
   "execution_count": 18,
   "metadata": {
    "collapsed": false
   },
   "outputs": [
    {
     "name": "stdout",
     "output_type": "stream",
     "text": [
      "What is your name?Kevin\n",
      "Your name again? Is it Kevin ?\n"
     ]
    }
   ],
   "source": [
    "name=raw_input(\"What is your name?\")\n",
    "\n",
    "if name==\"David\":\n",
    "    print(\"Nice to meeyou! {}\".format(name))\n",
    "else:\n",
    "    print(\"Your name again? Is it %s ?\"%(name))"
   ]
  },
  {
   "cell_type": "code",
   "execution_count": 20,
   "metadata": {
    "collapsed": false
   },
   "outputs": [
    {
     "name": "stdout",
     "output_type": "stream",
     "text": [
      "5\n",
      "-1\n",
      "<type 'int'>\n",
      "<type 'int'>\n"
     ]
    }
   ],
   "source": [
    "a = 2\n",
    "b = 3\n",
    "print a + b\n",
    "print a - b\n",
    "print type(a)\n",
    "print type(b)"
   ]
  },
  {
   "cell_type": "code",
   "execution_count": 23,
   "metadata": {
    "collapsed": false
   },
   "outputs": [
    {
     "name": "stdout",
     "output_type": "stream",
     "text": [
      "<type 'float'>\n",
      "4.0\n",
      "1.0\n",
      "<type 'float'>\n"
     ]
    }
   ],
   "source": [
    "c = 2.5\n",
    "d = 1.5\n",
    "print type(c)\n",
    "print c + d\n",
    "print c - d\n",
    "print type(c-d)"
   ]
  },
  {
   "cell_type": "code",
   "execution_count": 25,
   "metadata": {
    "collapsed": false
   },
   "outputs": [
    {
     "name": "stdout",
     "output_type": "stream",
     "text": [
      "<type 'int'>\n",
      "<type 'float'>\n"
     ]
    }
   ],
   "source": [
    "b = 3\n",
    "print type(b)\n",
    "b = float(b)\n",
    "print type(b)"
   ]
  },
  {
   "cell_type": "code",
   "execution_count": 27,
   "metadata": {
    "collapsed": false
   },
   "outputs": [
    {
     "name": "stdout",
     "output_type": "stream",
     "text": [
      "Repeat Times: 3\n",
      "QooQooQoo\n"
     ]
    }
   ],
   "source": [
    "times =raw_input(\"Repeat Times: \")\n",
    "\n",
    "print \"Qoo\"* int(times)"
   ]
  },
  {
   "cell_type": "code",
   "execution_count": 32,
   "metadata": {
    "collapsed": false
   },
   "outputs": [
    {
     "name": "stdout",
     "output_type": "stream",
     "text": [
      "0\n",
      "0.333333333333\n"
     ]
    },
    {
     "ename": "ZeroDivisionError",
     "evalue": "integer division or modulo by zero",
     "output_type": "error",
     "traceback": [
      "\u001b[1;31m---------------------------------------------------------------------------\u001b[0m",
      "\u001b[1;31mZeroDivisionError\u001b[0m                         Traceback (most recent call last)",
      "\u001b[1;32m<ipython-input-32-685c133c7aff>\u001b[0m in \u001b[0;36m<module>\u001b[1;34m()\u001b[0m\n\u001b[0;32m      1\u001b[0m \u001b[1;32mprint\u001b[0m \u001b[1;36m1\u001b[0m\u001b[1;33m/\u001b[0m\u001b[1;36m3\u001b[0m\u001b[1;33m\u001b[0m\u001b[0m\n\u001b[0;32m      2\u001b[0m \u001b[1;32mprint\u001b[0m \u001b[1;36m1.0\u001b[0m\u001b[1;33m/\u001b[0m\u001b[1;36m3\u001b[0m\u001b[1;33m\u001b[0m\u001b[0m\n\u001b[1;32m----> 3\u001b[1;33m \u001b[1;32mprint\u001b[0m \u001b[1;36m3\u001b[0m\u001b[1;33m/\u001b[0m\u001b[1;36m0\u001b[0m\u001b[1;33m\u001b[0m\u001b[0m\n\u001b[0m",
      "\u001b[1;31mZeroDivisionError\u001b[0m: integer division or modulo by zero"
     ]
    }
   ],
   "source": [
    "print 1/3\n",
    "print 1.0/3\n",
    "print 3/0"
   ]
  },
  {
   "cell_type": "code",
   "execution_count": 36,
   "metadata": {
    "collapsed": false
   },
   "outputs": [
    {
     "name": "stdout",
     "output_type": "stream",
     "text": [
      "integer division or modulo by zero\n"
     ]
    }
   ],
   "source": [
    "try:\n",
    "    3/0\n",
    "except ZeroDivisionError as detail:\n",
    "    print detail"
   ]
  },
  {
   "cell_type": "code",
   "execution_count": 38,
   "metadata": {
    "collapsed": false
   },
   "outputs": [
    {
     "name": "stdout",
     "output_type": "stream",
     "text": [
      "Dividend: hello world\n",
      "Divisor: 123\n"
     ]
    },
    {
     "ename": "ValueError",
     "evalue": "could not convert string to float: hello world",
     "output_type": "error",
     "traceback": [
      "\u001b[1;31m---------------------------------------------------------------------------\u001b[0m",
      "\u001b[1;31mValueError\u001b[0m                                Traceback (most recent call last)",
      "\u001b[1;32m<ipython-input-38-b9011fdddf10>\u001b[0m in \u001b[0;36m<module>\u001b[1;34m()\u001b[0m\n\u001b[0;32m      4\u001b[0m \u001b[1;31m#除以0 的時候的處理：Try & Except\u001b[0m\u001b[1;33m\u001b[0m\u001b[1;33m\u001b[0m\u001b[0m\n\u001b[0;32m      5\u001b[0m \u001b[1;32mtry\u001b[0m\u001b[1;33m:\u001b[0m\u001b[1;33m\u001b[0m\u001b[0m\n\u001b[1;32m----> 6\u001b[1;33m     \u001b[1;32mprint\u001b[0m \u001b[0mfloat\u001b[0m\u001b[1;33m(\u001b[0m\u001b[0mdividend\u001b[0m\u001b[1;33m)\u001b[0m\u001b[1;33m/\u001b[0m\u001b[0mfloat\u001b[0m\u001b[1;33m(\u001b[0m\u001b[0mdivisor\u001b[0m\u001b[1;33m)\u001b[0m\u001b[1;33m\u001b[0m\u001b[0m\n\u001b[0m\u001b[0;32m      7\u001b[0m \u001b[1;32mexcept\u001b[0m \u001b[0mZeroDivisionError\u001b[0m \u001b[1;32mas\u001b[0m \u001b[0mdetail\u001b[0m\u001b[1;33m:\u001b[0m\u001b[1;33m\u001b[0m\u001b[0m\n\u001b[0;32m      8\u001b[0m     \u001b[1;32mprint\u001b[0m \u001b[1;34m\"ZeroDvisionError\"\u001b[0m\u001b[1;33m,\u001b[0m \u001b[0mdetail\u001b[0m\u001b[1;33m\u001b[0m\u001b[0m\n",
      "\u001b[1;31mValueError\u001b[0m: could not convert string to float: hello world"
     ]
    }
   ],
   "source": [
    "dividend=raw_input(\"Dividend: \")\n",
    "divisor =raw_input(\"Divisor: \")\n",
    "\n",
    "#除以0 的時候的處理：Try & Except\n",
    "try:\n",
    "    print float(dividend)/float(divisor)\n",
    "except ZeroDivisionError as detail:\n",
    "    print \"ZeroDvisionError\", detail\n"
   ]
  },
  {
   "cell_type": "code",
   "execution_count": 39,
   "metadata": {
    "collapsed": false
   },
   "outputs": [
    {
     "name": "stdout",
     "output_type": "stream",
     "text": [
      "Dividend: hello world\n",
      "Divisor: 3\n",
      "verror\n"
     ]
    }
   ],
   "source": [
    "dividend=raw_input(\"Dividend: \")\n",
    "divisor =raw_input(\"Divisor: \")\n",
    "\n",
    "try:\n",
    "    print float(dividend)/float(divisor)\n",
    "except ZeroDivisionError as detail:\n",
    "    print \"ZeroDvisionError\", detail\n",
    "except ValueError as detail:\n",
    "    print \"verror\""
   ]
  },
  {
   "cell_type": "code",
   "execution_count": 41,
   "metadata": {
    "collapsed": false
   },
   "outputs": [
    {
     "name": "stdout",
     "output_type": "stream",
     "text": [
      "Dividend: hello world \n",
      "Divisor: 0\n",
      "error\n"
     ]
    }
   ],
   "source": [
    "dividend=raw_input(\"Dividend: \")\n",
    "divisor =raw_input(\"Divisor: \")\n",
    "\n",
    "try:\n",
    "    print float(dividend)/float(divisor)\n",
    "except:\n",
    "    print \"error\"\n"
   ]
  },
  {
   "cell_type": "code",
   "execution_count": 43,
   "metadata": {
    "collapsed": false
   },
   "outputs": [
    {
     "name": "stdout",
     "output_type": "stream",
     "text": [
      "['__add__', '__class__', '__contains__', '__delattr__', '__doc__', '__eq__', '__format__', '__ge__', '__getattribute__', '__getitem__', '__getnewargs__', '__getslice__', '__gt__', '__hash__', '__init__', '__le__', '__len__', '__lt__', '__mod__', '__mul__', '__ne__', '__new__', '__reduce__', '__reduce_ex__', '__repr__', '__rmod__', '__rmul__', '__setattr__', '__sizeof__', '__str__', '__subclasshook__', '_formatter_field_name_split', '_formatter_parser', 'capitalize', 'center', 'count', 'decode', 'encode', 'endswith', 'expandtabs', 'find', 'format', 'index', 'isalnum', 'isalpha', 'isdigit', 'islower', 'isspace', 'istitle', 'isupper', 'join', 'ljust', 'lower', 'lstrip', 'partition', 'replace', 'rfind', 'rindex', 'rjust', 'rpartition', 'rsplit', 'rstrip', 'split', 'splitlines', 'startswith', 'strip', 'swapcase', 'title', 'translate', 'upper', 'zfill']\n",
      "hello world\n"
     ]
    }
   ],
   "source": [
    "a=\"hello world\"\n",
    "print dir(a)\n",
    "print a"
   ]
  },
  {
   "cell_type": "code",
   "execution_count": 45,
   "metadata": {
    "collapsed": false
   },
   "outputs": [
    {
     "name": "stdout",
     "output_type": "stream",
     "text": [
      "this is a \"book\"  \n",
      "this is a 'book'  \n"
     ]
    }
   ],
   "source": [
    "a= 'this is a \"book\"  '\n",
    "print a\n",
    "\n",
    "a= \"this is a 'book'  \"\n",
    "print a"
   ]
  },
  {
   "cell_type": "code",
   "execution_count": 49,
   "metadata": {
    "collapsed": false
   },
   "outputs": [
    {
     "name": "stdout",
     "output_type": "stream",
     "text": [
      "hi this is a longtext\n"
     ]
    }
   ],
   "source": [
    "a='hi this is a l\\\n",
    "ongtext'\n",
    "print a"
   ]
  },
  {
   "cell_type": "code",
   "execution_count": 50,
   "metadata": {
    "collapsed": false
   },
   "outputs": [
    {
     "name": "stdout",
     "output_type": "stream",
     "text": [
      "hi this \n",
      "is a \n",
      "longtext\n"
     ]
    }
   ],
   "source": [
    "a='''hi this \n",
    "is a \n",
    "longtext'''\n",
    "print a"
   ]
  },
  {
   "cell_type": "code",
   "execution_count": 57,
   "metadata": {
    "collapsed": false
   },
   "outputs": [
    {
     "name": "stdout",
     "output_type": "stream",
     "text": [
      "h\n",
      "e\n",
      "d\n",
      "l\n",
      "11\n",
      "hello worldyoyo\n"
     ]
    }
   ],
   "source": [
    "a = 'hello world'\n",
    "print a[0]\n",
    "print a[1]\n",
    "print a[-1]\n",
    "print a[-2]\n",
    "print len(a)\n",
    "print a + 'yoyo'"
   ]
  },
  {
   "cell_type": "code",
   "execution_count": 60,
   "metadata": {
    "collapsed": false
   },
   "outputs": [
    {
     "name": "stdout",
     "output_type": "stream",
     "text": [
      "my age is 32\n"
     ]
    }
   ],
   "source": [
    "age = 32\n",
    "print \"my age is \" + str(age)"
   ]
  },
  {
   "cell_type": "code",
   "execution_count": 61,
   "metadata": {
    "collapsed": false
   },
   "outputs": [
    {
     "name": "stdout",
     "output_type": "stream",
     "text": [
      "hello , my name is \n",
      " david\n"
     ]
    }
   ],
   "source": [
    "a = 'hello , my name is \\n david'\n",
    "print a"
   ]
  },
  {
   "cell_type": "code",
   "execution_count": 62,
   "metadata": {
    "collapsed": false
   },
   "outputs": [
    {
     "name": "stdout",
     "output_type": "stream",
     "text": [
      "'hello , my name is \\n david'\n"
     ]
    }
   ],
   "source": [
    "print repr(a)"
   ]
  },
  {
   "cell_type": "code",
   "execution_count": 63,
   "metadata": {
    "collapsed": false
   },
   "outputs": [
    {
     "name": "stdout",
     "output_type": "stream",
     "text": [
      "hello , my name is \\n david\n"
     ]
    }
   ],
   "source": [
    "b = r'hello , my name is \\n david'\n",
    "print b"
   ]
  },
  {
   "cell_type": "code",
   "execution_count": 70,
   "metadata": {
    "collapsed": false
   },
   "outputs": [
    {
     "name": "stdout",
     "output_type": "stream",
     "text": [
      "['__add__', '__class__', '__contains__', '__delattr__', '__doc__', '__eq__', '__format__', '__ge__', '__getattribute__', '__getitem__', '__getnewargs__', '__getslice__', '__gt__', '__hash__', '__init__', '__le__', '__len__', '__lt__', '__mod__', '__mul__', '__ne__', '__new__', '__reduce__', '__reduce_ex__', '__repr__', '__rmod__', '__rmul__', '__setattr__', '__sizeof__', '__str__', '__subclasshook__', '_formatter_field_name_split', '_formatter_parser', 'capitalize', 'center', 'count', 'decode', 'encode', 'endswith', 'expandtabs', 'find', 'format', 'index', 'isalnum', 'isalpha', 'isdigit', 'islower', 'isspace', 'istitle', 'isupper', 'join', 'ljust', 'lower', 'lstrip', 'partition', 'replace', 'rfind', 'rindex', 'rjust', 'rpartition', 'rsplit', 'rstrip', 'split', 'splitlines', 'startswith', 'strip', 'swapcase', 'title', 'translate', 'upper', 'zfill']\n",
      "5\n",
      "['Qoo', 'loves', 'OOP']\n",
      "QOO LOVES OOP\n",
      "Qoo Loves Oop\n"
     ]
    }
   ],
   "source": [
    "a='Qoo loves OOP'\n",
    "print dir(a)\n",
    "print a.lower().count('o')\n",
    "print a.split()\n",
    "print a.upper()\n",
    "print a.title()"
   ]
  },
  {
   "cell_type": "code",
   "execution_count": 79,
   "metadata": {
    "collapsed": false
   },
   "outputs": [
    {
     "name": "stdout",
     "output_type": "stream",
     "text": [
      "['Qoo', 'loves', 'OOP']\n",
      "Qoo-loves-OOP\n",
      "Qoo^_^loves^_^OOP\n"
     ]
    }
   ],
   "source": [
    "import string\n",
    "print a.split()\n",
    "print string.join(a.split(), '-')\n",
    "print string.join(a.split(), '^_^')\n",
    "#string.join(a.split(),'-')"
   ]
  },
  {
   "cell_type": "code",
   "execution_count": 80,
   "metadata": {
    "collapsed": false
   },
   "outputs": [
    {
     "name": "stdout",
     "output_type": "stream",
     "text": [
      "Qoo-loves-OOP\n"
     ]
    }
   ],
   "source": [
    "a='Qoo loves OOP'\n",
    "print '-'.join(a.split())"
   ]
  },
  {
   "cell_type": "code",
   "execution_count": 85,
   "metadata": {
    "collapsed": false
   },
   "outputs": [
    {
     "name": "stdout",
     "output_type": "stream",
     "text": [
      "【辛啟松、楊適群╱台南報導】台南市政府太大意了！台南地方法院上周五凌晨即裁定假扣押維冠大樓建商林明輝、建築師張魁寶、鄭進貴的財產，但台南市府竟沒在第一時間完成假扣押的行政程序，在農曆春節出現3天空窗期，昨上午差點被鄭進貴的妻子領走一千多萬元存款，成功脫產，幸好銀行主管機警，憑著拖延戰術不讓鄭妻領款，保住災民千萬賠償金，過程讓人捏把冷汗。台南市府法制處長蕭博仁坦承確有疏失，表示「同仁敏感度不夠」。'\n"
     ]
    }
   ],
   "source": [
    "a = '''【辛啟松、楊適群╱台南報導】\n",
    "台南市政府太大意了！台南地方法院上周五凌晨即裁定假扣押維冠大樓建商林明輝、建築師張魁寶、鄭進貴的財產，              \n",
    "            但台南市府竟沒在第一時間完成假扣押的行政程序，\n",
    "        在農曆春節出現3天空窗期，昨上午差點被鄭進貴的妻子領走一千多萬元存款，\n",
    "        成功脫產，          幸好銀行主管機警，    憑著拖延戰術不讓鄭妻領款，\n",
    "        保住災民千萬賠償金，過程讓人捏把冷汗。              \n",
    "        台南市府法制處長蕭博仁坦承確有疏失，表示「同仁敏感度不夠」。'\n",
    "'''\n",
    "\n",
    "print ''.join(a.split())\n",
    "\n",
    "\n"
   ]
  },
  {
   "cell_type": "code",
   "execution_count": 91,
   "metadata": {
    "collapsed": false
   },
   "outputs": [
    {
     "name": "stdout",
     "output_type": "stream",
     "text": [
      "ell\n",
      "ello\n",
      "hello\n",
      "hello\n",
      "ello\n"
     ]
    }
   ],
   "source": [
    "s='hello'\n",
    "\n",
    "# for(i=1; i< 4; i++)\n",
    "print s[1:4]\n",
    "print s[1:]\n",
    "print s\n",
    "print s[:]\n",
    "print s[1:100]\n"
   ]
  },
  {
   "cell_type": "code",
   "execution_count": 97,
   "metadata": {
    "collapsed": false
   },
   "outputs": [
    {
     "name": "stdout",
     "output_type": "stream",
     "text": [
      "o\n",
      "e\n",
      "he\n",
      "llo\n",
      "olleh\n"
     ]
    }
   ],
   "source": [
    "print s[-1]\n",
    "print s[-4]\n",
    "print s[:-3]\n",
    "print s[-3:]\n",
    "\n",
    "# for(i=len; i> 0; i--)\n",
    "print s[::-1]\n",
    "\n"
   ]
  },
  {
   "cell_type": "code",
   "execution_count": 98,
   "metadata": {
    "collapsed": false
   },
   "outputs": [
    {
     "name": "stdout",
     "output_type": "stream",
     "text": [
      "True\n"
     ]
    }
   ],
   "source": [
    "m = 'madam'\n",
    "# check palindrome\n",
    "print m == m[::-1]\n"
   ]
  },
  {
   "cell_type": "code",
   "execution_count": 103,
   "metadata": {
    "collapsed": false
   },
   "outputs": [
    {
     "name": "stdout",
     "output_type": "stream",
     "text": [
      "['asap', 3]\n",
      "<type 'list'>\n",
      "asap 3\n"
     ]
    }
   ],
   "source": [
    "a =  ['asap',3]\n",
    "print a\n",
    "print type(a)\n",
    "print a[0], a[1]\n"
   ]
  },
  {
   "cell_type": "code",
   "execution_count": 104,
   "metadata": {
    "collapsed": false
   },
   "outputs": [
    {
     "name": "stdout",
     "output_type": "stream",
     "text": [
      "['w', 'o', 'r', 'd']\n"
     ]
    }
   ],
   "source": [
    "print list(\"word\")"
   ]
  },
  {
   "cell_type": "code",
   "execution_count": 107,
   "metadata": {
    "collapsed": false
   },
   "outputs": [
    {
     "name": "stdout",
     "output_type": "stream",
     "text": [
      "lists\n",
      "['a', 1]\n"
     ]
    }
   ],
   "source": [
    "a = [['list'],['of','lists']]\n",
    "print a[1][1]\n",
    "print list(('a',1))"
   ]
  },
  {
   "cell_type": "code",
   "execution_count": 116,
   "metadata": {
    "collapsed": false
   },
   "outputs": [
    {
     "name": "stdout",
     "output_type": "stream",
     "text": [
      "5\n",
      "[7, 's']\n",
      "s\n",
      "7\n",
      "[7, 's']\n",
      "[5, 7]\n",
      "['s', 7, 6, 5]\n",
      "4\n",
      "[5, 's']\n"
     ]
    }
   ],
   "source": [
    "a = [5, 6, 7, 's'] # a = [5 6 7 ‘s’] \n",
    "print a[0] # 5\n",
    "print a[2:4] # [7, ‘s’] \n",
    "print a[-1] # ‘s’ \n",
    "print a[-2] # 7\n",
    "print a[2:] # [7, ‘s’]\n",
    "print a[::2] # [5, 7] # for(i=0; i< len  ; i +=2)\n",
    "\n",
    "print a[::-1] # [‘s’, 7, 6, 5]\n",
    "print len(a) # 4\n",
    "print [min(a), max(a)] # [5, ‘s’]"
   ]
  },
  {
   "cell_type": "code",
   "execution_count": 117,
   "metadata": {
    "collapsed": false
   },
   "outputs": [
    {
     "name": "stdout",
     "output_type": "stream",
     "text": [
      "[5, 6, 7]\n",
      "[5, 6, 7, 2]\n",
      "[2, 5, 6, 7]\n",
      "[7, 6, 5, 2]\n"
     ]
    }
   ],
   "source": [
    "a = [5, 6, 7, 8]\n",
    "a.pop() # a = [5, 6, 7]\n",
    "print a\n",
    "a.append(2) # a = [5, 6, 7, 2]\n",
    "print a\n",
    "a.sort() # a = [2, 5, 6, 7]\n",
    "print a\n",
    "a.reverse() # a = [7, 6, 5, 2]\n",
    "print a"
   ]
  },
  {
   "cell_type": "code",
   "execution_count": 121,
   "metadata": {
    "collapsed": false
   },
   "outputs": [
    {
     "name": "stdout",
     "output_type": "stream",
     "text": [
      "True\n",
      "False\n",
      "False\n",
      "True\n"
     ]
    }
   ],
   "source": [
    "a = [5, 6, 7, 8]\n",
    "print 7 in a\n",
    "print 9 in a\n",
    "\n",
    "b = 'hello world'\n",
    "print 's' in b\n",
    "print 'w' in b\n"
   ]
  },
  {
   "cell_type": "code",
   "execution_count": 126,
   "metadata": {
    "collapsed": false
   },
   "outputs": [
    {
     "name": "stdout",
     "output_type": "stream",
     "text": [
      "[1, 2, 3] [1, 2, 3]\n",
      "[1, 2000, 3] [1, 2000, 3]\n"
     ]
    }
   ],
   "source": [
    "a = [1, 2, 3]\n",
    "b = a\n",
    "print a, b\n",
    "a[1] = 2000\n",
    "print a, b\n",
    "#b\n"
   ]
  },
  {
   "cell_type": "code",
   "execution_count": 127,
   "metadata": {
    "collapsed": false
   },
   "outputs": [
    {
     "name": "stdout",
     "output_type": "stream",
     "text": [
      "[1, 2, 3] [1, 2, 3]\n",
      "[1, 2000, 3] [1, 2, 3]\n"
     ]
    }
   ],
   "source": [
    "a = [1, 2, 3]\n",
    "\n",
    "import copy\n",
    "aa = copy.deepcopy(a) # Deep Copy\n",
    "print a, aa\n",
    "\n",
    "a[1] = 2000\n",
    "print a, aa"
   ]
  },
  {
   "cell_type": "code",
   "execution_count": 132,
   "metadata": {
    "collapsed": false
   },
   "outputs": [
    {
     "name": "stdout",
     "output_type": "stream",
     "text": [
      "[1, 4, 9, 16]\n"
     ]
    }
   ],
   "source": [
    "nums=[1,2,3,4]\n",
    "a = []\n",
    "for ele in nums:\n",
    "    a.append(ele * ele)\n",
    "print a"
   ]
  },
  {
   "cell_type": "code",
   "execution_count": 133,
   "metadata": {
    "collapsed": false
   },
   "outputs": [
    {
     "name": "stdout",
     "output_type": "stream",
     "text": [
      "[1, 4, 9, 16]\n"
     ]
    }
   ],
   "source": [
    "print [ele * ele for ele in nums]"
   ]
  },
  {
   "cell_type": "code",
   "execution_count": 134,
   "metadata": {
    "collapsed": false
   },
   "outputs": [
    {
     "name": "stdout",
     "output_type": "stream",
     "text": [
      "[2, 1]\n"
     ]
    }
   ],
   "source": [
    "nums = [2,8,1,6]\n",
    "a = []\n",
    "for ele in nums:\n",
    "    if ele <=2:\n",
    "        a.append(ele)\n",
    "print a"
   ]
  },
  {
   "cell_type": "code",
   "execution_count": 136,
   "metadata": {
    "collapsed": false
   },
   "outputs": [
    {
     "name": "stdout",
     "output_type": "stream",
     "text": [
      "[2, 1]\n"
     ]
    }
   ],
   "source": [
    "print [ele for ele in nums if ele <= 2]"
   ]
  },
  {
   "cell_type": "code",
   "execution_count": 137,
   "metadata": {
    "collapsed": false
   },
   "outputs": [
    {
     "name": "stdout",
     "output_type": "stream",
     "text": [
      "['APPLE', 'BANNANA']\n"
     ]
    }
   ],
   "source": [
    "fruits=['apple','cherry','bannana','lemon']\n",
    "a = []\n",
    "for ele in fruits:\n",
    "    if 'a' in ele:\n",
    "        a.append(ele.upper())\n",
    "print a"
   ]
  },
  {
   "cell_type": "code",
   "execution_count": 139,
   "metadata": {
    "collapsed": false
   },
   "outputs": [
    {
     "name": "stdout",
     "output_type": "stream",
     "text": [
      "['APPLE', 'BANNANA']\n"
     ]
    }
   ],
   "source": [
    "print [ele.upper() for ele in fruits if 'a' in ele]"
   ]
  },
  {
   "cell_type": "code",
   "execution_count": 143,
   "metadata": {
    "collapsed": false
   },
   "outputs": [
    {
     "name": "stdout",
     "output_type": "stream",
     "text": [
      "45\n",
      "1 2 3 4 5 6 7 8 9\n"
     ]
    }
   ],
   "source": [
    "print sum(range(1,10))\n",
    "\n",
    "# for(int i= 1; i< 10 ; i++)\n",
    "for i in range(1,10):\n",
    "    #print i\n",
    "    print i,"
   ]
  },
  {
   "cell_type": "code",
   "execution_count": 144,
   "metadata": {
    "collapsed": false
   },
   "outputs": [
    {
     "name": "stdout",
     "output_type": "stream",
     "text": [
      "1 3 5 7 9\n"
     ]
    }
   ],
   "source": [
    "for i in range(1,10,2):    \n",
    "    print i,"
   ]
  },
  {
   "cell_type": "code",
   "execution_count": 145,
   "metadata": {
    "collapsed": false
   },
   "outputs": [
    {
     "name": "stdout",
     "output_type": "stream",
     "text": [
      "apple\n",
      "cherry\n",
      "bannana\n",
      "lemon\n"
     ]
    }
   ],
   "source": [
    "fruits=['apple','cherry','bannana','lemon']\n",
    "for f in fruits:\n",
    "    print f"
   ]
  },
  {
   "cell_type": "code",
   "execution_count": 147,
   "metadata": {
    "collapsed": false
   },
   "outputs": [
    {
     "name": "stdout",
     "output_type": "stream",
     "text": [
      "1 1\n",
      "2 3\n",
      "3 5\n",
      "4 7\n",
      "5 9\n"
     ]
    }
   ],
   "source": [
    "pos = 1\n",
    "for i in range(1,10,2):    \n",
    "    print pos, i\n",
    "    pos +=1"
   ]
  },
  {
   "cell_type": "code",
   "execution_count": 148,
   "metadata": {
    "collapsed": false
   },
   "outputs": [
    {
     "name": "stdout",
     "output_type": "stream",
     "text": [
      "(0, 1)\n",
      "(1, 3)\n",
      "(2, 5)\n",
      "(3, 7)\n",
      "(4, 9)\n"
     ]
    }
   ],
   "source": [
    "for i in enumerate(range(1,10,2)):    \n",
    "    print i"
   ]
  },
  {
   "cell_type": "code",
   "execution_count": 150,
   "metadata": {
    "collapsed": false
   },
   "outputs": [
    {
     "name": "stdout",
     "output_type": "stream",
     "text": [
      "1 1\n",
      "2 3\n",
      "3 5\n",
      "4 7\n",
      "5 9\n"
     ]
    }
   ],
   "source": [
    "for pos,i in enumerate(range(1,10,2)):    \n",
    "    print pos+1,i"
   ]
  },
  {
   "cell_type": "code",
   "execution_count": 151,
   "metadata": {
    "collapsed": false
   },
   "outputs": [
    {
     "name": "stdout",
     "output_type": "stream",
     "text": [
      "hello\n"
     ]
    }
   ],
   "source": [
    "def say_hello():\n",
    "    print 'hello'    \n",
    "say_hello()"
   ]
  },
  {
   "cell_type": "code",
   "execution_count": 153,
   "metadata": {
    "collapsed": false
   },
   "outputs": [
    {
     "name": "stdout",
     "output_type": "stream",
     "text": [
      "5\n"
     ]
    }
   ],
   "source": [
    "def addNum(a,b):\n",
    "    return a + b\n",
    "\n",
    "print addNum(2,3)"
   ]
  },
  {
   "cell_type": "code",
   "execution_count": 155,
   "metadata": {
    "collapsed": false
   },
   "outputs": [
    {
     "name": "stdout",
     "output_type": "stream",
     "text": [
      "4.0\n"
     ]
    }
   ],
   "source": [
    "import math\n",
    "?math\n",
    "print math.ceil(3.6)"
   ]
  },
  {
   "cell_type": "code",
   "execution_count": 157,
   "metadata": {
    "collapsed": false
   },
   "outputs": [
    {
     "name": "stdout",
     "output_type": "stream",
     "text": [
      "<module 'math' (built-in)>\n",
      "<module 'requests' from 'C:\\Users\\BIG DATA\\Anaconda2\\lib\\site-packages\\requests\\__init__.pyc'>\n"
     ]
    }
   ],
   "source": [
    "import math\n",
    "print math\n",
    "\n",
    "import requests\n",
    "print requests"
   ]
  },
  {
   "cell_type": "code",
   "execution_count": 160,
   "metadata": {
    "collapsed": false
   },
   "outputs": [
    {
     "name": "stdout",
     "output_type": "stream",
     "text": [
      "{'a': 1}\n",
      "1\n",
      "{'a': 2}\n"
     ]
    }
   ],
   "source": [
    "dic = {'a': 1}\n",
    "print dic\n",
    "\n",
    "print dic['a']\n",
    "dic['a'] = 2\n",
    "print dic"
   ]
  },
  {
   "cell_type": "code",
   "execution_count": 170,
   "metadata": {
    "collapsed": false
   },
   "outputs": [
    {
     "name": "stdout",
     "output_type": "stream",
     "text": [
      "{'a': 100, 'c': 0.98, 'b': 'yes'}\n",
      "['a', 'c', 'b']\n",
      "[100, 0.98, 'yes']\n",
      "100\n",
      "yes\n",
      "100\n",
      "None\n",
      "default\n",
      "100\n"
     ]
    }
   ],
   "source": [
    "dic = {'a':100, 'b':\"yes\", 'c':0.98} \n",
    "print dic \n",
    "\n",
    "#get keys in dictionary \n",
    "print dic.keys() \n",
    "\n",
    "#get values in dictionary \n",
    "print dic.values() \n",
    "\n",
    "#get value of given key \n",
    "print dic['a'] \n",
    "print dic['b']\n",
    "#print dic['d']\n",
    "\n",
    "#get value of given key \n",
    "print dic.get('a')\n",
    "print dic.get('d')\n",
    "print dic.get('d', 'default')\n",
    "print dic.get('a', 'default')"
   ]
  },
  {
   "cell_type": "code",
   "execution_count": 171,
   "metadata": {
    "collapsed": false
   },
   "outputs": [
    {
     "name": "stdout",
     "output_type": "stream",
     "text": [
      "{'a': 100, 'c': 0.98, 'b': 'yes', 'd': 'newvalue'}\n"
     ]
    }
   ],
   "source": [
    "dic['d'] = 'newvalue'\n",
    "print dic"
   ]
  },
  {
   "cell_type": "code",
   "execution_count": 172,
   "metadata": {
    "collapsed": true
   },
   "outputs": [],
   "source": [
    "dic2 = {'a':101, 'e':1, 'f':'qoo'}\n",
    "dic.update(dic2)"
   ]
  },
  {
   "cell_type": "code",
   "execution_count": 173,
   "metadata": {
    "collapsed": false
   },
   "outputs": [
    {
     "name": "stdout",
     "output_type": "stream",
     "text": [
      "{'a': 101, 'c': 0.98, 'b': 'yes', 'e': 1, 'd': 'newvalue', 'f': 'qoo'}\n"
     ]
    }
   ],
   "source": [
    "print dic"
   ]
  },
  {
   "cell_type": "code",
   "execution_count": 175,
   "metadata": {
    "collapsed": false
   },
   "outputs": [
    {
     "name": "stdout",
     "output_type": "stream",
     "text": [
      "a 101\n",
      "c 0.98\n",
      "b yes\n",
      "e 1\n",
      "d newvalue\n",
      "f qoo\n"
     ]
    }
   ],
   "source": [
    "for key in dic:\n",
    "    print key, dic[key]"
   ]
  },
  {
   "cell_type": "code",
   "execution_count": 178,
   "metadata": {
    "collapsed": false
   },
   "outputs": [
    {
     "name": "stdout",
     "output_type": "stream",
     "text": [
      "1\n",
      "0\n"
     ]
    }
   ],
   "source": [
    "def func(x):\n",
    "    dic= {\n",
    "        'apple': 1,\n",
    "        'bannana': 2,\n",
    "        }\n",
    "    return dic.get(x, 0)\n",
    "\n",
    "print func(\"apple\")\n",
    "print func(\"qoo\")"
   ]
  },
  {
   "cell_type": "code",
   "execution_count": null,
   "metadata": {
    "collapsed": true
   },
   "outputs": [],
   "source": [
    "def func(x):\n",
    "    return {\n",
    "        'apple': 1,\n",
    "        'bannana': 2,\n",
    "        }.get(x, 0)\n",
    "\n",
    "#func('apple')"
   ]
  },
  {
   "cell_type": "code",
   "execution_count": 179,
   "metadata": {
    "collapsed": false
   },
   "outputs": [
    {
     "name": "stdout",
     "output_type": "stream",
     "text": [
      "['__abs__', '__add__', '__and__', '__class__', '__cmp__', '__coerce__', '__delattr__', '__div__', '__divmod__', '__doc__', '__float__', '__floordiv__', '__format__', '__getattribute__', '__getnewargs__', '__hash__', '__hex__', '__index__', '__init__', '__int__', '__invert__', '__long__', '__lshift__', '__mod__', '__mul__', '__neg__', '__new__', '__nonzero__', '__oct__', '__or__', '__pos__', '__pow__', '__radd__', '__rand__', '__rdiv__', '__rdivmod__', '__reduce__', '__reduce_ex__', '__repr__', '__rfloordiv__', '__rlshift__', '__rmod__', '__rmul__', '__ror__', '__rpow__', '__rrshift__', '__rshift__', '__rsub__', '__rtruediv__', '__rxor__', '__setattr__', '__sizeof__', '__str__', '__sub__', '__subclasshook__', '__truediv__', '__trunc__', '__xor__', 'bit_length', 'conjugate', 'denominator', 'imag', 'numerator', 'real']\n"
     ]
    }
   ],
   "source": [
    "a = 123\n",
    "print dir(a)"
   ]
  },
  {
   "cell_type": "code",
   "execution_count": 192,
   "metadata": {
    "collapsed": true
   },
   "outputs": [],
   "source": [
    "class Person():\n",
    "    count = 0 # Static/class variable\n",
    "    def __init__(self, name, city):\n",
    "        self.name = name # Variable for the instance\n",
    "        self.city = city # Variable for the instance\n",
    "        Person.count += 1\n",
    "    def number_of_persons(self):\n",
    "        return Person.count\n",
    "    \n"
   ]
  },
  {
   "cell_type": "code",
   "execution_count": 193,
   "metadata": {
    "collapsed": false
   },
   "outputs": [],
   "source": [
    "kevin = Person('Kevin', 'Taipei')"
   ]
  },
  {
   "cell_type": "code",
   "execution_count": 194,
   "metadata": {
    "collapsed": false
   },
   "outputs": [
    {
     "name": "stdout",
     "output_type": "stream",
     "text": [
      "['__doc__', '__init__', '__module__', 'city', 'count', 'name', 'number_of_persons']\n",
      "Kevin\n",
      "1\n"
     ]
    }
   ],
   "source": [
    "print dir(kevin)\n",
    "print kevin.name\n",
    "print kevin.number_of_persons()"
   ]
  },
  {
   "cell_type": "code",
   "execution_count": 195,
   "metadata": {
    "collapsed": false
   },
   "outputs": [
    {
     "name": "stdout",
     "output_type": "stream",
     "text": [
      "Chiayi\n",
      "2\n"
     ]
    }
   ],
   "source": [
    "mary = Person('Mary', 'Chiayi')\n",
    "print mary.city\n",
    "print mary.number_of_persons()"
   ]
  },
  {
   "cell_type": "code",
   "execution_count": 199,
   "metadata": {
    "collapsed": false
   },
   "outputs": [
    {
     "name": "stdout",
     "output_type": "stream",
     "text": [
      "constructor\n",
      "3\n",
      "['__doc__', '__init__', '__module__', 'integer']\n"
     ]
    },
    {
     "ename": "TypeError",
     "evalue": "unsupported operand type(s) for +: 'instance' and 'int'",
     "output_type": "error",
     "traceback": [
      "\u001b[1;31m---------------------------------------------------------------------------\u001b[0m",
      "\u001b[1;31mTypeError\u001b[0m                                 Traceback (most recent call last)",
      "\u001b[1;32m<ipython-input-199-1512e0dc2c63>\u001b[0m in \u001b[0;36m<module>\u001b[1;34m()\u001b[0m\n\u001b[0;32m      6\u001b[0m \u001b[1;32mprint\u001b[0m \u001b[0ma\u001b[0m\u001b[1;33m.\u001b[0m\u001b[0minteger\u001b[0m\u001b[1;33m\u001b[0m\u001b[0m\n\u001b[0;32m      7\u001b[0m \u001b[1;32mprint\u001b[0m \u001b[0mdir\u001b[0m\u001b[1;33m(\u001b[0m\u001b[0ma\u001b[0m\u001b[1;33m)\u001b[0m\u001b[1;33m\u001b[0m\u001b[0m\n\u001b[1;32m----> 8\u001b[1;33m \u001b[1;32mprint\u001b[0m \u001b[0ma\u001b[0m \u001b[1;33m+\u001b[0m \u001b[1;36m3\u001b[0m\u001b[1;33m\u001b[0m\u001b[0m\n\u001b[0m",
      "\u001b[1;31mTypeError\u001b[0m: unsupported operand type(s) for +: 'instance' and 'int'"
     ]
    }
   ],
   "source": [
    "class MyInteger():\n",
    "    def __init__(self, integer):\n",
    "        print \"constructor\"\n",
    "        self.integer = integer\n",
    "a = MyInteger(3)\n",
    "print a.integer\n",
    "print dir(a)\n",
    "print a + 3"
   ]
  },
  {
   "cell_type": "code",
   "execution_count": 201,
   "metadata": {
    "collapsed": false
   },
   "outputs": [
    {
     "name": "stdout",
     "output_type": "stream",
     "text": [
      "constructor\n",
      "8\n",
      "constructor\n",
      "5\n"
     ]
    }
   ],
   "source": [
    "class MyInteger():\n",
    "    def __init__(self, integer):\n",
    "        print \"constructor\"\n",
    "        self.integer = integer\n",
    "    def __add__(self, integer): # Overloaded '+' operator\n",
    "        if self.integer == 2 and integer == 2:\n",
    "            return 5\n",
    "        else:\n",
    "            return self.integer + integer\n",
    "\n",
    "a = MyInteger(3)\n",
    "print a + 5\n",
    "\n",
    "b = MyInteger(2)\n",
    "print a + 2\n"
   ]
  },
  {
   "cell_type": "code",
   "execution_count": 203,
   "metadata": {
    "collapsed": true
   },
   "outputs": [],
   "source": [
    "#Derived Classes\n",
    "class Vehicle():\n",
    "    def my_own(self): return True\n",
    "    \n",
    "class Bicycle(Vehicle):\n",
    "    def __init__(self, color): self.color = color\n",
    "    def has_wheels(self): return True\n",
    "\n",
    "class rent_bike(Bicycle):\n",
    "    def my_own(self): return False"
   ]
  },
  {
   "cell_type": "code",
   "execution_count": 209,
   "metadata": {
    "collapsed": false
   },
   "outputs": [
    {
     "name": "stdout",
     "output_type": "stream",
     "text": [
      "['__doc__', '__module__', 'my_own']\n",
      "['__doc__', '__init__', '__module__', 'color', 'has_wheels', 'my_own']\n",
      "['__doc__', '__init__', '__module__', 'color', 'has_wheels', 'my_own']\n"
     ]
    }
   ],
   "source": [
    "a = Vehicle()\n",
    "b = Bicycle('red')\n",
    "c = rent_bike('blue')\n",
    "print dir(a)\n",
    "print dir(b)\n",
    "print dir(c)"
   ]
  },
  {
   "cell_type": "code",
   "execution_count": 216,
   "metadata": {
    "collapsed": false
   },
   "outputs": [
    {
     "name": "stdout",
     "output_type": "stream",
     "text": [
      "True\n",
      "True red\n",
      "False blue\n"
     ]
    }
   ],
   "source": [
    "print a.my_own()\n",
    "print b.my_own(), b.color\n",
    "print c.my_own(), c.color"
   ]
  },
  {
   "cell_type": "code",
   "execution_count": 219,
   "metadata": {
    "collapsed": false
   },
   "outputs": [
    {
     "name": "stdout",
     "output_type": "stream",
     "text": [
      "<__main__.Bicycle instance at 0x0000000003BE4088>\n",
      "<__main__.Vehicle instance at 0x0000000003BE4048>\n",
      "<__main__.rent_bike instance at 0x0000000003BE40C8>\n"
     ]
    }
   ],
   "source": [
    "print b\n",
    "print a\n",
    "print c"
   ]
  },
  {
   "cell_type": "code",
   "execution_count": 221,
   "metadata": {
    "collapsed": false
   },
   "outputs": [
    {
     "name": "stdout",
     "output_type": "stream",
     "text": [
      "<__main__.Vehicle instance at 0x00000000024F9D08>\n",
      "Bicycle is red\n",
      "rent_bike is blue\n"
     ]
    }
   ],
   "source": [
    "#Derived Classes\n",
    "class Vehicle():\n",
    "    def my_own(self): return True\n",
    "    \n",
    "class Bicycle(Vehicle):\n",
    "    def __init__(self, color): self.color = color\n",
    "    def has_wheels(self): return True\n",
    "    def __str__(self): return\"%s is %s\"%(self.__class__.__name__, self.color)\n",
    "\n",
    "class rent_bike(Bicycle):\n",
    "    def my_own(self): return False\n",
    "    \n",
    "    \n",
    "a = Vehicle()\n",
    "b = Bicycle('red')\n",
    "c = rent_bike('blue') \n",
    "\n",
    "print a\n",
    "print b\n",
    "print c"
   ]
  },
  {
   "cell_type": "code",
   "execution_count": 223,
   "metadata": {
    "collapsed": true
   },
   "outputs": [],
   "source": [
    "f = open('test.txt', 'w')\n",
    "f.write('hello world\\n qoo loves oop')\n",
    "f.close()"
   ]
  },
  {
   "cell_type": "code",
   "execution_count": 225,
   "metadata": {
    "collapsed": false
   },
   "outputs": [
    {
     "name": "stdout",
     "output_type": "stream",
     "text": [
      "hello world\n",
      "qoo loves oop\n"
     ]
    }
   ],
   "source": [
    "f = open('test.txt', 'r')\n",
    "for line in f.readlines():\n",
    "    print line.strip()\n",
    "f.close()    "
   ]
  },
  {
   "cell_type": "code",
   "execution_count": 227,
   "metadata": {
    "collapsed": false
   },
   "outputs": [
    {
     "name": "stdout",
     "output_type": "stream",
     "text": [
      "============= hello world\n",
      " qoo loves oop =============\n"
     ]
    }
   ],
   "source": [
    "f = open('test.txt', 'r')\n",
    "print \"=============\", f.read(), \"=============\"\n",
    "f.close()"
   ]
  },
  {
   "cell_type": "code",
   "execution_count": 229,
   "metadata": {
    "collapsed": false
   },
   "outputs": [
    {
     "name": "stdout",
     "output_type": "stream",
     "text": [
      "2\n"
     ]
    }
   ],
   "source": [
    "cnt = 0\n",
    "f = open('test.txt', 'r')\n",
    "for line in f.readlines():\n",
    "    cnt +=1\n",
    "f.close()  \n",
    "print cnt"
   ]
  },
  {
   "cell_type": "code",
   "execution_count": 231,
   "metadata": {
    "collapsed": false
   },
   "outputs": [
    {
     "name": "stdout",
     "output_type": "stream",
     "text": [
      "2\n"
     ]
    }
   ],
   "source": [
    "print len([line for line in open('test.txt')])"
   ]
  },
  {
   "cell_type": "code",
   "execution_count": 234,
   "metadata": {
    "collapsed": false
   },
   "outputs": [
    {
     "name": "stdout",
     "output_type": "stream",
     "text": [
      "2\n"
     ]
    }
   ],
   "source": [
    "cnt = 0\n",
    "with open('test.txt', 'r') as f:\n",
    "    for line in f.readlines():\n",
    "        cnt +=1\n",
    "print cnt"
   ]
  },
  {
   "cell_type": "code",
   "execution_count": 236,
   "metadata": {
    "collapsed": false
   },
   "outputs": [
    {
     "name": "stdout",
     "output_type": "stream",
     "text": [
      "<module 'pyquery' from 'C:\\Users\\BIG DATA\\Anaconda2\\lib\\site-packages\\pyquery\\__init__.pyc'>\n"
     ]
    }
   ],
   "source": [
    "import pyquery\n",
    "print pyquery"
   ]
  },
  {
   "cell_type": "code",
   "execution_count": 250,
   "metadata": {
    "collapsed": true
   },
   "outputs": [],
   "source": [
    "import requests\n",
    "from bs4 import BeautifulSoup as bs\n",
    "import jieba\n",
    "jieba.add_word('黃國昌')\n",
    "dic = {}\n",
    "index = 2089\n",
    "for i in range(2050, 2089):\n",
    "    res = requests.get('https://www.ptt.cc/bbs/Tech_Job/index{}.html'.format(i))\n",
    "    soup = bs(res.text)\n",
    "    for title in soup.select('.r-ent a'):\n",
    "        for ele in jieba.cut(title.text):\n",
    "            if not ele in dic:\n",
    "                dic[ele]  = 1\n",
    "            else:\n",
    "                dic[ele] = dic[ele] + 1\n",
    "#print dic"
   ]
  },
  {
   "cell_type": "code",
   "execution_count": 251,
   "metadata": {
    "collapsed": true
   },
   "outputs": [
    {
     "name": "stdout",
     "output_type": "stream",
     "text": [
      "  1244\n",
      "[ 749\n",
      "] 748\n",
      "請益 425\n",
      ": 191\n",
      "Re 183\n",
      "新聞 129\n",
      "討論 124\n",
      "的 123\n",
      "? 86\n",
      "/ 79\n",
      "工程 78\n",
      "？ 72\n",
      "offer 69\n",
      "師 67\n",
      "( 62\n",
      ") 61\n",
      "科技 60\n",
      "研替 52\n",
      "台灣 44\n",
      "： 42\n",
      "心得 41\n",
      "\" 40\n",
      "嗎 39\n",
      "公司 34\n",
      "台積電 33\n",
      "面試 31\n",
      "萬 29\n",
      "黃國昌 29\n",
      "不 29\n",
      "選擇 29\n",
      "徵才 28\n",
      "工作 28\n",
      "在 27\n",
      "需要 27\n",
      "有 26\n",
      "另 24\n",
      "一個 24\n",
      "人 22\n",
      "！ 22\n",
      "， 21\n",
      "華碩 20\n",
      "後 19\n",
      "情報 18\n",
      "8 18\n",
      "台積 18\n",
      "廠 17\n",
      "什麼 16\n",
      "開 16\n",
      "5 16\n",
      "PM 16\n",
      "- 15\n",
      "了 15\n",
      "IC 15\n",
      "開獎 15\n",
      "十年 15\n",
      "該 14\n",
      "請問 14\n",
      "設備 14\n",
      "經驗 14\n",
      "台 14\n",
      "vs 14\n",
      "是 13\n",
      "來 13\n",
      "1 13\n",
      "要 12\n",
      "研發 12\n",
      "業 12\n",
      "中科院 12\n",
      "為 12\n",
      "年 12\n",
      "問題 12\n",
      "請 12\n",
      "尾牙 12\n",
      "助理 12\n",
      "系統 12\n",
      "發展 11\n",
      "職涯 11\n",
      "聯發科 11\n",
      "聘書 11\n",
      "臺 11\n",
      "聯電 11\n",
      "怎麼 10\n",
      "與 10\n",
      "轉職 10\n",
      "測試 10\n",
      "、 10\n",
      "很 10\n",
      "製 10\n",
      "前 9\n",
      "想 9\n",
      "讚 9\n",
      "欣興 9\n",
      "可以 9\n",
      "到 9\n",
      "哪裡 9\n",
      "電子 9\n",
      "程 9\n",
      "到底 8\n",
      "灣 8\n",
      "都 8\n",
      ". 8\n",
      "長 8\n",
      "美國 8\n",
      "關於 8\n",
      "軟體 8\n",
      "員工 8\n",
      "廢 8\n",
      "說法 8\n",
      "FW 8\n",
      "Fw 8\n",
      "緯創 8\n",
      "歲 7\n",
      "世界 7\n",
      "新 7\n",
      "） 7\n",
      "　7\n",
      "麵 7\n",
      "台塑 7\n",
      "大家 7\n",
      "群創 7\n",
      "是否 7\n",
      "競賽 6\n",
      ", 6\n",
      "薪水 6\n",
      "月光 6\n",
      "會 6\n",
      "分紅 6\n",
      "Offer 6\n",
      "和 6\n",
      "誠徵 6\n",
      "霸主 6\n",
      "先進 6\n",
      "號稱 6\n",
      "役 6\n",
      "月 6\n",
      "規劃 6\n",
      "平均 6\n",
      "中 6\n",
      "對 6\n",
      "技術 6\n",
      "吃 6\n",
      "日 6\n",
      "（ 6\n",
      "年薪 6\n",
      "FAE 6\n",
      "產業 6\n",
      "公告 6\n",
      "紅 6\n",
      "台南 6\n",
      "方向 6\n",
      "找 6\n",
      "推 6\n",
      "設計界 6\n",
      "南科 5\n",
      "100 5\n",
      "「 5\n",
      "中資 5\n",
      "每天 5\n",
      "相關 5\n",
      "」 5\n",
      "如何 5\n",
      "選 5\n",
      "研究 5\n",
      "抉擇 5\n",
      "鴻 5\n",
      "總 5\n",
      "實驗室 5\n",
      "作業員 5\n",
      "被 5\n",
      "年度 5\n",
      "未來 5\n",
      "替代 5\n",
      "\\ 5\n",
      "還是 5\n",
      "G 5\n",
      "不妙 5\n",
      "外商 5\n",
      "去 5\n",
      "200 5\n",
      "禮金 5\n",
      "續 5\n",
      "朋友 5\n",
      "生技產業 5\n",
      "代工 5\n",
      "派 5\n",
      "工分 5\n",
      "生日 5\n",
      "INCJ 5\n",
      "7 5\n",
      "包子 5\n",
      "堅絕 5\n",
      "副 5\n",
      "國防及 5\n",
      "打折 5\n",
      "& 5\n",
      "入股 5\n",
      "春節 5\n",
      "去年 5\n",
      "鴻海 5\n",
      "以 5\n",
      "艾克爾 5\n",
      "假 5\n",
      "可能 5\n",
      "寫 5\n",
      "我 5\n",
      "獲利 5\n",
      "傳 5\n",
      "管理 5\n",
      "台北 5\n",
      "南茂 5\n",
      "40 5\n",
      "反 4\n",
      "GG 4\n",
      "老 4\n",
      "各位 4\n",
      "台中 4\n",
      "所 4\n",
      "神教 4\n",
      "卡 4\n",
      "好 4\n",
      "搶親 4\n",
      "機會 4\n",
      "健康 4\n",
      "企業 4\n",
      "萬元 4\n",
      "業務 4\n",
      "但 4\n",
      "還變 4\n",
      "竹科 4\n",
      "智慧 4\n",
      "下班 4\n",
      "辦 4\n",
      "裁 4\n",
      "教授 4\n",
      "就是 4\n",
      "通病 4\n",
      "上班 4\n",
      "矽品 4\n",
      "舛 4\n",
      "年終 4\n",
      "日光 4\n",
      "實習 4\n",
      "路 4\n",
      "南下 4\n",
      "砸 4\n",
      "光電 4\n",
      "發 4\n",
      "這兩大 4\n",
      "救急 4\n",
      "3 4\n",
      "機械 4\n",
      "履歷 4\n",
      "廣達 4\n",
      "離職 4\n",
      "問卷 4\n",
      "光員 4\n",
      "學 4\n",
      "新竹 4\n",
      "有人 4\n",
      "日圓 4\n",
      "開發 4\n",
      "春 4\n",
      "南 4\n",
      "運多 4\n",
      "傳產 4\n",
      "動員 4\n",
      "點 4\n",
      "mobile 4\n",
      "失去 4\n",
      "遭 4\n",
      "材料 4\n",
      "這 4\n",
      "就 4\n",
      "喬山 4\n",
      "計劃 4\n",
      "300 4\n",
      "台大 4\n",
      "爆要 4\n",
      "致茂 4\n",
      "京元 4\n",
      "兆 4\n",
      "大立 4\n",
      "處理 4\n",
      "夏戀命 4\n",
      "新鮮人 4\n",
      "兩兆雙星 4\n",
      "Apple 4\n",
      "QNAP 4\n",
      "人生 4\n",
      "包券 4\n",
      "約 4\n",
      "人員 4\n",
      "能 4\n",
      "事業 4\n",
      "蘋果 4\n",
      "應用 4\n",
      "120 4\n",
      "闆 4\n",
      "研華 4\n",
      "奇景 4\n",
      "下 4\n",
      "正常 3\n",
      "親戚 3\n",
      "業的 3\n",
      "個 3\n",
      "+ 3\n",
      "上 3\n",
      "光寶 3\n",
      "新世紀光 3\n",
      "或 3\n",
      "大 3\n",
      "年前 3\n",
      "兩難 3\n",
      "密案後續 3\n",
      "結果 3\n",
      "當 3\n",
      "聯詠 3\n",
      "內湖 3\n",
      "部門 3\n",
      "附近 3\n",
      "文章 3\n",
      "之後叫 3\n",
      "祕 3\n",
      "迷茫 3\n",
      "安全 3\n",
      "time 3\n",
      "感到 3\n",
      "缺 3\n",
      "阿 3\n",
      "半年 3\n",
      "資安 3\n",
      "銷售 3\n",
      "失業 3\n",
      "驢 3\n",
      "桃園 3\n",
      "電話 3\n",
      "師的 3\n",
      ".. 3\n",
      "倒 3\n",
      "行動 3\n",
      "10 3\n",
      "陷入 3\n",
      "地方 3\n",
      "採購 3\n",
      "慘字 3\n",
      "漏接 3\n",
      "應材 3\n",
      "達 3\n",
      "創辦 3\n",
      "新鮮 3\n",
      "面板 3\n",
      "_ 3\n",
      "剛剛 3\n",
      "騎 3\n",
      "LED 3\n",
      "航空 3\n",
      "徵 3\n",
      "分享 3\n",
      "滿 3\n",
      "單 3\n",
      "一輩子 3\n",
      "威聯通 3\n",
      "6 3\n",
      "中心 3\n",
      "李致毅 3\n",
      "! 3\n",
      "才 3\n",
      "薄膜 3\n",
      "developer 3\n",
      "中山 3\n",
      "不會 3\n",
      "今天 3\n",
      "職 3\n",
      "寫個 3\n",
      "試 3\n",
      "認識 3\n",
      "強震 3\n",
      "主管 3\n",
      "能待 3\n",
      "收 3\n",
      "異性 3\n",
      "包 3\n",
      "河蟹 3\n",
      "差 3\n",
      "9 3\n",
      "八卦 3\n",
      "同事 3\n",
      "... 3\n",
      "有限公司 3\n",
      "為何 3\n",
      "做 3\n",
      "水桶 3\n",
      "沒 3\n",
      "中科 3\n",
      "晶元 3\n",
      "dram 3\n",
      "南亞 3\n",
      "八點 3\n",
      "庄 3\n",
      "資訊 3\n",
      "三星 3\n",
      "人面 3\n",
      "悲歌 3\n",
      "電營業 3\n",
      "勞工 3\n",
      "真正 3\n",
      "iPhone 3\n",
      "約聘 3\n",
      "代 3\n",
      "多久 3\n",
      "裁員 3\n",
      "進 3\n",
      "捐 3\n",
      "康寧 3\n",
      "馬 3\n",
      "加班 3\n",
      "湖口 3\n",
      "福利 3\n",
      "及 3\n",
      "產品 3\n",
      "日本 3\n",
      "注意 3\n",
      "培訓 3\n",
      "乾脆 3\n",
      "多 3\n",
      "開始 3\n",
      "政府 3\n",
      "美商 3\n",
      "職稱 3\n",
      "嘛 3\n",
      "國營 3\n",
      "於 3\n",
      "凌陽 2\n",
      "造 2\n",
      "人來 2\n",
      "校園 2\n",
      "matlab 2\n",
      "可惜 2\n",
      "有勞 2\n",
      "覺得 2\n",
      "電腦 2\n",
      "或學 2\n",
      "A 2\n",
      "APP 2\n",
      "東西 2\n",
      "1M 2\n",
      "薪資 2\n",
      "機械式 2\n",
      "跟 2\n",
      "飽 2\n",
      "新世紀 2\n",
      "比一比 2\n",
      "鍋 2\n",
      "問 2\n",
      "資工要 2\n",
      "捷普綠點 2\n",
      "那 2\n",
      "學類 2\n",
      "裝置 2\n",
      "吋 2\n",
      "奇美 2\n",
      "教 2\n",
      "超豐 2\n",
      "C# 2\n",
      "全國 2\n",
      "過程 2\n",
      "儀器 2\n",
      "典範 2\n",
      "海公公 2\n",
      "受到 2\n",
      "石化 2\n",
      "智能 2\n",
      "就業 2\n",
      "不滿意 2\n",
      "iOS 2\n",
      "使用 2\n",
      "家庭 2\n",
      "每人 2\n",
      "打造 2\n",
      "高薪 2\n",
      "生科學士 2\n",
      "半導 2\n",
      "是不是 2\n",
      "偷錢 2\n",
      "國 2\n",
      "名 2\n",
      "租屋 2\n",
      "【 2\n",
      "服務 2\n",
      "專利 2\n",
      "520 2\n",
      "午餐 2\n",
      "ME 2\n",
      "鍵盤 2\n",
      "用 2\n",
      "盜賣 2\n",
      "哪家 2\n",
      "無薪 2\n",
      "】 2\n",
      "回事 2\n",
      "南部 2\n",
      "當警衛 2\n",
      "阿寶開獎 2\n",
      "OFFER 2\n",
      "專案 2\n",
      "美 2\n",
      "違反版 2\n",
      "工業 2\n",
      "說現 2\n",
      "群暉 2\n",
      "18 2\n",
      "還有 2\n",
      "徵求 2\n",
      "韓國 2\n",
      "集團 2\n",
      "假日 2\n",
      "網頁 2\n",
      "口頭 2\n",
      "電資 2\n",
      "FSE 2\n",
      "中華電信 2\n",
      "法名 2\n",
      "三口 2\n",
      "分班 2\n",
      "更加 2\n",
      "機構 2\n",
      "可能性 2\n",
      "竹北 2\n",
      "% 2\n",
      "人才 2\n",
      "費哪去 2\n",
      "重要性 2\n",
      "佳能 2\n",
      "UMC 2\n",
      "電源 2\n",
      "外國 2\n",
      "HTC 2\n",
      "or 2\n",
      "該誠實 2\n",
      "家因 2\n",
      "穎 2\n",
      "光電前 2\n",
      "500 2\n",
      "遭傳喚 2\n",
      "發現 2\n",
      "曆 2\n",
      "評價 2\n",
      "語言 2\n",
      "關智成 2\n",
      "改 2\n",
      "小火 2\n",
      "通車 2\n",
      "拍 2\n",
      "報到 2\n",
      "位元 2\n",
      "群面試 2\n",
      "女生 2\n",
      "技嘉 2\n",
      "過份 2\n",
      "北 2\n",
      "大化 2\n",
      "進去 2\n",
      "一家 2\n",
      "隨行 2\n",
      "聯強 2\n",
      "金 2\n",
      "專班 2\n",
      "c 2\n",
      "不到 2\n",
      "供應鏈 2\n",
      "工研院 2\n",
      "讀碩士 2\n",
      "～ 2\n",
      "高通 2\n",
      "大選 2\n",
      "勞基 2\n",
      "明 2\n",
      "照顧 2\n",
      "一天 2\n",
      "區 2\n",
      "公布 2\n",
      "記錄 2\n",
      "股份 2\n",
      "投中 2\n",
      "皮 2\n",
      "裕隆 2\n",
      "Google 2\n",
      "力士 2\n",
      "虹堡 2\n",
      "自強 2\n",
      "研究所 2\n",
      "超級 2\n",
      "助工 2\n",
      "設計師 2\n",
      "Part 2\n",
      "留下 2\n",
      "前景 2\n",
      "國家 2\n",
      "買 2\n",
      "台積面 2\n",
      "達創 2\n",
      "恋人 2\n",
      "今年 2\n",
      "元 2\n",
      "鉅 2\n",
      "比 2\n",
      "萬是 2\n",
      "好吃 2\n",
      "XX 2\n",
      "中壢 2\n",
      "交大 2\n",
      "資料 2\n",
      "家人 2\n",
      "關於年終 2\n",
      "地震 2\n",
      "IPEG 2\n",
      "華創 2\n",
      "拒絕 2\n",
      "試會 2\n",
      "35 2\n",
      "分析 2\n",
      "apple 2\n",
      "能力 2\n",
      "講座 2\n",
      "抽 2\n",
      "目標 2\n",
      "菜色 2\n",
      "成 2\n",
      "力 2\n",
      "化工 2\n",
      "2015 2\n",
      "2016 2\n",
      "轎 2\n",
      "博覽會 2\n",
      "非 2\n",
      "兩條 2\n",
      "歪 2\n",
      "8x 2\n",
      "最近 2\n",
      "繼續 2\n",
      "日商 2\n",
      "職缺 2\n",
      "還在 2\n",
      "大餐 2\n",
      "= 2\n",
      "仁寶 2\n",
      "大廠 2\n",
      "積電 2\n",
      "不要 2\n",
      "接受 2\n",
      "拿 2\n",
      "iPad 2\n",
      "中鋼 2\n",
      "PO 2\n",
      "光 2\n",
      "webapp 2\n",
      "放棄 2\n",
      "市 2\n",
      "小米 2\n",
      "感覺 2\n",
      "違反 2\n",
      "聽過 2\n",
      "晶片 2\n",
      "雲 2\n",
      "有白飯 2\n",
      "管院 2\n",
      "幫 2\n",
      "自 2\n",
      "碩 2\n",
      "權益會 2\n",
      "欣銓 2\n",
      "王文淵 2\n",
      "現在 2\n",
      "你 2\n",
      "資系統 2\n",
      "又 2\n",
      "某 2\n",
      "U 2\n",
      "過 2\n",
      "董事 2\n",
      "新唐 1\n",
      "薪 1\n",
      "萬開 1\n",
      "還沒 1\n",
      "宣導 1\n",
      "決擇 1\n",
      "銷 1\n",
      "Software 1\n",
      "雪豹 1\n",
      "竹廠 1\n",
      "品牌 1\n",
      "遇過 1\n",
      "大數據 1\n",
      "樂翻 1\n",
      "第一 1\n",
      "電產業 1\n",
      "無 1\n",
      "美律 1\n",
      "這禮 1\n",
      "成功 1\n",
      "錢 1\n",
      "找到 1\n",
      "102 1\n",
      "設計該 1\n",
      "爆年 1\n",
      "師職位 1\n",
      "Engr 1\n",
      "基 1\n",
      "目前 1\n",
      "工務課 1\n",
      "人人 1\n",
      "關東鑫林 1\n",
      "奕力 1\n",
      "測座標 1\n",
      "上下班 1\n",
      "最愛大學 1\n",
      "客服 1\n",
      "三義 1\n",
      "跳 1\n",
      "東雅電子 1\n",
      "明天 1\n",
      "551 1\n",
      "影響 1\n",
      "本期 1\n",
      "LG 1\n",
      "恩智浦 1\n",
      "華亞科 1\n",
      "配合 1\n",
      "課 1\n",
      "師流動率 1\n",
      "老板 1\n",
      "茫然 1\n",
      "生物 1\n",
      "lab 1\n",
      "嵌入式 1\n",
      "兄弟 1\n",
      "吃香 1\n",
      "L2 1\n",
      "國人 1\n",
      "贈品 1\n",
      "辦法 1\n",
      "科 1\n",
      "勢 1\n",
      "航空器 1\n",
      "國立 1\n",
      "卷 1\n",
      "責任 1\n",
      "不知 1\n",
      "超前 1\n",
      "數聯 1\n",
      "科篤行 1\n",
      "東倒 1\n",
      "聯發約聘 1\n",
      "威盛 1\n",
      "JOS 1\n",
      "穩懋 1\n",
      "星巴克 1\n",
      "SAS 1\n",
      "達方 1\n",
      "FANUC 1\n",
      "才能 1\n",
      "透露 1\n",
      "抽禮券 1\n",
      "半天 1\n",
      "技 1\n",
      "定性 1\n",
      "其表 1\n",
      "帶薪 1\n",
      "所羅門 1\n",
      "應變 1\n",
      "筆電 1\n",
      "前途 1\n",
      "有酬 1\n",
      "創控 1\n",
      "這家 1\n",
      "轉 1\n",
      "秒 1\n",
      "一籃子 1\n",
      "單字 1\n",
      "大S 1\n",
      "實 1\n",
      "兩個 1\n",
      "地步 1\n",
      "高職 1\n",
      "三線 1\n",
      "豐與京元 1\n",
      "這種 1\n",
      "預期 1\n",
      "亞海 1\n",
      "RMA 1\n",
      "儲備 1\n",
      "關於寶成 1\n",
      "B 1\n",
      "業界 1\n",
      "台揚科 1\n",
      "健鼎 1\n",
      "尚宏 1\n",
      "哥 1\n",
      "人資 1\n",
      "Q4 1\n",
      "電控 1\n",
      "小英 1\n",
      "廠會 1\n",
      "剛建 1\n",
      "搶夏普 1\n",
      "采鈺 1\n",
      "徬徨 1\n",
      "市場 1\n",
      "學習 1\n",
      "投履歷 1\n",
      "躍居本 1\n",
      "VCM 1\n",
      "登陸案 1\n",
      "費最後反 1\n",
      "QQ 1\n",
      "突裁員 1\n",
      "QA 1\n",
      "一下 1\n",
      "真的 1\n",
      "獎和中 1\n",
      "layout 1\n",
      "景碩 1\n",
      "工時 1\n",
      "聯通 1\n",
      "問南科 1\n",
      "GOGORO 1\n",
      "觸控 1\n",
      "鳥 1\n",
      "新光 1\n",
      "環球 1\n",
      "上緯 1\n",
      "補班 1\n",
      "車輛 1\n",
      "學士 1\n",
      "狀況 1\n",
      "變 1\n",
      "網通 1\n",
      "八成 1\n",
      "Android 1\n",
      "缺德 1\n",
      "豪氣 1\n",
      "混亂 1\n",
      "天 1\n",
      "風 1\n",
      "結束 1\n",
      "農 1\n",
      "勞工上 1\n",
      "］ 1\n",
      "基金 1\n",
      "幹部 1\n",
      "超越 1\n",
      "股票 1\n",
      "體 1\n",
      "news 1\n",
      "機 1\n",
      "百大 1\n",
      "松下 1\n",
      "ASUS 1\n",
      "com 1\n",
      "灣圓點奈米 1\n",
      "太 1\n",
      "驗證 1\n",
      "前瞻 1\n",
      "醣 1\n",
      "能源 1\n",
      "失數 1\n",
      "陳 1\n",
      "補助 1\n",
      "公益 1\n",
      "CE 1\n",
      "關於旺宏 1\n",
      "土城 1\n",
      "CS 1\n",
      "作 1\n",
      "達鴻先進 1\n",
      "朋程 1\n",
      "招人 1\n",
      "華 1\n",
      "走 1\n",
      "規定 1\n",
      "常駐 1\n",
      "即期 1\n",
      "陪伴 1\n",
      "外籍 1\n",
      "少 1\n",
      "產學 1\n",
      "配送 1\n",
      "發科 1\n",
      "碎晶圓卡 1\n",
      "SCLEE5566 1\n",
      "學科 1\n",
      "第四季 1\n",
      "鋼鐵 1\n",
      "拚 1\n",
      "離 1\n",
      "首度 1\n",
      "業班 1\n",
      "有關 1\n",
      "不可 1\n",
      "公證 1\n",
      "研 1\n",
      "WebForm 1\n",
      "解僱 1\n",
      "轉調 1\n",
      "人身 1\n",
      "全球 1\n",
      "同步 1\n",
      "迫員工 1\n",
      "海路 1\n",
      "愛心 1\n",
      "化調查 1\n",
      "再放 1\n",
      "50 1\n",
      "遊戲 1\n",
      "縮影 1\n",
      "調查 1\n",
      "累積 1\n",
      "HP 1\n",
      "經歷 1\n",
      "威剛 1\n",
      "財會 1\n",
      "openGL 1\n",
      "國立科 1\n",
      "韌體 1\n",
      "School 1\n",
      "畢業 1\n",
      "不錯 1\n",
      "回應 1\n",
      "進擊 1\n",
      "地位 1\n",
      "何非 1\n",
      "林旭 1\n",
      "資訊業 1\n",
      "出 1\n",
      "通產品 1\n",
      "聯合線 1\n",
      "連宇 1\n",
      "小時 1\n",
      "問威 1\n",
      "用到 1\n",
      "0.85 1\n",
      "聚 1\n",
      "呢 1\n",
      "換人當 1\n",
      "一起 1\n",
      "技能 1\n",
      "當兵 1\n",
      "職務疑問 1\n",
      "成勞工 1\n",
      "哪間 1\n",
      "抽獎 1\n",
      "獎訊息 1\n",
      "上班族 1\n",
      "人人平等 1\n",
      "穩 1\n",
      "彈性 1\n",
      "15B 1\n",
      "問英業 1\n",
      "接班人 1\n",
      "遣散 1\n",
      "對華 1\n",
      "耐落 1\n",
      "哪種 1\n",
      "優惠 1\n",
      "弘潔 1\n",
      "瞭解 1\n",
      "很火熱 1\n",
      "一般 1\n",
      "英文名 1\n",
      "平鎮 1\n",
      "下半年 1\n",
      "簽核 1\n",
      "西路 1\n",
      "傳輸 1\n",
      "Protocol 1\n",
      "平台 1\n",
      "問華碩 1\n",
      "創業 1\n",
      "高雄大學 1\n",
      "天搶修 1\n",
      "三福氣體 1\n",
      "PCB 1\n",
      "回來 1\n",
      "工業區 1\n",
      "525 1\n",
      "戀人 1\n",
      "KitCut 1\n",
      "English 1\n",
      "創園區 1\n",
      "多少 1\n",
      "停電 1\n",
      "問關 1\n",
      "警告 1\n",
      "年後想 1\n",
      "力成 1\n",
      "修配 1\n",
      "億企業 1\n",
      "每股 1\n",
      "轉不過 1\n",
      "薪多學士 1\n",
      "搞 1\n",
      "生醫 1\n",
      "MF916 1\n",
      "禮卷 1\n",
      "徵人 1\n",
      "普事業 1\n",
      "桓達 1\n",
      "重新 1\n",
      "日班 1\n",
      "清 1\n",
      "五霸 1\n",
      "韓媒體 1\n",
      "群 1\n",
      "日月神教 1\n",
      "CAE 1\n",
      "14A 1\n",
      "三面 1\n",
      "搞頭 1\n",
      "STB 1\n",
      "紅包 1\n",
      "中壢廠 1\n",
      "北科大 1\n",
      "菜 1\n",
      "多累 1\n",
      "行善 1\n",
      "制請 1\n",
      "拓展 1\n",
      "百名 1\n",
      "英業 1\n",
      "問艾銻 1\n",
      "鼎 1\n",
      "廢水 1\n",
      "爐 1\n",
      "電信業 1\n",
      "迪斯科 1\n",
      "夢 1\n",
      "電發威 1\n",
      "晶員工 1\n",
      "RD 1\n",
      "計算機 1\n",
      "關於光 1\n",
      "WebAccess 1\n",
      "戰友 1\n",
      "加薪 1\n",
      "TPK 1\n",
      "基礎 1\n",
      "傻眼 1\n",
      "揚博 1\n",
      "無人機 1\n",
      "進行 1\n",
      "橘子 1\n",
      "Salutron 1\n",
      "精密化 1\n",
      "啦 1\n",
      "電機 1\n",
      "清大資 1\n",
      "明徽 1\n",
      "億買晶 1\n",
      "聯寶電子 1\n",
      "小 1\n",
      "疑惑 1\n",
      "過嗎 1\n",
      "RTK 1\n",
      "過關 1\n",
      "南台 1\n",
      "投資 1\n",
      "教職 1\n",
      "屏 1\n",
      "科工 1\n",
      "洗衣 1\n",
      "事項 1\n",
      "群有 1\n",
      "大檔案 1\n",
      "寶悍 1\n",
      "修 1\n",
      "圓融 1\n",
      "管控 1\n",
      "頭獎 1\n",
      "xx 1\n",
      "北神 1\n",
      "engineer 1\n",
      "OnePlus 1\n",
      "韓 1\n",
      "滙 1\n",
      "禮盒 1\n",
      "晞 1\n",
      "11 1\n",
      "13 1\n",
      "12 1\n",
      "15 1\n",
      "專業 1\n",
      "基恩斯 1\n",
      "手機 1\n",
      "精密 1\n",
      "百 1\n",
      "and 1\n",
      "商科 1\n",
      "較 1\n",
      "新店 1\n",
      "酬金 1\n",
      "凌巨 1\n",
      "何種 1\n",
      "南科亞德客 1\n",
      "ㄧ 1\n",
      "磊晶 1\n",
      "市值 1\n",
      "夜班 1\n",
      "文革 1\n",
      "鉑 1\n",
      "需時間 1\n",
      "中研院 1\n",
      "所電資組 1\n",
      "郭董 1\n",
      "哪 1\n",
      "除了 1\n",
      "關於蝕刻 1\n",
      "卻 1\n",
      "成績 1\n",
      "沅聖 1\n",
      "大溪 1\n",
      "竹科塞到 1\n",
      "最大 1\n",
      "一廠 1\n",
      "大清 1\n",
      "速睦喜 1\n",
      "華映 1\n",
      "這職位 1\n",
      "必行 1\n",
      "無聲 1\n",
      "不如 1\n",
      "矽 1\n",
      "昇 1\n",
      "程式 1\n",
      "不好 1\n",
      "盟創 1\n",
      "楠梓 1\n",
      "係 1\n",
      "鎖文 1\n",
      "晶 1\n",
      "惠普 1\n",
      "苗栗 1\n",
      "多領 1\n",
      "終掛 1\n",
      "幾天 1\n",
      "中芯 1\n",
      "震撼 1\n",
      "師轉職 1\n",
      "漢民 1\n",
      "有點 1\n",
      "材系 1\n",
      "聯電和鉅晶 1\n",
      "數位 1\n",
      "石頭 1\n",
      "答應 1\n",
      "數千晶 1\n",
      "看 1\n",
      "北方 1\n",
      "北京 1\n",
      "方面 1\n",
      "自動化量 1\n",
      "衰退 1\n",
      "曝 1\n",
      "基材 1\n",
      "運處 1\n",
      "傳不當 1\n",
      "全一電子 1\n",
      "佑霖 1\n",
      "中華 1\n",
      "XXX 1\n",
      "數大減 1\n",
      "激勵 1\n",
      "先藝 1\n",
      "熒茂光學 1\n",
      "電研發 1\n",
      "千基層員工 1\n",
      "智權 1\n",
      "纖維 1\n",
      "Campus 1\n",
      "明基電通 1\n",
      "起薪 1\n",
      "轉折點 1\n",
      "合理 1\n",
      "鴻海夏 1\n",
      "華泰電子 1\n",
      "4 1\n",
      "被告 1\n",
      "查驗 1\n",
      "捷濤 1\n",
      "MmnR 1\n",
      "網站 1\n",
      "Solomon 1\n",
      "累犯 1\n",
      "職請 1\n",
      "server 1\n",
      "電 1\n",
      "工賴 1\n",
      "回覆 1\n",
      "教鴻海 1\n",
      "每月 1\n",
      "穩懋蝕刻 1\n",
      "反悔 1\n",
      "原 1\n",
      "專責 1\n",
      "填問 1\n",
      "關於正揚 1\n",
      "怎選 1\n",
      "三個 1\n",
      "歡迎 1\n",
      "跳槽 1\n",
      "大豐 1\n",
      "終開獎 1\n",
      "問未來 1\n",
      "op 1\n",
      "同期 1\n",
      "文 1\n",
      "要問 1\n",
      "NI 1\n",
      "NB 1\n",
      "時代將 1\n",
      "網管 1\n",
      "house 1\n",
      "天數 1\n",
      "求 1\n",
      "彰化市 1\n",
      "DRAM 1\n",
      "家電 1\n",
      "Startup 1\n",
      "弓銓 1\n",
      "石英 1\n",
      "資編 1\n",
      "財測 1\n",
      "培養 1\n",
      "零件 1\n",
      "課程 1\n",
      "消失 1\n",
      "Lab 1\n",
      "昱 1\n",
      "顯示 1\n",
      "告知 1\n",
      "南電 1\n",
      "元禮卷 1\n",
      "年首 1\n",
      "上限 1\n",
      "考官 1\n",
      "大哥大 1\n",
      "最高 1\n",
      "彰濱秀傳 1\n",
      "u 1\n",
      "耕興 1\n",
      "瑞健 1\n",
      "試過 1\n",
      "汽車 1\n",
      "SIP 1\n",
      "灣營德 1\n",
      "碰上 1\n",
      "鐘 1\n",
      "奪冠 1\n",
      "晶心 1\n",
      "系列 1\n",
      "誰 1\n",
      "通信 1\n",
      "施崇棠 1\n",
      "意願 1\n",
      "廠員 1\n",
      "多學士 1\n",
      "規二 1\n",
      "出國 1\n",
      "班 1\n",
      "學余靖 1\n",
      "晶彩 1\n",
      "驚爆 1\n",
      "design 1\n",
      "亞德客 1\n",
      "OECD 1\n",
      "Hire 1\n",
      "光機 1\n",
      "內容 1\n",
      "加強 1\n",
      "準備 1\n",
      "旺宏 1\n",
      "兩成 1\n",
      "規一 1\n",
      "DXXX 1\n",
      "DLP 1\n",
      "管理科 1\n",
      "BENQ 1\n",
      "控制 1\n",
      "中石化 1\n",
      "螃蟹 1\n",
      "爭議 1\n",
      "Sr 1\n",
      "中鼎 1\n",
      "受 1\n",
      "巧立名目 1\n",
      "SK 1\n",
      "台達電 1\n",
      "年末 1\n",
      "自動化 1\n",
      "領域 1\n",
      "IBM 1\n",
      "該留 1\n",
      "科學園區 1\n",
      "帶隊 1\n",
      "教學 1\n",
      "摩根 1\n",
      "TSMC 1\n",
      "中龍 1\n",
      "所有 1\n",
      "最操 1\n",
      "南梓 1\n",
      "時間 1\n",
      "楊梅 1\n",
      "好像 1\n",
      "環台 1\n",
      "缺請 1\n",
      "這裡 1\n",
      "跨 1\n",
      "獎率 1\n",
      "系進 1\n",
      "各 1\n",
      "加工 1\n",
      "投資率 1\n",
      "邊有 1\n",
      "26 1\n",
      "通路 1\n",
      "20 1\n",
      "22 1\n",
      "反對 1\n",
      "只有 1\n",
      "機器 1\n",
      "加州 1\n",
      "精英 1\n",
      "拋 1\n",
      "問你 1\n",
      "framework 1\n",
      "斗六 1\n",
      "師之 1\n",
      "要夏普 1\n",
      "課有 1\n",
      "從 1\n",
      "電力 1\n",
      "拜六要 1\n",
      "炬 1\n",
      "當業務 1\n",
      "外媒估 1\n",
      "仙境 1\n",
      "技術士 1\n",
      "取 1\n",
      "鎖定 1\n",
      "EPOS 1\n",
      "千萬獎 1\n",
      "工邊 1\n",
      "英特 1\n",
      "六 1\n",
      "二手 1\n",
      "玻璃 1\n",
      "理器 1\n",
      "請教 1\n",
      "去留 1\n",
      "無線產 1\n",
      "尊 1\n",
      "PAPAGO 1\n",
      "十億元 1\n",
      "去年底 1\n",
      "轉往 1\n",
      "擬實現 1\n",
      "研勤 1\n",
      "存在 1\n",
      "這樣 1\n",
      "誠徵後端 1\n",
      "檢驗 1\n",
      "關捷 1\n",
      "彈 1\n",
      "身不由己 1\n",
      "碩士 1\n",
      "part 1\n",
      "SpaceX 1\n",
      "金屬 1\n",
      "恢 1\n",
      "stb 1\n",
      "體研 1\n",
      "大量 1\n",
      "聚台 1\n",
      "關於澄晶 1\n",
      "創新 1\n",
      "超高 1\n",
      "刪除 1\n",
      "億光業績 1\n",
      "第一天 1\n",
      "初網 1\n",
      "居易 1\n",
      "獎金 1\n",
      "棒 1\n",
      "影像 1\n",
      "陶氏 1\n",
      "乾蝕刻 1\n",
      "高階 1\n",
      "某板 1\n",
      "調 1\n",
      "義隆 1\n",
      "魅族 1\n",
      "健身 1\n",
      "學校 1\n",
      "跑道 1\n",
      "iDPBG 1\n",
      "圖學 1\n",
      "神 1\n",
      "股銀行 1\n",
      "探討 1\n",
      "博士生 1\n",
      "一年 1\n",
      "兆利 1\n",
      "檢討 1\n",
      "閒聊 1\n",
      "怎樣 1\n",
      "出口 1\n",
      "儀析 1\n",
      "php 1\n",
      "夢幻 1\n",
      "圓泡湯 1\n",
      "南路 1\n",
      "維護 1\n",
      "找活 1\n",
      "供應商 1\n",
      "以客 1\n",
      "立即 1\n",
      "電員 1\n",
      "教師 1\n",
      "實體 1\n",
      "幸福 1\n",
      "FLAG 1\n",
      "外派 1\n",
      "不想 1\n",
      "判斷 1\n",
      "Vender 1\n",
      "成本 1\n",
      "資和紅包 1\n",
      "客戶關 1\n",
      "生涯 1\n",
      "搶 1\n",
      "推薦度 1\n",
      "品 1\n",
      "合作 1\n",
      "N 1\n",
      "板廠 1\n",
      "若 1\n",
      "richtek 1\n",
      "宇瞻 1\n",
      "Apacer 1\n",
      "出爐 1\n",
      "EverCam 1\n",
      "採用 1\n",
      "手環 1\n",
      "資工學士 1\n",
      "羨煞 1\n",
      "難過 1\n",
      "面對 1\n",
      "說 1\n",
      "晶圓 1\n",
      "完成 1\n",
      "問卦 1\n",
      "只能 1\n",
      "業還來 1\n",
      "營收恐 1\n",
      "幾個 1\n",
      "三次 1\n",
      "腦筋 1\n",
      "夏普 1\n",
      "＆ 1\n",
      "碩網 1\n",
      "爆虧損 1\n",
      "艾迪 1\n",
      "開出 1\n",
      "GoPro 1\n",
      "填 1\n",
      "敦泰 1\n",
      "會有 1\n",
      "蛋 1\n",
      "近 1\n",
      "協助 1\n",
      "值班 1\n",
      "GARMIN 1\n",
      "聘台灣員工 1\n",
      "場驚傳 1\n",
      "機制 1\n",
      "升學 1\n",
      "測驗 1\n",
      "職務 1\n",
      "OP 1\n",
      "傳災情 1\n",
      "落點 1\n",
      "應徵 1\n",
      "月薪 1\n",
      "頭份 1\n",
      "單位 1\n",
      "車紀 1\n",
      "未通 1\n",
      "營收 1\n",
      "聯電損 1\n",
      "大陸 1\n",
      "已 1\n",
      "開車 1\n",
      "關於超 1\n",
      "需 1\n",
      "排放 1\n",
      "拉攏 1\n",
      "學歷 1\n",
      "活動 1\n",
      "子公司 1\n",
      "bios 1\n",
      "旭德 1\n",
      "差異 1\n",
      "審核 1\n",
      "報名 1\n",
      "GDP 1\n",
      "通面試 1\n",
      "電動車 1\n",
      "廠友 1\n",
      "行事 1\n",
      "運籌 1\n",
      "亞太 1\n",
      "PNRMm 1\n",
      "全系產品 1\n",
      "硝子 1\n",
      "公立 1\n",
      "首波 1\n",
      "A11 1\n",
      "A10 1\n",
      "所電動 1\n",
      "機台 1\n",
      "寒流 1\n",
      "爾龍頭 1\n",
      "AP 1\n",
      "每年 1\n",
      "四倍 1\n",
      "永光 1\n",
      "行政助理 1\n",
      "南京 1\n",
      "晶圓廠 1\n",
      "不成 1\n",
      "輻射 1\n",
      "西 1\n",
      "天鈺 1\n",
      "一分 1\n",
      "天國定 1\n",
      "合成 1\n",
      "假人 1\n",
      "外 1\n",
      "開心 1\n",
      "未 1\n",
      "必 1\n",
      "替役 1\n",
      "強震聯 1\n",
      "安卓 1\n",
      "友達龍潭 1\n",
      "LAM 1\n",
      "穩定 1\n",
      "高端 1\n",
      "士 1\n",
      "夏普為 1\n",
      "盛群 1\n",
      "替 1\n",
      "分公司 1\n",
      "群島商 1\n",
      "推職 1\n",
      "recruitment 1\n",
      "硬體 1\n",
      "年後想換 1\n",
      "台聯科 1\n",
      "學生 1\n",
      "高科技 1\n",
      "有國際面 1\n",
      "老師 1\n",
      "30 1\n",
      "誠徵藍芽 1\n",
      "學畢業 1\n",
      "聯陽 1\n",
      "聯發 1\n",
      "app 1\n",
      "職網 1\n",
      "算 1\n",
      "晶電 1\n",
      "適應 1\n",
      "行情 1\n",
      "照片 1\n",
      "機械龍頭 1\n",
      "龍頭 1\n",
      "中國 1\n",
      "網路 1\n",
      "星星 1\n",
      "包兌 1\n",
      "品質 1\n",
      "process 1\n",
      "師南科 1\n",
      "二哥 1\n",
      "樹脂廠 1\n",
      "Party 1\n",
      "庚 1\n",
      "NHK 1\n",
      "休假 1\n",
      "與鴻海 1\n",
      "邊賞 1\n",
      "廠給 1\n",
      "處 1\n",
      "資歷 1\n",
      "新泰 1\n",
      "攻發明 1\n",
      "誠徵應 1\n",
      "車禍行 1\n",
      "廠產能 1\n",
      "國際大廠 1\n",
      "經理 1\n",
      "板 1\n",
      "禁假 1\n",
      "Yourator 1\n",
      "南科環 1\n",
      "Airbnb 1\n",
      "X 1\n",
      "打卡 1\n",
      "優勢 1\n",
      "值得 1\n",
      "一週 1\n",
      "啊 1\n",
      "品行 1\n",
      "禮金變 1\n",
      "VIA 1\n",
      "一遭 1\n",
      "虧損 1\n",
      "各加發 1\n",
      "四維 1\n",
      "出差 1\n",
      "光耀 1\n",
      "性 1\n",
      "資格 1\n",
      "現狀 1\n",
      "ASML 1\n",
      "聚積 1\n",
      "或者 1\n",
      "電竹 1\n",
      "廠年 1\n",
      "x 1\n",
      "祭 1\n",
      "追求 1\n",
      "Developer 1\n",
      "勾選 1\n",
      "爆 1\n",
      "爆料 1\n",
      "瑪奈米 1\n",
      "7.36 1\n",
      "關閉 1\n",
      "義消 1\n",
      "白領 1\n",
      "選擇鴻海 1\n",
      "輝瑞 1\n",
      "udn 1\n",
      "好奇 1\n",
      "需年 1\n",
      "Engineer 1\n",
      "雪 1\n",
      "文村 1\n",
      "啟動 1\n",
      "領這麼 1\n",
      "下修 1\n",
      "電容式 1\n",
      "廠強 1\n",
      "Interview 1\n",
      "內部 1\n",
      "Development 1\n",
      "政策 1\n",
      "頭 1\n",
      "低薪 1\n",
      "運動 1\n",
      "400P 1\n",
      "國際 1\n",
      "崇越 1\n",
      "啟 1\n",
      "回 1\n",
      "廣明 1\n",
      "正文 1\n",
      "電獨家 1\n",
      "賺 1\n",
      "聽 1\n",
      "國研院 1\n",
      "營運持續 1\n",
      "領 1\n",
      "12K 1\n",
      "窯 1\n",
      "央 1\n",
      "光寶新 1\n",
      "求面試 1\n",
      "天陽 1\n",
      "商 1\n",
      "資滿 1\n",
      "端 1\n",
      "好康 1\n",
      "對面 1\n",
      "工廠 1\n",
      "職場 1\n",
      "電承諾 1\n",
      "高科磁技 1\n",
      "3576 1\n",
      "由 1\n",
      "進度 1\n",
      "師職 1\n",
      "化學 1\n",
      "房 1\n",
      "夏普合 1\n",
      "台化 1\n",
      "城資訊 1\n",
      "分手 1\n",
      "幫內 1\n",
      "虧 1\n",
      "換券 1\n",
      "術 1\n",
      "Design 1\n",
      "高平 1\n",
      "英屬 1\n",
      "輪班 1\n",
      "可望 1\n",
      "得 1\n",
      "Smart 1\n",
      "問南亞科 1\n",
      "戰勝產業 1\n",
      "電機系 1\n",
      "人力 1\n",
      "先 1\n",
      "還硬 1\n",
      "評估 1\n",
      "不保 1\n",
      "常 1\n",
      "推薦 1\n",
      "普綠點 1\n",
      "簽約 1\n",
      "PLC 1\n",
      "南科及 1\n",
      "Taiwan 1\n",
      "~ 1\n",
      "制度 1\n",
      "封測 1\n",
      "新幹班 1\n",
      "SOC 1\n",
      "奈米 1\n",
      "成員國 1\n",
      "Macbook 1\n",
      "均 1\n",
      "給你 1\n",
      "受訓 1\n",
      "低 1\n",
      "品保 1\n",
      "詢問 1\n",
      "訪者 1\n",
      "無營 1\n",
      "萬變 1\n",
      "— 1\n",
      "正職 1\n",
      "五股 1\n",
      "web 1\n",
      "筆試 1\n",
      "年後轉 1\n",
      "佳邦 1\n",
      "裏 1\n",
      "探針 1\n",
      "虛有 1\n",
      "信 1\n",
      "錄器 1\n",
      "龍潭廠 1\n",
      "第一名 1\n",
      "加入 1\n",
      "熱血 1\n",
      "職單 1\n",
      "科材光 1\n",
      "中部 1\n",
      "科要 1\n",
      "陽半導體 1\n",
      "享補助 1\n",
      "之 1\n",
      "獲利佳 1\n",
      "高 1\n",
      "技術員 1\n",
      "廠員工 1\n",
      "3500 1\n",
      "緊急 1\n",
      "退伍 1\n",
      "鴻佰 1\n",
      "教關 1\n",
      "上岳 1\n",
      "晨星 1\n",
      "漢翔 1\n",
      "BIOS 1\n",
      "PMC 1\n",
      "艾克爾季 1\n",
      "億光 1\n",
      "560 1\n",
      "訓儲 1\n",
      "競爭 1\n",
      "設計 1\n",
      "存 1\n",
      "快遞 1\n",
      "博士 1\n",
      "快 1\n",
      "人造 1\n",
      "CIM 1\n",
      "班夯 1\n",
      "總部 1\n",
      "合正 1\n",
      "銀行 1\n",
      "日文 1\n",
      "中美晶 1\n",
      "戰略 1\n"
     ]
    }
   ],
   "source": [
    "from operator import itemgetter\n",
    "swd = sorted(dic.items(), key = itemgetter(1), reverse=True)\n",
    "for ele in swd:\n",
    "    print ele[0], ele[1]\n"
   ]
  },
  {
   "cell_type": "code",
   "execution_count": null,
   "metadata": {
    "collapsed": true
   },
   "outputs": [],
   "source": []
  }
 ],
 "metadata": {
  "kernelspec": {
   "display_name": "Python 2",
   "language": "python",
   "name": "python2"
  },
  "language_info": {
   "codemirror_mode": {
    "name": "ipython",
    "version": 2
   },
   "file_extension": ".py",
   "mimetype": "text/x-python",
   "name": "python",
   "nbconvert_exporter": "python",
   "pygments_lexer": "ipython2",
   "version": "2.7.11"
  }
 },
 "nbformat": 4,
 "nbformat_minor": 0
}
