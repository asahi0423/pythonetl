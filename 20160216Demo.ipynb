{
 "cells": [
  {
   "cell_type": "code",
   "execution_count": 1,
   "metadata": {
    "collapsed": false
   },
   "outputs": [
    {
     "name": "stdout",
     "output_type": "stream",
     "text": [
      "5\n"
     ]
    }
   ],
   "source": [
    "# Java - Integer a = new Integer()\n",
    "# python version\n",
    "a = 3\n",
    "b = 2\n",
    "print a + b"
   ]
  },
  {
   "cell_type": "code",
   "execution_count": 2,
   "metadata": {
    "collapsed": false
   },
   "outputs": [
    {
     "name": "stdout",
     "output_type": "stream",
     "text": [
      " 磁碟區 C 中的磁碟沒有標籤。\n",
      " 磁碟區序號:  5E12-79CB\n",
      "\n",
      " C:\\Users\\BIG DATA\\pythonetl 的目錄\n",
      "\n",
      "2016/02/16  上午 10:26    <DIR>          .\n",
      "2016/02/16  上午 10:26    <DIR>          ..\n",
      "2016/02/16  上午 10:23    <DIR>          .ipynb_checkpoints\n",
      "2016/02/16  上午 09:59           157,847 201506 ETL 課程預先安裝說明_v3.docx\n",
      "2016/02/16  上午 09:59           168,605 201506 ETL 課程預先安裝說明_v3.pdf\n",
      "2016/02/16  上午 09:59           295,891 20151104Demo.ipynb\n",
      "2016/02/16  上午 09:59           787,759 20151110Demo.ipynb\n",
      "2016/02/16  上午 09:59           201,104 20151112Demo.ipynb\n",
      "2016/02/16  上午 09:59           174,093 20151117Demo.ipynb\n",
      "2016/02/16  上午 10:26               945 20160216Demo.ipynb\n",
      "2016/02/16  上午 09:59            36,562 bid_list.txt\n",
      "2016/02/16  上午 09:59    <DIR>          gov\n",
      "2016/02/16  上午 09:59             5,033 ma.txt\n",
      "2016/02/16  上午 09:59            47,175 Python_Basic.ipynb\n",
      "2016/02/16  上午 09:59            38,273 Python_ETL_1.ipynb\n",
      "2016/02/16  上午 09:59            67,224 Python_ETL_2.ipynb\n",
      "2016/02/16  上午 09:59            55,367 Python_Introduction.ipynb\n",
      "2016/02/16  上午 09:59               577 README.md\n",
      "2016/02/16  上午 09:59    <DIR>          src\n",
      "2016/02/16  上午 09:59           545,174 Untitled0.ipynb\n",
      "              15 個檔案       2,581,629 位元組\n",
      "               5 個目錄  84,512,149,504 位元組可用\n"
     ]
    }
   ],
   "source": [
    "%ls"
   ]
  },
  {
   "cell_type": "markdown",
   "metadata": {},
   "source": [
    "### 開啟一個HTTP 伺服器\n",
    "- python -m SimpleHTTPServer\n",
    "- Server at 0.0.0.0 port 8000"
   ]
  },
  {
   "cell_type": "code",
   "execution_count": 3,
   "metadata": {
    "collapsed": false
   },
   "outputs": [
    {
     "name": "stdout",
     "output_type": "stream",
     "text": [
      "5\n"
     ]
    }
   ],
   "source": [
    "print a + 2"
   ]
  },
  {
   "cell_type": "code",
   "execution_count": null,
   "metadata": {
    "collapsed": true
   },
   "outputs": [],
   "source": [
    "# pip install requests\n",
    "# pip install BeautifulSoup4"
   ]
  },
  {
   "cell_type": "code",
   "execution_count": 5,
   "metadata": {
    "collapsed": false
   },
   "outputs": [],
   "source": [
    "import requests\n",
    "res = requests.get('https://www.ptt.cc/bbs/Food/index.html')\n",
    "#print res.text"
   ]
  },
  {
   "cell_type": "code",
   "execution_count": 6,
   "metadata": {
    "collapsed": false
   },
   "outputs": [
    {
     "name": "stdout",
     "output_type": "stream",
     "text": [
      "[食記] 台南市東區 那個時代法式餐廳\n",
      "[食記] 台北東區 土三寒六讚岐烏龍麵 湯頭真好\n",
      "[食記]【新加坡美食】魚尾獅 Forlino義式餐廳\n",
      "Fw: [食記] 台北中山 辛殿麻辣鍋 松江店 再訪比較\n",
      "[廣宣] 台北 吉屋食堂：令人歡愉的晚飯\n",
      "Fw: [食記] [台南日式] 壺川居酒屋 C/P值低~ \n",
      "[食記] 台中 Art Anew gallery&cafe優質咖啡廳\n",
      "[食記] 新北樹林 懿香碳烤鮮奶吐司 高大鮮乳\n",
      "[食記] 林口三井Outlet‧沾麵玉 GYOKU\n",
      "[食記] 台中【台中牛排館】牛排與蒙古烤肉吃到飽\n",
      "[食記] 台北日光大道廚坊中山店~健康美味鍋物店\n",
      "[食記] 新北林口 元潮蒙古烤肉~蒙古烤肉+酸菜白肉鍋吃到飽新組合!\n",
      "[食記][台北市] 可蜜達Comida炭烤吐司\n",
      "[公告] Food板 板規 V3.8\n",
      "精華區使用方法  【重要！新手必看！】\n",
      "[公告] 發文請在標題加上地區及提供地址電話。^^\n",
      "[公告] 文章被刪除者請洽精華區的資源回收桶\n",
      "[公告] 板規16發文標題須含餐廳店名之調整\n"
     ]
    },
    {
     "name": "stderr",
     "output_type": "stream",
     "text": [
      "C:\\Users\\BIG DATA\\Anaconda2\\lib\\site-packages\\bs4\\__init__.py:166: UserWarning: No parser was explicitly specified, so I'm using the best available HTML parser for this system (\"lxml\"). This usually isn't a problem, but if you run this code on another system, or in a different virtual environment, it may use a different parser and behave differently.\n",
      "\n",
      "To get rid of this warning, change this:\n",
      "\n",
      " BeautifulSoup([your markup])\n",
      "\n",
      "to this:\n",
      "\n",
      " BeautifulSoup([your markup], \"lxml\")\n",
      "\n",
      "  markup_type=markup_type))\n"
     ]
    }
   ],
   "source": [
    "from bs4 import BeautifulSoup \n",
    "soup = BeautifulSoup(res.text)\n",
    "for head in soup.select('.r-ent a'):\n",
    "    print head.text"
   ]
  },
  {
   "cell_type": "code",
   "execution_count": null,
   "metadata": {
    "collapsed": true
   },
   "outputs": [],
   "source": []
  }
 ],
 "metadata": {
  "kernelspec": {
   "display_name": "Python 2",
   "language": "python",
   "name": "python2"
  },
  "language_info": {
   "codemirror_mode": {
    "name": "ipython",
    "version": 2
   },
   "file_extension": ".py",
   "mimetype": "text/x-python",
   "name": "python",
   "nbconvert_exporter": "python",
   "pygments_lexer": "ipython2",
   "version": "2.7.11"
  }
 },
 "nbformat": 4,
 "nbformat_minor": 0
}
