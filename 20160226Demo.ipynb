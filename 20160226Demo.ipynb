{
 "cells": [
  {
   "cell_type": "code",
   "execution_count": 1,
   "metadata": {
    "collapsed": false
   },
   "outputs": [
    {
     "name": "stdout",
     "output_type": "stream",
     "text": [
      "True\n"
     ]
    }
   ],
   "source": [
    "a = 'apple'\n",
    "print a == 'apple'"
   ]
  },
  {
   "cell_type": "code",
   "execution_count": null,
   "metadata": {
    "collapsed": true
   },
   "outputs": [],
   "source": [
    "a = \"Hi my name is David, and my phone number is 0912345678\"\n",
    "b = \"Hi my name is Mary, and my age is 28\""
   ]
  },
  {
   "cell_type": "code",
   "execution_count": 3,
   "metadata": {
    "collapsed": false
   },
   "outputs": [
    {
     "name": "stdout",
     "output_type": "stream",
     "text": [
      "0912345678\n",
      "0923-451-192\n",
      "0912-111222\n"
     ]
    }
   ],
   "source": [
    "a = ['0912345678', '0923-451-192', '0912-111222', '029310319301', '0912312318231310893010']\n",
    "\n",
    "import re\n",
    "for ele in a:\n",
    "    m = re.match('^\\d{4}-?\\d{3}-?\\d{3}$', ele)\n",
    "    if m:\n",
    "        print ele"
   ]
  },
  {
   "cell_type": "markdown",
   "metadata": {},
   "source": [
    "## 比對單一英文字母"
   ]
  },
  {
   "cell_type": "code",
   "execution_count": 5,
   "metadata": {
    "collapsed": false
   },
   "outputs": [
    {
     "name": "stdout",
     "output_type": "stream",
     "text": [
      "<_sre.SRE_Match object at 0x0000000003A3AB28>\n",
      "None\n"
     ]
    }
   ],
   "source": [
    "word = 'a'\n",
    "m = re.match('a', word) # match word\n",
    "print m\n",
    "m = re.match('b', word) # match none\n",
    "print m"
   ]
  },
  {
   "cell_type": "code",
   "execution_count": 6,
   "metadata": {
    "collapsed": false
   },
   "outputs": [
    {
     "name": "stdout",
     "output_type": "stream",
     "text": [
      "<_sre.SRE_Match object at 0x0000000003A3AB28>\n"
     ]
    }
   ],
   "source": [
    "word = 'z'\n",
    "m = re.match('[acz]', word) # match word a or c or z, word in [] is in OR relation\n",
    "print m"
   ]
  },
  {
   "cell_type": "code",
   "execution_count": 21,
   "metadata": {
    "collapsed": false
   },
   "outputs": [
    {
     "name": "stdout",
     "output_type": "stream",
     "text": [
      "<_sre.SRE_Match object at 0x0000000003ABB7E8>\n",
      "<_sre.SRE_Match object at 0x0000000003ABB718>\n",
      "None\n",
      "<_sre.SRE_Match object at 0x0000000003ABB718>\n",
      "<_sre.SRE_Match object at 0x0000000003ABB7E8>\n"
     ]
    }
   ],
   "source": [
    "word = 'z'\n",
    "m = re.match('[abcdefghijklmnopqrstuvwxyz]', word)\n",
    "print m\n",
    "m = re.match('[a-z]', word) # [a-z] == [abcdefghijklmnopqrstuvwxyz]\n",
    "print m\n",
    "word = 'Z'\n",
    "m = re.match('[a-z]', word) # [a-z] == [abcdefghijklmnopqrstuvwxyz]\n",
    "print m\n",
    "m = re.match('[A-Z]', word) # [A-Z]\n",
    "print m\n",
    "m = re.match('[a-zA-Z]', word) # [A-Z]\n",
    "print m"
   ]
  },
  {
   "cell_type": "markdown",
   "metadata": {},
   "source": [
    "## 比對單一數字"
   ]
  },
  {
   "cell_type": "code",
   "execution_count": 14,
   "metadata": {
    "collapsed": false
   },
   "outputs": [
    {
     "name": "stdout",
     "output_type": "stream",
     "text": [
      "8\n",
      "8\n",
      "8\n"
     ]
    }
   ],
   "source": [
    "n= '8'\n",
    "print n if re.match('8', n) else None # match 8 \n",
    "print n if re.match('[0123456789]', n) else None # match either numeric\n",
    "print n if re.match('[0-9]', n) else None # match either numeric"
   ]
  },
  {
   "cell_type": "markdown",
   "metadata": {},
   "source": [
    "## 比對多個文字 (固定長度)"
   ]
  },
  {
   "cell_type": "code",
   "execution_count": 23,
   "metadata": {
    "collapsed": false
   },
   "outputs": [
    {
     "name": "stdout",
     "output_type": "stream",
     "text": [
      "['1122-AB', '2222-QQ', '3333-QG', '3A4B-1L', '12345-AAA']\n",
      "['1122-AB', '2222-QQ', '3333-QG']\n",
      "['1122-AB', '2222-QQ', '3333-QG', '12345-AAA']\n"
     ]
    }
   ],
   "source": [
    "carid = ['1122-AB', '2222-QQ', '3333-QG', 'A92B-12', '3A4B-1L', '12345-AAA'] # the first three are true carid\n",
    "print [ ele  for ele in carid if re.match('[0-9]', ele)] # anything that has a numeric as initial word \n",
    "print [ ele  for ele in carid if re.match('[0-9]{4}-[A-Z]{2}', ele)] # anything that matches to NNNN-AA\n",
    "print [ ele  for ele in carid if re.match('[0-9]{4,5}-[A-Z]{2,3}', ele)] # anything that matches to NNNN-AA"
   ]
  },
  {
   "cell_type": "markdown",
   "metadata": {},
   "source": [
    "## 比對多個文字 (不固定長度 e.g. EMAIL)"
   ]
  },
  {
   "cell_type": "code",
   "execution_count": 29,
   "metadata": {
    "collapsed": false
   },
   "outputs": [
    {
     "name": "stdout",
     "output_type": "stream",
     "text": [
      "['qoo@cocacola.com']\n",
      "['qoo@cocacola.com']\n",
      "['qoo@cocacola.com', 'acool123@pchome.com.tw']\n",
      "['qoo@cocacola.com', 'anonymous@111.22', 'acool123@pchome.com.tw']\n"
     ]
    }
   ],
   "source": [
    "email = ['qoo@cocacola.com', 'anonymous@111.22', '13u1udhfgiudhi-sldfjsdjfos', 'acool123@pchome.com.tw']\n",
    "print [ ele  for ele in email if re.match('[a-zA-Z]{1,}@[a-z]{0,}\\.com', ele)] # anything that matchs *@*.com\n",
    "print [ ele  for ele in email if re.match('[a-zA-Z]+@[a-z]*\\.com', ele)] # {1,} == +,  {0,} == *\n",
    "print [ ele  for ele in email if re.match('[a-zA-Z0-9]+@[a-zA-Z.]+', ele)] \n",
    "print [ ele  for ele in email if re.match('\\w+@.+', ele)]  # [a-zA-Z0-9] == \\w, anything == ."
   ]
  },
  {
   "cell_type": "markdown",
   "metadata": {},
   "source": [
    "## 比對電話號碼"
   ]
  },
  {
   "cell_type": "code",
   "execution_count": 34,
   "metadata": {
    "collapsed": false
   },
   "outputs": [
    {
     "name": "stdout",
     "output_type": "stream",
     "text": [
      "['0912345678', '0923-451-192', '0912-111222', '029310319301', '0912312318231310893010']\n",
      "['0912345678', '0923-451-192', '0912-111222', '0912312318231310893010']\n",
      "['0912345678', '0923-451-192', '0912-111222', '0912312318231310893010']\n"
     ]
    }
   ],
   "source": [
    "phone = ['0912345678', '0923-451-192', '0912-111222', '029310319301', '0912312318231310893010']\n",
    "print [ ele  for ele in phone if re.match('[0-9]+', ele)] \n",
    "print [ ele  for ele in phone if re.match('09[0-9]{2}-{0,1}[0-9]{3}-{0,1}[0-9]{3}', ele)] \n",
    "print [ ele  for ele in phone if re.match('09[0-9]{2}-?[0-9]{3}-?[0-9]{3}', ele)] # {0,1} == ?\n",
    "print [ ele  for ele in phone if re.match('09\\d{2}-?\\d{3}-?\\d{3}', ele)] # [0-9] == \\d, [a-zA-Z0-9] == \\w"
   ]
  },
  {
   "cell_type": "code",
   "execution_count": 66,
   "metadata": {
    "collapsed": false
   },
   "outputs": [
    {
     "name": "stdout",
     "output_type": "stream",
     "text": [
      "0912345678\n"
     ]
    },
    {
     "ename": "AttributeError",
     "evalue": "'NoneType' object has no attribute 'group'",
     "output_type": "error",
     "traceback": [
      "\u001b[1;31m---------------------------------------------------------------------------\u001b[0m",
      "\u001b[1;31mAttributeError\u001b[0m                            Traceback (most recent call last)",
      "\u001b[1;32m<ipython-input-66-7488a6eef5de>\u001b[0m in \u001b[0;36m<module>\u001b[1;34m()\u001b[0m\n\u001b[0;32m      2\u001b[0m \u001b[1;32mfor\u001b[0m \u001b[0mele\u001b[0m \u001b[1;32min\u001b[0m \u001b[0mphone\u001b[0m\u001b[1;33m:\u001b[0m\u001b[1;33m\u001b[0m\u001b[0m\n\u001b[0;32m      3\u001b[0m     \u001b[0mm\u001b[0m \u001b[1;33m=\u001b[0m \u001b[0mre\u001b[0m\u001b[1;33m.\u001b[0m\u001b[0mmatch\u001b[0m\u001b[1;33m(\u001b[0m\u001b[1;34m'(^[0-9]+$)'\u001b[0m\u001b[1;33m,\u001b[0m \u001b[0mele\u001b[0m\u001b[1;33m)\u001b[0m\u001b[1;33m\u001b[0m\u001b[0m\n\u001b[1;32m----> 4\u001b[1;33m     \u001b[1;32mprint\u001b[0m \u001b[0mm\u001b[0m\u001b[1;33m.\u001b[0m\u001b[0mgroup\u001b[0m\u001b[1;33m(\u001b[0m\u001b[1;36m1\u001b[0m\u001b[1;33m)\u001b[0m\u001b[1;33m\u001b[0m\u001b[0m\n\u001b[0m\u001b[0;32m      5\u001b[0m \u001b[1;33m\u001b[0m\u001b[0m\n",
      "\u001b[1;31mAttributeError\u001b[0m: 'NoneType' object has no attribute 'group'"
     ]
    }
   ],
   "source": [
    "phone = ['0912345678', '0923-451-192', '0912-111222', '029310319301', '0912312318231310893010']\n",
    "for ele in phone: \n",
    "    m = re.match('(^[0-9]+$)', ele)\n",
    "    print m.group(1)\n",
    "        "
   ]
  },
  {
   "cell_type": "markdown",
   "metadata": {},
   "source": [
    "## 開頭與結尾比對"
   ]
  },
  {
   "cell_type": "code",
   "execution_count": 37,
   "metadata": {
    "collapsed": false
   },
   "outputs": [
    {
     "name": "stdout",
     "output_type": "stream",
     "text": [
      "['Jones', 'Johnson', 'Jenny']\n",
      "['Amy', 'Jenny']\n"
     ]
    }
   ],
   "source": [
    "name = ['David', 'Jones', 'Amy', 'Linda', 'Johnson', 'Jenny']\n",
    "print [ ele  for ele in name if re.match('^J\\w+', ele)] # use ^ to match any begin word\n",
    "print [ ele  for ele in name if re.match('\\w+y$', ele)] # use $ to match any end word"
   ]
  },
  {
   "cell_type": "markdown",
   "metadata": {},
   "source": [
    "## 電話比對完整版"
   ]
  },
  {
   "cell_type": "code",
   "execution_count": 38,
   "metadata": {
    "collapsed": false
   },
   "outputs": [
    {
     "name": "stdout",
     "output_type": "stream",
     "text": [
      "['0912345678', '0923-451-192', '0912-111222']\n"
     ]
    }
   ],
   "source": [
    "phone = ['0912345678', '0923-451-192', '0912-111222', '029310319301', '0912312318231310893010']\n",
    "print [ ele  for ele in phone if re.match('^09\\d{2}-?\\d{3}-?\\d{3}$', ele)]"
   ]
  },
  {
   "cell_type": "markdown",
   "metadata": {},
   "source": [
    "## 資料抽取"
   ]
  },
  {
   "cell_type": "code",
   "execution_count": 43,
   "metadata": {
    "collapsed": false
   },
   "outputs": [
    {
     "name": "stdout",
     "output_type": "stream",
     "text": [
      "qoo@cocacola.com\n",
      "qoo cocacola.com\n",
      "anonymous@111.22\n",
      "anonymous 111.22\n",
      "acool123@pchome.com.tw\n",
      "acool123 pchome.com.tw\n"
     ]
    }
   ],
   "source": [
    "email = ['qoo@cocacola.com', 'anonymous@111.22', '13u1udhfgiudhi-sldfjsdjfos', 'acool123@pchome.com.tw']\n",
    "for ele in email:\n",
    "    m = re.match('(\\w+)@(.+)', ele)  # use () to match group \n",
    "    if m:\n",
    "        #print m.group(1), m.group(2) \n",
    "        #print m.group(0) # group(0) print everything\n",
    "        username, hostname = m.group(1), m.group(2) \n",
    "        print username, hostname"
   ]
  },
  {
   "cell_type": "code",
   "execution_count": 48,
   "metadata": {
    "collapsed": false
   },
   "outputs": [
    {
     "name": "stdout",
     "output_type": "stream",
     "text": [
      "qoo cocacola.com\n",
      "anonymous 111.22\n",
      "acool123 pchome.com.tw\n"
     ]
    }
   ],
   "source": [
    "for ele in email:\n",
    "    m = re.match('(?P<username>\\w+)@(?P<hostname>.+)', ele)  # ?P<name>, can user group('name') to extract element\n",
    "    if m:\n",
    "        print m.group('username'), m.group('hostname')"
   ]
  },
  {
   "cell_type": "code",
   "execution_count": 52,
   "metadata": {
    "collapsed": false
   },
   "outputs": [
    {
     "name": "stdout",
     "output_type": "stream",
     "text": [
      "【更新】柯建銘與徐永明互槓　蘇嘉全：可能... 2926\n",
      "《財訊》霸氣郭台銘下苦工 柔軟攻克日本防... 0\n",
      "助基督教會維權　北京律師被迫上電視認罪 0\n",
      "聯結車與自小客國道相撞　2死1傷 39497\n",
      "「哇嗯係大摳呆！」　達比修澄清身上是肌肉... 0\n",
      "外資加碼台股　上調目標指數至9000點 0\n",
      "呼應轉型正義　楊偉中：國民黨捐黨產賠償受... 35\n",
      "【有片】基隆港住四十年　海面驚見牠好驚喜 1188\n",
      "鴻夏戀若成功　張盛和：有助對抗紅潮 78\n",
      "【網路溫度計】2016台灣燈會在桃園！十... 121\n",
      "卓冠廷戀洪慈庸　卓爸：媒體曝光才知道 1205\n",
      "女遭5少年輪流性侵的真相　竟是父女亂倫 2763\n",
      "她抱怨碰到麻煩事！「有個女孩超想變成我」 1053\n",
      "【民報】國際特赦組織：70年來最凜洌的人... 375\n",
      "柯P比任何人還會騙？網友神比喻超貼切 2720\n",
      "蔡英文訪電廠　白天開燈省能源？ 1467\n",
      "果然大咖！　他練投　教練下令清場！ 2011\n",
      "【法廣RFI】美軍上將： 北京可能事實掌... 1170\n",
      "綠委提3千元兒少津貼　陳威仁：民進黨執政... 1228\n",
      "【更新】美堪薩斯驚傳槍擊案　至少4死30... 12692\n",
      "國民黨主席補選4人登記　今公布通過連署人... 613\n",
      "張國煒今日持續未現身長榮總部 1119\n",
      "【法廣RFI】安理會將採取空前措施制裁朝... 492\n",
      "基隆駕訓班傳命案　女遭鐵捲門壓死 6890\n",
      "王毅盼台尊重憲政　張善政：我們的憲法沒問... 1262\n",
      "男拿小黃瓜塞洞塞口　「小三」窒息死 5575\n",
      "【法廣RFI】制裁平壤：朝鮮設施將被定期... 371\n",
      "賈納春訓慢慢練　改教田中將大如何當爸爸 728\n",
      "【國際為什麼】中國政壇年度大拜拜 1215\n",
      "【法廣RFI】20國集團財長聚滬 陸貨幣... 307\n"
     ]
    }
   ],
   "source": [
    "import requests\n",
    "from bs4 import BeautifulSoup as bs\n",
    "import re\n",
    "\n",
    "res = requests.get('http://www.appledaily.com.tw/realtimenews/section/new/')\n",
    "soup = bs(res.text)\n",
    "for entry in soup.select('.rtddt a'):\n",
    "    m = re.match('(?P<title>.*)\\((?P<popularity>\\d+)\\)',entry.select('h1')[0].text)\n",
    "    print m.group('title'), m.group('popularity')\n"
   ]
  },
  {
   "cell_type": "code",
   "execution_count": 57,
   "metadata": {
    "collapsed": true
   },
   "outputs": [],
   "source": [
    "import requests\n",
    "from bs4 import BeautifulSoup as bs\n",
    "import re\n",
    "import pandas as pd\n",
    "res = requests.get('http://www.appledaily.com.tw/realtimenews/section/new/')\n",
    "soup = bs(res.text)\n",
    "news_list = []\n",
    "for entry in soup.select('.rtddt a'):\n",
    "    m = re.match('(?P<title>.*)\\((?P<popularity>\\d+)\\)',entry.select('h1')[0].text)\n",
    "    news_list.append( {'title':m.group('title'), 'popularity':int(m.group('popularity'))})"
   ]
  },
  {
   "cell_type": "code",
   "execution_count": 63,
   "metadata": {
    "collapsed": false
   },
   "outputs": [
    {
     "name": "stderr",
     "output_type": "stream",
     "text": [
      "C:\\Users\\BIG DATA\\Anaconda2\\lib\\site-packages\\ipykernel\\__main__.py:3: FutureWarning: sort(columns=....) is deprecated, use sort_values(by=.....)\n",
      "  app.launch_new_instance()\n"
     ]
    },
    {
     "data": {
      "text/html": [
       "<div>\n",
       "<table border=\"1\" class=\"dataframe\">\n",
       "  <thead>\n",
       "    <tr style=\"text-align: right;\">\n",
       "      <th></th>\n",
       "      <th>popularity</th>\n",
       "      <th>title</th>\n",
       "    </tr>\n",
       "  </thead>\n",
       "  <tbody>\n",
       "    <tr>\n",
       "      <th>2</th>\n",
       "      <td>119679</td>\n",
       "      <td>蔡依林翻糖神乎奇技　細膩直逼3D列印</td>\n",
       "    </tr>\n",
       "    <tr>\n",
       "      <th>1</th>\n",
       "      <td>77436</td>\n",
       "      <td>是真愛啊！49歲港姐尋回初戀　攜兒3嫁</td>\n",
       "    </tr>\n",
       "    <tr>\n",
       "      <th>29</th>\n",
       "      <td>58355</td>\n",
       "      <td>潘慧如入住恐怖民宿　跳蚤陪睡蓋尿被</td>\n",
       "    </tr>\n",
       "    <tr>\n",
       "      <th>3</th>\n",
       "      <td>42899</td>\n",
       "      <td>【圖解新聞】這些人一輩子沒胖過</td>\n",
       "    </tr>\n",
       "    <tr>\n",
       "      <th>12</th>\n",
       "      <td>26888</td>\n",
       "      <td>在美國工作比較好？　矽谷工程師惆悵回顧</td>\n",
       "    </tr>\n",
       "  </tbody>\n",
       "</table>\n",
       "</div>"
      ],
      "text/plain": [
       "    popularity                title\n",
       "2       119679   蔡依林翻糖神乎奇技　細膩直逼3D列印\n",
       "1        77436  是真愛啊！49歲港姐尋回初戀　攜兒3嫁\n",
       "29       58355    潘慧如入住恐怖民宿　跳蚤陪睡蓋尿被\n",
       "3        42899      【圖解新聞】這些人一輩子沒胖過\n",
       "12       26888  在美國工作比較好？　矽谷工程師惆悵回顧"
      ]
     },
     "execution_count": 63,
     "metadata": {},
     "output_type": "execute_result"
    }
   ],
   "source": [
    "df  = pd.DataFrame(news_list)\n",
    "df.head(10)\n",
    "df.sort(['popularity'], ascending=False).head()"
   ]
  },
  {
   "cell_type": "code",
   "execution_count": 82,
   "metadata": {
    "collapsed": false
   },
   "outputs": [
    {
     "name": "stdout",
     "output_type": "stream",
     "text": [
      "1\n",
      "2\n",
      "3\n",
      "4\n",
      "5\n",
      "6\n",
      "7\n",
      "8\n",
      "9\n",
      "10\n",
      "11\n",
      "12\n",
      "13\n",
      "14\n",
      "15\n",
      "16\n",
      "17\n",
      "18\n",
      "19\n",
      "20\n",
      "21\n",
      "22\n",
      "23\n",
      "24\n",
      "25\n",
      "26\n",
      "27\n",
      "28\n",
      "29\n",
      "30\n"
     ]
    }
   ],
   "source": [
    "import requests\n",
    "from bs4 import BeautifulSoup as bs\n",
    "import re\n",
    "import pandas as pd\n",
    "news_list = []\n",
    "for page in xrange(1,31):\n",
    "    res = requests.get('http://www.appledaily.com.tw/realtimenews/section/new/' + str(page))\n",
    "    print page\n",
    "    soup = bs(res.text)\n",
    "    for entry in soup.select('.rtddt a'):\n",
    "        #print entry.select('h2')[0].text\n",
    "        m = re.match('(?P<title>.*)\\((?P<popularity>\\d+)\\)',entry.select('h1')[0].text)\n",
    "        category = entry.select('h2')[0].text\n",
    "        news_list.append( {'title':m.group('title'), 'popularity':int(m.group('popularity')), 'category':category})"
   ]
  },
  {
   "cell_type": "code",
   "execution_count": 83,
   "metadata": {
    "collapsed": false
   },
   "outputs": [
    {
     "name": "stderr",
     "output_type": "stream",
     "text": [
      "C:\\Users\\BIG DATA\\Anaconda2\\lib\\site-packages\\ipykernel\\__main__.py:5: FutureWarning: sort(columns=....) is deprecated, use sort_values(by=.....)\n"
     ]
    },
    {
     "data": {
      "text/html": [
       "<div>\n",
       "<table border=\"1\" class=\"dataframe\">\n",
       "  <thead>\n",
       "    <tr style=\"text-align: right;\">\n",
       "      <th></th>\n",
       "      <th>category</th>\n",
       "      <th>popularity</th>\n",
       "      <th>title</th>\n",
       "    </tr>\n",
       "  </thead>\n",
       "  <tbody>\n",
       "    <tr>\n",
       "      <th>474</th>\n",
       "      <td>社會</td>\n",
       "      <td>278848</td>\n",
       "      <td>【影片曝光】北市補丁馬路害命　騎士突摔遭...</td>\n",
       "    </tr>\n",
       "    <tr>\n",
       "      <th>437</th>\n",
       "      <td>社會</td>\n",
       "      <td>275283</td>\n",
       "      <td>【獨家】扯爆！　國中女竟為WiFi賣身</td>\n",
       "    </tr>\n",
       "    <tr>\n",
       "      <th>796</th>\n",
       "      <td>政治</td>\n",
       "      <td>272844</td>\n",
       "      <td>20世紀前9大殺人魔王　第4名在台灣</td>\n",
       "    </tr>\n",
       "    <tr>\n",
       "      <th>797</th>\n",
       "      <td>社會</td>\n",
       "      <td>269405</td>\n",
       "      <td>【更新】燈會上演皮影活春宮　女主角正面曝...</td>\n",
       "    </tr>\n",
       "    <tr>\n",
       "      <th>380</th>\n",
       "      <td>社會</td>\n",
       "      <td>243288</td>\n",
       "      <td>【更新】12歲女童染性病　案情竟然超展開</td>\n",
       "    </tr>\n",
       "  </tbody>\n",
       "</table>\n",
       "</div>"
      ],
      "text/plain": [
       "    category  popularity                    title\n",
       "474       社會      278848  【影片曝光】北市補丁馬路害命　騎士突摔遭...\n",
       "437       社會      275283      【獨家】扯爆！　國中女竟為WiFi賣身\n",
       "796       政治      272844       20世紀前9大殺人魔王　第4名在台灣\n",
       "797       社會      269405  【更新】燈會上演皮影活春宮　女主角正面曝...\n",
       "380       社會      243288     【更新】12歲女童染性病　案情竟然超展開"
      ]
     },
     "execution_count": 83,
     "metadata": {},
     "output_type": "execute_result"
    }
   ],
   "source": [
    "df  = pd.DataFrame(news_list)\n",
    "df.head()\n",
    "df.head(10)\n",
    "#df.head()\n",
    "df.sort(['popularity'], ascending=False).head()"
   ]
  },
  {
   "cell_type": "code",
   "execution_count": 87,
   "metadata": {
    "collapsed": false
   },
   "outputs": [
    {
     "name": "stdout",
     "output_type": "stream",
     "text": [
      "category\n",
      "國際    1315696\n",
      "財經    1230035\n",
      "生活    1420942\n",
      "政治    1531724\n",
      "體育     323974\n",
      "娛樂    1693363\n",
      "搜奇     788211\n",
      "社會    3214383\n",
      "時尚     209438\n",
      "地產      64372\n",
      "論壇     140545\n",
      "3C     137069\n",
      "動物      88052\n",
      "正妹      36263\n",
      "Name: popularity, dtype: int64 category\n",
      "國際    201\n",
      "財經    132\n",
      "生活    128\n",
      "政治     81\n",
      "體育     48\n",
      "娛樂     56\n",
      "搜奇     38\n",
      "社會    101\n",
      "時尚     18\n",
      "地產     18\n",
      "論壇     39\n",
      "3C     22\n",
      "動物     16\n",
      "正妹      2\n",
      "Name: popularity, dtype: int64\n"
     ]
    }
   ],
   "source": [
    "df1 = df.groupby(['category'], sort=False)['popularity'].sum()\n",
    "df2 = df.groupby(['category'], sort=False)['popularity'].count()\n",
    "print df1, df2"
   ]
  },
  {
   "cell_type": "code",
   "execution_count": 85,
   "metadata": {
    "collapsed": false
   },
   "outputs": [
    {
     "data": {
      "text/html": [
       "<div>\n",
       "<table border=\"1\" class=\"dataframe\">\n",
       "  <thead>\n",
       "    <tr style=\"text-align: right;\">\n",
       "      <th></th>\n",
       "      <th>category</th>\n",
       "      <th>popularity</th>\n",
       "      <th>title</th>\n",
       "    </tr>\n",
       "  </thead>\n",
       "  <tbody>\n",
       "    <tr>\n",
       "      <th>108</th>\n",
       "      <td>3C</td>\n",
       "      <td>93879</td>\n",
       "      <td>台灣臉書更新　「表情符號」今天正式上線</td>\n",
       "    </tr>\n",
       "    <tr>\n",
       "      <th>188</th>\n",
       "      <td>論壇</td>\n",
       "      <td>16892</td>\n",
       "      <td>呂秋遠：我們對超商店員的期待</td>\n",
       "    </tr>\n",
       "    <tr>\n",
       "      <th>283</th>\n",
       "      <td>體育</td>\n",
       "      <td>36186</td>\n",
       "      <td>《蘋果Live》17比4　Lamigo ...</td>\n",
       "    </tr>\n",
       "    <tr>\n",
       "      <th>298</th>\n",
       "      <td>正妹</td>\n",
       "      <td>24487</td>\n",
       "      <td>不美幹嘛脫　陳埃及主張女性身體解放自主</td>\n",
       "    </tr>\n",
       "    <tr>\n",
       "      <th>362</th>\n",
       "      <td>娛樂</td>\n",
       "      <td>135272</td>\n",
       "      <td>【更新】小小瑜想淡出演藝圈　真相竟是.....</td>\n",
       "    </tr>\n",
       "    <tr>\n",
       "      <th>373</th>\n",
       "      <td>財經</td>\n",
       "      <td>142076</td>\n",
       "      <td>鴻海推遲簽約原因　夏普忘了說恐欠債350...</td>\n",
       "    </tr>\n",
       "    <tr>\n",
       "      <th>458</th>\n",
       "      <td>動物</td>\n",
       "      <td>38222</td>\n",
       "      <td>【影片】一息尚存癱狗　險被丟垃圾車絞死</td>\n",
       "    </tr>\n",
       "    <tr>\n",
       "      <th>474</th>\n",
       "      <td>社會</td>\n",
       "      <td>278848</td>\n",
       "      <td>【影片曝光】北市補丁馬路害命　騎士突摔遭...</td>\n",
       "    </tr>\n",
       "    <tr>\n",
       "      <th>596</th>\n",
       "      <td>國際</td>\n",
       "      <td>72310</td>\n",
       "      <td>上班族流行「裸辭」　這六點必看</td>\n",
       "    </tr>\n",
       "    <tr>\n",
       "      <th>675</th>\n",
       "      <td>地產</td>\n",
       "      <td>7856</td>\n",
       "      <td>傻眼！　北市松山區老屋是新屋48倍</td>\n",
       "    </tr>\n",
       "    <tr>\n",
       "      <th>678</th>\n",
       "      <td>生活</td>\n",
       "      <td>105542</td>\n",
       "      <td>駕照道路路考3月上路　記者團實測全軍覆沒</td>\n",
       "    </tr>\n",
       "    <tr>\n",
       "      <th>759</th>\n",
       "      <td>時尚</td>\n",
       "      <td>101224</td>\n",
       "      <td>小S登米蘭大秀　他認為是在模仿「這個人」</td>\n",
       "    </tr>\n",
       "    <tr>\n",
       "      <th>796</th>\n",
       "      <td>政治</td>\n",
       "      <td>272844</td>\n",
       "      <td>20世紀前9大殺人魔王　第4名在台灣</td>\n",
       "    </tr>\n",
       "    <tr>\n",
       "      <th>803</th>\n",
       "      <td>搜奇</td>\n",
       "      <td>224661</td>\n",
       "      <td>他用這招對付詐騙集團　把對方逼瘋了</td>\n",
       "    </tr>\n",
       "  </tbody>\n",
       "</table>\n",
       "</div>"
      ],
      "text/plain": [
       "    category  popularity                    title\n",
       "108       3C       93879      台灣臉書更新　「表情符號」今天正式上線\n",
       "188       論壇       16892           呂秋遠：我們對超商店員的期待\n",
       "283       體育       36186  《蘋果Live》17比4　Lamigo ...\n",
       "298       正妹       24487      不美幹嘛脫　陳埃及主張女性身體解放自主\n",
       "362       娛樂      135272  【更新】小小瑜想淡出演藝圈　真相竟是.....\n",
       "373       財經      142076  鴻海推遲簽約原因　夏普忘了說恐欠債350...\n",
       "458       動物       38222      【影片】一息尚存癱狗　險被丟垃圾車絞死\n",
       "474       社會      278848  【影片曝光】北市補丁馬路害命　騎士突摔遭...\n",
       "596       國際       72310          上班族流行「裸辭」　這六點必看\n",
       "675       地產        7856        傻眼！　北市松山區老屋是新屋48倍\n",
       "678       生活      105542     駕照道路路考3月上路　記者團實測全軍覆沒\n",
       "759       時尚      101224     小S登米蘭大秀　他認為是在模仿「這個人」\n",
       "796       政治      272844       20世紀前9大殺人魔王　第4名在台灣\n",
       "803       搜奇      224661        他用這招對付詐騙集團　把對方逼瘋了"
      ]
     },
     "execution_count": 85,
     "metadata": {},
     "output_type": "execute_result"
    }
   ],
   "source": [
    "idx = df.groupby(['category'])['popularity'].transform(max) == df['popularity']\n",
    "#print idx\n",
    "df[idx]\n"
   ]
  },
  {
   "cell_type": "code",
   "execution_count": null,
   "metadata": {
    "collapsed": true
   },
   "outputs": [],
   "source": [
    "import jieba\n",
    "dic = {}\n",
    "for entry in jd['data']:\n",
    "    for ele in jieba.cut(entry['message']):\n",
    "        if not ele in dic:\n",
    "            dic[ele] = 1\n",
    "        else:\n",
    "            dic[ele] = dic[ele] + 1"
   ]
  },
  {
   "cell_type": "code",
   "execution_count": 21,
   "metadata": {
    "collapsed": false
   },
   "outputs": [],
   "source": [
    "import requests\n",
    "import json\n",
    "import jieba\n",
    "dic = {}\n",
    "jieba.add_word('民進黨')\n",
    "jieba.add_word('蔡英文')\n",
    "def update_dic(jd, dic):\n",
    "    for entry in jd['data']:\n",
    "        if 'message' in entry:\n",
    "            for ele in jieba.cut(entry['message']):\n",
    "                if not ele in dic:\n",
    "                    dic[ele] = 1\n",
    "                else:\n",
    "                    dic[ele] = dic[ele] + 1\n",
    "\n",
    "ACCESS_TOKEN = 'CAACEdEose0cBABgVGZByIZBUrpooyhZC4ZABFgjmDHZAXX3S0p3P53PpXcfhsDhKStQfs3MS8eBmPGZB42a5MF2pSOUE1Rjz0P4RZAtVoOkdaXwWhm7KN4tdrbIBMxUf7tXTrqRq53WXqquuZC8dp1sg8D0tx3k9HhM01b1XuYmlnVXTU4FFgpia1jWIFUIdZBQpUtmAHlVrw7z85iRKSL2gf'\n",
    "res = requests.get('https://graph.facebook.com/v2.5/tsaiingwen/posts?access_token={}&limit=100&since=1420070400'.format(ACCESS_TOKEN))\n",
    "jd = json.loads(res.text)\n",
    "\n",
    "update_dic(jd, dic)\n",
    "\n",
    "while 'paging' in jd and jd['paging']['next']:\n",
    "    res = requests.get(jd['paging']['next'])\n",
    "    jd = json.loads(res.text)\n",
    "    update_dic(jd, dic)\n",
    "    "
   ]
  },
  {
   "cell_type": "code",
   "execution_count": 23,
   "metadata": {
    "collapsed": true
   },
   "outputs": [],
   "source": [
    "from operator import itemgetter\n",
    "import re\n",
    "swd = sorted(dic.items(), key = itemgetter(1), reverse=True)\n",
    "for ele in swd:\n",
    "    if re.match(u'[\\u4e00-\\u9fa5]+', ele[0]) and len(ele[0]) >=2:\n",
    "        pass\n",
    "        #print ele[0], ele[1]\n"
   ]
  },
  {
   "cell_type": "markdown",
   "metadata": {},
   "source": [
    "## 統整程式碼"
   ]
  },
  {
   "cell_type": "code",
   "execution_count": 24,
   "metadata": {
    "collapsed": true
   },
   "outputs": [],
   "source": [
    "# -*- coding: utf-8 -*- \n",
    "from bs4 import BeautifulSoup \n",
    "from datetime import datetime \n",
    "import os, sys, re"
   ]
  },
  {
   "cell_type": "code",
   "execution_count": 33,
   "metadata": {
    "collapsed": true
   },
   "outputs": [],
   "source": [
    "def get_response_element (file_name): \n",
    "    f = open(file_name, 'r') \n",
    "    response_text = f.read() \n",
    "    f.close() \n",
    "    soup = BeautifulSoup(response_text)     \n",
    "    tender_table = soup.select('.table_block.tender_table')[0]\n",
    "    tr = tender_table.select('tr') \n",
    "    return tr"
   ]
  },
  {
   "cell_type": "code",
   "execution_count": 36,
   "metadata": {
    "collapsed": false
   },
   "outputs": [],
   "source": [
    "#print get_response_element('gov/51687663_1040705.txt')"
   ]
  },
  {
   "cell_type": "code",
   "execution_count": 37,
   "metadata": {
    "collapsed": true
   },
   "outputs": [],
   "source": [
    "def date_conversion(element):\n",
    "        m = re.match(r\"(\\d+/\\d+/\\d+)\",element)\n",
    "        if m is not None:\n",
    "                t = m.group(1).split('/', 1)\n",
    "                if t[0] != '':\n",
    "                        return datetime.strptime(str(int(t[0]) + 1911) + \"/\" + (''.join(t[1:]).split()[0] ), \"%Y/%m/%d\")\n",
    "        else:\n",
    "                return None"
   ]
  },
  {
   "cell_type": "code",
   "execution_count": 40,
   "metadata": {
    "collapsed": false
   },
   "outputs": [
    {
     "data": {
      "text/plain": [
       "datetime.datetime(2013, 2, 3, 0, 0)"
      ]
     },
     "execution_count": 40,
     "metadata": {},
     "output_type": "execute_result"
    }
   ],
   "source": [
    "date_conversion('102/02/03')"
   ]
  },
  {
   "cell_type": "code",
   "execution_count": 38,
   "metadata": {
    "collapsed": true
   },
   "outputs": [],
   "source": [
    "def money_conversion(element): \n",
    "    m = re.match( r\"\\$?([0-9,]+)\", \"\".join(element.split())) \n",
    "    return int(''.join(m.group(0).split(',')))"
   ]
  },
  {
   "cell_type": "code",
   "execution_count": 39,
   "metadata": {
    "collapsed": false
   },
   "outputs": [
    {
     "data": {
      "text/plain": [
       "123111"
      ]
     },
     "execution_count": 39,
     "metadata": {},
     "output_type": "execute_result"
    }
   ],
   "source": [
    "money_conversion('123,111元')"
   ]
  },
  {
   "cell_type": "code",
   "execution_count": 41,
   "metadata": {
    "collapsed": true
   },
   "outputs": [],
   "source": [
    "def remove_space(element): \n",
    "    return \"\".join(element.split())"
   ]
  },
  {
   "cell_type": "code",
   "execution_count": 42,
   "metadata": {
    "collapsed": false
   },
   "outputs": [
    {
     "data": {
      "text/plain": [
       "'adfddddddddddddddddd'"
      ]
     },
     "execution_count": 42,
     "metadata": {},
     "output_type": "execute_result"
    }
   ],
   "source": [
    "remove_space('adf                ddddddddddddddddd')"
   ]
  },
  {
   "cell_type": "code",
   "execution_count": 54,
   "metadata": {
    "collapsed": true
   },
   "outputs": [],
   "source": [
    "name_map = {\"機關代碼\":\"entity_code\", \"機關名稱\":\"procuring_entity\",\"標案案號\":\"job_number\",\"招標方式\":\"procurement_type\",\\\n",
    "    \"決標方式\":\"tender_awarding_type\",\"標案名稱\":\"subject_of_procurement\", \"決標資料類別\":\"attr_of_tender_awarding\", \\\n",
    "    \"標的分類\":\"attr_of_procurement\", \"預算金額\":\"budget_value\", \"開標時間\":\"opening_date\",\"決標公告日期\":\"tender_awarding_announce_date\",\\\n",
    "    \"歸屬計畫類別\":\"project_type\",\"總決標金額\":\"total_tender_awarding_value\",\"底價金額\":\"floor_price_value\",\"決標日期\":\"tender_awarding_date\", \"pkAtmMain\":\"pkAtmMain\"}\n",
    "\n",
    "tender_awards_map = {\"機關代碼\":remove_space, \"機關名稱\":remove_space, \"標案案號\":remove_space, \\\n",
    "    \"招標方式\":remove_space,\"決標方式\":remove_space,\"標案名稱\":remove_space, \"決標資料類別\":remove_space, \\\n",
    "    \"標的分類\":remove_space, \"預算金額\":money_conversion, \"開標時間\":date_conversion,\"歸屬計畫類別\":remove_space, \\\n",
    "    \"總決標金額\":money_conversion,\"底價金額\":money_conversion,\"決標日期\":date_conversion, \"決標公告日期\":date_conversion}\n"
   ]
  },
  {
   "cell_type": "code",
   "execution_count": 43,
   "metadata": {
    "collapsed": false
   },
   "outputs": [
    {
     "data": {
      "text/plain": [
       "'djdddddddddddddd'"
      ]
     },
     "execution_count": 43,
     "metadata": {},
     "output_type": "execute_result"
    }
   ],
   "source": [
    "dic = {'a':remove_space , 'b':money_conversion}\n",
    "dic['a'](' djdd             dddddd             dddddd') # remove_space(' djdd             dddddd             dddddd')"
   ]
  },
  {
   "cell_type": "code",
   "execution_count": 59,
   "metadata": {
    "collapsed": true
   },
   "outputs": [],
   "source": [
    "def get_award_info_dic(element):\n",
    "    returned_dic = {}\n",
    "    for row in element:\n",
    "        th = row.select('th')\n",
    "        if len(th) > 0:\n",
    "            th_name = th[0].text.encode('utf-8').strip()\n",
    "            if (th_name in  tender_awards_map):\n",
    "                returned_dic[name_map[th_name]]   =   tender_awards_map[th_name](row.select('td')[0].text.strip())\n",
    "    return returned_dic"
   ]
  },
  {
   "cell_type": "code",
   "execution_count": 60,
   "metadata": {
    "collapsed": false
   },
   "outputs": [
    {
     "data": {
      "text/plain": [
       "{'attr_of_procurement': u'<\\u52de\\u52d9\\u985e>93\\u5065\\u5eb7\\u53ca\\u793e\\u6703\\u670d\\u52d9',\n",
       " 'attr_of_tender_awarding': u'\\u5b9a\\u671f\\u5f59\\u9001',\n",
       " 'budget_value': 237600,\n",
       " 'entity_code': u'A.21.100.46',\n",
       " 'floor_price_value': 237600,\n",
       " 'job_number': u'1040705',\n",
       " 'opening_date': datetime.datetime(2015, 11, 4, 0, 0),\n",
       " 'procurement_type': u'\\u516c\\u958b\\u53d6\\u5f97\\u5831\\u50f9\\u55ae\\u6216\\u4f01\\u5283\\u66f8',\n",
       " 'procuring_entity': u'\\u885b\\u751f\\u798f\\u5229\\u90e8\\u81fa\\u6771\\u91ab\\u9662',\n",
       " 'project_type': u'\\u975e\\u5c6c\\u611b\\u53f0\\u5341\\u4e8c\\u9805\\u8a08\\u756b',\n",
       " 'subject_of_procurement': u'\\u91ab\\u7642\\u696d\\u52d9\\u652f\\u63f4\\u6848',\n",
       " 'tender_awarding_announce_date': datetime.datetime(2015, 11, 12, 0, 0),\n",
       " 'tender_awarding_date': datetime.datetime(2015, 11, 4, 0, 0),\n",
       " 'tender_awarding_type': u'\\u6700\\u4f4e\\u6a19',\n",
       " 'total_tender_awarding_value': 237600}"
      ]
     },
     "execution_count": 60,
     "metadata": {},
     "output_type": "execute_result"
    }
   ],
   "source": [
    "ele = get_response_element('gov/51687663_1040705.txt')\n",
    "get_award_info_dic(ele)"
   ]
  },
  {
   "cell_type": "code",
   "execution_count": 61,
   "metadata": {
    "collapsed": false
   },
   "outputs": [
    {
     "name": "stdout",
     "output_type": "stream",
     "text": [
      "opening_date 2015-11-04 00:00:00\n",
      "total_tender_awarding_value 237600\n",
      "tender_awarding_date 2015-11-04 00:00:00\n",
      "entity_code A.21.100.46\n",
      "procurement_type 公開取得報價單或企劃書\n",
      "procuring_entity 衛生福利部臺東醫院\n",
      "attr_of_procurement <勞務類>93健康及社會服務\n",
      "tender_awarding_announce_date 2015-11-12 00:00:00\n",
      "subject_of_procurement 醫療業務支援案\n",
      "project_type 非屬愛台十二項計畫\n",
      "attr_of_tender_awarding 定期彙送\n",
      "budget_value 237600\n",
      "floor_price_value 237600\n",
      "job_number 1040705\n",
      "tender_awarding_type 最低標\n"
     ]
    }
   ],
   "source": [
    "element = get_response_element('gov/51687663_1040705.txt')\n",
    "dic = get_award_info_dic(element)\n",
    "for ele in dic:\n",
    "    print ele, dic[ele]"
   ]
  },
  {
   "cell_type": "code",
   "execution_count": null,
   "metadata": {
    "collapsed": true
   },
   "outputs": [],
   "source": []
  }
 ],
 "metadata": {
  "kernelspec": {
   "display_name": "Python 2",
   "language": "python",
   "name": "python2"
  },
  "language_info": {
   "codemirror_mode": {
    "name": "ipython",
    "version": 2
   },
   "file_extension": ".py",
   "mimetype": "text/x-python",
   "name": "python",
   "nbconvert_exporter": "python",
   "pygments_lexer": "ipython2",
   "version": "2.7.11"
  }
 },
 "nbformat": 4,
 "nbformat_minor": 0
}
