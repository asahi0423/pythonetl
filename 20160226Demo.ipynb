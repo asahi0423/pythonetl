{
 "cells": [
  {
   "cell_type": "code",
   "execution_count": 1,
   "metadata": {
    "collapsed": false
   },
   "outputs": [
    {
     "name": "stdout",
     "output_type": "stream",
     "text": [
      "True\n"
     ]
    }
   ],
   "source": [
    "a = 'apple'\n",
    "print a == 'apple'"
   ]
  },
  {
   "cell_type": "code",
   "execution_count": null,
   "metadata": {
    "collapsed": true
   },
   "outputs": [],
   "source": [
    "a = \"Hi my name is David, and my phone number is 0912345678\"\n",
    "b = \"Hi my name is Mary, and my age is 28\""
   ]
  },
  {
   "cell_type": "code",
   "execution_count": 3,
   "metadata": {
    "collapsed": false
   },
   "outputs": [
    {
     "name": "stdout",
     "output_type": "stream",
     "text": [
      "0912345678\n",
      "0923-451-192\n",
      "0912-111222\n"
     ]
    }
   ],
   "source": [
    "a = ['0912345678', '0923-451-192', '0912-111222', '029310319301', '0912312318231310893010']\n",
    "\n",
    "import re\n",
    "for ele in a:\n",
    "    m = re.match('^\\d{4}-?\\d{3}-?\\d{3}$', ele)\n",
    "    if m:\n",
    "        print ele"
   ]
  },
  {
   "cell_type": "markdown",
   "metadata": {},
   "source": [
    "## 比對單一英文字母"
   ]
  },
  {
   "cell_type": "code",
   "execution_count": 5,
   "metadata": {
    "collapsed": false
   },
   "outputs": [
    {
     "name": "stdout",
     "output_type": "stream",
     "text": [
      "<_sre.SRE_Match object at 0x0000000003A3AB28>\n",
      "None\n"
     ]
    }
   ],
   "source": [
    "word = 'a'\n",
    "m = re.match('a', word) # match word\n",
    "print m\n",
    "m = re.match('b', word) # match none\n",
    "print m"
   ]
  },
  {
   "cell_type": "code",
   "execution_count": 6,
   "metadata": {
    "collapsed": false
   },
   "outputs": [
    {
     "name": "stdout",
     "output_type": "stream",
     "text": [
      "<_sre.SRE_Match object at 0x0000000003A3AB28>\n"
     ]
    }
   ],
   "source": [
    "word = 'z'\n",
    "m = re.match('[acz]', word) # match word a or c or z, word in [] is in OR relation\n",
    "print m"
   ]
  },
  {
   "cell_type": "code",
   "execution_count": 21,
   "metadata": {
    "collapsed": false
   },
   "outputs": [
    {
     "name": "stdout",
     "output_type": "stream",
     "text": [
      "<_sre.SRE_Match object at 0x0000000003ABB7E8>\n",
      "<_sre.SRE_Match object at 0x0000000003ABB718>\n",
      "None\n",
      "<_sre.SRE_Match object at 0x0000000003ABB718>\n",
      "<_sre.SRE_Match object at 0x0000000003ABB7E8>\n"
     ]
    }
   ],
   "source": [
    "word = 'z'\n",
    "m = re.match('[abcdefghijklmnopqrstuvwxyz]', word)\n",
    "print m\n",
    "m = re.match('[a-z]', word) # [a-z] == [abcdefghijklmnopqrstuvwxyz]\n",
    "print m\n",
    "word = 'Z'\n",
    "m = re.match('[a-z]', word) # [a-z] == [abcdefghijklmnopqrstuvwxyz]\n",
    "print m\n",
    "m = re.match('[A-Z]', word) # [A-Z]\n",
    "print m\n",
    "m = re.match('[a-zA-Z]', word) # [A-Z]\n",
    "print m"
   ]
  },
  {
   "cell_type": "markdown",
   "metadata": {},
   "source": [
    "## 比對單一數字"
   ]
  },
  {
   "cell_type": "code",
   "execution_count": 14,
   "metadata": {
    "collapsed": false
   },
   "outputs": [
    {
     "name": "stdout",
     "output_type": "stream",
     "text": [
      "8\n",
      "8\n",
      "8\n"
     ]
    }
   ],
   "source": [
    "n= '8'\n",
    "print n if re.match('8', n) else None # match 8 \n",
    "print n if re.match('[0123456789]', n) else None # match either numeric\n",
    "print n if re.match('[0-9]', n) else None # match either numeric"
   ]
  },
  {
   "cell_type": "markdown",
   "metadata": {},
   "source": [
    "## 比對多個文字 (固定長度)"
   ]
  },
  {
   "cell_type": "code",
   "execution_count": 23,
   "metadata": {
    "collapsed": false
   },
   "outputs": [
    {
     "name": "stdout",
     "output_type": "stream",
     "text": [
      "['1122-AB', '2222-QQ', '3333-QG', '3A4B-1L', '12345-AAA']\n",
      "['1122-AB', '2222-QQ', '3333-QG']\n",
      "['1122-AB', '2222-QQ', '3333-QG', '12345-AAA']\n"
     ]
    }
   ],
   "source": [
    "carid = ['1122-AB', '2222-QQ', '3333-QG', 'A92B-12', '3A4B-1L', '12345-AAA'] # the first three are true carid\n",
    "print [ ele  for ele in carid if re.match('[0-9]', ele)] # anything that has a numeric as initial word \n",
    "print [ ele  for ele in carid if re.match('[0-9]{4}-[A-Z]{2}', ele)] # anything that matches to NNNN-AA\n",
    "print [ ele  for ele in carid if re.match('[0-9]{4,5}-[A-Z]{2,3}', ele)] # anything that matches to NNNN-AA"
   ]
  },
  {
   "cell_type": "markdown",
   "metadata": {},
   "source": [
    "## 比對多個文字 (不固定長度 e.g. EMAIL)"
   ]
  },
  {
   "cell_type": "code",
   "execution_count": 29,
   "metadata": {
    "collapsed": false
   },
   "outputs": [
    {
     "name": "stdout",
     "output_type": "stream",
     "text": [
      "['qoo@cocacola.com']\n",
      "['qoo@cocacola.com']\n",
      "['qoo@cocacola.com', 'acool123@pchome.com.tw']\n",
      "['qoo@cocacola.com', 'anonymous@111.22', 'acool123@pchome.com.tw']\n"
     ]
    }
   ],
   "source": [
    "email = ['qoo@cocacola.com', 'anonymous@111.22', '13u1udhfgiudhi-sldfjsdjfos', 'acool123@pchome.com.tw']\n",
    "print [ ele  for ele in email if re.match('[a-zA-Z]{1,}@[a-z]{0,}\\.com', ele)] # anything that matchs *@*.com\n",
    "print [ ele  for ele in email if re.match('[a-zA-Z]+@[a-z]*\\.com', ele)] # {1,} == +,  {0,} == *\n",
    "print [ ele  for ele in email if re.match('[a-zA-Z0-9]+@[a-zA-Z.]+', ele)] \n",
    "print [ ele  for ele in email if re.match('\\w+@.+', ele)]  # [a-zA-Z0-9] == \\w, anything == ."
   ]
  },
  {
   "cell_type": "markdown",
   "metadata": {},
   "source": [
    "## 比對電話號碼"
   ]
  },
  {
   "cell_type": "code",
   "execution_count": 34,
   "metadata": {
    "collapsed": false
   },
   "outputs": [
    {
     "name": "stdout",
     "output_type": "stream",
     "text": [
      "['0912345678', '0923-451-192', '0912-111222', '029310319301', '0912312318231310893010']\n",
      "['0912345678', '0923-451-192', '0912-111222', '0912312318231310893010']\n",
      "['0912345678', '0923-451-192', '0912-111222', '0912312318231310893010']\n"
     ]
    }
   ],
   "source": [
    "phone = ['0912345678', '0923-451-192', '0912-111222', '029310319301', '0912312318231310893010']\n",
    "print [ ele  for ele in phone if re.match('[0-9]+', ele)] \n",
    "print [ ele  for ele in phone if re.match('09[0-9]{2}-{0,1}[0-9]{3}-{0,1}[0-9]{3}', ele)] \n",
    "print [ ele  for ele in phone if re.match('09[0-9]{2}-?[0-9]{3}-?[0-9]{3}', ele)] # {0,1} == ?\n",
    "print [ ele  for ele in phone if re.match('09\\d{2}-?\\d{3}-?\\d{3}', ele)] # [0-9] == \\d, [a-zA-Z0-9] == \\w"
   ]
  },
  {
   "cell_type": "code",
   "execution_count": 66,
   "metadata": {
    "collapsed": false
   },
   "outputs": [
    {
     "name": "stdout",
     "output_type": "stream",
     "text": [
      "0912345678\n"
     ]
    },
    {
     "ename": "AttributeError",
     "evalue": "'NoneType' object has no attribute 'group'",
     "output_type": "error",
     "traceback": [
      "\u001b[1;31m---------------------------------------------------------------------------\u001b[0m",
      "\u001b[1;31mAttributeError\u001b[0m                            Traceback (most recent call last)",
      "\u001b[1;32m<ipython-input-66-7488a6eef5de>\u001b[0m in \u001b[0;36m<module>\u001b[1;34m()\u001b[0m\n\u001b[0;32m      2\u001b[0m \u001b[1;32mfor\u001b[0m \u001b[0mele\u001b[0m \u001b[1;32min\u001b[0m \u001b[0mphone\u001b[0m\u001b[1;33m:\u001b[0m\u001b[1;33m\u001b[0m\u001b[0m\n\u001b[0;32m      3\u001b[0m     \u001b[0mm\u001b[0m \u001b[1;33m=\u001b[0m \u001b[0mre\u001b[0m\u001b[1;33m.\u001b[0m\u001b[0mmatch\u001b[0m\u001b[1;33m(\u001b[0m\u001b[1;34m'(^[0-9]+$)'\u001b[0m\u001b[1;33m,\u001b[0m \u001b[0mele\u001b[0m\u001b[1;33m)\u001b[0m\u001b[1;33m\u001b[0m\u001b[0m\n\u001b[1;32m----> 4\u001b[1;33m     \u001b[1;32mprint\u001b[0m \u001b[0mm\u001b[0m\u001b[1;33m.\u001b[0m\u001b[0mgroup\u001b[0m\u001b[1;33m(\u001b[0m\u001b[1;36m1\u001b[0m\u001b[1;33m)\u001b[0m\u001b[1;33m\u001b[0m\u001b[0m\n\u001b[0m\u001b[0;32m      5\u001b[0m \u001b[1;33m\u001b[0m\u001b[0m\n",
      "\u001b[1;31mAttributeError\u001b[0m: 'NoneType' object has no attribute 'group'"
     ]
    }
   ],
   "source": [
    "phone = ['0912345678', '0923-451-192', '0912-111222', '029310319301', '0912312318231310893010']\n",
    "for ele in phone: \n",
    "    m = re.match('(^[0-9]+$)', ele)\n",
    "    print m.group(1)\n",
    "        "
   ]
  },
  {
   "cell_type": "markdown",
   "metadata": {},
   "source": [
    "## 開頭與結尾比對"
   ]
  },
  {
   "cell_type": "code",
   "execution_count": 37,
   "metadata": {
    "collapsed": false
   },
   "outputs": [
    {
     "name": "stdout",
     "output_type": "stream",
     "text": [
      "['Jones', 'Johnson', 'Jenny']\n",
      "['Amy', 'Jenny']\n"
     ]
    }
   ],
   "source": [
    "name = ['David', 'Jones', 'Amy', 'Linda', 'Johnson', 'Jenny']\n",
    "print [ ele  for ele in name if re.match('^J\\w+', ele)] # use ^ to match any begin word\n",
    "print [ ele  for ele in name if re.match('\\w+y$', ele)] # use $ to match any end word"
   ]
  },
  {
   "cell_type": "markdown",
   "metadata": {},
   "source": [
    "## 電話比對完整版"
   ]
  },
  {
   "cell_type": "code",
   "execution_count": 38,
   "metadata": {
    "collapsed": false
   },
   "outputs": [
    {
     "name": "stdout",
     "output_type": "stream",
     "text": [
      "['0912345678', '0923-451-192', '0912-111222']\n"
     ]
    }
   ],
   "source": [
    "phone = ['0912345678', '0923-451-192', '0912-111222', '029310319301', '0912312318231310893010']\n",
    "print [ ele  for ele in phone if re.match('^09\\d{2}-?\\d{3}-?\\d{3}$', ele)]"
   ]
  },
  {
   "cell_type": "markdown",
   "metadata": {},
   "source": [
    "## 資料抽取"
   ]
  },
  {
   "cell_type": "code",
   "execution_count": 43,
   "metadata": {
    "collapsed": false
   },
   "outputs": [
    {
     "name": "stdout",
     "output_type": "stream",
     "text": [
      "qoo@cocacola.com\n",
      "qoo cocacola.com\n",
      "anonymous@111.22\n",
      "anonymous 111.22\n",
      "acool123@pchome.com.tw\n",
      "acool123 pchome.com.tw\n"
     ]
    }
   ],
   "source": [
    "email = ['qoo@cocacola.com', 'anonymous@111.22', '13u1udhfgiudhi-sldfjsdjfos', 'acool123@pchome.com.tw']\n",
    "for ele in email:\n",
    "    m = re.match('(\\w+)@(.+)', ele)  # use () to match group \n",
    "    if m:\n",
    "        #print m.group(1), m.group(2) \n",
    "        #print m.group(0) # group(0) print everything\n",
    "        username, hostname = m.group(1), m.group(2) \n",
    "        print username, hostname"
   ]
  },
  {
   "cell_type": "code",
   "execution_count": 48,
   "metadata": {
    "collapsed": false
   },
   "outputs": [
    {
     "name": "stdout",
     "output_type": "stream",
     "text": [
      "qoo cocacola.com\n",
      "anonymous 111.22\n",
      "acool123 pchome.com.tw\n"
     ]
    }
   ],
   "source": [
    "for ele in email:\n",
    "    m = re.match('(?P<username>\\w+)@(?P<hostname>.+)', ele)  # ?P<name>, can user group('name') to extract element\n",
    "    if m:\n",
    "        print m.group('username'), m.group('hostname')"
   ]
  },
  {
   "cell_type": "code",
   "execution_count": 52,
   "metadata": {
    "collapsed": false
   },
   "outputs": [
    {
     "name": "stdout",
     "output_type": "stream",
     "text": [
      "【更新】柯建銘與徐永明互槓　蘇嘉全：可能... 2926\n",
      "《財訊》霸氣郭台銘下苦工 柔軟攻克日本防... 0\n",
      "助基督教會維權　北京律師被迫上電視認罪 0\n",
      "聯結車與自小客國道相撞　2死1傷 39497\n",
      "「哇嗯係大摳呆！」　達比修澄清身上是肌肉... 0\n",
      "外資加碼台股　上調目標指數至9000點 0\n",
      "呼應轉型正義　楊偉中：國民黨捐黨產賠償受... 35\n",
      "【有片】基隆港住四十年　海面驚見牠好驚喜 1188\n",
      "鴻夏戀若成功　張盛和：有助對抗紅潮 78\n",
      "【網路溫度計】2016台灣燈會在桃園！十... 121\n",
      "卓冠廷戀洪慈庸　卓爸：媒體曝光才知道 1205\n",
      "女遭5少年輪流性侵的真相　竟是父女亂倫 2763\n",
      "她抱怨碰到麻煩事！「有個女孩超想變成我」 1053\n",
      "【民報】國際特赦組織：70年來最凜洌的人... 375\n",
      "柯P比任何人還會騙？網友神比喻超貼切 2720\n",
      "蔡英文訪電廠　白天開燈省能源？ 1467\n",
      "果然大咖！　他練投　教練下令清場！ 2011\n",
      "【法廣RFI】美軍上將： 北京可能事實掌... 1170\n",
      "綠委提3千元兒少津貼　陳威仁：民進黨執政... 1228\n",
      "【更新】美堪薩斯驚傳槍擊案　至少4死30... 12692\n",
      "國民黨主席補選4人登記　今公布通過連署人... 613\n",
      "張國煒今日持續未現身長榮總部 1119\n",
      "【法廣RFI】安理會將採取空前措施制裁朝... 492\n",
      "基隆駕訓班傳命案　女遭鐵捲門壓死 6890\n",
      "王毅盼台尊重憲政　張善政：我們的憲法沒問... 1262\n",
      "男拿小黃瓜塞洞塞口　「小三」窒息死 5575\n",
      "【法廣RFI】制裁平壤：朝鮮設施將被定期... 371\n",
      "賈納春訓慢慢練　改教田中將大如何當爸爸 728\n",
      "【國際為什麼】中國政壇年度大拜拜 1215\n",
      "【法廣RFI】20國集團財長聚滬 陸貨幣... 307\n"
     ]
    }
   ],
   "source": [
    "import requests\n",
    "from bs4 import BeautifulSoup as bs\n",
    "import re\n",
    "\n",
    "res = requests.get('http://www.appledaily.com.tw/realtimenews/section/new/')\n",
    "soup = bs(res.text)\n",
    "for entry in soup.select('.rtddt a'):\n",
    "    m = re.match('(?P<title>.*)\\((?P<popularity>\\d+)\\)',entry.select('h1')[0].text)\n",
    "    print m.group('title'), m.group('popularity')\n"
   ]
  },
  {
   "cell_type": "code",
   "execution_count": 57,
   "metadata": {
    "collapsed": true
   },
   "outputs": [],
   "source": [
    "import requests\n",
    "from bs4 import BeautifulSoup as bs\n",
    "import re\n",
    "import pandas as pd\n",
    "res = requests.get('http://www.appledaily.com.tw/realtimenews/section/new/')\n",
    "soup = bs(res.text)\n",
    "news_list = []\n",
    "for entry in soup.select('.rtddt a'):\n",
    "    m = re.match('(?P<title>.*)\\((?P<popularity>\\d+)\\)',entry.select('h1')[0].text)\n",
    "    news_list.append( {'title':m.group('title'), 'popularity':int(m.group('popularity'))})"
   ]
  },
  {
   "cell_type": "code",
   "execution_count": 63,
   "metadata": {
    "collapsed": false
   },
   "outputs": [
    {
     "name": "stderr",
     "output_type": "stream",
     "text": [
      "C:\\Users\\BIG DATA\\Anaconda2\\lib\\site-packages\\ipykernel\\__main__.py:3: FutureWarning: sort(columns=....) is deprecated, use sort_values(by=.....)\n",
      "  app.launch_new_instance()\n"
     ]
    },
    {
     "data": {
      "text/html": [
       "<div>\n",
       "<table border=\"1\" class=\"dataframe\">\n",
       "  <thead>\n",
       "    <tr style=\"text-align: right;\">\n",
       "      <th></th>\n",
       "      <th>popularity</th>\n",
       "      <th>title</th>\n",
       "    </tr>\n",
       "  </thead>\n",
       "  <tbody>\n",
       "    <tr>\n",
       "      <th>2</th>\n",
       "      <td>119679</td>\n",
       "      <td>蔡依林翻糖神乎奇技　細膩直逼3D列印</td>\n",
       "    </tr>\n",
       "    <tr>\n",
       "      <th>1</th>\n",
       "      <td>77436</td>\n",
       "      <td>是真愛啊！49歲港姐尋回初戀　攜兒3嫁</td>\n",
       "    </tr>\n",
       "    <tr>\n",
       "      <th>29</th>\n",
       "      <td>58355</td>\n",
       "      <td>潘慧如入住恐怖民宿　跳蚤陪睡蓋尿被</td>\n",
       "    </tr>\n",
       "    <tr>\n",
       "      <th>3</th>\n",
       "      <td>42899</td>\n",
       "      <td>【圖解新聞】這些人一輩子沒胖過</td>\n",
       "    </tr>\n",
       "    <tr>\n",
       "      <th>12</th>\n",
       "      <td>26888</td>\n",
       "      <td>在美國工作比較好？　矽谷工程師惆悵回顧</td>\n",
       "    </tr>\n",
       "  </tbody>\n",
       "</table>\n",
       "</div>"
      ],
      "text/plain": [
       "    popularity                title\n",
       "2       119679   蔡依林翻糖神乎奇技　細膩直逼3D列印\n",
       "1        77436  是真愛啊！49歲港姐尋回初戀　攜兒3嫁\n",
       "29       58355    潘慧如入住恐怖民宿　跳蚤陪睡蓋尿被\n",
       "3        42899      【圖解新聞】這些人一輩子沒胖過\n",
       "12       26888  在美國工作比較好？　矽谷工程師惆悵回顧"
      ]
     },
     "execution_count": 63,
     "metadata": {},
     "output_type": "execute_result"
    }
   ],
   "source": [
    "df  = pd.DataFrame(news_list)\n",
    "df.head(10)\n",
    "df.sort(['popularity'], ascending=False).head()"
   ]
  },
  {
   "cell_type": "code",
   "execution_count": 82,
   "metadata": {
    "collapsed": false
   },
   "outputs": [
    {
     "name": "stdout",
     "output_type": "stream",
     "text": [
      "1\n",
      "2\n",
      "3\n",
      "4\n",
      "5\n",
      "6\n",
      "7\n",
      "8\n",
      "9\n",
      "10\n",
      "11\n",
      "12\n",
      "13\n",
      "14\n",
      "15\n",
      "16\n",
      "17\n",
      "18\n",
      "19\n",
      "20\n",
      "21\n",
      "22\n",
      "23\n",
      "24\n",
      "25\n",
      "26\n",
      "27\n",
      "28\n",
      "29\n",
      "30\n"
     ]
    }
   ],
   "source": [
    "import requests\n",
    "from bs4 import BeautifulSoup as bs\n",
    "import re\n",
    "import pandas as pd\n",
    "news_list = []\n",
    "for page in xrange(1,31):\n",
    "    res = requests.get('http://www.appledaily.com.tw/realtimenews/section/new/' + str(page))\n",
    "    print page\n",
    "    soup = bs(res.text)\n",
    "    for entry in soup.select('.rtddt a'):\n",
    "        #print entry.select('h2')[0].text\n",
    "        m = re.match('(?P<title>.*)\\((?P<popularity>\\d+)\\)',entry.select('h1')[0].text)\n",
    "        category = entry.select('h2')[0].text\n",
    "        news_list.append( {'title':m.group('title'), 'popularity':int(m.group('popularity')), 'category':category})"
   ]
  },
  {
   "cell_type": "code",
   "execution_count": 83,
   "metadata": {
    "collapsed": false
   },
   "outputs": [
    {
     "name": "stderr",
     "output_type": "stream",
     "text": [
      "C:\\Users\\BIG DATA\\Anaconda2\\lib\\site-packages\\ipykernel\\__main__.py:5: FutureWarning: sort(columns=....) is deprecated, use sort_values(by=.....)\n"
     ]
    },
    {
     "data": {
      "text/html": [
       "<div>\n",
       "<table border=\"1\" class=\"dataframe\">\n",
       "  <thead>\n",
       "    <tr style=\"text-align: right;\">\n",
       "      <th></th>\n",
       "      <th>category</th>\n",
       "      <th>popularity</th>\n",
       "      <th>title</th>\n",
       "    </tr>\n",
       "  </thead>\n",
       "  <tbody>\n",
       "    <tr>\n",
       "      <th>474</th>\n",
       "      <td>社會</td>\n",
       "      <td>278848</td>\n",
       "      <td>【影片曝光】北市補丁馬路害命　騎士突摔遭...</td>\n",
       "    </tr>\n",
       "    <tr>\n",
       "      <th>437</th>\n",
       "      <td>社會</td>\n",
       "      <td>275283</td>\n",
       "      <td>【獨家】扯爆！　國中女竟為WiFi賣身</td>\n",
       "    </tr>\n",
       "    <tr>\n",
       "      <th>796</th>\n",
       "      <td>政治</td>\n",
       "      <td>272844</td>\n",
       "      <td>20世紀前9大殺人魔王　第4名在台灣</td>\n",
       "    </tr>\n",
       "    <tr>\n",
       "      <th>797</th>\n",
       "      <td>社會</td>\n",
       "      <td>269405</td>\n",
       "      <td>【更新】燈會上演皮影活春宮　女主角正面曝...</td>\n",
       "    </tr>\n",
       "    <tr>\n",
       "      <th>380</th>\n",
       "      <td>社會</td>\n",
       "      <td>243288</td>\n",
       "      <td>【更新】12歲女童染性病　案情竟然超展開</td>\n",
       "    </tr>\n",
       "  </tbody>\n",
       "</table>\n",
       "</div>"
      ],
      "text/plain": [
       "    category  popularity                    title\n",
       "474       社會      278848  【影片曝光】北市補丁馬路害命　騎士突摔遭...\n",
       "437       社會      275283      【獨家】扯爆！　國中女竟為WiFi賣身\n",
       "796       政治      272844       20世紀前9大殺人魔王　第4名在台灣\n",
       "797       社會      269405  【更新】燈會上演皮影活春宮　女主角正面曝...\n",
       "380       社會      243288     【更新】12歲女童染性病　案情竟然超展開"
      ]
     },
     "execution_count": 83,
     "metadata": {},
     "output_type": "execute_result"
    }
   ],
   "source": [
    "df  = pd.DataFrame(news_list)\n",
    "df.head()\n",
    "df.head(10)\n",
    "#df.head()\n",
    "df.sort(['popularity'], ascending=False).head()"
   ]
  },
  {
   "cell_type": "code",
   "execution_count": 87,
   "metadata": {
    "collapsed": false
   },
   "outputs": [
    {
     "name": "stdout",
     "output_type": "stream",
     "text": [
      "category\n",
      "國際    1315696\n",
      "財經    1230035\n",
      "生活    1420942\n",
      "政治    1531724\n",
      "體育     323974\n",
      "娛樂    1693363\n",
      "搜奇     788211\n",
      "社會    3214383\n",
      "時尚     209438\n",
      "地產      64372\n",
      "論壇     140545\n",
      "3C     137069\n",
      "動物      88052\n",
      "正妹      36263\n",
      "Name: popularity, dtype: int64 category\n",
      "國際    201\n",
      "財經    132\n",
      "生活    128\n",
      "政治     81\n",
      "體育     48\n",
      "娛樂     56\n",
      "搜奇     38\n",
      "社會    101\n",
      "時尚     18\n",
      "地產     18\n",
      "論壇     39\n",
      "3C     22\n",
      "動物     16\n",
      "正妹      2\n",
      "Name: popularity, dtype: int64\n"
     ]
    }
   ],
   "source": [
    "df1 = df.groupby(['category'], sort=False)['popularity'].sum()\n",
    "df2 = df.groupby(['category'], sort=False)['popularity'].count()\n",
    "print df1, df2"
   ]
  },
  {
   "cell_type": "code",
   "execution_count": 85,
   "metadata": {
    "collapsed": false
   },
   "outputs": [
    {
     "data": {
      "text/html": [
       "<div>\n",
       "<table border=\"1\" class=\"dataframe\">\n",
       "  <thead>\n",
       "    <tr style=\"text-align: right;\">\n",
       "      <th></th>\n",
       "      <th>category</th>\n",
       "      <th>popularity</th>\n",
       "      <th>title</th>\n",
       "    </tr>\n",
       "  </thead>\n",
       "  <tbody>\n",
       "    <tr>\n",
       "      <th>108</th>\n",
       "      <td>3C</td>\n",
       "      <td>93879</td>\n",
       "      <td>台灣臉書更新　「表情符號」今天正式上線</td>\n",
       "    </tr>\n",
       "    <tr>\n",
       "      <th>188</th>\n",
       "      <td>論壇</td>\n",
       "      <td>16892</td>\n",
       "      <td>呂秋遠：我們對超商店員的期待</td>\n",
       "    </tr>\n",
       "    <tr>\n",
       "      <th>283</th>\n",
       "      <td>體育</td>\n",
       "      <td>36186</td>\n",
       "      <td>《蘋果Live》17比4　Lamigo ...</td>\n",
       "    </tr>\n",
       "    <tr>\n",
       "      <th>298</th>\n",
       "      <td>正妹</td>\n",
       "      <td>24487</td>\n",
       "      <td>不美幹嘛脫　陳埃及主張女性身體解放自主</td>\n",
       "    </tr>\n",
       "    <tr>\n",
       "      <th>362</th>\n",
       "      <td>娛樂</td>\n",
       "      <td>135272</td>\n",
       "      <td>【更新】小小瑜想淡出演藝圈　真相竟是.....</td>\n",
       "    </tr>\n",
       "    <tr>\n",
       "      <th>373</th>\n",
       "      <td>財經</td>\n",
       "      <td>142076</td>\n",
       "      <td>鴻海推遲簽約原因　夏普忘了說恐欠債350...</td>\n",
       "    </tr>\n",
       "    <tr>\n",
       "      <th>458</th>\n",
       "      <td>動物</td>\n",
       "      <td>38222</td>\n",
       "      <td>【影片】一息尚存癱狗　險被丟垃圾車絞死</td>\n",
       "    </tr>\n",
       "    <tr>\n",
       "      <th>474</th>\n",
       "      <td>社會</td>\n",
       "      <td>278848</td>\n",
       "      <td>【影片曝光】北市補丁馬路害命　騎士突摔遭...</td>\n",
       "    </tr>\n",
       "    <tr>\n",
       "      <th>596</th>\n",
       "      <td>國際</td>\n",
       "      <td>72310</td>\n",
       "      <td>上班族流行「裸辭」　這六點必看</td>\n",
       "    </tr>\n",
       "    <tr>\n",
       "      <th>675</th>\n",
       "      <td>地產</td>\n",
       "      <td>7856</td>\n",
       "      <td>傻眼！　北市松山區老屋是新屋48倍</td>\n",
       "    </tr>\n",
       "    <tr>\n",
       "      <th>678</th>\n",
       "      <td>生活</td>\n",
       "      <td>105542</td>\n",
       "      <td>駕照道路路考3月上路　記者團實測全軍覆沒</td>\n",
       "    </tr>\n",
       "    <tr>\n",
       "      <th>759</th>\n",
       "      <td>時尚</td>\n",
       "      <td>101224</td>\n",
       "      <td>小S登米蘭大秀　他認為是在模仿「這個人」</td>\n",
       "    </tr>\n",
       "    <tr>\n",
       "      <th>796</th>\n",
       "      <td>政治</td>\n",
       "      <td>272844</td>\n",
       "      <td>20世紀前9大殺人魔王　第4名在台灣</td>\n",
       "    </tr>\n",
       "    <tr>\n",
       "      <th>803</th>\n",
       "      <td>搜奇</td>\n",
       "      <td>224661</td>\n",
       "      <td>他用這招對付詐騙集團　把對方逼瘋了</td>\n",
       "    </tr>\n",
       "  </tbody>\n",
       "</table>\n",
       "</div>"
      ],
      "text/plain": [
       "    category  popularity                    title\n",
       "108       3C       93879      台灣臉書更新　「表情符號」今天正式上線\n",
       "188       論壇       16892           呂秋遠：我們對超商店員的期待\n",
       "283       體育       36186  《蘋果Live》17比4　Lamigo ...\n",
       "298       正妹       24487      不美幹嘛脫　陳埃及主張女性身體解放自主\n",
       "362       娛樂      135272  【更新】小小瑜想淡出演藝圈　真相竟是.....\n",
       "373       財經      142076  鴻海推遲簽約原因　夏普忘了說恐欠債350...\n",
       "458       動物       38222      【影片】一息尚存癱狗　險被丟垃圾車絞死\n",
       "474       社會      278848  【影片曝光】北市補丁馬路害命　騎士突摔遭...\n",
       "596       國際       72310          上班族流行「裸辭」　這六點必看\n",
       "675       地產        7856        傻眼！　北市松山區老屋是新屋48倍\n",
       "678       生活      105542     駕照道路路考3月上路　記者團實測全軍覆沒\n",
       "759       時尚      101224     小S登米蘭大秀　他認為是在模仿「這個人」\n",
       "796       政治      272844       20世紀前9大殺人魔王　第4名在台灣\n",
       "803       搜奇      224661        他用這招對付詐騙集團　把對方逼瘋了"
      ]
     },
     "execution_count": 85,
     "metadata": {},
     "output_type": "execute_result"
    }
   ],
   "source": [
    "idx = df.groupby(['category'])['popularity'].transform(max) == df['popularity']\n",
    "#print idx\n",
    "df[idx]\n"
   ]
  },
  {
   "cell_type": "code",
   "execution_count": null,
   "metadata": {
    "collapsed": true
   },
   "outputs": [],
   "source": [
    "import jieba\n",
    "dic = {}\n",
    "for entry in jd['data']:\n",
    "    for ele in jieba.cut(entry['message']):\n",
    "        if not ele in dic:\n",
    "            dic[ele] = 1\n",
    "        else:\n",
    "            dic[ele] = dic[ele] + 1"
   ]
  },
  {
   "cell_type": "code",
   "execution_count": 21,
   "metadata": {
    "collapsed": false
   },
   "outputs": [],
   "source": [
    "import requests\n",
    "import json\n",
    "import jieba\n",
    "dic = {}\n",
    "jieba.add_word('民進黨')\n",
    "jieba.add_word('蔡英文')\n",
    "def update_dic(jd, dic):\n",
    "    for entry in jd['data']:\n",
    "        if 'message' in entry:\n",
    "            for ele in jieba.cut(entry['message']):\n",
    "                if not ele in dic:\n",
    "                    dic[ele] = 1\n",
    "                else:\n",
    "                    dic[ele] = dic[ele] + 1\n",
    "\n",
    "ACCESS_TOKEN = 'CAACEdEose0cBABgVGZByIZBUrpooyhZC4ZABFgjmDHZAXX3S0p3P53PpXcfhsDhKStQfs3MS8eBmPGZB42a5MF2pSOUE1Rjz0P4RZAtVoOkdaXwWhm7KN4tdrbIBMxUf7tXTrqRq53WXqquuZC8dp1sg8D0tx3k9HhM01b1XuYmlnVXTU4FFgpia1jWIFUIdZBQpUtmAHlVrw7z85iRKSL2gf'\n",
    "res = requests.get('https://graph.facebook.com/v2.5/tsaiingwen/posts?access_token={}&limit=100&since=1420070400'.format(ACCESS_TOKEN))\n",
    "jd = json.loads(res.text)\n",
    "\n",
    "update_dic(jd, dic)\n",
    "\n",
    "while 'paging' in jd and jd['paging']['next']:\n",
    "    res = requests.get(jd['paging']['next'])\n",
    "    jd = json.loads(res.text)\n",
    "    update_dic(jd, dic)\n",
    "    "
   ]
  },
  {
   "cell_type": "code",
   "execution_count": 23,
   "metadata": {
    "collapsed": true
   },
   "outputs": [],
   "source": [
    "from operator import itemgetter\n",
    "import re\n",
    "swd = sorted(dic.items(), key = itemgetter(1), reverse=True)\n",
    "for ele in swd:\n",
    "    if re.match(u'[\\u4e00-\\u9fa5]+', ele[0]) and len(ele[0]) >=2:\n",
    "        pass\n",
    "        #print ele[0], ele[1]\n"
   ]
  },
  {
   "cell_type": "markdown",
   "metadata": {},
   "source": [
    "## 統整程式碼"
   ]
  },
  {
   "cell_type": "markdown",
   "metadata": {},
   "source": [
    "### 步驟 0 引用套件"
   ]
  },
  {
   "cell_type": "code",
   "execution_count": 24,
   "metadata": {
    "collapsed": true
   },
   "outputs": [],
   "source": [
    "# -*- coding: utf-8 -*- \n",
    "from bs4 import BeautifulSoup \n",
    "from datetime import datetime \n",
    "import os, sys, re"
   ]
  },
  {
   "cell_type": "markdown",
   "metadata": {},
   "source": [
    "### 步驟1 建立資料抽出函式"
   ]
  },
  {
   "cell_type": "code",
   "execution_count": 33,
   "metadata": {
    "collapsed": true
   },
   "outputs": [],
   "source": [
    "def get_response_element (file_name): \n",
    "    f = open(file_name, 'r') \n",
    "    response_text = f.read() \n",
    "    f.close() \n",
    "    soup = BeautifulSoup(response_text)     \n",
    "    tender_table = soup.select('.table_block.tender_table')[0]\n",
    "    tr = tender_table.select('tr') \n",
    "    return tr"
   ]
  },
  {
   "cell_type": "code",
   "execution_count": 36,
   "metadata": {
    "collapsed": false
   },
   "outputs": [],
   "source": [
    "#print get_response_element('gov/51687663_1040705.txt')"
   ]
  },
  {
   "cell_type": "markdown",
   "metadata": {},
   "source": [
    "### 步驟2 建立時間轉換函式"
   ]
  },
  {
   "cell_type": "code",
   "execution_count": 37,
   "metadata": {
    "collapsed": true
   },
   "outputs": [],
   "source": [
    "def date_conversion(element):\n",
    "        m = re.match(r\"(\\d+/\\d+/\\d+)\",element)\n",
    "        if m is not None:\n",
    "                t = m.group(1).split('/', 1)\n",
    "                if t[0] != '':\n",
    "                        return datetime.strptime(str(int(t[0]) + 1911) + \"/\" + (''.join(t[1:]).split()[0] ), \"%Y/%m/%d\")\n",
    "        else:\n",
    "                return None"
   ]
  },
  {
   "cell_type": "code",
   "execution_count": 40,
   "metadata": {
    "collapsed": false
   },
   "outputs": [
    {
     "data": {
      "text/plain": [
       "datetime.datetime(2013, 2, 3, 0, 0)"
      ]
     },
     "execution_count": 40,
     "metadata": {},
     "output_type": "execute_result"
    }
   ],
   "source": [
    "date_conversion('102/02/03')"
   ]
  },
  {
   "cell_type": "markdown",
   "metadata": {},
   "source": [
    "### 步驟3 建立金額轉換函式"
   ]
  },
  {
   "cell_type": "code",
   "execution_count": 38,
   "metadata": {
    "collapsed": true
   },
   "outputs": [],
   "source": [
    "def money_conversion(element): \n",
    "    m = re.match( r\"\\$?([0-9,]+)\", \"\".join(element.split())) \n",
    "    return int(''.join(m.group(0).split(',')))"
   ]
  },
  {
   "cell_type": "code",
   "execution_count": 39,
   "metadata": {
    "collapsed": false
   },
   "outputs": [
    {
     "data": {
      "text/plain": [
       "123111"
      ]
     },
     "execution_count": 39,
     "metadata": {},
     "output_type": "execute_result"
    }
   ],
   "source": [
    "money_conversion('123,111元')"
   ]
  },
  {
   "cell_type": "markdown",
   "metadata": {},
   "source": [
    "### 步驟4 建立移除空白函式"
   ]
  },
  {
   "cell_type": "code",
   "execution_count": 41,
   "metadata": {
    "collapsed": true
   },
   "outputs": [],
   "source": [
    "def remove_space(element): \n",
    "    return \"\".join(element.split())"
   ]
  },
  {
   "cell_type": "code",
   "execution_count": 42,
   "metadata": {
    "collapsed": false
   },
   "outputs": [
    {
     "data": {
      "text/plain": [
       "'adfddddddddddddddddd'"
      ]
     },
     "execution_count": 42,
     "metadata": {},
     "output_type": "execute_result"
    }
   ],
   "source": [
    "remove_space('adf                ddddddddddddddddd')"
   ]
  },
  {
   "cell_type": "markdown",
   "metadata": {},
   "source": [
    "### 步驟5 建立轉換字典"
   ]
  },
  {
   "cell_type": "code",
   "execution_count": 54,
   "metadata": {
    "collapsed": true
   },
   "outputs": [],
   "source": [
    "name_map = {\"機關代碼\":\"entity_code\", \"機關名稱\":\"procuring_entity\",\"標案案號\":\"job_number\",\"招標方式\":\"procurement_type\",\\\n",
    "    \"決標方式\":\"tender_awarding_type\",\"標案名稱\":\"subject_of_procurement\", \"決標資料類別\":\"attr_of_tender_awarding\", \\\n",
    "    \"標的分類\":\"attr_of_procurement\", \"預算金額\":\"budget_value\", \"開標時間\":\"opening_date\",\"決標公告日期\":\"tender_awarding_announce_date\",\\\n",
    "    \"歸屬計畫類別\":\"project_type\",\"總決標金額\":\"total_tender_awarding_value\",\"底價金額\":\"floor_price_value\",\"決標日期\":\"tender_awarding_date\", \"pkAtmMain\":\"pkAtmMain\"}\n",
    "\n",
    "tender_awards_map = {\"機關代碼\":remove_space, \"機關名稱\":remove_space, \"標案案號\":remove_space, \\\n",
    "    \"招標方式\":remove_space,\"決標方式\":remove_space,\"標案名稱\":remove_space, \"決標資料類別\":remove_space, \\\n",
    "    \"標的分類\":remove_space, \"預算金額\":money_conversion, \"開標時間\":date_conversion,\"歸屬計畫類別\":remove_space, \\\n",
    "    \"總決標金額\":money_conversion,\"底價金額\":money_conversion,\"決標日期\":date_conversion, \"決標公告日期\":date_conversion}\n"
   ]
  },
  {
   "cell_type": "code",
   "execution_count": 43,
   "metadata": {
    "collapsed": false
   },
   "outputs": [
    {
     "data": {
      "text/plain": [
       "'djdddddddddddddd'"
      ]
     },
     "execution_count": 43,
     "metadata": {},
     "output_type": "execute_result"
    }
   ],
   "source": [
    "dic = {'a':remove_space , 'b':money_conversion}\n",
    "dic['a'](' djdd             dddddd             dddddd') # remove_space(' djdd             dddddd             dddddd')"
   ]
  },
  {
   "cell_type": "code",
   "execution_count": 62,
   "metadata": {
    "collapsed": false
   },
   "outputs": [
    {
     "name": "stdout",
     "output_type": "stream",
     "text": [
      "sdfdfdf\n"
     ]
    }
   ],
   "source": [
    "li = [remove_space,money_conversion]\n",
    "print li[0]('sdf         dfdf')"
   ]
  },
  {
   "cell_type": "markdown",
   "metadata": {},
   "source": [
    "### 步驟6 整理機關、已公告、決標資料"
   ]
  },
  {
   "cell_type": "code",
   "execution_count": 59,
   "metadata": {
    "collapsed": true
   },
   "outputs": [],
   "source": [
    "def get_award_info_dic(element):\n",
    "    returned_dic = {}\n",
    "    for row in element:\n",
    "        th = row.select('th')\n",
    "        if len(th) > 0:\n",
    "            th_name = th[0].text.encode('utf-8').strip()\n",
    "            if (th_name in  tender_awards_map):\n",
    "                returned_dic[name_map[th_name]]   =   tender_awards_map[th_name](row.select('td')[0].text.strip())\n",
    "    return returned_dic"
   ]
  },
  {
   "cell_type": "code",
   "execution_count": 60,
   "metadata": {
    "collapsed": false
   },
   "outputs": [
    {
     "data": {
      "text/plain": [
       "{'attr_of_procurement': u'<\\u52de\\u52d9\\u985e>93\\u5065\\u5eb7\\u53ca\\u793e\\u6703\\u670d\\u52d9',\n",
       " 'attr_of_tender_awarding': u'\\u5b9a\\u671f\\u5f59\\u9001',\n",
       " 'budget_value': 237600,\n",
       " 'entity_code': u'A.21.100.46',\n",
       " 'floor_price_value': 237600,\n",
       " 'job_number': u'1040705',\n",
       " 'opening_date': datetime.datetime(2015, 11, 4, 0, 0),\n",
       " 'procurement_type': u'\\u516c\\u958b\\u53d6\\u5f97\\u5831\\u50f9\\u55ae\\u6216\\u4f01\\u5283\\u66f8',\n",
       " 'procuring_entity': u'\\u885b\\u751f\\u798f\\u5229\\u90e8\\u81fa\\u6771\\u91ab\\u9662',\n",
       " 'project_type': u'\\u975e\\u5c6c\\u611b\\u53f0\\u5341\\u4e8c\\u9805\\u8a08\\u756b',\n",
       " 'subject_of_procurement': u'\\u91ab\\u7642\\u696d\\u52d9\\u652f\\u63f4\\u6848',\n",
       " 'tender_awarding_announce_date': datetime.datetime(2015, 11, 12, 0, 0),\n",
       " 'tender_awarding_date': datetime.datetime(2015, 11, 4, 0, 0),\n",
       " 'tender_awarding_type': u'\\u6700\\u4f4e\\u6a19',\n",
       " 'total_tender_awarding_value': 237600}"
      ]
     },
     "execution_count": 60,
     "metadata": {},
     "output_type": "execute_result"
    }
   ],
   "source": [
    "ele = get_response_element('gov/51687663_1040705.txt')\n",
    "get_award_info_dic(ele)"
   ]
  },
  {
   "cell_type": "markdown",
   "metadata": {},
   "source": [
    "### 步驟7 瀏覽整理過的資料"
   ]
  },
  {
   "cell_type": "code",
   "execution_count": 61,
   "metadata": {
    "collapsed": false
   },
   "outputs": [
    {
     "name": "stdout",
     "output_type": "stream",
     "text": [
      "opening_date 2015-11-04 00:00:00\n",
      "total_tender_awarding_value 237600\n",
      "tender_awarding_date 2015-11-04 00:00:00\n",
      "entity_code A.21.100.46\n",
      "procurement_type 公開取得報價單或企劃書\n",
      "procuring_entity 衛生福利部臺東醫院\n",
      "attr_of_procurement <勞務類>93健康及社會服務\n",
      "tender_awarding_announce_date 2015-11-12 00:00:00\n",
      "subject_of_procurement 醫療業務支援案\n",
      "project_type 非屬愛台十二項計畫\n",
      "attr_of_tender_awarding 定期彙送\n",
      "budget_value 237600\n",
      "floor_price_value 237600\n",
      "job_number 1040705\n",
      "tender_awarding_type 最低標\n"
     ]
    }
   ],
   "source": [
    "element = get_response_element('gov/51687663_1040705.txt')\n",
    "dic = get_award_info_dic(element)\n",
    "for ele in dic:\n",
    "    print ele, dic[ele]"
   ]
  },
  {
   "cell_type": "markdown",
   "metadata": {},
   "source": [
    "## 資料儲存與分析"
   ]
  },
  {
   "cell_type": "code",
   "execution_count": 65,
   "metadata": {
    "collapsed": true
   },
   "outputs": [],
   "source": [
    "import sqlite3\n",
    "db = sqlite3.connect('test.sqlite')\n",
    "db.close()"
   ]
  },
  {
   "cell_type": "markdown",
   "metadata": {},
   "source": [
    "#### 下載Sqlite Manager:\n",
    "- https://addons.mozilla.org/zh-tw/firefox/addon/sqlite-manager/"
   ]
  },
  {
   "cell_type": "code",
   "execution_count": 66,
   "metadata": {
    "collapsed": true
   },
   "outputs": [],
   "source": [
    "import sqlite3\n",
    "db = sqlite3.connect('test.sqlite')\n",
    "cur = db.cursor()\n",
    "cur.execute('''CREATE TABLE IF NOT EXISTS Tender_awards(\n",
    "                id INTEGER PRIMARY KEY,\n",
    "                pkAtmMain TEXT,\n",
    "                procuring_entity TEXT,\n",
    "                entity_code TEXT,\n",
    "                attr_of_procurement TEXT,\n",
    "                opening_date DATETIME,\n",
    "                procurement_type TEXT,\n",
    "                tender_awarding_type TEXT,\n",
    "                project_type TEXT,\n",
    "                subject_of_procurement TEXT,\n",
    "                job_number TEXT,\n",
    "                budget_value BIGINTEGER,\n",
    "                attr_of_tender_awarding TEXT,\n",
    "                floor_price_value BIGINTEGER,\n",
    "                tender_awarding_announce_date DATETIME,\n",
    "                tender_awarding_date DATETIME,\n",
    "                total_tender_awarding_value BIGINTEGER\n",
    "                )''')\n",
    "db.close()"
   ]
  },
  {
   "cell_type": "code",
   "execution_count": 69,
   "metadata": {
    "collapsed": false
   },
   "outputs": [],
   "source": [
    "import sqlite3\n",
    "\n",
    "con = sqlite3.connect(\"test.sqlite\") \n",
    "\n",
    "cur = con.cursor() \n",
    "cur.execute(\"DROP TABLE IF EXISTS PhoneAddress\")  # Drop Table If Exisits \n",
    "cur.execute(\"CREATE TABLE PhoneAddress(phone CHAR(10) PRIMARY KEY, address TEXT, name TEXT unique, age INT NOT NULL)\") \n",
    "cur.execute(\"INSERT INTO PhoneAddress VALUES('0912173381','United State','Jhon Doe',53)\") \n",
    "cur.execute(\"INSERT INTO PhoneAddress VALUES('0928375018','Tokyo Japan','MuMu Cat',6)\") \n",
    "cur.execute(\"INSERT INTO PhoneAddress VALUES('0957209108','Taipei','Richard',29)\") \n",
    "con.commit()\n",
    "#cur.execute(\"SELECT phone,address FROM PhoneAddress\") \n",
    "#data = cur.fetchall() \n",
    "#    for rec in data: \n",
    "#        print rec[0], rec[1] \n",
    "con.close()"
   ]
  },
  {
   "cell_type": "code",
   "execution_count": 71,
   "metadata": {
    "collapsed": false
   },
   "outputs": [
    {
     "name": "stdout",
     "output_type": "stream",
     "text": [
      "(u'0912173381', u'United State')\n",
      "(u'0928375018', u'Tokyo Japan')\n"
     ]
    }
   ],
   "source": [
    "import sqlite3\n",
    "\n",
    "con = sqlite3.connect(\"test.sqlite\") \n",
    "\n",
    "cur = con.cursor() \n",
    "\n",
    "cur.execute(\"SELECT phone,address FROM PhoneAddress\") \n",
    "data = cur.fetchone() # fetch one row at a time\n",
    "print data\n",
    "data2 = cur.fetchone()\n",
    "print data2\n",
    "\n",
    "con.close()"
   ]
  },
  {
   "cell_type": "code",
   "execution_count": 72,
   "metadata": {
    "collapsed": false
   },
   "outputs": [
    {
     "name": "stdout",
     "output_type": "stream",
     "text": [
      "(u'0912173381', u'United State')\n",
      "[(u'0928375018', u'Tokyo Japan'), (u'0957209108', u'Taipei')]\n"
     ]
    }
   ],
   "source": [
    "import sqlite3\n",
    "\n",
    "con = sqlite3.connect(\"test.sqlite\") \n",
    "\n",
    "cur = con.cursor() \n",
    "\n",
    "cur.execute(\"SELECT phone,address FROM PhoneAddress\") \n",
    "data = cur.fetchone() \n",
    "print data\n",
    "data2 = cur.fetchall() # fetch all rows at a time\n",
    "print data2\n",
    "con.close()"
   ]
  },
  {
   "cell_type": "markdown",
   "metadata": {},
   "source": [
    "## 把資料塞入資料庫"
   ]
  },
  {
   "cell_type": "code",
   "execution_count": 81,
   "metadata": {
    "collapsed": false
   },
   "outputs": [
    {
     "name": "stdout",
     "output_type": "stream",
     "text": [
      "15\n",
      "???????????????\n",
      "?,?,?,?,?,?,?,?,?,?,?,?,?,?,?\n",
      "insert into Tender_awards (opening_date, total_tender_awarding_value, tender_awarding_date, entity_code, procurement_type, procuring_entity, attr_of_procurement, tender_awarding_announce_date, subject_of_procurement, project_type, attr_of_tender_awarding, budget_value, floor_price_value, job_number, tender_awarding_type) values(?,?,?,?,?,?,?,?,?,?,?,?,?,?,?)\n",
      "[datetime.datetime(2015, 11, 4, 0, 0), 237600, datetime.datetime(2015, 11, 4, 0, 0), u'A.21.100.46', u'\\u516c\\u958b\\u53d6\\u5f97\\u5831\\u50f9\\u55ae\\u6216\\u4f01\\u5283\\u66f8', u'\\u885b\\u751f\\u798f\\u5229\\u90e8\\u81fa\\u6771\\u91ab\\u9662', u'<\\u52de\\u52d9\\u985e>93\\u5065\\u5eb7\\u53ca\\u793e\\u6703\\u670d\\u52d9', datetime.datetime(2015, 11, 12, 0, 0), u'\\u91ab\\u7642\\u696d\\u52d9\\u652f\\u63f4\\u6848', u'\\u975e\\u5c6c\\u611b\\u53f0\\u5341\\u4e8c\\u9805\\u8a08\\u756b', u'\\u5b9a\\u671f\\u5f59\\u9001', 237600, 237600, u'1040705', u'\\u6700\\u4f4e\\u6a19']\n"
     ]
    }
   ],
   "source": [
    "element = get_response_element('gov/51687663_1040705.txt')\n",
    "dic = get_award_info_dic(element)\n",
    "\n",
    "# insert into Tender_awards (c1, c2, c3...) values(v1, v2, v3)\n",
    "# insert into Tender_awards (c1, c2, c3...) values(?,?,?)\n",
    "\n",
    "sql = 'insert into Tender_awards ({}) values({})'\n",
    "columns =  ', '.join(dic.keys())\n",
    "print len(dic)\n",
    "print len(dic) * '?'\n",
    "print ','.join(len(dic) * '?')\n",
    "placeholders = ','.join(len(dic) * '?')\n",
    "\n",
    "print sql.format(columns, placeholders)\n",
    "print dic.values()\n",
    "\n",
    "#cur.execute(sql,award_info_dic.values())\n",
    "#columns =  ', '.join(dic.keys())\n",
    "#for ele in dic:\n",
    "#    print ele, dic[ele]\n",
    "    \n"
   ]
  },
  {
   "cell_type": "code",
   "execution_count": 91,
   "metadata": {
    "collapsed": true
   },
   "outputs": [],
   "source": [
    "import sqlite3\n",
    "\n",
    "sql = 'insert into Tender_awards ({}) values({})'\n",
    "con = sqlite3.connect(\"test.sqlite\") \n",
    "cur = con.cursor() \n",
    "\n",
    "# insert into Tender_awards (c1, c2, c3...) values(?,?,?)\n",
    "element = get_response_element('gov/51687663_1040705.txt')\n",
    "dic = get_award_info_dic(element)\n",
    "columns =  ', '.join(dic.keys())\n",
    "placeholders = ','.join(len(dic) * '?')\n",
    "cur.execute(sql.format(columns, placeholders), dic.values())\n",
    "con.commit()\n",
    "con.close()"
   ]
  },
  {
   "cell_type": "code",
   "execution_count": 92,
   "metadata": {
    "collapsed": false
   },
   "outputs": [
    {
     "name": "stdout",
     "output_type": "stream",
     "text": [
      "gov/1499534_9511.txt\n",
      "gov/51632563_you104004.txt\n",
      "gov/51658371_AH1041002.txt\n",
      "gov/51669565_1041008B.txt\n",
      "gov/51671363_1041012A01.txt\n",
      "gov/51686117_104A280.txt\n",
      "gov/51686231_10411090027.txt\n",
      "gov/51686279_HC05004P013.txt\n",
      "gov/51686287_CAA104CE06.txt\n",
      "gov/51686294_104-d-20-E1020-1.txt\n",
      "gov/51686298_104-d-20-E1020-4.txt\n",
      "gov/51686299_C105-02EF.txt\n",
      "gov/51686304_1041000247.txt\n",
      "gov/51686311_L0204P1142Q.txt\n",
      "gov/51686313_C105-01EF.txt\n",
      "gov/51686316_104-B052-00T.txt\n",
      "gov/51686320_A103-047-1.txt\n",
      "gov/51686322_104176CE.txt\n",
      "gov/51686331_1041000232.txt\n",
      "gov/51686337_104116001503.txt\n",
      "gov/51686342_104FIN63.txt\n",
      "gov/51686344_10415.txt\n",
      "gov/51686357_ntsh1040930.txt\n",
      "gov/51686370_FC05001P005.txt\n",
      "gov/51686382_104C005.txt\n",
      "gov/51686384_1040924.txt\n",
      "gov/51686394_tc10410.txt\n",
      "gov/51686398_104102901.txt\n",
      "gov/51686412_M01-0914-C.txt\n",
      "gov/51686423_0610400010.txt\n",
      "gov/51686428_104-10.txt\n",
      "gov/51686430_tces10411.txt\n",
      "gov/51686433_DCB0361001-1.txt\n",
      "gov/51686438_1040901.txt\n",
      "gov/51686451_104-0130-2-004.txt\n",
      "gov/51686456_104-45.txt\n",
      "gov/51686472_LHF0470003.txt\n",
      "gov/51686476_103B082-1-1.txt\n",
      "gov/51686487_105-0441-1-002.txt\n",
      "gov/51686493_104-094.txt\n",
      "gov/51686495_1040905.txt\n",
      "gov/51686497_104QE307C1.txt\n",
      "gov/51686517_104B-016.txt\n",
      "gov/51686518_1041020-01.txt\n",
      "gov/51686526_MPB1041021C027.txt\n",
      "gov/51686532_ENSO104051.txt\n",
      "gov/51686537_SV-10413.txt\n",
      "gov/51686542_1090400020.txt\n",
      "gov/51686551_101B040-3-105.txt\n",
      "gov/51686591_104006.txt\n",
      "gov/51686601_ENG-1040054.txt\n",
      "gov/51686603_1041028C.txt\n",
      "gov/51686608_1034F177-1.txt\n",
      "gov/51686610_104930.txt\n",
      "gov/51686619_1041012.txt\n",
      "gov/51686621_10417.txt\n",
      "gov/51686622_0605L1041021.txt\n",
      "gov/51686632_C1041001-01.txt\n",
      "gov/51686645_102B054-2-105.txt\n",
      "gov/51686654_104-S001.txt\n",
      "gov/51686668_tms105005.txt\n",
      "gov/51686670_hles104110601.txt\n",
      "gov/51686677_GM05037P006.txt\n",
      "gov/51686685_D104-0528-172.txt\n",
      "gov/51686687_104C006.txt\n",
      "gov/51686697_104Y0916.txt\n",
      "gov/51686700_104A08.txt\n",
      "gov/51686706_RDL0416017.txt\n",
      "gov/51686714_HI05014P029.txt\n",
      "gov/51686715_DGC0342002.txt\n",
      "gov/51686720_10410.txt\n",
      "gov/51686725_GM05028P002.txt\n",
      "gov/51686737_3410400310-S04122.txt\n",
      "gov/51686739_10410002.txt\n",
      "gov/51686744_1041022Q01-10.txt\n",
      "gov/51686746_1041005-01.txt\n",
      "gov/51686751_104-61.txt\n",
      "gov/51686768_104-025.txt\n",
      "gov/51686789_101B042-3-105.txt\n",
      "gov/51686793_10468D003468.txt\n",
      "gov/51686795_3510400302.txt\n",
      "gov/51686813_89B010-2.txt\n",
      "gov/51686821_1684.txt\n",
      "gov/51686822_104224.txt\n",
      "gov/51686829_E15101.txt\n",
      "gov/51686835_0240400014.txt\n",
      "gov/51686865_D145.txt\n",
      "gov/51686882_3600400091.txt\n",
      "gov/51686885_D150.txt\n",
      "gov/51686889_1041070148B.txt\n",
      "gov/51686907_1045015.txt\n",
      "gov/51686909_10410pc001.txt\n",
      "gov/51686911_3710400485.txt\n",
      "gov/51686921_3500400239.txt\n",
      "gov/51686923_1040020173B.txt\n",
      "gov/51686933_1040600D00016.txt\n",
      "gov/51686937_1041016.txt\n",
      "gov/51686938_104700330410.txt\n",
      "gov/51686942_105003.txt\n",
      "gov/51686944_A1040574ENG025.txt\n",
      "gov/51686945_3700400064.txt\n",
      "gov/51686949_M04C5386.txt\n",
      "gov/51686950_S104IZ023.txt\n",
      "gov/51686952_104C037-K-Z02.txt\n",
      "gov/51686970_104HK008.txt\n",
      "gov/51686971_1040916-2.txt\n",
      "gov/51686973_111104021004.txt\n",
      "gov/51686980_P103-06.txt\n",
      "gov/51686983_EY04054P100.txt\n",
      "gov/51686986_AEC10410043L.txt\n",
      "gov/51686989_wat103185-1.txt\n",
      "gov/51686990_10402.txt\n",
      "gov/51687000_B04A00336.txt\n",
      "gov/51687004_104059.txt\n",
      "gov/51687007_Factiva2016.txt\n",
      "gov/51687018_1040903-3.txt\n",
      "gov/51687025_MCB0470046.txt\n",
      "gov/51687028_104302.txt\n",
      "gov/51687031_HP05033P018PE.txt\n",
      "gov/51687036_MCB0470054.txt\n",
      "gov/51687043_MCB0470062.txt\n",
      "gov/51687052_CS104014.txt\n",
      "gov/51687059_1040922-1.txt\n",
      "gov/51687062_JE04330P257.txt\n",
      "gov/51687063_104001.txt\n",
      "gov/51687089_C04080.txt\n",
      "gov/51687093_104A07.txt\n",
      "gov/51687110_B04A05901.txt\n",
      "gov/51687117_104002.txt\n",
      "gov/51687119_1040302-1-1.txt\n",
      "gov/51687122_02104024.txt\n",
      "gov/51687134_DGC0443001.txt\n",
      "gov/51687142_1190400022.txt\n",
      "gov/51687148_105-002A.txt\n",
      "gov/51687152_10410085.txt\n",
      "gov/51687164_EM05004P002.txt\n",
      "gov/51687165_104-114A.txt\n",
      "gov/51687171_D104-0910-174-1.txt\n",
      "gov/51687175_1044B091.txt\n",
      "gov/51687177_104B27P006.txt\n",
      "gov/51687192_1040400029.txt\n",
      "gov/51687203_1044B113.txt\n",
      "gov/51687211_10487001017.txt\n",
      "gov/51687224_104TMACH50S.txt\n",
      "gov/51687232_SPO-1041101.txt\n",
      "gov/51687242_10418.txt\n",
      "gov/51687248_1190400019.txt\n",
      "gov/51687251_104009.txt\n",
      "gov/51687254_cejh104-12.txt\n",
      "gov/51687266_104A08.txt\n",
      "gov/51687268_SDK0402003.txt\n",
      "gov/51687270_104-02-048.txt\n",
      "gov/51687274_102B055-2-105.txt\n",
      "gov/51687279_1040500311.txt\n",
      "gov/51687282_S104107.txt\n",
      "gov/51687285_AEC10410040L.txt\n",
      "gov/51687288_3410400304-S04120.txt\n",
      "gov/51687294_104L05.txt\n",
      "gov/51687297_HI05028P020.txt\n",
      "gov/51687302_1040903-2.txt\n",
      "gov/51687313_ndc104087.txt\n",
      "gov/51687331_wjes1041101.txt\n",
      "gov/51687334_E1041012-02.txt\n",
      "gov/51687337_104-e-07-E1102.txt\n",
      "gov/51687338_100001.txt\n",
      "gov/51687340_SZ104-151.txt\n",
      "gov/51687342_G65B-104106.txt\n",
      "gov/51687343_104-Y19.txt\n",
      "gov/51687350_1041702.txt\n",
      "gov/51687356_NL1041335.txt\n",
      "gov/51687367_1041B0023-1.txt\n",
      "gov/51687374_A1040624KH109AA.txt\n",
      "gov/51687384_10417-2.txt\n",
      "gov/51687385_104-hw-01.txt\n",
      "gov/51687386_1041028.txt\n",
      "gov/51687387_104-0220-1-060.txt\n",
      "gov/51687399_1041021001.txt\n",
      "gov/51687401_104812120B-1.txt\n",
      "gov/51687403_1040903-1.txt\n",
      "gov/51687418_scy1040005.txt\n",
      "gov/51687424_E1040930-01.txt\n",
      "gov/51687431_G65B-104102.txt\n",
      "gov/51687433_31588-a104029.txt\n",
      "gov/51687438_A1040674KH132MK.txt\n",
      "gov/51687440_EN04063P052.txt\n",
      "gov/51687443_0960400008.txt\n",
      "gov/51687448_104A01-1.txt\n",
      "gov/51687451_10416.txt\n",
      "gov/51687456_NCHC-S-104115.txt\n",
      "gov/51687459_1041103.txt\n",
      "gov/51687460_1040828-3.txt\n",
      "gov/51687475_104CJ-004.txt\n",
      "gov/51687484_G65B-104103.txt\n",
      "gov/51687485_1044E006.txt\n",
      "gov/51687494_IG104045.txt\n",
      "gov/51687495_EV05037P028.txt\n",
      "gov/51687496_10411003.txt\n",
      "gov/51687498_10411A.txt\n",
      "gov/51687501_104010.txt\n",
      "gov/51687503_3520400096.txt\n",
      "gov/51687511_CU-10419.txt\n",
      "gov/51687534_1040050158D.txt\n",
      "gov/51687537_104-0380-2-048.txt\n",
      "gov/51687541_10407.txt\n",
      "gov/51687542_1041111.txt\n",
      "gov/51687543_1041028.txt\n",
      "gov/51687561_1041002.txt\n",
      "gov/51687568_B1041020-01.txt\n",
      "gov/51687570_1012067-1.txt\n",
      "gov/51687571_EY04067P051.txt\n",
      "gov/51687575_104012.txt\n",
      "gov/51687590_1041023A05.txt\n",
      "gov/51687611_2C171041014-82.txt\n",
      "gov/51687622_104NV002.txt\n",
      "gov/51687623_1040029.txt\n",
      "gov/51687639_1042500889.txt\n",
      "gov/51687640_S104-03.txt\n",
      "gov/51687642_104087.txt\n",
      "gov/51687645_Ptswps1041105.txt\n",
      "gov/51687648_104187CF.txt\n",
      "gov/51687653_PD04177P651.txt\n",
      "gov/51687655_103B04P033-CCO01.txt\n",
      "gov/51687656_NTCLS104-030.txt\n",
      "gov/51687657_1041101.txt\n",
      "gov/51687661_10463331.txt\n",
      "gov/51687663_1040705.txt\n",
      "gov/583986_9105.txt\n",
      "gov/982342_9267.txt\n"
     ]
    }
   ],
   "source": [
    "import os\n",
    "path = 'gov/'\n",
    "os.listdir(path)\n",
    "for f in os.listdir(path):\n",
    "    print path + f"
   ]
  },
  {
   "cell_type": "code",
   "execution_count": 93,
   "metadata": {
    "collapsed": true
   },
   "outputs": [],
   "source": [
    "def insert_award_info (cur, data_dic, filename):\n",
    "    file_param=filename.split(\".txt\")[0].split(\"_\")\n",
    "    pkAtmMain=file_param[0]\n",
    "    data_dic['pkAtmMain']=pkAtmMain\n",
    "    columns = ', '.join(data_dic.keys())\n",
    "    placeholders = ', '.join('?' * len(data_dic))\n",
    "    sql = 'INSERT INTO Tender_awards ({}) VALUES ({})'.format(columns, placeholders)\t\n",
    "    cur.execute(sql, data_dic.values())"
   ]
  },
  {
   "cell_type": "code",
   "execution_count": 94,
   "metadata": {
    "collapsed": false
   },
   "outputs": [
    {
     "ename": "OperationalError",
     "evalue": "database is locked",
     "output_type": "error",
     "traceback": [
      "\u001b[1;31m---------------------------------------------------------------------------\u001b[0m",
      "\u001b[1;31mOperationalError\u001b[0m                          Traceback (most recent call last)",
      "\u001b[1;32m<ipython-input-94-57f37ad22585>\u001b[0m in \u001b[0;36m<module>\u001b[1;34m()\u001b[0m\n\u001b[0;32m     11\u001b[0m     \u001b[0mdic\u001b[0m \u001b[1;33m=\u001b[0m \u001b[0mget_award_info_dic\u001b[0m\u001b[1;33m(\u001b[0m\u001b[0melement\u001b[0m\u001b[1;33m)\u001b[0m\u001b[1;33m\u001b[0m\u001b[0m\n\u001b[0;32m     12\u001b[0m     \u001b[0minsert_award_info\u001b[0m\u001b[1;33m(\u001b[0m\u001b[0mcur\u001b[0m\u001b[1;33m,\u001b[0m \u001b[0mdic\u001b[0m\u001b[1;33m,\u001b[0m \u001b[0mf\u001b[0m\u001b[1;33m)\u001b[0m\u001b[1;33m\u001b[0m\u001b[0m\n\u001b[1;32m---> 13\u001b[1;33m     \u001b[0mcon\u001b[0m\u001b[1;33m.\u001b[0m\u001b[0mcommit\u001b[0m\u001b[1;33m(\u001b[0m\u001b[1;33m)\u001b[0m\u001b[1;33m\u001b[0m\u001b[0m\n\u001b[0m\u001b[0;32m     14\u001b[0m \u001b[0mcon\u001b[0m\u001b[1;33m.\u001b[0m\u001b[0mclose\u001b[0m\u001b[1;33m(\u001b[0m\u001b[1;33m)\u001b[0m\u001b[1;33m\u001b[0m\u001b[0m\n",
      "\u001b[1;31mOperationalError\u001b[0m: database is locked"
     ]
    }
   ],
   "source": [
    "import os\n",
    "import sqlite3\n",
    "\n",
    "sql = 'insert into Tender_awards ({}) values({})'\n",
    "con = sqlite3.connect(\"test.sqlite\") \n",
    "cur = con.cursor() \n",
    "path = 'gov/'\n",
    "os.listdir(path)\n",
    "for f in os.listdir(path):\n",
    "    element = get_response_element(path + f)\n",
    "    dic = get_award_info_dic(element)\n",
    "    insert_award_info(cur, dic, f)\n",
    "    con.commit()\n",
    "con.close()"
   ]
  },
  {
   "cell_type": "code",
   "execution_count": 107,
   "metadata": {
    "collapsed": false
   },
   "outputs": [
    {
     "name": "stdout",
     "output_type": "stream",
     "text": [
      "['a', 'b', 'c', 'a', 'b', 'd', 'e', 'b', 'b']\n",
      "['a', 'a', 'b', 'b', 'b', 'b', 'c', 'd', 'e']\n"
     ]
    }
   ],
   "source": [
    "s = ['a', 'b', 'c', 'a' ,'b', 'd', 'e', 'b', 'b']\n",
    "print s\n",
    "s.sort()\n",
    "print s\n",
    "#for ele in s"
   ]
  },
  {
   "cell_type": "markdown",
   "metadata": {},
   "source": [
    "### word count : method 1"
   ]
  },
  {
   "cell_type": "code",
   "execution_count": 110,
   "metadata": {
    "collapsed": false
   },
   "outputs": [
    {
     "name": "stdout",
     "output_type": "stream",
     "text": [
      "['a', 'a', 'b', 'b', 'b', 'b', 'c', 'd', 'e']\n",
      "a 2\n",
      "b 4\n",
      "c 1\n",
      "d 1\n",
      "e 1\n"
     ]
    }
   ],
   "source": [
    "s = ['a', 'b', 'c', 'a' ,'b', 'd', 'e', 'b', 'b']\n",
    "s.sort() # n * logn\n",
    "cur_word = ''\n",
    "cnt = 0 \n",
    "print s\n",
    "for ele in s: # n\n",
    "    if not cur_word == ele:\n",
    "        if cur_word != '':\n",
    "            print cur_word, cnt\n",
    "        cur_word = ele\n",
    "        cnt = 1\n",
    "    else:\n",
    "        cnt = cnt + 1\n",
    "print cur_word, cnt\n",
    "# n * log n + n    "
   ]
  },
  {
   "cell_type": "markdown",
   "metadata": {},
   "source": [
    "### word count : method 2"
   ]
  },
  {
   "cell_type": "code",
   "execution_count": 113,
   "metadata": {
    "collapsed": false
   },
   "outputs": [
    {
     "name": "stdout",
     "output_type": "stream",
     "text": [
      "['a', 'b', 'c', 'a', 'b', 'd', 'e', 'b', 'b']\n",
      "{'a': 2, 'c': 1, 'b': 4, 'e': 1, 'd': 1}\n"
     ]
    }
   ],
   "source": [
    "s = ['a', 'b', 'c', 'a' ,'b', 'd', 'e', 'b', 'b']\n",
    "print s\n",
    "\n",
    "dic = {}\n",
    "for ele in s: # n\n",
    "    if not ele in dic:\n",
    "        dic[ele] = 1\n",
    "    else:\n",
    "        dic[ele] = dic[ele] + 1\n",
    "print dic\n",
    "# n"
   ]
  },
  {
   "cell_type": "code",
   "execution_count": 2,
   "metadata": {
    "collapsed": false
   },
   "outputs": [
    {
     "data": {
      "text/plain": [
       "0.00011180059835921322"
      ]
     },
     "execution_count": 2,
     "metadata": {},
     "output_type": "execute_result"
    }
   ],
   "source": [
    "import time\n",
    "tic = time.clock()\n",
    "toc = time.clock()\n",
    "toc - tic"
   ]
  },
  {
   "cell_type": "code",
   "execution_count": 9,
   "metadata": {
    "collapsed": false
   },
   "outputs": [
    {
     "name": "stdout",
     "output_type": "stream",
     "text": [
      "20.9753158744\n"
     ]
    }
   ],
   "source": [
    "s = range(1,100000000)\n",
    "tic = time.clock()\n",
    "s.sort() # n * logn\n",
    "cur_word = ''\n",
    "cnt = 0 \n",
    "#print s\n",
    "for ele in s: # n\n",
    "    if not cur_word == ele:\n",
    "        if cur_word != '':\n",
    "            pass\n",
    "            #print cur_word, cnt\n",
    "        cur_word = ele\n",
    "        cnt = 1\n",
    "    else:\n",
    "        cnt = cnt + 1\n",
    "#print cur_word, cnt\n",
    "toc = time.clock()\n",
    "print toc - tic"
   ]
  },
  {
   "cell_type": "code",
   "execution_count": 10,
   "metadata": {
    "collapsed": false
   },
   "outputs": [
    {
     "name": "stdout",
     "output_type": "stream",
     "text": [
      "19.7100651879\n"
     ]
    }
   ],
   "source": [
    "s = range(1,100000000)\n",
    "tic = time.clock()\n",
    "dic = {}\n",
    "for ele in s: # n\n",
    "    if not ele in dic:\n",
    "        dic[ele] = 1\n",
    "    else:\n",
    "        dic[ele] = dic[ele] + 1\n",
    "toc = time.clock()\n",
    "print toc - tic\n",
    "#print dic"
   ]
  },
  {
   "cell_type": "code",
   "execution_count": 11,
   "metadata": {
    "collapsed": true
   },
   "outputs": [],
   "source": [
    "import sqlite3 as lite\n",
    "\n",
    "salary = (\n",
    "    (1 ,          'Paul'  ,      32 ,         'California',  20000),\n",
    "    (2 ,          'Allen' ,      25 ,         'Texas'     ,  15000),\n",
    "    (3 ,          'Teddy' ,      23 ,         'Norway'    ,  20000),\n",
    "    (4 ,          'Mark'  ,      25 ,         'Rich-Mond' ,  65000),\n",
    "    (5 ,          'David' ,      27 ,         'Texas'     ,  85000),\n",
    "    (6 ,          'Kim'   ,      22 ,         'South-Hall',  45000),\n",
    "    (7 ,          'James' ,      24 ,         'Houston'   ,  10000)\n",
    ")\n",
    "department = (\n",
    "(1,           'IT Billing'  ,1),\n",
    "(2,           'Engineerin'  ,2),\n",
    "(3,           'Finance'     ,7),\n",
    "(4,           'Finance'     ,5),\n",
    "(5,           'Finance'     ,6)\n",
    "\n",
    ")"
   ]
  },
  {
   "cell_type": "code",
   "execution_count": 13,
   "metadata": {
    "collapsed": false
   },
   "outputs": [
    {
     "name": "stdout",
     "output_type": "stream",
     "text": [
      "['__add__', '__class__', '__contains__', '__delattr__', '__delitem__', '__delslice__', '__doc__', '__eq__', '__format__', '__ge__', '__getattribute__', '__getitem__', '__getslice__', '__gt__', '__hash__', '__iadd__', '__imul__', '__init__', '__iter__', '__le__', '__len__', '__lt__', '__mul__', '__ne__', '__new__', '__reduce__', '__reduce_ex__', '__repr__', '__reversed__', '__rmul__', '__setattr__', '__setitem__', '__setslice__', '__sizeof__', '__str__', '__subclasshook__', 'append', 'count', 'extend', 'index', 'insert', 'pop', 'remove', 'reverse', 'sort']\n",
      "['__add__', '__class__', '__contains__', '__delattr__', '__doc__', '__eq__', '__format__', '__ge__', '__getattribute__', '__getitem__', '__getnewargs__', '__getslice__', '__gt__', '__hash__', '__init__', '__iter__', '__le__', '__len__', '__lt__', '__mul__', '__ne__', '__new__', '__reduce__', '__reduce_ex__', '__repr__', '__rmul__', '__setattr__', '__sizeof__', '__str__', '__subclasshook__', 'count', 'index']\n"
     ]
    }
   ],
   "source": [
    "a = [1,2,3]\n",
    "b = (1,2,3)\n",
    "print dir(a)\n",
    "print dir(b)"
   ]
  },
  {
   "cell_type": "code",
   "execution_count": 12,
   "metadata": {
    "collapsed": true
   },
   "outputs": [],
   "source": [
    "con = lite.connect('test.sqlite')\n",
    "\n",
    "with con:\n",
    "    \n",
    "    cur = con.cursor()    \n",
    "    \n",
    "    cur.execute(\"DROP TABLE IF EXISTS Salary\")\n",
    "    cur.execute(\"DROP TABLE IF EXISTS Department\")\n",
    "    \n",
    "    cur.execute(\"CREATE TABLE Salary(ID INT, NAME TEXT, AGE INT, ADDRESS TEXT, SALARY INT, FOREIGN KEY(ID) REFERENCES QOO(EMP_ID))\")\n",
    "    cur.executemany(\"INSERT INTO Salary VALUES(?, ?, ?, ?, ?)\", salary)\n",
    "    \n",
    "    cur.execute(\"CREATE TABLE Department(ID INT PRIMARY KEY, DEPT CHAR(50), EMP_ID INT)\")\n",
    "    cur.executemany(\"INSERT INTO Department VALUES(?, ?, ?)\", department)\n",
    "con.close() "
   ]
  },
  {
   "cell_type": "code",
   "execution_count": 16,
   "metadata": {
    "collapsed": false
   },
   "outputs": [
    {
     "name": "stdout",
     "output_type": "stream",
     "text": [
      "4.0039999485\n",
      "(1000000,)\n"
     ]
    }
   ],
   "source": [
    "import time\n",
    "dbname = 'test.sqlite'\n",
    "con = lite.connect(dbname)\n",
    "\n",
    "with con:\n",
    "    \n",
    "    cur = con.cursor()        \n",
    "    cur.execute(\"DROP TABLE IF EXISTS ptest\")\n",
    "    cur.execute(\"CREATE TABLE ptest(ID INT)\")\n",
    "    start = time.time()\n",
    "    for i in range(0,1000000):\n",
    "        cur.execute(\"INSERT INTO ptest VALUES(%s)\"%(i))\n",
    "    end = time.time()\n",
    "    print end -start\n",
    "    cur.execute(\"select count(1) from ptest\")\n",
    "    rows = cur.fetchone()\n",
    "    print rows\n",
    "\n",
    "con.close() "
   ]
  },
  {
   "cell_type": "code",
   "execution_count": 17,
   "metadata": {
    "collapsed": false
   },
   "outputs": [
    {
     "name": "stdout",
     "output_type": "stream",
     "text": [
      "0.868999958038\n",
      "(1000000,)\n"
     ]
    }
   ],
   "source": [
    "dbname = 'test.sqlite'\n",
    "con = lite.connect(dbname)\n",
    "with con:\n",
    "    \n",
    "    cur = con.cursor()    \n",
    "    \n",
    "    cur.execute(\"DROP TABLE IF EXISTS ptest\")\n",
    "    cur.execute(\"CREATE TABLE ptest(ID INT)\")\n",
    "    start = time.time()\n",
    "    cur.executemany(\"INSERT INTO ptest VALUES(?)\",((id_, ) for id_ in xrange(1000000)))\n",
    "    end = time.time()\n",
    "    print end - start\n",
    "    cur.execute(\"select count(1) from ptest\")\n",
    "    rows = cur.fetchone()\n",
    "    print rows\n",
    "\n",
    "con.close() "
   ]
  },
  {
   "cell_type": "code",
   "execution_count": 21,
   "metadata": {
    "collapsed": false
   },
   "outputs": [
    {
     "name": "stdout",
     "output_type": "stream",
     "text": [
      "(u'0928375018', u'Tokyo Japan', u'MuMu Cat', 9)\n"
     ]
    }
   ],
   "source": [
    "con = lite.connect('test.sqlite')\n",
    "\n",
    "Phone = '0928375018'\n",
    "Age = 9 \n",
    "\n",
    "with con:\n",
    "\n",
    "    cur = con.cursor()    \n",
    "    cur.execute(\"select * from PhoneAddress\") \n",
    "    rows = cur.fetchall()\n",
    "\n",
    "    #for row in rows:\n",
    "    #    print row\n",
    "    cur.execute(\"UPDATE PhoneAddress SET age=? WHERE phone=?\", (Age, Phone))        \n",
    "    con.commit()\n",
    "    #con.rollback()\n",
    "    \n",
    "    cur.execute(\"select * from PhoneAddress where phone=?\", (Phone,)) \n",
    "    rows = cur.fetchall()\n",
    "\n",
    "    for row in rows:\n",
    "        print row\n",
    "con.close() "
   ]
  },
  {
   "cell_type": "code",
   "execution_count": null,
   "metadata": {
    "collapsed": true
   },
   "outputs": [],
   "source": []
  }
 ],
 "metadata": {
  "kernelspec": {
   "display_name": "Python 2",
   "language": "python",
   "name": "python2"
  },
  "language_info": {
   "codemirror_mode": {
    "name": "ipython",
    "version": 2
   },
   "file_extension": ".py",
   "mimetype": "text/x-python",
   "name": "python",
   "nbconvert_exporter": "python",
   "pygments_lexer": "ipython2",
   "version": "2.7.11"
  }
 },
 "nbformat": 4,
 "nbformat_minor": 0
}
