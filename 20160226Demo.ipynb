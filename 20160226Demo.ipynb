{
 "cells": [
  {
   "cell_type": "code",
   "execution_count": 1,
   "metadata": {
    "collapsed": false
   },
   "outputs": [
    {
     "name": "stdout",
     "output_type": "stream",
     "text": [
      "True\n"
     ]
    }
   ],
   "source": [
    "a = 'apple'\n",
    "print a == 'apple'"
   ]
  },
  {
   "cell_type": "code",
   "execution_count": null,
   "metadata": {
    "collapsed": true
   },
   "outputs": [],
   "source": [
    "a = \"Hi my name is David, and my phone number is 0912345678\"\n",
    "b = \"Hi my name is Mary, and my age is 28\""
   ]
  },
  {
   "cell_type": "code",
   "execution_count": 3,
   "metadata": {
    "collapsed": false
   },
   "outputs": [
    {
     "name": "stdout",
     "output_type": "stream",
     "text": [
      "0912345678\n",
      "0923-451-192\n",
      "0912-111222\n"
     ]
    }
   ],
   "source": [
    "a = ['0912345678', '0923-451-192', '0912-111222', '029310319301', '0912312318231310893010']\n",
    "\n",
    "import re\n",
    "for ele in a:\n",
    "    m = re.match('^\\d{4}-?\\d{3}-?\\d{3}$', ele)\n",
    "    if m:\n",
    "        print ele"
   ]
  },
  {
   "cell_type": "markdown",
   "metadata": {},
   "source": [
    "## 比對單一英文字母"
   ]
  },
  {
   "cell_type": "code",
   "execution_count": 5,
   "metadata": {
    "collapsed": false
   },
   "outputs": [
    {
     "name": "stdout",
     "output_type": "stream",
     "text": [
      "<_sre.SRE_Match object at 0x0000000003A3AB28>\n",
      "None\n"
     ]
    }
   ],
   "source": [
    "word = 'a'\n",
    "m = re.match('a', word) # match word\n",
    "print m\n",
    "m = re.match('b', word) # match none\n",
    "print m"
   ]
  },
  {
   "cell_type": "code",
   "execution_count": 6,
   "metadata": {
    "collapsed": false
   },
   "outputs": [
    {
     "name": "stdout",
     "output_type": "stream",
     "text": [
      "<_sre.SRE_Match object at 0x0000000003A3AB28>\n"
     ]
    }
   ],
   "source": [
    "word = 'z'\n",
    "m = re.match('[acz]', word) # match word a or c or z, word in [] is in OR relation\n",
    "print m"
   ]
  },
  {
   "cell_type": "code",
   "execution_count": 21,
   "metadata": {
    "collapsed": false
   },
   "outputs": [
    {
     "name": "stdout",
     "output_type": "stream",
     "text": [
      "<_sre.SRE_Match object at 0x0000000003ABB7E8>\n",
      "<_sre.SRE_Match object at 0x0000000003ABB718>\n",
      "None\n",
      "<_sre.SRE_Match object at 0x0000000003ABB718>\n",
      "<_sre.SRE_Match object at 0x0000000003ABB7E8>\n"
     ]
    }
   ],
   "source": [
    "word = 'z'\n",
    "m = re.match('[abcdefghijklmnopqrstuvwxyz]', word)\n",
    "print m\n",
    "m = re.match('[a-z]', word) # [a-z] == [abcdefghijklmnopqrstuvwxyz]\n",
    "print m\n",
    "word = 'Z'\n",
    "m = re.match('[a-z]', word) # [a-z] == [abcdefghijklmnopqrstuvwxyz]\n",
    "print m\n",
    "m = re.match('[A-Z]', word) # [A-Z]\n",
    "print m\n",
    "m = re.match('[a-zA-Z]', word) # [A-Z]\n",
    "print m"
   ]
  },
  {
   "cell_type": "markdown",
   "metadata": {},
   "source": [
    "## 比對單一數字"
   ]
  },
  {
   "cell_type": "code",
   "execution_count": 14,
   "metadata": {
    "collapsed": false
   },
   "outputs": [
    {
     "name": "stdout",
     "output_type": "stream",
     "text": [
      "8\n",
      "8\n",
      "8\n"
     ]
    }
   ],
   "source": [
    "n= '8'\n",
    "print n if re.match('8', n) else None # match 8 \n",
    "print n if re.match('[0123456789]', n) else None # match either numeric\n",
    "print n if re.match('[0-9]', n) else None # match either numeric"
   ]
  },
  {
   "cell_type": "markdown",
   "metadata": {},
   "source": [
    "## 比對多個文字 (固定長度)"
   ]
  },
  {
   "cell_type": "code",
   "execution_count": 23,
   "metadata": {
    "collapsed": false
   },
   "outputs": [
    {
     "name": "stdout",
     "output_type": "stream",
     "text": [
      "['1122-AB', '2222-QQ', '3333-QG', '3A4B-1L', '12345-AAA']\n",
      "['1122-AB', '2222-QQ', '3333-QG']\n",
      "['1122-AB', '2222-QQ', '3333-QG', '12345-AAA']\n"
     ]
    }
   ],
   "source": [
    "carid = ['1122-AB', '2222-QQ', '3333-QG', 'A92B-12', '3A4B-1L', '12345-AAA'] # the first three are true carid\n",
    "print [ ele  for ele in carid if re.match('[0-9]', ele)] # anything that has a numeric as initial word \n",
    "print [ ele  for ele in carid if re.match('[0-9]{4}-[A-Z]{2}', ele)] # anything that matches to NNNN-AA\n",
    "print [ ele  for ele in carid if re.match('[0-9]{4,5}-[A-Z]{2,3}', ele)] # anything that matches to NNNN-AA"
   ]
  },
  {
   "cell_type": "markdown",
   "metadata": {},
   "source": [
    "## 比對多個文字 (不固定長度 e.g. EMAIL)"
   ]
  },
  {
   "cell_type": "code",
   "execution_count": 29,
   "metadata": {
    "collapsed": false
   },
   "outputs": [
    {
     "name": "stdout",
     "output_type": "stream",
     "text": [
      "['qoo@cocacola.com']\n",
      "['qoo@cocacola.com']\n",
      "['qoo@cocacola.com', 'acool123@pchome.com.tw']\n",
      "['qoo@cocacola.com', 'anonymous@111.22', 'acool123@pchome.com.tw']\n"
     ]
    }
   ],
   "source": [
    "email = ['qoo@cocacola.com', 'anonymous@111.22', '13u1udhfgiudhi-sldfjsdjfos', 'acool123@pchome.com.tw']\n",
    "print [ ele  for ele in email if re.match('[a-zA-Z]{1,}@[a-z]{0,}\\.com', ele)] # anything that matchs *@*.com\n",
    "print [ ele  for ele in email if re.match('[a-zA-Z]+@[a-z]*\\.com', ele)] # {1,} == +,  {0,} == *\n",
    "print [ ele  for ele in email if re.match('[a-zA-Z0-9]+@[a-zA-Z.]+', ele)] \n",
    "print [ ele  for ele in email if re.match('\\w+@.+', ele)]  # [a-zA-Z0-9] == \\w, anything == ."
   ]
  },
  {
   "cell_type": "markdown",
   "metadata": {},
   "source": [
    "## 比對電話號碼"
   ]
  },
  {
   "cell_type": "code",
   "execution_count": 34,
   "metadata": {
    "collapsed": false
   },
   "outputs": [
    {
     "name": "stdout",
     "output_type": "stream",
     "text": [
      "['0912345678', '0923-451-192', '0912-111222', '029310319301', '0912312318231310893010']\n",
      "['0912345678', '0923-451-192', '0912-111222', '0912312318231310893010']\n",
      "['0912345678', '0923-451-192', '0912-111222', '0912312318231310893010']\n"
     ]
    }
   ],
   "source": [
    "phone = ['0912345678', '0923-451-192', '0912-111222', '029310319301', '0912312318231310893010']\n",
    "print [ ele  for ele in phone if re.match('[0-9]+', ele)] \n",
    "print [ ele  for ele in phone if re.match('09[0-9]{2}-{0,1}[0-9]{3}-{0,1}[0-9]{3}', ele)] \n",
    "print [ ele  for ele in phone if re.match('09[0-9]{2}-?[0-9]{3}-?[0-9]{3}', ele)] # {0,1} == ?\n",
    "print [ ele  for ele in phone if re.match('09\\d{2}-?\\d{3}-?\\d{3}', ele)] # [0-9] == \\d, [a-zA-Z0-9] == \\w"
   ]
  },
  {
   "cell_type": "code",
   "execution_count": 66,
   "metadata": {
    "collapsed": false
   },
   "outputs": [
    {
     "name": "stdout",
     "output_type": "stream",
     "text": [
      "0912345678\n"
     ]
    },
    {
     "ename": "AttributeError",
     "evalue": "'NoneType' object has no attribute 'group'",
     "output_type": "error",
     "traceback": [
      "\u001b[1;31m---------------------------------------------------------------------------\u001b[0m",
      "\u001b[1;31mAttributeError\u001b[0m                            Traceback (most recent call last)",
      "\u001b[1;32m<ipython-input-66-7488a6eef5de>\u001b[0m in \u001b[0;36m<module>\u001b[1;34m()\u001b[0m\n\u001b[0;32m      2\u001b[0m \u001b[1;32mfor\u001b[0m \u001b[0mele\u001b[0m \u001b[1;32min\u001b[0m \u001b[0mphone\u001b[0m\u001b[1;33m:\u001b[0m\u001b[1;33m\u001b[0m\u001b[0m\n\u001b[0;32m      3\u001b[0m     \u001b[0mm\u001b[0m \u001b[1;33m=\u001b[0m \u001b[0mre\u001b[0m\u001b[1;33m.\u001b[0m\u001b[0mmatch\u001b[0m\u001b[1;33m(\u001b[0m\u001b[1;34m'(^[0-9]+$)'\u001b[0m\u001b[1;33m,\u001b[0m \u001b[0mele\u001b[0m\u001b[1;33m)\u001b[0m\u001b[1;33m\u001b[0m\u001b[0m\n\u001b[1;32m----> 4\u001b[1;33m     \u001b[1;32mprint\u001b[0m \u001b[0mm\u001b[0m\u001b[1;33m.\u001b[0m\u001b[0mgroup\u001b[0m\u001b[1;33m(\u001b[0m\u001b[1;36m1\u001b[0m\u001b[1;33m)\u001b[0m\u001b[1;33m\u001b[0m\u001b[0m\n\u001b[0m\u001b[0;32m      5\u001b[0m \u001b[1;33m\u001b[0m\u001b[0m\n",
      "\u001b[1;31mAttributeError\u001b[0m: 'NoneType' object has no attribute 'group'"
     ]
    }
   ],
   "source": [
    "phone = ['0912345678', '0923-451-192', '0912-111222', '029310319301', '0912312318231310893010']\n",
    "for ele in phone: \n",
    "    m = re.match('(^[0-9]+$)', ele)\n",
    "    print m.group(1)\n",
    "        "
   ]
  },
  {
   "cell_type": "markdown",
   "metadata": {},
   "source": [
    "## 開頭與結尾比對"
   ]
  },
  {
   "cell_type": "code",
   "execution_count": 37,
   "metadata": {
    "collapsed": false
   },
   "outputs": [
    {
     "name": "stdout",
     "output_type": "stream",
     "text": [
      "['Jones', 'Johnson', 'Jenny']\n",
      "['Amy', 'Jenny']\n"
     ]
    }
   ],
   "source": [
    "name = ['David', 'Jones', 'Amy', 'Linda', 'Johnson', 'Jenny']\n",
    "print [ ele  for ele in name if re.match('^J\\w+', ele)] # use ^ to match any begin word\n",
    "print [ ele  for ele in name if re.match('\\w+y$', ele)] # use $ to match any end word"
   ]
  },
  {
   "cell_type": "markdown",
   "metadata": {},
   "source": [
    "## 電話比對完整版"
   ]
  },
  {
   "cell_type": "code",
   "execution_count": 38,
   "metadata": {
    "collapsed": false
   },
   "outputs": [
    {
     "name": "stdout",
     "output_type": "stream",
     "text": [
      "['0912345678', '0923-451-192', '0912-111222']\n"
     ]
    }
   ],
   "source": [
    "phone = ['0912345678', '0923-451-192', '0912-111222', '029310319301', '0912312318231310893010']\n",
    "print [ ele  for ele in phone if re.match('^09\\d{2}-?\\d{3}-?\\d{3}$', ele)]"
   ]
  },
  {
   "cell_type": "markdown",
   "metadata": {},
   "source": [
    "## 資料抽取"
   ]
  },
  {
   "cell_type": "code",
   "execution_count": 43,
   "metadata": {
    "collapsed": false
   },
   "outputs": [
    {
     "name": "stdout",
     "output_type": "stream",
     "text": [
      "qoo@cocacola.com\n",
      "qoo cocacola.com\n",
      "anonymous@111.22\n",
      "anonymous 111.22\n",
      "acool123@pchome.com.tw\n",
      "acool123 pchome.com.tw\n"
     ]
    }
   ],
   "source": [
    "email = ['qoo@cocacola.com', 'anonymous@111.22', '13u1udhfgiudhi-sldfjsdjfos', 'acool123@pchome.com.tw']\n",
    "for ele in email:\n",
    "    m = re.match('(\\w+)@(.+)', ele)  # use () to match group \n",
    "    if m:\n",
    "        #print m.group(1), m.group(2) \n",
    "        #print m.group(0) # group(0) print everything\n",
    "        username, hostname = m.group(1), m.group(2) \n",
    "        print username, hostname"
   ]
  },
  {
   "cell_type": "code",
   "execution_count": 48,
   "metadata": {
    "collapsed": false
   },
   "outputs": [
    {
     "name": "stdout",
     "output_type": "stream",
     "text": [
      "qoo cocacola.com\n",
      "anonymous 111.22\n",
      "acool123 pchome.com.tw\n"
     ]
    }
   ],
   "source": [
    "for ele in email:\n",
    "    m = re.match('(?P<username>\\w+)@(?P<hostname>.+)', ele)  # ?P<name>, can user group('name') to extract element\n",
    "    if m:\n",
    "        print m.group('username'), m.group('hostname')"
   ]
  },
  {
   "cell_type": "code",
   "execution_count": 52,
   "metadata": {
    "collapsed": false
   },
   "outputs": [
    {
     "name": "stdout",
     "output_type": "stream",
     "text": [
      "【更新】柯建銘與徐永明互槓　蘇嘉全：可能... 2926\n",
      "《財訊》霸氣郭台銘下苦工 柔軟攻克日本防... 0\n",
      "助基督教會維權　北京律師被迫上電視認罪 0\n",
      "聯結車與自小客國道相撞　2死1傷 39497\n",
      "「哇嗯係大摳呆！」　達比修澄清身上是肌肉... 0\n",
      "外資加碼台股　上調目標指數至9000點 0\n",
      "呼應轉型正義　楊偉中：國民黨捐黨產賠償受... 35\n",
      "【有片】基隆港住四十年　海面驚見牠好驚喜 1188\n",
      "鴻夏戀若成功　張盛和：有助對抗紅潮 78\n",
      "【網路溫度計】2016台灣燈會在桃園！十... 121\n",
      "卓冠廷戀洪慈庸　卓爸：媒體曝光才知道 1205\n",
      "女遭5少年輪流性侵的真相　竟是父女亂倫 2763\n",
      "她抱怨碰到麻煩事！「有個女孩超想變成我」 1053\n",
      "【民報】國際特赦組織：70年來最凜洌的人... 375\n",
      "柯P比任何人還會騙？網友神比喻超貼切 2720\n",
      "蔡英文訪電廠　白天開燈省能源？ 1467\n",
      "果然大咖！　他練投　教練下令清場！ 2011\n",
      "【法廣RFI】美軍上將： 北京可能事實掌... 1170\n",
      "綠委提3千元兒少津貼　陳威仁：民進黨執政... 1228\n",
      "【更新】美堪薩斯驚傳槍擊案　至少4死30... 12692\n",
      "國民黨主席補選4人登記　今公布通過連署人... 613\n",
      "張國煒今日持續未現身長榮總部 1119\n",
      "【法廣RFI】安理會將採取空前措施制裁朝... 492\n",
      "基隆駕訓班傳命案　女遭鐵捲門壓死 6890\n",
      "王毅盼台尊重憲政　張善政：我們的憲法沒問... 1262\n",
      "男拿小黃瓜塞洞塞口　「小三」窒息死 5575\n",
      "【法廣RFI】制裁平壤：朝鮮設施將被定期... 371\n",
      "賈納春訓慢慢練　改教田中將大如何當爸爸 728\n",
      "【國際為什麼】中國政壇年度大拜拜 1215\n",
      "【法廣RFI】20國集團財長聚滬 陸貨幣... 307\n"
     ]
    }
   ],
   "source": [
    "import requests\n",
    "from bs4 import BeautifulSoup as bs\n",
    "import re\n",
    "\n",
    "res = requests.get('http://www.appledaily.com.tw/realtimenews/section/new/')\n",
    "soup = bs(res.text)\n",
    "for entry in soup.select('.rtddt a'):\n",
    "    m = re.match('(?P<title>.*)\\((?P<popularity>\\d+)\\)',entry.select('h1')[0].text)\n",
    "    print m.group('title'), m.group('popularity')\n"
   ]
  },
  {
   "cell_type": "code",
   "execution_count": 57,
   "metadata": {
    "collapsed": true
   },
   "outputs": [],
   "source": [
    "import requests\n",
    "from bs4 import BeautifulSoup as bs\n",
    "import re\n",
    "import pandas as pd\n",
    "res = requests.get('http://www.appledaily.com.tw/realtimenews/section/new/')\n",
    "soup = bs(res.text)\n",
    "news_list = []\n",
    "for entry in soup.select('.rtddt a'):\n",
    "    m = re.match('(?P<title>.*)\\((?P<popularity>\\d+)\\)',entry.select('h1')[0].text)\n",
    "    news_list.append( {'title':m.group('title'), 'popularity':int(m.group('popularity'))})"
   ]
  },
  {
   "cell_type": "code",
   "execution_count": 63,
   "metadata": {
    "collapsed": false
   },
   "outputs": [
    {
     "name": "stderr",
     "output_type": "stream",
     "text": [
      "C:\\Users\\BIG DATA\\Anaconda2\\lib\\site-packages\\ipykernel\\__main__.py:3: FutureWarning: sort(columns=....) is deprecated, use sort_values(by=.....)\n",
      "  app.launch_new_instance()\n"
     ]
    },
    {
     "data": {
      "text/html": [
       "<div>\n",
       "<table border=\"1\" class=\"dataframe\">\n",
       "  <thead>\n",
       "    <tr style=\"text-align: right;\">\n",
       "      <th></th>\n",
       "      <th>popularity</th>\n",
       "      <th>title</th>\n",
       "    </tr>\n",
       "  </thead>\n",
       "  <tbody>\n",
       "    <tr>\n",
       "      <th>2</th>\n",
       "      <td>119679</td>\n",
       "      <td>蔡依林翻糖神乎奇技　細膩直逼3D列印</td>\n",
       "    </tr>\n",
       "    <tr>\n",
       "      <th>1</th>\n",
       "      <td>77436</td>\n",
       "      <td>是真愛啊！49歲港姐尋回初戀　攜兒3嫁</td>\n",
       "    </tr>\n",
       "    <tr>\n",
       "      <th>29</th>\n",
       "      <td>58355</td>\n",
       "      <td>潘慧如入住恐怖民宿　跳蚤陪睡蓋尿被</td>\n",
       "    </tr>\n",
       "    <tr>\n",
       "      <th>3</th>\n",
       "      <td>42899</td>\n",
       "      <td>【圖解新聞】這些人一輩子沒胖過</td>\n",
       "    </tr>\n",
       "    <tr>\n",
       "      <th>12</th>\n",
       "      <td>26888</td>\n",
       "      <td>在美國工作比較好？　矽谷工程師惆悵回顧</td>\n",
       "    </tr>\n",
       "  </tbody>\n",
       "</table>\n",
       "</div>"
      ],
      "text/plain": [
       "    popularity                title\n",
       "2       119679   蔡依林翻糖神乎奇技　細膩直逼3D列印\n",
       "1        77436  是真愛啊！49歲港姐尋回初戀　攜兒3嫁\n",
       "29       58355    潘慧如入住恐怖民宿　跳蚤陪睡蓋尿被\n",
       "3        42899      【圖解新聞】這些人一輩子沒胖過\n",
       "12       26888  在美國工作比較好？　矽谷工程師惆悵回顧"
      ]
     },
     "execution_count": 63,
     "metadata": {},
     "output_type": "execute_result"
    }
   ],
   "source": [
    "df  = pd.DataFrame(news_list)\n",
    "df.head(10)\n",
    "df.sort(['popularity'], ascending=False).head()"
   ]
  },
  {
   "cell_type": "code",
   "execution_count": 82,
   "metadata": {
    "collapsed": false
   },
   "outputs": [
    {
     "name": "stdout",
     "output_type": "stream",
     "text": [
      "1\n",
      "2\n",
      "3\n",
      "4\n",
      "5\n",
      "6\n",
      "7\n",
      "8\n",
      "9\n",
      "10\n",
      "11\n",
      "12\n",
      "13\n",
      "14\n",
      "15\n",
      "16\n",
      "17\n",
      "18\n",
      "19\n",
      "20\n",
      "21\n",
      "22\n",
      "23\n",
      "24\n",
      "25\n",
      "26\n",
      "27\n",
      "28\n",
      "29\n",
      "30\n"
     ]
    }
   ],
   "source": [
    "import requests\n",
    "from bs4 import BeautifulSoup as bs\n",
    "import re\n",
    "import pandas as pd\n",
    "news_list = []\n",
    "for page in xrange(1,31):\n",
    "    res = requests.get('http://www.appledaily.com.tw/realtimenews/section/new/' + str(page))\n",
    "    print page\n",
    "    soup = bs(res.text)\n",
    "    for entry in soup.select('.rtddt a'):\n",
    "        #print entry.select('h2')[0].text\n",
    "        m = re.match('(?P<title>.*)\\((?P<popularity>\\d+)\\)',entry.select('h1')[0].text)\n",
    "        category = entry.select('h2')[0].text\n",
    "        news_list.append( {'title':m.group('title'), 'popularity':int(m.group('popularity')), 'category':category})"
   ]
  },
  {
   "cell_type": "code",
   "execution_count": 83,
   "metadata": {
    "collapsed": false
   },
   "outputs": [
    {
     "name": "stderr",
     "output_type": "stream",
     "text": [
      "C:\\Users\\BIG DATA\\Anaconda2\\lib\\site-packages\\ipykernel\\__main__.py:5: FutureWarning: sort(columns=....) is deprecated, use sort_values(by=.....)\n"
     ]
    },
    {
     "data": {
      "text/html": [
       "<div>\n",
       "<table border=\"1\" class=\"dataframe\">\n",
       "  <thead>\n",
       "    <tr style=\"text-align: right;\">\n",
       "      <th></th>\n",
       "      <th>category</th>\n",
       "      <th>popularity</th>\n",
       "      <th>title</th>\n",
       "    </tr>\n",
       "  </thead>\n",
       "  <tbody>\n",
       "    <tr>\n",
       "      <th>474</th>\n",
       "      <td>社會</td>\n",
       "      <td>278848</td>\n",
       "      <td>【影片曝光】北市補丁馬路害命　騎士突摔遭...</td>\n",
       "    </tr>\n",
       "    <tr>\n",
       "      <th>437</th>\n",
       "      <td>社會</td>\n",
       "      <td>275283</td>\n",
       "      <td>【獨家】扯爆！　國中女竟為WiFi賣身</td>\n",
       "    </tr>\n",
       "    <tr>\n",
       "      <th>796</th>\n",
       "      <td>政治</td>\n",
       "      <td>272844</td>\n",
       "      <td>20世紀前9大殺人魔王　第4名在台灣</td>\n",
       "    </tr>\n",
       "    <tr>\n",
       "      <th>797</th>\n",
       "      <td>社會</td>\n",
       "      <td>269405</td>\n",
       "      <td>【更新】燈會上演皮影活春宮　女主角正面曝...</td>\n",
       "    </tr>\n",
       "    <tr>\n",
       "      <th>380</th>\n",
       "      <td>社會</td>\n",
       "      <td>243288</td>\n",
       "      <td>【更新】12歲女童染性病　案情竟然超展開</td>\n",
       "    </tr>\n",
       "  </tbody>\n",
       "</table>\n",
       "</div>"
      ],
      "text/plain": [
       "    category  popularity                    title\n",
       "474       社會      278848  【影片曝光】北市補丁馬路害命　騎士突摔遭...\n",
       "437       社會      275283      【獨家】扯爆！　國中女竟為WiFi賣身\n",
       "796       政治      272844       20世紀前9大殺人魔王　第4名在台灣\n",
       "797       社會      269405  【更新】燈會上演皮影活春宮　女主角正面曝...\n",
       "380       社會      243288     【更新】12歲女童染性病　案情竟然超展開"
      ]
     },
     "execution_count": 83,
     "metadata": {},
     "output_type": "execute_result"
    }
   ],
   "source": [
    "df  = pd.DataFrame(news_list)\n",
    "df.head()\n",
    "df.head(10)\n",
    "#df.head()\n",
    "df.sort(['popularity'], ascending=False).head()"
   ]
  },
  {
   "cell_type": "code",
   "execution_count": 87,
   "metadata": {
    "collapsed": false
   },
   "outputs": [
    {
     "name": "stdout",
     "output_type": "stream",
     "text": [
      "category\n",
      "國際    1315696\n",
      "財經    1230035\n",
      "生活    1420942\n",
      "政治    1531724\n",
      "體育     323974\n",
      "娛樂    1693363\n",
      "搜奇     788211\n",
      "社會    3214383\n",
      "時尚     209438\n",
      "地產      64372\n",
      "論壇     140545\n",
      "3C     137069\n",
      "動物      88052\n",
      "正妹      36263\n",
      "Name: popularity, dtype: int64 category\n",
      "國際    201\n",
      "財經    132\n",
      "生活    128\n",
      "政治     81\n",
      "體育     48\n",
      "娛樂     56\n",
      "搜奇     38\n",
      "社會    101\n",
      "時尚     18\n",
      "地產     18\n",
      "論壇     39\n",
      "3C     22\n",
      "動物     16\n",
      "正妹      2\n",
      "Name: popularity, dtype: int64\n"
     ]
    }
   ],
   "source": [
    "df1 = df.groupby(['category'], sort=False)['popularity'].sum()\n",
    "df2 = df.groupby(['category'], sort=False)['popularity'].count()\n",
    "print df1, df2"
   ]
  },
  {
   "cell_type": "code",
   "execution_count": 85,
   "metadata": {
    "collapsed": false
   },
   "outputs": [
    {
     "data": {
      "text/html": [
       "<div>\n",
       "<table border=\"1\" class=\"dataframe\">\n",
       "  <thead>\n",
       "    <tr style=\"text-align: right;\">\n",
       "      <th></th>\n",
       "      <th>category</th>\n",
       "      <th>popularity</th>\n",
       "      <th>title</th>\n",
       "    </tr>\n",
       "  </thead>\n",
       "  <tbody>\n",
       "    <tr>\n",
       "      <th>108</th>\n",
       "      <td>3C</td>\n",
       "      <td>93879</td>\n",
       "      <td>台灣臉書更新　「表情符號」今天正式上線</td>\n",
       "    </tr>\n",
       "    <tr>\n",
       "      <th>188</th>\n",
       "      <td>論壇</td>\n",
       "      <td>16892</td>\n",
       "      <td>呂秋遠：我們對超商店員的期待</td>\n",
       "    </tr>\n",
       "    <tr>\n",
       "      <th>283</th>\n",
       "      <td>體育</td>\n",
       "      <td>36186</td>\n",
       "      <td>《蘋果Live》17比4　Lamigo ...</td>\n",
       "    </tr>\n",
       "    <tr>\n",
       "      <th>298</th>\n",
       "      <td>正妹</td>\n",
       "      <td>24487</td>\n",
       "      <td>不美幹嘛脫　陳埃及主張女性身體解放自主</td>\n",
       "    </tr>\n",
       "    <tr>\n",
       "      <th>362</th>\n",
       "      <td>娛樂</td>\n",
       "      <td>135272</td>\n",
       "      <td>【更新】小小瑜想淡出演藝圈　真相竟是.....</td>\n",
       "    </tr>\n",
       "    <tr>\n",
       "      <th>373</th>\n",
       "      <td>財經</td>\n",
       "      <td>142076</td>\n",
       "      <td>鴻海推遲簽約原因　夏普忘了說恐欠債350...</td>\n",
       "    </tr>\n",
       "    <tr>\n",
       "      <th>458</th>\n",
       "      <td>動物</td>\n",
       "      <td>38222</td>\n",
       "      <td>【影片】一息尚存癱狗　險被丟垃圾車絞死</td>\n",
       "    </tr>\n",
       "    <tr>\n",
       "      <th>474</th>\n",
       "      <td>社會</td>\n",
       "      <td>278848</td>\n",
       "      <td>【影片曝光】北市補丁馬路害命　騎士突摔遭...</td>\n",
       "    </tr>\n",
       "    <tr>\n",
       "      <th>596</th>\n",
       "      <td>國際</td>\n",
       "      <td>72310</td>\n",
       "      <td>上班族流行「裸辭」　這六點必看</td>\n",
       "    </tr>\n",
       "    <tr>\n",
       "      <th>675</th>\n",
       "      <td>地產</td>\n",
       "      <td>7856</td>\n",
       "      <td>傻眼！　北市松山區老屋是新屋48倍</td>\n",
       "    </tr>\n",
       "    <tr>\n",
       "      <th>678</th>\n",
       "      <td>生活</td>\n",
       "      <td>105542</td>\n",
       "      <td>駕照道路路考3月上路　記者團實測全軍覆沒</td>\n",
       "    </tr>\n",
       "    <tr>\n",
       "      <th>759</th>\n",
       "      <td>時尚</td>\n",
       "      <td>101224</td>\n",
       "      <td>小S登米蘭大秀　他認為是在模仿「這個人」</td>\n",
       "    </tr>\n",
       "    <tr>\n",
       "      <th>796</th>\n",
       "      <td>政治</td>\n",
       "      <td>272844</td>\n",
       "      <td>20世紀前9大殺人魔王　第4名在台灣</td>\n",
       "    </tr>\n",
       "    <tr>\n",
       "      <th>803</th>\n",
       "      <td>搜奇</td>\n",
       "      <td>224661</td>\n",
       "      <td>他用這招對付詐騙集團　把對方逼瘋了</td>\n",
       "    </tr>\n",
       "  </tbody>\n",
       "</table>\n",
       "</div>"
      ],
      "text/plain": [
       "    category  popularity                    title\n",
       "108       3C       93879      台灣臉書更新　「表情符號」今天正式上線\n",
       "188       論壇       16892           呂秋遠：我們對超商店員的期待\n",
       "283       體育       36186  《蘋果Live》17比4　Lamigo ...\n",
       "298       正妹       24487      不美幹嘛脫　陳埃及主張女性身體解放自主\n",
       "362       娛樂      135272  【更新】小小瑜想淡出演藝圈　真相竟是.....\n",
       "373       財經      142076  鴻海推遲簽約原因　夏普忘了說恐欠債350...\n",
       "458       動物       38222      【影片】一息尚存癱狗　險被丟垃圾車絞死\n",
       "474       社會      278848  【影片曝光】北市補丁馬路害命　騎士突摔遭...\n",
       "596       國際       72310          上班族流行「裸辭」　這六點必看\n",
       "675       地產        7856        傻眼！　北市松山區老屋是新屋48倍\n",
       "678       生活      105542     駕照道路路考3月上路　記者團實測全軍覆沒\n",
       "759       時尚      101224     小S登米蘭大秀　他認為是在模仿「這個人」\n",
       "796       政治      272844       20世紀前9大殺人魔王　第4名在台灣\n",
       "803       搜奇      224661        他用這招對付詐騙集團　把對方逼瘋了"
      ]
     },
     "execution_count": 85,
     "metadata": {},
     "output_type": "execute_result"
    }
   ],
   "source": [
    "idx = df.groupby(['category'])['popularity'].transform(max) == df['popularity']\n",
    "#print idx\n",
    "df[idx]\n"
   ]
  },
  {
   "cell_type": "code",
   "execution_count": null,
   "metadata": {
    "collapsed": true
   },
   "outputs": [],
   "source": [
    "import jieba\n",
    "dic = {}\n",
    "for entry in jd['data']:\n",
    "    for ele in jieba.cut(entry['message']):\n",
    "        if not ele in dic:\n",
    "            dic[ele] = 1\n",
    "        else:\n",
    "            dic[ele] = dic[ele] + 1"
   ]
  },
  {
   "cell_type": "code",
   "execution_count": 21,
   "metadata": {
    "collapsed": false
   },
   "outputs": [],
   "source": [
    "import requests\n",
    "import json\n",
    "import jieba\n",
    "dic = {}\n",
    "jieba.add_word('民進黨')\n",
    "jieba.add_word('蔡英文')\n",
    "def update_dic(jd, dic):\n",
    "    for entry in jd['data']:\n",
    "        if 'message' in entry:\n",
    "            for ele in jieba.cut(entry['message']):\n",
    "                if not ele in dic:\n",
    "                    dic[ele] = 1\n",
    "                else:\n",
    "                    dic[ele] = dic[ele] + 1\n",
    "\n",
    "ACCESS_TOKEN = 'CAACEdEose0cBABgVGZByIZBUrpooyhZC4ZABFgjmDHZAXX3S0p3P53PpXcfhsDhKStQfs3MS8eBmPGZB42a5MF2pSOUE1Rjz0P4RZAtVoOkdaXwWhm7KN4tdrbIBMxUf7tXTrqRq53WXqquuZC8dp1sg8D0tx3k9HhM01b1XuYmlnVXTU4FFgpia1jWIFUIdZBQpUtmAHlVrw7z85iRKSL2gf'\n",
    "res = requests.get('https://graph.facebook.com/v2.5/tsaiingwen/posts?access_token={}&limit=100&since=1420070400'.format(ACCESS_TOKEN))\n",
    "jd = json.loads(res.text)\n",
    "\n",
    "update_dic(jd, dic)\n",
    "\n",
    "while 'paging' in jd and jd['paging']['next']:\n",
    "    res = requests.get(jd['paging']['next'])\n",
    "    jd = json.loads(res.text)\n",
    "    update_dic(jd, dic)\n",
    "    "
   ]
  },
  {
   "cell_type": "code",
   "execution_count": 23,
   "metadata": {
    "collapsed": true
   },
   "outputs": [],
   "source": [
    "from operator import itemgetter\n",
    "import re\n",
    "swd = sorted(dic.items(), key = itemgetter(1), reverse=True)\n",
    "for ele in swd:\n",
    "    if re.match(u'[\\u4e00-\\u9fa5]+', ele[0]) and len(ele[0]) >=2:\n",
    "        pass\n",
    "        #print ele[0], ele[1]\n"
   ]
  },
  {
   "cell_type": "markdown",
   "metadata": {},
   "source": [
    "## 統整程式碼"
   ]
  },
  {
   "cell_type": "markdown",
   "metadata": {},
   "source": [
    "### 步驟 0 引用套件"
   ]
  },
  {
   "cell_type": "code",
   "execution_count": 24,
   "metadata": {
    "collapsed": true
   },
   "outputs": [],
   "source": [
    "# -*- coding: utf-8 -*- \n",
    "from bs4 import BeautifulSoup \n",
    "from datetime import datetime \n",
    "import os, sys, re"
   ]
  },
  {
   "cell_type": "markdown",
   "metadata": {},
   "source": [
    "### 步驟1 建立資料抽出函式"
   ]
  },
  {
   "cell_type": "code",
   "execution_count": 33,
   "metadata": {
    "collapsed": true
   },
   "outputs": [],
   "source": [
    "def get_response_element (file_name): \n",
    "    f = open(file_name, 'r') \n",
    "    response_text = f.read() \n",
    "    f.close() \n",
    "    soup = BeautifulSoup(response_text)     \n",
    "    tender_table = soup.select('.table_block.tender_table')[0]\n",
    "    tr = tender_table.select('tr') \n",
    "    return tr"
   ]
  },
  {
   "cell_type": "code",
   "execution_count": 36,
   "metadata": {
    "collapsed": false
   },
   "outputs": [],
   "source": [
    "#print get_response_element('gov/51687663_1040705.txt')"
   ]
  },
  {
   "cell_type": "markdown",
   "metadata": {},
   "source": [
    "### 步驟2 建立時間轉換函式"
   ]
  },
  {
   "cell_type": "code",
   "execution_count": 37,
   "metadata": {
    "collapsed": true
   },
   "outputs": [],
   "source": [
    "def date_conversion(element):\n",
    "        m = re.match(r\"(\\d+/\\d+/\\d+)\",element)\n",
    "        if m is not None:\n",
    "                t = m.group(1).split('/', 1)\n",
    "                if t[0] != '':\n",
    "                        return datetime.strptime(str(int(t[0]) + 1911) + \"/\" + (''.join(t[1:]).split()[0] ), \"%Y/%m/%d\")\n",
    "        else:\n",
    "                return None"
   ]
  },
  {
   "cell_type": "code",
   "execution_count": 40,
   "metadata": {
    "collapsed": false
   },
   "outputs": [
    {
     "data": {
      "text/plain": [
       "datetime.datetime(2013, 2, 3, 0, 0)"
      ]
     },
     "execution_count": 40,
     "metadata": {},
     "output_type": "execute_result"
    }
   ],
   "source": [
    "date_conversion('102/02/03')"
   ]
  },
  {
   "cell_type": "markdown",
   "metadata": {},
   "source": [
    "### 步驟3 建立金額轉換函式"
   ]
  },
  {
   "cell_type": "code",
   "execution_count": 38,
   "metadata": {
    "collapsed": true
   },
   "outputs": [],
   "source": [
    "def money_conversion(element): \n",
    "    m = re.match( r\"\\$?([0-9,]+)\", \"\".join(element.split())) \n",
    "    return int(''.join(m.group(0).split(',')))"
   ]
  },
  {
   "cell_type": "code",
   "execution_count": 39,
   "metadata": {
    "collapsed": false
   },
   "outputs": [
    {
     "data": {
      "text/plain": [
       "123111"
      ]
     },
     "execution_count": 39,
     "metadata": {},
     "output_type": "execute_result"
    }
   ],
   "source": [
    "money_conversion('123,111元')"
   ]
  },
  {
   "cell_type": "markdown",
   "metadata": {},
   "source": [
    "### 步驟4 建立移除空白函式"
   ]
  },
  {
   "cell_type": "code",
   "execution_count": 41,
   "metadata": {
    "collapsed": true
   },
   "outputs": [],
   "source": [
    "def remove_space(element): \n",
    "    return \"\".join(element.split())"
   ]
  },
  {
   "cell_type": "code",
   "execution_count": 42,
   "metadata": {
    "collapsed": false
   },
   "outputs": [
    {
     "data": {
      "text/plain": [
       "'adfddddddddddddddddd'"
      ]
     },
     "execution_count": 42,
     "metadata": {},
     "output_type": "execute_result"
    }
   ],
   "source": [
    "remove_space('adf                ddddddddddddddddd')"
   ]
  },
  {
   "cell_type": "markdown",
   "metadata": {},
   "source": [
    "### 步驟5 建立轉換字典"
   ]
  },
  {
   "cell_type": "code",
   "execution_count": 54,
   "metadata": {
    "collapsed": true
   },
   "outputs": [],
   "source": [
    "name_map = {\"機關代碼\":\"entity_code\", \"機關名稱\":\"procuring_entity\",\"標案案號\":\"job_number\",\"招標方式\":\"procurement_type\",\\\n",
    "    \"決標方式\":\"tender_awarding_type\",\"標案名稱\":\"subject_of_procurement\", \"決標資料類別\":\"attr_of_tender_awarding\", \\\n",
    "    \"標的分類\":\"attr_of_procurement\", \"預算金額\":\"budget_value\", \"開標時間\":\"opening_date\",\"決標公告日期\":\"tender_awarding_announce_date\",\\\n",
    "    \"歸屬計畫類別\":\"project_type\",\"總決標金額\":\"total_tender_awarding_value\",\"底價金額\":\"floor_price_value\",\"決標日期\":\"tender_awarding_date\", \"pkAtmMain\":\"pkAtmMain\"}\n",
    "\n",
    "tender_awards_map = {\"機關代碼\":remove_space, \"機關名稱\":remove_space, \"標案案號\":remove_space, \\\n",
    "    \"招標方式\":remove_space,\"決標方式\":remove_space,\"標案名稱\":remove_space, \"決標資料類別\":remove_space, \\\n",
    "    \"標的分類\":remove_space, \"預算金額\":money_conversion, \"開標時間\":date_conversion,\"歸屬計畫類別\":remove_space, \\\n",
    "    \"總決標金額\":money_conversion,\"底價金額\":money_conversion,\"決標日期\":date_conversion, \"決標公告日期\":date_conversion}\n"
   ]
  },
  {
   "cell_type": "code",
   "execution_count": 43,
   "metadata": {
    "collapsed": false
   },
   "outputs": [
    {
     "data": {
      "text/plain": [
       "'djdddddddddddddd'"
      ]
     },
     "execution_count": 43,
     "metadata": {},
     "output_type": "execute_result"
    }
   ],
   "source": [
    "dic = {'a':remove_space , 'b':money_conversion}\n",
    "dic['a'](' djdd             dddddd             dddddd') # remove_space(' djdd             dddddd             dddddd')"
   ]
  },
  {
   "cell_type": "code",
   "execution_count": 62,
   "metadata": {
    "collapsed": false
   },
   "outputs": [
    {
     "name": "stdout",
     "output_type": "stream",
     "text": [
      "sdfdfdf\n"
     ]
    }
   ],
   "source": [
    "li = [remove_space,money_conversion]\n",
    "print li[0]('sdf         dfdf')"
   ]
  },
  {
   "cell_type": "markdown",
   "metadata": {},
   "source": [
    "### 步驟6 整理機關、已公告、決標資料"
   ]
  },
  {
   "cell_type": "code",
   "execution_count": 59,
   "metadata": {
    "collapsed": true
   },
   "outputs": [],
   "source": [
    "def get_award_info_dic(element):\n",
    "    returned_dic = {}\n",
    "    for row in element:\n",
    "        th = row.select('th')\n",
    "        if len(th) > 0:\n",
    "            th_name = th[0].text.encode('utf-8').strip()\n",
    "            if (th_name in  tender_awards_map):\n",
    "                returned_dic[name_map[th_name]]   =   tender_awards_map[th_name](row.select('td')[0].text.strip())\n",
    "    return returned_dic"
   ]
  },
  {
   "cell_type": "code",
   "execution_count": 60,
   "metadata": {
    "collapsed": false
   },
   "outputs": [
    {
     "data": {
      "text/plain": [
       "{'attr_of_procurement': u'<\\u52de\\u52d9\\u985e>93\\u5065\\u5eb7\\u53ca\\u793e\\u6703\\u670d\\u52d9',\n",
       " 'attr_of_tender_awarding': u'\\u5b9a\\u671f\\u5f59\\u9001',\n",
       " 'budget_value': 237600,\n",
       " 'entity_code': u'A.21.100.46',\n",
       " 'floor_price_value': 237600,\n",
       " 'job_number': u'1040705',\n",
       " 'opening_date': datetime.datetime(2015, 11, 4, 0, 0),\n",
       " 'procurement_type': u'\\u516c\\u958b\\u53d6\\u5f97\\u5831\\u50f9\\u55ae\\u6216\\u4f01\\u5283\\u66f8',\n",
       " 'procuring_entity': u'\\u885b\\u751f\\u798f\\u5229\\u90e8\\u81fa\\u6771\\u91ab\\u9662',\n",
       " 'project_type': u'\\u975e\\u5c6c\\u611b\\u53f0\\u5341\\u4e8c\\u9805\\u8a08\\u756b',\n",
       " 'subject_of_procurement': u'\\u91ab\\u7642\\u696d\\u52d9\\u652f\\u63f4\\u6848',\n",
       " 'tender_awarding_announce_date': datetime.datetime(2015, 11, 12, 0, 0),\n",
       " 'tender_awarding_date': datetime.datetime(2015, 11, 4, 0, 0),\n",
       " 'tender_awarding_type': u'\\u6700\\u4f4e\\u6a19',\n",
       " 'total_tender_awarding_value': 237600}"
      ]
     },
     "execution_count": 60,
     "metadata": {},
     "output_type": "execute_result"
    }
   ],
   "source": [
    "ele = get_response_element('gov/51687663_1040705.txt')\n",
    "get_award_info_dic(ele)"
   ]
  },
  {
   "cell_type": "markdown",
   "metadata": {},
   "source": [
    "### 步驟7 瀏覽整理過的資料"
   ]
  },
  {
   "cell_type": "code",
   "execution_count": 61,
   "metadata": {
    "collapsed": false
   },
   "outputs": [
    {
     "name": "stdout",
     "output_type": "stream",
     "text": [
      "opening_date 2015-11-04 00:00:00\n",
      "total_tender_awarding_value 237600\n",
      "tender_awarding_date 2015-11-04 00:00:00\n",
      "entity_code A.21.100.46\n",
      "procurement_type 公開取得報價單或企劃書\n",
      "procuring_entity 衛生福利部臺東醫院\n",
      "attr_of_procurement <勞務類>93健康及社會服務\n",
      "tender_awarding_announce_date 2015-11-12 00:00:00\n",
      "subject_of_procurement 醫療業務支援案\n",
      "project_type 非屬愛台十二項計畫\n",
      "attr_of_tender_awarding 定期彙送\n",
      "budget_value 237600\n",
      "floor_price_value 237600\n",
      "job_number 1040705\n",
      "tender_awarding_type 最低標\n"
     ]
    }
   ],
   "source": [
    "element = get_response_element('gov/51687663_1040705.txt')\n",
    "dic = get_award_info_dic(element)\n",
    "for ele in dic:\n",
    "    print ele, dic[ele]"
   ]
  },
  {
   "cell_type": "markdown",
   "metadata": {},
   "source": [
    "## 資料儲存與分析"
   ]
  },
  {
   "cell_type": "code",
   "execution_count": 65,
   "metadata": {
    "collapsed": true
   },
   "outputs": [],
   "source": [
    "import sqlite3\n",
    "db = sqlite3.connect('test.sqlite')\n",
    "db.close()"
   ]
  },
  {
   "cell_type": "markdown",
   "metadata": {},
   "source": [
    "#### 下載Sqlite Manager:\n",
    "- https://addons.mozilla.org/zh-tw/firefox/addon/sqlite-manager/"
   ]
  },
  {
   "cell_type": "code",
   "execution_count": 66,
   "metadata": {
    "collapsed": true
   },
   "outputs": [],
   "source": [
    "import sqlite3\n",
    "db = sqlite3.connect('test.sqlite')\n",
    "cur = db.cursor()\n",
    "cur.execute('''CREATE TABLE IF NOT EXISTS Tender_awards(\n",
    "                id INTEGER PRIMARY KEY,\n",
    "                pkAtmMain TEXT,\n",
    "                procuring_entity TEXT,\n",
    "                entity_code TEXT,\n",
    "                attr_of_procurement TEXT,\n",
    "                opening_date DATETIME,\n",
    "                procurement_type TEXT,\n",
    "                tender_awarding_type TEXT,\n",
    "                project_type TEXT,\n",
    "                subject_of_procurement TEXT,\n",
    "                job_number TEXT,\n",
    "                budget_value BIGINTEGER,\n",
    "                attr_of_tender_awarding TEXT,\n",
    "                floor_price_value BIGINTEGER,\n",
    "                tender_awarding_announce_date DATETIME,\n",
    "                tender_awarding_date DATETIME,\n",
    "                total_tender_awarding_value BIGINTEGER\n",
    "                )''')\n",
    "db.close()"
   ]
  },
  {
   "cell_type": "code",
   "execution_count": 69,
   "metadata": {
    "collapsed": false
   },
   "outputs": [],
   "source": [
    "import sqlite3\n",
    "\n",
    "con = sqlite3.connect(\"test.sqlite\") \n",
    "\n",
    "cur = con.cursor() \n",
    "cur.execute(\"DROP TABLE IF EXISTS PhoneAddress\")  # Drop Table If Exisits \n",
    "cur.execute(\"CREATE TABLE PhoneAddress(phone CHAR(10) PRIMARY KEY, address TEXT, name TEXT unique, age INT NOT NULL)\") \n",
    "cur.execute(\"INSERT INTO PhoneAddress VALUES('0912173381','United State','Jhon Doe',53)\") \n",
    "cur.execute(\"INSERT INTO PhoneAddress VALUES('0928375018','Tokyo Japan','MuMu Cat',6)\") \n",
    "cur.execute(\"INSERT INTO PhoneAddress VALUES('0957209108','Taipei','Richard',29)\") \n",
    "con.commit()\n",
    "#cur.execute(\"SELECT phone,address FROM PhoneAddress\") \n",
    "#data = cur.fetchall() \n",
    "#    for rec in data: \n",
    "#        print rec[0], rec[1] \n",
    "con.close()"
   ]
  },
  {
   "cell_type": "code",
   "execution_count": 71,
   "metadata": {
    "collapsed": false
   },
   "outputs": [
    {
     "name": "stdout",
     "output_type": "stream",
     "text": [
      "(u'0912173381', u'United State')\n",
      "(u'0928375018', u'Tokyo Japan')\n"
     ]
    }
   ],
   "source": [
    "import sqlite3\n",
    "\n",
    "con = sqlite3.connect(\"test.sqlite\") \n",
    "\n",
    "cur = con.cursor() \n",
    "\n",
    "cur.execute(\"SELECT phone,address FROM PhoneAddress\") \n",
    "data = cur.fetchone() # fetch one row at a time\n",
    "print data\n",
    "data2 = cur.fetchone()\n",
    "print data2\n",
    "\n",
    "con.close()"
   ]
  },
  {
   "cell_type": "code",
   "execution_count": 72,
   "metadata": {
    "collapsed": false
   },
   "outputs": [
    {
     "name": "stdout",
     "output_type": "stream",
     "text": [
      "(u'0912173381', u'United State')\n",
      "[(u'0928375018', u'Tokyo Japan'), (u'0957209108', u'Taipei')]\n"
     ]
    }
   ],
   "source": [
    "import sqlite3\n",
    "\n",
    "con = sqlite3.connect(\"test.sqlite\") \n",
    "\n",
    "cur = con.cursor() \n",
    "\n",
    "cur.execute(\"SELECT phone,address FROM PhoneAddress\") \n",
    "data = cur.fetchone() \n",
    "print data\n",
    "data2 = cur.fetchall() # fetch all rows at a time\n",
    "print data2\n",
    "con.close()"
   ]
  },
  {
   "cell_type": "markdown",
   "metadata": {},
   "source": [
    "## 把資料塞入資料庫"
   ]
  },
  {
   "cell_type": "code",
   "execution_count": 81,
   "metadata": {
    "collapsed": false
   },
   "outputs": [
    {
     "name": "stdout",
     "output_type": "stream",
     "text": [
      "15\n",
      "???????????????\n",
      "?,?,?,?,?,?,?,?,?,?,?,?,?,?,?\n",
      "insert into Tender_awards (opening_date, total_tender_awarding_value, tender_awarding_date, entity_code, procurement_type, procuring_entity, attr_of_procurement, tender_awarding_announce_date, subject_of_procurement, project_type, attr_of_tender_awarding, budget_value, floor_price_value, job_number, tender_awarding_type) values(?,?,?,?,?,?,?,?,?,?,?,?,?,?,?)\n",
      "[datetime.datetime(2015, 11, 4, 0, 0), 237600, datetime.datetime(2015, 11, 4, 0, 0), u'A.21.100.46', u'\\u516c\\u958b\\u53d6\\u5f97\\u5831\\u50f9\\u55ae\\u6216\\u4f01\\u5283\\u66f8', u'\\u885b\\u751f\\u798f\\u5229\\u90e8\\u81fa\\u6771\\u91ab\\u9662', u'<\\u52de\\u52d9\\u985e>93\\u5065\\u5eb7\\u53ca\\u793e\\u6703\\u670d\\u52d9', datetime.datetime(2015, 11, 12, 0, 0), u'\\u91ab\\u7642\\u696d\\u52d9\\u652f\\u63f4\\u6848', u'\\u975e\\u5c6c\\u611b\\u53f0\\u5341\\u4e8c\\u9805\\u8a08\\u756b', u'\\u5b9a\\u671f\\u5f59\\u9001', 237600, 237600, u'1040705', u'\\u6700\\u4f4e\\u6a19']\n"
     ]
    }
   ],
   "source": [
    "element = get_response_element('gov/51687663_1040705.txt')\n",
    "dic = get_award_info_dic(element)\n",
    "\n",
    "# insert into Tender_awards (c1, c2, c3...) values(v1, v2, v3)\n",
    "# insert into Tender_awards (c1, c2, c3...) values(?,?,?)\n",
    "\n",
    "sql = 'insert into Tender_awards ({}) values({})'\n",
    "columns =  ', '.join(dic.keys())\n",
    "print len(dic)\n",
    "print len(dic) * '?'\n",
    "print ','.join(len(dic) * '?')\n",
    "placeholders = ','.join(len(dic) * '?')\n",
    "\n",
    "print sql.format(columns, placeholders)\n",
    "print dic.values()\n",
    "\n",
    "#cur.execute(sql,award_info_dic.values())\n",
    "#columns =  ', '.join(dic.keys())\n",
    "#for ele in dic:\n",
    "#    print ele, dic[ele]\n",
    "    \n"
   ]
  },
  {
   "cell_type": "code",
   "execution_count": 91,
   "metadata": {
    "collapsed": true
   },
   "outputs": [],
   "source": [
    "import sqlite3\n",
    "\n",
    "sql = 'insert into Tender_awards ({}) values({})'\n",
    "con = sqlite3.connect(\"test.sqlite\") \n",
    "cur = con.cursor() \n",
    "\n",
    "# insert into Tender_awards (c1, c2, c3...) values(?,?,?)\n",
    "element = get_response_element('gov/51687663_1040705.txt')\n",
    "dic = get_award_info_dic(element)\n",
    "columns =  ', '.join(dic.keys())\n",
    "placeholders = ','.join(len(dic) * '?')\n",
    "cur.execute(sql.format(columns, placeholders), dic.values())\n",
    "con.commit()\n",
    "con.close()"
   ]
  },
  {
   "cell_type": "code",
   "execution_count": 92,
   "metadata": {
    "collapsed": false
   },
   "outputs": [
    {
     "name": "stdout",
     "output_type": "stream",
     "text": [
      "gov/1499534_9511.txt\n",
      "gov/51632563_you104004.txt\n",
      "gov/51658371_AH1041002.txt\n",
      "gov/51669565_1041008B.txt\n",
      "gov/51671363_1041012A01.txt\n",
      "gov/51686117_104A280.txt\n",
      "gov/51686231_10411090027.txt\n",
      "gov/51686279_HC05004P013.txt\n",
      "gov/51686287_CAA104CE06.txt\n",
      "gov/51686294_104-d-20-E1020-1.txt\n",
      "gov/51686298_104-d-20-E1020-4.txt\n",
      "gov/51686299_C105-02EF.txt\n",
      "gov/51686304_1041000247.txt\n",
      "gov/51686311_L0204P1142Q.txt\n",
      "gov/51686313_C105-01EF.txt\n",
      "gov/51686316_104-B052-00T.txt\n",
      "gov/51686320_A103-047-1.txt\n",
      "gov/51686322_104176CE.txt\n",
      "gov/51686331_1041000232.txt\n",
      "gov/51686337_104116001503.txt\n",
      "gov/51686342_104FIN63.txt\n",
      "gov/51686344_10415.txt\n",
      "gov/51686357_ntsh1040930.txt\n",
      "gov/51686370_FC05001P005.txt\n",
      "gov/51686382_104C005.txt\n",
      "gov/51686384_1040924.txt\n",
      "gov/51686394_tc10410.txt\n",
      "gov/51686398_104102901.txt\n",
      "gov/51686412_M01-0914-C.txt\n",
      "gov/51686423_0610400010.txt\n",
      "gov/51686428_104-10.txt\n",
      "gov/51686430_tces10411.txt\n",
      "gov/51686433_DCB0361001-1.txt\n",
      "gov/51686438_1040901.txt\n",
      "gov/51686451_104-0130-2-004.txt\n",
      "gov/51686456_104-45.txt\n",
      "gov/51686472_LHF0470003.txt\n",
      "gov/51686476_103B082-1-1.txt\n",
      "gov/51686487_105-0441-1-002.txt\n",
      "gov/51686493_104-094.txt\n",
      "gov/51686495_1040905.txt\n",
      "gov/51686497_104QE307C1.txt\n",
      "gov/51686517_104B-016.txt\n",
      "gov/51686518_1041020-01.txt\n",
      "gov/51686526_MPB1041021C027.txt\n",
      "gov/51686532_ENSO104051.txt\n",
      "gov/51686537_SV-10413.txt\n",
      "gov/51686542_1090400020.txt\n",
      "gov/51686551_101B040-3-105.txt\n",
      "gov/51686591_104006.txt\n",
      "gov/51686601_ENG-1040054.txt\n",
      "gov/51686603_1041028C.txt\n",
      "gov/51686608_1034F177-1.txt\n",
      "gov/51686610_104930.txt\n",
      "gov/51686619_1041012.txt\n",
      "gov/51686621_10417.txt\n",
      "gov/51686622_0605L1041021.txt\n",
      "gov/51686632_C1041001-01.txt\n",
      "gov/51686645_102B054-2-105.txt\n",
      "gov/51686654_104-S001.txt\n",
      "gov/51686668_tms105005.txt\n",
      "gov/51686670_hles104110601.txt\n",
      "gov/51686677_GM05037P006.txt\n",
      "gov/51686685_D104-0528-172.txt\n",
      "gov/51686687_104C006.txt\n",
      "gov/51686697_104Y0916.txt\n",
      "gov/51686700_104A08.txt\n",
      "gov/51686706_RDL0416017.txt\n",
      "gov/51686714_HI05014P029.txt\n",
      "gov/51686715_DGC0342002.txt\n",
      "gov/51686720_10410.txt\n",
      "gov/51686725_GM05028P002.txt\n",
      "gov/51686737_3410400310-S04122.txt\n",
      "gov/51686739_10410002.txt\n",
      "gov/51686744_1041022Q01-10.txt\n",
      "gov/51686746_1041005-01.txt\n",
      "gov/51686751_104-61.txt\n",
      "gov/51686768_104-025.txt\n",
      "gov/51686789_101B042-3-105.txt\n",
      "gov/51686793_10468D003468.txt\n",
      "gov/51686795_3510400302.txt\n",
      "gov/51686813_89B010-2.txt\n",
      "gov/51686821_1684.txt\n",
      "gov/51686822_104224.txt\n",
      "gov/51686829_E15101.txt\n",
      "gov/51686835_0240400014.txt\n",
      "gov/51686865_D145.txt\n",
      "gov/51686882_3600400091.txt\n",
      "gov/51686885_D150.txt\n",
      "gov/51686889_1041070148B.txt\n",
      "gov/51686907_1045015.txt\n",
      "gov/51686909_10410pc001.txt\n",
      "gov/51686911_3710400485.txt\n",
      "gov/51686921_3500400239.txt\n",
      "gov/51686923_1040020173B.txt\n",
      "gov/51686933_1040600D00016.txt\n",
      "gov/51686937_1041016.txt\n",
      "gov/51686938_104700330410.txt\n",
      "gov/51686942_105003.txt\n",
      "gov/51686944_A1040574ENG025.txt\n",
      "gov/51686945_3700400064.txt\n",
      "gov/51686949_M04C5386.txt\n",
      "gov/51686950_S104IZ023.txt\n",
      "gov/51686952_104C037-K-Z02.txt\n",
      "gov/51686970_104HK008.txt\n",
      "gov/51686971_1040916-2.txt\n",
      "gov/51686973_111104021004.txt\n",
      "gov/51686980_P103-06.txt\n",
      "gov/51686983_EY04054P100.txt\n",
      "gov/51686986_AEC10410043L.txt\n",
      "gov/51686989_wat103185-1.txt\n",
      "gov/51686990_10402.txt\n",
      "gov/51687000_B04A00336.txt\n",
      "gov/51687004_104059.txt\n",
      "gov/51687007_Factiva2016.txt\n",
      "gov/51687018_1040903-3.txt\n",
      "gov/51687025_MCB0470046.txt\n",
      "gov/51687028_104302.txt\n",
      "gov/51687031_HP05033P018PE.txt\n",
      "gov/51687036_MCB0470054.txt\n",
      "gov/51687043_MCB0470062.txt\n",
      "gov/51687052_CS104014.txt\n",
      "gov/51687059_1040922-1.txt\n",
      "gov/51687062_JE04330P257.txt\n",
      "gov/51687063_104001.txt\n",
      "gov/51687089_C04080.txt\n",
      "gov/51687093_104A07.txt\n",
      "gov/51687110_B04A05901.txt\n",
      "gov/51687117_104002.txt\n",
      "gov/51687119_1040302-1-1.txt\n",
      "gov/51687122_02104024.txt\n",
      "gov/51687134_DGC0443001.txt\n",
      "gov/51687142_1190400022.txt\n",
      "gov/51687148_105-002A.txt\n",
      "gov/51687152_10410085.txt\n",
      "gov/51687164_EM05004P002.txt\n",
      "gov/51687165_104-114A.txt\n",
      "gov/51687171_D104-0910-174-1.txt\n",
      "gov/51687175_1044B091.txt\n",
      "gov/51687177_104B27P006.txt\n",
      "gov/51687192_1040400029.txt\n",
      "gov/51687203_1044B113.txt\n",
      "gov/51687211_10487001017.txt\n",
      "gov/51687224_104TMACH50S.txt\n",
      "gov/51687232_SPO-1041101.txt\n",
      "gov/51687242_10418.txt\n",
      "gov/51687248_1190400019.txt\n",
      "gov/51687251_104009.txt\n",
      "gov/51687254_cejh104-12.txt\n",
      "gov/51687266_104A08.txt\n",
      "gov/51687268_SDK0402003.txt\n",
      "gov/51687270_104-02-048.txt\n",
      "gov/51687274_102B055-2-105.txt\n",
      "gov/51687279_1040500311.txt\n",
      "gov/51687282_S104107.txt\n",
      "gov/51687285_AEC10410040L.txt\n",
      "gov/51687288_3410400304-S04120.txt\n",
      "gov/51687294_104L05.txt\n",
      "gov/51687297_HI05028P020.txt\n",
      "gov/51687302_1040903-2.txt\n",
      "gov/51687313_ndc104087.txt\n",
      "gov/51687331_wjes1041101.txt\n",
      "gov/51687334_E1041012-02.txt\n",
      "gov/51687337_104-e-07-E1102.txt\n",
      "gov/51687338_100001.txt\n",
      "gov/51687340_SZ104-151.txt\n",
      "gov/51687342_G65B-104106.txt\n",
      "gov/51687343_104-Y19.txt\n",
      "gov/51687350_1041702.txt\n",
      "gov/51687356_NL1041335.txt\n",
      "gov/51687367_1041B0023-1.txt\n",
      "gov/51687374_A1040624KH109AA.txt\n",
      "gov/51687384_10417-2.txt\n",
      "gov/51687385_104-hw-01.txt\n",
      "gov/51687386_1041028.txt\n",
      "gov/51687387_104-0220-1-060.txt\n",
      "gov/51687399_1041021001.txt\n",
      "gov/51687401_104812120B-1.txt\n",
      "gov/51687403_1040903-1.txt\n",
      "gov/51687418_scy1040005.txt\n",
      "gov/51687424_E1040930-01.txt\n",
      "gov/51687431_G65B-104102.txt\n",
      "gov/51687433_31588-a104029.txt\n",
      "gov/51687438_A1040674KH132MK.txt\n",
      "gov/51687440_EN04063P052.txt\n",
      "gov/51687443_0960400008.txt\n",
      "gov/51687448_104A01-1.txt\n",
      "gov/51687451_10416.txt\n",
      "gov/51687456_NCHC-S-104115.txt\n",
      "gov/51687459_1041103.txt\n",
      "gov/51687460_1040828-3.txt\n",
      "gov/51687475_104CJ-004.txt\n",
      "gov/51687484_G65B-104103.txt\n",
      "gov/51687485_1044E006.txt\n",
      "gov/51687494_IG104045.txt\n",
      "gov/51687495_EV05037P028.txt\n",
      "gov/51687496_10411003.txt\n",
      "gov/51687498_10411A.txt\n",
      "gov/51687501_104010.txt\n",
      "gov/51687503_3520400096.txt\n",
      "gov/51687511_CU-10419.txt\n",
      "gov/51687534_1040050158D.txt\n",
      "gov/51687537_104-0380-2-048.txt\n",
      "gov/51687541_10407.txt\n",
      "gov/51687542_1041111.txt\n",
      "gov/51687543_1041028.txt\n",
      "gov/51687561_1041002.txt\n",
      "gov/51687568_B1041020-01.txt\n",
      "gov/51687570_1012067-1.txt\n",
      "gov/51687571_EY04067P051.txt\n",
      "gov/51687575_104012.txt\n",
      "gov/51687590_1041023A05.txt\n",
      "gov/51687611_2C171041014-82.txt\n",
      "gov/51687622_104NV002.txt\n",
      "gov/51687623_1040029.txt\n",
      "gov/51687639_1042500889.txt\n",
      "gov/51687640_S104-03.txt\n",
      "gov/51687642_104087.txt\n",
      "gov/51687645_Ptswps1041105.txt\n",
      "gov/51687648_104187CF.txt\n",
      "gov/51687653_PD04177P651.txt\n",
      "gov/51687655_103B04P033-CCO01.txt\n",
      "gov/51687656_NTCLS104-030.txt\n",
      "gov/51687657_1041101.txt\n",
      "gov/51687661_10463331.txt\n",
      "gov/51687663_1040705.txt\n",
      "gov/583986_9105.txt\n",
      "gov/982342_9267.txt\n"
     ]
    }
   ],
   "source": [
    "import os\n",
    "path = 'gov/'\n",
    "os.listdir(path)\n",
    "for f in os.listdir(path):\n",
    "    print path + f"
   ]
  },
  {
   "cell_type": "code",
   "execution_count": 93,
   "metadata": {
    "collapsed": true
   },
   "outputs": [],
   "source": [
    "def insert_award_info (cur, data_dic, filename):\n",
    "    file_param=filename.split(\".txt\")[0].split(\"_\")\n",
    "    pkAtmMain=file_param[0]\n",
    "    data_dic['pkAtmMain']=pkAtmMain\n",
    "    columns = ', '.join(data_dic.keys())\n",
    "    placeholders = ', '.join('?' * len(data_dic))\n",
    "    sql = 'INSERT INTO Tender_awards ({}) VALUES ({})'.format(columns, placeholders)\t\n",
    "    cur.execute(sql, data_dic.values())"
   ]
  },
  {
   "cell_type": "code",
   "execution_count": 94,
   "metadata": {
    "collapsed": false
   },
   "outputs": [
    {
     "ename": "OperationalError",
     "evalue": "database is locked",
     "output_type": "error",
     "traceback": [
      "\u001b[1;31m---------------------------------------------------------------------------\u001b[0m",
      "\u001b[1;31mOperationalError\u001b[0m                          Traceback (most recent call last)",
      "\u001b[1;32m<ipython-input-94-57f37ad22585>\u001b[0m in \u001b[0;36m<module>\u001b[1;34m()\u001b[0m\n\u001b[0;32m     11\u001b[0m     \u001b[0mdic\u001b[0m \u001b[1;33m=\u001b[0m \u001b[0mget_award_info_dic\u001b[0m\u001b[1;33m(\u001b[0m\u001b[0melement\u001b[0m\u001b[1;33m)\u001b[0m\u001b[1;33m\u001b[0m\u001b[0m\n\u001b[0;32m     12\u001b[0m     \u001b[0minsert_award_info\u001b[0m\u001b[1;33m(\u001b[0m\u001b[0mcur\u001b[0m\u001b[1;33m,\u001b[0m \u001b[0mdic\u001b[0m\u001b[1;33m,\u001b[0m \u001b[0mf\u001b[0m\u001b[1;33m)\u001b[0m\u001b[1;33m\u001b[0m\u001b[0m\n\u001b[1;32m---> 13\u001b[1;33m     \u001b[0mcon\u001b[0m\u001b[1;33m.\u001b[0m\u001b[0mcommit\u001b[0m\u001b[1;33m(\u001b[0m\u001b[1;33m)\u001b[0m\u001b[1;33m\u001b[0m\u001b[0m\n\u001b[0m\u001b[0;32m     14\u001b[0m \u001b[0mcon\u001b[0m\u001b[1;33m.\u001b[0m\u001b[0mclose\u001b[0m\u001b[1;33m(\u001b[0m\u001b[1;33m)\u001b[0m\u001b[1;33m\u001b[0m\u001b[0m\n",
      "\u001b[1;31mOperationalError\u001b[0m: database is locked"
     ]
    }
   ],
   "source": [
    "import os\n",
    "import sqlite3\n",
    "\n",
    "sql = 'insert into Tender_awards ({}) values({})'\n",
    "con = sqlite3.connect(\"test.sqlite\") \n",
    "cur = con.cursor() \n",
    "path = 'gov/'\n",
    "os.listdir(path)\n",
    "for f in os.listdir(path):\n",
    "    element = get_response_element(path + f)\n",
    "    dic = get_award_info_dic(element)\n",
    "    insert_award_info(cur, dic, f)\n",
    "    con.commit()\n",
    "con.close()"
   ]
  },
  {
   "cell_type": "code",
   "execution_count": 107,
   "metadata": {
    "collapsed": false
   },
   "outputs": [
    {
     "name": "stdout",
     "output_type": "stream",
     "text": [
      "['a', 'b', 'c', 'a', 'b', 'd', 'e', 'b', 'b']\n",
      "['a', 'a', 'b', 'b', 'b', 'b', 'c', 'd', 'e']\n"
     ]
    }
   ],
   "source": [
    "s = ['a', 'b', 'c', 'a' ,'b', 'd', 'e', 'b', 'b']\n",
    "print s\n",
    "s.sort()\n",
    "print s\n",
    "#for ele in s"
   ]
  },
  {
   "cell_type": "markdown",
   "metadata": {},
   "source": [
    "### word count : method 1"
   ]
  },
  {
   "cell_type": "code",
   "execution_count": 110,
   "metadata": {
    "collapsed": false
   },
   "outputs": [
    {
     "name": "stdout",
     "output_type": "stream",
     "text": [
      "['a', 'a', 'b', 'b', 'b', 'b', 'c', 'd', 'e']\n",
      "a 2\n",
      "b 4\n",
      "c 1\n",
      "d 1\n",
      "e 1\n"
     ]
    }
   ],
   "source": [
    "s = ['a', 'b', 'c', 'a' ,'b', 'd', 'e', 'b', 'b']\n",
    "s.sort() # n * logn\n",
    "cur_word = ''\n",
    "cnt = 0 \n",
    "print s\n",
    "for ele in s: # n\n",
    "    if not cur_word == ele:\n",
    "        if cur_word != '':\n",
    "            print cur_word, cnt\n",
    "        cur_word = ele\n",
    "        cnt = 1\n",
    "    else:\n",
    "        cnt = cnt + 1\n",
    "print cur_word, cnt\n",
    "# n * log n + n    "
   ]
  },
  {
   "cell_type": "markdown",
   "metadata": {},
   "source": [
    "### word count : method 2"
   ]
  },
  {
   "cell_type": "code",
   "execution_count": 113,
   "metadata": {
    "collapsed": false
   },
   "outputs": [
    {
     "name": "stdout",
     "output_type": "stream",
     "text": [
      "['a', 'b', 'c', 'a', 'b', 'd', 'e', 'b', 'b']\n",
      "{'a': 2, 'c': 1, 'b': 4, 'e': 1, 'd': 1}\n"
     ]
    }
   ],
   "source": [
    "s = ['a', 'b', 'c', 'a' ,'b', 'd', 'e', 'b', 'b']\n",
    "print s\n",
    "\n",
    "dic = {}\n",
    "for ele in s: # n\n",
    "    if not ele in dic:\n",
    "        dic[ele] = 1\n",
    "    else:\n",
    "        dic[ele] = dic[ele] + 1\n",
    "print dic\n",
    "# n"
   ]
  },
  {
   "cell_type": "code",
   "execution_count": 2,
   "metadata": {
    "collapsed": false
   },
   "outputs": [
    {
     "data": {
      "text/plain": [
       "0.00011180059835921322"
      ]
     },
     "execution_count": 2,
     "metadata": {},
     "output_type": "execute_result"
    }
   ],
   "source": [
    "import time\n",
    "tic = time.clock()\n",
    "toc = time.clock()\n",
    "toc - tic"
   ]
  },
  {
   "cell_type": "code",
   "execution_count": 45,
   "metadata": {
    "collapsed": false
   },
   "outputs": [],
   "source": [
    "a = range(10000,1,-1)\n",
    "a.sort()\n",
    "#print a"
   ]
  },
  {
   "cell_type": "code",
   "execution_count": 51,
   "metadata": {
    "collapsed": false
   },
   "outputs": [
    {
     "name": "stdout",
     "output_type": "stream",
     "text": [
      "1.78150275674\n"
     ]
    }
   ],
   "source": [
    "s = range(10000000,1,-1)\n",
    "tic = time.clock()\n",
    "s.sort() # n * logn\n",
    "cur_word = ''\n",
    "cnt = 0 \n",
    "#print s\n",
    "for ele in s: # n\n",
    "    if not cur_word == ele:\n",
    "        if cur_word != '':\n",
    "            pass\n",
    "            #print cur_word, cnt\n",
    "        cur_word = ele\n",
    "        cnt = 1\n",
    "    else:\n",
    "        cnt = cnt + 1\n",
    "#print cur_word, cnt\n",
    "toc = time.clock()\n",
    "print toc - tic"
   ]
  },
  {
   "cell_type": "code",
   "execution_count": 52,
   "metadata": {
    "collapsed": false
   },
   "outputs": [
    {
     "name": "stdout",
     "output_type": "stream",
     "text": [
      "1.35559280233\n"
     ]
    }
   ],
   "source": [
    "s = range(10000000,1,-1)\n",
    "tic = time.clock()\n",
    "dic = {}\n",
    "for ele in s: # n\n",
    "    if not ele in dic:\n",
    "        dic[ele] = 1\n",
    "    else:\n",
    "        dic[ele] = dic[ele] + 1\n",
    "toc = time.clock()\n",
    "print toc - tic\n",
    "#print dic"
   ]
  },
  {
   "cell_type": "code",
   "execution_count": 11,
   "metadata": {
    "collapsed": true
   },
   "outputs": [],
   "source": [
    "import sqlite3 as lite\n",
    "\n",
    "salary = (\n",
    "    (1 ,          'Paul'  ,      32 ,         'California',  20000),\n",
    "    (2 ,          'Allen' ,      25 ,         'Texas'     ,  15000),\n",
    "    (3 ,          'Teddy' ,      23 ,         'Norway'    ,  20000),\n",
    "    (4 ,          'Mark'  ,      25 ,         'Rich-Mond' ,  65000),\n",
    "    (5 ,          'David' ,      27 ,         'Texas'     ,  85000),\n",
    "    (6 ,          'Kim'   ,      22 ,         'South-Hall',  45000),\n",
    "    (7 ,          'James' ,      24 ,         'Houston'   ,  10000)\n",
    ")\n",
    "department = (\n",
    "(1,           'IT Billing'  ,1),\n",
    "(2,           'Engineerin'  ,2),\n",
    "(3,           'Finance'     ,7),\n",
    "(4,           'Finance'     ,5),\n",
    "(5,           'Finance'     ,6)\n",
    "\n",
    ")"
   ]
  },
  {
   "cell_type": "code",
   "execution_count": 13,
   "metadata": {
    "collapsed": false
   },
   "outputs": [
    {
     "name": "stdout",
     "output_type": "stream",
     "text": [
      "['__add__', '__class__', '__contains__', '__delattr__', '__delitem__', '__delslice__', '__doc__', '__eq__', '__format__', '__ge__', '__getattribute__', '__getitem__', '__getslice__', '__gt__', '__hash__', '__iadd__', '__imul__', '__init__', '__iter__', '__le__', '__len__', '__lt__', '__mul__', '__ne__', '__new__', '__reduce__', '__reduce_ex__', '__repr__', '__reversed__', '__rmul__', '__setattr__', '__setitem__', '__setslice__', '__sizeof__', '__str__', '__subclasshook__', 'append', 'count', 'extend', 'index', 'insert', 'pop', 'remove', 'reverse', 'sort']\n",
      "['__add__', '__class__', '__contains__', '__delattr__', '__doc__', '__eq__', '__format__', '__ge__', '__getattribute__', '__getitem__', '__getnewargs__', '__getslice__', '__gt__', '__hash__', '__init__', '__iter__', '__le__', '__len__', '__lt__', '__mul__', '__ne__', '__new__', '__reduce__', '__reduce_ex__', '__repr__', '__rmul__', '__setattr__', '__sizeof__', '__str__', '__subclasshook__', 'count', 'index']\n"
     ]
    }
   ],
   "source": [
    "a = [1,2,3]\n",
    "b = (1,2,3)\n",
    "print dir(a)\n",
    "print dir(b)"
   ]
  },
  {
   "cell_type": "code",
   "execution_count": 12,
   "metadata": {
    "collapsed": true
   },
   "outputs": [],
   "source": [
    "con = lite.connect('test.sqlite')\n",
    "\n",
    "with con:\n",
    "    \n",
    "    cur = con.cursor()    \n",
    "    \n",
    "    cur.execute(\"DROP TABLE IF EXISTS Salary\")\n",
    "    cur.execute(\"DROP TABLE IF EXISTS Department\")\n",
    "    \n",
    "    cur.execute(\"CREATE TABLE Salary(ID INT, NAME TEXT, AGE INT, ADDRESS TEXT, SALARY INT, FOREIGN KEY(ID) REFERENCES QOO(EMP_ID))\")\n",
    "    cur.executemany(\"INSERT INTO Salary VALUES(?, ?, ?, ?, ?)\", salary)\n",
    "    \n",
    "    cur.execute(\"CREATE TABLE Department(ID INT PRIMARY KEY, DEPT CHAR(50), EMP_ID INT)\")\n",
    "    cur.executemany(\"INSERT INTO Department VALUES(?, ?, ?)\", department)\n",
    "con.close() "
   ]
  },
  {
   "cell_type": "code",
   "execution_count": 16,
   "metadata": {
    "collapsed": false
   },
   "outputs": [
    {
     "name": "stdout",
     "output_type": "stream",
     "text": [
      "4.0039999485\n",
      "(1000000,)\n"
     ]
    }
   ],
   "source": [
    "import time\n",
    "dbname = 'test.sqlite'\n",
    "con = lite.connect(dbname)\n",
    "\n",
    "with con:\n",
    "    \n",
    "    cur = con.cursor()        \n",
    "    cur.execute(\"DROP TABLE IF EXISTS ptest\")\n",
    "    cur.execute(\"CREATE TABLE ptest(ID INT)\")\n",
    "    start = time.time()\n",
    "    for i in range(0,1000000):\n",
    "        cur.execute(\"INSERT INTO ptest VALUES(%s)\"%(i))\n",
    "    end = time.time()\n",
    "    print end -start\n",
    "    cur.execute(\"select count(1) from ptest\")\n",
    "    rows = cur.fetchone()\n",
    "    print rows\n",
    "\n",
    "con.close() "
   ]
  },
  {
   "cell_type": "code",
   "execution_count": 17,
   "metadata": {
    "collapsed": false
   },
   "outputs": [
    {
     "name": "stdout",
     "output_type": "stream",
     "text": [
      "0.868999958038\n",
      "(1000000,)\n"
     ]
    }
   ],
   "source": [
    "dbname = 'test.sqlite'\n",
    "con = lite.connect(dbname)\n",
    "with con:\n",
    "    \n",
    "    cur = con.cursor()    \n",
    "    \n",
    "    cur.execute(\"DROP TABLE IF EXISTS ptest\")\n",
    "    cur.execute(\"CREATE TABLE ptest(ID INT)\")\n",
    "    start = time.time()\n",
    "    cur.executemany(\"INSERT INTO ptest VALUES(?)\",((id_, ) for id_ in xrange(1000000)))\n",
    "    end = time.time()\n",
    "    print end - start\n",
    "    cur.execute(\"select count(1) from ptest\")\n",
    "    rows = cur.fetchone()\n",
    "    print rows\n",
    "\n",
    "con.close() "
   ]
  },
  {
   "cell_type": "code",
   "execution_count": 21,
   "metadata": {
    "collapsed": false
   },
   "outputs": [
    {
     "name": "stdout",
     "output_type": "stream",
     "text": [
      "(u'0928375018', u'Tokyo Japan', u'MuMu Cat', 9)\n"
     ]
    }
   ],
   "source": [
    "con = lite.connect('test.sqlite')\n",
    "\n",
    "Phone = '0928375018'\n",
    "Age = 9 \n",
    "\n",
    "with con:\n",
    "\n",
    "    cur = con.cursor()    \n",
    "    cur.execute(\"select * from PhoneAddress\") \n",
    "    rows = cur.fetchall()\n",
    "\n",
    "    #for row in rows:\n",
    "    #    print row\n",
    "    cur.execute(\"UPDATE PhoneAddress SET age=? WHERE phone=?\", (Age, Phone))        \n",
    "    con.commit()\n",
    "    #con.rollback()\n",
    "    \n",
    "    cur.execute(\"select * from PhoneAddress where phone=?\", (Phone,)) \n",
    "    rows = cur.fetchall()\n",
    "\n",
    "    for row in rows:\n",
    "        print row\n",
    "con.close() "
   ]
  },
  {
   "cell_type": "code",
   "execution_count": 32,
   "metadata": {
    "collapsed": false
   },
   "outputs": [
    {
     "name": "stdout",
     "output_type": "stream",
     "text": [
      "樂立扣│外套就是保暖罩 提案者： 美美加MeiMeiJia $240,339 剩餘 12 天\n",
      "iDAC耳機擴大機 讓您聽見真實的音樂 提案者： 聲浪科技股份有限公司 $748,777 最後 80 小時\n",
      "重甲機神第一集《台灣人之不得不成為救世主！》22分鐘製作計畫始動！ 提案者： 重甲機神團隊 $1,238,966 剩餘 10 天\n",
      "究舒系絕佳氣密口罩：真正保護你和你愛的人 提案者： BrealaxLab $136,062 剩餘 27 天\n",
      "智慧全藍芽胎壓偵測器——即時守護你的行車安全 提案者： Perun Tech $172,624 剩餘 36 天\n",
      "人權辦桌　油燙燙的手 提案者： 人權辦桌工作小組 $204,244 最後 80 小時\n",
      "元沛農坊廚餘堆肥募資計畫-為台灣實現一個綠色永續的夢想 提案者： 元沛農坊 $1,018,651 剩餘 17 天\n",
      "帶著台灣去旅行,原創設計-彈性行李箱\"套\" 提案者： Macrocity $81,150 最後 8 小時\n",
      "228共生音樂節：我們在這裡 提案者： 共生音樂節 $192,686 剩餘 14 天\n",
      "「嶼貓計畫」第一彈「浪愛為鄰」──友善街貓，從心開始 提案者： 嶼貓 $219,028 剩餘 14 天\n",
      "野鳥小麻吉 提案者： 翁政鴻 $157,250 剩餘 11 天\n",
      "哈囉臺灣策略桌遊 提案者： 姜創圳 $254,060 剩餘 9 天\n",
      "Lokah Tayal Tbula 努力泰雅。銀珠香米助耕計劃 提案者： 好福食研室 $412,427 剩餘 32 天\n",
      "23號半《到處都是庫巴的嘍囉》專輯募資計劃 提案者： 23號半 $140,091 剩餘 29 天\n",
      "親愛的琴：88的第一步 提案者： Taiwan88 $487,420 剩餘 12 天\n",
      "首創戴口罩耳朵不會痛了【口罩護耳膠條】 提案者： 加泓優 $27,384 剩餘 38 天\n",
      "I Charleston Taipei - 復古搖擺舞台北影片拍攝計畫 提案者： Naughty Swing $75,687 剩餘 22 天\n",
      "《翔言詳語－Talk to You》心情寫真書募資計劃起跑 提案者： 南拳媽媽 $91,564 剩餘 30 天\n",
      "讓妳各種姿勢都能尿尿的Weepee！ 提案者： Inion Design Associates $18,300 剩餘 40 天\n",
      "育幼院孩童尋路計畫，《馴鹿列車》完整收錄百種職業的童話故事繪本的誕生 提案者： 好日襪品Howrsocks $164,911 剩餘 22 天\n",
      "《西門小故事》影像募資計畫 提案者： jrthomann $48,404 剩餘 50 天\n",
      "轉角遇見愛：全台愛滋零距離巡迴計畫 提案者： 台灣同志諮詢熱線 $129,052 剩餘 57 天\n",
      "愛國T恤-5/20邀請您，一起穿出屬於台灣人的榮耀 提案者： 點子庫，酷點子 $3,000 剩餘 34 天\n",
      "送溫暖到全台-【鬼娃行腳‧公益巡演】演出經費募資計畫 提案者： 鬼娃劇團 $8,350 剩餘 38 天\n",
      "尋回愛與回憶記錄-樂齡體適能環島紀錄片 提案者： Yiting $20,700 剩餘 9 天\n",
      "偏鄉活化教學-巡迴義演列車 提案者： 圓園方坊 $75,100 剩餘 32 天\n",
      "第一屆環太平洋烏克麗麗音樂節 提案者： 陳愷徽 $49,986 剩餘 51 天\n",
      "將好咖啡留在台灣 - 100%台灣原生豆 提案者： 禾富cat coffee $20,700 剩餘 27 天\n",
      "3D Boy 創意實現家，實現您的創意。 提案者： lzx $11,500 剩餘 53 天\n",
      "艾法科技 台灣發明專利-電池量測器  提案者： AIFA TECH $18,603 剩餘 16 天\n",
      "全球第一款：有機米糠製保養品－Reise 米膚 提案者： Reise 米膚保養 $107,161 剩餘 57 天\n",
      "《樂居》房價透明計畫 — 覓得好屋，樂其所居 提案者： 樂居 $30,600 剩餘 36 天\n",
      "《書屋》公益紀錄片後製募資計畫 提案者： 台灣好夥伴 $25,901 剩餘 9 天\n",
      "許程崴製作舞團《禮祭》英國愛丁堡藝穗節台灣季募資計劃 提案者： 許程崴 $26,000 剩餘 50 天\n",
      "適者生存樂團 ─〈外地人〉MV 拍攝計畫 提案者： 適者生存樂團 $8,050 剩餘 57 天\n",
      "Addwii Box：用3D列印培養下一個賈伯斯 提案者： Addwii 加我 $19,999 最後 80 小時\n",
      "辦桌－建築喜宴   2016 台灣科技大學建築系畢業設計專刊 提案者： 鍾文豪 $4,000 剩餘 44 天\n",
      "【晝】金工設計 : 純手工訂製相機熱靴保護蓋 提案者： Rita $3,000 剩餘 35 天\n",
      "我要上班了!　唐寶寶工作坊入厝募資計劃 提案者： 唐寶寶 $6,300 剩餘 50 天\n",
      "搶救便便公主 提案者： 邱于慈 $600 剩餘 39 天\n",
      "高齊克GOALKEEPER - 第一章 : 鉛管大作戰之HB龍頭 提案者： 高齊克 $6,565 剩餘 20 天\n",
      "[Breathe Phone] 讓您的手機會呼吸 提案者： YCCT 沅澄創意科技 $19,550 最後 80 小時\n",
      "台灣本土醫院動畫【醫院也瘋狂】特別篇募資專案 提案者： 醫院也瘋狂製作團隊 $10,600 剩餘 35 天\n",
      "我動故我在，領航新世代 提案者： 阮慧貞 $1,400 剩餘 30 天\n",
      "用行動APP送愛心-關懷弱勢族群(用社會的力量幫助更多需要的人) 提案者： 弱勢站起來 $5,700 剩餘 32 天\n",
      "Smart Shower -因著『愛』看見家人的需要 提案者： Love-Family $3,600 剩餘 58 天\n",
      "Hungry AR 桌遊卡片 - 好玩學語言。 提案者： ArdigitC Ltd $1,600 剩餘 13 天\n",
      "當原藝團隊站上國際舞台，需要你我支持 提案者： 洄瀾舞集 $500 最後 80 小時\n",
      "媽咪的台灣味便當 提案者： Wang $1,100 剩餘 29 天\n",
      "魔豆啊魔豆….把我家遙控器合而為一吧!  提案者： NxControl $100 剩餘 35 天\n",
      "親親海洋紀錄片Embrace   the Ocean 後製發行推廣 提案者： 吳惠君 $1,200 剩餘 31 天\n",
      "正義衙門，打開台灣的正義之門 提案者： Taiwan Love $200 剩餘 11 天\n",
      "巴薩卡系列潮帽 X 防身 X 獨特 提案者： 賴政緯 $0 剩餘 31 天\n",
      "專屬健康管理顧問│補足醫療制度的最大缺口 提案者： milucu $0 剩餘 57 天\n",
      "多特皮革手工安全帽設計生產計劃 提案者： 多特 $0 剩餘 29 天\n",
      "可用筷子夾的湯匙 提案者： 趙康明 $0 剩餘 60 天\n",
      "動力發電 提案者： 周春木 $0 剩餘 12 天\n",
      "我愛定向 提案者： 蔡進修 d03410347 $0 剩餘 56 天\n",
      "無麩質飲食,讓你不生病(客製化無麩質布朗尼,素食鬆餅) 提案者： Irin $0 剩餘 12 天\n",
      "\"環保+防燙手多功能咖啡杯\" – 改善傳統咖啡杯的功能 提案者： fip $0 剩餘 25 天\n",
      "食安守護神計畫-五道把關 讓您吃得安心 提案者： 黃翔宇 $0 剩餘 35 天\n"
     ]
    }
   ],
   "source": [
    "import requests\n",
    "from bs4 import BeautifulSoup\n",
    "res = requests.get('https://www.flyingv.cc/type/online')\n",
    "soup = BeautifulSoup(res.text)\n",
    "for portfolio in soup.select('.portfolio-item-wrapper'):\n",
    "    print portfolio.select('h5')[0].text, \\\n",
    "          portfolio.select('.unit-owner')[0].text.strip(), \\\n",
    "          portfolio.select('.flyingred')[0].text.strip(), \\\n",
    "          portfolio.select('.unit-time')[0].text.strip()\n",
    "        \n",
    "#print res.text"
   ]
  },
  {
   "cell_type": "code",
   "execution_count": 33,
   "metadata": {
    "collapsed": true
   },
   "outputs": [],
   "source": [
    "import requests\n",
    "from bs4 import BeautifulSoup\n",
    "import pandas as pd\n",
    "res = requests.get('https://www.flyingv.cc/type/online')\n",
    "soup = BeautifulSoup(res.text)\n",
    "portfolio_items = []\n",
    "for portfolio in soup.select('.portfolio-item-wrapper'):\n",
    "    portfolio_items.append({'title': portfolio.select('h5')[0].text, \\\n",
    "           'owner': portfolio.select('.unit-owner')[0].text.strip(), \\\n",
    "           'price': portfolio.select('.flyingred')[0].text.strip(), \\\n",
    "           'time': portfolio.select('.unit-time')[0].text.strip()})"
   ]
  },
  {
   "cell_type": "code",
   "execution_count": 34,
   "metadata": {
    "collapsed": false
   },
   "outputs": [
    {
     "data": {
      "text/html": [
       "<div>\n",
       "<table border=\"1\" class=\"dataframe\">\n",
       "  <thead>\n",
       "    <tr style=\"text-align: right;\">\n",
       "      <th></th>\n",
       "      <th>owner</th>\n",
       "      <th>price</th>\n",
       "      <th>time</th>\n",
       "      <th>title</th>\n",
       "    </tr>\n",
       "  </thead>\n",
       "  <tbody>\n",
       "    <tr>\n",
       "      <th>0</th>\n",
       "      <td>提案者： 美美加MeiMeiJia</td>\n",
       "      <td>$240,339</td>\n",
       "      <td>剩餘 12 天</td>\n",
       "      <td>樂立扣│外套就是保暖罩</td>\n",
       "    </tr>\n",
       "    <tr>\n",
       "      <th>1</th>\n",
       "      <td>提案者： 聲浪科技股份有限公司</td>\n",
       "      <td>$748,777</td>\n",
       "      <td>最後 80 小時</td>\n",
       "      <td>iDAC耳機擴大機 讓您聽見真實的音樂</td>\n",
       "    </tr>\n",
       "    <tr>\n",
       "      <th>2</th>\n",
       "      <td>提案者： 重甲機神團隊</td>\n",
       "      <td>$1,238,966</td>\n",
       "      <td>剩餘 10 天</td>\n",
       "      <td>重甲機神第一集《台灣人之不得不成為救世主！》22分鐘製作計畫始動！</td>\n",
       "    </tr>\n",
       "    <tr>\n",
       "      <th>3</th>\n",
       "      <td>提案者： BrealaxLab</td>\n",
       "      <td>$136,062</td>\n",
       "      <td>剩餘 27 天</td>\n",
       "      <td>究舒系絕佳氣密口罩：真正保護你和你愛的人</td>\n",
       "    </tr>\n",
       "    <tr>\n",
       "      <th>4</th>\n",
       "      <td>提案者： Perun Tech</td>\n",
       "      <td>$172,624</td>\n",
       "      <td>剩餘 36 天</td>\n",
       "      <td>智慧全藍芽胎壓偵測器——即時守護你的行車安全</td>\n",
       "    </tr>\n",
       "    <tr>\n",
       "      <th>5</th>\n",
       "      <td>提案者： 人權辦桌工作小組</td>\n",
       "      <td>$204,244</td>\n",
       "      <td>最後 80 小時</td>\n",
       "      <td>人權辦桌　油燙燙的手</td>\n",
       "    </tr>\n",
       "    <tr>\n",
       "      <th>6</th>\n",
       "      <td>提案者： 元沛農坊</td>\n",
       "      <td>$1,018,651</td>\n",
       "      <td>剩餘 17 天</td>\n",
       "      <td>元沛農坊廚餘堆肥募資計畫-為台灣實現一個綠色永續的夢想</td>\n",
       "    </tr>\n",
       "    <tr>\n",
       "      <th>7</th>\n",
       "      <td>提案者： Macrocity</td>\n",
       "      <td>$81,150</td>\n",
       "      <td>最後 8 小時</td>\n",
       "      <td>帶著台灣去旅行,原創設計-彈性行李箱\"套\"</td>\n",
       "    </tr>\n",
       "    <tr>\n",
       "      <th>8</th>\n",
       "      <td>提案者： 共生音樂節</td>\n",
       "      <td>$192,686</td>\n",
       "      <td>剩餘 14 天</td>\n",
       "      <td>228共生音樂節：我們在這裡</td>\n",
       "    </tr>\n",
       "    <tr>\n",
       "      <th>9</th>\n",
       "      <td>提案者： 嶼貓</td>\n",
       "      <td>$219,028</td>\n",
       "      <td>剩餘 14 天</td>\n",
       "      <td>「嶼貓計畫」第一彈「浪愛為鄰」──友善街貓，從心開始</td>\n",
       "    </tr>\n",
       "    <tr>\n",
       "      <th>10</th>\n",
       "      <td>提案者： 翁政鴻</td>\n",
       "      <td>$157,250</td>\n",
       "      <td>剩餘 11 天</td>\n",
       "      <td>野鳥小麻吉</td>\n",
       "    </tr>\n",
       "    <tr>\n",
       "      <th>11</th>\n",
       "      <td>提案者： 姜創圳</td>\n",
       "      <td>$254,060</td>\n",
       "      <td>剩餘 9 天</td>\n",
       "      <td>哈囉臺灣策略桌遊</td>\n",
       "    </tr>\n",
       "    <tr>\n",
       "      <th>12</th>\n",
       "      <td>提案者： 好福食研室</td>\n",
       "      <td>$412,427</td>\n",
       "      <td>剩餘 32 天</td>\n",
       "      <td>Lokah Tayal Tbula 努力泰雅。銀珠香米助耕計劃</td>\n",
       "    </tr>\n",
       "    <tr>\n",
       "      <th>13</th>\n",
       "      <td>提案者： 23號半</td>\n",
       "      <td>$140,091</td>\n",
       "      <td>剩餘 29 天</td>\n",
       "      <td>23號半《到處都是庫巴的嘍囉》專輯募資計劃</td>\n",
       "    </tr>\n",
       "    <tr>\n",
       "      <th>14</th>\n",
       "      <td>提案者： Taiwan88</td>\n",
       "      <td>$487,420</td>\n",
       "      <td>剩餘 12 天</td>\n",
       "      <td>親愛的琴：88的第一步</td>\n",
       "    </tr>\n",
       "    <tr>\n",
       "      <th>15</th>\n",
       "      <td>提案者： 加泓優</td>\n",
       "      <td>$27,384</td>\n",
       "      <td>剩餘 38 天</td>\n",
       "      <td>首創戴口罩耳朵不會痛了【口罩護耳膠條】</td>\n",
       "    </tr>\n",
       "    <tr>\n",
       "      <th>16</th>\n",
       "      <td>提案者： Naughty Swing</td>\n",
       "      <td>$75,687</td>\n",
       "      <td>剩餘 22 天</td>\n",
       "      <td>I Charleston Taipei - 復古搖擺舞台北影片拍攝計畫</td>\n",
       "    </tr>\n",
       "    <tr>\n",
       "      <th>17</th>\n",
       "      <td>提案者： 南拳媽媽</td>\n",
       "      <td>$91,564</td>\n",
       "      <td>剩餘 30 天</td>\n",
       "      <td>《翔言詳語－Talk to You》心情寫真書募資計劃起跑</td>\n",
       "    </tr>\n",
       "    <tr>\n",
       "      <th>18</th>\n",
       "      <td>提案者： Inion Design Associates</td>\n",
       "      <td>$18,300</td>\n",
       "      <td>剩餘 40 天</td>\n",
       "      <td>讓妳各種姿勢都能尿尿的Weepee！</td>\n",
       "    </tr>\n",
       "    <tr>\n",
       "      <th>19</th>\n",
       "      <td>提案者： 好日襪品Howrsocks</td>\n",
       "      <td>$164,911</td>\n",
       "      <td>剩餘 22 天</td>\n",
       "      <td>育幼院孩童尋路計畫，《馴鹿列車》完整收錄百種職業的童話故事繪本的誕生</td>\n",
       "    </tr>\n",
       "    <tr>\n",
       "      <th>20</th>\n",
       "      <td>提案者： jrthomann</td>\n",
       "      <td>$48,404</td>\n",
       "      <td>剩餘 50 天</td>\n",
       "      <td>《西門小故事》影像募資計畫</td>\n",
       "    </tr>\n",
       "    <tr>\n",
       "      <th>21</th>\n",
       "      <td>提案者： 台灣同志諮詢熱線</td>\n",
       "      <td>$129,052</td>\n",
       "      <td>剩餘 57 天</td>\n",
       "      <td>轉角遇見愛：全台愛滋零距離巡迴計畫</td>\n",
       "    </tr>\n",
       "    <tr>\n",
       "      <th>22</th>\n",
       "      <td>提案者： 點子庫，酷點子</td>\n",
       "      <td>$3,000</td>\n",
       "      <td>剩餘 34 天</td>\n",
       "      <td>愛國T恤-5/20邀請您，一起穿出屬於台灣人的榮耀</td>\n",
       "    </tr>\n",
       "    <tr>\n",
       "      <th>23</th>\n",
       "      <td>提案者： 鬼娃劇團</td>\n",
       "      <td>$8,350</td>\n",
       "      <td>剩餘 38 天</td>\n",
       "      <td>送溫暖到全台-【鬼娃行腳‧公益巡演】演出經費募資計畫</td>\n",
       "    </tr>\n",
       "    <tr>\n",
       "      <th>24</th>\n",
       "      <td>提案者： Yiting</td>\n",
       "      <td>$20,700</td>\n",
       "      <td>剩餘 9 天</td>\n",
       "      <td>尋回愛與回憶記錄-樂齡體適能環島紀錄片</td>\n",
       "    </tr>\n",
       "    <tr>\n",
       "      <th>25</th>\n",
       "      <td>提案者： 圓園方坊</td>\n",
       "      <td>$75,100</td>\n",
       "      <td>剩餘 32 天</td>\n",
       "      <td>偏鄉活化教學-巡迴義演列車</td>\n",
       "    </tr>\n",
       "    <tr>\n",
       "      <th>26</th>\n",
       "      <td>提案者： 陳愷徽</td>\n",
       "      <td>$49,986</td>\n",
       "      <td>剩餘 51 天</td>\n",
       "      <td>第一屆環太平洋烏克麗麗音樂節</td>\n",
       "    </tr>\n",
       "    <tr>\n",
       "      <th>27</th>\n",
       "      <td>提案者： 禾富cat coffee</td>\n",
       "      <td>$20,700</td>\n",
       "      <td>剩餘 27 天</td>\n",
       "      <td>將好咖啡留在台灣 - 100%台灣原生豆</td>\n",
       "    </tr>\n",
       "    <tr>\n",
       "      <th>28</th>\n",
       "      <td>提案者： lzx</td>\n",
       "      <td>$11,500</td>\n",
       "      <td>剩餘 53 天</td>\n",
       "      <td>3D Boy 創意實現家，實現您的創意。</td>\n",
       "    </tr>\n",
       "    <tr>\n",
       "      <th>29</th>\n",
       "      <td>提案者： AIFA TECH</td>\n",
       "      <td>$18,603</td>\n",
       "      <td>剩餘 16 天</td>\n",
       "      <td>艾法科技 台灣發明專利-電池量測器</td>\n",
       "    </tr>\n",
       "    <tr>\n",
       "      <th>...</th>\n",
       "      <td>...</td>\n",
       "      <td>...</td>\n",
       "      <td>...</td>\n",
       "      <td>...</td>\n",
       "    </tr>\n",
       "    <tr>\n",
       "      <th>31</th>\n",
       "      <td>提案者： 樂居</td>\n",
       "      <td>$30,600</td>\n",
       "      <td>剩餘 36 天</td>\n",
       "      <td>《樂居》房價透明計畫 — 覓得好屋，樂其所居</td>\n",
       "    </tr>\n",
       "    <tr>\n",
       "      <th>32</th>\n",
       "      <td>提案者： 台灣好夥伴</td>\n",
       "      <td>$25,901</td>\n",
       "      <td>剩餘 9 天</td>\n",
       "      <td>《書屋》公益紀錄片後製募資計畫</td>\n",
       "    </tr>\n",
       "    <tr>\n",
       "      <th>33</th>\n",
       "      <td>提案者： 許程崴</td>\n",
       "      <td>$26,000</td>\n",
       "      <td>剩餘 50 天</td>\n",
       "      <td>許程崴製作舞團《禮祭》英國愛丁堡藝穗節台灣季募資計劃</td>\n",
       "    </tr>\n",
       "    <tr>\n",
       "      <th>34</th>\n",
       "      <td>提案者： 適者生存樂團</td>\n",
       "      <td>$8,050</td>\n",
       "      <td>剩餘 57 天</td>\n",
       "      <td>適者生存樂團 ─〈外地人〉MV 拍攝計畫</td>\n",
       "    </tr>\n",
       "    <tr>\n",
       "      <th>35</th>\n",
       "      <td>提案者： Addwii 加我</td>\n",
       "      <td>$19,999</td>\n",
       "      <td>最後 80 小時</td>\n",
       "      <td>Addwii Box：用3D列印培養下一個賈伯斯</td>\n",
       "    </tr>\n",
       "    <tr>\n",
       "      <th>36</th>\n",
       "      <td>提案者： 鍾文豪</td>\n",
       "      <td>$4,000</td>\n",
       "      <td>剩餘 44 天</td>\n",
       "      <td>辦桌－建築喜宴   2016 台灣科技大學建築系畢業設計專刊</td>\n",
       "    </tr>\n",
       "    <tr>\n",
       "      <th>37</th>\n",
       "      <td>提案者： Rita</td>\n",
       "      <td>$3,000</td>\n",
       "      <td>剩餘 35 天</td>\n",
       "      <td>【晝】金工設計 : 純手工訂製相機熱靴保護蓋</td>\n",
       "    </tr>\n",
       "    <tr>\n",
       "      <th>38</th>\n",
       "      <td>提案者： 唐寶寶</td>\n",
       "      <td>$6,300</td>\n",
       "      <td>剩餘 50 天</td>\n",
       "      <td>我要上班了!　唐寶寶工作坊入厝募資計劃</td>\n",
       "    </tr>\n",
       "    <tr>\n",
       "      <th>39</th>\n",
       "      <td>提案者： 邱于慈</td>\n",
       "      <td>$600</td>\n",
       "      <td>剩餘 39 天</td>\n",
       "      <td>搶救便便公主</td>\n",
       "    </tr>\n",
       "    <tr>\n",
       "      <th>40</th>\n",
       "      <td>提案者： 高齊克</td>\n",
       "      <td>$6,565</td>\n",
       "      <td>剩餘 20 天</td>\n",
       "      <td>高齊克GOALKEEPER - 第一章 : 鉛管大作戰之HB龍頭</td>\n",
       "    </tr>\n",
       "    <tr>\n",
       "      <th>41</th>\n",
       "      <td>提案者： YCCT 沅澄創意科技</td>\n",
       "      <td>$19,550</td>\n",
       "      <td>最後 80 小時</td>\n",
       "      <td>[Breathe Phone] 讓您的手機會呼吸</td>\n",
       "    </tr>\n",
       "    <tr>\n",
       "      <th>42</th>\n",
       "      <td>提案者： 醫院也瘋狂製作團隊</td>\n",
       "      <td>$10,600</td>\n",
       "      <td>剩餘 35 天</td>\n",
       "      <td>台灣本土醫院動畫【醫院也瘋狂】特別篇募資專案</td>\n",
       "    </tr>\n",
       "    <tr>\n",
       "      <th>43</th>\n",
       "      <td>提案者： 阮慧貞</td>\n",
       "      <td>$1,400</td>\n",
       "      <td>剩餘 30 天</td>\n",
       "      <td>我動故我在，領航新世代</td>\n",
       "    </tr>\n",
       "    <tr>\n",
       "      <th>44</th>\n",
       "      <td>提案者： 弱勢站起來</td>\n",
       "      <td>$5,700</td>\n",
       "      <td>剩餘 32 天</td>\n",
       "      <td>用行動APP送愛心-關懷弱勢族群(用社會的力量幫助更多需要的人)</td>\n",
       "    </tr>\n",
       "    <tr>\n",
       "      <th>45</th>\n",
       "      <td>提案者： Love-Family</td>\n",
       "      <td>$3,600</td>\n",
       "      <td>剩餘 58 天</td>\n",
       "      <td>Smart Shower -因著『愛』看見家人的需要</td>\n",
       "    </tr>\n",
       "    <tr>\n",
       "      <th>46</th>\n",
       "      <td>提案者： ArdigitC Ltd</td>\n",
       "      <td>$1,600</td>\n",
       "      <td>剩餘 13 天</td>\n",
       "      <td>Hungry AR 桌遊卡片 - 好玩學語言。</td>\n",
       "    </tr>\n",
       "    <tr>\n",
       "      <th>47</th>\n",
       "      <td>提案者： 洄瀾舞集</td>\n",
       "      <td>$500</td>\n",
       "      <td>最後 80 小時</td>\n",
       "      <td>當原藝團隊站上國際舞台，需要你我支持</td>\n",
       "    </tr>\n",
       "    <tr>\n",
       "      <th>48</th>\n",
       "      <td>提案者： Wang</td>\n",
       "      <td>$1,100</td>\n",
       "      <td>剩餘 29 天</td>\n",
       "      <td>媽咪的台灣味便當</td>\n",
       "    </tr>\n",
       "    <tr>\n",
       "      <th>49</th>\n",
       "      <td>提案者： NxControl</td>\n",
       "      <td>$100</td>\n",
       "      <td>剩餘 35 天</td>\n",
       "      <td>魔豆啊魔豆….把我家遙控器合而為一吧!</td>\n",
       "    </tr>\n",
       "    <tr>\n",
       "      <th>50</th>\n",
       "      <td>提案者： 吳惠君</td>\n",
       "      <td>$1,200</td>\n",
       "      <td>剩餘 31 天</td>\n",
       "      <td>親親海洋紀錄片Embrace   the Ocean 後製發行推廣</td>\n",
       "    </tr>\n",
       "    <tr>\n",
       "      <th>51</th>\n",
       "      <td>提案者： Taiwan Love</td>\n",
       "      <td>$200</td>\n",
       "      <td>剩餘 11 天</td>\n",
       "      <td>正義衙門，打開台灣的正義之門</td>\n",
       "    </tr>\n",
       "    <tr>\n",
       "      <th>52</th>\n",
       "      <td>提案者： 賴政緯</td>\n",
       "      <td>$0</td>\n",
       "      <td>剩餘 31 天</td>\n",
       "      <td>巴薩卡系列潮帽 X 防身 X 獨特</td>\n",
       "    </tr>\n",
       "    <tr>\n",
       "      <th>53</th>\n",
       "      <td>提案者： milucu</td>\n",
       "      <td>$0</td>\n",
       "      <td>剩餘 57 天</td>\n",
       "      <td>專屬健康管理顧問│補足醫療制度的最大缺口</td>\n",
       "    </tr>\n",
       "    <tr>\n",
       "      <th>54</th>\n",
       "      <td>提案者： 多特</td>\n",
       "      <td>$0</td>\n",
       "      <td>剩餘 29 天</td>\n",
       "      <td>多特皮革手工安全帽設計生產計劃</td>\n",
       "    </tr>\n",
       "    <tr>\n",
       "      <th>55</th>\n",
       "      <td>提案者： 趙康明</td>\n",
       "      <td>$0</td>\n",
       "      <td>剩餘 60 天</td>\n",
       "      <td>可用筷子夾的湯匙</td>\n",
       "    </tr>\n",
       "    <tr>\n",
       "      <th>56</th>\n",
       "      <td>提案者： 周春木</td>\n",
       "      <td>$0</td>\n",
       "      <td>剩餘 12 天</td>\n",
       "      <td>動力發電</td>\n",
       "    </tr>\n",
       "    <tr>\n",
       "      <th>57</th>\n",
       "      <td>提案者： 蔡進修 d03410347</td>\n",
       "      <td>$0</td>\n",
       "      <td>剩餘 56 天</td>\n",
       "      <td>我愛定向</td>\n",
       "    </tr>\n",
       "    <tr>\n",
       "      <th>58</th>\n",
       "      <td>提案者： Irin</td>\n",
       "      <td>$0</td>\n",
       "      <td>剩餘 12 天</td>\n",
       "      <td>無麩質飲食,讓你不生病(客製化無麩質布朗尼,素食鬆餅)</td>\n",
       "    </tr>\n",
       "    <tr>\n",
       "      <th>59</th>\n",
       "      <td>提案者： fip</td>\n",
       "      <td>$0</td>\n",
       "      <td>剩餘 25 天</td>\n",
       "      <td>\"環保+防燙手多功能咖啡杯\" – 改善傳統咖啡杯的功能</td>\n",
       "    </tr>\n",
       "    <tr>\n",
       "      <th>60</th>\n",
       "      <td>提案者： 黃翔宇</td>\n",
       "      <td>$0</td>\n",
       "      <td>剩餘 35 天</td>\n",
       "      <td>食安守護神計畫-五道把關 讓您吃得安心</td>\n",
       "    </tr>\n",
       "  </tbody>\n",
       "</table>\n",
       "<p>61 rows × 4 columns</p>\n",
       "</div>"
      ],
      "text/plain": [
       "                           owner       price      time  \\\n",
       "0              提案者： 美美加MeiMeiJia    $240,339   剩餘 12 天   \n",
       "1                提案者： 聲浪科技股份有限公司    $748,777  最後 80 小時   \n",
       "2                    提案者： 重甲機神團隊  $1,238,966   剩餘 10 天   \n",
       "3                提案者： BrealaxLab    $136,062   剩餘 27 天   \n",
       "4                提案者： Perun Tech    $172,624   剩餘 36 天   \n",
       "5                  提案者： 人權辦桌工作小組    $204,244  最後 80 小時   \n",
       "6                      提案者： 元沛農坊  $1,018,651   剩餘 17 天   \n",
       "7                 提案者： Macrocity     $81,150   最後 8 小時   \n",
       "8                     提案者： 共生音樂節    $192,686   剩餘 14 天   \n",
       "9                        提案者： 嶼貓    $219,028   剩餘 14 天   \n",
       "10                      提案者： 翁政鴻    $157,250   剩餘 11 天   \n",
       "11                      提案者： 姜創圳    $254,060    剩餘 9 天   \n",
       "12                    提案者： 好福食研室    $412,427   剩餘 32 天   \n",
       "13                     提案者： 23號半    $140,091   剩餘 29 天   \n",
       "14                 提案者： Taiwan88    $487,420   剩餘 12 天   \n",
       "15                      提案者： 加泓優     $27,384   剩餘 38 天   \n",
       "16            提案者： Naughty Swing     $75,687   剩餘 22 天   \n",
       "17                     提案者： 南拳媽媽     $91,564   剩餘 30 天   \n",
       "18  提案者： Inion Design Associates     $18,300   剩餘 40 天   \n",
       "19            提案者： 好日襪品Howrsocks    $164,911   剩餘 22 天   \n",
       "20                提案者： jrthomann     $48,404   剩餘 50 天   \n",
       "21                 提案者： 台灣同志諮詢熱線    $129,052   剩餘 57 天   \n",
       "22                  提案者： 點子庫，酷點子      $3,000   剩餘 34 天   \n",
       "23                     提案者： 鬼娃劇團      $8,350   剩餘 38 天   \n",
       "24                   提案者： Yiting     $20,700    剩餘 9 天   \n",
       "25                     提案者： 圓園方坊     $75,100   剩餘 32 天   \n",
       "26                      提案者： 陳愷徽     $49,986   剩餘 51 天   \n",
       "27             提案者： 禾富cat coffee     $20,700   剩餘 27 天   \n",
       "28                      提案者： lzx     $11,500   剩餘 53 天   \n",
       "29                提案者： AIFA TECH     $18,603   剩餘 16 天   \n",
       "..                           ...         ...       ...   \n",
       "31                       提案者： 樂居     $30,600   剩餘 36 天   \n",
       "32                    提案者： 台灣好夥伴     $25,901    剩餘 9 天   \n",
       "33                      提案者： 許程崴     $26,000   剩餘 50 天   \n",
       "34                   提案者： 適者生存樂團      $8,050   剩餘 57 天   \n",
       "35                提案者： Addwii 加我     $19,999  最後 80 小時   \n",
       "36                      提案者： 鍾文豪      $4,000   剩餘 44 天   \n",
       "37                     提案者： Rita      $3,000   剩餘 35 天   \n",
       "38                      提案者： 唐寶寶      $6,300   剩餘 50 天   \n",
       "39                      提案者： 邱于慈        $600   剩餘 39 天   \n",
       "40                      提案者： 高齊克      $6,565   剩餘 20 天   \n",
       "41              提案者： YCCT 沅澄創意科技     $19,550  最後 80 小時   \n",
       "42                提案者： 醫院也瘋狂製作團隊     $10,600   剩餘 35 天   \n",
       "43                      提案者： 阮慧貞      $1,400   剩餘 30 天   \n",
       "44                    提案者： 弱勢站起來      $5,700   剩餘 32 天   \n",
       "45              提案者： Love-Family      $3,600   剩餘 58 天   \n",
       "46             提案者： ArdigitC Ltd      $1,600   剩餘 13 天   \n",
       "47                     提案者： 洄瀾舞集        $500  最後 80 小時   \n",
       "48                     提案者： Wang      $1,100   剩餘 29 天   \n",
       "49                提案者： NxControl        $100   剩餘 35 天   \n",
       "50                      提案者： 吳惠君      $1,200   剩餘 31 天   \n",
       "51              提案者： Taiwan Love        $200   剩餘 11 天   \n",
       "52                      提案者： 賴政緯          $0   剩餘 31 天   \n",
       "53                   提案者： milucu          $0   剩餘 57 天   \n",
       "54                       提案者： 多特          $0   剩餘 29 天   \n",
       "55                      提案者： 趙康明          $0   剩餘 60 天   \n",
       "56                      提案者： 周春木          $0   剩餘 12 天   \n",
       "57            提案者： 蔡進修 d03410347          $0   剩餘 56 天   \n",
       "58                     提案者： Irin          $0   剩餘 12 天   \n",
       "59                      提案者： fip          $0   剩餘 25 天   \n",
       "60                      提案者： 黃翔宇          $0   剩餘 35 天   \n",
       "\n",
       "                                  title  \n",
       "0                           樂立扣│外套就是保暖罩  \n",
       "1                   iDAC耳機擴大機 讓您聽見真實的音樂  \n",
       "2     重甲機神第一集《台灣人之不得不成為救世主！》22分鐘製作計畫始動！  \n",
       "3                  究舒系絕佳氣密口罩：真正保護你和你愛的人  \n",
       "4                智慧全藍芽胎壓偵測器——即時守護你的行車安全  \n",
       "5                            人權辦桌　油燙燙的手  \n",
       "6           元沛農坊廚餘堆肥募資計畫-為台灣實現一個綠色永續的夢想  \n",
       "7                 帶著台灣去旅行,原創設計-彈性行李箱\"套\"  \n",
       "8                        228共生音樂節：我們在這裡  \n",
       "9            「嶼貓計畫」第一彈「浪愛為鄰」──友善街貓，從心開始  \n",
       "10                                野鳥小麻吉  \n",
       "11                             哈囉臺灣策略桌遊  \n",
       "12      Lokah Tayal Tbula 努力泰雅。銀珠香米助耕計劃  \n",
       "13                23號半《到處都是庫巴的嘍囉》專輯募資計劃  \n",
       "14                          親愛的琴：88的第一步  \n",
       "15                  首創戴口罩耳朵不會痛了【口罩護耳膠條】  \n",
       "16  I Charleston Taipei - 復古搖擺舞台北影片拍攝計畫  \n",
       "17        《翔言詳語－Talk to You》心情寫真書募資計劃起跑  \n",
       "18                   讓妳各種姿勢都能尿尿的Weepee！  \n",
       "19   育幼院孩童尋路計畫，《馴鹿列車》完整收錄百種職業的童話故事繪本的誕生  \n",
       "20                        《西門小故事》影像募資計畫  \n",
       "21                    轉角遇見愛：全台愛滋零距離巡迴計畫  \n",
       "22            愛國T恤-5/20邀請您，一起穿出屬於台灣人的榮耀  \n",
       "23           送溫暖到全台-【鬼娃行腳‧公益巡演】演出經費募資計畫  \n",
       "24                  尋回愛與回憶記錄-樂齡體適能環島紀錄片  \n",
       "25                        偏鄉活化教學-巡迴義演列車  \n",
       "26                       第一屆環太平洋烏克麗麗音樂節  \n",
       "27                 將好咖啡留在台灣 - 100%台灣原生豆  \n",
       "28                 3D Boy 創意實現家，實現您的創意。  \n",
       "29                   艾法科技 台灣發明專利-電池量測器   \n",
       "..                                  ...  \n",
       "31               《樂居》房價透明計畫 — 覓得好屋，樂其所居  \n",
       "32                      《書屋》公益紀錄片後製募資計畫  \n",
       "33           許程崴製作舞團《禮祭》英國愛丁堡藝穗節台灣季募資計劃  \n",
       "34                 適者生存樂團 ─〈外地人〉MV 拍攝計畫  \n",
       "35             Addwii Box：用3D列印培養下一個賈伯斯  \n",
       "36       辦桌－建築喜宴   2016 台灣科技大學建築系畢業設計專刊  \n",
       "37               【晝】金工設計 : 純手工訂製相機熱靴保護蓋  \n",
       "38                  我要上班了!　唐寶寶工作坊入厝募資計劃  \n",
       "39                               搶救便便公主  \n",
       "40     高齊克GOALKEEPER - 第一章 : 鉛管大作戰之HB龍頭  \n",
       "41             [Breathe Phone] 讓您的手機會呼吸  \n",
       "42               台灣本土醫院動畫【醫院也瘋狂】特別篇募資專案  \n",
       "43                          我動故我在，領航新世代  \n",
       "44     用行動APP送愛心-關懷弱勢族群(用社會的力量幫助更多需要的人)  \n",
       "45           Smart Shower -因著『愛』看見家人的需要  \n",
       "46              Hungry AR 桌遊卡片 - 好玩學語言。  \n",
       "47                   當原藝團隊站上國際舞台，需要你我支持  \n",
       "48                             媽咪的台灣味便當  \n",
       "49                 魔豆啊魔豆….把我家遙控器合而為一吧!   \n",
       "50    親親海洋紀錄片Embrace   the Ocean 後製發行推廣  \n",
       "51                       正義衙門，打開台灣的正義之門  \n",
       "52                    巴薩卡系列潮帽 X 防身 X 獨特  \n",
       "53                 專屬健康管理顧問│補足醫療制度的最大缺口  \n",
       "54                      多特皮革手工安全帽設計生產計劃  \n",
       "55                             可用筷子夾的湯匙  \n",
       "56                                 動力發電  \n",
       "57                                 我愛定向  \n",
       "58          無麩質飲食,讓你不生病(客製化無麩質布朗尼,素食鬆餅)  \n",
       "59          \"環保+防燙手多功能咖啡杯\" – 改善傳統咖啡杯的功能  \n",
       "60                  食安守護神計畫-五道把關 讓您吃得安心  \n",
       "\n",
       "[61 rows x 4 columns]"
      ]
     },
     "execution_count": 34,
     "metadata": {},
     "output_type": "execute_result"
    }
   ],
   "source": [
    "df = pd.DataFrame(portfolio_items)\n",
    "df"
   ]
  },
  {
   "cell_type": "code",
   "execution_count": 39,
   "metadata": {
    "collapsed": false
   },
   "outputs": [],
   "source": [
    "import requests\n",
    "from bs4 import BeautifulSoup\n",
    "import pandas as pd\n",
    "res = requests.get('https://www.flyingv.cc/type/online')\n",
    "soup = BeautifulSoup(res.text)\n",
    "portfolio_items = []\n",
    "for portfolio in soup.select('.portfolio-item-wrapper'):\n",
    "    portfolio_items.append({'title': portfolio.select('h5')[0].text, \\\n",
    "           'owner': portfolio.select('.unit-owner')[0].text.strip().split('提案者： '.decode('utf-8'))[1], \\\n",
    "           'price': int(''.join(portfolio.select('.flyingred')[0].text.strip().strip('$').split(','))), \\\n",
    "           'time': portfolio.select('.unit-time')[0].text.strip()})"
   ]
  },
  {
   "cell_type": "code",
   "execution_count": 40,
   "metadata": {
    "collapsed": false
   },
   "outputs": [
    {
     "data": {
      "text/html": [
       "<div>\n",
       "<table border=\"1\" class=\"dataframe\">\n",
       "  <thead>\n",
       "    <tr style=\"text-align: right;\">\n",
       "      <th></th>\n",
       "      <th>owner</th>\n",
       "      <th>price</th>\n",
       "      <th>time</th>\n",
       "      <th>title</th>\n",
       "    </tr>\n",
       "  </thead>\n",
       "  <tbody>\n",
       "    <tr>\n",
       "      <th>0</th>\n",
       "      <td>美美加MeiMeiJia</td>\n",
       "      <td>240339</td>\n",
       "      <td>剩餘 12 天</td>\n",
       "      <td>樂立扣│外套就是保暖罩</td>\n",
       "    </tr>\n",
       "    <tr>\n",
       "      <th>1</th>\n",
       "      <td>聲浪科技股份有限公司</td>\n",
       "      <td>748777</td>\n",
       "      <td>最後 79 小時</td>\n",
       "      <td>iDAC耳機擴大機 讓您聽見真實的音樂</td>\n",
       "    </tr>\n",
       "    <tr>\n",
       "      <th>2</th>\n",
       "      <td>重甲機神團隊</td>\n",
       "      <td>1238966</td>\n",
       "      <td>剩餘 10 天</td>\n",
       "      <td>重甲機神第一集《台灣人之不得不成為救世主！》22分鐘製作計畫始動！</td>\n",
       "    </tr>\n",
       "    <tr>\n",
       "      <th>3</th>\n",
       "      <td>BrealaxLab</td>\n",
       "      <td>136062</td>\n",
       "      <td>剩餘 27 天</td>\n",
       "      <td>究舒系絕佳氣密口罩：真正保護你和你愛的人</td>\n",
       "    </tr>\n",
       "    <tr>\n",
       "      <th>4</th>\n",
       "      <td>Perun Tech</td>\n",
       "      <td>172624</td>\n",
       "      <td>剩餘 36 天</td>\n",
       "      <td>智慧全藍芽胎壓偵測器——即時守護你的行車安全</td>\n",
       "    </tr>\n",
       "    <tr>\n",
       "      <th>5</th>\n",
       "      <td>人權辦桌工作小組</td>\n",
       "      <td>204244</td>\n",
       "      <td>最後 79 小時</td>\n",
       "      <td>人權辦桌　油燙燙的手</td>\n",
       "    </tr>\n",
       "    <tr>\n",
       "      <th>6</th>\n",
       "      <td>元沛農坊</td>\n",
       "      <td>1018651</td>\n",
       "      <td>剩餘 17 天</td>\n",
       "      <td>元沛農坊廚餘堆肥募資計畫-為台灣實現一個綠色永續的夢想</td>\n",
       "    </tr>\n",
       "    <tr>\n",
       "      <th>7</th>\n",
       "      <td>Macrocity</td>\n",
       "      <td>81150</td>\n",
       "      <td>最後 7 小時</td>\n",
       "      <td>帶著台灣去旅行,原創設計-彈性行李箱\"套\"</td>\n",
       "    </tr>\n",
       "    <tr>\n",
       "      <th>8</th>\n",
       "      <td>共生音樂節</td>\n",
       "      <td>192686</td>\n",
       "      <td>剩餘 14 天</td>\n",
       "      <td>228共生音樂節：我們在這裡</td>\n",
       "    </tr>\n",
       "    <tr>\n",
       "      <th>9</th>\n",
       "      <td>嶼貓</td>\n",
       "      <td>219028</td>\n",
       "      <td>剩餘 14 天</td>\n",
       "      <td>「嶼貓計畫」第一彈「浪愛為鄰」──友善街貓，從心開始</td>\n",
       "    </tr>\n",
       "    <tr>\n",
       "      <th>10</th>\n",
       "      <td>翁政鴻</td>\n",
       "      <td>157250</td>\n",
       "      <td>剩餘 11 天</td>\n",
       "      <td>野鳥小麻吉</td>\n",
       "    </tr>\n",
       "    <tr>\n",
       "      <th>11</th>\n",
       "      <td>姜創圳</td>\n",
       "      <td>254060</td>\n",
       "      <td>剩餘 9 天</td>\n",
       "      <td>哈囉臺灣策略桌遊</td>\n",
       "    </tr>\n",
       "    <tr>\n",
       "      <th>12</th>\n",
       "      <td>好福食研室</td>\n",
       "      <td>412427</td>\n",
       "      <td>剩餘 32 天</td>\n",
       "      <td>Lokah Tayal Tbula 努力泰雅。銀珠香米助耕計劃</td>\n",
       "    </tr>\n",
       "    <tr>\n",
       "      <th>13</th>\n",
       "      <td>23號半</td>\n",
       "      <td>140091</td>\n",
       "      <td>剩餘 29 天</td>\n",
       "      <td>23號半《到處都是庫巴的嘍囉》專輯募資計劃</td>\n",
       "    </tr>\n",
       "    <tr>\n",
       "      <th>14</th>\n",
       "      <td>Taiwan88</td>\n",
       "      <td>487420</td>\n",
       "      <td>剩餘 12 天</td>\n",
       "      <td>親愛的琴：88的第一步</td>\n",
       "    </tr>\n",
       "    <tr>\n",
       "      <th>15</th>\n",
       "      <td>加泓優</td>\n",
       "      <td>27384</td>\n",
       "      <td>剩餘 38 天</td>\n",
       "      <td>首創戴口罩耳朵不會痛了【口罩護耳膠條】</td>\n",
       "    </tr>\n",
       "    <tr>\n",
       "      <th>16</th>\n",
       "      <td>Naughty Swing</td>\n",
       "      <td>75687</td>\n",
       "      <td>剩餘 22 天</td>\n",
       "      <td>I Charleston Taipei - 復古搖擺舞台北影片拍攝計畫</td>\n",
       "    </tr>\n",
       "    <tr>\n",
       "      <th>17</th>\n",
       "      <td>南拳媽媽</td>\n",
       "      <td>91564</td>\n",
       "      <td>剩餘 30 天</td>\n",
       "      <td>《翔言詳語－Talk to You》心情寫真書募資計劃起跑</td>\n",
       "    </tr>\n",
       "    <tr>\n",
       "      <th>18</th>\n",
       "      <td>Inion Design Associates</td>\n",
       "      <td>18300</td>\n",
       "      <td>剩餘 40 天</td>\n",
       "      <td>讓妳各種姿勢都能尿尿的Weepee！</td>\n",
       "    </tr>\n",
       "    <tr>\n",
       "      <th>19</th>\n",
       "      <td>好日襪品Howrsocks</td>\n",
       "      <td>164911</td>\n",
       "      <td>剩餘 22 天</td>\n",
       "      <td>育幼院孩童尋路計畫，《馴鹿列車》完整收錄百種職業的童話故事繪本的誕生</td>\n",
       "    </tr>\n",
       "    <tr>\n",
       "      <th>20</th>\n",
       "      <td>jrthomann</td>\n",
       "      <td>48404</td>\n",
       "      <td>剩餘 50 天</td>\n",
       "      <td>《西門小故事》影像募資計畫</td>\n",
       "    </tr>\n",
       "    <tr>\n",
       "      <th>21</th>\n",
       "      <td>台灣同志諮詢熱線</td>\n",
       "      <td>129052</td>\n",
       "      <td>剩餘 57 天</td>\n",
       "      <td>轉角遇見愛：全台愛滋零距離巡迴計畫</td>\n",
       "    </tr>\n",
       "    <tr>\n",
       "      <th>22</th>\n",
       "      <td>點子庫，酷點子</td>\n",
       "      <td>3000</td>\n",
       "      <td>剩餘 34 天</td>\n",
       "      <td>愛國T恤-5/20邀請您，一起穿出屬於台灣人的榮耀</td>\n",
       "    </tr>\n",
       "    <tr>\n",
       "      <th>23</th>\n",
       "      <td>鬼娃劇團</td>\n",
       "      <td>8350</td>\n",
       "      <td>剩餘 38 天</td>\n",
       "      <td>送溫暖到全台-【鬼娃行腳‧公益巡演】演出經費募資計畫</td>\n",
       "    </tr>\n",
       "    <tr>\n",
       "      <th>24</th>\n",
       "      <td>Yiting</td>\n",
       "      <td>20700</td>\n",
       "      <td>剩餘 9 天</td>\n",
       "      <td>尋回愛與回憶記錄-樂齡體適能環島紀錄片</td>\n",
       "    </tr>\n",
       "    <tr>\n",
       "      <th>25</th>\n",
       "      <td>圓園方坊</td>\n",
       "      <td>75100</td>\n",
       "      <td>剩餘 32 天</td>\n",
       "      <td>偏鄉活化教學-巡迴義演列車</td>\n",
       "    </tr>\n",
       "    <tr>\n",
       "      <th>26</th>\n",
       "      <td>陳愷徽</td>\n",
       "      <td>49986</td>\n",
       "      <td>剩餘 51 天</td>\n",
       "      <td>第一屆環太平洋烏克麗麗音樂節</td>\n",
       "    </tr>\n",
       "    <tr>\n",
       "      <th>27</th>\n",
       "      <td>禾富cat coffee</td>\n",
       "      <td>20700</td>\n",
       "      <td>剩餘 27 天</td>\n",
       "      <td>將好咖啡留在台灣 - 100%台灣原生豆</td>\n",
       "    </tr>\n",
       "    <tr>\n",
       "      <th>28</th>\n",
       "      <td>lzx</td>\n",
       "      <td>11500</td>\n",
       "      <td>剩餘 53 天</td>\n",
       "      <td>3D Boy 創意實現家，實現您的創意。</td>\n",
       "    </tr>\n",
       "    <tr>\n",
       "      <th>29</th>\n",
       "      <td>AIFA TECH</td>\n",
       "      <td>18603</td>\n",
       "      <td>剩餘 16 天</td>\n",
       "      <td>艾法科技 台灣發明專利-電池量測器</td>\n",
       "    </tr>\n",
       "    <tr>\n",
       "      <th>...</th>\n",
       "      <td>...</td>\n",
       "      <td>...</td>\n",
       "      <td>...</td>\n",
       "      <td>...</td>\n",
       "    </tr>\n",
       "    <tr>\n",
       "      <th>31</th>\n",
       "      <td>樂居</td>\n",
       "      <td>30600</td>\n",
       "      <td>剩餘 36 天</td>\n",
       "      <td>《樂居》房價透明計畫 — 覓得好屋，樂其所居</td>\n",
       "    </tr>\n",
       "    <tr>\n",
       "      <th>32</th>\n",
       "      <td>台灣好夥伴</td>\n",
       "      <td>25901</td>\n",
       "      <td>剩餘 9 天</td>\n",
       "      <td>《書屋》公益紀錄片後製募資計畫</td>\n",
       "    </tr>\n",
       "    <tr>\n",
       "      <th>33</th>\n",
       "      <td>許程崴</td>\n",
       "      <td>26000</td>\n",
       "      <td>剩餘 50 天</td>\n",
       "      <td>許程崴製作舞團《禮祭》英國愛丁堡藝穗節台灣季募資計劃</td>\n",
       "    </tr>\n",
       "    <tr>\n",
       "      <th>34</th>\n",
       "      <td>適者生存樂團</td>\n",
       "      <td>8050</td>\n",
       "      <td>剩餘 57 天</td>\n",
       "      <td>適者生存樂團 ─〈外地人〉MV 拍攝計畫</td>\n",
       "    </tr>\n",
       "    <tr>\n",
       "      <th>35</th>\n",
       "      <td>Addwii 加我</td>\n",
       "      <td>19999</td>\n",
       "      <td>最後 79 小時</td>\n",
       "      <td>Addwii Box：用3D列印培養下一個賈伯斯</td>\n",
       "    </tr>\n",
       "    <tr>\n",
       "      <th>36</th>\n",
       "      <td>鍾文豪</td>\n",
       "      <td>4000</td>\n",
       "      <td>剩餘 44 天</td>\n",
       "      <td>辦桌－建築喜宴   2016 台灣科技大學建築系畢業設計專刊</td>\n",
       "    </tr>\n",
       "    <tr>\n",
       "      <th>37</th>\n",
       "      <td>Rita</td>\n",
       "      <td>3000</td>\n",
       "      <td>剩餘 35 天</td>\n",
       "      <td>【晝】金工設計 : 純手工訂製相機熱靴保護蓋</td>\n",
       "    </tr>\n",
       "    <tr>\n",
       "      <th>38</th>\n",
       "      <td>唐寶寶</td>\n",
       "      <td>6300</td>\n",
       "      <td>剩餘 50 天</td>\n",
       "      <td>我要上班了!　唐寶寶工作坊入厝募資計劃</td>\n",
       "    </tr>\n",
       "    <tr>\n",
       "      <th>39</th>\n",
       "      <td>邱于慈</td>\n",
       "      <td>600</td>\n",
       "      <td>剩餘 39 天</td>\n",
       "      <td>搶救便便公主</td>\n",
       "    </tr>\n",
       "    <tr>\n",
       "      <th>40</th>\n",
       "      <td>高齊克</td>\n",
       "      <td>6565</td>\n",
       "      <td>剩餘 20 天</td>\n",
       "      <td>高齊克GOALKEEPER - 第一章 : 鉛管大作戰之HB龍頭</td>\n",
       "    </tr>\n",
       "    <tr>\n",
       "      <th>41</th>\n",
       "      <td>YCCT 沅澄創意科技</td>\n",
       "      <td>19550</td>\n",
       "      <td>最後 79 小時</td>\n",
       "      <td>[Breathe Phone] 讓您的手機會呼吸</td>\n",
       "    </tr>\n",
       "    <tr>\n",
       "      <th>42</th>\n",
       "      <td>醫院也瘋狂製作團隊</td>\n",
       "      <td>10600</td>\n",
       "      <td>剩餘 35 天</td>\n",
       "      <td>台灣本土醫院動畫【醫院也瘋狂】特別篇募資專案</td>\n",
       "    </tr>\n",
       "    <tr>\n",
       "      <th>43</th>\n",
       "      <td>阮慧貞</td>\n",
       "      <td>1400</td>\n",
       "      <td>剩餘 30 天</td>\n",
       "      <td>我動故我在，領航新世代</td>\n",
       "    </tr>\n",
       "    <tr>\n",
       "      <th>44</th>\n",
       "      <td>弱勢站起來</td>\n",
       "      <td>5700</td>\n",
       "      <td>剩餘 32 天</td>\n",
       "      <td>用行動APP送愛心-關懷弱勢族群(用社會的力量幫助更多需要的人)</td>\n",
       "    </tr>\n",
       "    <tr>\n",
       "      <th>45</th>\n",
       "      <td>Love-Family</td>\n",
       "      <td>3600</td>\n",
       "      <td>剩餘 58 天</td>\n",
       "      <td>Smart Shower -因著『愛』看見家人的需要</td>\n",
       "    </tr>\n",
       "    <tr>\n",
       "      <th>46</th>\n",
       "      <td>ArdigitC Ltd</td>\n",
       "      <td>1600</td>\n",
       "      <td>剩餘 13 天</td>\n",
       "      <td>Hungry AR 桌遊卡片 - 好玩學語言。</td>\n",
       "    </tr>\n",
       "    <tr>\n",
       "      <th>47</th>\n",
       "      <td>洄瀾舞集</td>\n",
       "      <td>500</td>\n",
       "      <td>最後 79 小時</td>\n",
       "      <td>當原藝團隊站上國際舞台，需要你我支持</td>\n",
       "    </tr>\n",
       "    <tr>\n",
       "      <th>48</th>\n",
       "      <td>Wang</td>\n",
       "      <td>1100</td>\n",
       "      <td>剩餘 29 天</td>\n",
       "      <td>媽咪的台灣味便當</td>\n",
       "    </tr>\n",
       "    <tr>\n",
       "      <th>49</th>\n",
       "      <td>NxControl</td>\n",
       "      <td>100</td>\n",
       "      <td>剩餘 35 天</td>\n",
       "      <td>魔豆啊魔豆….把我家遙控器合而為一吧!</td>\n",
       "    </tr>\n",
       "    <tr>\n",
       "      <th>50</th>\n",
       "      <td>吳惠君</td>\n",
       "      <td>1200</td>\n",
       "      <td>剩餘 31 天</td>\n",
       "      <td>親親海洋紀錄片Embrace   the Ocean 後製發行推廣</td>\n",
       "    </tr>\n",
       "    <tr>\n",
       "      <th>51</th>\n",
       "      <td>Taiwan Love</td>\n",
       "      <td>200</td>\n",
       "      <td>剩餘 11 天</td>\n",
       "      <td>正義衙門，打開台灣的正義之門</td>\n",
       "    </tr>\n",
       "    <tr>\n",
       "      <th>52</th>\n",
       "      <td>賴政緯</td>\n",
       "      <td>0</td>\n",
       "      <td>剩餘 31 天</td>\n",
       "      <td>巴薩卡系列潮帽 X 防身 X 獨特</td>\n",
       "    </tr>\n",
       "    <tr>\n",
       "      <th>53</th>\n",
       "      <td>milucu</td>\n",
       "      <td>0</td>\n",
       "      <td>剩餘 57 天</td>\n",
       "      <td>專屬健康管理顧問│補足醫療制度的最大缺口</td>\n",
       "    </tr>\n",
       "    <tr>\n",
       "      <th>54</th>\n",
       "      <td>多特</td>\n",
       "      <td>0</td>\n",
       "      <td>剩餘 29 天</td>\n",
       "      <td>多特皮革手工安全帽設計生產計劃</td>\n",
       "    </tr>\n",
       "    <tr>\n",
       "      <th>55</th>\n",
       "      <td>趙康明</td>\n",
       "      <td>0</td>\n",
       "      <td>剩餘 60 天</td>\n",
       "      <td>可用筷子夾的湯匙</td>\n",
       "    </tr>\n",
       "    <tr>\n",
       "      <th>56</th>\n",
       "      <td>周春木</td>\n",
       "      <td>0</td>\n",
       "      <td>剩餘 12 天</td>\n",
       "      <td>動力發電</td>\n",
       "    </tr>\n",
       "    <tr>\n",
       "      <th>57</th>\n",
       "      <td>蔡進修 d03410347</td>\n",
       "      <td>0</td>\n",
       "      <td>剩餘 56 天</td>\n",
       "      <td>我愛定向</td>\n",
       "    </tr>\n",
       "    <tr>\n",
       "      <th>58</th>\n",
       "      <td>Irin</td>\n",
       "      <td>0</td>\n",
       "      <td>剩餘 12 天</td>\n",
       "      <td>無麩質飲食,讓你不生病(客製化無麩質布朗尼,素食鬆餅)</td>\n",
       "    </tr>\n",
       "    <tr>\n",
       "      <th>59</th>\n",
       "      <td>fip</td>\n",
       "      <td>0</td>\n",
       "      <td>剩餘 25 天</td>\n",
       "      <td>\"環保+防燙手多功能咖啡杯\" – 改善傳統咖啡杯的功能</td>\n",
       "    </tr>\n",
       "    <tr>\n",
       "      <th>60</th>\n",
       "      <td>黃翔宇</td>\n",
       "      <td>0</td>\n",
       "      <td>剩餘 35 天</td>\n",
       "      <td>食安守護神計畫-五道把關 讓您吃得安心</td>\n",
       "    </tr>\n",
       "  </tbody>\n",
       "</table>\n",
       "<p>61 rows × 4 columns</p>\n",
       "</div>"
      ],
      "text/plain": [
       "                      owner    price      time  \\\n",
       "0              美美加MeiMeiJia   240339   剩餘 12 天   \n",
       "1                聲浪科技股份有限公司   748777  最後 79 小時   \n",
       "2                    重甲機神團隊  1238966   剩餘 10 天   \n",
       "3                BrealaxLab   136062   剩餘 27 天   \n",
       "4                Perun Tech   172624   剩餘 36 天   \n",
       "5                  人權辦桌工作小組   204244  最後 79 小時   \n",
       "6                      元沛農坊  1018651   剩餘 17 天   \n",
       "7                 Macrocity    81150   最後 7 小時   \n",
       "8                     共生音樂節   192686   剩餘 14 天   \n",
       "9                        嶼貓   219028   剩餘 14 天   \n",
       "10                      翁政鴻   157250   剩餘 11 天   \n",
       "11                      姜創圳   254060    剩餘 9 天   \n",
       "12                    好福食研室   412427   剩餘 32 天   \n",
       "13                     23號半   140091   剩餘 29 天   \n",
       "14                 Taiwan88   487420   剩餘 12 天   \n",
       "15                      加泓優    27384   剩餘 38 天   \n",
       "16            Naughty Swing    75687   剩餘 22 天   \n",
       "17                     南拳媽媽    91564   剩餘 30 天   \n",
       "18  Inion Design Associates    18300   剩餘 40 天   \n",
       "19            好日襪品Howrsocks   164911   剩餘 22 天   \n",
       "20                jrthomann    48404   剩餘 50 天   \n",
       "21                 台灣同志諮詢熱線   129052   剩餘 57 天   \n",
       "22                  點子庫，酷點子     3000   剩餘 34 天   \n",
       "23                     鬼娃劇團     8350   剩餘 38 天   \n",
       "24                   Yiting    20700    剩餘 9 天   \n",
       "25                     圓園方坊    75100   剩餘 32 天   \n",
       "26                      陳愷徽    49986   剩餘 51 天   \n",
       "27             禾富cat coffee    20700   剩餘 27 天   \n",
       "28                      lzx    11500   剩餘 53 天   \n",
       "29                AIFA TECH    18603   剩餘 16 天   \n",
       "..                      ...      ...       ...   \n",
       "31                       樂居    30600   剩餘 36 天   \n",
       "32                    台灣好夥伴    25901    剩餘 9 天   \n",
       "33                      許程崴    26000   剩餘 50 天   \n",
       "34                   適者生存樂團     8050   剩餘 57 天   \n",
       "35                Addwii 加我    19999  最後 79 小時   \n",
       "36                      鍾文豪     4000   剩餘 44 天   \n",
       "37                     Rita     3000   剩餘 35 天   \n",
       "38                      唐寶寶     6300   剩餘 50 天   \n",
       "39                      邱于慈      600   剩餘 39 天   \n",
       "40                      高齊克     6565   剩餘 20 天   \n",
       "41              YCCT 沅澄創意科技    19550  最後 79 小時   \n",
       "42                醫院也瘋狂製作團隊    10600   剩餘 35 天   \n",
       "43                      阮慧貞     1400   剩餘 30 天   \n",
       "44                    弱勢站起來     5700   剩餘 32 天   \n",
       "45              Love-Family     3600   剩餘 58 天   \n",
       "46             ArdigitC Ltd     1600   剩餘 13 天   \n",
       "47                     洄瀾舞集      500  最後 79 小時   \n",
       "48                     Wang     1100   剩餘 29 天   \n",
       "49                NxControl      100   剩餘 35 天   \n",
       "50                      吳惠君     1200   剩餘 31 天   \n",
       "51              Taiwan Love      200   剩餘 11 天   \n",
       "52                      賴政緯        0   剩餘 31 天   \n",
       "53                   milucu        0   剩餘 57 天   \n",
       "54                       多特        0   剩餘 29 天   \n",
       "55                      趙康明        0   剩餘 60 天   \n",
       "56                      周春木        0   剩餘 12 天   \n",
       "57            蔡進修 d03410347        0   剩餘 56 天   \n",
       "58                     Irin        0   剩餘 12 天   \n",
       "59                      fip        0   剩餘 25 天   \n",
       "60                      黃翔宇        0   剩餘 35 天   \n",
       "\n",
       "                                  title  \n",
       "0                           樂立扣│外套就是保暖罩  \n",
       "1                   iDAC耳機擴大機 讓您聽見真實的音樂  \n",
       "2     重甲機神第一集《台灣人之不得不成為救世主！》22分鐘製作計畫始動！  \n",
       "3                  究舒系絕佳氣密口罩：真正保護你和你愛的人  \n",
       "4                智慧全藍芽胎壓偵測器——即時守護你的行車安全  \n",
       "5                            人權辦桌　油燙燙的手  \n",
       "6           元沛農坊廚餘堆肥募資計畫-為台灣實現一個綠色永續的夢想  \n",
       "7                 帶著台灣去旅行,原創設計-彈性行李箱\"套\"  \n",
       "8                        228共生音樂節：我們在這裡  \n",
       "9            「嶼貓計畫」第一彈「浪愛為鄰」──友善街貓，從心開始  \n",
       "10                                野鳥小麻吉  \n",
       "11                             哈囉臺灣策略桌遊  \n",
       "12      Lokah Tayal Tbula 努力泰雅。銀珠香米助耕計劃  \n",
       "13                23號半《到處都是庫巴的嘍囉》專輯募資計劃  \n",
       "14                          親愛的琴：88的第一步  \n",
       "15                  首創戴口罩耳朵不會痛了【口罩護耳膠條】  \n",
       "16  I Charleston Taipei - 復古搖擺舞台北影片拍攝計畫  \n",
       "17        《翔言詳語－Talk to You》心情寫真書募資計劃起跑  \n",
       "18                   讓妳各種姿勢都能尿尿的Weepee！  \n",
       "19   育幼院孩童尋路計畫，《馴鹿列車》完整收錄百種職業的童話故事繪本的誕生  \n",
       "20                        《西門小故事》影像募資計畫  \n",
       "21                    轉角遇見愛：全台愛滋零距離巡迴計畫  \n",
       "22            愛國T恤-5/20邀請您，一起穿出屬於台灣人的榮耀  \n",
       "23           送溫暖到全台-【鬼娃行腳‧公益巡演】演出經費募資計畫  \n",
       "24                  尋回愛與回憶記錄-樂齡體適能環島紀錄片  \n",
       "25                        偏鄉活化教學-巡迴義演列車  \n",
       "26                       第一屆環太平洋烏克麗麗音樂節  \n",
       "27                 將好咖啡留在台灣 - 100%台灣原生豆  \n",
       "28                 3D Boy 創意實現家，實現您的創意。  \n",
       "29                   艾法科技 台灣發明專利-電池量測器   \n",
       "..                                  ...  \n",
       "31               《樂居》房價透明計畫 — 覓得好屋，樂其所居  \n",
       "32                      《書屋》公益紀錄片後製募資計畫  \n",
       "33           許程崴製作舞團《禮祭》英國愛丁堡藝穗節台灣季募資計劃  \n",
       "34                 適者生存樂團 ─〈外地人〉MV 拍攝計畫  \n",
       "35             Addwii Box：用3D列印培養下一個賈伯斯  \n",
       "36       辦桌－建築喜宴   2016 台灣科技大學建築系畢業設計專刊  \n",
       "37               【晝】金工設計 : 純手工訂製相機熱靴保護蓋  \n",
       "38                  我要上班了!　唐寶寶工作坊入厝募資計劃  \n",
       "39                               搶救便便公主  \n",
       "40     高齊克GOALKEEPER - 第一章 : 鉛管大作戰之HB龍頭  \n",
       "41             [Breathe Phone] 讓您的手機會呼吸  \n",
       "42               台灣本土醫院動畫【醫院也瘋狂】特別篇募資專案  \n",
       "43                          我動故我在，領航新世代  \n",
       "44     用行動APP送愛心-關懷弱勢族群(用社會的力量幫助更多需要的人)  \n",
       "45           Smart Shower -因著『愛』看見家人的需要  \n",
       "46              Hungry AR 桌遊卡片 - 好玩學語言。  \n",
       "47                   當原藝團隊站上國際舞台，需要你我支持  \n",
       "48                             媽咪的台灣味便當  \n",
       "49                 魔豆啊魔豆….把我家遙控器合而為一吧!   \n",
       "50    親親海洋紀錄片Embrace   the Ocean 後製發行推廣  \n",
       "51                       正義衙門，打開台灣的正義之門  \n",
       "52                    巴薩卡系列潮帽 X 防身 X 獨特  \n",
       "53                 專屬健康管理顧問│補足醫療制度的最大缺口  \n",
       "54                      多特皮革手工安全帽設計生產計劃  \n",
       "55                             可用筷子夾的湯匙  \n",
       "56                                 動力發電  \n",
       "57                                 我愛定向  \n",
       "58          無麩質飲食,讓你不生病(客製化無麩質布朗尼,素食鬆餅)  \n",
       "59          \"環保+防燙手多功能咖啡杯\" – 改善傳統咖啡杯的功能  \n",
       "60                  食安守護神計畫-五道把關 讓您吃得安心  \n",
       "\n",
       "[61 rows x 4 columns]"
      ]
     },
     "execution_count": 40,
     "metadata": {},
     "output_type": "execute_result"
    }
   ],
   "source": [
    "df = pd.DataFrame(portfolio_items)\n",
    "df"
   ]
  },
  {
   "cell_type": "code",
   "execution_count": 41,
   "metadata": {
    "collapsed": false
   },
   "outputs": [
    {
     "name": "stderr",
     "output_type": "stream",
     "text": [
      "C:\\Users\\BIG DATA\\Anaconda2\\lib\\site-packages\\ipykernel\\__main__.py:1: FutureWarning: sort(columns=....) is deprecated, use sort_values(by=.....)\n",
      "  if __name__ == '__main__':\n"
     ]
    },
    {
     "data": {
      "text/html": [
       "<div>\n",
       "<table border=\"1\" class=\"dataframe\">\n",
       "  <thead>\n",
       "    <tr style=\"text-align: right;\">\n",
       "      <th></th>\n",
       "      <th>owner</th>\n",
       "      <th>price</th>\n",
       "      <th>time</th>\n",
       "      <th>title</th>\n",
       "    </tr>\n",
       "  </thead>\n",
       "  <tbody>\n",
       "    <tr>\n",
       "      <th>2</th>\n",
       "      <td>重甲機神團隊</td>\n",
       "      <td>1238966</td>\n",
       "      <td>剩餘 10 天</td>\n",
       "      <td>重甲機神第一集《台灣人之不得不成為救世主！》22分鐘製作計畫始動！</td>\n",
       "    </tr>\n",
       "    <tr>\n",
       "      <th>6</th>\n",
       "      <td>元沛農坊</td>\n",
       "      <td>1018651</td>\n",
       "      <td>剩餘 17 天</td>\n",
       "      <td>元沛農坊廚餘堆肥募資計畫-為台灣實現一個綠色永續的夢想</td>\n",
       "    </tr>\n",
       "    <tr>\n",
       "      <th>1</th>\n",
       "      <td>聲浪科技股份有限公司</td>\n",
       "      <td>748777</td>\n",
       "      <td>最後 79 小時</td>\n",
       "      <td>iDAC耳機擴大機 讓您聽見真實的音樂</td>\n",
       "    </tr>\n",
       "    <tr>\n",
       "      <th>14</th>\n",
       "      <td>Taiwan88</td>\n",
       "      <td>487420</td>\n",
       "      <td>剩餘 12 天</td>\n",
       "      <td>親愛的琴：88的第一步</td>\n",
       "    </tr>\n",
       "    <tr>\n",
       "      <th>12</th>\n",
       "      <td>好福食研室</td>\n",
       "      <td>412427</td>\n",
       "      <td>剩餘 32 天</td>\n",
       "      <td>Lokah Tayal Tbula 努力泰雅。銀珠香米助耕計劃</td>\n",
       "    </tr>\n",
       "  </tbody>\n",
       "</table>\n",
       "</div>"
      ],
      "text/plain": [
       "         owner    price      time                              title\n",
       "2       重甲機神團隊  1238966   剩餘 10 天  重甲機神第一集《台灣人之不得不成為救世主！》22分鐘製作計畫始動！\n",
       "6         元沛農坊  1018651   剩餘 17 天        元沛農坊廚餘堆肥募資計畫-為台灣實現一個綠色永續的夢想\n",
       "1   聲浪科技股份有限公司   748777  最後 79 小時                iDAC耳機擴大機 讓您聽見真實的音樂\n",
       "14    Taiwan88   487420   剩餘 12 天                        親愛的琴：88的第一步\n",
       "12       好福食研室   412427   剩餘 32 天    Lokah Tayal Tbula 努力泰雅。銀珠香米助耕計劃"
      ]
     },
     "execution_count": 41,
     "metadata": {},
     "output_type": "execute_result"
    }
   ],
   "source": [
    "df.sort('price', ascending=False).head()"
   ]
  },
  {
   "cell_type": "code",
   "execution_count": null,
   "metadata": {
    "collapsed": true
   },
   "outputs": [],
   "source": []
  }
 ],
 "metadata": {
  "kernelspec": {
   "display_name": "Python 2",
   "language": "python",
   "name": "python2"
  },
  "language_info": {
   "codemirror_mode": {
    "name": "ipython",
    "version": 2
   },
   "file_extension": ".py",
   "mimetype": "text/x-python",
   "name": "python",
   "nbconvert_exporter": "python",
   "pygments_lexer": "ipython2",
   "version": "2.7.11"
  }
 },
 "nbformat": 4,
 "nbformat_minor": 0
}
