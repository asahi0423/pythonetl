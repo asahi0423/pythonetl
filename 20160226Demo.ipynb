{
 "cells": [
  {
   "cell_type": "code",
   "execution_count": 1,
   "metadata": {
    "collapsed": false
   },
   "outputs": [
    {
     "name": "stdout",
     "output_type": "stream",
     "text": [
      "True\n"
     ]
    }
   ],
   "source": [
    "a = 'apple'\n",
    "print a == 'apple'"
   ]
  },
  {
   "cell_type": "code",
   "execution_count": null,
   "metadata": {
    "collapsed": true
   },
   "outputs": [],
   "source": [
    "a = \"Hi my name is David, and my phone number is 0912345678\"\n",
    "b = \"Hi my name is Mary, and my age is 28\""
   ]
  },
  {
   "cell_type": "code",
   "execution_count": 3,
   "metadata": {
    "collapsed": false
   },
   "outputs": [
    {
     "name": "stdout",
     "output_type": "stream",
     "text": [
      "0912345678\n",
      "0923-451-192\n",
      "0912-111222\n"
     ]
    }
   ],
   "source": [
    "a = ['0912345678', '0923-451-192', '0912-111222', '029310319301', '0912312318231310893010']\n",
    "\n",
    "import re\n",
    "for ele in a:\n",
    "    m = re.match('^\\d{4}-?\\d{3}-?\\d{3}$', ele)\n",
    "    if m:\n",
    "        print ele"
   ]
  },
  {
   "cell_type": "markdown",
   "metadata": {},
   "source": [
    "## 比對單一英文字母"
   ]
  },
  {
   "cell_type": "code",
   "execution_count": 5,
   "metadata": {
    "collapsed": false
   },
   "outputs": [
    {
     "name": "stdout",
     "output_type": "stream",
     "text": [
      "<_sre.SRE_Match object at 0x0000000003A3AB28>\n",
      "None\n"
     ]
    }
   ],
   "source": [
    "word = 'a'\n",
    "m = re.match('a', word) # match word\n",
    "print m\n",
    "m = re.match('b', word) # match none\n",
    "print m"
   ]
  },
  {
   "cell_type": "code",
   "execution_count": 6,
   "metadata": {
    "collapsed": false
   },
   "outputs": [
    {
     "name": "stdout",
     "output_type": "stream",
     "text": [
      "<_sre.SRE_Match object at 0x0000000003A3AB28>\n"
     ]
    }
   ],
   "source": [
    "word = 'z'\n",
    "m = re.match('[acz]', word) # match word a or c or z, word in [] is in OR relation\n",
    "print m"
   ]
  },
  {
   "cell_type": "code",
   "execution_count": 21,
   "metadata": {
    "collapsed": false
   },
   "outputs": [
    {
     "name": "stdout",
     "output_type": "stream",
     "text": [
      "<_sre.SRE_Match object at 0x0000000003ABB7E8>\n",
      "<_sre.SRE_Match object at 0x0000000003ABB718>\n",
      "None\n",
      "<_sre.SRE_Match object at 0x0000000003ABB718>\n",
      "<_sre.SRE_Match object at 0x0000000003ABB7E8>\n"
     ]
    }
   ],
   "source": [
    "word = 'z'\n",
    "m = re.match('[abcdefghijklmnopqrstuvwxyz]', word)\n",
    "print m\n",
    "m = re.match('[a-z]', word) # [a-z] == [abcdefghijklmnopqrstuvwxyz]\n",
    "print m\n",
    "word = 'Z'\n",
    "m = re.match('[a-z]', word) # [a-z] == [abcdefghijklmnopqrstuvwxyz]\n",
    "print m\n",
    "m = re.match('[A-Z]', word) # [A-Z]\n",
    "print m\n",
    "m = re.match('[a-zA-Z]', word) # [A-Z]\n",
    "print m"
   ]
  },
  {
   "cell_type": "markdown",
   "metadata": {},
   "source": [
    "## 比對單一數字"
   ]
  },
  {
   "cell_type": "code",
   "execution_count": 14,
   "metadata": {
    "collapsed": false
   },
   "outputs": [
    {
     "name": "stdout",
     "output_type": "stream",
     "text": [
      "8\n",
      "8\n",
      "8\n"
     ]
    }
   ],
   "source": [
    "n= '8'\n",
    "print n if re.match('8', n) else None # match 8 \n",
    "print n if re.match('[0123456789]', n) else None # match either numeric\n",
    "print n if re.match('[0-9]', n) else None # match either numeric"
   ]
  },
  {
   "cell_type": "markdown",
   "metadata": {},
   "source": [
    "## 比對多個文字 (固定長度)"
   ]
  },
  {
   "cell_type": "code",
   "execution_count": 23,
   "metadata": {
    "collapsed": false
   },
   "outputs": [
    {
     "name": "stdout",
     "output_type": "stream",
     "text": [
      "['1122-AB', '2222-QQ', '3333-QG', '3A4B-1L', '12345-AAA']\n",
      "['1122-AB', '2222-QQ', '3333-QG']\n",
      "['1122-AB', '2222-QQ', '3333-QG', '12345-AAA']\n"
     ]
    }
   ],
   "source": [
    "carid = ['1122-AB', '2222-QQ', '3333-QG', 'A92B-12', '3A4B-1L', '12345-AAA'] # the first three are true carid\n",
    "print [ ele  for ele in carid if re.match('[0-9]', ele)] # anything that has a numeric as initial word \n",
    "print [ ele  for ele in carid if re.match('[0-9]{4}-[A-Z]{2}', ele)] # anything that matches to NNNN-AA\n",
    "print [ ele  for ele in carid if re.match('[0-9]{4,5}-[A-Z]{2,3}', ele)] # anything that matches to NNNN-AA"
   ]
  },
  {
   "cell_type": "markdown",
   "metadata": {},
   "source": [
    "## 比對多個文字 (不固定長度 e.g. EMAIL)"
   ]
  },
  {
   "cell_type": "code",
   "execution_count": 29,
   "metadata": {
    "collapsed": false
   },
   "outputs": [
    {
     "name": "stdout",
     "output_type": "stream",
     "text": [
      "['qoo@cocacola.com']\n",
      "['qoo@cocacola.com']\n",
      "['qoo@cocacola.com', 'acool123@pchome.com.tw']\n",
      "['qoo@cocacola.com', 'anonymous@111.22', 'acool123@pchome.com.tw']\n"
     ]
    }
   ],
   "source": [
    "email = ['qoo@cocacola.com', 'anonymous@111.22', '13u1udhfgiudhi-sldfjsdjfos', 'acool123@pchome.com.tw']\n",
    "print [ ele  for ele in email if re.match('[a-zA-Z]{1,}@[a-z]{0,}\\.com', ele)] # anything that matchs *@*.com\n",
    "print [ ele  for ele in email if re.match('[a-zA-Z]+@[a-z]*\\.com', ele)] # {1,} == +,  {0,} == *\n",
    "print [ ele  for ele in email if re.match('[a-zA-Z0-9]+@[a-zA-Z.]+', ele)] \n",
    "print [ ele  for ele in email if re.match('\\w+@.+', ele)]  # [a-zA-Z0-9] == \\w, anything == ."
   ]
  },
  {
   "cell_type": "markdown",
   "metadata": {},
   "source": [
    "## 比對電話號碼"
   ]
  },
  {
   "cell_type": "code",
   "execution_count": 34,
   "metadata": {
    "collapsed": false
   },
   "outputs": [
    {
     "name": "stdout",
     "output_type": "stream",
     "text": [
      "['0912345678', '0923-451-192', '0912-111222', '029310319301', '0912312318231310893010']\n",
      "['0912345678', '0923-451-192', '0912-111222', '0912312318231310893010']\n",
      "['0912345678', '0923-451-192', '0912-111222', '0912312318231310893010']\n"
     ]
    }
   ],
   "source": [
    "phone = ['0912345678', '0923-451-192', '0912-111222', '029310319301', '0912312318231310893010']\n",
    "print [ ele  for ele in phone if re.match('[0-9]+', ele)] \n",
    "print [ ele  for ele in phone if re.match('09[0-9]{2}-{0,1}[0-9]{3}-{0,1}[0-9]{3}', ele)] \n",
    "print [ ele  for ele in phone if re.match('09[0-9]{2}-?[0-9]{3}-?[0-9]{3}', ele)] # {0,1} == ?\n",
    "print [ ele  for ele in phone if re.match('09\\d{2}-?\\d{3}-?\\d{3}', ele)] # [0-9] == \\d, [a-zA-Z0-9] == \\w"
   ]
  },
  {
   "cell_type": "markdown",
   "metadata": {},
   "source": [
    "## 開頭與結尾比對"
   ]
  },
  {
   "cell_type": "code",
   "execution_count": 37,
   "metadata": {
    "collapsed": false
   },
   "outputs": [
    {
     "name": "stdout",
     "output_type": "stream",
     "text": [
      "['Jones', 'Johnson', 'Jenny']\n",
      "['Amy', 'Jenny']\n"
     ]
    }
   ],
   "source": [
    "name = ['David', 'Jones', 'Amy', 'Linda', 'Johnson', 'Jenny']\n",
    "print [ ele  for ele in name if re.match('^J\\w+', ele)] # use ^ to match any begin word\n",
    "print [ ele  for ele in name if re.match('\\w+y$', ele)] # use $ to match any end word"
   ]
  },
  {
   "cell_type": "markdown",
   "metadata": {},
   "source": [
    "## 電話比對完整版"
   ]
  },
  {
   "cell_type": "code",
   "execution_count": 38,
   "metadata": {
    "collapsed": false
   },
   "outputs": [
    {
     "name": "stdout",
     "output_type": "stream",
     "text": [
      "['0912345678', '0923-451-192', '0912-111222']\n"
     ]
    }
   ],
   "source": [
    "phone = ['0912345678', '0923-451-192', '0912-111222', '029310319301', '0912312318231310893010']\n",
    "print [ ele  for ele in phone if re.match('^09\\d{2}-?\\d{3}-?\\d{3}$', ele)]"
   ]
  },
  {
   "cell_type": "markdown",
   "metadata": {},
   "source": [
    "## 資料抽取"
   ]
  },
  {
   "cell_type": "code",
   "execution_count": 43,
   "metadata": {
    "collapsed": false
   },
   "outputs": [
    {
     "name": "stdout",
     "output_type": "stream",
     "text": [
      "qoo@cocacola.com\n",
      "qoo cocacola.com\n",
      "anonymous@111.22\n",
      "anonymous 111.22\n",
      "acool123@pchome.com.tw\n",
      "acool123 pchome.com.tw\n"
     ]
    }
   ],
   "source": [
    "email = ['qoo@cocacola.com', 'anonymous@111.22', '13u1udhfgiudhi-sldfjsdjfos', 'acool123@pchome.com.tw']\n",
    "for ele in email:\n",
    "    m = re.match('(\\w+)@(.+)', ele)  # use () to match group \n",
    "    if m:\n",
    "        #print m.group(1), m.group(2) \n",
    "        #print m.group(0) # group(0) print everything\n",
    "        username, hostname = m.group(1), m.group(2) \n",
    "        print username, hostname"
   ]
  },
  {
   "cell_type": "code",
   "execution_count": 48,
   "metadata": {
    "collapsed": false
   },
   "outputs": [
    {
     "name": "stdout",
     "output_type": "stream",
     "text": [
      "qoo cocacola.com\n",
      "anonymous 111.22\n",
      "acool123 pchome.com.tw\n"
     ]
    }
   ],
   "source": [
    "for ele in email:\n",
    "    m = re.match('(?P<username>\\w+)@(?P<hostname>.+)', ele)  # ?P<name>, can user group('name') to extract element\n",
    "    if m:\n",
    "        print m.group('username'), m.group('hostname')"
   ]
  },
  {
   "cell_type": "code",
   "execution_count": 52,
   "metadata": {
    "collapsed": false
   },
   "outputs": [
    {
     "name": "stdout",
     "output_type": "stream",
     "text": [
      "【更新】柯建銘與徐永明互槓　蘇嘉全：可能... 2926\n",
      "《財訊》霸氣郭台銘下苦工 柔軟攻克日本防... 0\n",
      "助基督教會維權　北京律師被迫上電視認罪 0\n",
      "聯結車與自小客國道相撞　2死1傷 39497\n",
      "「哇嗯係大摳呆！」　達比修澄清身上是肌肉... 0\n",
      "外資加碼台股　上調目標指數至9000點 0\n",
      "呼應轉型正義　楊偉中：國民黨捐黨產賠償受... 35\n",
      "【有片】基隆港住四十年　海面驚見牠好驚喜 1188\n",
      "鴻夏戀若成功　張盛和：有助對抗紅潮 78\n",
      "【網路溫度計】2016台灣燈會在桃園！十... 121\n",
      "卓冠廷戀洪慈庸　卓爸：媒體曝光才知道 1205\n",
      "女遭5少年輪流性侵的真相　竟是父女亂倫 2763\n",
      "她抱怨碰到麻煩事！「有個女孩超想變成我」 1053\n",
      "【民報】國際特赦組織：70年來最凜洌的人... 375\n",
      "柯P比任何人還會騙？網友神比喻超貼切 2720\n",
      "蔡英文訪電廠　白天開燈省能源？ 1467\n",
      "果然大咖！　他練投　教練下令清場！ 2011\n",
      "【法廣RFI】美軍上將： 北京可能事實掌... 1170\n",
      "綠委提3千元兒少津貼　陳威仁：民進黨執政... 1228\n",
      "【更新】美堪薩斯驚傳槍擊案　至少4死30... 12692\n",
      "國民黨主席補選4人登記　今公布通過連署人... 613\n",
      "張國煒今日持續未現身長榮總部 1119\n",
      "【法廣RFI】安理會將採取空前措施制裁朝... 492\n",
      "基隆駕訓班傳命案　女遭鐵捲門壓死 6890\n",
      "王毅盼台尊重憲政　張善政：我們的憲法沒問... 1262\n",
      "男拿小黃瓜塞洞塞口　「小三」窒息死 5575\n",
      "【法廣RFI】制裁平壤：朝鮮設施將被定期... 371\n",
      "賈納春訓慢慢練　改教田中將大如何當爸爸 728\n",
      "【國際為什麼】中國政壇年度大拜拜 1215\n",
      "【法廣RFI】20國集團財長聚滬 陸貨幣... 307\n"
     ]
    }
   ],
   "source": [
    "import requests\n",
    "from bs4 import BeautifulSoup as bs\n",
    "import re\n",
    "\n",
    "res = requests.get('http://www.appledaily.com.tw/realtimenews/section/new/')\n",
    "soup = bs(res.text)\n",
    "for entry in soup.select('.rtddt a'):\n",
    "    m = re.match('(?P<title>.*)\\((?P<popularity>\\d+)\\)',entry.select('h1')[0].text)\n",
    "    print m.group('title'), m.group('popularity')\n"
   ]
  },
  {
   "cell_type": "code",
   "execution_count": 57,
   "metadata": {
    "collapsed": true
   },
   "outputs": [],
   "source": [
    "import requests\n",
    "from bs4 import BeautifulSoup as bs\n",
    "import re\n",
    "import pandas as pd\n",
    "res = requests.get('http://www.appledaily.com.tw/realtimenews/section/new/')\n",
    "soup = bs(res.text)\n",
    "news_list = []\n",
    "for entry in soup.select('.rtddt a'):\n",
    "    m = re.match('(?P<title>.*)\\((?P<popularity>\\d+)\\)',entry.select('h1')[0].text)\n",
    "    news_list.append( {'title':m.group('title'), 'popularity':int(m.group('popularity'))})"
   ]
  },
  {
   "cell_type": "code",
   "execution_count": 58,
   "metadata": {
    "collapsed": false
   },
   "outputs": [
    {
     "name": "stderr",
     "output_type": "stream",
     "text": [
      "C:\\Users\\BIG DATA\\Anaconda2\\lib\\site-packages\\ipykernel\\__main__.py:3: FutureWarning: sort(columns=....) is deprecated, use sort_values(by=.....)\n",
      "  app.launch_new_instance()\n"
     ]
    },
    {
     "data": {
      "text/html": [
       "<div>\n",
       "<table border=\"1\" class=\"dataframe\">\n",
       "  <thead>\n",
       "    <tr style=\"text-align: right;\">\n",
       "      <th></th>\n",
       "      <th>popularity</th>\n",
       "      <th>title</th>\n",
       "    </tr>\n",
       "  </thead>\n",
       "  <tbody>\n",
       "    <tr>\n",
       "      <th>5</th>\n",
       "      <td>40529</td>\n",
       "      <td>聯結車與自小客國道相撞　2死1傷</td>\n",
       "    </tr>\n",
       "    <tr>\n",
       "      <th>21</th>\n",
       "      <td>13534</td>\n",
       "      <td>【更新】美堪薩斯驚傳槍擊案　至少4死30...</td>\n",
       "    </tr>\n",
       "    <tr>\n",
       "      <th>25</th>\n",
       "      <td>7348</td>\n",
       "      <td>基隆駕訓班傳命案　女遭鐵捲門壓死</td>\n",
       "    </tr>\n",
       "    <tr>\n",
       "      <th>27</th>\n",
       "      <td>5852</td>\n",
       "      <td>男拿小黃瓜塞洞塞口　「小三」窒息死</td>\n",
       "    </tr>\n",
       "    <tr>\n",
       "      <th>16</th>\n",
       "      <td>3917</td>\n",
       "      <td>柯P比任何人還會騙？網友神比喻超貼切</td>\n",
       "    </tr>\n",
       "  </tbody>\n",
       "</table>\n",
       "</div>"
      ],
      "text/plain": [
       "    popularity                    title\n",
       "5        40529         聯結車與自小客國道相撞　2死1傷\n",
       "21       13534  【更新】美堪薩斯驚傳槍擊案　至少4死30...\n",
       "25        7348         基隆駕訓班傳命案　女遭鐵捲門壓死\n",
       "27        5852        男拿小黃瓜塞洞塞口　「小三」窒息死\n",
       "16        3917       柯P比任何人還會騙？網友神比喻超貼切"
      ]
     },
     "execution_count": 58,
     "metadata": {},
     "output_type": "execute_result"
    }
   ],
   "source": [
    "df  = pd.DataFrame(news_list)\n",
    "df.head()\n",
    "df.sort(['popularity'], ascending=False).head()"
   ]
  },
  {
   "cell_type": "code",
   "execution_count": 59,
   "metadata": {
    "collapsed": true
   },
   "outputs": [],
   "source": [
    "import requests\n",
    "from bs4 import BeautifulSoup as bs\n",
    "import re\n",
    "import pandas as pd\n",
    "for page in xrange(1,31):\n",
    "    res = requests.get('http://www.appledaily.com.tw/realtimenews/section/new/' + str(page))\n",
    "    soup = bs(res.text)\n",
    "    news_list = []\n",
    "    for entry in soup.select('.rtddt a'):\n",
    "        m = re.match('(?P<title>.*)\\((?P<popularity>\\d+)\\)',entry.select('h1')[0].text)\n",
    "        news_list.append( {'title':m.group('title'), 'popularity':int(m.group('popularity'))})"
   ]
  },
  {
   "cell_type": "code",
   "execution_count": 60,
   "metadata": {
    "collapsed": false
   },
   "outputs": [
    {
     "name": "stderr",
     "output_type": "stream",
     "text": [
      "C:\\Users\\BIG DATA\\Anaconda2\\lib\\site-packages\\ipykernel\\__main__.py:3: FutureWarning: sort(columns=....) is deprecated, use sort_values(by=.....)\n",
      "  app.launch_new_instance()\n"
     ]
    },
    {
     "data": {
      "text/html": [
       "<div>\n",
       "<table border=\"1\" class=\"dataframe\">\n",
       "  <thead>\n",
       "    <tr style=\"text-align: right;\">\n",
       "      <th></th>\n",
       "      <th>popularity</th>\n",
       "      <th>title</th>\n",
       "    </tr>\n",
       "  </thead>\n",
       "  <tbody>\n",
       "    <tr>\n",
       "      <th>2</th>\n",
       "      <td>119679</td>\n",
       "      <td>蔡依林翻糖神乎奇技　細膩直逼3D列印</td>\n",
       "    </tr>\n",
       "    <tr>\n",
       "      <th>1</th>\n",
       "      <td>77436</td>\n",
       "      <td>是真愛啊！49歲港姐尋回初戀　攜兒3嫁</td>\n",
       "    </tr>\n",
       "    <tr>\n",
       "      <th>29</th>\n",
       "      <td>58355</td>\n",
       "      <td>潘慧如入住恐怖民宿　跳蚤陪睡蓋尿被</td>\n",
       "    </tr>\n",
       "    <tr>\n",
       "      <th>3</th>\n",
       "      <td>42899</td>\n",
       "      <td>【圖解新聞】這些人一輩子沒胖過</td>\n",
       "    </tr>\n",
       "    <tr>\n",
       "      <th>12</th>\n",
       "      <td>26888</td>\n",
       "      <td>在美國工作比較好？　矽谷工程師惆悵回顧</td>\n",
       "    </tr>\n",
       "  </tbody>\n",
       "</table>\n",
       "</div>"
      ],
      "text/plain": [
       "    popularity                title\n",
       "2       119679   蔡依林翻糖神乎奇技　細膩直逼3D列印\n",
       "1        77436  是真愛啊！49歲港姐尋回初戀　攜兒3嫁\n",
       "29       58355    潘慧如入住恐怖民宿　跳蚤陪睡蓋尿被\n",
       "3        42899      【圖解新聞】這些人一輩子沒胖過\n",
       "12       26888  在美國工作比較好？　矽谷工程師惆悵回顧"
      ]
     },
     "execution_count": 60,
     "metadata": {},
     "output_type": "execute_result"
    }
   ],
   "source": [
    "df  = pd.DataFrame(news_list)\n",
    "df.head()\n",
    "df.sort(['popularity'], ascending=False).head()"
   ]
  },
  {
   "cell_type": "code",
   "execution_count": null,
   "metadata": {
    "collapsed": true
   },
   "outputs": [],
   "source": []
  }
 ],
 "metadata": {
  "kernelspec": {
   "display_name": "Python 2",
   "language": "python",
   "name": "python2"
  },
  "language_info": {
   "codemirror_mode": {
    "name": "ipython",
    "version": 2
   },
   "file_extension": ".py",
   "mimetype": "text/x-python",
   "name": "python",
   "nbconvert_exporter": "python",
   "pygments_lexer": "ipython2",
   "version": "2.7.11"
  }
 },
 "nbformat": 4,
 "nbformat_minor": 0
}
