{
 "cells": [
  {
   "cell_type": "markdown",
   "metadata": {},
   "source": [
    "## for loo"
   ]
  },
  {
   "cell_type": "code",
   "execution_count": 6,
   "metadata": {
    "collapsed": false
   },
   "outputs": [
    {
     "name": "stdout",
     "output_type": "stream",
     "text": [
      "0\n",
      "1\n",
      "2\n",
      "3\n",
      "4\n",
      "5\n",
      "6\n",
      "7\n",
      "8\n",
      "9\n",
      "10\n"
     ]
    }
   ],
   "source": [
    "for i in xrange(0,11):\n",
    "    print i"
   ]
  },
  {
   "cell_type": "code",
   "execution_count": 11,
   "metadata": {
    "collapsed": false
   },
   "outputs": [
    {
     "data": {
      "text/plain": [
       "['__add__',\n",
       " '__class__',\n",
       " '__contains__',\n",
       " '__delattr__',\n",
       " '__doc__',\n",
       " '__eq__',\n",
       " '__format__',\n",
       " '__ge__',\n",
       " '__getattribute__',\n",
       " '__getitem__',\n",
       " '__getnewargs__',\n",
       " '__getslice__',\n",
       " '__gt__',\n",
       " '__hash__',\n",
       " '__init__',\n",
       " '__le__',\n",
       " '__len__',\n",
       " '__lt__',\n",
       " '__mod__',\n",
       " '__mul__',\n",
       " '__ne__',\n",
       " '__new__',\n",
       " '__reduce__',\n",
       " '__reduce_ex__',\n",
       " '__repr__',\n",
       " '__rmod__',\n",
       " '__rmul__',\n",
       " '__setattr__',\n",
       " '__sizeof__',\n",
       " '__str__',\n",
       " '__subclasshook__',\n",
       " '_formatter_field_name_split',\n",
       " '_formatter_parser',\n",
       " 'capitalize',\n",
       " 'center',\n",
       " 'count',\n",
       " 'decode',\n",
       " 'encode',\n",
       " 'endswith',\n",
       " 'expandtabs',\n",
       " 'find',\n",
       " 'format',\n",
       " 'index',\n",
       " 'isalnum',\n",
       " 'isalpha',\n",
       " 'isdigit',\n",
       " 'islower',\n",
       " 'isspace',\n",
       " 'istitle',\n",
       " 'isupper',\n",
       " 'join',\n",
       " 'ljust',\n",
       " 'lower',\n",
       " 'lstrip',\n",
       " 'partition',\n",
       " 'replace',\n",
       " 'rfind',\n",
       " 'rindex',\n",
       " 'rjust',\n",
       " 'rpartition',\n",
       " 'rsplit',\n",
       " 'rstrip',\n",
       " 'split',\n",
       " 'splitlines',\n",
       " 'startswith',\n",
       " 'strip',\n",
       " 'swapcase',\n",
       " 'title',\n",
       " 'translate',\n",
       " 'upper',\n",
       " 'zfill']"
      ]
     },
     "execution_count": 11,
     "metadata": {},
     "output_type": "execute_result"
    }
   ],
   "source": [
    "import requests\n",
    "dir(requests)"
   ]
  },
  {
   "cell_type": "code",
   "execution_count": 17,
   "metadata": {
    "collapsed": false
   },
   "outputs": [
    {
     "name": "stdout",
     "output_type": "stream",
     "text": [
      "what's your namenate\n",
      "your name again pleaz\n"
     ]
    }
   ],
   "source": [
    "name = raw_input(\"what's your name\")\n",
    "if name == 'David':\n",
    "    print \"nice to meet you\", name\n",
    "else:\n",
    "    print \"your name again pleaz\""
   ]
  },
  {
   "cell_type": "code",
   "execution_count": 89,
   "metadata": {
    "collapsed": false
   },
   "outputs": [
    {
     "name": "stdout",
     "output_type": "stream",
     "text": [
      "nice to meet you Nate\n",
      "nice to meet you Nate\n",
      "nice to meet you Nate\n",
      "nice to meet you : jully, I'm nate nate nate nate\n",
      "nice to meet you : jully, I'm nate nate nate nate\n",
      "The results are 3.14 and 5\n"
     ]
    }
   ],
   "source": [
    "name = \"Nate\"\n",
    "print \"nice to meet you\", name\n",
    "print \"nice to meet you {}\".format(name)\n",
    "print \"nice to meet you %s\"%name\n",
    "print \"nice to meet you : {0}, I'm {1} {1} {1} {1}\".format(\"jully\",\"nate\")\n",
    "print \"nice to meet you : %s, I'm %s %s %s %s\"%(\"jully\", \"nate\",\"nate\",\"nate\",\"nate\")\n",
    "print 'The results are %.02f and %d' % (3.14159, 5)"
   ]
  },
  {
   "cell_type": "code",
   "execution_count": 34,
   "metadata": {
    "collapsed": false
   },
   "outputs": [
    {
     "name": "stdout",
     "output_type": "stream",
     "text": [
      "4\n",
      "3.1\n",
      "2\n",
      "0\n",
      "1\n",
      "2.72727272727\n",
      "1\n",
      "1\n",
      "1.0\n",
      "1.5\n"
     ]
    }
   ],
   "source": [
    "print 1+3\n",
    "print 1.1+2\n",
    "print 3-1\n",
    "print 1/2\n",
    "print 3/2\n",
    "print 3/1.1\n",
    "print 3%2\n",
    "print 1%2 \n",
    "print float(3/2)\n",
    "print 3.0/2"
   ]
  },
  {
   "cell_type": "code",
   "execution_count": 37,
   "metadata": {
    "collapsed": false
   },
   "outputs": [
    {
     "name": "stdout",
     "output_type": "stream",
     "text": [
      "type a number3\n",
      "QOOQOOQOO\n"
     ]
    }
   ],
   "source": [
    "time = input(\"type a number\")\n",
    "print \"QOO\" * time"
   ]
  },
  {
   "cell_type": "code",
   "execution_count": 38,
   "metadata": {
    "collapsed": false
   },
   "outputs": [
    {
     "ename": "ZeroDivisionError",
     "evalue": "integer division or modulo by zero",
     "output_type": "error",
     "traceback": [
      "\u001b[0;31m---------------------------------------------------------------------------\u001b[0m",
      "\u001b[0;31mZeroDivisionError\u001b[0m                         Traceback (most recent call last)",
      "\u001b[0;32m<ipython-input-38-a0641230c7a8>\u001b[0m in \u001b[0;36m<module>\u001b[0;34m()\u001b[0m\n\u001b[0;32m----> 1\u001b[0;31m \u001b[0;36m3\u001b[0m\u001b[0;34m/\u001b[0m\u001b[0;36m0\u001b[0m\u001b[0;34m\u001b[0m\u001b[0m\n\u001b[0m",
      "\u001b[0;31mZeroDivisionError\u001b[0m: integer division or modulo by zero"
     ]
    }
   ],
   "source": [
    "3/0"
   ]
  },
  {
   "cell_type": "code",
   "execution_count": 48,
   "metadata": {
    "collapsed": false
   },
   "outputs": [
    {
     "name": "stdout",
     "output_type": "stream",
     "text": [
      "type a number1\n",
      "type a number0\n",
      "error integer division or modulo by zero\n"
     ]
    }
   ],
   "source": [
    "d1 = input(\"type a number\")\n",
    "d2 = input(\"type a number\")\n",
    "\n",
    "try:\n",
    "    print d1/d2\n",
    "except ZeroDivisionError as detail:\n",
    "    print \"error\", detail"
   ]
  },
  {
   "cell_type": "code",
   "execution_count": 54,
   "metadata": {
    "collapsed": false
   },
   "outputs": [
    {
     "name": "stdout",
     "output_type": "stream",
     "text": [
      "this is a string\n",
      "this is a string\n"
     ]
    }
   ],
   "source": [
    "dir(\"this is a string\")\n",
    "a = \"this is a string\"\n",
    "a.__str__()\n",
    "print a \n",
    "print a.__str__()"
   ]
  },
  {
   "cell_type": "code",
   "execution_count": 56,
   "metadata": {
    "collapsed": false
   },
   "outputs": [
    {
     "name": "stdout",
     "output_type": "stream",
     "text": [
      "this is a \"book\"\n"
     ]
    }
   ],
   "source": [
    "a = 'this is a \"book\"'\n",
    "print a"
   ]
  },
  {
   "cell_type": "code",
   "execution_count": 61,
   "metadata": {
    "collapsed": false
   },
   "outputs": [
    {
     "name": "stdout",
     "output_type": "stream",
     "text": [
      "this is aboooooooooooooooooooooooooooooooooooooooooooooooooooooooooooooooooook\n"
     ]
    }
   ],
   "source": [
    "a = \"this is a\\\n",
    "boooooooooooooooooooooooooooooooooooooooooooooooooooooooooooooooooook\"\n",
    "print a "
   ]
  },
  {
   "cell_type": "code",
   "execution_count": 63,
   "metadata": {
    "collapsed": false
   },
   "outputs": [
    {
     "name": "stdout",
     "output_type": "stream",
     "text": [
      "\n",
      "tiohdoaf \n",
      "adfha;f\n",
      "asd;fhihi;o\n",
      "\n",
      "asfoiheop\n",
      "\n"
     ]
    }
   ],
   "source": [
    "a = '''\n",
    "tiohdoaf \n",
    "adfha;f\n",
    "asd;fhihi;o\n",
    "\n",
    "asfoiheop\n",
    "'''\n",
    "print a"
   ]
  },
  {
   "cell_type": "code",
   "execution_count": 90,
   "metadata": {
    "collapsed": false
   },
   "outputs": [
    {
     "name": "stdout",
     "output_type": "stream",
     "text": [
      "11\n",
      "h\n",
      "d\n",
      "ell\n",
      "hello wo\n",
      "rld\n",
      "hello worldyoyo\n",
      "hello worldyoyo\n",
      "hlowrd\n"
     ]
    }
   ],
   "source": [
    "s = 'hello world'\n",
    "print len(s)\n",
    "print s[0]\n",
    "print s[-1]\n",
    "print s[1:4]\n",
    "print s[:-3]\n",
    "print s[-3:]\n",
    "print s + 'yoyo'\n",
    "print s.__add__('yoyo')\n",
    "print s[::2]"
   ]
  },
  {
   "cell_type": "code",
   "execution_count": 80,
   "metadata": {
    "collapsed": false
   },
   "outputs": [
    {
     "name": "stdout",
     "output_type": "stream",
     "text": [
      "\n",
      "\t this is a \t line with format \t\n",
      "\n",
      "\\n\\t this is a \\t line with format \\t\\n\n",
      "'\\n\\t this is a \\t line with format \\t\\n'\n"
     ]
    }
   ],
   "source": [
    "raw = '\\n\\t this is a \\t line with format \\t\\n'\n",
    "print raw\n",
    "raw2 = r'\\n\\t this is a \\t line with format \\t\\n'\n",
    "print raw2\n",
    "raw3 = repr(raw)\n",
    "print raw3"
   ]
  },
  {
   "cell_type": "code",
   "execution_count": 86,
   "metadata": {
    "collapsed": false
   },
   "outputs": [
    {
     "name": "stdout",
     "output_type": "stream",
     "text": [
      "QOO LOVES OOP\n",
      "Qoo Loves Oop\n",
      "['Qoo', 'loves', 'OOP']\n",
      "Qoo=loves=OOP\n"
     ]
    }
   ],
   "source": [
    "a = 'Qoo loves OOP'\n",
    "print a.upper()\n",
    "print a.title()\n",
    "print a.split()\n",
    "print '='.join(a.split())"
   ]
  },
  {
   "cell_type": "code",
   "execution_count": 93,
   "metadata": {
    "collapsed": false
   },
   "outputs": [
    {
     "name": "stdout",
     "output_type": "stream",
     "text": [
      "['asap', 3]\n",
      "['w', 'o', 'r', 'd'] [['list'], ['of', 'lists']]\n",
      "['a', 1]\n",
      "8\n"
     ]
    }
   ],
   "source": [
    "print ['asap', 3]\n",
    "print list(\"word\"), \n",
    "print [['list'], ['of', 'lists']]\n",
    "print list(('a', 1)) \n",
    "\n",
    "a = ['heterogeneous', 3]\n",
    "print a[1] + 5 "
   ]
  },
  {
   "cell_type": "code",
   "execution_count": 104,
   "metadata": {
    "collapsed": false
   },
   "outputs": [
    {
     "name": "stdout",
     "output_type": "stream",
     "text": [
      "1\n",
      "1\n",
      "[1, 2, 3]\n",
      "[1, 2, 3, 5]\n",
      "[1, 3, 'a']\n",
      "['a', 5, 3, 2, 1]\n",
      "['a', 2]\n",
      "[1, 3]\n",
      "5\n",
      "a 1\n"
     ]
    }
   ],
   "source": [
    "a = [1,2,3,5,'a']\n",
    "print a[0]\n",
    "s =\"1235a\"\n",
    "print s[0]\n",
    "print a[:3]\n",
    "print a[:-1]\n",
    "print a[::2]\n",
    "print a[::-1]\n",
    "print a[::-3]\n",
    "print a[0:4:2]\n",
    "print len(a)\n",
    "print max(a),min(a)"
   ]
  },
  {
   "cell_type": "code",
   "execution_count": 114,
   "metadata": {
    "collapsed": false
   },
   "outputs": [
    {
     "data": {
      "text/plain": [
       "[8, 7, 5, 3, 1]"
      ]
     },
     "execution_count": 114,
     "metadata": {},
     "output_type": "execute_result"
    }
   ],
   "source": [
    "a = [1,7,3,8,5]\n",
    "#a.pop()\n",
    "#a.append(6)\n",
    "#a.sort()\n",
    "#a.reverse()\n",
    "a.sort(reverse=True)\n",
    "a"
   ]
  },
  {
   "cell_type": "code",
   "execution_count": 119,
   "metadata": {
    "collapsed": false
   },
   "outputs": [
    {
     "name": "stdout",
     "output_type": "stream",
     "text": [
      "['h', 'e', 'l', 'l', 'o', ' ', 'w', 'o', 'r', 'l', 'd']\n",
      "hello\n"
     ]
    }
   ],
   "source": [
    "hello =  list('hello world')\n",
    "print hello\n",
    "'h' in hello\n",
    "'u' in hello\n",
    "if 'h' in hello:\n",
    "    print 'hello'"
   ]
  },
  {
   "cell_type": "code",
   "execution_count": 123,
   "metadata": {
    "collapsed": false
   },
   "outputs": [
    {
     "name": "stdout",
     "output_type": "stream",
     "text": [
      "a:  [1, 2, 3, 4, 5]\n",
      "b:  [1, 2, 3, 4, 5]\n",
      "a:  [1, 2, 3, 4, 5, 6]\n",
      "b:  [1, 2, 3, 4, 5, 6]\n"
     ]
    }
   ],
   "source": [
    "a = [1,2,3,4,5]\n",
    "b = a\n",
    "print 'a: ',a\n",
    "print 'b: ',b\n",
    "a.append(6)\n",
    "print 'a: ',a\n",
    "print 'b: ',b"
   ]
  },
  {
   "cell_type": "code",
   "execution_count": 127,
   "metadata": {
    "collapsed": false
   },
   "outputs": [
    {
     "name": "stdout",
     "output_type": "stream",
     "text": [
      "a:  [1, 2, 3, 4, 5, 6, 6, 7, 7]\n",
      "b:  [1, 2, 3, 4, 5, 6, 6, 7]\n"
     ]
    }
   ],
   "source": [
    "import copy\n",
    "b = copy.deepcopy(a)\n",
    "a.append(7)\n",
    "print 'a: ',a\n",
    "print 'b: ',b"
   ]
  },
  {
   "cell_type": "code",
   "execution_count": 134,
   "metadata": {
    "collapsed": false
   },
   "outputs": [
    {
     "name": "stdout",
     "output_type": "stream",
     "text": [
      "[1, 4, 9, 16]\n",
      "[8, 17, 32, 53]\n"
     ]
    }
   ],
   "source": [
    "nums = [1,2,3,4]\n",
    "squares = []\n",
    "for n in nums:\n",
    "    square = n*n\n",
    "    squares.append(square)\n",
    "print squares\n",
    "\n",
    "squares = [n*3*n+5 for n in nums]\n",
    "print squares"
   ]
  },
  {
   "cell_type": "code",
   "execution_count": 138,
   "metadata": {
    "collapsed": false
   },
   "outputs": [
    {
     "name": "stdout",
     "output_type": "stream",
     "text": [
      "[2, 1]\n",
      "[2, 1]\n"
     ]
    }
   ],
   "source": [
    "nums = [2, 8, 1, 6]\n",
    "small = [ n for n in nums if n <= 2 ]  ## [2, 1]\n",
    "print small\n",
    "\n",
    "small = []\n",
    "for n in nums:\n",
    "    if n <=2:\n",
    "        small.append(n)\n",
    "print small"
   ]
  },
  {
   "cell_type": "code",
   "execution_count": 142,
   "metadata": {
    "collapsed": false
   },
   "outputs": [
    {
     "name": "stdout",
     "output_type": "stream",
     "text": [
      "['APPLE', 'BANNANA']\n",
      "['APPLE', 'BANNANA']\n"
     ]
    }
   ],
   "source": [
    "fruits = ['apple', 'cherry', 'bannana', 'lemon']\n",
    "afruits = [ s.upper() for s in fruits if 'a' in s ]\n",
    "print afruits\n",
    "\n",
    "afruits = []\n",
    "for s in fruits:\n",
    "    if 'a' in s:\n",
    "        afruits.append(s.upper())\n",
    "print afruits"
   ]
  },
  {
   "cell_type": "code",
   "execution_count": 145,
   "metadata": {
    "collapsed": false
   },
   "outputs": [
    {
     "name": "stdout",
     "output_type": "stream",
     "text": [
      "apple\n",
      "cherry\n",
      "bannana\n",
      "lemon\n"
     ]
    }
   ],
   "source": [
    "fruits = ['apple', 'cherry', 'bannana', 'lemon']\n",
    "for s in fruits:\n",
    "    print s"
   ]
  },
  {
   "cell_type": "code",
   "execution_count": 149,
   "metadata": {
    "collapsed": false
   },
   "outputs": [
    {
     "name": "stdout",
     "output_type": "stream",
     "text": [
      "1\n",
      "9 was not in the list\n",
      "2\n",
      "9 was not in the list\n",
      "3\n",
      "9 was not in the list\n",
      "4\n",
      "9 was not in the list\n",
      "5\n",
      "9 was not in the list\n",
      "6\n",
      "9 was not in the list\n",
      "7\n",
      "9 was not in the list\n",
      "8\n",
      "8 found\n",
      "9\n",
      "9 found!\n"
     ]
    }
   ],
   "source": [
    "a = 9\n",
    "b = 8\n",
    "for i in xrange(1,10):\n",
    "    print i\n",
    "    if i == a:\n",
    "        print(str(a) + ' found!')\n",
    "        break\n",
    "    elif i == b:\n",
    "        print str(b) + ' found'\n",
    "    else:\n",
    "        print(str(a) + ' was not in the list')\n"
   ]
  },
  {
   "cell_type": "code",
   "execution_count": 153,
   "metadata": {
    "collapsed": false
   },
   "outputs": [
    {
     "name": "stdout",
     "output_type": "stream",
     "text": [
      "1\n",
      "2\n",
      "3\n",
      "4\n",
      "5\n",
      "6\n",
      "7\n",
      "8\n",
      "8 found\n"
     ]
    }
   ],
   "source": [
    "a = 9\n",
    "b = 8\n",
    "for i in xrange(1,10):\n",
    "    print i\n",
    "    if i == a:\n",
    "        print(str(a) + ' found!')\n",
    "    elif i == b:\n",
    "        print str(b) + ' found'\n",
    "        break\n",
    "    else:\n",
    "        continue\n"
   ]
  },
  {
   "cell_type": "code",
   "execution_count": 155,
   "metadata": {
    "collapsed": false
   },
   "outputs": [
    {
     "name": "stdout",
     "output_type": "stream",
     "text": [
      "1\n",
      "2\n",
      "3\n",
      "4\n",
      "5\n",
      "6\n",
      "7\n",
      "8\n",
      "8 found\n"
     ]
    }
   ],
   "source": [
    "a = 9\n",
    "b = 8\n",
    "for i in xrange(1,10):\n",
    "    print i\n",
    "    if i == a:\n",
    "        print(str(a) + ' found!')\n",
    "    elif i == b:\n",
    "        print str(b) + ' found'\n",
    "        break\n",
    "    else:\n",
    "        pass\n"
   ]
  },
  {
   "cell_type": "code",
   "execution_count": 156,
   "metadata": {
    "collapsed": false
   },
   "outputs": [
    {
     "name": "stdout",
     "output_type": "stream",
     "text": [
      "1\n",
      "9 was not in the list\n",
      "2\n",
      "9 was not in the list\n",
      "3\n",
      "9 was not in the list\n",
      "4\n",
      "9 was not in the list\n",
      "5\n",
      "9 was not in the list\n",
      "6\n",
      "9 was not in the list\n",
      "7\n",
      "9 was not in the list\n",
      "8\n",
      "8 found\n"
     ]
    }
   ],
   "source": [
    "for i in xrange(1,10):\n",
    "    print i\n",
    "    if i == a:\n",
    "        print(str(a) + ' found!')\n",
    "    elif i == b:\n",
    "        print str(b) + ' found'\n",
    "        break\n",
    "    else:\n",
    "        pass\n",
    "        print(str(a) + ' was not in the list')"
   ]
  },
  {
   "cell_type": "code",
   "execution_count": 158,
   "metadata": {
    "collapsed": false
   },
   "outputs": [
    {
     "name": "stdout",
     "output_type": "stream",
     "text": [
      "1\n",
      "2\n",
      "3\n",
      "4\n",
      "5\n",
      "6\n",
      "7\n",
      "8\n",
      "8 found\n"
     ]
    }
   ],
   "source": [
    "for i in xrange(1,10):\n",
    "    print i\n",
    "    if i == a:\n",
    "        print(str(a) + ' found!')\n",
    "    elif i == b:\n",
    "        print str(b) + ' found'\n",
    "        break\n",
    "    else:\n",
    "        continue\n",
    "        print(str(a) + ' was not in the list')"
   ]
  },
  {
   "cell_type": "code",
   "execution_count": 162,
   "metadata": {
    "collapsed": false
   },
   "outputs": [
    {
     "name": "stdout",
     "output_type": "stream",
     "text": [
      "0\n",
      "2\n",
      "4\n",
      "6\n",
      "8\n"
     ]
    }
   ],
   "source": [
    "for i in xrange(0,10,2):\n",
    "    print i"
   ]
  },
  {
   "cell_type": "code",
   "execution_count": 165,
   "metadata": {
    "collapsed": false
   },
   "outputs": [
    {
     "name": "stdout",
     "output_type": "stream",
     "text": [
      "1\n",
      "2\n",
      "3\n",
      "4\n",
      "5\n",
      "1\n",
      "2\n",
      "3\n",
      "4\n",
      "5\n"
     ]
    }
   ],
   "source": [
    "a = [1,2,3,4,5]\n",
    "for i in a:\n",
    "    print i\n",
    "a = \"12345\"\n",
    "for i in a:\n",
    "    print i"
   ]
  },
  {
   "cell_type": "code",
   "execution_count": 167,
   "metadata": {
    "collapsed": false
   },
   "outputs": [
    {
     "name": "stdout",
     "output_type": "stream",
     "text": [
      "5050\n"
     ]
    }
   ],
   "source": [
    "i =0\n",
    "sum = 0 \n",
    "while(i < 101):\n",
    "    sum += i\n",
    "    i +=1\n",
    "print sum"
   ]
  },
  {
   "cell_type": "code",
   "execution_count": 171,
   "metadata": {
    "collapsed": false
   },
   "outputs": [
    {
     "name": "stdout",
     "output_type": "stream",
     "text": [
      "0\n",
      "1\n",
      "2\n",
      "3\n",
      "4\n",
      "5\n",
      "6\n",
      "7\n",
      "8\n",
      "9\n",
      "10\n"
     ]
    }
   ],
   "source": [
    "i=0\n",
    "while True:\n",
    "    print i\n",
    "    i+=1\n",
    "    if i>10:\n",
    "        break"
   ]
  },
  {
   "cell_type": "code",
   "execution_count": 174,
   "metadata": {
    "collapsed": false
   },
   "outputs": [
    {
     "name": "stdout",
     "output_type": "stream",
     "text": [
      "('alice', 1)\n",
      "('Ben', 2)\n",
      "('Peter', 3)\n",
      "('Rob', 4)\n",
      "alice 1\n",
      "Ben 2\n",
      "Peter 3\n",
      "Rob 4\n"
     ]
    }
   ],
   "source": [
    "name = ['alice','Ben','Peter','Rob']\n",
    "number = [1,2,3,4]\n",
    "nn = []\n",
    "for i in zip(name,number):\n",
    "    print i\n",
    "    nn.append(i)\n",
    "for name, number in nn:\n",
    "    print name, number"
   ]
  },
  {
   "cell_type": "code",
   "execution_count": 181,
   "metadata": {
    "collapsed": false
   },
   "outputs": [
    {
     "name": "stdout",
     "output_type": "stream",
     "text": [
      "[('alice', 1), ('Ben', 2), ('Peter', 3), ('Rob', 4)]\n",
      "alice 1\n",
      "Ben 2\n",
      "Peter 3\n",
      "Rob 4\n"
     ]
    }
   ],
   "source": [
    "name = ['alice','Ben','Peter','Rob']\n",
    "number = [1,2,3,4]\n",
    "nn = []\n",
    "for i in zip(name,number):\n",
    "    #print i\n",
    "    nn.append(i)\n",
    "print nn\n",
    "for name, number in nn:\n",
    "    print name, number"
   ]
  },
  {
   "cell_type": "code",
   "execution_count": 192,
   "metadata": {
    "collapsed": false
   },
   "outputs": [
    {
     "name": "stdout",
     "output_type": "stream",
     "text": [
      "5\n",
      "<module 'math' from '/usr/local/Cellar/python/2.7.9/Frameworks/Python.framework/Versions/2.7/lib/python2.7/lib-dynload/math.so'>\n",
      "2.0\n",
      "1.0\n",
      "2.0\n",
      "1.0\n"
     ]
    }
   ],
   "source": [
    "def addNum(a,b):\n",
    "    print a+b\n",
    "addNum(1,4)\n",
    "\n",
    "import math\n",
    "print math \n",
    "print math.ceil(7/6.0)\n",
    "print math.floor(7/6.0)\n",
    "\n",
    "from math import ceil,floor\n",
    "print ceil(7/6.0)\n",
    "print floor(7/6.0)"
   ]
  },
  {
   "cell_type": "code",
   "execution_count": 209,
   "metadata": {
    "collapsed": false
   },
   "outputs": [
    {
     "name": "stdout",
     "output_type": "stream",
     "text": [
      "0.98\n",
      "['a', 'c', 'b']\n",
      "[600, 0.98, 'yes']\n",
      "0.98\n",
      "{'a': 600, 'c': 0.98, 'b': 'yes'}\n"
     ]
    }
   ],
   "source": [
    "dic = {'a':100, 'b':\"yes\", 'c':0.98, 'a':600} \n",
    "print dic['c']\n",
    "print dic.keys()\n",
    "print dic.values()\n",
    "print dic.get('c')\n",
    "dic2 = dic\n",
    "print dic2"
   ]
  },
  {
   "cell_type": "code",
   "execution_count": 211,
   "metadata": {
    "collapsed": false
   },
   "outputs": [
    {
     "name": "stdout",
     "output_type": "stream",
     "text": [
      "{'a': 600, 'c': 0.98, 'b': 'yes', 'e': 'string', 'd': 811}\n",
      "{'a': 600, 'c': 0.98, 'b': 'yes', 'e': 'string', 'd': 811}\n",
      "a 600\n",
      "c 0.98\n",
      "b yes\n",
      "e string\n",
      "d 811\n",
      "{'a': 600, 'c': 0.98, 'b': 'yes', 'e': 'string', 'd': 811}\n"
     ]
    }
   ],
   "source": [
    "dic['d'] = 811\n",
    "print dic\n",
    "dic.update({'e':'string'})\n",
    "print dic\n",
    "\n",
    "for key in dic:\n",
    "    print key,dic[key]\n",
    "print dic2"
   ]
  },
  {
   "cell_type": "code",
   "execution_count": 213,
   "metadata": {
    "collapsed": false
   },
   "outputs": [
    {
     "data": {
      "text/plain": [
       "2"
      ]
     },
     "execution_count": 213,
     "metadata": {},
     "output_type": "execute_result"
    }
   ],
   "source": [
    "def func(x):\n",
    "    return {'a': 1,'b': 2}.get(x) \n",
    "\n",
    "func('b')"
   ]
  }
 ],
 "metadata": {
  "kernelspec": {
   "display_name": "Python 2",
   "language": "python",
   "name": "python2"
  },
  "language_info": {
   "codemirror_mode": {
    "name": "ipython",
    "version": 2
   },
   "file_extension": ".py",
   "mimetype": "text/x-python",
   "name": "python",
   "nbconvert_exporter": "python",
   "pygments_lexer": "ipython2",
   "version": "2.7.9"
  }
 },
 "nbformat": 4,
 "nbformat_minor": 0
}
