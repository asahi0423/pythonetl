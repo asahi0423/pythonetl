{
 "cells": [
  {
   "cell_type": "code",
   "execution_count": 1,
   "metadata": {
    "collapsed": false
   },
   "outputs": [
    {
     "data": {
      "text/plain": [
       "8"
      ]
     },
     "execution_count": 1,
     "metadata": {},
     "output_type": "execute_result"
    }
   ],
   "source": [
    "a = 3\n",
    "b = 5\n",
    "a + b"
   ]
  },
  {
   "cell_type": "code",
   "execution_count": 5,
   "metadata": {
    "collapsed": false
   },
   "outputs": [
    {
     "name": "stdout",
     "output_type": "stream",
     "text": [
      "Help on int object:\n",
      "\n",
      "class int(object)\n",
      " |  int(x=0) -> int or long\n",
      " |  int(x, base=10) -> int or long\n",
      " |  \n",
      " |  Convert a number or string to an integer, or return 0 if no arguments\n",
      " |  are given.  If x is floating point, the conversion truncates towards zero.\n",
      " |  If x is outside the integer range, the function returns a long instead.\n",
      " |  \n",
      " |  If x is not a number or if base is given, then x must be a string or\n",
      " |  Unicode object representing an integer literal in the given base.  The\n",
      " |  literal can be preceded by '+' or '-' and be surrounded by whitespace.\n",
      " |  The base defaults to 10.  Valid bases are 0 and 2-36.  Base 0 means to\n",
      " |  interpret the base from the string as an integer literal.\n",
      " |  >>> int('0b100', base=0)\n",
      " |  4\n",
      " |  \n",
      " |  Methods defined here:\n",
      " |  \n",
      " |  __abs__(...)\n",
      " |      x.__abs__() <==> abs(x)\n",
      " |  \n",
      " |  __add__(...)\n",
      " |      x.__add__(y) <==> x+y\n",
      " |  \n",
      " |  __and__(...)\n",
      " |      x.__and__(y) <==> x&y\n",
      " |  \n",
      " |  __cmp__(...)\n",
      " |      x.__cmp__(y) <==> cmp(x,y)\n",
      " |  \n",
      " |  __coerce__(...)\n",
      " |      x.__coerce__(y) <==> coerce(x, y)\n",
      " |  \n",
      " |  __div__(...)\n",
      " |      x.__div__(y) <==> x/y\n",
      " |  \n",
      " |  __divmod__(...)\n",
      " |      x.__divmod__(y) <==> divmod(x, y)\n",
      " |  \n",
      " |  __float__(...)\n",
      " |      x.__float__() <==> float(x)\n",
      " |  \n",
      " |  __floordiv__(...)\n",
      " |      x.__floordiv__(y) <==> x//y\n",
      " |  \n",
      " |  __format__(...)\n",
      " |  \n",
      " |  __getattribute__(...)\n",
      " |      x.__getattribute__('name') <==> x.name\n",
      " |  \n",
      " |  __getnewargs__(...)\n",
      " |  \n",
      " |  __hash__(...)\n",
      " |      x.__hash__() <==> hash(x)\n",
      " |  \n",
      " |  __hex__(...)\n",
      " |      x.__hex__() <==> hex(x)\n",
      " |  \n",
      " |  __index__(...)\n",
      " |      x[y:z] <==> x[y.__index__():z.__index__()]\n",
      " |  \n",
      " |  __int__(...)\n",
      " |      x.__int__() <==> int(x)\n",
      " |  \n",
      " |  __invert__(...)\n",
      " |      x.__invert__() <==> ~x\n",
      " |  \n",
      " |  __long__(...)\n",
      " |      x.__long__() <==> long(x)\n",
      " |  \n",
      " |  __lshift__(...)\n",
      " |      x.__lshift__(y) <==> x<<y\n",
      " |  \n",
      " |  __mod__(...)\n",
      " |      x.__mod__(y) <==> x%y\n",
      " |  \n",
      " |  __mul__(...)\n",
      " |      x.__mul__(y) <==> x*y\n",
      " |  \n",
      " |  __neg__(...)\n",
      " |      x.__neg__() <==> -x\n",
      " |  \n",
      " |  __nonzero__(...)\n",
      " |      x.__nonzero__() <==> x != 0\n",
      " |  \n",
      " |  __oct__(...)\n",
      " |      x.__oct__() <==> oct(x)\n",
      " |  \n",
      " |  __or__(...)\n",
      " |      x.__or__(y) <==> x|y\n",
      " |  \n",
      " |  __pos__(...)\n",
      " |      x.__pos__() <==> +x\n",
      " |  \n",
      " |  __pow__(...)\n",
      " |      x.__pow__(y[, z]) <==> pow(x, y[, z])\n",
      " |  \n",
      " |  __radd__(...)\n",
      " |      x.__radd__(y) <==> y+x\n",
      " |  \n",
      " |  __rand__(...)\n",
      " |      x.__rand__(y) <==> y&x\n",
      " |  \n",
      " |  __rdiv__(...)\n",
      " |      x.__rdiv__(y) <==> y/x\n",
      " |  \n",
      " |  __rdivmod__(...)\n",
      " |      x.__rdivmod__(y) <==> divmod(y, x)\n",
      " |  \n",
      " |  __repr__(...)\n",
      " |      x.__repr__() <==> repr(x)\n",
      " |  \n",
      " |  __rfloordiv__(...)\n",
      " |      x.__rfloordiv__(y) <==> y//x\n",
      " |  \n",
      " |  __rlshift__(...)\n",
      " |      x.__rlshift__(y) <==> y<<x\n",
      " |  \n",
      " |  __rmod__(...)\n",
      " |      x.__rmod__(y) <==> y%x\n",
      " |  \n",
      " |  __rmul__(...)\n",
      " |      x.__rmul__(y) <==> y*x\n",
      " |  \n",
      " |  __ror__(...)\n",
      " |      x.__ror__(y) <==> y|x\n",
      " |  \n",
      " |  __rpow__(...)\n",
      " |      y.__rpow__(x[, z]) <==> pow(x, y[, z])\n",
      " |  \n",
      " |  __rrshift__(...)\n",
      " |      x.__rrshift__(y) <==> y>>x\n",
      " |  \n",
      " |  __rshift__(...)\n",
      " |      x.__rshift__(y) <==> x>>y\n",
      " |  \n",
      " |  __rsub__(...)\n",
      " |      x.__rsub__(y) <==> y-x\n",
      " |  \n",
      " |  __rtruediv__(...)\n",
      " |      x.__rtruediv__(y) <==> y/x\n",
      " |  \n",
      " |  __rxor__(...)\n",
      " |      x.__rxor__(y) <==> y^x\n",
      " |  \n",
      " |  __str__(...)\n",
      " |      x.__str__() <==> str(x)\n",
      " |  \n",
      " |  __sub__(...)\n",
      " |      x.__sub__(y) <==> x-y\n",
      " |  \n",
      " |  __truediv__(...)\n",
      " |      x.__truediv__(y) <==> x/y\n",
      " |  \n",
      " |  __trunc__(...)\n",
      " |      Truncating an Integral returns itself.\n",
      " |  \n",
      " |  __xor__(...)\n",
      " |      x.__xor__(y) <==> x^y\n",
      " |  \n",
      " |  bit_length(...)\n",
      " |      int.bit_length() -> int\n",
      " |      \n",
      " |      Number of bits necessary to represent self in binary.\n",
      " |      >>> bin(37)\n",
      " |      '0b100101'\n",
      " |      >>> (37).bit_length()\n",
      " |      6\n",
      " |  \n",
      " |  conjugate(...)\n",
      " |      Returns self, the complex conjugate of any int.\n",
      " |  \n",
      " |  ----------------------------------------------------------------------\n",
      " |  Data descriptors defined here:\n",
      " |  \n",
      " |  denominator\n",
      " |      the denominator of a rational number in lowest terms\n",
      " |  \n",
      " |  imag\n",
      " |      the imaginary part of a complex number\n",
      " |  \n",
      " |  numerator\n",
      " |      the numerator of a rational number in lowest terms\n",
      " |  \n",
      " |  real\n",
      " |      the real part of a complex number\n",
      " |  \n",
      " |  ----------------------------------------------------------------------\n",
      " |  Data and other attributes defined here:\n",
      " |  \n",
      " |  __new__ = <built-in method __new__ of type object>\n",
      " |      T.__new__(S, ...) -> a new object with type S, a subtype of T\n",
      "\n"
     ]
    }
   ],
   "source": [
    "dir(a)\n",
    "help(a)\n",
    "?a"
   ]
  },
  {
   "cell_type": "markdown",
   "metadata": {},
   "source": [
    "## Python Tuple"
   ]
  },
  {
   "cell_type": "markdown",
   "metadata": {},
   "source": [
    "a = (1, 2)"
   ]
  },
  {
   "cell_type": "markdown",
   "metadata": {},
   "source": [
    "## Python List"
   ]
  },
  {
   "cell_type": "code",
   "execution_count": 11,
   "metadata": {
    "collapsed": false
   },
   "outputs": [
    {
     "name": "stdout",
     "output_type": "stream",
     "text": [
      "[1, 2, 3]\n",
      "[1, 2, 3, 4]\n",
      "[1, 2, 3]\n",
      "[1, 2, 3, 5, 6, 7]\n",
      "[100, 2, 3, 5, 6, 7]\n"
     ]
    }
   ],
   "source": [
    "b = [1,2,3]\n",
    "print b\n",
    "b.append(4)\n",
    "print b\n",
    "b.pop()\n",
    "print b\n",
    "c = [5,6,7]\n",
    "b.extend(c)\n",
    "print b\n",
    "b[0] = 100\n",
    "print b"
   ]
  },
  {
   "cell_type": "markdown",
   "metadata": {},
   "source": [
    "## Python Dictionary"
   ]
  },
  {
   "cell_type": "code",
   "execution_count": 16,
   "metadata": {
    "collapsed": false
   },
   "outputs": [
    {
     "name": "stdout",
     "output_type": "stream",
     "text": [
      "277 found\n",
      "277\n"
     ]
    }
   ],
   "source": [
    "pages = range(1,500)\n",
    "#print pages\n",
    "for page in pages:\n",
    "    if page == 277:\n",
    "        print page, \"found\"\n",
    "        \n",
    "dic = {}\n",
    "for page in pages:\n",
    "    dic[page] = page\n",
    "print dic[277]"
   ]
  },
  {
   "cell_type": "code",
   "execution_count": 19,
   "metadata": {
    "collapsed": false
   },
   "outputs": [
    {
     "name": "stdout",
     "output_type": "stream",
     "text": [
      "Help on package requests:\n",
      "\n",
      "NAME\n",
      "    requests\n",
      "\n",
      "FILE\n",
      "    c:\\users\\big data\\anaconda2\\lib\\site-packages\\requests-2.9.1-py2.7.egg\\requests\\__init__.py\n",
      "\n",
      "DESCRIPTION\n",
      "    Requests HTTP library\n",
      "    ~~~~~~~~~~~~~~~~~~~~~\n",
      "    \n",
      "    Requests is an HTTP library, written in Python, for human beings. Basic GET\n",
      "    usage:\n",
      "    \n",
      "       >>> import requests\n",
      "       >>> r = requests.get('https://www.python.org')\n",
      "       >>> r.status_code\n",
      "       200\n",
      "       >>> 'Python is a programming language' in r.content\n",
      "       True\n",
      "    \n",
      "    ... or POST:\n",
      "    \n",
      "       >>> payload = dict(key1='value1', key2='value2')\n",
      "       >>> r = requests.post('http://httpbin.org/post', data=payload)\n",
      "       >>> print(r.text)\n",
      "       {\n",
      "         ...\n",
      "         \"form\": {\n",
      "           \"key2\": \"value2\",\n",
      "           \"key1\": \"value1\"\n",
      "         },\n",
      "         ...\n",
      "       }\n",
      "    \n",
      "    The other HTTP methods are supported - see `requests.api`. Full documentation\n",
      "    is at <http://python-requests.org>.\n",
      "    \n",
      "    :copyright: (c) 2015 by Kenneth Reitz.\n",
      "    :license: Apache 2.0, see LICENSE for more details.\n",
      "\n",
      "PACKAGE CONTENTS\n",
      "    adapters\n",
      "    api\n",
      "    auth\n",
      "    certs\n",
      "    compat\n",
      "    cookies\n",
      "    exceptions\n",
      "    hooks\n",
      "    models\n",
      "    packages (package)\n",
      "    sessions\n",
      "    status_codes\n",
      "    structures\n",
      "    utils\n",
      "\n",
      "DATA\n",
      "    __author__ = 'Kenneth Reitz'\n",
      "    __build__ = 133377\n",
      "    __copyright__ = 'Copyright 2016 Kenneth Reitz'\n",
      "    __license__ = 'Apache 2.0'\n",
      "    __title__ = 'requests'\n",
      "    __version__ = '2.9.1'\n",
      "    codes = <lookup 'status_codes'>\n",
      "\n",
      "VERSION\n",
      "    2.9.1\n",
      "\n",
      "AUTHOR\n",
      "    Kenneth Reitz\n",
      "\n",
      "\n"
     ]
    }
   ],
   "source": [
    "import requests\n",
    "dir(requests)\n",
    "help(requests)\n",
    "?requests"
   ]
  },
  {
   "cell_type": "markdown",
   "metadata": {},
   "source": [
    "## HTTP 狀態碼\n",
    "- https://zh.wikipedia.org/wiki/HTTP%E7%8A%B6%E6%80%81%E7%A0%81"
   ]
  },
  {
   "cell_type": "code",
   "execution_count": 25,
   "metadata": {
    "collapsed": false
   },
   "outputs": [
    {
     "name": "stdout",
     "output_type": "stream",
     "text": [
      "<Response [200]>\n"
     ]
    },
    {
     "name": "stderr",
     "output_type": "stream",
     "text": [
      "C:\\Users\\BIG DATA\\Anaconda2\\lib\\site-packages\\requests-2.9.1-py2.7.egg\\requests\\packages\\urllib3\\connectionpool.py:791: InsecureRequestWarning: Unverified HTTPS request is being made. Adding certificate verification is strongly advised. See: https://urllib3.readthedocs.org/en/latest/security.html\n",
      "  InsecureRequestWarning)\n"
     ]
    }
   ],
   "source": [
    "import requests\n",
    "res = requests.get('https://www.python.org', verify=False)\n",
    "print res"
   ]
  },
  {
   "cell_type": "markdown",
   "metadata": {},
   "source": [
    "## 蘋果即時新聞\n",
    "- http://www.appledaily.com.tw/realtimenews/section/new/"
   ]
  },
  {
   "cell_type": "code",
   "execution_count": 29,
   "metadata": {
    "collapsed": false
   },
   "outputs": [
    {
     "name": "stdout",
     "output_type": "stream",
     "text": [
      "<Response [200]>\n"
     ]
    }
   ],
   "source": [
    "import requests\n",
    "qoo = requests.get('http://www.appledaily.com.tw/realtimenews/section/new/')\n",
    "print qoo"
   ]
  },
  {
   "cell_type": "code",
   "execution_count": 31,
   "metadata": {
    "collapsed": false
   },
   "outputs": [],
   "source": [
    "#print qoo.text"
   ]
  },
  {
   "cell_type": "markdown",
   "metadata": {},
   "source": [
    "## 高鐵資料查詢"
   ]
  },
  {
   "cell_type": "code",
   "execution_count": 34,
   "metadata": {
    "collapsed": true
   },
   "outputs": [],
   "source": [
    "import requests\n",
    "payload ={\n",
    "'StartStation':'977abb69-413a-4ccf-a109-0272c24fd490',\n",
    "'EndStation':'fbd828d8-b1da-4b06-a3bd-680cdca4d2cd',\n",
    "'SearchDate':'2016/04/29',\n",
    "'SearchTime':'11:00',\n",
    "'SearchWay':'DepartureInMandarin'\n",
    "}\n",
    "res = requests.post('https://www.thsrc.com.tw/tw/TimeTable/SearchResult', data=payload)\n",
    "#print res.text"
   ]
  },
  {
   "cell_type": "markdown",
   "metadata": {},
   "source": [
    "## 台鐵簡易時刻表\n",
    "- http://twtraffic.tra.gov.tw/twrail/EasySearch.aspx"
   ]
  },
  {
   "cell_type": "code",
   "execution_count": 41,
   "metadata": {
    "collapsed": false
   },
   "outputs": [
    {
     "name": "stdout",
     "output_type": "stream",
     "text": [
      "<class 'requests.models.Response'>\n"
     ]
    }
   ],
   "source": [
    "import requests\n",
    "res = requests.get('http://twtraffic.tra.gov.tw/twrail/SearchResult.aspx?searchtype=0&searchdate=2016/04/29&fromstation=1810&tostation=1008&trainclass=%271100%27,%271101%27,%271102%27,%271107%27,%271108%27,%271110%27,%271120%27&fromtime=0600&totime=2359')\n",
    "#print res.text\n",
    "print type(res)"
   ]
  },
  {
   "cell_type": "markdown",
   "metadata": {},
   "source": [
    "## BeautifulSoup Sample"
   ]
  },
  {
   "cell_type": "code",
   "execution_count": 40,
   "metadata": {
    "collapsed": false
   },
   "outputs": [
    {
     "name": "stdout",
     "output_type": "stream",
     "text": [
      " <html> <body> <h1 id=\"title\">Hello World</h1> <a class=\"link\" href=\"#\">This is link1</a> <a class=\"link\" href=\"# link2\">This is link2</a> </body> </html>\n",
      "<class 'bs4.BeautifulSoup'>\n",
      "   Hello World This is link1 This is link2  \n"
     ]
    }
   ],
   "source": [
    "from bs4 import BeautifulSoup \n",
    "html_sample = ' \\\n",
    "<html> \\\n",
    "<body> \\\n",
    "<h1 id=\"title\">Hello World</h1> \\\n",
    "<a href=\"#\" class=\"link\">This is link1</a> \\\n",
    "<a href=\"# link2\" class=\"link\">This is link2</a> \\\n",
    "</body> \\\n",
    "</html>'\n",
    "\n",
    "soup = BeautifulSoup(html_sample, 'html.parser')\n",
    "print soup\n",
    "print type(soup)\n",
    "print soup.text"
   ]
  },
  {
   "cell_type": "code",
   "execution_count": 46,
   "metadata": {
    "collapsed": false
   },
   "outputs": [
    {
     "name": "stdout",
     "output_type": "stream",
     "text": [
      "[<h1 id=\"title\">Hello World</h1>]\n",
      "<type 'list'>\n",
      "<h1 id=\"title\">Hello World</h1>\n",
      "Hello World\n"
     ]
    }
   ],
   "source": [
    "h1 = soup.select('h1')\n",
    "print h1\n",
    "print type(h1)\n",
    "print h1[0]\n",
    "print h1[0].text"
   ]
  },
  {
   "cell_type": "code",
   "execution_count": 50,
   "metadata": {
    "collapsed": false
   },
   "outputs": [
    {
     "name": "stdout",
     "output_type": "stream",
     "text": [
      "[<a class=\"link\" href=\"#\">This is link1</a>, <a class=\"link\" href=\"# link2\">This is link2</a>]\n",
      "<a class=\"link\" href=\"#\">This is link1</a>\n",
      "This is link1\n"
     ]
    }
   ],
   "source": [
    "a = soup.select('a')\n",
    "print a\n",
    "print a[0]\n",
    "print a[0].text"
   ]
  },
  {
   "cell_type": "code",
   "execution_count": 52,
   "metadata": {
    "collapsed": false
   },
   "outputs": [
    {
     "name": "stdout",
     "output_type": "stream",
     "text": [
      "This is link1\n",
      "This is link2\n"
     ]
    }
   ],
   "source": [
    "for a in soup.select('a'):\n",
    "    print a.text"
   ]
  },
  {
   "cell_type": "code",
   "execution_count": 53,
   "metadata": {
    "collapsed": false
   },
   "outputs": [
    {
     "name": "stdout",
     "output_type": "stream",
     "text": [
      "#\n",
      "# link2\n"
     ]
    }
   ],
   "source": [
    "for a in soup.select('a'):\n",
    "    print a['href']"
   ]
  },
  {
   "cell_type": "code",
   "execution_count": 60,
   "metadata": {
    "collapsed": false
   },
   "outputs": [
    {
     "name": "stdout",
     "output_type": "stream",
     "text": [
      "<a aaa=\"bbb\" href=\"123\" qoo=\"234\"> link</a>\n",
      "bbb\n",
      "234\n",
      "123\n"
     ]
    }
   ],
   "source": [
    "link = '<a href=123 qoo=234 aaa=bbb> link</a>'\n",
    "soup2 = BeautifulSoup(link)\n",
    "a =  soup2.select('a')[0]\n",
    "print a\n",
    "print a['aaa']\n",
    "print a['qoo']\n",
    "print a['href']"
   ]
  },
  {
   "cell_type": "code",
   "execution_count": 61,
   "metadata": {
    "collapsed": false
   },
   "outputs": [
    {
     "name": "stdout",
     "output_type": "stream",
     "text": [
      "[<h1 id=\"title\">Hello World</h1>]\n"
     ]
    }
   ],
   "source": [
    "# ID => #\n",
    "soup = BeautifulSoup(html_sample, 'html.parser')\n",
    "print soup.select('#title')"
   ]
  },
  {
   "cell_type": "code",
   "execution_count": 63,
   "metadata": {
    "collapsed": false
   },
   "outputs": [
    {
     "name": "stdout",
     "output_type": "stream",
     "text": [
      "[<a class=\"link\" href=\"#\">This is link1</a>, <a class=\"link\" href=\"# link2\">This is link2</a>]\n"
     ]
    }
   ],
   "source": [
    "# CLASS => .\n",
    "soup = BeautifulSoup(html_sample, 'html.parser')\n",
    "print soup.select('.link')"
   ]
  },
  {
   "cell_type": "code",
   "execution_count": 79,
   "metadata": {
    "collapsed": false
   },
   "outputs": [
    {
     "name": "stdout",
     "output_type": "stream",
     "text": [
      "小豬1.2億豪華巡演後天開賣　400元票...(0) 娛樂 13:40\n",
      "未通過禁藥檢驗　馬林魚戈登被禁賽80場(0) 體育 13:40\n",
      "中國NGO管理法　美國關切(0) 國際 13:39\n",
      "\n",
      "\n",
      "【特企】SpeXial偉晉新舞步 曝光後 (2378)\n",
      "\n",
      "特企 13:39\n",
      "醉女拿菸抵車資遭拒　落跑被控詐欺(0) 社會 13:37\n",
      "好扯！高雄連續2天挖破瓦斯管線(59) 社會 13:37\n",
      "利空不斷　台股跌95點險守半年線(25) 財經 13:36\n",
      "工商協進會籲政府　應盡快加入TPP(0) 生活 13:35\n",
      "【更新】涉包庇賭場　貪警遭聲押禁見(7564) 社會 13:31\n",
      "柯P突發奇想　捷運文湖線改6車廂4個門進...(96) 生活 13:29\n",
      "污泥棄置沙鹿山區　6黑心環保商被訴(273) 社會 13:26\n",
      "若放7天國定假日　工商協進會：企業恐減勞...(404) 生活 13:25\n",
      "前田健太首對決一朗賞1K吞首敗　馬林魚4...(2622) 體育 13:24\n",
      "【更新】桃捷爆馬政府變更設計誤機捷　賀陳...(3216) 生活 13:23\n",
      "27歲男已睡2500女　絕不戴套愛多P(33265) 搜奇 13:22\n",
      "提琴神醫！台灣琴師妙手回春　專救百年古董...(3545) 國際 13:18\n",
      "前主播高齡產子　忍臭頭古法坐月子(4181) 娛樂 13:16\n",
      "蕭亞軒姑姑遭壓制在地　怒控警執法過當(3786) 社會 13:15\n",
      "信徒要揍金牌賊　他擲筊三次才獲原諒(1878) 社會 13:12\n",
      "立院決議暫緩12年國教課綱　教育部：尊重(1162) 生活 13:08\n",
      "第3方支付也能繳稅　智付寶搶進(351) 財經 13:08\n",
      "記得鄭少秋和肥肥愛女嗎？新MV她變這樣(6640) 娛樂 13:07\n",
      "【台灣英文新聞】假日補眠迷思？關於睡眠的...(840) 生活 13:06\n",
      "溜馬喬治願付出一切　力拚48分鐘不休息(1380) 體育 13:05\n",
      "退役搜救犬有新家　成為真正「毛小孩」(1217) 社會 13:00\n",
      "勇嫂有喜！裴勇俊準備當爸(6188) 娛樂 12:58\n",
      "為小三殺妻女竟免死　死者母悲泣：不甘願(3980) 社會 12:58\n",
      "工商協進會籲新政府　應保持長期電價穩定(117) 生活 12:58\n",
      "瘦肉精美豬爭議　高志明：如開放應補貼(821) 生活 12:58\n",
      "【公庫】然後杜氏兄弟就死掉了(364) 論壇 12:57\n",
      "殺警案主嫌萬少丞　再涉砍人討債被捕(33608) 社會 12:56\n"
     ]
    }
   ],
   "source": [
    "import requests\n",
    "from bs4 import BeautifulSoup\n",
    "res = requests.get('http://www.appledaily.com.tw/realtimenews/section/new/')\n",
    "#print res.text\n",
    "soup = BeautifulSoup(res.text)\n",
    "for ent in soup.select('li.rtddt'):\n",
    "    #print \"=============\"\n",
    "    #print ent\n",
    "    #print ent.select('h1')\n",
    "    #print ent.select('h1')[0]\n",
    "    #print ent.select('h1')[0].text\n",
    "    #pass\n",
    "    print ent.select('h1')[0].text, ent.select('h2')[0].text, ent.select('time')[0].text"
   ]
  },
  {
   "cell_type": "code",
   "execution_count": 88,
   "metadata": {
    "collapsed": false
   },
   "outputs": [
    {
     "name": "stdout",
     "output_type": "stream",
     "text": [
      "1\n",
      "2\n",
      "========\n",
      "1\n",
      "========\n",
      "2\n",
      "========\n",
      "3\n",
      "========\n",
      "4\n",
      "========\n",
      "5\n"
     ]
    }
   ],
   "source": [
    "a= [1,2,3,4,5]\n",
    "print a[0]\n",
    "print a[1]\n",
    "for ele in a:\n",
    "    print '========'\n",
    "    print ele"
   ]
  },
  {
   "cell_type": "code",
   "execution_count": 94,
   "metadata": {
    "collapsed": false
   },
   "outputs": [
    {
     "name": "stdout",
     "output_type": "stream",
     "text": [
      "===============\n",
      "\n",
      "[食記] 美國芝加哥  Roister\n",
      " 4/29 cake0885rn\n",
      "===============\n",
      "\n",
      "[食記] 舊金山中半島 Johnston's Saltbox\n",
      " 4/29 angellike\n",
      "===============\n",
      "\n",
      "[廣宣] 苗栗 南庄橄欖樹咖啡\n",
      " 4/29 leafphoto\n",
      "===============\n",
      "\n",
      "[食記] 台中 表現穩定不俗的法式餐廳 法森小館\n",
      " 4/29 derek0323\n",
      "===============\n",
      "\n",
      "[食記] 台北小巨蛋 鍋爸涮涮鍋吃到飽 種類好多\n",
      " 4/29 ride0213\n",
      "===============\n",
      "\n",
      "[食記] 台北西門町 來自愛麗絲 童話主題下午茶\n",
      " 4/29 ride0213\n",
      "===============\n",
      "\n",
      "[食記] 台北 嗎哪精緻麵館 功夫湯頭 創意美食\n",
      " 4/29 iamweeping\n",
      "===============\n",
      "\n",
      "[食記] 美國 加州 柏克萊 Spoon Korean Bistro\n",
      " 4/29 micoberry\n",
      "===============\n",
      "\n",
      "[食記]台北寧夏夜市-劉芋仔「蛋黃芋餅+香酥芋丸\n",
      " 4/29 uwxuwx\n",
      "===============\n",
      "\n",
      "[食記] 台中 古早味粉漿蛋餅|一心蛋餅\n",
      " 4/29 dong1104\n",
      "===============\n",
      "\n",
      "[食記] 新北三芝 比臉還大的巨無霸牛排 番婆林\n",
      " 4/29 traveler0\n",
      "===============\n",
      "\n",
      "[食記] 基隆 義起來玩吧\n",
      " 4/29 ann7773631\n",
      "===============\n",
      "\n",
      "[公告] Food板 板規 V3.8\n",
      "12/16 Dilbert\n",
      "===============\n",
      "\n",
      "精華區使用方法  【重要！新手必看！】\n",
      "11/18 Yawper\n",
      "===============\n",
      "\n",
      "[公告] 發文請在標題加上地區及提供地址電話。^^\n",
      " 9/28 bluefish\n",
      "===============\n",
      "\n",
      "[公告] 文章被刪除者請洽精華區的資源回收桶\n",
      "10/01 Dilbert\n",
      "===============\n",
      "\n",
      "[公告] 板規16發文標題須含餐廳店名之調整\n",
      "10/11 Dilbert\n"
     ]
    }
   ],
   "source": [
    "import requests\n",
    "from bs4 import BeautifulSoup\n",
    "res = requests.get('https://www.ptt.cc/bbs/Food/index.html')\n",
    "soup = BeautifulSoup(res.text)\n",
    "for ent in soup.select('div.r-ent'):\n",
    "    print '==============='\n",
    "    #print ent\n",
    "    print ent.select('.title')[0].text, ent.select('.date')[0].text, ent.select('.author')[0].text"
   ]
  },
  {
   "cell_type": "code",
   "execution_count": 97,
   "metadata": {
    "collapsed": false
   },
   "outputs": [],
   "source": [
    "import requests\n",
    "import shutil\n",
    "res = requests.get('http://web4.cartoonmad.com/c86eo736r62/1152/824/001.jpg', stream=True)\n",
    "with open('001.jpg', 'wb') as f:\n",
    "    shutil.copyfileobj(res.raw, f)"
   ]
  },
  {
   "cell_type": "code",
   "execution_count": 98,
   "metadata": {
    "collapsed": false
   },
   "outputs": [
    {
     "name": "stdout",
     "output_type": "stream",
     "text": [
      "001.jpg\n"
     ]
    }
   ],
   "source": [
    "url = 'http://web4.cartoonmad.com/c86eo736r62/1152/824/001.jpg'\n",
    "print url.split('/')[-1]\n"
   ]
  },
  {
   "cell_type": "code",
   "execution_count": 174,
   "metadata": {
    "collapsed": true
   },
   "outputs": [],
   "source": []
  },
  {
   "cell_type": "code",
   "execution_count": 175,
   "metadata": {
    "collapsed": false
   },
   "outputs": [],
   "source": [
    "import requests\n",
    "res = requests.get('http://www.cartoomad.com/comic/115208242016003.html')\n",
    "res.encoding = 'big5'\n",
    "#print res.text"
   ]
  },
  {
   "cell_type": "code",
   "execution_count": 177,
   "metadata": {
    "collapsed": false
   },
   "outputs": [],
   "source": [
    "from bs4 import BeautifulSoup\n",
    "soup = BeautifulSoup(res.text)\n",
    "#print soup.select('img')\n",
    "imgsrc =  [ele['src'] for ele in soup.select('img') if 'jpg' in ele['src'] and 'cartoonmad' in ele['src']][0]\n",
    "nextpage =  soup.select('a.pages')[-1]['href']"
   ]
  },
  {
   "cell_type": "markdown",
   "metadata": {},
   "source": [
    "## 完整抓取漫畫"
   ]
  },
  {
   "cell_type": "code",
   "execution_count": 180,
   "metadata": {
    "collapsed": true
   },
   "outputs": [],
   "source": [
    "def savePic(url):\n",
    "    res = requests.get(url, stream=True)\n",
    "    fname = url.split('/')[-1]\n",
    "    with open('comic/'+fname, 'wb') as f:\n",
    "        shutil.copyfileobj(res.raw, f)"
   ]
  },
  {
   "cell_type": "code",
   "execution_count": 181,
   "metadata": {
    "collapsed": true
   },
   "outputs": [],
   "source": [
    "def getPageComic(url):\n",
    "    res = requests.get(url)\n",
    "    res.encoding = 'big5'\n",
    "    soup = BeautifulSoup(res.text)\n",
    "    imgsrc =  [ele['src'] for ele in soup.select('img') if 'jpg' in ele['src'] and 'cartoonmad' in ele['src']][0]\n",
    "    savePic(imgsrc)\n",
    "    nextpage =  soup.select('a.pages')[-1]['href']\n",
    "    return nextpage"
   ]
  },
  {
   "cell_type": "code",
   "execution_count": 182,
   "metadata": {
    "collapsed": false
   },
   "outputs": [],
   "source": [
    "import requests\n",
    "from bs4 import BeautifulSoup\n",
    "# do\n",
    "domain = 'http://www.cartoomad.com/comic/'\n",
    "firstpage = 'http://www.cartoomad.com/comic/115208242016001.html'\n",
    "nextpage = getPageComic(firstpage)\n",
    "# while\n",
    "while 'html' in nextpage: \n",
    "    nextpage = getPageComic(domain + nextpage)\n",
    "    \n"
   ]
  },
  {
   "cell_type": "markdown",
   "metadata": {},
   "source": [
    "## Old version"
   ]
  },
  {
   "cell_type": "code",
   "execution_count": null,
   "metadata": {
    "collapsed": true
   },
   "outputs": [],
   "source": [
    "import requests\n",
    "from bs4 import BeautifulSoup\n",
    "# do\n",
    "domain = 'http://www.cartoomad.com/comic/'\n",
    "firstpage = 'http://www.cartoomad.com/comic/115208242016001.html'\n",
    "res = requests.get(firstpage)\n",
    "res.encoding = 'big5'\n",
    "soup = BeautifulSoup(res.text)\n",
    "imgsrc =  [ele['src'] for ele in soup.select('img') if 'jpg' in ele['src'] and 'cartoonmad' in ele['src']][0]\n",
    "savePic(imgsrc)\n",
    "nextpage =  soup.select('a.pages')[-1]['href']\n",
    "# while\n",
    "while 'html' in nextpage: \n",
    "    res = requests.get(domain + nextpage)\n",
    "    res.encoding = 'big5'\n",
    "    soup = BeautifulSoup(res.text)\n",
    "    imgsrc =  [ele['src'] for ele in soup.select('img') if 'jpg' in ele['src'] and 'cartoonmad' in ele['src']][0]\n",
    "    savePic(imgsrc)\n",
    "    nextpage =  soup.select('a.pages')[-1]['href']\n",
    "    \n"
   ]
  }
 ],
 "metadata": {
  "kernelspec": {
   "display_name": "Python 2",
   "language": "python",
   "name": "python2"
  },
  "language_info": {
   "codemirror_mode": {
    "name": "ipython",
    "version": 2
   },
   "file_extension": ".py",
   "mimetype": "text/x-python",
   "name": "python",
   "nbconvert_exporter": "python",
   "pygments_lexer": "ipython2",
   "version": "2.7.11"
  }
 },
 "nbformat": 4,
 "nbformat_minor": 0
}
