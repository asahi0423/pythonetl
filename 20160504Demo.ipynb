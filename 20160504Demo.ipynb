{
 "cells": [
  {
   "cell_type": "code",
   "execution_count": 16,
   "metadata": {
    "collapsed": false
   },
   "outputs": [
    {
     "name": "stdout",
     "output_type": "stream",
     "text": [
      "Leka: An Exceptional Toy for Exceptional Children\n",
      "ZUS Kevlar Charging Cable - Lifetime Guarantee\n",
      "Musana Carts: The Solar Street Vending Revolution\n",
      "Whipper:  Worldâs 1st Climbing Performance Tracker\n",
      "Air Case: The World's Thinnest iPhone Battery Case\n",
      "ASAP Connect: The future of USB cables\n",
      "Shock Clock WakeUp Trainer -Never Hit Snooze Again\n",
      "FLUX: Electric Bikes with Attitude\n",
      "WING : The Accessible Premium Wireless Earphone\n",
      "Furbo: World's First Treat-Tossing Dog Camera\n",
      "Turris Omnia: hi-performance & open-source router\n",
      "Lumi: World's Best Gaming & Entertainment Drone\n"
     ]
    }
   ],
   "source": [
    "import requests\n",
    "import json\n",
    "headers = {\n",
    "'User-Agent':'Mozilla/5.0 (Windows NT 6.1; WOW64) AppleWebKit/537.36 (KHTML, like Gecko) Chrome/50.0.2661.94 Safari/537.36', \n",
    "'Cookie':'romref_referer_host=www.google.com.tw; _gat=1; D_SID=140.115.236.39:BOThEAAGv4SMTbKm8/co88YZjak31qrQ7tzdyKgJePc; __qca=P0-1605812000-1462324323319; _gat_appcues_ga=1; ki_t=1462324326470%3B1462324326470%3B1462324326470%3B1%3B1; ki_r=https%3A%2F%2Fwww.google.com.tw%2F; __hstc=223492548.da3ad0a8cbebf03d8c2cf6eb8e74c4bc.1462324326540.1462324326540.1462324326540.1; __hssrc=1; __hssc=223492548.1.1462324326540; hsfirstvisit=https%3A%2F%2Fwww.indiegogo.com%2F%23%2Fpicks_for_you|https%3A%2F%2Fwww.google.com.tw%2F|1462324326538; hubspotutk=da3ad0a8cbebf03d8c2cf6eb8e74c4bc; utag_main=v_id:015479520f4b001cc99be13543d60506c001a06400bd0$_sn:1$_ss:0$_pn:3%3Bexp-session$_st:1462326200985$ses_id:1462324301643%3Bexp-session; D_PID=D8587F6D-A6E5-34C9-B6C5-17392785DB77; D_IID=AFCA9B4F-118C-3C31-85C2-64870B3773BD; D_UID=4D984B67-BE41-3779-B36B-65F850B3AF4A; D_HID=u+s6X+9Xakv8y5xd1N/CSTkiihPzbzMBdas4g3d2vxs; __ar_v4=; apc_user_call_count=2; romref=ORG_www_TW_XXXX_sch-goog_XXXXXXXX_0002_www.google.com.tw; visitor_id=278cba48720054c263e74725c4dac2f790d7ef50098c8cbbb17866a164ca31a5; analytics_session_id=42b42a11d370e48e31ba2df380104bf5b905a479638b62b652ec904e1b944742; _session_id=c8ab92c626784125d18dd0bcc34120ac; locale=en; cohort=www.google.com.tw%7Csch-goog; recent_project_ids=; _ga=GA1.2.1391222500.1462324318'\n",
    "}\n",
    "res = requests.get('https://www.indiegogo.com/private_api/explore?filter_category=Technology&filter_funding=&filter_percent_funded=&filter_quick=popular_all&filter_status=&per_page=12&pg_num=1', headers = headers)\n",
    "jd = json.loads(res.text)\n",
    "for campaign in jd['campaigns']:\n",
    "    print campaign['title']"
   ]
  },
  {
   "cell_type": "markdown",
   "metadata": {},
   "source": [
    "## XML"
   ]
  },
  {
   "cell_type": "code",
   "execution_count": null,
   "metadata": {
    "collapsed": true
   },
   "outputs": [],
   "source": [
    "<employee>\n",
    "    <name>\n",
    "        David\n",
    "    </name>\n",
    "    <age>\n",
    "        32\n",
    "    </age>\n",
    "</employee>"
   ]
  },
  {
   "cell_type": "markdown",
   "metadata": {},
   "source": [
    "## JSON"
   ]
  },
  {
   "cell_type": "code",
   "execution_count": null,
   "metadata": {
    "collapsed": true
   },
   "outputs": [],
   "source": [
    "{\"employee\": {\"age\": \"32\", \"name\": \"david\"}}"
   ]
  },
  {
   "cell_type": "code",
   "execution_count": 15,
   "metadata": {
    "collapsed": false
   },
   "outputs": [
    {
     "name": "stdout",
     "output_type": "stream",
     "text": [
      "{u'age': u'32', u'name': u'david'}\n",
      "32\n",
      "david\n"
     ]
    }
   ],
   "source": [
    "import json\n",
    "jd = '{\"employee\": {\"age\": \"32\", \"name\": \"david\"}}'\n",
    "dic = json.loads(jd)\n",
    "print dic['employee']\n",
    "print dic['employee']['age']\n",
    "print dic['employee']['name']"
   ]
  },
  {
   "cell_type": "code",
   "execution_count": null,
   "metadata": {
    "collapsed": true
   },
   "outputs": [],
   "source": []
  },
  {
   "cell_type": "code",
   "execution_count": 20,
   "metadata": {
    "collapsed": false
   },
   "outputs": [
    {
     "name": "stdout",
     "output_type": "stream",
     "text": [
      "\n"
     ]
    }
   ],
   "source": [
    "import requests\n",
    "\n",
    "payload = {\n",
    "'__EVENTTARGET':'',\n",
    "'__EVENTARGUMENT':'',\n",
    "'__LASTFOCUS':'',\n",
    "'__VIEWSTATE':'/wEPDwUJOTAxMjkxMjg3D2QWAgIDD2QWBAIBD2QWAmYPZBYEZg9kFgJmDxAPFgYeB0NoZWNrZWRnHglGb3JlQ29sb3IKAB4EXyFTQgIEZGRkZAIBD2QWAgIBDw8WBB8BCgAfAgIEZGQCAw9kFgQCAw8PFgIeBFRleHQFE+mpl+itieeivOW3sumAvuacny5kZAIJDw8WBh4LTmF2aWdhdGVVcmwFEH4vYnNDb250ZW50LmFzcHgfAwUP5LiL6LyJIDIzMzAgQ1NWHgdWaXNpYmxlaGRkGAIFHl9fQ29udHJvbHNSZXF1aXJlUG9zdEJhY2tLZXlfXxYDBRJSYWRpb0J1dHRvbl9Ob3JtYWwFEFJhZGlvQnV0dG9uX0V4Y2QFEFJhZGlvQnV0dG9uX0V4Y2QFD0NhcHRjaGFDb250cm9sMQ8FJDI4YzA4ZTZjLTBjYTUtNDE5Mi1iODlkLWIyZGFlNWY1MmM5ZWTQPiPnG/NGumK2T5rggKiE',\n",
    "'__EVENTVALIDATION':'/wEdAAZvT5ifEcFvgmhMO/9jTwGgfMmuxAJNAJcNkRRsVeJwwqKURZav/+YrVMqaWE2hvMxJwK4Ohf3nRgXHkFhQen1PRSciNdPYWmINCrip1wqw01PJCA0uL9aE2sjICZqv6GoQB2GjmROUzjW5eXlpj/QW',\n",
    "'RadioButton_Normal':'RadioButton_Normal',\n",
    "'TextBox_Stkno':'2330',\n",
    "'CaptchaControl1':'JTUPY',\n",
    "'btnOK':'查詢'\n",
    "    \n",
    "}\n",
    "rs = requests.session()\n",
    "res = rs.post('http://bsr.twse.com.tw/bshtm/bsMenu.aspx', data = payload)\n",
    "res2 = rs.get('http://bsr.twse.com.tw/bshtm/bsContent.aspx')\n",
    "print res2.text"
   ]
  },
  {
   "cell_type": "code",
   "execution_count": 58,
   "metadata": {
    "collapsed": false
   },
   "outputs": [
    {
     "name": "stdout",
     "output_type": "stream",
     "text": [
      "1\n",
      "1\n",
      "None\n",
      "1\n",
      "default\n",
      "{'a': 1, 'c': 123, 'b': 2}\n"
     ]
    }
   ],
   "source": [
    "dic = {'a':1, 'b':2}\n",
    "print dic['a']\n",
    "#print dic['c']\n",
    "\n",
    "print dic.get('a')\n",
    "print dic.get('c')\n",
    "\n",
    "\n",
    "print dic.get('a', 'default')\n",
    "print dic.get('c', 'default')\n",
    "dic['c'] = 123\n",
    "print dic"
   ]
  },
  {
   "cell_type": "code",
   "execution_count": 54,
   "metadata": {
    "collapsed": false
   },
   "outputs": [
    {
     "name": "stdout",
     "output_type": "stream",
     "text": [
      "[<input id=\"__EVENTTARGET\" name=\"__EVENTTARGET\" type=\"hidden\" value=\"\"/>, <input id=\"__EVENTARGUMENT\" name=\"__EVENTARGUMENT\" type=\"hidden\" value=\"\"/>, <input id=\"__LASTFOCUS\" name=\"__LASTFOCUS\" type=\"hidden\" value=\"\"/>, <input id=\"__VIEWSTATE\" name=\"__VIEWSTATE\" type=\"hidden\" value=\"/wEPDwUJOTAxMjkxMjg3D2QWAgIDD2QWBAIBD2QWAmYPZBYEZg9kFgJmDxAPFgYeB0NoZWNrZWRnHglGb3JlQ29sb3IKAB4EXyFTQgIEZGRkZAIBD2QWAgIBDw8WBB8BCgAfAgIEZGQCAw9kFgQCAw8PFgIeBFRleHRlZGQCCQ8PFgIeB1Zpc2libGVoZGQYAgUeX19Db250cm9sc1JlcXVpcmVQb3N0QmFja0tleV9fFgMFElJhZGlvQnV0dG9uX05vcm1hbAUQUmFkaW9CdXR0b25fRXhjZAUQUmFkaW9CdXR0b25fRXhjZAUPQ2FwdGNoYUNvbnRyb2wxDwUkNjQ1MWRlODAtZmUwMi00NTNlLThmY2EtOWZmMjExNzMyMzIwZDloLhxxnFM14V9OS6PzHT0=\"/>, <input id=\"__EVENTVALIDATION\" name=\"__EVENTVALIDATION\" type=\"hidden\" value=\"/wEdAAYcTcGQK/xfTbi55wRw3EQGfMmuxAJNAJcNkRRsVeJwwqKURZav/+YrVMqaWE2hvMxJwK4Ohf3nRgXHkFhQen1PRSciNdPYWmINCrip1wqw01PJCA0uL9aE2sjICZqv6Gq+44F/geGhTsKyvT0Aebcb\"/>]\n"
     ]
    }
   ],
   "source": [
    "import requests\n",
    "from bs4 import BeautifulSoup\n",
    "\n",
    "headers = {\n",
    "'User-Agent':'Mozilla/5.0 (Windows NT 6.1; WOW64) AppleWebKit/537.36 (KHTML, like Gecko) Chrome/50.0.2661.94 Safari/537.36'\n",
    "}\n",
    "\n",
    "payload = {\n",
    "\n",
    "'RadioButton_Normal':'RadioButton_Normal',\n",
    "'TextBox_Stkno':'2330',\n",
    "#'CaptchaControl1':'JTUPY',\n",
    "'btnOK':'查詢'\n",
    "    \n",
    "}\n",
    "rs = requests.session()\n",
    "res = rs.get('http://bsr.twse.com.tw/bshtm/bsMenu.aspx', headers = headers)\n",
    "soup = BeautifulSoup(res.text)\n",
    "#print res.text\n",
    "print soup.select('input[type==hidden]')\n",
    "for item in soup.select('input'):    \n",
    "    if item.get('value') is not None:\n",
    "        #print item['name'], item['value']\n",
    "        payload[item['name']] = item['value']\n",
    "        \n",
    "#print payload\n",
    "#res2 = rs.post('http://bsr.twse.com.tw/bshtm/bsMenu.aspx', data = payload, headers = headers)\n",
    "#res3 = rs.get('http://bsr.twse.com.tw/bshtm/bsContent.aspx?v=t', headers = headers)\n",
    "#print res3.text\n"
   ]
  },
  {
   "cell_type": "code",
   "execution_count": 59,
   "metadata": {
    "collapsed": false
   },
   "outputs": [],
   "source": [
    "import requests\n",
    "from bs4 import BeautifulSoup\n",
    "\n",
    "headers = {\n",
    "'User-Agent':'Mozilla/5.0 (Windows NT 6.1; WOW64) AppleWebKit/537.36 (KHTML, like Gecko) Chrome/50.0.2661.94 Safari/537.36'\n",
    "}\n",
    "\n",
    "payload = {\n",
    "'RadioButton_Normal':'RadioButton_Normal',\n",
    "'TextBox_Stkno':'2330',\n",
    "#'CaptchaControl1':'JTUPY',\n",
    "'btnOK':'查詢'    \n",
    "}\n",
    "rs = requests.session()\n",
    "res = rs.get('http://bsr.twse.com.tw/bshtm/bsMenu.aspx', headers = headers)\n",
    "soup = BeautifulSoup(res.text)\n",
    "#print res.text\n",
    "\n",
    "for item in soup.select('input[type==hidden]'):    \n",
    "    if item.get('value') is not None:\n",
    "        #print item['name'], item['value']\n",
    "        payload[item['name']] = item['value']\n",
    "        \n",
    "#print payload\n",
    "res2 = rs.post('http://bsr.twse.com.tw/bshtm/bsMenu.aspx', data = payload, headers = headers)\n",
    "res3 = rs.get('http://bsr.twse.com.tw/bshtm/bsContent.aspx?v=t', headers = headers)\n",
    "#print res3.text\n"
   ]
  },
  {
   "cell_type": "code",
   "execution_count": null,
   "metadata": {
    "collapsed": true
   },
   "outputs": [],
   "source": []
  }
 ],
 "metadata": {
  "kernelspec": {
   "display_name": "Python 2",
   "language": "python",
   "name": "python2"
  },
  "language_info": {
   "codemirror_mode": {
    "name": "ipython",
    "version": 2
   },
   "file_extension": ".py",
   "mimetype": "text/x-python",
   "name": "python",
   "nbconvert_exporter": "python",
   "pygments_lexer": "ipython2",
   "version": "2.7.11"
  }
 },
 "nbformat": 4,
 "nbformat_minor": 0
}
