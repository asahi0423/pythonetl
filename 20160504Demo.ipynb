{
 "cells": [
  {
   "cell_type": "code",
   "execution_count": 16,
   "metadata": {
    "collapsed": false
   },
   "outputs": [
    {
     "name": "stdout",
     "output_type": "stream",
     "text": [
      "Leka: An Exceptional Toy for Exceptional Children\n",
      "ZUS Kevlar Charging Cable - Lifetime Guarantee\n",
      "Musana Carts: The Solar Street Vending Revolution\n",
      "Whipper:  Worldâs 1st Climbing Performance Tracker\n",
      "Air Case: The World's Thinnest iPhone Battery Case\n",
      "ASAP Connect: The future of USB cables\n",
      "Shock Clock WakeUp Trainer -Never Hit Snooze Again\n",
      "FLUX: Electric Bikes with Attitude\n",
      "WING : The Accessible Premium Wireless Earphone\n",
      "Furbo: World's First Treat-Tossing Dog Camera\n",
      "Turris Omnia: hi-performance & open-source router\n",
      "Lumi: World's Best Gaming & Entertainment Drone\n"
     ]
    }
   ],
   "source": [
    "import requests\n",
    "import json\n",
    "headers = {\n",
    "'User-Agent':'Mozilla/5.0 (Windows NT 6.1; WOW64) AppleWebKit/537.36 (KHTML, like Gecko) Chrome/50.0.2661.94 Safari/537.36', \n",
    "'Cookie':'romref_referer_host=www.google.com.tw; _gat=1; D_SID=140.115.236.39:BOThEAAGv4SMTbKm8/co88YZjak31qrQ7tzdyKgJePc; __qca=P0-1605812000-1462324323319; _gat_appcues_ga=1; ki_t=1462324326470%3B1462324326470%3B1462324326470%3B1%3B1; ki_r=https%3A%2F%2Fwww.google.com.tw%2F; __hstc=223492548.da3ad0a8cbebf03d8c2cf6eb8e74c4bc.1462324326540.1462324326540.1462324326540.1; __hssrc=1; __hssc=223492548.1.1462324326540; hsfirstvisit=https%3A%2F%2Fwww.indiegogo.com%2F%23%2Fpicks_for_you|https%3A%2F%2Fwww.google.com.tw%2F|1462324326538; hubspotutk=da3ad0a8cbebf03d8c2cf6eb8e74c4bc; utag_main=v_id:015479520f4b001cc99be13543d60506c001a06400bd0$_sn:1$_ss:0$_pn:3%3Bexp-session$_st:1462326200985$ses_id:1462324301643%3Bexp-session; D_PID=D8587F6D-A6E5-34C9-B6C5-17392785DB77; D_IID=AFCA9B4F-118C-3C31-85C2-64870B3773BD; D_UID=4D984B67-BE41-3779-B36B-65F850B3AF4A; D_HID=u+s6X+9Xakv8y5xd1N/CSTkiihPzbzMBdas4g3d2vxs; __ar_v4=; apc_user_call_count=2; romref=ORG_www_TW_XXXX_sch-goog_XXXXXXXX_0002_www.google.com.tw; visitor_id=278cba48720054c263e74725c4dac2f790d7ef50098c8cbbb17866a164ca31a5; analytics_session_id=42b42a11d370e48e31ba2df380104bf5b905a479638b62b652ec904e1b944742; _session_id=c8ab92c626784125d18dd0bcc34120ac; locale=en; cohort=www.google.com.tw%7Csch-goog; recent_project_ids=; _ga=GA1.2.1391222500.1462324318'\n",
    "}\n",
    "res = requests.get('https://www.indiegogo.com/private_api/explore?filter_category=Technology&filter_funding=&filter_percent_funded=&filter_quick=popular_all&filter_status=&per_page=12&pg_num=1', headers = headers)\n",
    "jd = json.loads(res.text)\n",
    "for campaign in jd['campaigns']:\n",
    "    print campaign['title']"
   ]
  },
  {
   "cell_type": "markdown",
   "metadata": {},
   "source": [
    "## XML"
   ]
  },
  {
   "cell_type": "code",
   "execution_count": null,
   "metadata": {
    "collapsed": true
   },
   "outputs": [],
   "source": [
    "<employee>\n",
    "    <name>\n",
    "        David\n",
    "    </name>\n",
    "    <age>\n",
    "        32\n",
    "    </age>\n",
    "</employee>"
   ]
  },
  {
   "cell_type": "markdown",
   "metadata": {},
   "source": [
    "## JSON"
   ]
  },
  {
   "cell_type": "code",
   "execution_count": null,
   "metadata": {
    "collapsed": true
   },
   "outputs": [],
   "source": [
    "{\"employee\": {\"age\": \"32\", \"name\": \"david\"}}"
   ]
  },
  {
   "cell_type": "code",
   "execution_count": 15,
   "metadata": {
    "collapsed": false
   },
   "outputs": [
    {
     "name": "stdout",
     "output_type": "stream",
     "text": [
      "{u'age': u'32', u'name': u'david'}\n",
      "32\n",
      "david\n"
     ]
    }
   ],
   "source": [
    "import json\n",
    "jd = '{\"employee\": {\"age\": \"32\", \"name\": \"david\"}}'\n",
    "dic = json.loads(jd)\n",
    "print dic['employee']\n",
    "print dic['employee']['age']\n",
    "print dic['employee']['name']"
   ]
  },
  {
   "cell_type": "code",
   "execution_count": null,
   "metadata": {
    "collapsed": true
   },
   "outputs": [],
   "source": []
  },
  {
   "cell_type": "code",
   "execution_count": 20,
   "metadata": {
    "collapsed": false
   },
   "outputs": [
    {
     "name": "stdout",
     "output_type": "stream",
     "text": [
      "\n"
     ]
    }
   ],
   "source": [
    "import requests\n",
    "\n",
    "payload = {\n",
    "'__EVENTTARGET':'',\n",
    "'__EVENTARGUMENT':'',\n",
    "'__LASTFOCUS':'',\n",
    "'__VIEWSTATE':'/wEPDwUJOTAxMjkxMjg3D2QWAgIDD2QWBAIBD2QWAmYPZBYEZg9kFgJmDxAPFgYeB0NoZWNrZWRnHglGb3JlQ29sb3IKAB4EXyFTQgIEZGRkZAIBD2QWAgIBDw8WBB8BCgAfAgIEZGQCAw9kFgQCAw8PFgIeBFRleHQFE+mpl+itieeivOW3sumAvuacny5kZAIJDw8WBh4LTmF2aWdhdGVVcmwFEH4vYnNDb250ZW50LmFzcHgfAwUP5LiL6LyJIDIzMzAgQ1NWHgdWaXNpYmxlaGRkGAIFHl9fQ29udHJvbHNSZXF1aXJlUG9zdEJhY2tLZXlfXxYDBRJSYWRpb0J1dHRvbl9Ob3JtYWwFEFJhZGlvQnV0dG9uX0V4Y2QFEFJhZGlvQnV0dG9uX0V4Y2QFD0NhcHRjaGFDb250cm9sMQ8FJDI4YzA4ZTZjLTBjYTUtNDE5Mi1iODlkLWIyZGFlNWY1MmM5ZWTQPiPnG/NGumK2T5rggKiE',\n",
    "'__EVENTVALIDATION':'/wEdAAZvT5ifEcFvgmhMO/9jTwGgfMmuxAJNAJcNkRRsVeJwwqKURZav/+YrVMqaWE2hvMxJwK4Ohf3nRgXHkFhQen1PRSciNdPYWmINCrip1wqw01PJCA0uL9aE2sjICZqv6GoQB2GjmROUzjW5eXlpj/QW',\n",
    "'RadioButton_Normal':'RadioButton_Normal',\n",
    "'TextBox_Stkno':'2330',\n",
    "'CaptchaControl1':'JTUPY',\n",
    "'btnOK':'查詢'\n",
    "    \n",
    "}\n",
    "rs = requests.session()\n",
    "res = rs.post('http://bsr.twse.com.tw/bshtm/bsMenu.aspx', data = payload)\n",
    "res2 = rs.get('http://bsr.twse.com.tw/bshtm/bsContent.aspx')\n",
    "print res2.text"
   ]
  },
  {
   "cell_type": "code",
   "execution_count": 58,
   "metadata": {
    "collapsed": false
   },
   "outputs": [
    {
     "name": "stdout",
     "output_type": "stream",
     "text": [
      "1\n",
      "1\n",
      "None\n",
      "1\n",
      "default\n",
      "{'a': 1, 'c': 123, 'b': 2}\n"
     ]
    }
   ],
   "source": [
    "dic = {'a':1, 'b':2}\n",
    "print dic['a']\n",
    "#print dic['c']\n",
    "\n",
    "print dic.get('a')\n",
    "print dic.get('c')\n",
    "\n",
    "\n",
    "print dic.get('a', 'default')\n",
    "print dic.get('c', 'default')\n",
    "dic['c'] = 123\n",
    "print dic"
   ]
  },
  {
   "cell_type": "code",
   "execution_count": 54,
   "metadata": {
    "collapsed": false
   },
   "outputs": [
    {
     "name": "stdout",
     "output_type": "stream",
     "text": [
      "[<input id=\"__EVENTTARGET\" name=\"__EVENTTARGET\" type=\"hidden\" value=\"\"/>, <input id=\"__EVENTARGUMENT\" name=\"__EVENTARGUMENT\" type=\"hidden\" value=\"\"/>, <input id=\"__LASTFOCUS\" name=\"__LASTFOCUS\" type=\"hidden\" value=\"\"/>, <input id=\"__VIEWSTATE\" name=\"__VIEWSTATE\" type=\"hidden\" value=\"/wEPDwUJOTAxMjkxMjg3D2QWAgIDD2QWBAIBD2QWAmYPZBYEZg9kFgJmDxAPFgYeB0NoZWNrZWRnHglGb3JlQ29sb3IKAB4EXyFTQgIEZGRkZAIBD2QWAgIBDw8WBB8BCgAfAgIEZGQCAw9kFgQCAw8PFgIeBFRleHRlZGQCCQ8PFgIeB1Zpc2libGVoZGQYAgUeX19Db250cm9sc1JlcXVpcmVQb3N0QmFja0tleV9fFgMFElJhZGlvQnV0dG9uX05vcm1hbAUQUmFkaW9CdXR0b25fRXhjZAUQUmFkaW9CdXR0b25fRXhjZAUPQ2FwdGNoYUNvbnRyb2wxDwUkNjQ1MWRlODAtZmUwMi00NTNlLThmY2EtOWZmMjExNzMyMzIwZDloLhxxnFM14V9OS6PzHT0=\"/>, <input id=\"__EVENTVALIDATION\" name=\"__EVENTVALIDATION\" type=\"hidden\" value=\"/wEdAAYcTcGQK/xfTbi55wRw3EQGfMmuxAJNAJcNkRRsVeJwwqKURZav/+YrVMqaWE2hvMxJwK4Ohf3nRgXHkFhQen1PRSciNdPYWmINCrip1wqw01PJCA0uL9aE2sjICZqv6Gq+44F/geGhTsKyvT0Aebcb\"/>]\n"
     ]
    }
   ],
   "source": [
    "import requests\n",
    "from bs4 import BeautifulSoup\n",
    "\n",
    "headers = {\n",
    "'User-Agent':'Mozilla/5.0 (Windows NT 6.1; WOW64) AppleWebKit/537.36 (KHTML, like Gecko) Chrome/50.0.2661.94 Safari/537.36'\n",
    "}\n",
    "\n",
    "payload = {\n",
    "\n",
    "'RadioButton_Normal':'RadioButton_Normal',\n",
    "'TextBox_Stkno':'2330',\n",
    "#'CaptchaControl1':'JTUPY',\n",
    "'btnOK':'查詢'\n",
    "    \n",
    "}\n",
    "rs = requests.session()\n",
    "res = rs.get('http://bsr.twse.com.tw/bshtm/bsMenu.aspx', headers = headers)\n",
    "soup = BeautifulSoup(res.text)\n",
    "#print res.text\n",
    "print soup.select('input[type==hidden]')\n",
    "for item in soup.select('input'):    \n",
    "    if item.get('value') is not None:\n",
    "        #print item['name'], item['value']\n",
    "        payload[item['name']] = item['value']\n",
    "        \n",
    "#print payload\n",
    "#res2 = rs.post('http://bsr.twse.com.tw/bshtm/bsMenu.aspx', data = payload, headers = headers)\n",
    "#res3 = rs.get('http://bsr.twse.com.tw/bshtm/bsContent.aspx?v=t', headers = headers)\n",
    "#print res3.text\n"
   ]
  },
  {
   "cell_type": "code",
   "execution_count": 59,
   "metadata": {
    "collapsed": false
   },
   "outputs": [],
   "source": [
    "import requests\n",
    "from bs4 import BeautifulSoup\n",
    "\n",
    "headers = {\n",
    "'User-Agent':'Mozilla/5.0 (Windows NT 6.1; WOW64) AppleWebKit/537.36 (KHTML, like Gecko) Chrome/50.0.2661.94 Safari/537.36'\n",
    "}\n",
    "\n",
    "payload = {\n",
    "'RadioButton_Normal':'RadioButton_Normal',\n",
    "'TextBox_Stkno':'2330',\n",
    "#'CaptchaControl1':'JTUPY',\n",
    "'btnOK':'查詢'    \n",
    "}\n",
    "rs = requests.session()\n",
    "res = rs.get('http://bsr.twse.com.tw/bshtm/bsMenu.aspx', headers = headers)\n",
    "soup = BeautifulSoup(res.text)\n",
    "#print res.text\n",
    "\n",
    "for item in soup.select('input[type==hidden]'):    \n",
    "    if item.get('value') is not None:\n",
    "        #print item['name'], item['value']\n",
    "        payload[item['name']] = item['value']\n",
    "        \n",
    "#print payload\n",
    "res2 = rs.post('http://bsr.twse.com.tw/bshtm/bsMenu.aspx', data = payload, headers = headers)\n",
    "res3 = rs.get('http://bsr.twse.com.tw/bshtm/bsContent.aspx?v=t', headers = headers)\n",
    "#print res3.text\n"
   ]
  },
  {
   "cell_type": "code",
   "execution_count": 6,
   "metadata": {
    "collapsed": false
   },
   "outputs": [
    {
     "name": "stdout",
     "output_type": "stream",
     "text": [
      "http://img3.6comic.com:99/2/103/825/001_hhx.jpg\n",
      "http://img3.6comic.com:99/2/103/825/002_4vf.jpg\n",
      "http://img3.6comic.com:99/2/103/825/003_fv2.jpg\n",
      "http://img3.6comic.com:99/2/103/825/004_6pq.jpg\n",
      "http://img3.6comic.com:99/2/103/825/005_byp.jpg\n",
      "http://img3.6comic.com:99/2/103/825/006_8xw.jpg\n",
      "http://img3.6comic.com:99/2/103/825/007_y28.jpg\n",
      "http://img3.6comic.com:99/2/103/825/008_r7t.jpg\n",
      "http://img3.6comic.com:99/2/103/825/009_k5t.jpg\n",
      "http://img3.6comic.com:99/2/103/825/010_cjx.jpg\n",
      "http://img3.6comic.com:99/2/103/825/011_hx4.jpg\n",
      "http://img3.6comic.com:99/2/103/825/012_vff.jpg\n",
      "http://img3.6comic.com:99/2/103/825/013_v26.jpg\n"
     ]
    },
    {
     "ename": "UnexpectedAlertPresentException",
     "evalue": "Alert Text: 已經是最後一頁了\n<super: <class 'WebDriverException'>, <UnexpectedAlertPresentException object>>",
     "output_type": "error",
     "traceback": [
      "\u001b[1;31m---------------------------------------------------------------------------\u001b[0m",
      "\u001b[1;31mUnexpectedAlertPresentException\u001b[0m           Traceback (most recent call last)",
      "\u001b[1;32m<ipython-input-6-b6a886123c52>\u001b[0m in \u001b[0;36m<module>\u001b[1;34m()\u001b[0m\n\u001b[0;32m     19\u001b[0m \u001b[1;32mwhile\u001b[0m \u001b[0mlen\u001b[0m\u001b[1;33m(\u001b[0m\u001b[0msoup\u001b[0m\u001b[1;33m.\u001b[0m\u001b[0mselect\u001b[0m\u001b[1;33m(\u001b[0m\u001b[1;34m'#next'\u001b[0m\u001b[1;33m)\u001b[0m\u001b[1;33m)\u001b[0m \u001b[1;33m>\u001b[0m \u001b[1;36m0\u001b[0m\u001b[1;33m:\u001b[0m\u001b[1;33m\u001b[0m\u001b[0m\n\u001b[0;32m     20\u001b[0m     \u001b[0mdriver\u001b[0m\u001b[1;33m.\u001b[0m\u001b[0mfind_element_by_css_selector\u001b[0m\u001b[1;33m(\u001b[0m\u001b[1;34m\"#next > b > font\"\u001b[0m\u001b[1;33m)\u001b[0m\u001b[1;33m.\u001b[0m\u001b[0mclick\u001b[0m\u001b[1;33m(\u001b[0m\u001b[1;33m)\u001b[0m\u001b[1;33m\u001b[0m\u001b[0m\n\u001b[1;32m---> 21\u001b[1;33m     \u001b[0mres\u001b[0m \u001b[1;33m=\u001b[0m  \u001b[0mdriver\u001b[0m\u001b[1;33m.\u001b[0m\u001b[0mpage_source\u001b[0m\u001b[1;33m\u001b[0m\u001b[0m\n\u001b[0m\u001b[0;32m     22\u001b[0m     \u001b[0msoup\u001b[0m \u001b[1;33m=\u001b[0m \u001b[0mBeautifulSoup\u001b[0m\u001b[1;33m(\u001b[0m\u001b[0mres\u001b[0m\u001b[1;33m)\u001b[0m\u001b[1;33m\u001b[0m\u001b[0m\n\u001b[0;32m     23\u001b[0m     \u001b[1;32mprint\u001b[0m \u001b[0msoup\u001b[0m\u001b[1;33m.\u001b[0m\u001b[0mselect\u001b[0m\u001b[1;33m(\u001b[0m\u001b[1;34m'#TheImg'\u001b[0m\u001b[1;33m)\u001b[0m\u001b[1;33m[\u001b[0m\u001b[1;36m0\u001b[0m\u001b[1;33m]\u001b[0m\u001b[1;33m[\u001b[0m\u001b[1;34m'src'\u001b[0m\u001b[1;33m]\u001b[0m\u001b[1;33m\u001b[0m\u001b[0m\n",
      "\u001b[1;32mC:\\Anaconda2\\lib\\site-packages\\selenium\\webdriver\\remote\\webdriver.pyc\u001b[0m in \u001b[0;36mpage_source\u001b[1;34m(self)\u001b[0m\n\u001b[0;32m    462\u001b[0m             \u001b[0mdriver\u001b[0m\u001b[1;33m.\u001b[0m\u001b[0mpage_source\u001b[0m\u001b[1;33m\u001b[0m\u001b[0m\n\u001b[0;32m    463\u001b[0m         \"\"\"\n\u001b[1;32m--> 464\u001b[1;33m         \u001b[1;32mreturn\u001b[0m \u001b[0mself\u001b[0m\u001b[1;33m.\u001b[0m\u001b[0mexecute\u001b[0m\u001b[1;33m(\u001b[0m\u001b[0mCommand\u001b[0m\u001b[1;33m.\u001b[0m\u001b[0mGET_PAGE_SOURCE\u001b[0m\u001b[1;33m)\u001b[0m\u001b[1;33m[\u001b[0m\u001b[1;34m'value'\u001b[0m\u001b[1;33m]\u001b[0m\u001b[1;33m\u001b[0m\u001b[0m\n\u001b[0m\u001b[0;32m    465\u001b[0m \u001b[1;33m\u001b[0m\u001b[0m\n\u001b[0;32m    466\u001b[0m     \u001b[1;32mdef\u001b[0m \u001b[0mclose\u001b[0m\u001b[1;33m(\u001b[0m\u001b[0mself\u001b[0m\u001b[1;33m)\u001b[0m\u001b[1;33m:\u001b[0m\u001b[1;33m\u001b[0m\u001b[0m\n",
      "\u001b[1;32mC:\\Anaconda2\\lib\\site-packages\\selenium\\webdriver\\remote\\webdriver.pyc\u001b[0m in \u001b[0;36mexecute\u001b[1;34m(self, driver_command, params)\u001b[0m\n\u001b[0;32m    199\u001b[0m         \u001b[0mresponse\u001b[0m \u001b[1;33m=\u001b[0m \u001b[0mself\u001b[0m\u001b[1;33m.\u001b[0m\u001b[0mcommand_executor\u001b[0m\u001b[1;33m.\u001b[0m\u001b[0mexecute\u001b[0m\u001b[1;33m(\u001b[0m\u001b[0mdriver_command\u001b[0m\u001b[1;33m,\u001b[0m \u001b[0mparams\u001b[0m\u001b[1;33m)\u001b[0m\u001b[1;33m\u001b[0m\u001b[0m\n\u001b[0;32m    200\u001b[0m         \u001b[1;32mif\u001b[0m \u001b[0mresponse\u001b[0m\u001b[1;33m:\u001b[0m\u001b[1;33m\u001b[0m\u001b[0m\n\u001b[1;32m--> 201\u001b[1;33m             \u001b[0mself\u001b[0m\u001b[1;33m.\u001b[0m\u001b[0merror_handler\u001b[0m\u001b[1;33m.\u001b[0m\u001b[0mcheck_response\u001b[0m\u001b[1;33m(\u001b[0m\u001b[0mresponse\u001b[0m\u001b[1;33m)\u001b[0m\u001b[1;33m\u001b[0m\u001b[0m\n\u001b[0m\u001b[0;32m    202\u001b[0m             response['value'] = self._unwrap_value(\n\u001b[0;32m    203\u001b[0m                 response.get('value', None))\n",
      "\u001b[1;32mC:\\Anaconda2\\lib\\site-packages\\selenium\\webdriver\\remote\\errorhandler.pyc\u001b[0m in \u001b[0;36mcheck_response\u001b[1;34m(self, response)\u001b[0m\n\u001b[0;32m    191\u001b[0m             \u001b[1;32mraise\u001b[0m \u001b[0mexception_class\u001b[0m\u001b[1;33m(\u001b[0m\u001b[0mresponse\u001b[0m\u001b[1;33m,\u001b[0m \u001b[0mmessage\u001b[0m\u001b[1;33m)\u001b[0m\u001b[1;33m\u001b[0m\u001b[0m\n\u001b[0;32m    192\u001b[0m         \u001b[1;32melif\u001b[0m \u001b[0mexception_class\u001b[0m \u001b[1;33m==\u001b[0m \u001b[0mUnexpectedAlertPresentException\u001b[0m \u001b[1;32mand\u001b[0m \u001b[1;34m'alert'\u001b[0m \u001b[1;32min\u001b[0m \u001b[0mvalue\u001b[0m\u001b[1;33m:\u001b[0m\u001b[1;33m\u001b[0m\u001b[0m\n\u001b[1;32m--> 193\u001b[1;33m             \u001b[1;32mraise\u001b[0m \u001b[0mexception_class\u001b[0m\u001b[1;33m(\u001b[0m\u001b[0mmessage\u001b[0m\u001b[1;33m,\u001b[0m \u001b[0mscreen\u001b[0m\u001b[1;33m,\u001b[0m \u001b[0mstacktrace\u001b[0m\u001b[1;33m,\u001b[0m \u001b[0mvalue\u001b[0m\u001b[1;33m[\u001b[0m\u001b[1;34m'alert'\u001b[0m\u001b[1;33m]\u001b[0m\u001b[1;33m.\u001b[0m\u001b[0mget\u001b[0m\u001b[1;33m(\u001b[0m\u001b[1;34m'text'\u001b[0m\u001b[1;33m)\u001b[0m\u001b[1;33m)\u001b[0m\u001b[1;33m\u001b[0m\u001b[0m\n\u001b[0m\u001b[0;32m    194\u001b[0m         \u001b[1;32mraise\u001b[0m \u001b[0mexception_class\u001b[0m\u001b[1;33m(\u001b[0m\u001b[0mmessage\u001b[0m\u001b[1;33m,\u001b[0m \u001b[0mscreen\u001b[0m\u001b[1;33m,\u001b[0m \u001b[0mstacktrace\u001b[0m\u001b[1;33m)\u001b[0m\u001b[1;33m\u001b[0m\u001b[0m\n\u001b[0;32m    195\u001b[0m \u001b[1;33m\u001b[0m\u001b[0m\n",
      "\u001b[1;31m<type 'str'>\u001b[0m: (<type 'exceptions.UnicodeEncodeError'>, UnicodeEncodeError('ascii', u\"Alert Text: \\u5df2\\u7d93\\u662f\\u6700\\u5f8c\\u4e00\\u9801\\u4e86\\n<super: <class 'WebDriverException'>, <UnexpectedAlertPresentException object>>\", 12, 20, 'ordinal not in range(128)'))"
     ]
    }
   ],
   "source": [
    "# -*- coding: utf-8 -*-\n",
    "from selenium import webdriver\n",
    "from selenium.webdriver.common.by import By\n",
    "from selenium.webdriver.common.keys import Keys\n",
    "from selenium.webdriver.support.ui import Select\n",
    "from selenium.common.exceptions import NoSuchElementException\n",
    "from selenium.common.exceptions import NoAlertPresentException\n",
    "import unittest, time, re\n",
    "from bs4 import BeautifulSoup\n",
    "\n",
    "driver = webdriver.Firefox()\n",
    "driver.implicitly_wait(30)\n",
    "base_url = \"http://v.comicbus.com/\"\n",
    "\n",
    "driver.get(base_url + \"/online/Domain-103.html?ch=825\")\n",
    "res =  driver.page_source\n",
    "soup = BeautifulSoup(res)\n",
    "print soup.select('#TheImg')[0]['src']\n",
    "while len(soup.select('#next')) > 0:\n",
    "    driver.find_element_by_css_selector(\"#next > b > font\").click()\n",
    "    res =  driver.page_source\n",
    "    soup = BeautifulSoup(res)\n",
    "    print soup.select('#TheImg')[0]['src']\n",
    "driver.close()"
   ]
  },
  {
   "cell_type": "code",
   "execution_count": 8,
   "metadata": {
    "collapsed": false
   },
   "outputs": [
    {
     "name": "stdout",
     "output_type": "stream",
     "text": [
      "[('a', 1), ('c', 2), ('b', 3)]\n"
     ]
    },
    {
     "data": {
      "text/plain": [
       "[('b', 3), ('c', 2), ('a', 1)]"
      ]
     },
     "execution_count": 8,
     "metadata": {},
     "output_type": "execute_result"
    }
   ],
   "source": [
    "import operator\n",
    "dic = {'a': 1, 'b': 3, 'c':2}\n",
    "print dic.items()\n",
    "sorted(dic.items(), key = operator.itemgetter(1), reverse=True)"
   ]
  },
  {
   "cell_type": "code",
   "execution_count": 10,
   "metadata": {
    "collapsed": false
   },
   "outputs": [
    {
     "name": "stdout",
     "output_type": "stream",
     "text": [
      "[('b', 3), ('c', 2), ('a', 1)]\n"
     ]
    }
   ],
   "source": [
    "from collections import Counter\n",
    "c = Counter(dic)\n",
    "print c.most_common(3)"
   ]
  },
  {
   "cell_type": "code",
   "execution_count": 13,
   "metadata": {
    "collapsed": false
   },
   "outputs": [],
   "source": [
    "import requests\n",
    "payload={\n",
    "'method':'search',\n",
    "'searchMethod':'true',\n",
    "'searchTarget':'ATM',\n",
    "'orgName':'',\n",
    "'orgId':'',\n",
    "'hid_1':'1',\n",
    "'tenderName':'',\n",
    "'tenderId':'',\n",
    "'tenderStatus':'4,5,21,29',\n",
    "'tenderWay':'',\n",
    "'awardAnnounceStartDate':'105/05/04',\n",
    "'awardAnnounceEndDate':'105/05/04',\n",
    "'proctrgCate':'3',\n",
    "'radProctrgCate':'3',\n",
    "'tenderRange':'',\n",
    "'minBudget':'',\n",
    "'maxBudget':'',\n",
    "'item':'',\n",
    "'hid_2':'1',\n",
    "'gottenVendorName':'',\n",
    "'gottenVendorId':'',\n",
    "'hid_3':'1',\n",
    "'submitVendorName':'',\n",
    "'submitVendorId':'',\n",
    "'location':'',\n",
    "'priorityCate':'',\n",
    "'isReConstruct':'',\n",
    "'btnQuery':'查詢'    \n",
    "}\n",
    "res = requests.post('http://web.pcc.gov.tw/tps/pss/tender.do?searchMode=common&searchType=advance', data=payload)\n",
    "#print res.text"
   ]
  },
  {
   "cell_type": "code",
   "execution_count": 16,
   "metadata": {
    "collapsed": false
   },
   "outputs": [],
   "source": [
    "from bs4 import BeautifulSoup\n",
    "soup = BeautifulSoup(res.text)\n",
    "recnumber = int(soup.select('.T11b')[0].text)"
   ]
  },
  {
   "cell_type": "code",
   "execution_count": 17,
   "metadata": {
    "collapsed": false
   },
   "outputs": [
    {
     "name": "stdout",
     "output_type": "stream",
     "text": [
      "3\n"
     ]
    }
   ],
   "source": [
    "import math\n",
    "pagenumber = int(math.ceil(float(recnumber) / 100))\n",
    "print pagenumber"
   ]
  },
  {
   "cell_type": "code",
   "execution_count": 35,
   "metadata": {
    "collapsed": false
   },
   "outputs": [
    {
     "name": "stdout",
     "output_type": "stream",
     "text": [
      "1\n",
      "2\n",
      "3\n"
     ]
    }
   ],
   "source": [
    "import requests\n",
    "from bs4 import BeautifulSoup\n",
    "import math\n",
    "\n",
    "payload={\n",
    "'method':'search',\n",
    "'searchMethod':'true',\n",
    "'searchTarget':'ATM',\n",
    "'orgName':'',\n",
    "'orgId':'',\n",
    "'hid_1':'1',\n",
    "'tenderName':'',\n",
    "'tenderId':'',\n",
    "'tenderStatus':'4,5,21,29',\n",
    "'tenderWay':'',\n",
    "'awardAnnounceStartDate':'105/05/04',\n",
    "'awardAnnounceEndDate':'105/05/04',\n",
    "'proctrgCate':'3',\n",
    "'radProctrgCate':'3',\n",
    "'tenderRange':'',\n",
    "'minBudget':'',\n",
    "'maxBudget':'',\n",
    "'item':'',\n",
    "'hid_2':'1',\n",
    "'gottenVendorName':'',\n",
    "'gottenVendorId':'',\n",
    "'hid_3':'1',\n",
    "'submitVendorName':'',\n",
    "'submitVendorId':'',\n",
    "'location':'',\n",
    "'priorityCate':'',\n",
    "'isReConstruct':'',\n",
    "'btnQuery':'查詢'    \n",
    "}\n",
    "rs = requests.session()\n",
    "res = rs.post('http://web.pcc.gov.tw/tps/pss/tender.do?searchMode=common&searchType=advance', data=payload)\n",
    "\n",
    "soup = BeautifulSoup(res.text)\n",
    "recnumber = int(soup.select('.T11b')[0].text)\n",
    "pagenumber = int(math.ceil(float(recnumber) / 100))\n",
    "\n",
    "\n",
    "urlformat = 'http://web.pcc.gov.tw/tps/pss/tender.do?searchMode=common&searchType=advance&searchTarget=ATM&method=search&isSpdt=&pageIndex={}'\n",
    "for i in range(1, pagenumber + 1):\n",
    "    url = urlformat.format(i)\n",
    "    print i\n",
    "    #res2 = requests.get(url)\n",
    "    #print res2.text"
   ]
  },
  {
   "cell_type": "code",
   "execution_count": 33,
   "metadata": {
    "collapsed": false
   },
   "outputs": [
    {
     "name": "stdout",
     "output_type": "stream",
     "text": [
      "[2, 3, 4, 5, 6]\n",
      "[1, 2, 3, 4, 5]\n",
      "[2, 3, 4, 5]\n"
     ]
    }
   ],
   "source": [
    "a = [1,2,3,4,5,6]\n",
    "print a[1:]\n",
    "print a[:-1]\n",
    "print a[1:-1]"
   ]
  },
  {
   "cell_type": "code",
   "execution_count": 43,
   "metadata": {
    "collapsed": false
   },
   "outputs": [
    {
     "name": "stdout",
     "output_type": "stream",
     "text": [
      "/sfafafdfadfdaf\n"
     ]
    }
   ],
   "source": [
    "a = '../sfafafdfadfdaf'\n",
    "print a[2:]"
   ]
  },
  {
   "cell_type": "code",
   "execution_count": 44,
   "metadata": {
    "collapsed": false
   },
   "outputs": [
    {
     "name": "stdout",
     "output_type": "stream",
     "text": [
      "http://web.pcc.gov.tw/tps/main/pms/tps/atm/atmAwardAction.do?newEdit=false&searchMode=common&method=inquiryForPublic&pkAtmMain=51836902&tenderCaseNo=IAC10501\n",
      "http://web.pcc.gov.tw/tps/main/pms/tps/atm/atmAwardAction.do?newEdit=false&searchMode=common&method=inquiryForPublic&pkAtmMain=51836893&tenderCaseNo=MOHW105-FDA-B-113-000523\n",
      "http://web.pcc.gov.tw/tps/main/pms/tps/atm/atmAwardAction.do?newEdit=false&searchMode=common&method=inquiryForPublic&pkAtmMain=51836799&tenderCaseNo=1050203YIN\n",
      "http://web.pcc.gov.tw/tps/main/pms/tps/atm/atmAwardAction.do?newEdit=false&searchMode=common&method=inquiryForPublic&pkAtmMain=51836775&tenderCaseNo=1052000096\n",
      "http://web.pcc.gov.tw/tps/main/pms/tps/atm/atmAwardAction.do?newEdit=false&searchMode=common&method=inquiryForPublic&pkAtmMain=51836692&tenderCaseNo=105015\n",
      "http://web.pcc.gov.tw/tps/main/pms/tps/atm/atmAwardAction.do?newEdit=false&searchMode=common&method=inquiryForPublic&pkAtmMain=51836675&tenderCaseNo=10501012\n",
      "http://web.pcc.gov.tw/tps/main/pms/tps/atm/atmAwardAction.do?newEdit=false&searchMode=common&method=inquiryForPublic&pkAtmMain=51836574&tenderCaseNo=105-C05\n",
      "http://web.pcc.gov.tw/tps/main/pms/tps/atm/atmAwardAction.do?newEdit=false&searchMode=common&method=inquiryForPublic&pkAtmMain=51836493&tenderCaseNo=105020\n",
      "http://web.pcc.gov.tw/tps/main/pms/tps/atm/atmAwardAction.do?newEdit=false&searchMode=common&method=inquiryForPublic&pkAtmMain=51836480&tenderCaseNo=1050122903-1\n",
      "http://web.pcc.gov.tw/tps/main/pms/tps/atm/atmAwardAction.do?newEdit=false&searchMode=common&method=inquiryForPublic&pkAtmMain=51836442&tenderCaseNo=1050401A\n",
      "http://web.pcc.gov.tw/tps/main/pms/tps/atm/atmAwardAction.do?newEdit=false&searchMode=common&method=inquiryForPublic&pkAtmMain=51836416&tenderCaseNo=klgsh105009\n",
      "http://web.pcc.gov.tw/tps/main/pms/tps/atm/atmAwardAction.do?newEdit=false&searchMode=common&method=inquiryForPublic&pkAtmMain=51834904&tenderCaseNo=1050317-2\n",
      "http://web.pcc.gov.tw/tps/main/pms/tps/atm/atmAwardAction.do?newEdit=false&searchMode=common&method=inquiryForPublic&pkAtmMain=51830385&tenderCaseNo=105-013\n",
      "http://web.pcc.gov.tw/tps/main/pms/tps/atm/atmAwardAction.do?newEdit=false&searchMode=common&method=inquiryForPublic&pkAtmMain=51830157&tenderCaseNo=MEA0550007\n",
      "http://web.pcc.gov.tw/tps/main/pms/tps/atm/atmAwardAction.do?newEdit=false&searchMode=common&method=inquiryForPublic&pkAtmMain=51835106&tenderCaseNo=HK10504\n",
      "http://web.pcc.gov.tw/tps/main/pms/tps/atm/atmAwardAction.do?newEdit=false&searchMode=common&method=inquiryForPublic&pkAtmMain=51830432&tenderCaseNo=105-028\n",
      "http://web.pcc.gov.tw/tps/main/pms/tps/atm/atmAwardAction.do?newEdit=false&searchMode=common&method=inquiryForPublic&pkAtmMain=51835109&tenderCaseNo=xjp1050425\n",
      "http://web.pcc.gov.tw/tps/main/pms/tps/atm/atmAwardAction.do?newEdit=false&searchMode=common&method=inquiryForPublic&pkAtmMain=51835110&tenderCaseNo=105-B-029\n",
      "http://web.pcc.gov.tw/tps/main/pms/tps/atm/atmAwardAction.do?newEdit=false&searchMode=common&method=inquiryForPublic&pkAtmMain=51835113&tenderCaseNo=105012\n",
      "http://web.pcc.gov.tw/tps/main/pms/tps/atm/atmAwardAction.do?newEdit=false&searchMode=common&method=inquiryForPublic&pkAtmMain=51835120&tenderCaseNo=NL1050515\n",
      "http://web.pcc.gov.tw/tps/main/pms/tps/atm/atmAwardAction.do?newEdit=false&searchMode=common&method=inquiryForPublic&pkAtmMain=51835122&tenderCaseNo=10504250039\n",
      "http://web.pcc.gov.tw/tps/main/pms/tps/atm/atmAwardAction.do?newEdit=false&searchMode=common&method=inquiryForPublic&pkAtmMain=51835124&tenderCaseNo=10503300028\n",
      "http://web.pcc.gov.tw/tps/main/pms/tps/atm/atmAwardAction.do?newEdit=false&searchMode=common&method=inquiryForPublic&pkAtmMain=51835129&tenderCaseNo=10504070033\n",
      "http://web.pcc.gov.tw/tps/main/pms/tps/atm/atmAwardAction.do?newEdit=false&searchMode=common&method=inquiryForPublic&pkAtmMain=51835130&tenderCaseNo=105D001-1-20\n",
      "http://web.pcc.gov.tw/tps/main/pms/tps/atm/atmAwardAction.do?newEdit=false&searchMode=common&method=inquiryForPublic&pkAtmMain=51835131&tenderCaseNo=NL1050562\n",
      "http://web.pcc.gov.tw/tps/main/pms/tps/atm/atmAwardAction.do?newEdit=false&searchMode=common&method=inquiryForPublic&pkAtmMain=51835146&tenderCaseNo=HJC10509\n",
      "http://web.pcc.gov.tw/tps/main/pms/tps/atm/atmAwardAction.do?newEdit=false&searchMode=common&method=inquiryForPublic&pkAtmMain=51835149&tenderCaseNo=105B01\n",
      "http://web.pcc.gov.tw/tps/main/pms/tps/atm/atmAwardAction.do?newEdit=false&searchMode=common&method=inquiryForPublic&pkAtmMain=51835150&tenderCaseNo=105TFDA-DF-029\n",
      "http://web.pcc.gov.tw/tps/main/pms/tps/atm/atmAwardAction.do?newEdit=false&searchMode=common&method=inquiryForPublic&pkAtmMain=51835151&tenderCaseNo=105TFDA-DF-027\n",
      "http://web.pcc.gov.tw/tps/main/pms/tps/atm/atmAwardAction.do?newEdit=false&searchMode=common&method=inquiryForPublic&pkAtmMain=51835152&tenderCaseNo=105TFDA-AC-129\n",
      "http://web.pcc.gov.tw/tps/main/pms/tps/atm/atmAwardAction.do?newEdit=false&searchMode=common&method=inquiryForPublic&pkAtmMain=51835157&tenderCaseNo=1050414-1\n",
      "http://web.pcc.gov.tw/tps/main/pms/tps/atm/atmAwardAction.do?newEdit=false&searchMode=common&method=inquiryForPublic&pkAtmMain=51835161&tenderCaseNo=10503231\n",
      "http://web.pcc.gov.tw/tps/main/pms/tps/atm/atmAwardAction.do?newEdit=false&searchMode=common&method=inquiryForPublic&pkAtmMain=51835162&tenderCaseNo=NL1050588\n",
      "http://web.pcc.gov.tw/tps/main/pms/tps/atm/atmAwardAction.do?newEdit=false&searchMode=common&method=inquiryForPublic&pkAtmMain=51835166&tenderCaseNo=105S021P\n",
      "http://web.pcc.gov.tw/tps/main/pms/tps/atm/atmAwardAction.do?newEdit=false&searchMode=common&method=inquiryForPublic&pkAtmMain=51835076&tenderCaseNo=10503\n",
      "http://web.pcc.gov.tw/tps/main/pms/tps/atm/atmAwardAction.do?newEdit=false&searchMode=common&method=inquiryForPublic&pkAtmMain=51835169&tenderCaseNo=1050612\n",
      "http://web.pcc.gov.tw/tps/main/pms/tps/atm/atmAwardAction.do?newEdit=false&searchMode=common&method=inquiryForPublic&pkAtmMain=51835079&tenderCaseNo=EO05003L024\n",
      "http://web.pcc.gov.tw/tps/main/pms/tps/atm/atmAwardAction.do?newEdit=false&searchMode=common&method=inquiryForPublic&pkAtmMain=51835084&tenderCaseNo=104A11P005\n",
      "http://web.pcc.gov.tw/tps/main/pms/tps/atm/atmAwardAction.do?newEdit=false&searchMode=common&method=inquiryForPublic&pkAtmMain=51835085&tenderCaseNo=1050717\n",
      "http://web.pcc.gov.tw/tps/main/pms/tps/atm/atmAwardAction.do?newEdit=false&searchMode=common&method=inquiryForPublic&pkAtmMain=51835174&tenderCaseNo=105005\n",
      "http://web.pcc.gov.tw/tps/main/pms/tps/atm/atmAwardAction.do?newEdit=false&searchMode=common&method=inquiryForPublic&pkAtmMain=51835087&tenderCaseNo=105RH052\n",
      "http://web.pcc.gov.tw/tps/main/pms/tps/atm/atmAwardAction.do?newEdit=false&searchMode=common&method=inquiryForPublic&pkAtmMain=51835091&tenderCaseNo=SH1050413\n",
      "http://web.pcc.gov.tw/tps/main/pms/tps/atm/atmAwardAction.do?newEdit=false&searchMode=common&method=inquiryForPublic&pkAtmMain=51835182&tenderCaseNo=1050414A\n",
      "http://web.pcc.gov.tw/tps/main/pms/tps/atm/atmAwardAction.do?newEdit=false&searchMode=common&method=inquiryForPublic&pkAtmMain=51835092&tenderCaseNo=105660D00764\n",
      "http://web.pcc.gov.tw/tps/main/pms/tps/atm/atmAwardAction.do?newEdit=false&searchMode=common&method=inquiryForPublic&pkAtmMain=51835189&tenderCaseNo=1050422\n",
      "http://web.pcc.gov.tw/tps/main/pms/tps/atm/atmAwardAction.do?newEdit=false&searchMode=common&method=inquiryForPublic&pkAtmMain=51835191&tenderCaseNo=1050422-1\n",
      "http://web.pcc.gov.tw/tps/main/pms/tps/atm/atmAwardAction.do?newEdit=false&searchMode=common&method=inquiryForPublic&pkAtmMain=51835198&tenderCaseNo=10504\n",
      "http://web.pcc.gov.tw/tps/main/pms/tps/atm/atmAwardAction.do?newEdit=false&searchMode=common&method=inquiryForPublic&pkAtmMain=51835215&tenderCaseNo=NKHHS1522-10504\n",
      "http://web.pcc.gov.tw/tps/main/pms/tps/atm/atmAwardAction.do?newEdit=false&searchMode=common&method=inquiryForPublic&pkAtmMain=51835175&tenderCaseNo=1050222SC002\n",
      "http://web.pcc.gov.tw/tps/main/pms/tps/atm/atmAwardAction.do?newEdit=false&searchMode=common&method=inquiryForPublic&pkAtmMain=51835223&tenderCaseNo=1050030840\n",
      "http://web.pcc.gov.tw/tps/main/pms/tps/atm/atmAwardAction.do?newEdit=false&searchMode=common&method=inquiryForPublic&pkAtmMain=51835233&tenderCaseNo=M05C2271\n",
      "http://web.pcc.gov.tw/tps/main/pms/tps/atm/atmAwardAction.do?newEdit=false&searchMode=common&method=inquiryForPublic&pkAtmMain=51835247&tenderCaseNo=105-04-12\n",
      "http://web.pcc.gov.tw/tps/main/pms/tps/atm/atmAwardAction.do?newEdit=false&searchMode=common&method=inquiryForPublic&pkAtmMain=51835248&tenderCaseNo=105S035\n",
      "http://web.pcc.gov.tw/tps/main/pms/tps/atm/atmAwardAction.do?newEdit=false&searchMode=common&method=inquiryForPublic&pkAtmMain=51835696&tenderCaseNo=1050421\n",
      "http://web.pcc.gov.tw/tps/main/pms/tps/atm/atmAwardAction.do?newEdit=false&searchMode=common&method=inquiryForPublic&pkAtmMain=51835271&tenderCaseNo=105-0430-1-034\n",
      "http://web.pcc.gov.tw/tps/main/pms/tps/atm/atmAwardAction.do?newEdit=false&searchMode=common&method=inquiryForPublic&pkAtmMain=51835273&tenderCaseNo=105EX0028\n",
      "http://web.pcc.gov.tw/tps/main/pms/tps/atm/atmAwardAction.do?newEdit=false&searchMode=common&method=inquiryForPublic&pkAtmMain=51835715&tenderCaseNo=10503\n",
      "http://web.pcc.gov.tw/tps/main/pms/tps/atm/atmAwardAction.do?newEdit=false&searchMode=common&method=inquiryForPublic&pkAtmMain=51835717&tenderCaseNo=105-022\n",
      "http://web.pcc.gov.tw/tps/main/pms/tps/atm/atmAwardAction.do?newEdit=false&searchMode=common&method=inquiryForPublic&pkAtmMain=51835727&tenderCaseNo=10504190850\n",
      "http://web.pcc.gov.tw/tps/main/pms/tps/atm/atmAwardAction.do?newEdit=false&searchMode=common&method=inquiryForPublic&pkAtmMain=51835280&tenderCaseNo=1050025727\n",
      "http://web.pcc.gov.tw/tps/main/pms/tps/atm/atmAwardAction.do?newEdit=false&searchMode=common&method=inquiryForPublic&pkAtmMain=51835729&tenderCaseNo=133-105-B083\n",
      "http://web.pcc.gov.tw/tps/main/pms/tps/atm/atmAwardAction.do?newEdit=false&searchMode=common&method=inquiryForPublic&pkAtmMain=51835730&tenderCaseNo=10511\n",
      "http://web.pcc.gov.tw/tps/main/pms/tps/atm/atmAwardAction.do?newEdit=false&searchMode=common&method=inquiryForPublic&pkAtmMain=51835282&tenderCaseNo=L0205P1050V\n",
      "http://web.pcc.gov.tw/tps/main/pms/tps/atm/atmAwardAction.do?newEdit=false&searchMode=common&method=inquiryForPublic&pkAtmMain=51835739&tenderCaseNo=A102\n",
      "http://web.pcc.gov.tw/tps/main/pms/tps/atm/atmAwardAction.do?newEdit=false&searchMode=common&method=inquiryForPublic&pkAtmMain=51835743&tenderCaseNo=10421-1\n",
      "http://web.pcc.gov.tw/tps/main/pms/tps/atm/atmAwardAction.do?newEdit=false&searchMode=common&method=inquiryForPublic&pkAtmMain=51835292&tenderCaseNo=105B03P025\n",
      "http://web.pcc.gov.tw/tps/main/pms/tps/atm/atmAwardAction.do?newEdit=false&searchMode=common&method=inquiryForPublic&pkAtmMain=51835745&tenderCaseNo=105039\n",
      "http://web.pcc.gov.tw/tps/main/pms/tps/atm/atmAwardAction.do?newEdit=false&searchMode=common&method=inquiryForPublic&pkAtmMain=51835296&tenderCaseNo=1020300044-1\n",
      "http://web.pcc.gov.tw/tps/main/pms/tps/atm/atmAwardAction.do?newEdit=false&searchMode=common&method=inquiryForPublic&pkAtmMain=51835752&tenderCaseNo=1050411D1\n",
      "http://web.pcc.gov.tw/tps/main/pms/tps/atm/atmAwardAction.do?newEdit=false&searchMode=common&method=inquiryForPublic&pkAtmMain=51835756&tenderCaseNo=105406A029\n",
      "http://web.pcc.gov.tw/tps/main/pms/tps/atm/atmAwardAction.do?newEdit=false&searchMode=common&method=inquiryForPublic&pkAtmMain=51237919&tenderCaseNo=103006L\n",
      "http://web.pcc.gov.tw/tps/main/pms/tps/atm/atmAwardAction.do?newEdit=false&searchMode=common&method=inquiryForPublic&pkAtmMain=51835767&tenderCaseNo=105S001\n",
      "http://web.pcc.gov.tw/tps/main/pms/tps/atm/atmAwardAction.do?newEdit=false&searchMode=common&method=inquiryForPublic&pkAtmMain=51835791&tenderCaseNo=1050331\n",
      "http://web.pcc.gov.tw/tps/main/pms/tps/atm/atmAwardAction.do?newEdit=false&searchMode=common&method=inquiryForPublic&pkAtmMain=51835792&tenderCaseNo=105040503\n",
      "http://web.pcc.gov.tw/tps/main/pms/tps/atm/atmAwardAction.do?newEdit=false&searchMode=common&method=inquiryForPublic&pkAtmMain=51835101&tenderCaseNo=105-5-311\n",
      "http://web.pcc.gov.tw/tps/main/pms/tps/atm/atmAwardAction.do?newEdit=false&searchMode=common&method=inquiryForPublic&pkAtmMain=51835307&tenderCaseNo=YG10507\n",
      "http://web.pcc.gov.tw/tps/main/pms/tps/atm/atmAwardAction.do?newEdit=false&searchMode=common&method=inquiryForPublic&pkAtmMain=51835808&tenderCaseNo=105-02\n",
      "http://web.pcc.gov.tw/tps/main/pms/tps/atm/atmAwardAction.do?newEdit=false&searchMode=common&method=inquiryForPublic&pkAtmMain=51835311&tenderCaseNo=1050020688\n",
      "http://web.pcc.gov.tw/tps/main/pms/tps/atm/atmAwardAction.do?newEdit=false&searchMode=common&method=inquiryForPublic&pkAtmMain=51835312&tenderCaseNo=105C004\n",
      "http://web.pcc.gov.tw/tps/main/pms/tps/atm/atmAwardAction.do?newEdit=false&searchMode=common&method=inquiryForPublic&pkAtmMain=51835818&tenderCaseNo=105S003\n",
      "http://web.pcc.gov.tw/tps/main/pms/tps/atm/atmAwardAction.do?newEdit=false&searchMode=common&method=inquiryForPublic&pkAtmMain=51835819&tenderCaseNo=105011\n",
      "http://web.pcc.gov.tw/tps/main/pms/tps/atm/atmAwardAction.do?newEdit=false&searchMode=common&method=inquiryForPublic&pkAtmMain=51835822&tenderCaseNo=PR-1050425\n",
      "http://web.pcc.gov.tw/tps/main/pms/tps/atm/atmAwardAction.do?newEdit=false&searchMode=common&method=inquiryForPublic&pkAtmMain=51835824&tenderCaseNo=1050325\n",
      "http://web.pcc.gov.tw/tps/main/pms/tps/atm/atmAwardAction.do?newEdit=false&searchMode=common&method=inquiryForPublic&pkAtmMain=51835832&tenderCaseNo=105-06\n",
      "http://web.pcc.gov.tw/tps/main/pms/tps/atm/atmAwardAction.do?newEdit=false&searchMode=common&method=inquiryForPublic&pkAtmMain=51835835&tenderCaseNo=3510500100\n",
      "http://web.pcc.gov.tw/tps/main/pms/tps/atm/atmAwardAction.do?newEdit=false&searchMode=common&method=inquiryForPublic&pkAtmMain=51835841&tenderCaseNo=1054B023\n",
      "http://web.pcc.gov.tw/tps/main/pms/tps/atm/atmAwardAction.do?newEdit=false&searchMode=common&method=inquiryForPublic&pkAtmMain=51835842&tenderCaseNo=105302\n",
      "http://web.pcc.gov.tw/tps/main/pms/tps/atm/atmAwardAction.do?newEdit=false&searchMode=common&method=inquiryForPublic&pkAtmMain=51835844&tenderCaseNo=1130500004\n",
      "http://web.pcc.gov.tw/tps/main/pms/tps/atm/atmAwardAction.do?newEdit=false&searchMode=common&method=inquiryForPublic&pkAtmMain=51833843&tenderCaseNo=1041111SC006\n",
      "http://web.pcc.gov.tw/tps/main/pms/tps/atm/atmAwardAction.do?newEdit=false&searchMode=common&method=inquiryForPublic&pkAtmMain=51833987&tenderCaseNo=MGF0550001\n",
      "http://web.pcc.gov.tw/tps/main/pms/tps/atm/atmAwardAction.do?newEdit=false&searchMode=common&method=inquiryForPublic&pkAtmMain=51835320&tenderCaseNo=31588-b10509\n",
      "http://web.pcc.gov.tw/tps/main/pms/tps/atm/atmAwardAction.do?newEdit=false&searchMode=common&method=inquiryForPublic&pkAtmMain=51834505&tenderCaseNo=1050420\n",
      "http://web.pcc.gov.tw/tps/main/pms/tps/atm/atmAwardAction.do?newEdit=false&searchMode=common&method=inquiryForPublic&pkAtmMain=51834621&tenderCaseNo=HE105033001\n",
      "http://web.pcc.gov.tw/tps/main/pms/tps/atm/atmAwardAction.do?newEdit=false&searchMode=common&method=inquiryForPublic&pkAtmMain=51835868&tenderCaseNo=10506\n",
      "http://web.pcc.gov.tw/tps/main/pms/tps/atm/atmAwardAction.do?newEdit=false&searchMode=common&method=inquiryForPublic&pkAtmMain=51835870&tenderCaseNo=105Y067\n",
      "http://web.pcc.gov.tw/tps/main/pms/tps/atm/atmAwardAction.do?newEdit=false&searchMode=common&method=inquiryForPublic&pkAtmMain=51835872&tenderCaseNo=Po105ca06\n",
      "http://web.pcc.gov.tw/tps/main/pms/tps/atm/atmAwardAction.do?newEdit=false&searchMode=common&method=inquiryForPublic&pkAtmMain=51835326&tenderCaseNo=V10409004\n",
      "http://web.pcc.gov.tw/tps/main/pms/tps/atm/atmAwardAction.do?newEdit=false&searchMode=common&method=inquiryForPublic&pkAtmMain=51835328&tenderCaseNo=AEA0506071\n",
      "http://web.pcc.gov.tw/tps/main/pms/tps/atm/atmAwardAction.do?newEdit=false&searchMode=common&method=inquiryForPublic&pkAtmMain=51835770&tenderCaseNo=105Y066\n",
      "http://web.pcc.gov.tw/tps/main/pms/tps/atm/atmAwardAction.do?newEdit=false&searchMode=common&method=inquiryForPublic&pkAtmMain=51835874&tenderCaseNo=5460500007\n"
     ]
    }
   ],
   "source": [
    "urlformat = 'http://web.pcc.gov.tw/tps/pss/tender.do?searchMode=common&searchType=advance&searchTarget=ATM&method=search&isSpdt=&pageIndex={}'\n",
    "url = urlformat.format(1)\n",
    "res2 = rs.get(url)\n",
    "soup2 = BeautifulSoup(res2.text)\n",
    "print_area = soup2.select('#print_area')[0]\n",
    "#print len(print_area.select('tr'))\n",
    "for tr in print_area.select('tr')[1:-1]:\n",
    "    #print tr.select('a')[0]\n",
    "    print 'http://web.pcc.gov.tw/tps' +tr.select('a')[0]['href'][2:]\n",
    "    #print res2.text"
   ]
  },
  {
   "cell_type": "code",
   "execution_count": 47,
   "metadata": {
    "collapsed": false
   },
   "outputs": [],
   "source": [
    "f = open('test.txt', 'w')\n",
    "f.write('123')\n",
    "f.close()\n",
    "\n",
    "with open('test.txt', 'w') as f:\n",
    "    f.write('456')"
   ]
  },
  {
   "cell_type": "code",
   "execution_count": 48,
   "metadata": {
    "collapsed": true
   },
   "outputs": [],
   "source": [
    "urlformat = 'http://web.pcc.gov.tw/tps/pss/tender.do?searchMode=common&searchType=advance&searchTarget=ATM&method=search&isSpdt=&pageIndex={}'\n",
    "url = urlformat.format(1)\n",
    "res2 = rs.get(url)\n",
    "soup2 = BeautifulSoup(res2.text)\n",
    "print_area = soup2.select('#print_area')[0]\n",
    "with open('bid_list.txt','w') as f:\n",
    "    for tr in print_area.select('tr')[1:-1]:        \n",
    "        f.write('http://web.pcc.gov.tw/tps' +tr.select('a')[0]['href'][2:] + '\\n')"
   ]
  },
  {
   "cell_type": "code",
   "execution_count": 52,
   "metadata": {
    "collapsed": true
   },
   "outputs": [],
   "source": [
    "import requests\n",
    "from bs4 import BeautifulSoup\n",
    "import math\n",
    "\n",
    "payload={\n",
    "'method':'search',\n",
    "'searchMethod':'true',\n",
    "'searchTarget':'ATM',\n",
    "'orgName':'',\n",
    "'orgId':'',\n",
    "'hid_1':'1',\n",
    "'tenderName':'',\n",
    "'tenderId':'',\n",
    "'tenderStatus':'4,5,21,29',\n",
    "'tenderWay':'',\n",
    "'awardAnnounceStartDate':'105/05/04',\n",
    "'awardAnnounceEndDate':'105/05/04',\n",
    "'proctrgCate':'3',\n",
    "'radProctrgCate':'3',\n",
    "'tenderRange':'',\n",
    "'minBudget':'',\n",
    "'maxBudget':'',\n",
    "'item':'',\n",
    "'hid_2':'1',\n",
    "'gottenVendorName':'',\n",
    "'gottenVendorId':'',\n",
    "'hid_3':'1',\n",
    "'submitVendorName':'',\n",
    "'submitVendorId':'',\n",
    "'location':'',\n",
    "'priorityCate':'',\n",
    "'isReConstruct':'',\n",
    "'btnQuery':'查詢'    \n",
    "}\n",
    "rs = requests.session()\n",
    "res = rs.post('http://web.pcc.gov.tw/tps/pss/tender.do?searchMode=common&searchType=advance', data=payload)\n",
    "\n",
    "soup = BeautifulSoup(res.text)\n",
    "recnumber = int(soup.select('.T11b')[0].text)\n",
    "pagenumber = int(math.ceil(float(recnumber) / 100))"
   ]
  },
  {
   "cell_type": "code",
   "execution_count": 55,
   "metadata": {
    "collapsed": false
   },
   "outputs": [],
   "source": [
    "urlformat = 'http://web.pcc.gov.tw/tps/pss/tender.do?searchMode=common&searchType=advance&searchTarget=ATM&method=search&isSpdt=&pageIndex={}'\n",
    "with open('bid_list.txt','w') as f:\n",
    "    for i in range(1, pagenumber + 1):\n",
    "        url = urlformat.format(i)\n",
    "        res2 = rs.get(url)\n",
    "        soup2 = BeautifulSoup(res2.text)\n",
    "        print_area = soup2.select('#print_area')[0]\n",
    "        for tr in print_area.select('tr')[1:-1]:        \n",
    "            f.write('http://web.pcc.gov.tw/tps' +tr.select('a')[0]['href'][2:] + '\\n')"
   ]
  },
  {
   "cell_type": "markdown",
   "metadata": {},
   "source": [
    "## 抓取清單完整版"
   ]
  },
  {
   "cell_type": "markdown",
   "metadata": {},
   "source": [
    "### 引用Package"
   ]
  },
  {
   "cell_type": "code",
   "execution_count": 58,
   "metadata": {
    "collapsed": true
   },
   "outputs": [],
   "source": [
    "import requests\n",
    "from bs4 import BeautifulSoup\n",
    "import math"
   ]
  },
  {
   "cell_type": "markdown",
   "metadata": {},
   "source": [
    "### 設定查詢條件"
   ]
  },
  {
   "cell_type": "code",
   "execution_count": 59,
   "metadata": {
    "collapsed": true
   },
   "outputs": [],
   "source": [
    "payload={\n",
    "'method':'search',\n",
    "'searchMethod':'true',\n",
    "'searchTarget':'ATM',\n",
    "'orgName':'',\n",
    "'orgId':'',\n",
    "'hid_1':'1',\n",
    "'tenderName':'',\n",
    "'tenderId':'',\n",
    "'tenderStatus':'4,5,21,29',\n",
    "'tenderWay':'',\n",
    "'awardAnnounceStartDate':'105/05/04',\n",
    "'awardAnnounceEndDate':'105/05/04',\n",
    "'proctrgCate':'3',\n",
    "'radProctrgCate':'3',\n",
    "'tenderRange':'',\n",
    "'minBudget':'',\n",
    "'maxBudget':'',\n",
    "'item':'',\n",
    "'hid_2':'1',\n",
    "'gottenVendorName':'',\n",
    "'gottenVendorId':'',\n",
    "'hid_3':'1',\n",
    "'submitVendorName':'',\n",
    "'submitVendorId':'',\n",
    "'location':'',\n",
    "'priorityCate':'',\n",
    "'isReConstruct':'',\n",
    "'btnQuery':'查詢'    \n",
    "}\n",
    "rs = requests.session()\n",
    "res = rs.post('http://web.pcc.gov.tw/tps/pss/tender.do?searchMode=common&searchType=advance', data=payload)\n",
    "soup = BeautifulSoup(res.text)"
   ]
  },
  {
   "cell_type": "markdown",
   "metadata": {},
   "source": [
    "### 計算抓取頁數"
   ]
  },
  {
   "cell_type": "code",
   "execution_count": 60,
   "metadata": {
    "collapsed": true
   },
   "outputs": [],
   "source": [
    "recnumber = int(soup.select('.T11b')[0].text)\n",
    "pagenumber = int(math.ceil(float(recnumber) / 100))"
   ]
  },
  {
   "cell_type": "markdown",
   "metadata": {},
   "source": [
    "### 將標案連結存入檔案之中"
   ]
  },
  {
   "cell_type": "code",
   "execution_count": 61,
   "metadata": {
    "collapsed": true
   },
   "outputs": [],
   "source": [
    "urlformat = 'http://web.pcc.gov.tw/tps/pss/tender.do?searchMode=common&searchType=advance&searchTarget=ATM&method=search&isSpdt=&pageIndex={}'\n",
    "with open('bid_list.txt','w') as f:\n",
    "    for i in range(1, pagenumber + 1):\n",
    "        url = urlformat.format(i)\n",
    "        res2 = rs.get(url)\n",
    "        soup2 = BeautifulSoup(res2.text)\n",
    "        print_area = soup2.select('#print_area')[0]\n",
    "        for tr in print_area.select('tr')[1:-1]:        \n",
    "            f.write('http://web.pcc.gov.tw/tps' +tr.select('a')[0]['href'][2:] + '\\n')"
   ]
  },
  {
   "cell_type": "code",
   "execution_count": null,
   "metadata": {
    "collapsed": true
   },
   "outputs": [],
   "source": []
  }
 ],
 "metadata": {
  "kernelspec": {
   "display_name": "Python 2",
   "language": "python",
   "name": "python2"
  },
  "language_info": {
   "codemirror_mode": {
    "name": "ipython",
    "version": 2
   },
   "file_extension": ".py",
   "mimetype": "text/x-python",
   "name": "python",
   "nbconvert_exporter": "python",
   "pygments_lexer": "ipython2",
   "version": "2.7.11"
  }
 },
 "nbformat": 4,
 "nbformat_minor": 0
}
