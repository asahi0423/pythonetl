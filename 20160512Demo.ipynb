{
 "cells": [
  {
   "cell_type": "code",
   "execution_count": 2,
   "metadata": {
    "collapsed": false
   },
   "outputs": [],
   "source": [
    "with open('gov/51835965.txt', 'r') as f:\n",
    "    #print f.read()\n",
    "    pass"
   ]
  },
  {
   "cell_type": "code",
   "execution_count": 7,
   "metadata": {
    "collapsed": false
   },
   "outputs": [
    {
     "name": "stdout",
     "output_type": "stream",
     "text": [
      "3 0\n"
     ]
    }
   ],
   "source": [
    "a = [1,2,3]\n",
    "b = []\n",
    "print len(a), len(b)"
   ]
  },
  {
   "cell_type": "code",
   "execution_count": 15,
   "metadata": {
    "collapsed": false
   },
   "outputs": [
    {
     "name": "stdout",
     "output_type": "stream",
     "text": [
      "aaa\n",
      "aaa          \n",
      "         aaa\n",
      "12345\n",
      "abcabc\n"
     ]
    }
   ],
   "source": [
    "a= '         aaa          '\n",
    "print a.strip()\n",
    "print a.lstrip()\n",
    "print a.rstrip()\n",
    "\n",
    "b = '!12345!'\n",
    "print b.strip('!')\n",
    "\n",
    "c = 'hihiabcabc'\n",
    "print c.strip('hi')"
   ]
  },
  {
   "cell_type": "code",
   "execution_count": 38,
   "metadata": {
    "collapsed": false
   },
   "outputs": [
    {
     "name": "stdout",
     "output_type": "stream",
     "text": [
      "<type 'unicode'> <type 'str'>\n",
      "False\n",
      "True\n",
      "<type 'str'>\n",
      "True\n",
      "True\n"
     ]
    },
    {
     "name": "stderr",
     "output_type": "stream",
     "text": [
      "C:\\Anaconda2\\lib\\site-packages\\ipykernel\\__main__.py:4: UnicodeWarning: Unicode equal comparison failed to convert both arguments to Unicode - interpreting them as being unequal\n"
     ]
    }
   ],
   "source": [
    "a = u'機關'\n",
    "b = '機關'\n",
    "print type(a), type(b)\n",
    "print a ==b\n",
    "print a.encode('utf-8') == b\n",
    "print type(a.encode('utf-8'))\n",
    "print a == u'機關'\n",
    "print a == b.decode('utf-8')"
   ]
  },
  {
   "cell_type": "code",
   "execution_count": 29,
   "metadata": {
    "collapsed": false,
    "scrolled": false
   },
   "outputs": [
    {
     "name": "stdout",
     "output_type": "stream",
     "text": [
      "==================\n",
      "==================\n",
      "==================\n",
      "==================\n",
      "[<td bgcolor=\"#EFF1F1\" class=\"newstop\" height=\"25\">\\n     A.25.2\\n    </td>]\n",
      "-------------------\n",
      "<td bgcolor=\"#EFF1F1\" class=\"newstop\" height=\"25\">\n",
      "     A.25.2\n",
      "    </td>\n",
      "-------------------\n",
      "\n",
      "     A.25.2\n",
      "    \n",
      "-------------------\n",
      "A.25.2\n",
      "==================\n",
      "==================\n",
      "==================\n",
      "==================\n",
      "==================\n",
      "==================\n",
      "==================\n",
      "==================\n",
      "==================\n",
      "==================\n",
      "==================\n",
      "==================\n",
      "==================\n",
      "==================\n",
      "==================\n",
      "==================\n",
      "==================\n",
      "==================\n",
      "==================\n",
      "==================\n",
      "==================\n",
      "==================\n",
      "==================\n",
      "==================\n",
      "==================\n",
      "==================\n",
      "==================\n",
      "==================\n",
      "==================\n",
      "==================\n",
      "==================\n",
      "==================\n",
      "==================\n",
      "==================\n",
      "==================\n",
      "==================\n",
      "==================\n",
      "==================\n",
      "==================\n",
      "==================\n",
      "==================\n",
      "==================\n",
      "==================\n",
      "==================\n",
      "==================\n",
      "==================\n",
      "==================\n",
      "==================\n",
      "==================\n",
      "==================\n",
      "==================\n",
      "==================\n",
      "==================\n",
      "==================\n",
      "==================\n",
      "==================\n",
      "==================\n",
      "==================\n",
      "==================\n",
      "==================\n",
      "==================\n",
      "==================\n",
      "==================\n",
      "==================\n",
      "==================\n",
      "==================\n",
      "==================\n",
      "==================\n",
      "==================\n",
      "==================\n",
      "==================\n",
      "==================\n",
      "==================\n",
      "==================\n",
      "==================\n",
      "==================\n",
      "==================\n",
      "==================\n",
      "==================\n",
      "==================\n"
     ]
    }
   ],
   "source": [
    "from bs4 import BeautifulSoup as bs\n",
    "with open('gov/51835965.txt', 'r') as f:\n",
    "    soup = bs(f.read())\n",
    "    #print soup.select('tr')\n",
    "    for tr in soup.select('tr'):\n",
    "        print '=================='\n",
    "        #print tr.select('th')\n",
    "        if len(tr.select('th')) > 0:\n",
    "            #print tr.select('th')[0].text\n",
    "            #print tr.select('th')[0].text.strip()\n",
    "            if tr.select('th')[0].text.strip() == u'機關代碼':\n",
    "                print tr.select('td')\n",
    "                print '-------------------'\n",
    "                print tr.select('td')[0]\n",
    "                print '-------------------'\n",
    "                print tr.select('td')[0].text\n",
    "                print '-------------------'\n",
    "                print tr.select('td')[0].text.strip()\n",
    "        \n",
    "   "
   ]
  },
  {
   "cell_type": "code",
   "execution_count": 31,
   "metadata": {
    "collapsed": false
   },
   "outputs": [
    {
     "name": "stdout",
     "output_type": "stream",
     "text": [
      "A.25.2\n",
      "文化部影視及流行音樂產業局\n"
     ]
    }
   ],
   "source": [
    "from bs4 import BeautifulSoup as bs\n",
    "with open('gov/51835965.txt', 'r') as f:\n",
    "    soup = bs(f.read())\n",
    "    for tr in soup.select('tr'):\n",
    "        if len(tr.select('th')) > 0:\n",
    "            if tr.select('th')[0].text.strip() == u'機關代碼':\n",
    "                print tr.select('td')[0].text.strip()\n",
    "            if tr.select('th')[0].text.strip() == u'機關名稱':\n",
    "                print tr.select('td')[0].text.strip()\n",
    "        \n",
    "   "
   ]
  },
  {
   "cell_type": "code",
   "execution_count": 33,
   "metadata": {
    "collapsed": false
   },
   "outputs": [
    {
     "name": "stdout",
     "output_type": "stream",
     "text": [
      "True\n",
      "False\n"
     ]
    }
   ],
   "source": [
    "dic = {'a':1, 'b':2, 'd':100}\n",
    "print 'a' in dic\n",
    "print 'c' in dic"
   ]
  },
  {
   "cell_type": "code",
   "execution_count": 39,
   "metadata": {
    "collapsed": false
   },
   "outputs": [
    {
     "name": "stdout",
     "output_type": "stream",
     "text": [
      "機關代碼 A.25.2\n",
      "機關名稱 文化部影視及流行音樂產業局\n",
      "單位名稱 流行音樂產業組\n",
      "機關地址 100臺北市中正區開封街一段3號\n"
     ]
    }
   ],
   "source": [
    "from bs4 import BeautifulSoup as bs\n",
    "dic = {u'機關代碼': '',  u'機關名稱':'', u'單位名稱':'', u'機關地址':''}\n",
    "with open('gov/51835965.txt', 'r') as f:\n",
    "    soup = bs(f.read())\n",
    "    for tr in soup.select('tr'):\n",
    "        if len(tr.select('th')) > 0:\n",
    "            if tr.select('th')[0].text.strip() in dic:\n",
    "                #print tr.select('td')[0].text.strip()\n",
    "                print tr.select('th')[0].text.strip(), tr.select('td')[0].text.strip()"
   ]
  },
  {
   "cell_type": "code",
   "execution_count": 40,
   "metadata": {
    "collapsed": true
   },
   "outputs": [],
   "source": [
    "from bs4 import BeautifulSoup as bs\n",
    "dic = {u'機關代碼': '',  u'機關名稱':'', u'單位名稱':'', u'機關地址':''}\n",
    "with open('gov/51835965.txt', 'r') as f:\n",
    "    soup = bs(f.read())\n",
    "    for tr in soup.select('tr'):\n",
    "        if len(tr.select('th')) > 0:\n",
    "            if tr.select('th')[0].text.strip() in dic:\n",
    "                #print tr.select('td')[0].text.strip()\n",
    "                dic[tr.select('th')[0].text.strip()]= tr.select('td')[0].text.strip()\n"
   ]
  },
  {
   "cell_type": "code",
   "execution_count": 41,
   "metadata": {
    "collapsed": false
   },
   "outputs": [
    {
     "name": "stdout",
     "output_type": "stream",
     "text": [
      "{u'\\u6a5f\\u95dc\\u4ee3\\u78bc': u'A.25.2', u'\\u6a5f\\u95dc\\u5730\\u5740': u'100\\u81fa\\u5317\\u5e02\\u4e2d\\u6b63\\u5340\\u958b\\u5c01\\u8857\\u4e00\\u6bb53\\u865f', u'\\u55ae\\u4f4d\\u540d\\u7a31': u'\\u6d41\\u884c\\u97f3\\u6a02\\u7522\\u696d\\u7d44', u'\\u6a5f\\u95dc\\u540d\\u7a31': u'\\u6587\\u5316\\u90e8\\u5f71\\u8996\\u53ca\\u6d41\\u884c\\u97f3\\u6a02\\u7522\\u696d\\u5c40'}\n"
     ]
    }
   ],
   "source": [
    "print dic"
   ]
  },
  {
   "cell_type": "code",
   "execution_count": 43,
   "metadata": {
    "collapsed": false
   },
   "outputs": [
    {
     "name": "stdout",
     "output_type": "stream",
     "text": [
      "機關代碼 A.25.2\n",
      "機關地址 100臺北市中正區開封街一段3號\n",
      "單位名稱 流行音樂產業組\n",
      "機關名稱 文化部影視及流行音樂產業局\n"
     ]
    }
   ],
   "source": [
    "for ele in dic:\n",
    "    print ele, dic[ele]"
   ]
  },
  {
   "cell_type": "code",
   "execution_count": 45,
   "metadata": {
    "collapsed": false
   },
   "outputs": [
    {
     "name": "stdout",
     "output_type": "stream",
     "text": [
      "this is a loooooooooooooooooooooooooooooooooooooooooooooooooong text\n"
     ]
    }
   ],
   "source": [
    "a = 'this is a loooooooooooooooooooooooooooooooooooooo\\\n",
    "oooooooooooong text'\n",
    "print a"
   ]
  },
  {
   "cell_type": "code",
   "execution_count": 47,
   "metadata": {
    "collapsed": false
   },
   "outputs": [],
   "source": [
    "from bs4 import BeautifulSoup as bs\n",
    "dic = {u'機關代碼': '',  u'機關名稱':'', u'單位名稱':'', u'機關地址':'',\\\n",
    "       u'標案案號': '',  u'招標方式':'', u'標的分類':'',\\\n",
    "      }\n",
    "with open('gov/51835965.txt', 'r') as f:\n",
    "    soup = bs(f.read())\n",
    "    for tr in soup.select('tr'):\n",
    "        if len(tr.select('th')) > 0:\n",
    "            if tr.select('th')[0].text.strip() in dic:\n",
    "                dic[tr.select('th')[0].text.strip()]= tr.select('td')[0].text.strip()\n"
   ]
  },
  {
   "cell_type": "code",
   "execution_count": 48,
   "metadata": {
    "collapsed": false
   },
   "outputs": [
    {
     "name": "stdout",
     "output_type": "stream",
     "text": [
      "招標方式 公開取得報價單或企劃書\n",
      "單位名稱 流行音樂產業組\n",
      "標案案號 F105-020\n",
      "機關代碼 A.25.2\n",
      "標的分類 <勞務類>    \r\n",
      "                            866\r\n",
      "                            與管理顧問有關之服務\n",
      "機關地址 100臺北市中正區開封街一段3號\n",
      "機關名稱 文化部影視及流行音樂產業局\n"
     ]
    }
   ],
   "source": [
    "for ele in dic:\n",
    "    print ele, dic[ele]"
   ]
  },
  {
   "cell_type": "code",
   "execution_count": 49,
   "metadata": {
    "collapsed": false
   },
   "outputs": [
    {
     "name": "stdout",
     "output_type": "stream",
     "text": [
      "\t\t string \n",
      "\t\n",
      "'\\t\\t string \\n\\t'\n"
     ]
    }
   ],
   "source": [
    "a = '\\t\\t string \\n\\t' \n",
    "print a \n",
    "print repr(a)\n",
    "\n"
   ]
  },
  {
   "cell_type": "code",
   "execution_count": 50,
   "metadata": {
    "collapsed": false
   },
   "outputs": [
    {
     "name": "stdout",
     "output_type": "stream",
     "text": [
      "招標方式 u'\\u516c\\u958b\\u53d6\\u5f97\\u5831\\u50f9\\u55ae\\u6216\\u4f01\\u5283\\u66f8'\n",
      "單位名稱 u'\\u6d41\\u884c\\u97f3\\u6a02\\u7522\\u696d\\u7d44'\n",
      "標案案號 u'F105-020'\n",
      "機關代碼 u'A.25.2'\n",
      "標的分類 u'<\\u52de\\u52d9\\u985e>    \\r\\n                            866\\r\\n                            \\u8207\\u7ba1\\u7406\\u9867\\u554f\\u6709\\u95dc\\u4e4b\\u670d\\u52d9'\n",
      "機關地址 u'100\\u81fa\\u5317\\u5e02\\u4e2d\\u6b63\\u5340\\u958b\\u5c01\\u8857\\u4e00\\u6bb53\\u865f'\n",
      "機關名稱 u'\\u6587\\u5316\\u90e8\\u5f71\\u8996\\u53ca\\u6d41\\u884c\\u97f3\\u6a02\\u7522\\u696d\\u5c40'\n"
     ]
    }
   ],
   "source": [
    "for ele in dic:\n",
    "    print ele, repr(dic[ele])"
   ]
  },
  {
   "cell_type": "code",
   "execution_count": 54,
   "metadata": {
    "collapsed": false
   },
   "outputs": [
    {
     "name": "stdout",
     "output_type": "stream",
     "text": [
      "\t\t string \n",
      "\t string \t\t string\n",
      "['string', 'string', 'string']\n",
      "stringstringstring\n",
      "string!string!string\n"
     ]
    }
   ],
   "source": [
    "a = '\\t\\t string \\n\\t string \\t\\t string'\n",
    "print a\n",
    "print a.split()\n",
    "print ''.join(a.split())\n",
    "print '!'.join(a.split())"
   ]
  },
  {
   "cell_type": "code",
   "execution_count": 55,
   "metadata": {
    "collapsed": false
   },
   "outputs": [
    {
     "name": "stdout",
     "output_type": "stream",
     "text": [
      "招標方式 公開取得報價單或企劃書\n",
      "單位名稱 流行音樂產業組\n",
      "標案案號 F105-020\n",
      "機關代碼 A.25.2\n",
      "標的分類 <勞務類> 866 與管理顧問有關之服務\n",
      "機關地址 100臺北市中正區開封街一段3號\n",
      "機關名稱 文化部影視及流行音樂產業局\n"
     ]
    }
   ],
   "source": [
    "for ele in dic:\n",
    "    print ele, ' '.join(dic[ele].split())"
   ]
  },
  {
   "cell_type": "code",
   "execution_count": 56,
   "metadata": {
    "collapsed": true
   },
   "outputs": [],
   "source": [
    "from bs4 import BeautifulSoup as bs\n",
    "dic = {u'開標時間': ''\\\n",
    "      }\n",
    "with open('gov/51835965.txt', 'r') as f:\n",
    "    soup = bs(f.read())\n",
    "    for tr in soup.select('tr'):\n",
    "        if len(tr.select('th')) > 0:\n",
    "            if tr.select('th')[0].text.strip() in dic:\n",
    "                dic[tr.select('th')[0].text.strip()]= tr.select('td')[0].text.strip()\n"
   ]
  },
  {
   "cell_type": "code",
   "execution_count": 58,
   "metadata": {
    "collapsed": false
   },
   "outputs": [
    {
     "name": "stdout",
     "output_type": "stream",
     "text": [
      "開標時間 105/03/16 10:00 <type 'unicode'>\n"
     ]
    }
   ],
   "source": [
    "for ele in dic:\n",
    "    print ele, dic[ele], type(dic[ele])"
   ]
  },
  {
   "cell_type": "code",
   "execution_count": 62,
   "metadata": {
    "collapsed": false
   },
   "outputs": [
    {
     "name": "stdout",
     "output_type": "stream",
     "text": [
      "2016-05-12 10:34:47.198000\n",
      "<type 'datetime.datetime'>\n",
      "2016/05/12\n",
      "2016/05/12 10:34\n"
     ]
    }
   ],
   "source": [
    "from datetime import datetime\n",
    "print datetime.now()\n",
    "print type(datetime.now())\n",
    "print datetime.now().strftime('%Y/%m/%d')\n",
    "print datetime.now().strftime('%Y/%m/%d %H:%M')"
   ]
  },
  {
   "cell_type": "code",
   "execution_count": 63,
   "metadata": {
    "collapsed": false
   },
   "outputs": [
    {
     "name": "stdout",
     "output_type": "stream",
     "text": [
      "2016-05-12 00:00:00\n"
     ]
    }
   ],
   "source": [
    "print datetime.strptime('2016/05/12','%Y/%m/%d' )"
   ]
  },
  {
   "cell_type": "code",
   "execution_count": 73,
   "metadata": {
    "collapsed": false
   },
   "outputs": [
    {
     "name": "stdout",
     "output_type": "stream",
     "text": [
      "2016-05-12 10:40:04.587000\n",
      "2016-05-11 10:40:04.588000\n",
      "2016-05-11\n",
      "2016-05-10\n",
      "2016-05-09\n",
      "2016-05-08\n",
      "2016-05-07\n",
      "2016-05-06\n",
      "2016-05-05\n",
      "2016-05-04\n",
      "2016-05-03\n",
      "5788 days, 10:40:04.589000\n",
      "5788\n",
      "84 days, 13:19:55.411000\n",
      "84\n"
     ]
    }
   ],
   "source": [
    "from datetime import timedelta\n",
    "print datetime.now()\n",
    "print datetime.now() - timedelta(days = 1)\n",
    "\n",
    "\n",
    "for i in range(1,10):\n",
    "    #print datetime.now() - timedelta(days = i),\n",
    "    print (datetime.now() - timedelta(days = i)).strftime('%Y-%m-%d')\n",
    "    \n",
    "    \n",
    "print datetime.now() - datetime.strptime('2000/07/7','%Y/%m/%d' ) \n",
    "print (datetime.now() - datetime.strptime('2000/07/7','%Y/%m/%d' )).days\n",
    "\n",
    "print  datetime.strptime('2016/08/5','%Y/%m/%d' ) - datetime.now() \n",
    "print  (datetime.strptime('2016/08/5','%Y/%m/%d' ) - datetime.now()).days "
   ]
  },
  {
   "cell_type": "code",
   "execution_count": 76,
   "metadata": {
    "collapsed": false
   },
   "outputs": [
    {
     "name": "stdout",
     "output_type": "stream",
     "text": [
      "['123', '456', '789', 'qoo', 'oop', 'ooo']\n",
      "['123', '456@789@qoo@oop@ooo']\n",
      "['123', '456', '789@qoo@oop@ooo']\n"
     ]
    }
   ],
   "source": [
    "a = '123@456@789@qoo@oop@ooo'\n",
    "print a.split('@')\n",
    "print a.split('@', 1)\n",
    "print a.split('@', 2)"
   ]
  },
  {
   "cell_type": "code",
   "execution_count": 80,
   "metadata": {
    "collapsed": false
   },
   "outputs": [
    {
     "name": "stdout",
     "output_type": "stream",
     "text": [
      "['102', '12/10 10:30']\n",
      "102\n",
      "<type 'str'>\n",
      "2013\n",
      "2013\n"
     ]
    }
   ],
   "source": [
    "response_date = '102/12/10 10:30' \n",
    "getyear = response_date.split('/', 1) \n",
    "print getyear\n",
    "print getyear[0]\n",
    "print type(getyear[0])\n",
    "print int(getyear[0]) + 1911\n",
    "print str(int(getyear[0]) + 1911)"
   ]
  },
  {
   "cell_type": "code",
   "execution_count": 82,
   "metadata": {
    "collapsed": false
   },
   "outputs": [
    {
     "name": "stdout",
     "output_type": "stream",
     "text": [
      "2013/12/10 10:30\n"
     ]
    }
   ],
   "source": [
    "print str(int(getyear[0]) + 1911) + '/' +getyear[1]"
   ]
  },
  {
   "cell_type": "code",
   "execution_count": 92,
   "metadata": {
    "collapsed": true
   },
   "outputs": [],
   "source": [
    "def date_conversion(element):\n",
    "    getyear = element.split('/', 1) \n",
    "    return  datetime.strptime(str(int(getyear[0]) + 1911) + '/' +getyear[1], '%Y/%m/%d %H:%M')"
   ]
  },
  {
   "cell_type": "code",
   "execution_count": 93,
   "metadata": {
    "collapsed": false
   },
   "outputs": [
    {
     "name": "stdout",
     "output_type": "stream",
     "text": [
      "2013-12-10 10:30:00\n"
     ]
    }
   ],
   "source": [
    "print date_conversion('102/12/10 10:30')"
   ]
  },
  {
   "cell_type": "code",
   "execution_count": 94,
   "metadata": {
    "collapsed": true
   },
   "outputs": [],
   "source": [
    "from bs4 import BeautifulSoup as bs\n",
    "dic = {u'開標時間': ''\\\n",
    "      }\n",
    "with open('gov/51835965.txt', 'r') as f:\n",
    "    soup = bs(f.read())\n",
    "    for tr in soup.select('tr'):\n",
    "        if len(tr.select('th')) > 0:\n",
    "            if tr.select('th')[0].text.strip() in dic:\n",
    "                dic[tr.select('th')[0].text.strip()]= tr.select('td')[0].text.strip()\n"
   ]
  },
  {
   "cell_type": "code",
   "execution_count": 95,
   "metadata": {
    "collapsed": false
   },
   "outputs": [
    {
     "name": "stdout",
     "output_type": "stream",
     "text": [
      "開標時間 105/03/16 10:00 <type 'unicode'>\n",
      "105/03/16 10:00\n",
      "2016-03-16 10:00:00\n"
     ]
    }
   ],
   "source": [
    "for ele in dic:\n",
    "    print ele, dic[ele], type(dic[ele])\n",
    "print dic[u'開標時間']\n",
    "print date_conversion(dic[u'開標時間'])"
   ]
  },
  {
   "cell_type": "code",
   "execution_count": null,
   "metadata": {
    "collapsed": true
   },
   "outputs": [],
   "source": []
  }
 ],
 "metadata": {
  "kernelspec": {
   "display_name": "Python 2",
   "language": "python",
   "name": "python2"
  },
  "language_info": {
   "codemirror_mode": {
    "name": "ipython",
    "version": 2
   },
   "file_extension": ".py",
   "mimetype": "text/x-python",
   "name": "python",
   "nbconvert_exporter": "python",
   "pygments_lexer": "ipython2",
   "version": "2.7.11"
  }
 },
 "nbformat": 4,
 "nbformat_minor": 0
}
