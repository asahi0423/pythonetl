{
 "cells": [
  {
   "cell_type": "code",
   "execution_count": 2,
   "metadata": {
    "collapsed": false
   },
   "outputs": [],
   "source": [
    "with open('gov/51835965.txt', 'r') as f:\n",
    "    #print f.read()\n",
    "    pass"
   ]
  },
  {
   "cell_type": "code",
   "execution_count": 7,
   "metadata": {
    "collapsed": false
   },
   "outputs": [
    {
     "name": "stdout",
     "output_type": "stream",
     "text": [
      "3 0\n"
     ]
    }
   ],
   "source": [
    "a = [1,2,3]\n",
    "b = []\n",
    "print len(a), len(b)"
   ]
  },
  {
   "cell_type": "code",
   "execution_count": 15,
   "metadata": {
    "collapsed": false
   },
   "outputs": [
    {
     "name": "stdout",
     "output_type": "stream",
     "text": [
      "aaa\n",
      "aaa          \n",
      "         aaa\n",
      "12345\n",
      "abcabc\n"
     ]
    }
   ],
   "source": [
    "a= '         aaa          '\n",
    "print a.strip()\n",
    "print a.lstrip()\n",
    "print a.rstrip()\n",
    "\n",
    "b = '!12345!'\n",
    "print b.strip('!')\n",
    "\n",
    "c = 'hihiabcabc'\n",
    "print c.strip('hi')"
   ]
  },
  {
   "cell_type": "code",
   "execution_count": 38,
   "metadata": {
    "collapsed": false
   },
   "outputs": [
    {
     "name": "stdout",
     "output_type": "stream",
     "text": [
      "<type 'unicode'> <type 'str'>\n",
      "False\n",
      "True\n",
      "<type 'str'>\n",
      "True\n",
      "True\n"
     ]
    },
    {
     "name": "stderr",
     "output_type": "stream",
     "text": [
      "C:\\Anaconda2\\lib\\site-packages\\ipykernel\\__main__.py:4: UnicodeWarning: Unicode equal comparison failed to convert both arguments to Unicode - interpreting them as being unequal\n"
     ]
    }
   ],
   "source": [
    "a = u'機關'\n",
    "b = '機關'\n",
    "print type(a), type(b)\n",
    "print a ==b\n",
    "print a.encode('utf-8') == b\n",
    "print type(a.encode('utf-8'))\n",
    "print a == u'機關'\n",
    "print a == b.decode('utf-8')"
   ]
  },
  {
   "cell_type": "code",
   "execution_count": 29,
   "metadata": {
    "collapsed": false,
    "scrolled": false
   },
   "outputs": [
    {
     "name": "stdout",
     "output_type": "stream",
     "text": [
      "==================\n",
      "==================\n",
      "==================\n",
      "==================\n",
      "[<td bgcolor=\"#EFF1F1\" class=\"newstop\" height=\"25\">\\n     A.25.2\\n    </td>]\n",
      "-------------------\n",
      "<td bgcolor=\"#EFF1F1\" class=\"newstop\" height=\"25\">\n",
      "     A.25.2\n",
      "    </td>\n",
      "-------------------\n",
      "\n",
      "     A.25.2\n",
      "    \n",
      "-------------------\n",
      "A.25.2\n",
      "==================\n",
      "==================\n",
      "==================\n",
      "==================\n",
      "==================\n",
      "==================\n",
      "==================\n",
      "==================\n",
      "==================\n",
      "==================\n",
      "==================\n",
      "==================\n",
      "==================\n",
      "==================\n",
      "==================\n",
      "==================\n",
      "==================\n",
      "==================\n",
      "==================\n",
      "==================\n",
      "==================\n",
      "==================\n",
      "==================\n",
      "==================\n",
      "==================\n",
      "==================\n",
      "==================\n",
      "==================\n",
      "==================\n",
      "==================\n",
      "==================\n",
      "==================\n",
      "==================\n",
      "==================\n",
      "==================\n",
      "==================\n",
      "==================\n",
      "==================\n",
      "==================\n",
      "==================\n",
      "==================\n",
      "==================\n",
      "==================\n",
      "==================\n",
      "==================\n",
      "==================\n",
      "==================\n",
      "==================\n",
      "==================\n",
      "==================\n",
      "==================\n",
      "==================\n",
      "==================\n",
      "==================\n",
      "==================\n",
      "==================\n",
      "==================\n",
      "==================\n",
      "==================\n",
      "==================\n",
      "==================\n",
      "==================\n",
      "==================\n",
      "==================\n",
      "==================\n",
      "==================\n",
      "==================\n",
      "==================\n",
      "==================\n",
      "==================\n",
      "==================\n",
      "==================\n",
      "==================\n",
      "==================\n",
      "==================\n",
      "==================\n",
      "==================\n",
      "==================\n",
      "==================\n",
      "==================\n"
     ]
    }
   ],
   "source": [
    "from bs4 import BeautifulSoup as bs\n",
    "with open('gov/51835965.txt', 'r') as f:\n",
    "    soup = bs(f.read())\n",
    "    #print soup.select('tr')\n",
    "    for tr in soup.select('tr'):\n",
    "        print '=================='\n",
    "        #print tr.select('th')\n",
    "        if len(tr.select('th')) > 0:\n",
    "            #print tr.select('th')[0].text\n",
    "            #print tr.select('th')[0].text.strip()\n",
    "            if tr.select('th')[0].text.strip() == u'機關代碼':\n",
    "                print tr.select('td')\n",
    "                print '-------------------'\n",
    "                print tr.select('td')[0]\n",
    "                print '-------------------'\n",
    "                print tr.select('td')[0].text\n",
    "                print '-------------------'\n",
    "                print tr.select('td')[0].text.strip()\n",
    "        \n",
    "   "
   ]
  },
  {
   "cell_type": "code",
   "execution_count": 31,
   "metadata": {
    "collapsed": false
   },
   "outputs": [
    {
     "name": "stdout",
     "output_type": "stream",
     "text": [
      "A.25.2\n",
      "文化部影視及流行音樂產業局\n"
     ]
    }
   ],
   "source": [
    "from bs4 import BeautifulSoup as bs\n",
    "with open('gov/51835965.txt', 'r') as f:\n",
    "    soup = bs(f.read())\n",
    "    for tr in soup.select('tr'):\n",
    "        if len(tr.select('th')) > 0:\n",
    "            if tr.select('th')[0].text.strip() == u'機關代碼':\n",
    "                print tr.select('td')[0].text.strip()\n",
    "            if tr.select('th')[0].text.strip() == u'機關名稱':\n",
    "                print tr.select('td')[0].text.strip()\n",
    "        \n",
    "   "
   ]
  },
  {
   "cell_type": "code",
   "execution_count": 33,
   "metadata": {
    "collapsed": false
   },
   "outputs": [
    {
     "name": "stdout",
     "output_type": "stream",
     "text": [
      "True\n",
      "False\n"
     ]
    }
   ],
   "source": [
    "dic = {'a':1, 'b':2, 'd':100}\n",
    "print 'a' in dic\n",
    "print 'c' in dic"
   ]
  },
  {
   "cell_type": "code",
   "execution_count": 39,
   "metadata": {
    "collapsed": false
   },
   "outputs": [
    {
     "name": "stdout",
     "output_type": "stream",
     "text": [
      "機關代碼 A.25.2\n",
      "機關名稱 文化部影視及流行音樂產業局\n",
      "單位名稱 流行音樂產業組\n",
      "機關地址 100臺北市中正區開封街一段3號\n"
     ]
    }
   ],
   "source": [
    "from bs4 import BeautifulSoup as bs\n",
    "dic = {u'機關代碼': '',  u'機關名稱':'', u'單位名稱':'', u'機關地址':''}\n",
    "with open('gov/51835965.txt', 'r') as f:\n",
    "    soup = bs(f.read())\n",
    "    for tr in soup.select('tr'):\n",
    "        if len(tr.select('th')) > 0:\n",
    "            if tr.select('th')[0].text.strip() in dic:\n",
    "                #print tr.select('td')[0].text.strip()\n",
    "                print tr.select('th')[0].text.strip(), tr.select('td')[0].text.strip()"
   ]
  },
  {
   "cell_type": "code",
   "execution_count": null,
   "metadata": {
    "collapsed": true
   },
   "outputs": [],
   "source": []
  }
 ],
 "metadata": {
  "kernelspec": {
   "display_name": "Python 2",
   "language": "python",
   "name": "python2"
  },
  "language_info": {
   "codemirror_mode": {
    "name": "ipython",
    "version": 2
   },
   "file_extension": ".py",
   "mimetype": "text/x-python",
   "name": "python",
   "nbconvert_exporter": "python",
   "pygments_lexer": "ipython2",
   "version": "2.7.11"
  }
 },
 "nbformat": 4,
 "nbformat_minor": 0
}
