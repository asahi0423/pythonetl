{
 "cells": [
  {
   "cell_type": "code",
   "execution_count": 2,
   "metadata": {
    "collapsed": false
   },
   "outputs": [],
   "source": [
    "with open('gov/51835965.txt', 'r') as f:\n",
    "    #print f.read()\n",
    "    pass"
   ]
  },
  {
   "cell_type": "code",
   "execution_count": 7,
   "metadata": {
    "collapsed": false
   },
   "outputs": [
    {
     "name": "stdout",
     "output_type": "stream",
     "text": [
      "3 0\n"
     ]
    }
   ],
   "source": [
    "a = [1,2,3]\n",
    "b = []\n",
    "print len(a), len(b)"
   ]
  },
  {
   "cell_type": "code",
   "execution_count": 15,
   "metadata": {
    "collapsed": false
   },
   "outputs": [
    {
     "name": "stdout",
     "output_type": "stream",
     "text": [
      "aaa\n",
      "aaa          \n",
      "         aaa\n",
      "12345\n",
      "abcabc\n"
     ]
    }
   ],
   "source": [
    "a= '         aaa          '\n",
    "print a.strip()\n",
    "print a.lstrip()\n",
    "print a.rstrip()\n",
    "\n",
    "b = '!12345!'\n",
    "print b.strip('!')\n",
    "\n",
    "c = 'hihiabcabc'\n",
    "print c.strip('hi')"
   ]
  },
  {
   "cell_type": "code",
   "execution_count": 38,
   "metadata": {
    "collapsed": false
   },
   "outputs": [
    {
     "name": "stdout",
     "output_type": "stream",
     "text": [
      "<type 'unicode'> <type 'str'>\n",
      "False\n",
      "True\n",
      "<type 'str'>\n",
      "True\n",
      "True\n"
     ]
    },
    {
     "name": "stderr",
     "output_type": "stream",
     "text": [
      "C:\\Anaconda2\\lib\\site-packages\\ipykernel\\__main__.py:4: UnicodeWarning: Unicode equal comparison failed to convert both arguments to Unicode - interpreting them as being unequal\n"
     ]
    }
   ],
   "source": [
    "a = u'機關'\n",
    "b = '機關'\n",
    "print type(a), type(b)\n",
    "print a ==b\n",
    "print a.encode('utf-8') == b\n",
    "print type(a.encode('utf-8'))\n",
    "print a == u'機關'\n",
    "print a == b.decode('utf-8')"
   ]
  },
  {
   "cell_type": "code",
   "execution_count": 29,
   "metadata": {
    "collapsed": false,
    "scrolled": false
   },
   "outputs": [
    {
     "name": "stdout",
     "output_type": "stream",
     "text": [
      "==================\n",
      "==================\n",
      "==================\n",
      "==================\n",
      "[<td bgcolor=\"#EFF1F1\" class=\"newstop\" height=\"25\">\\n     A.25.2\\n    </td>]\n",
      "-------------------\n",
      "<td bgcolor=\"#EFF1F1\" class=\"newstop\" height=\"25\">\n",
      "     A.25.2\n",
      "    </td>\n",
      "-------------------\n",
      "\n",
      "     A.25.2\n",
      "    \n",
      "-------------------\n",
      "A.25.2\n",
      "==================\n",
      "==================\n",
      "==================\n",
      "==================\n",
      "==================\n",
      "==================\n",
      "==================\n",
      "==================\n",
      "==================\n",
      "==================\n",
      "==================\n",
      "==================\n",
      "==================\n",
      "==================\n",
      "==================\n",
      "==================\n",
      "==================\n",
      "==================\n",
      "==================\n",
      "==================\n",
      "==================\n",
      "==================\n",
      "==================\n",
      "==================\n",
      "==================\n",
      "==================\n",
      "==================\n",
      "==================\n",
      "==================\n",
      "==================\n",
      "==================\n",
      "==================\n",
      "==================\n",
      "==================\n",
      "==================\n",
      "==================\n",
      "==================\n",
      "==================\n",
      "==================\n",
      "==================\n",
      "==================\n",
      "==================\n",
      "==================\n",
      "==================\n",
      "==================\n",
      "==================\n",
      "==================\n",
      "==================\n",
      "==================\n",
      "==================\n",
      "==================\n",
      "==================\n",
      "==================\n",
      "==================\n",
      "==================\n",
      "==================\n",
      "==================\n",
      "==================\n",
      "==================\n",
      "==================\n",
      "==================\n",
      "==================\n",
      "==================\n",
      "==================\n",
      "==================\n",
      "==================\n",
      "==================\n",
      "==================\n",
      "==================\n",
      "==================\n",
      "==================\n",
      "==================\n",
      "==================\n",
      "==================\n",
      "==================\n",
      "==================\n",
      "==================\n",
      "==================\n",
      "==================\n",
      "==================\n"
     ]
    }
   ],
   "source": [
    "from bs4 import BeautifulSoup as bs\n",
    "with open('gov/51835965.txt', 'r') as f:\n",
    "    soup = bs(f.read())\n",
    "    #print soup.select('tr')\n",
    "    for tr in soup.select('tr'):\n",
    "        print '=================='\n",
    "        #print tr.select('th')\n",
    "        if len(tr.select('th')) > 0:\n",
    "            #print tr.select('th')[0].text\n",
    "            #print tr.select('th')[0].text.strip()\n",
    "            if tr.select('th')[0].text.strip() == u'機關代碼':\n",
    "                print tr.select('td')\n",
    "                print '-------------------'\n",
    "                print tr.select('td')[0]\n",
    "                print '-------------------'\n",
    "                print tr.select('td')[0].text\n",
    "                print '-------------------'\n",
    "                print tr.select('td')[0].text.strip()\n",
    "        \n",
    "   "
   ]
  },
  {
   "cell_type": "code",
   "execution_count": 31,
   "metadata": {
    "collapsed": false
   },
   "outputs": [
    {
     "name": "stdout",
     "output_type": "stream",
     "text": [
      "A.25.2\n",
      "文化部影視及流行音樂產業局\n"
     ]
    }
   ],
   "source": [
    "from bs4 import BeautifulSoup as bs\n",
    "with open('gov/51835965.txt', 'r') as f:\n",
    "    soup = bs(f.read())\n",
    "    for tr in soup.select('tr'):\n",
    "        if len(tr.select('th')) > 0:\n",
    "            if tr.select('th')[0].text.strip() == u'機關代碼':\n",
    "                print tr.select('td')[0].text.strip()\n",
    "            if tr.select('th')[0].text.strip() == u'機關名稱':\n",
    "                print tr.select('td')[0].text.strip()\n",
    "        \n",
    "   "
   ]
  },
  {
   "cell_type": "code",
   "execution_count": 33,
   "metadata": {
    "collapsed": false
   },
   "outputs": [
    {
     "name": "stdout",
     "output_type": "stream",
     "text": [
      "True\n",
      "False\n"
     ]
    }
   ],
   "source": [
    "dic = {'a':1, 'b':2, 'd':100}\n",
    "print 'a' in dic\n",
    "print 'c' in dic"
   ]
  },
  {
   "cell_type": "code",
   "execution_count": 39,
   "metadata": {
    "collapsed": false
   },
   "outputs": [
    {
     "name": "stdout",
     "output_type": "stream",
     "text": [
      "機關代碼 A.25.2\n",
      "機關名稱 文化部影視及流行音樂產業局\n",
      "單位名稱 流行音樂產業組\n",
      "機關地址 100臺北市中正區開封街一段3號\n"
     ]
    }
   ],
   "source": [
    "from bs4 import BeautifulSoup as bs\n",
    "dic = {u'機關代碼': '',  u'機關名稱':'', u'單位名稱':'', u'機關地址':''}\n",
    "with open('gov/51835965.txt', 'r') as f:\n",
    "    soup = bs(f.read())\n",
    "    for tr in soup.select('tr'):\n",
    "        if len(tr.select('th')) > 0:\n",
    "            if tr.select('th')[0].text.strip() in dic:\n",
    "                #print tr.select('td')[0].text.strip()\n",
    "                print tr.select('th')[0].text.strip(), tr.select('td')[0].text.strip()"
   ]
  },
  {
   "cell_type": "code",
   "execution_count": 40,
   "metadata": {
    "collapsed": true
   },
   "outputs": [],
   "source": [
    "from bs4 import BeautifulSoup as bs\n",
    "dic = {u'機關代碼': '',  u'機關名稱':'', u'單位名稱':'', u'機關地址':''}\n",
    "with open('gov/51835965.txt', 'r') as f:\n",
    "    soup = bs(f.read())\n",
    "    for tr in soup.select('tr'):\n",
    "        if len(tr.select('th')) > 0:\n",
    "            if tr.select('th')[0].text.strip() in dic:\n",
    "                #print tr.select('td')[0].text.strip()\n",
    "                dic[tr.select('th')[0].text.strip()]= tr.select('td')[0].text.strip()\n"
   ]
  },
  {
   "cell_type": "code",
   "execution_count": 41,
   "metadata": {
    "collapsed": false
   },
   "outputs": [
    {
     "name": "stdout",
     "output_type": "stream",
     "text": [
      "{u'\\u6a5f\\u95dc\\u4ee3\\u78bc': u'A.25.2', u'\\u6a5f\\u95dc\\u5730\\u5740': u'100\\u81fa\\u5317\\u5e02\\u4e2d\\u6b63\\u5340\\u958b\\u5c01\\u8857\\u4e00\\u6bb53\\u865f', u'\\u55ae\\u4f4d\\u540d\\u7a31': u'\\u6d41\\u884c\\u97f3\\u6a02\\u7522\\u696d\\u7d44', u'\\u6a5f\\u95dc\\u540d\\u7a31': u'\\u6587\\u5316\\u90e8\\u5f71\\u8996\\u53ca\\u6d41\\u884c\\u97f3\\u6a02\\u7522\\u696d\\u5c40'}\n"
     ]
    }
   ],
   "source": [
    "print dic"
   ]
  },
  {
   "cell_type": "code",
   "execution_count": 43,
   "metadata": {
    "collapsed": false
   },
   "outputs": [
    {
     "name": "stdout",
     "output_type": "stream",
     "text": [
      "機關代碼 A.25.2\n",
      "機關地址 100臺北市中正區開封街一段3號\n",
      "單位名稱 流行音樂產業組\n",
      "機關名稱 文化部影視及流行音樂產業局\n"
     ]
    }
   ],
   "source": [
    "for ele in dic:\n",
    "    print ele, dic[ele]"
   ]
  },
  {
   "cell_type": "code",
   "execution_count": 45,
   "metadata": {
    "collapsed": false
   },
   "outputs": [
    {
     "name": "stdout",
     "output_type": "stream",
     "text": [
      "this is a loooooooooooooooooooooooooooooooooooooooooooooooooong text\n"
     ]
    }
   ],
   "source": [
    "a = 'this is a loooooooooooooooooooooooooooooooooooooo\\\n",
    "oooooooooooong text'\n",
    "print a"
   ]
  },
  {
   "cell_type": "code",
   "execution_count": 47,
   "metadata": {
    "collapsed": false
   },
   "outputs": [],
   "source": [
    "from bs4 import BeautifulSoup as bs\n",
    "dic = {u'機關代碼': '',  u'機關名稱':'', u'單位名稱':'', u'機關地址':'',\\\n",
    "       u'標案案號': '',  u'招標方式':'', u'標的分類':'',\\\n",
    "      }\n",
    "with open('gov/51835965.txt', 'r') as f:\n",
    "    soup = bs(f.read())\n",
    "    for tr in soup.select('tr'):\n",
    "        if len(tr.select('th')) > 0:\n",
    "            if tr.select('th')[0].text.strip() in dic:\n",
    "                dic[tr.select('th')[0].text.strip()]= tr.select('td')[0].text.strip()\n"
   ]
  },
  {
   "cell_type": "code",
   "execution_count": 48,
   "metadata": {
    "collapsed": false
   },
   "outputs": [
    {
     "name": "stdout",
     "output_type": "stream",
     "text": [
      "招標方式 公開取得報價單或企劃書\n",
      "單位名稱 流行音樂產業組\n",
      "標案案號 F105-020\n",
      "機關代碼 A.25.2\n",
      "標的分類 <勞務類>    \r\n",
      "                            866\r\n",
      "                            與管理顧問有關之服務\n",
      "機關地址 100臺北市中正區開封街一段3號\n",
      "機關名稱 文化部影視及流行音樂產業局\n"
     ]
    }
   ],
   "source": [
    "for ele in dic:\n",
    "    print ele, dic[ele]"
   ]
  },
  {
   "cell_type": "code",
   "execution_count": 49,
   "metadata": {
    "collapsed": false
   },
   "outputs": [
    {
     "name": "stdout",
     "output_type": "stream",
     "text": [
      "\t\t string \n",
      "\t\n",
      "'\\t\\t string \\n\\t'\n"
     ]
    }
   ],
   "source": [
    "a = '\\t\\t string \\n\\t' \n",
    "print a \n",
    "print repr(a)\n",
    "\n"
   ]
  },
  {
   "cell_type": "code",
   "execution_count": 50,
   "metadata": {
    "collapsed": false
   },
   "outputs": [
    {
     "name": "stdout",
     "output_type": "stream",
     "text": [
      "招標方式 u'\\u516c\\u958b\\u53d6\\u5f97\\u5831\\u50f9\\u55ae\\u6216\\u4f01\\u5283\\u66f8'\n",
      "單位名稱 u'\\u6d41\\u884c\\u97f3\\u6a02\\u7522\\u696d\\u7d44'\n",
      "標案案號 u'F105-020'\n",
      "機關代碼 u'A.25.2'\n",
      "標的分類 u'<\\u52de\\u52d9\\u985e>    \\r\\n                            866\\r\\n                            \\u8207\\u7ba1\\u7406\\u9867\\u554f\\u6709\\u95dc\\u4e4b\\u670d\\u52d9'\n",
      "機關地址 u'100\\u81fa\\u5317\\u5e02\\u4e2d\\u6b63\\u5340\\u958b\\u5c01\\u8857\\u4e00\\u6bb53\\u865f'\n",
      "機關名稱 u'\\u6587\\u5316\\u90e8\\u5f71\\u8996\\u53ca\\u6d41\\u884c\\u97f3\\u6a02\\u7522\\u696d\\u5c40'\n"
     ]
    }
   ],
   "source": [
    "for ele in dic:\n",
    "    print ele, repr(dic[ele])"
   ]
  },
  {
   "cell_type": "code",
   "execution_count": 54,
   "metadata": {
    "collapsed": false
   },
   "outputs": [
    {
     "name": "stdout",
     "output_type": "stream",
     "text": [
      "\t\t string \n",
      "\t string \t\t string\n",
      "['string', 'string', 'string']\n",
      "stringstringstring\n",
      "string!string!string\n"
     ]
    }
   ],
   "source": [
    "a = '\\t\\t string \\n\\t string \\t\\t string'\n",
    "print a\n",
    "print a.split()\n",
    "print ''.join(a.split())\n",
    "print '!'.join(a.split())"
   ]
  },
  {
   "cell_type": "code",
   "execution_count": 55,
   "metadata": {
    "collapsed": false
   },
   "outputs": [
    {
     "name": "stdout",
     "output_type": "stream",
     "text": [
      "招標方式 公開取得報價單或企劃書\n",
      "單位名稱 流行音樂產業組\n",
      "標案案號 F105-020\n",
      "機關代碼 A.25.2\n",
      "標的分類 <勞務類> 866 與管理顧問有關之服務\n",
      "機關地址 100臺北市中正區開封街一段3號\n",
      "機關名稱 文化部影視及流行音樂產業局\n"
     ]
    }
   ],
   "source": [
    "for ele in dic:\n",
    "    print ele, ' '.join(dic[ele].split())"
   ]
  },
  {
   "cell_type": "code",
   "execution_count": 56,
   "metadata": {
    "collapsed": true
   },
   "outputs": [],
   "source": [
    "from bs4 import BeautifulSoup as bs\n",
    "dic = {u'開標時間': ''\\\n",
    "      }\n",
    "with open('gov/51835965.txt', 'r') as f:\n",
    "    soup = bs(f.read())\n",
    "    for tr in soup.select('tr'):\n",
    "        if len(tr.select('th')) > 0:\n",
    "            if tr.select('th')[0].text.strip() in dic:\n",
    "                dic[tr.select('th')[0].text.strip()]= tr.select('td')[0].text.strip()\n"
   ]
  },
  {
   "cell_type": "code",
   "execution_count": 58,
   "metadata": {
    "collapsed": false
   },
   "outputs": [
    {
     "name": "stdout",
     "output_type": "stream",
     "text": [
      "開標時間 105/03/16 10:00 <type 'unicode'>\n"
     ]
    }
   ],
   "source": [
    "for ele in dic:\n",
    "    print ele, dic[ele], type(dic[ele])"
   ]
  },
  {
   "cell_type": "code",
   "execution_count": 62,
   "metadata": {
    "collapsed": false
   },
   "outputs": [
    {
     "name": "stdout",
     "output_type": "stream",
     "text": [
      "2016-05-12 10:34:47.198000\n",
      "<type 'datetime.datetime'>\n",
      "2016/05/12\n",
      "2016/05/12 10:34\n"
     ]
    }
   ],
   "source": [
    "from datetime import datetime\n",
    "print datetime.now()\n",
    "print type(datetime.now())\n",
    "print datetime.now().strftime('%Y/%m/%d')\n",
    "print datetime.now().strftime('%Y/%m/%d %H:%M')"
   ]
  },
  {
   "cell_type": "code",
   "execution_count": 63,
   "metadata": {
    "collapsed": false
   },
   "outputs": [
    {
     "name": "stdout",
     "output_type": "stream",
     "text": [
      "2016-05-12 00:00:00\n"
     ]
    }
   ],
   "source": [
    "print datetime.strptime('2016/05/12','%Y/%m/%d' )"
   ]
  },
  {
   "cell_type": "code",
   "execution_count": 73,
   "metadata": {
    "collapsed": false
   },
   "outputs": [
    {
     "name": "stdout",
     "output_type": "stream",
     "text": [
      "2016-05-12 10:40:04.587000\n",
      "2016-05-11 10:40:04.588000\n",
      "2016-05-11\n",
      "2016-05-10\n",
      "2016-05-09\n",
      "2016-05-08\n",
      "2016-05-07\n",
      "2016-05-06\n",
      "2016-05-05\n",
      "2016-05-04\n",
      "2016-05-03\n",
      "5788 days, 10:40:04.589000\n",
      "5788\n",
      "84 days, 13:19:55.411000\n",
      "84\n"
     ]
    }
   ],
   "source": [
    "from datetime import timedelta\n",
    "print datetime.now()\n",
    "print datetime.now() - timedelta(days = 1)\n",
    "\n",
    "\n",
    "for i in range(1,10):\n",
    "    #print datetime.now() - timedelta(days = i),\n",
    "    print (datetime.now() - timedelta(days = i)).strftime('%Y-%m-%d')\n",
    "    \n",
    "    \n",
    "print datetime.now() - datetime.strptime('2000/07/7','%Y/%m/%d' ) \n",
    "print (datetime.now() - datetime.strptime('2000/07/7','%Y/%m/%d' )).days\n",
    "\n",
    "print  datetime.strptime('2016/08/5','%Y/%m/%d' ) - datetime.now() \n",
    "print  (datetime.strptime('2016/08/5','%Y/%m/%d' ) - datetime.now()).days "
   ]
  },
  {
   "cell_type": "code",
   "execution_count": 76,
   "metadata": {
    "collapsed": false
   },
   "outputs": [
    {
     "name": "stdout",
     "output_type": "stream",
     "text": [
      "['123', '456', '789', 'qoo', 'oop', 'ooo']\n",
      "['123', '456@789@qoo@oop@ooo']\n",
      "['123', '456', '789@qoo@oop@ooo']\n"
     ]
    }
   ],
   "source": [
    "a = '123@456@789@qoo@oop@ooo'\n",
    "print a.split('@')\n",
    "print a.split('@', 1)\n",
    "print a.split('@', 2)"
   ]
  },
  {
   "cell_type": "code",
   "execution_count": 80,
   "metadata": {
    "collapsed": false
   },
   "outputs": [
    {
     "name": "stdout",
     "output_type": "stream",
     "text": [
      "['102', '12/10 10:30']\n",
      "102\n",
      "<type 'str'>\n",
      "2013\n",
      "2013\n"
     ]
    }
   ],
   "source": [
    "response_date = '102/12/10 10:30' \n",
    "getyear = response_date.split('/', 1) \n",
    "print getyear\n",
    "print getyear[0]\n",
    "print type(getyear[0])\n",
    "print int(getyear[0]) + 1911\n",
    "print str(int(getyear[0]) + 1911)"
   ]
  },
  {
   "cell_type": "code",
   "execution_count": 82,
   "metadata": {
    "collapsed": false
   },
   "outputs": [
    {
     "name": "stdout",
     "output_type": "stream",
     "text": [
      "2013/12/10 10:30\n"
     ]
    }
   ],
   "source": [
    "print str(int(getyear[0]) + 1911) + '/' +getyear[1]"
   ]
  },
  {
   "cell_type": "code",
   "execution_count": 92,
   "metadata": {
    "collapsed": true
   },
   "outputs": [],
   "source": [
    "def date_conversion(element):\n",
    "    getyear = element.split('/', 1) \n",
    "    return  datetime.strptime(str(int(getyear[0]) + 1911) + '/' +getyear[1], '%Y/%m/%d %H:%M')"
   ]
  },
  {
   "cell_type": "code",
   "execution_count": 93,
   "metadata": {
    "collapsed": false
   },
   "outputs": [
    {
     "name": "stdout",
     "output_type": "stream",
     "text": [
      "2013-12-10 10:30:00\n"
     ]
    }
   ],
   "source": [
    "print date_conversion('102/12/10 10:30')"
   ]
  },
  {
   "cell_type": "code",
   "execution_count": 94,
   "metadata": {
    "collapsed": true
   },
   "outputs": [],
   "source": [
    "from bs4 import BeautifulSoup as bs\n",
    "dic = {u'開標時間': ''\\\n",
    "      }\n",
    "with open('gov/51835965.txt', 'r') as f:\n",
    "    soup = bs(f.read())\n",
    "    for tr in soup.select('tr'):\n",
    "        if len(tr.select('th')) > 0:\n",
    "            if tr.select('th')[0].text.strip() in dic:\n",
    "                dic[tr.select('th')[0].text.strip()]= tr.select('td')[0].text.strip()\n"
   ]
  },
  {
   "cell_type": "code",
   "execution_count": 95,
   "metadata": {
    "collapsed": false
   },
   "outputs": [
    {
     "name": "stdout",
     "output_type": "stream",
     "text": [
      "開標時間 105/03/16 10:00 <type 'unicode'>\n",
      "105/03/16 10:00\n",
      "2016-03-16 10:00:00\n"
     ]
    }
   ],
   "source": [
    "for ele in dic:\n",
    "    print ele, dic[ele], type(dic[ele])\n",
    "print dic[u'開標時間']\n",
    "print date_conversion(dic[u'開標時間'])"
   ]
  },
  {
   "cell_type": "markdown",
   "metadata": {},
   "source": [
    "## 正規表達式"
   ]
  },
  {
   "cell_type": "code",
   "execution_count": 148,
   "metadata": {
    "collapsed": false
   },
   "outputs": [
    {
     "name": "stdout",
     "output_type": "stream",
     "text": [
      "250,000\n"
     ]
    },
    {
     "ename": "AttributeError",
     "evalue": "'NoneType' object has no attribute 'group'",
     "output_type": "error",
     "traceback": [
      "\u001b[1;31m---------------------------------------------------------------------------\u001b[0m",
      "\u001b[1;31mAttributeError\u001b[0m                            Traceback (most recent call last)",
      "\u001b[1;32m<ipython-input-148-9cd9a8a6aba4>\u001b[0m in \u001b[0;36m<module>\u001b[1;34m()\u001b[0m\n\u001b[0;32m      7\u001b[0m \u001b[1;33m\u001b[0m\u001b[0m\n\u001b[0;32m      8\u001b[0m \u001b[0mm\u001b[0m \u001b[1;33m=\u001b[0m \u001b[0mre\u001b[0m\u001b[1;33m.\u001b[0m\u001b[0msearch\u001b[0m\u001b[1;33m(\u001b[0m\u001b[1;34m'250,000'\u001b[0m\u001b[1;33m,\u001b[0m \u001b[0mb\u001b[0m\u001b[1;33m)\u001b[0m\u001b[1;33m\u001b[0m\u001b[0m\n\u001b[1;32m----> 9\u001b[1;33m \u001b[1;32mprint\u001b[0m \u001b[0mm\u001b[0m\u001b[1;33m.\u001b[0m\u001b[0mgroup\u001b[0m\u001b[1;33m(\u001b[0m\u001b[1;36m0\u001b[0m\u001b[1;33m)\u001b[0m\u001b[1;33m\u001b[0m\u001b[0m\n\u001b[0m",
      "\u001b[1;31mAttributeError\u001b[0m: 'NoneType' object has no attribute 'group'"
     ]
    }
   ],
   "source": [
    "a = '他欠了我 250,000元, 地震了~~~~~~'\n",
    "b = 'b欠了我 4,000元, 地震了~~~~~~'\n",
    "c = 'c欠了我 200元, 地震了~~~~~~'\n",
    "import re\n",
    "m = re.search('250,000', a)\n",
    "print m.group(0)\n",
    "\n",
    "m = re.search('250,000', b)\n",
    "print m.group(0)\n"
   ]
  },
  {
   "cell_type": "code",
   "execution_count": 152,
   "metadata": {
    "collapsed": false
   },
   "outputs": [
    {
     "name": "stdout",
     "output_type": "stream",
     "text": [
      "b欠了我 4,000元, 地震了~~~~~~\n",
      "4\n",
      "4\n",
      "4\n"
     ]
    }
   ],
   "source": [
    "print b\n",
    "m = re.search('[0123456789]', b) # [] 代表 or ... 0 or 1 or 2 .. or 9\n",
    "print m.group(0)\n",
    "\n",
    "m = re.search('[0-9]', b) # 0-9 代表 0 ~ 9\n",
    "print m.group(0)\n",
    "\n",
    "m = re.search('\\d', b) # \\d == [0-9]\n",
    "print m.group(0)"
   ]
  },
  {
   "cell_type": "code",
   "execution_count": 155,
   "metadata": {
    "collapsed": false
   },
   "outputs": [
    {
     "name": "stdout",
     "output_type": "stream",
     "text": [
      "b欠了我 4,000元, 地震了~~~~~~\n",
      "b\n",
      "b\n",
      "b\n",
      "b\n",
      "b\n"
     ]
    }
   ],
   "source": [
    "print b\n",
    "m = re.search('[abcdefghijklmnopqrstuvwxyz]', b) # [] 代表 or ... a or b or z\n",
    "print m.group(0)\n",
    "\n",
    "m = re.search('[a-z]', b) # [aabcdefg...z] == [a-z]\n",
    "print m.group(0)\n",
    "\n",
    "m = re.search('[a-zA-Z]', b) # 涵蓋大小寫\n",
    "print m.group(0)\n",
    "\n",
    "m = re.search('[a-zA-Z0-9]', b) # 涵蓋大小寫, 數字\n",
    "print m.group(0)\n",
    "\n",
    "m = re.search('\\w', b) # 涵蓋大小寫, 數字 == [a-zA-Z0-9]\n",
    "print m.group(0)"
   ]
  },
  {
   "cell_type": "code",
   "execution_count": 156,
   "metadata": {
    "collapsed": false
   },
   "outputs": [
    {
     "name": "stdout",
     "output_type": "stream",
     "text": [
      "!\n"
     ]
    }
   ],
   "source": [
    "c = '!@#!@#$'\n",
    "m = re.search('.', c) # . 萬用字元\n",
    "print m.group(0)"
   ]
  },
  {
   "cell_type": "code",
   "execution_count": 162,
   "metadata": {
    "collapsed": false
   },
   "outputs": [
    {
     "name": "stdout",
     "output_type": "stream",
     "text": [
      "25\n",
      "250\n",
      "250\n",
      "250\n",
      "\n",
      "\n"
     ]
    }
   ],
   "source": [
    "a = '他欠了我 250,000元, 地震了~~~~~~'\n",
    "m = re.search('\\d{1,2}',a)  # 代表找到1 ~ 2 個數字\n",
    "print m.group(0)\n",
    "\n",
    "m = re.search('\\d{3}',a)  # 代表找到剛剛好3個數字\n",
    "print m.group(0)\n",
    "\n",
    "\n",
    "m = re.search('\\d{1,}',a)  # 代表找到1個以上的數字\n",
    "print m.group(0)\n",
    "\n",
    "m = re.search('\\d+',a)  # {1,} == +\n",
    "print m.group(0)\n",
    "\n",
    "m = re.search('\\d{0,}',a)  # 代表找到0個以上的數字\n",
    "print m.group(0)\n",
    "\n",
    "m = re.search('\\d*',a)  # {0,} == *\n",
    "print m.group(0)"
   ]
  },
  {
   "cell_type": "code",
   "execution_count": 165,
   "metadata": {
    "collapsed": false
   },
   "outputs": [
    {
     "name": "stdout",
     "output_type": "stream",
     "text": [
      "250,000\n",
      "9527\n",
      "250,000元\n"
     ]
    }
   ],
   "source": [
    "a = '他欠了我 250,000元, 地震了~~~~~~'\n",
    "m = re.search('[0-9,]+',a)\n",
    "print m.group(0)\n",
    "\n",
    "\n",
    "a = '9527欠了我 250,000元, 地震了~~~~~~'\n",
    "m = re.search('[0-9,]+',a)\n",
    "print m.group(0)\n",
    "\n",
    "a = '9527欠了我 250,000元, 地震了~~~~~~'\n",
    "m = re.search('[0-9,]+元',a)\n",
    "print m.group(0)"
   ]
  },
  {
   "cell_type": "code",
   "execution_count": 167,
   "metadata": {
    "collapsed": false
   },
   "outputs": [
    {
     "name": "stdout",
     "output_type": "stream",
     "text": [
      "250,000元 250,000\n"
     ]
    }
   ],
   "source": [
    "a = '9527欠了我 250,000元, 地震了~~~~~~'\n",
    "m = re.search('([0-9,]+)元',a)\n",
    "print m.group(0), m.group(1)"
   ]
  },
  {
   "cell_type": "code",
   "execution_count": 171,
   "metadata": {
    "collapsed": false
   },
   "outputs": [
    {
     "name": "stdout",
     "output_type": "stream",
     "text": [
      "==========================\n",
      "小明欠了我 250,000元\n",
      "小明\n",
      "250,000\n",
      "==========================\n",
      "9527欠了我 4,000元\n",
      "9527\n",
      "4,000\n",
      "==========================\n",
      "馬英九欠了我 2,000,000元\n",
      "馬英九\n",
      "2,000,000\n"
     ]
    }
   ],
   "source": [
    "a = ['小明欠了我 250,000元, 地震了~~~~~~', \\\n",
    "    '9527欠了我 4,000元, 地震了~~~~~~',\\\n",
    "    '馬英九欠了我 2,000,000元, 地震了~~~~~~']\n",
    "for ele in a:\n",
    "    m = re.search('(.+)欠了我 ([0-9,]+)元',ele)\n",
    "    print '=========================='\n",
    "    print m.group(0)\n",
    "    print m.group(1) # (.+)\n",
    "    print m.group(2) #([0-9,]+)\n"
   ]
  },
  {
   "cell_type": "code",
   "execution_count": 187,
   "metadata": {
    "collapsed": false
   },
   "outputs": [
    {
     "name": "stdout",
     "output_type": "stream",
     "text": [
      "0912345678\n",
      "0922\n",
      "0911\n",
      "09123482384060192381\n",
      "======================\n",
      "0912345678\n",
      "0922-222-222\n",
      "0911-222333\n",
      "0912348238\n",
      "======================\n",
      "0912345678\n",
      "0922-222-222\n",
      "0911-222333\n",
      "0912348238\n",
      "======================\n",
      "0912345678 0912345678\n",
      "0922-222-222 0922-222-222\n",
      "0911-222333 0911-222333\n",
      "======================\n",
      "0912345678\n",
      "0922-222-222\n",
      "0911-222333\n"
     ]
    },
    {
     "ename": "AttributeError",
     "evalue": "'NoneType' object has no attribute 'group'",
     "output_type": "error",
     "traceback": [
      "\u001b[1;31m---------------------------------------------------------------------------\u001b[0m",
      "\u001b[1;31mAttributeError\u001b[0m                            Traceback (most recent call last)",
      "\u001b[1;32m<ipython-input-187-4c97f7d0530f>\u001b[0m in \u001b[0;36m<module>\u001b[1;34m()\u001b[0m\n\u001b[0;32m     24\u001b[0m \u001b[1;32mfor\u001b[0m \u001b[0mphone\u001b[0m \u001b[1;32min\u001b[0m \u001b[0mphones\u001b[0m\u001b[1;33m:\u001b[0m\u001b[1;33m\u001b[0m\u001b[0m\n\u001b[0;32m     25\u001b[0m     \u001b[0mm\u001b[0m \u001b[1;33m=\u001b[0m \u001b[0mre\u001b[0m\u001b[1;33m.\u001b[0m\u001b[0msearch\u001b[0m\u001b[1;33m(\u001b[0m\u001b[1;34m'^09\\d{2}-?\\d{3}-?\\d{3}$'\u001b[0m\u001b[1;33m,\u001b[0m\u001b[0mphone\u001b[0m\u001b[1;33m)\u001b[0m\u001b[1;33m\u001b[0m\u001b[0m\n\u001b[1;32m---> 26\u001b[1;33m     \u001b[1;32mprint\u001b[0m \u001b[0mm\u001b[0m\u001b[1;33m.\u001b[0m\u001b[0mgroup\u001b[0m\u001b[1;33m(\u001b[0m\u001b[1;36m0\u001b[0m\u001b[1;33m)\u001b[0m\u001b[1;33m\u001b[0m\u001b[0m\n\u001b[0m",
      "\u001b[1;31mAttributeError\u001b[0m: 'NoneType' object has no attribute 'group'"
     ]
    }
   ],
   "source": [
    "phones = ['我的電話是 0912345678 Call Me', '0922-222-222 我餓了', \\\n",
    "          '等妳呦 0911-222333', '真心不騙 09123482384060192381']\n",
    "for phone in phones:\n",
    "    m = re.search('09\\d+',phone)\n",
    "    print m.group(0)\n",
    "print '======================'  \n",
    "for phone in phones:\n",
    "    m = re.search('09\\d{2}-{0,1}\\d{3}-{0,1}\\d{3}',phone)\n",
    "    print m.group(0)\n",
    "print '======================'  \n",
    "for phone in phones:\n",
    "    m = re.search('09\\d{2}-?\\d{3}-?\\d{3}',phone) # {0,1} => ?\n",
    "    print m.group(0)\n",
    "    \n",
    "print '======================'  \n",
    "# ^ 強制比對開頭, $ 比對結尾\n",
    "for phone in phones:\n",
    "    m = re.search('(09\\d{2}-?\\d{3}-?\\d{3})\\d*',phone) \n",
    "    if m.group(0) == m.group(1):\n",
    "        print m.group(0),m.group(1)\n",
    "        \n",
    "phones = ['0912345678', '0922-222-222', \\\n",
    "          '0911-222333', '09123482384060192381']\n",
    "print '======================' \n",
    "# ^ 強制比對開頭, $ 比對結尾\n",
    "for phone in phones:\n",
    "    m = re.search('^09\\d{2}-?\\d{3}-?\\d{3}$',phone) \n",
    "    print m.group(0)"
   ]
  },
  {
   "cell_type": "code",
   "execution_count": 190,
   "metadata": {
    "collapsed": true
   },
   "outputs": [],
   "source": [
    "from bs4 import BeautifulSoup as bs\n",
    "dic = {u'底價金額': ''\\\n",
    "      }\n",
    "with open('gov/51835965.txt', 'r') as f:\n",
    "    soup = bs(f.read())\n",
    "    for tr in soup.select('tr'):\n",
    "        if len(tr.select('th')) > 0:\n",
    "            if tr.select('th')[0].text.strip() in dic:\n",
    "                dic[tr.select('th')[0].text.strip()]= tr.select('td')[0].text.strip()\n"
   ]
  },
  {
   "cell_type": "code",
   "execution_count": 199,
   "metadata": {
    "collapsed": false
   },
   "outputs": [
    {
     "name": "stdout",
     "output_type": "stream",
     "text": [
      "430,000元\n",
      "430,000\n",
      "[u'430', u'000']\n",
      "430000\n",
      "430000\n"
     ]
    }
   ],
   "source": [
    "print dic[u'底價金額']\n",
    "\n",
    "import re\n",
    "m = re.search(u'([0-9,]+)元', dic[u'底價金額'])\n",
    "print m.group(1)\n",
    "print m.group(1).split(',')\n",
    "print ''.join(m.group(1).split(','))\n",
    "print int(''.join(m.group(1).split(',')))"
   ]
  },
  {
   "cell_type": "code",
   "execution_count": 200,
   "metadata": {
    "collapsed": false
   },
   "outputs": [
    {
     "name": "stdout",
     "output_type": "stream",
     "text": [
      "david largitdata.com\n",
      "david largitdata.com\n",
      "qoo oop.cc\n",
      "qoo oop.cc\n"
     ]
    },
    {
     "ename": "AttributeError",
     "evalue": "'NoneType' object has no attribute 'group'",
     "output_type": "error",
     "traceback": [
      "\u001b[1;31m---------------------------------------------------------------------------\u001b[0m",
      "\u001b[1;31mAttributeError\u001b[0m                            Traceback (most recent call last)",
      "\u001b[1;32m<ipython-input-200-cdcc13c53f88>\u001b[0m in \u001b[0;36m<module>\u001b[1;34m()\u001b[0m\n\u001b[0;32m      4\u001b[0m     \u001b[1;32mif\u001b[0m \u001b[0mm\u001b[0m\u001b[1;33m:\u001b[0m\u001b[1;33m\u001b[0m\u001b[0m\n\u001b[0;32m      5\u001b[0m         \u001b[1;32mprint\u001b[0m \u001b[0mm\u001b[0m\u001b[1;33m.\u001b[0m\u001b[0mgroup\u001b[0m\u001b[1;33m(\u001b[0m\u001b[1;36m1\u001b[0m\u001b[1;33m)\u001b[0m\u001b[1;33m,\u001b[0m \u001b[0mm\u001b[0m\u001b[1;33m.\u001b[0m\u001b[0mgroup\u001b[0m\u001b[1;33m(\u001b[0m\u001b[1;36m2\u001b[0m\u001b[1;33m)\u001b[0m\u001b[1;33m\u001b[0m\u001b[0m\n\u001b[1;32m----> 6\u001b[1;33m     \u001b[1;32mprint\u001b[0m \u001b[0mm\u001b[0m\u001b[1;33m.\u001b[0m\u001b[0mgroup\u001b[0m\u001b[1;33m(\u001b[0m\u001b[1;36m1\u001b[0m\u001b[1;33m)\u001b[0m\u001b[1;33m,\u001b[0m \u001b[0mm\u001b[0m\u001b[1;33m.\u001b[0m\u001b[0mgroup\u001b[0m\u001b[1;33m(\u001b[0m\u001b[1;36m2\u001b[0m\u001b[1;33m)\u001b[0m\u001b[1;33m\u001b[0m\u001b[0m\n\u001b[0m",
      "\u001b[1;31mAttributeError\u001b[0m: 'NoneType' object has no attribute 'group'"
     ]
    }
   ],
   "source": [
    "emails  = ['david@largitdata.com', 'qoo@oop.cc', 'qoooop', 'a@yahoo.com']\n",
    "for email in emails:\n",
    "    m = re.search('(.+)@(.+)', email)\n",
    "    if m:\n",
    "        print m.group(1), m.group(2)\n",
    "    print m.group(1), m.group(2)"
   ]
  },
  {
   "cell_type": "markdown",
   "metadata": {},
   "source": [
    "## 賭博不是好事, 小朋友不要學"
   ]
  },
  {
   "cell_type": "code",
   "execution_count": 115,
   "metadata": {
    "collapsed": false
   },
   "outputs": [
    {
     "name": "stdout",
     "output_type": "stream",
     "text": [
      "芝加哥白襪德州遊騎兵(主)德州遊騎兵讓分\n",
      "克里夫蘭印地安人休士頓太空人(主)大8分贏50%\n",
      "底特律老虎華盛頓國民(主)主讓1分贏50%\n",
      "紐約大都會洛杉磯道奇(主)客讓1分贏50%\n"
     ]
    }
   ],
   "source": [
    "import requests\n",
    "from bs4 import BeautifulSoup as bs\n",
    "import pandas\n",
    "res = requests.get('http://www.playsport.cc/visit_member.php?pagetype=predict&visit=gogreen&gameday=today&allianceid=1&path_trace=cD1CWl9NRjtjPW5vX2NvbnMgTUxCILDqu9q9TCA&rp=BZ_MF')\n",
    "soup = bs(res.text)\n",
    "tb = soup.select('.universe-tablecon')[0]\n",
    "\n",
    "for tr in tb.select('tr'):\n",
    "    td = tr.select('td')\n",
    "    if len(td) == 6:\n",
    "        print ''.join(td[0].text.split()).strip() "
   ]
  },
  {
   "cell_type": "code",
   "execution_count": 135,
   "metadata": {
    "collapsed": true
   },
   "outputs": [],
   "source": [
    "import requests\n",
    "from bs4 import BeautifulSoup as bs\n",
    "import pandas\n",
    "def getPage(url):\n",
    "    domain = 'http://www.playsport.cc'\n",
    "    purl = domain + url\n",
    "    res = requests.get(purl)\n",
    "    print purl\n",
    "    soup = bs(res.text)\n",
    "    tb = soup.select('.universe-tablecon')[0]\n",
    "\n",
    "    for tr in tb.select('tr'):\n",
    "        td = tr.select('td')\n",
    "        if len(td) == 6:\n",
    "            print purl, ''.join(td[0].text.split()).strip() "
   ]
  },
  {
   "cell_type": "code",
   "execution_count": 136,
   "metadata": {
    "collapsed": false
   },
   "outputs": [
    {
     "name": "stdout",
     "output_type": "stream",
     "text": [
      "http://www.playsport.cc/visit_member.php?pagetype=predict&visit=qaz555&gameday=tomorrow&allianceid=1&path_trace=cD1CWl9NRjtjPW5vX2NvbnMgTUxCILlCsW29TCA&rp=BZ_MF\n",
      "http://www.playsport.cc/visit_member.php?pagetype=predict&visit=rex666&gameday=tomorrow&allianceid=1&path_trace=cD1CWl9NRjtjPW5vX2NvbnMgTUxCILlCsW29TCA&rp=BZ_MF\n"
     ]
    }
   ],
   "source": [
    "#getPage('gogreen')\n",
    "\n",
    "res = requests.get('http://www.playsport.cc/buy_predict.php?alli=1&ck=1')\n",
    "soup = bs(res.text)\n",
    "for link in soup.select('.medalpca'):\n",
    "    getPage(link['href'])"
   ]
  },
  {
   "cell_type": "code",
   "execution_count": null,
   "metadata": {
    "collapsed": true
   },
   "outputs": [],
   "source": []
  }
 ],
 "metadata": {
  "kernelspec": {
   "display_name": "Python 2",
   "language": "python",
   "name": "python2"
  },
  "language_info": {
   "codemirror_mode": {
    "name": "ipython",
    "version": 2
   },
   "file_extension": ".py",
   "mimetype": "text/x-python",
   "name": "python",
   "nbconvert_exporter": "python",
   "pygments_lexer": "ipython2",
   "version": "2.7.11"
  }
 },
 "nbformat": 4,
 "nbformat_minor": 0
}
