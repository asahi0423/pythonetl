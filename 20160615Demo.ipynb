{
 "cells": [
  {
   "cell_type": "markdown",
   "metadata": {},
   "source": [
    "## Python official document\n",
    "https://docs.python.org/2.7/tutorial/"
   ]
  },
  {
   "cell_type": "code",
   "execution_count": 4,
   "metadata": {
    "collapsed": false,
    "scrolled": false
   },
   "outputs": [
    {
     "data": {
      "text/plain": [
       "['__call__',\n",
       " '__class__',\n",
       " '__cmp__',\n",
       " '__delattr__',\n",
       " '__doc__',\n",
       " '__eq__',\n",
       " '__format__',\n",
       " '__ge__',\n",
       " '__getattribute__',\n",
       " '__gt__',\n",
       " '__hash__',\n",
       " '__init__',\n",
       " '__le__',\n",
       " '__lt__',\n",
       " '__module__',\n",
       " '__name__',\n",
       " '__ne__',\n",
       " '__new__',\n",
       " '__reduce__',\n",
       " '__reduce_ex__',\n",
       " '__repr__',\n",
       " '__self__',\n",
       " '__setattr__',\n",
       " '__sizeof__',\n",
       " '__str__',\n",
       " '__subclasshook__']"
      ]
     },
     "execution_count": 4,
     "metadata": {},
     "output_type": "execute_result"
    }
   ],
   "source": [
    "from __future__ import print_function # In Python2, print is a statement, in Python3, print is a function\n",
    "import sys\n",
    "# help(dir)\n",
    "dir(sys.exit)"
   ]
  },
  {
   "cell_type": "code",
   "execution_count": 5,
   "metadata": {
    "collapsed": false
   },
   "outputs": [
    {
     "name": "stdout",
     "output_type": "stream",
     "text": [
      "0\n",
      "1\n",
      "2\n",
      "3\n",
      "4\n",
      "5\n",
      "6\n",
      "7\n",
      "8\n",
      "9\n",
      "10\n"
     ]
    }
   ],
   "source": [
    "\"\"\"The advantage of the xrange type is that an xrange object will always take the same amount of memory,\n",
    "no matter the size of the range it represents.\"\"\"\n",
    "for i in xrange(0,11):\n",
    "    print(i)"
   ]
  },
  {
   "cell_type": "code",
   "execution_count": 6,
   "metadata": {
    "collapsed": false
   },
   "outputs": [
    {
     "data": {
      "text/plain": [
       "['ConnectTimeout',\n",
       " 'ConnectionError',\n",
       " 'DependencyWarning',\n",
       " 'FileModeWarning',\n",
       " 'HTTPError',\n",
       " 'NullHandler',\n",
       " 'PreparedRequest',\n",
       " 'ReadTimeout',\n",
       " 'Request',\n",
       " 'RequestException',\n",
       " 'Response',\n",
       " 'Session',\n",
       " 'Timeout',\n",
       " 'TooManyRedirects',\n",
       " 'URLRequired',\n",
       " '__author__',\n",
       " '__build__',\n",
       " '__builtins__',\n",
       " '__copyright__',\n",
       " '__doc__',\n",
       " '__file__',\n",
       " '__license__',\n",
       " '__name__',\n",
       " '__package__',\n",
       " '__path__',\n",
       " '__title__',\n",
       " '__version__',\n",
       " 'adapters',\n",
       " 'api',\n",
       " 'auth',\n",
       " 'certs',\n",
       " 'codes',\n",
       " 'compat',\n",
       " 'cookies',\n",
       " 'delete',\n",
       " 'exceptions',\n",
       " 'get',\n",
       " 'head',\n",
       " 'hooks',\n",
       " 'logging',\n",
       " 'models',\n",
       " 'options',\n",
       " 'packages',\n",
       " 'patch',\n",
       " 'post',\n",
       " 'put',\n",
       " 'request',\n",
       " 'session',\n",
       " 'sessions',\n",
       " 'status_codes',\n",
       " 'structures',\n",
       " 'utils',\n",
       " 'warnings']"
      ]
     },
     "execution_count": 6,
     "metadata": {},
     "output_type": "execute_result"
    }
   ],
   "source": [
    "import requests\n",
    "dir(requests)"
   ]
  },
  {
   "cell_type": "code",
   "execution_count": 7,
   "metadata": {
    "collapsed": false
   },
   "outputs": [
    {
     "name": "stdout",
     "output_type": "stream",
     "text": [
      "what's your name\n",
      "your name again pleaz\n"
     ]
    }
   ],
   "source": [
    "name = raw_input(\"what's your name\")\n",
    "if name == 'David':\n",
    "    print(\"nice to meet you\", name)\n",
    "else:\n",
    "    print(\"your name again pleaz\")"
   ]
  },
  {
   "cell_type": "code",
   "execution_count": 8,
   "metadata": {
    "collapsed": false
   },
   "outputs": [
    {
     "name": "stdout",
     "output_type": "stream",
     "text": [
      "nice to meet you Nate\n",
      "nice to meet you Nate\n",
      "nice to meet you Nate\n",
      "nice to meet you : jully, I'm nate nate nate nate\n",
      "nice to meet you : jully, I'm nate nate nate nate\n",
      "The results are 3.14 and 5\n"
     ]
    }
   ],
   "source": [
    "name = \"Nate\"\n",
    "print(\"nice to meet you\", name)\n",
    "print(\"nice to meet you {}\".format(name)) # 建議的寫法\n",
    "print(\"nice to meet you %s\"%name)\n",
    "print(\"nice to meet you : {0}, I'm {1} {1} {1} {1}\".format(\"jully\",\"nate\"))\n",
    "print(\"nice to meet you : %s, I'm %s %s %s %s\"%(\"jully\", \"nate\",\"nate\",\"nate\",\"nate\"))\n",
    "print(\"The results are %.02f and %d\" % (3.14159, 5))"
   ]
  },
  {
   "cell_type": "code",
   "execution_count": 9,
   "metadata": {
    "collapsed": false
   },
   "outputs": [
    {
     "name": "stdout",
     "output_type": "stream",
     "text": [
      "a, b, c\n",
      "a, b, c\n",
      "c, b, a\n",
      "c, b, a\n",
      "abracadabra\n"
     ]
    }
   ],
   "source": [
    "# Accessing arguments by position:\n",
    "print('{0}, {1}, {2}'.format('a', 'b', 'c'))\n",
    "print('{}, {}, {}'.format('a', 'b', 'c'))\n",
    "print('{2}, {1}, {0}'.format('a', 'b', 'c'))\n",
    "print('{2}, {1}, {0}'.format(*'abc'))      # unpacking argument sequence\n",
    "print('{0}{1}{0}'.format('abra', 'cad'))  # arguments' indices can be repeated"
   ]
  },
  {
   "cell_type": "code",
   "execution_count": 10,
   "metadata": {
    "collapsed": false
   },
   "outputs": [
    {
     "name": "stdout",
     "output_type": "stream",
     "text": [
      "Coordinates: 37.24N, -115.81W\n",
      "Coordinates: 37.24N, -115.81W\n"
     ]
    }
   ],
   "source": [
    "# Accessing arguments by name:\n",
    "print('Coordinates: {latitude}, {longitude}'.format(latitude='37.24N', longitude='-115.81W'))\n",
    "coord = {'latitude': '37.24N', 'longitude': '-115.81W'}\n",
    "print('Coordinates: {latitude}, {longitude}'.format(**coord))"
   ]
  },
  {
   "cell_type": "code",
   "execution_count": 11,
   "metadata": {
    "collapsed": false
   },
   "outputs": [
    {
     "name": "stdout",
     "output_type": "stream",
     "text": [
      "==================================================\n",
      "4\n",
      "3.1\n",
      "2\n",
      "0\n",
      "1\n",
      "2.72727272727\n",
      "1\n",
      "1\n",
      "1.0\n",
      "1.5\n"
     ]
    }
   ],
   "source": [
    "print(\"=\" * 50)\n",
    "print(1+3)\n",
    "print(1.1+2)\n",
    "print(3-1)\n",
    "print(1/2)\n",
    "print(3/2)\n",
    "print(3/1.1)\n",
    "print(3%2)\n",
    "print(1%2)\n",
    "print(float(3/2))\n",
    "print(3.0/2)"
   ]
  },
  {
   "cell_type": "code",
   "execution_count": 12,
   "metadata": {
    "collapsed": false
   },
   "outputs": [
    {
     "name": "stdout",
     "output_type": "stream",
     "text": [
      "type a number\n"
     ]
    },
    {
     "ename": "SyntaxError",
     "evalue": "unexpected EOF while parsing (<string>, line 0)",
     "output_type": "error",
     "traceback": [
      "\u001b[0;36m  File \u001b[0;32m\"<string>\"\u001b[0;36m, line \u001b[0;32munknown\u001b[0m\n\u001b[0;31m    \u001b[0m\n\u001b[0m    ^\u001b[0m\n\u001b[0;31mSyntaxError\u001b[0m\u001b[0;31m:\u001b[0m unexpected EOF while parsing\n"
     ]
    }
   ],
   "source": [
    "time = input(\"type a number\")\n",
    "print(\"QOO\" * time)"
   ]
  },
  {
   "cell_type": "code",
   "execution_count": 13,
   "metadata": {
    "collapsed": false
   },
   "outputs": [
    {
     "ename": "ZeroDivisionError",
     "evalue": "integer division or modulo by zero",
     "output_type": "error",
     "traceback": [
      "\u001b[0;31m---------------------------------------------------------------------------\u001b[0m",
      "\u001b[0;31mZeroDivisionError\u001b[0m                         Traceback (most recent call last)",
      "\u001b[0;32m<ipython-input-13-a0641230c7a8>\u001b[0m in \u001b[0;36m<module>\u001b[0;34m()\u001b[0m\n\u001b[0;32m----> 1\u001b[0;31m \u001b[0;36m3\u001b[0m\u001b[0;34m/\u001b[0m\u001b[0;36m0\u001b[0m\u001b[0;34m\u001b[0m\u001b[0m\n\u001b[0m",
      "\u001b[0;31mZeroDivisionError\u001b[0m: integer division or modulo by zero"
     ]
    }
   ],
   "source": [
    "3/0"
   ]
  },
  {
   "cell_type": "code",
   "execution_count": 14,
   "metadata": {
    "collapsed": false
   },
   "outputs": [
    {
     "name": "stdout",
     "output_type": "stream",
     "text": [
      "type a number\n"
     ]
    },
    {
     "ename": "SyntaxError",
     "evalue": "unexpected EOF while parsing (<string>, line 0)",
     "output_type": "error",
     "traceback": [
      "\u001b[0;36m  File \u001b[0;32m\"<string>\"\u001b[0;36m, line \u001b[0;32munknown\u001b[0m\n\u001b[0;31m    \u001b[0m\n\u001b[0m    ^\u001b[0m\n\u001b[0;31mSyntaxError\u001b[0m\u001b[0;31m:\u001b[0m unexpected EOF while parsing\n"
     ]
    }
   ],
   "source": [
    "d1 = input(\"type a number\")\n",
    "d2 = input(\"type a number\")\n",
    "\n",
    "try:\n",
    "    print(d1/d2)\n",
    "except ZeroDivisionError as detail:\n",
    "    print(\"error\", detail)"
   ]
  },
  {
   "cell_type": "code",
   "execution_count": 15,
   "metadata": {
    "collapsed": false
   },
   "outputs": [
    {
     "name": "stdout",
     "output_type": "stream",
     "text": [
      "this is a string\n",
      "this is a string\n"
     ]
    }
   ],
   "source": [
    "# dir(\"this is a string\")\n",
    "a = \"this is a string\"\n",
    "# a.__str__()\n",
    "print(a) \n",
    "print(a.__str__())"
   ]
  },
  {
   "cell_type": "code",
   "execution_count": 16,
   "metadata": {
    "collapsed": false
   },
   "outputs": [
    {
     "name": "stdout",
     "output_type": "stream",
     "text": [
      "this is a 'quote'\n"
     ]
    }
   ],
   "source": [
    "a = 'this is a \"book\"'\n",
    "b = \"this is a 'quote'\"\n",
    "\n",
    "mystr = 'nice'\n",
    "print(b)"
   ]
  },
  {
   "cell_type": "code",
   "execution_count": 17,
   "metadata": {
    "collapsed": false
   },
   "outputs": [
    {
     "name": "stdout",
     "output_type": "stream",
     "text": [
      "this is a boooooooooooooooooooooooooooooooooooooooooooooooooooooooooooooooooook\n"
     ]
    }
   ],
   "source": [
    "a = \"this is a \\\n",
    "boooooooooooooooooooooooooooooooooooooooooooooooooooooooooooooooooook\"\n",
    "print(a) "
   ]
  },
  {
   "cell_type": "code",
   "execution_count": 18,
   "metadata": {
    "collapsed": false
   },
   "outputs": [
    {
     "name": "stdout",
     "output_type": "stream",
     "text": [
      "\n",
      "tiohdoaf \n",
      "adfha;f\n",
      "asd;fhihi;o\n",
      "\n",
      "asfoiheop\n",
      "\n"
     ]
    }
   ],
   "source": [
    "a = '''\n",
    "tiohdoaf \n",
    "adfha;f\n",
    "asd;fhihi;o\n",
    "\n",
    "asfoiheop\n",
    "'''\n",
    "print(a)"
   ]
  },
  {
   "cell_type": "code",
   "execution_count": 19,
   "metadata": {
    "collapsed": false
   },
   "outputs": [
    {
     "name": "stdout",
     "output_type": "stream",
     "text": [
      "rld\n",
      "hlowrd\n",
      "[0, 3, 6, 9]\n"
     ]
    }
   ],
   "source": [
    "s = 'hello world'\n",
    "# print(len(s))\n",
    "# print(s[0])\n",
    "# print(s[-1])\n",
    "# print(s[1:4])\n",
    "# print(s[:-3])\n",
    "print(s[-3:])\n",
    "# print(s)\n",
    "# print(s + 'yoyo')\n",
    "# print(s.__add__('yoyo'))\n",
    "print(s[::2])\n",
    "print(range(10)[::3]) # gets every third item of the sequence sliced"
   ]
  },
  {
   "cell_type": "code",
   "execution_count": 20,
   "metadata": {
    "collapsed": false
   },
   "outputs": [
    {
     "name": "stdout",
     "output_type": "stream",
     "text": [
      "\n",
      "\t this is a \t line with format \t\n",
      "\n",
      "\\n\\t this is a \\t line with format \\t\\n\n",
      "'\\n\\t this is a \\t line with format \\t\\n'\n"
     ]
    }
   ],
   "source": [
    "raw = '\\n\\t this is a \\t line with format \\t\\n'\n",
    "print(raw)\n",
    "raw2 = r'\\n\\t this is a \\t line with format \\t\\n'\n",
    "print(raw2)\n",
    "raw3 = repr(raw)\n",
    "print(raw3)"
   ]
  },
  {
   "cell_type": "code",
   "execution_count": 21,
   "metadata": {
    "collapsed": false
   },
   "outputs": [
    {
     "name": "stdout",
     "output_type": "stream",
     "text": [
      "QOO LOVES OOP\n",
      "Qoo Loves Oop\n",
      "['Qoo', 'loves', 'OOP']\n",
      "Qoo=loves=OOP\n"
     ]
    }
   ],
   "source": [
    "a = 'Qoo loves OOP'\n",
    "print(a.upper())\n",
    "print(a.title())\n",
    "print(a.split())\n",
    "print('='.join(a.split()))"
   ]
  },
  {
   "cell_type": "code",
   "execution_count": 22,
   "metadata": {
    "collapsed": false
   },
   "outputs": [
    {
     "data": {
      "text/plain": [
       "['hello', 'world', 'class']"
      ]
     },
     "execution_count": 22,
     "metadata": {},
     "output_type": "execute_result"
    }
   ],
   "source": [
    "another_str = 'hello-world-class'\n",
    "another_str.split('-')"
   ]
  },
  {
   "cell_type": "markdown",
   "metadata": {},
   "source": [
    "## List of Python built-in functions\n",
    "\n",
    "https://docs.python.org/2.7/library/functions.html"
   ]
  },
  {
   "cell_type": "code",
   "execution_count": 23,
   "metadata": {
    "collapsed": false
   },
   "outputs": [
    {
     "data": {
      "text/plain": [
       "['and',\n",
       " 'as',\n",
       " 'assert',\n",
       " 'break',\n",
       " 'class',\n",
       " 'continue',\n",
       " 'def',\n",
       " 'del',\n",
       " 'elif',\n",
       " 'else',\n",
       " 'except',\n",
       " 'exec',\n",
       " 'finally',\n",
       " 'for',\n",
       " 'from',\n",
       " 'global',\n",
       " 'if',\n",
       " 'import',\n",
       " 'in',\n",
       " 'is',\n",
       " 'lambda',\n",
       " 'not',\n",
       " 'or',\n",
       " 'pass',\n",
       " 'print',\n",
       " 'raise',\n",
       " 'return',\n",
       " 'try',\n",
       " 'while',\n",
       " 'with',\n",
       " 'yield']"
      ]
     },
     "execution_count": 23,
     "metadata": {},
     "output_type": "execute_result"
    }
   ],
   "source": [
    "import keyword\n",
    "keyword.kwlist"
   ]
  },
  {
   "cell_type": "code",
   "execution_count": 24,
   "metadata": {
    "collapsed": false
   },
   "outputs": [
    {
     "name": "stdout",
     "output_type": "stream",
     "text": [
      "['asap', 3]\n",
      "['w', 'o', 'r', 'd']\n",
      "[['list'], ['of', 'lists']]\n",
      "['a', 1]\n",
      "8\n"
     ]
    }
   ],
   "source": [
    "print(['asap', 3])\n",
    "print(list(\"word\")) \n",
    "print([['list'], ['of', 'lists']])\n",
    "print(list(('a', 1))) \n",
    "\n",
    "a = ['heterogeneous', 3]\n",
    "print(a[1] + 5) "
   ]
  },
  {
   "cell_type": "code",
   "execution_count": 25,
   "metadata": {
    "collapsed": false
   },
   "outputs": [
    {
     "data": {
      "text/plain": [
       "True"
      ]
     },
     "execution_count": 25,
     "metadata": {},
     "output_type": "execute_result"
    }
   ],
   "source": [
    "'z' > 'a'"
   ]
  },
  {
   "cell_type": "code",
   "execution_count": 26,
   "metadata": {
    "collapsed": false
   },
   "outputs": [
    {
     "data": {
      "text/plain": [
       "False"
      ]
     },
     "execution_count": 26,
     "metadata": {},
     "output_type": "execute_result"
    }
   ],
   "source": [
    "'a' > 'z'"
   ]
  },
  {
   "cell_type": "code",
   "execution_count": 27,
   "metadata": {
    "collapsed": false
   },
   "outputs": [
    {
     "name": "stdout",
     "output_type": "stream",
     "text": [
      "1\n",
      "1\n",
      "[1, 2, 3]\n",
      "[1, 2, 3, 5]\n",
      "[1, 3, 'a']\n",
      "['a', 5, 3, 2, 1]\n",
      "['a', 2]\n",
      "[1, 3]\n",
      "5\n",
      "a 1\n"
     ]
    }
   ],
   "source": [
    "a = [1,2,3,5,'a']\n",
    "print(a[0])\n",
    "\n",
    "\"\"\"回顧一下String\"\"\"\n",
    "s =\"1235a\"\n",
    "print(s[0])\n",
    "\n",
    "print(a[:3])\n",
    "print(a[:-1])\n",
    "print(a[::2])\n",
    "print(a[::-1])\n",
    "print(a[::-3])\n",
    "print(a[0:4:2])\n",
    "print(len(a))\n",
    "\n",
    "\"\"\"這段在Python3裡面會變成Error\"\"\"\n",
    "print(max(a),min(a)) # 'str' > 'int'"
   ]
  },
  {
   "cell_type": "code",
   "execution_count": 28,
   "metadata": {
    "collapsed": false
   },
   "outputs": [
    {
     "data": {
      "text/plain": [
       "False"
      ]
     },
     "execution_count": 28,
     "metadata": {},
     "output_type": "execute_result"
    }
   ],
   "source": [
    "mylist = [1,['a']] # int < string\n",
    "mylist[0] > mylist[1]"
   ]
  },
  {
   "cell_type": "code",
   "execution_count": 29,
   "metadata": {
    "collapsed": false
   },
   "outputs": [
    {
     "data": {
      "text/plain": [
       "[8, 7, 5, 3, 1]"
      ]
     },
     "execution_count": 29,
     "metadata": {},
     "output_type": "execute_result"
    }
   ],
   "source": [
    "\"\"\"List is mutable\"\"\"\n",
    "a = [1,7,3,8,5]\n",
    "# a.pop()\n",
    "# a.append(6)\n",
    "# a.sort()\n",
    "#a.reverse()\n",
    "a.sort(reverse=True)\n",
    "a"
   ]
  },
  {
   "cell_type": "code",
   "execution_count": 30,
   "metadata": {
    "collapsed": false
   },
   "outputs": [
    {
     "name": "stdout",
     "output_type": "stream",
     "text": [
      "['h', 'e', 'l', 'l', 'o', ' ', 'w', 'o', 'r', 'l', 'd']\n"
     ]
    },
    {
     "data": {
      "text/plain": [
       "True"
      ]
     },
     "execution_count": 30,
     "metadata": {},
     "output_type": "execute_result"
    }
   ],
   "source": [
    "hello =  list('hello world')\n",
    "print(hello)\n",
    "'h' in hello\n",
    "# 'u' in hello\n",
    "# if 'h' in hello:\n",
    "#     print 'hello'"
   ]
  },
  {
   "cell_type": "code",
   "execution_count": 31,
   "metadata": {
    "collapsed": false
   },
   "outputs": [
    {
     "name": "stdout",
     "output_type": "stream",
     "text": [
      "a:  [1, 2, 3, 4, 5]\n",
      "b:  [1, 2, 3, 4, 5]\n",
      "a:  [1, 2, 3, 4, 5, 6]\n",
      "b:  [1, 2, 3, 4, 5, 6]\n",
      "a:  [1, 2, 3, 4, 5, 6, 7]\n",
      "b:  [1, 2, 3, 4, 5, 6, 7]\n"
     ]
    }
   ],
   "source": [
    "# Differnt names for the same list, remember list are mutable\n",
    "a = [1,2,3,4,5]\n",
    "b = a\n",
    "print('a: ',a)\n",
    "print('b: ',b)\n",
    "a.append(6)\n",
    "print('a: ',a)\n",
    "print('b: ',b)\n",
    "b.append(7)\n",
    "print('a: ',a)\n",
    "print('b: ',b)"
   ]
  },
  {
   "cell_type": "code",
   "execution_count": 32,
   "metadata": {
    "collapsed": false
   },
   "outputs": [
    {
     "name": "stdout",
     "output_type": "stream",
     "text": [
      "a:  [1, 2, 3, 4, 5, 6, 7, 7]\n",
      "b:  [1, 2, 3, 4, 5, 6, 7]\n"
     ]
    }
   ],
   "source": [
    "import copy\n",
    "b = copy.deepcopy(a) # Copies the value and assign it the new name\n",
    "a.append(7)\n",
    "print('a: ',a)\n",
    "print('b: ',b)"
   ]
  },
  {
   "cell_type": "markdown",
   "metadata": {},
   "source": [
    "## List Comprehension"
   ]
  },
  {
   "cell_type": "code",
   "execution_count": 33,
   "metadata": {
    "collapsed": false
   },
   "outputs": [
    {
     "name": "stdout",
     "output_type": "stream",
     "text": [
      "[1, 4, 9, 16]\n",
      "[1, 4, 9, 16]\n"
     ]
    }
   ],
   "source": [
    "nums = [1,2,3,4]\n",
    "squares = []\n",
    "for n in nums:\n",
    "    square = n*n\n",
    "    squares.append(square)\n",
    "print(squares)\n",
    "\n",
    "squares = [n*n for n in nums]\n",
    "print(squares)"
   ]
  },
  {
   "cell_type": "code",
   "execution_count": 34,
   "metadata": {
    "collapsed": false
   },
   "outputs": [
    {
     "name": "stdout",
     "output_type": "stream",
     "text": [
      "[2, 1]\n",
      "[2, 8, 1, 6]\n",
      "[2, 1]\n"
     ]
    }
   ],
   "source": [
    "nums = [2, 8, 1, 6]\n",
    "small = [ n for n in nums if n <= 2 ]  ## [2, 1]\n",
    "print(small)\n",
    "print(nums)\n",
    "\n",
    "small = []\n",
    "for n in nums:\n",
    "    if n <=2:\n",
    "        small.append(n)\n",
    "print(small)"
   ]
  },
  {
   "cell_type": "code",
   "execution_count": 35,
   "metadata": {
    "collapsed": false
   },
   "outputs": [
    {
     "name": "stdout",
     "output_type": "stream",
     "text": [
      "['APPLE', 'BANNANA']\n",
      "['APPLE', 'BANNANA']\n"
     ]
    }
   ],
   "source": [
    "fruits = ['apple', 'cherry', 'bannana', 'lemon']\n",
    "afruits = [ s.upper() for s in fruits if 'a' in s ]\n",
    "print(afruits)\n",
    "\n",
    "afruits = []\n",
    "for s in fruits:\n",
    "    if 'a' in s:\n",
    "        afruits.append(s.upper())\n",
    "print(afruits)"
   ]
  },
  {
   "cell_type": "code",
   "execution_count": 36,
   "metadata": {
    "collapsed": false,
    "scrolled": true
   },
   "outputs": [
    {
     "name": "stdout",
     "output_type": "stream",
     "text": [
      "apple\n",
      "cherry\n",
      "bannana\n",
      "lemon\n"
     ]
    }
   ],
   "source": [
    "fruits = ['apple', 'cherry', 'bannana', 'lemon']\n",
    "for s in fruits:\n",
    "    print(s)"
   ]
  },
  {
   "cell_type": "markdown",
   "metadata": {},
   "source": [
    "## Control Flow Tools\n",
    "- The ```break``` statement, like in C, breaks out of the smallest enclosing for or while loop.\n",
    "- The ```continue``` statement, also borrowed from C, continues with the next iteration of the loop:\n",
    "- The ```pass``` statement does nothing. It can be used when a statement is required syntactically but the program requires no action"
   ]
  },
  {
   "cell_type": "code",
   "execution_count": 37,
   "metadata": {
    "collapsed": false
   },
   "outputs": [
    {
     "name": "stdout",
     "output_type": "stream",
     "text": [
      "1\n",
      "2\n",
      "3\n",
      "4\n",
      "5\n",
      "6\n",
      "7\n",
      "8\n",
      "8 found\n",
      "9\n",
      "9 found!\n"
     ]
    }
   ],
   "source": [
    "a = 9\n",
    "b = 8\n",
    "for i in xrange(1,10):\n",
    "    print(i)\n",
    "    if i == a:\n",
    "        print(str(a) + ' found!')\n",
    "        break\n",
    "    elif i == b:\n",
    "        print(str(b) + ' found')\n",
    "    else:\n",
    "        pass\n",
    "        #print(str(a) + ' and ' + str(b) + ' was not in the list')\n"
   ]
  },
  {
   "cell_type": "code",
   "execution_count": 38,
   "metadata": {
    "collapsed": false
   },
   "outputs": [
    {
     "name": "stdout",
     "output_type": "stream",
     "text": [
      "1\n",
      "2\n",
      "3\n",
      "4\n",
      "5\n",
      "6\n",
      "7\n",
      "8\n",
      "8 found\n",
      "I'm out of loop\n"
     ]
    }
   ],
   "source": [
    "a = 9\n",
    "b = 8\n",
    "for i in xrange(1,10):\n",
    "    print(i)\n",
    "    if i == a:\n",
    "        print(str(a) + ' found!')\n",
    "    elif i == b:\n",
    "        print(str(b) + ' found')\n",
    "        break\n",
    "    else:\n",
    "        continue\n",
    "\n",
    "print(\"I'm out of loop\")"
   ]
  },
  {
   "cell_type": "code",
   "execution_count": 39,
   "metadata": {
    "collapsed": false
   },
   "outputs": [
    {
     "name": "stdout",
     "output_type": "stream",
     "text": [
      "1\n",
      "2\n",
      "3\n",
      "4\n",
      "5\n",
      "6\n",
      "7\n",
      "8\n",
      "8 found\n"
     ]
    }
   ],
   "source": [
    "a = 9\n",
    "b = 8\n",
    "for i in xrange(1,10):\n",
    "    print(i)\n",
    "    if i == a:\n",
    "        print(str(a) + ' found!')\n",
    "    elif i == b:\n",
    "        print(str(b) + ' found')\n",
    "        break\n",
    "    else:\n",
    "        pass\n"
   ]
  },
  {
   "cell_type": "code",
   "execution_count": 40,
   "metadata": {
    "collapsed": false
   },
   "outputs": [
    {
     "name": "stdout",
     "output_type": "stream",
     "text": [
      "1\n",
      "9 was not in the list\n",
      "2\n",
      "9 was not in the list\n",
      "3\n",
      "9 was not in the list\n",
      "4\n",
      "9 was not in the list\n",
      "5\n",
      "9 was not in the list\n",
      "6\n",
      "9 was not in the list\n",
      "7\n",
      "9 was not in the list\n",
      "8\n",
      "8 found\n"
     ]
    }
   ],
   "source": [
    "for i in xrange(1,10):\n",
    "    print(i)\n",
    "    if i == a:\n",
    "        print(str(a) + ' found!')\n",
    "    elif i == b:\n",
    "        print(str(b) + ' found')\n",
    "        break\n",
    "    else:\n",
    "        pass\n",
    "        print(str(a) + ' was not in the list')"
   ]
  },
  {
   "cell_type": "code",
   "execution_count": 41,
   "metadata": {
    "collapsed": false
   },
   "outputs": [
    {
     "name": "stdout",
     "output_type": "stream",
     "text": [
      "1\n",
      "2\n",
      "3\n",
      "4\n",
      "5\n",
      "6\n",
      "7\n",
      "8\n",
      "8 found\n"
     ]
    }
   ],
   "source": [
    "for i in xrange(1,10):\n",
    "    print(i)\n",
    "    if i == a:\n",
    "        print(str(a) + ' found!')\n",
    "    elif i == b:\n",
    "        print(str(b) + ' found')\n",
    "        break\n",
    "    else:\n",
    "        continue\n",
    "        print(str(a) + ' was not in the list')"
   ]
  },
  {
   "cell_type": "code",
   "execution_count": 42,
   "metadata": {
    "collapsed": false
   },
   "outputs": [
    {
     "name": "stdout",
     "output_type": "stream",
     "text": [
      "0\n",
      "2\n",
      "4\n",
      "6\n",
      "8\n"
     ]
    }
   ],
   "source": [
    "for i in xrange(0,10,2):\n",
    "    print(i)"
   ]
  },
  {
   "cell_type": "code",
   "execution_count": 43,
   "metadata": {
    "collapsed": false
   },
   "outputs": [
    {
     "name": "stdout",
     "output_type": "stream",
     "text": [
      "1\n",
      "2\n",
      "3\n",
      "4\n",
      "5\n",
      "==================================================\n",
      "1\n",
      "2\n",
      "3\n",
      "4\n",
      "5\n"
     ]
    }
   ],
   "source": [
    "a = [1,2,3,4,5]\n",
    "for i in a:\n",
    "    print(i)\n",
    "print(\"=\"*50)\n",
    "a = \"12345\"\n",
    "for i in a:\n",
    "    print(i)"
   ]
  },
  {
   "cell_type": "code",
   "execution_count": 44,
   "metadata": {
    "collapsed": false
   },
   "outputs": [
    {
     "name": "stdout",
     "output_type": "stream",
     "text": [
      "5050 101\n"
     ]
    }
   ],
   "source": [
    "i = 0\n",
    "sum = 0 \n",
    "while(i < 101):\n",
    "    sum += i # sum = sum + i\n",
    "    i +=1\n",
    "print(sum, i)"
   ]
  },
  {
   "cell_type": "code",
   "execution_count": 45,
   "metadata": {
    "collapsed": false
   },
   "outputs": [
    {
     "name": "stdout",
     "output_type": "stream",
     "text": [
      "101 5050\n"
     ]
    }
   ],
   "source": [
    "i = 0\n",
    "sum = 0\n",
    "while True:\n",
    "    i += 1\n",
    "    if i>100:\n",
    "        break\n",
    "    sum += i\n",
    "print(i, sum)"
   ]
  },
  {
   "cell_type": "code",
   "execution_count": 46,
   "metadata": {
    "collapsed": false
   },
   "outputs": [
    {
     "name": "stdout",
     "output_type": "stream",
     "text": [
      "('alice', 1)\n",
      "('Ben', 2)\n",
      "('Peter', 3)\n",
      "('Rob', 4)\n",
      "[('alice', 1), ('Ben', 2), ('Peter', 3), ('Rob', 4)]\n",
      "alice 1\n",
      "Ben 2\n",
      "Peter 3\n",
      "Rob 4\n"
     ]
    }
   ],
   "source": [
    "name = ['alice','Ben','Peter','Rob']\n",
    "number = [1,2,3,4]\n",
    "nn = []\n",
    "for i in zip(name,number):\n",
    "    print(i)\n",
    "    nn.append(i)\n",
    "print(nn)\n",
    "for name, number in nn:\n",
    "    print(name, number)"
   ]
  },
  {
   "cell_type": "code",
   "execution_count": 47,
   "metadata": {
    "collapsed": false
   },
   "outputs": [
    {
     "name": "stdout",
     "output_type": "stream",
     "text": [
      "[('alice', 1), ('Ben', 2), ('Peter', 3), ('Rob', 4)]\n",
      "alice 1\n",
      "Ben 2\n",
      "Peter 3\n",
      "Rob 4\n"
     ]
    }
   ],
   "source": [
    "name = ['alice','Ben','Peter','Rob']\n",
    "number = [1,2,3,4]\n",
    "nn = []\n",
    "for i in zip(name,number):\n",
    "    #print i\n",
    "    nn.append(i)\n",
    "print(nn)\n",
    "for name, number in nn:\n",
    "    print(name, number)"
   ]
  },
  {
   "cell_type": "code",
   "execution_count": 48,
   "metadata": {
    "collapsed": false
   },
   "outputs": [
    {
     "name": "stdout",
     "output_type": "stream",
     "text": [
      "<module 'math' from '/Users/ian/.pyenv/versions/2.7.11/lib/python2.7/lib-dynload/math.so'>\n",
      "2.0\n",
      "1.0\n",
      "2.0\n",
      "1.0\n"
     ]
    }
   ],
   "source": [
    "# def addNum(a,b):\n",
    "#     a+b\n",
    "# myvar = addNum(1,4)\n",
    "# myvar\n",
    "\n",
    "import math\n",
    "print(math) \n",
    "print(math.ceil(7/6.0))\n",
    "print(math.floor(7/6.0))\n",
    "\n",
    "from math import ceil,floor\n",
    "print(ceil(7/6.0))\n",
    "print(floor(7/6.0))"
   ]
  },
  {
   "cell_type": "code",
   "execution_count": 49,
   "metadata": {
    "collapsed": false
   },
   "outputs": [
    {
     "data": {
      "text/plain": [
       "<module 'requests' from '/Users/ian/.pyenv/versions/2.7.11/lib/python2.7/site-packages/requests/__init__.pyc'>"
      ]
     },
     "execution_count": 49,
     "metadata": {},
     "output_type": "execute_result"
    }
   ],
   "source": [
    "# 可以用as來幫import的package取alias\n",
    "import requests as r\n",
    "r"
   ]
  },
  {
   "cell_type": "code",
   "execution_count": 50,
   "metadata": {
    "collapsed": false
   },
   "outputs": [
    {
     "data": {
      "text/plain": [
       "2.0"
      ]
     },
     "execution_count": 50,
     "metadata": {},
     "output_type": "execute_result"
    }
   ],
   "source": [
    "from math import ceil\n",
    "ceil(7/6.0)"
   ]
  },
  {
   "cell_type": "code",
   "execution_count": 51,
   "metadata": {
    "collapsed": false,
    "scrolled": true
   },
   "outputs": [
    {
     "name": "stdout",
     "output_type": "stream",
     "text": [
      "0.98\n",
      "['a', 'c', 'b']\n",
      "[600, 0.98, 'yes']\n",
      "[('a', 600), ('c', 0.98), ('b', 'yes')]\n",
      "0.98\n",
      "{'a': 600, 'c': 0.98, 'b': 'yes'}\n"
     ]
    }
   ],
   "source": [
    "dic = {'a':100, 'b':\"yes\", 'c':0.98, 'a':600} \n",
    "print(dic['c'])\n",
    "print(dic.keys())\n",
    "print(dic.values())\n",
    "print(dic.items())\n",
    "print(dic.get('c'))\n",
    "dic2 = dic\n",
    "print(dic2)"
   ]
  },
  {
   "cell_type": "markdown",
   "metadata": {},
   "source": [
    "## iterable\n",
    "\n",
    "想像成一把尺，上面有我們的資料\n",
    "\n",
    "## iterator\n",
    "\n",
    "是一個指針，指在尺上面，我可以對iterator（指針）下next的method，他就會往下一個位置移動，當指針移動到最後的時候，就不會在回傳資料了。"
   ]
  },
  {
   "cell_type": "code",
   "execution_count": 286,
   "metadata": {
    "collapsed": false
   },
   "outputs": [
    {
     "name": "stdout",
     "output_type": "stream",
     "text": [
      "<type 'listiterator'>\n",
      "('a', 600)\n",
      "('c', 0.98)\n"
     ]
    }
   ],
   "source": [
    "iter_dict = iter(dic.items())\n",
    "#print(type(dic.items()))\n",
    "print(type(iter_dict))\n",
    "print(next(iter_dict))\n",
    "print(next(iter_dict))"
   ]
  },
  {
   "cell_type": "code",
   "execution_count": null,
   "metadata": {
    "collapsed": false
   },
   "outputs": [],
   "source": [
    "words = ['cat', 'window', 'defenestrate']\n",
    "print(words[:])\n",
    "# for w in words[:]: # words[:] is a copy of the words list\n",
    "#     if len(w) > 6:\n",
    "#         words.insert(0, w)\n",
    "#         print(words)\n",
    "print(words)"
   ]
  },
  {
   "cell_type": "code",
   "execution_count": 289,
   "metadata": {
    "collapsed": false
   },
   "outputs": [
    {
     "name": "stdout",
     "output_type": "stream",
     "text": [
      "a 600\n",
      "c 0.98\n",
      "b yes\n"
     ]
    }
   ],
   "source": [
    "for key, val in dic.items():\n",
    "    print(key, val)"
   ]
  },
  {
   "cell_type": "code",
   "execution_count": 291,
   "metadata": {
    "collapsed": false
   },
   "outputs": [
    {
     "name": "stdout",
     "output_type": "stream",
     "text": [
      "{'a': 600, 'c': 0.98, 'b': 'yes', 'e': 'string', 'd': 811}\n",
      "{'a': 600, 'c': 0.98, 'b': 'yes', 'e': 'string', 'd': 811}\n",
      "{'a': 600, 'c': 0.98, 'b': 'yes', 'e': 'string', 'd': 811}\n",
      "a 600\n",
      "c 0.98\n",
      "b yes\n",
      "e string\n",
      "d 811\n",
      "{'a': 600, 'c': 0.98, 'b': 'yes', 'e': 'string', 'd': 811}\n"
     ]
    }
   ],
   "source": [
    "print(dic)\n",
    "dic['d'] = 811\n",
    "print(dic)\n",
    "dic.update({'e':'string'})\n",
    "print(dic)\n",
    "\n",
    "for key in dic:\n",
    "    print(key,dic[key])\n",
    "print(dic2)"
   ]
  },
  {
   "cell_type": "code",
   "execution_count": 293,
   "metadata": {
    "collapsed": false
   },
   "outputs": [
    {
     "name": "stdout",
     "output_type": "stream",
     "text": [
      "OK\n"
     ]
    },
    {
     "data": {
      "text/plain": [
       "2"
      ]
     },
     "execution_count": 293,
     "metadata": {},
     "output_type": "execute_result"
    }
   ],
   "source": [
    "def nicefunc():\n",
    "    print(\"OK\")\n",
    "    \n",
    "def func(x):\n",
    "    return {'a': nicefunc(),\n",
    "            'b': 2}.get(x) \n",
    "\n",
    "func('b')"
   ]
  },
  {
   "cell_type": "markdown",
   "metadata": {},
   "source": [
    "## Object Oriented Programming in Python"
   ]
  },
  {
   "cell_type": "code",
   "execution_count": 53,
   "metadata": {
    "collapsed": true
   },
   "outputs": [],
   "source": [
    "class Person():\n",
    "    count = 0 # Static/class variable\n",
    "    def __init__(self, name, city):\n",
    "        self.name = name # Variable for the instance\n",
    "        self.city = city # Variable for the instance\n",
    "        Person.count += 1\n",
    "        \n",
    "    def number_of_persons(self):\n",
    "        return Person.count"
   ]
  },
  {
   "cell_type": "code",
   "execution_count": 54,
   "metadata": {
    "collapsed": false
   },
   "outputs": [
    {
     "name": "stdout",
     "output_type": "stream",
     "text": [
      "1\n",
      "1\n",
      "Bob\n",
      "New York\n"
     ]
    }
   ],
   "source": [
    "p1 = Person('Bob','New York')\n",
    "print(p1.count)\n",
    "print(p1.number_of_persons())\n",
    "print(p1.name)\n",
    "print(p1.city)"
   ]
  },
  {
   "cell_type": "code",
   "execution_count": 55,
   "metadata": {
    "collapsed": false
   },
   "outputs": [
    {
     "name": "stdout",
     "output_type": "stream",
     "text": [
      "2\n",
      "Judy\n",
      "Hong kong\n",
      "2\n"
     ]
    }
   ],
   "source": [
    "p2 = Person('Judy', 'Hong kong')\n",
    "print(p2.number_of_persons())\n",
    "print(p2.name)\n",
    "print(p2.city)\n",
    "print(p2.count)"
   ]
  },
  {
   "cell_type": "code",
   "execution_count": 56,
   "metadata": {
    "collapsed": false
   },
   "outputs": [
    {
     "data": {
      "text/plain": [
       "2"
      ]
     },
     "execution_count": 56,
     "metadata": {},
     "output_type": "execute_result"
    }
   ],
   "source": [
    "Person.count"
   ]
  },
  {
   "cell_type": "code",
   "execution_count": 61,
   "metadata": {
    "collapsed": false
   },
   "outputs": [
    {
     "data": {
      "text/plain": [
       "2"
      ]
     },
     "execution_count": 61,
     "metadata": {},
     "output_type": "execute_result"
    }
   ],
   "source": [
    "#Person.number_of_persons(p2)\n",
    "p1.number_of_persons()\n",
    "#Person.number_of_persons()"
   ]
  },
  {
   "cell_type": "code",
   "execution_count": 63,
   "metadata": {
    "collapsed": false
   },
   "outputs": [
    {
     "data": {
      "text/plain": [
       "3"
      ]
     },
     "execution_count": 63,
     "metadata": {},
     "output_type": "execute_result"
    }
   ],
   "source": [
    "(1).__add__(2)\n",
    "1+2"
   ]
  },
  {
   "cell_type": "code",
   "execution_count": 64,
   "metadata": {
    "collapsed": false
   },
   "outputs": [
    {
     "name": "stdout",
     "output_type": "stream",
     "text": [
      "2\n",
      "5\n",
      "6\n",
      "5\n",
      "4\n"
     ]
    }
   ],
   "source": [
    "class MyInteger():\n",
    "    def __init__(self, integer):\n",
    "        #print \"constructor\"\n",
    "        self.integer = integer\n",
    "    def __add__(self, integer): # Overloaded '+' operator\n",
    "        if self.integer == 2 and integer == 2: # 被加數，加數\n",
    "            return 5\n",
    "        else:\n",
    "            return self.integer + integer\n",
    "m = MyInteger(1)\n",
    "print (m.__add__(1))\n",
    "m2 = MyInteger(2)\n",
    "print (m2.__add__(2))\n",
    "print (m2.__add__(4))\n",
    "print (m2 + 2)\n",
    "print (m + 3)"
   ]
  },
  {
   "cell_type": "code",
   "execution_count": 66,
   "metadata": {
    "collapsed": false
   },
   "outputs": [
    {
     "name": "stdout",
     "output_type": "stream",
     "text": [
      "yellow\n",
      "False\n",
      "False\n"
     ]
    }
   ],
   "source": [
    "class Vehicle(): # Base class\n",
    "    def my_own(self): return True\n",
    "    \n",
    "class Bicycle(Vehicle):\n",
    "    def __init__(self, color): self.color = color\n",
    "    def has_wheels(self): return True\n",
    "\n",
    "class RentBike(Bicycle):\n",
    "    def my_own(self): return False\n",
    "    def has_wheels(self): return False\n",
    "\n",
    "Ubike = RentBike('yellow')\n",
    "print(Ubike.color)\n",
    "print(Ubike.my_own())\n",
    "print(Ubike.has_wheels())"
   ]
  },
  {
   "cell_type": "code",
   "execution_count": 71,
   "metadata": {
    "collapsed": false
   },
   "outputs": [
    {
     "name": "stdout",
     "output_type": "stream",
     "text": [
      "rent_bike is yellow\n",
      "__main__.Bicycle\n"
     ]
    }
   ],
   "source": [
    "class Vehicle():\n",
    "    def my_own(self): return True\n",
    "    \n",
    "class Bicycle(Vehicle):\n",
    "    def __init__(self, color): self.color = color\n",
    "    def has_wheels(self): return True\n",
    "    def __str__(self): return \"%s is %s\"%(self.__class__.__name__,self.color)\n",
    "\n",
    "class rent_bike(Bicycle):\n",
    "    def my_own(self): return False\n",
    "Ubike = rent_bike('yellow')\n",
    "print(Ubike)\n",
    "print(Bicycle)"
   ]
  },
  {
   "cell_type": "code",
   "execution_count": 74,
   "metadata": {
    "collapsed": false
   },
   "outputs": [
    {
     "data": {
      "text/plain": [
       "3"
      ]
     },
     "execution_count": 74,
     "metadata": {},
     "output_type": "execute_result"
    }
   ],
   "source": [
    "class MyObject():\n",
    "    def __init__(self, myitems):\n",
    "        self.mydict = myitems\n",
    "    def __getitem__(self, key):\n",
    "        return self.mydict[key]\n",
    "\n",
    "aobject = MyObject({'first': 1, 'second': 2, 'third': 3})\n",
    "aobject['third']    "
   ]
  },
  {
   "cell_type": "code",
   "execution_count": 79,
   "metadata": {
    "collapsed": false
   },
   "outputs": [
    {
     "name": "stdout",
     "output_type": "stream",
     "text": [
      "1\n",
      "2\n",
      "__main__.CallableObject\n",
      "8\n",
      "4\n",
      "Help on class CallableObject in module __main__:\n",
      "\n",
      "class CallableObject\n",
      " |  This is a cool object\n",
      " |  \n",
      " |  Methods defined here:\n",
      " |  \n",
      " |  __call__(self, x, y)\n",
      " |      Change the position of the entity.\n",
      " |  \n",
      " |  __init__(self, size, x, y)\n",
      "\n"
     ]
    }
   ],
   "source": [
    "class CallableObject():    \n",
    "    \"\"\"This is a cool object\"\"\" #docstring\n",
    "    def __init__(self, size, x, y):\n",
    "        self.x, self.y = x, y\n",
    "        self.size = size\n",
    "    \n",
    "    def __call__(self, x, y):\n",
    "        \"\"\"Change the position of the entity.\"\"\"\n",
    "        self.x, self.y = x, y\n",
    "\n",
    "someobject = CallableObject(2,1,2)\n",
    "print(someobject.x)\n",
    "print(someobject.y)\n",
    "print(someobject.__class__)\n",
    "someobject(8,4)\n",
    "print(someobject.x)\n",
    "print(someobject.y)\n",
    "\n",
    "\n",
    "help(CallableObject)\n",
    "#CallableObject.__doc__"
   ]
  },
  {
   "cell_type": "markdown",
   "metadata": {},
   "source": [
    "## File operations"
   ]
  },
  {
   "cell_type": "code",
   "execution_count": 80,
   "metadata": {
    "collapsed": true
   },
   "outputs": [],
   "source": [
    "fid = open('test.txt', 'w') # w: write; a: append, r: read\n",
    "fid.write('Hello\\nWorld')\n",
    "fid.close()"
   ]
  },
  {
   "cell_type": "code",
   "execution_count": 85,
   "metadata": {
    "collapsed": false
   },
   "outputs": [
    {
     "name": "stdout",
     "output_type": "stream",
     "text": [
      "Line: Hello\n",
      "Line: World\n"
     ]
    }
   ],
   "source": [
    "fid = open('test.txt', 'r')\n",
    "for line in fid: # Using file identifier as iterator\n",
    "    print(\"Line: \" + line.strip())"
   ]
  },
  {
   "cell_type": "code",
   "execution_count": 92,
   "metadata": {
    "collapsed": false
   },
   "outputs": [],
   "source": [
    "for line in fid:\n",
    "    print(line)"
   ]
  },
  {
   "cell_type": "code",
   "execution_count": 93,
   "metadata": {
    "collapsed": true
   },
   "outputs": [],
   "source": [
    "fid.close()"
   ]
  },
  {
   "cell_type": "markdown",
   "metadata": {},
   "source": [
    "file objects are iteratable.\n",
    "\n",
    "如其他iterator一樣只能被loop一次\n",
    "如果還要loop一次：\n",
    "1. 重新open檔案\n",
    "2. 用 .seek(0) 來reset指標\n",
    "\n",
    "Best Practice：\n",
    "在第一個Loop就把資料轉換成其他的資料結構（list，dictionary）"
   ]
  },
  {
   "cell_type": "code",
   "execution_count": 97,
   "metadata": {
    "collapsed": false
   },
   "outputs": [
    {
     "name": "stdout",
     "output_type": "stream",
     "text": [
      "'\\n\\taaattt\\n\\t'\n",
      "aaattt\n"
     ]
    }
   ],
   "source": [
    "a = '\\n\\taaattt\\n\\t'\n",
    "print(repr(a))\n",
    "#print(a)\n",
    "print(a.strip())"
   ]
  },
  {
   "cell_type": "code",
   "execution_count": 98,
   "metadata": {
    "collapsed": false
   },
   "outputs": [
    {
     "name": "stdout",
     "output_type": "stream",
     "text": [
      "<type 'list'>\n",
      "Line: Hello\n",
      "Line: World\n"
     ]
    }
   ],
   "source": [
    "fid = open('test.txt', 'r')\n",
    "lines = fid.readlines() #  return a list\n",
    "print(type(lines))\n",
    "for line in lines:\n",
    "    print(\"Line: \" + line.strip())\n",
    "fid.close()"
   ]
  },
  {
   "cell_type": "code",
   "execution_count": 99,
   "metadata": {
    "collapsed": false
   },
   "outputs": [
    {
     "name": "stdout",
     "output_type": "stream",
     "text": [
      "Hello\n",
      "\n",
      "World\n"
     ]
    }
   ],
   "source": [
    "for line in lines:\n",
    "    print(line)"
   ]
  },
  {
   "cell_type": "code",
   "execution_count": 188,
   "metadata": {
    "collapsed": false
   },
   "outputs": [
    {
     "name": "stdout",
     "output_type": "stream",
     "text": [
      "fid closed\n"
     ]
    }
   ],
   "source": [
    "try:\n",
    "    fid = open('test.txt', 'r')\n",
    "finally:\n",
    "    print('fid closed')\n",
    "    fid.close()"
   ]
  },
  {
   "cell_type": "markdown",
   "metadata": {},
   "source": [
    "## Context Managers\n",
    "A ```with``` block defines a runtime context; you “enter” the context when you execute the with statement, and you “exit” the context after you execute the last statement in the block.\n",
    "\n",
    "在操作File Object的時候，建議使用with，以確保File用完以後有被自動關閉"
   ]
  },
  {
   "cell_type": "code",
   "execution_count": 100,
   "metadata": {
    "collapsed": false
   },
   "outputs": [
    {
     "name": "stdout",
     "output_type": "stream",
     "text": [
      "Hello\n",
      "World\n"
     ]
    }
   ],
   "source": [
    "# Best practice to open a file and read it line by line\n",
    "with open('test.txt', 'r') as f:\n",
    "    for line in f:\n",
    "        print(line.strip())"
   ]
  },
  {
   "cell_type": "code",
   "execution_count": 101,
   "metadata": {
    "collapsed": false
   },
   "outputs": [
    {
     "name": "stdout",
     "output_type": "stream",
     "text": [
      "2\n"
     ]
    }
   ],
   "source": [
    "with open('test.txt', 'r') as f:\n",
    "    k = 0\n",
    "    for line in f:\n",
    "        k += 1\n",
    "    print(k)"
   ]
  },
  {
   "cell_type": "code",
   "execution_count": 102,
   "metadata": {
    "collapsed": false
   },
   "outputs": [
    {
     "name": "stdout",
     "output_type": "stream",
     "text": [
      "2\n"
     ]
    }
   ],
   "source": [
    "with open('test.txt','r') as f:\n",
    "    print(len(f.readlines()))"
   ]
  },
  {
   "cell_type": "code",
   "execution_count": 109,
   "metadata": {
    "collapsed": true
   },
   "outputs": [],
   "source": [
    "with open('test2.txt','a') as f:\n",
    "    f.write('aaaaaaaaaaa\\n')"
   ]
  },
  {
   "cell_type": "code",
   "execution_count": 111,
   "metadata": {
    "collapsed": false
   },
   "outputs": [
    {
     "name": "stdout",
     "output_type": "stream",
     "text": [
      "aaaaaaaaaaaaaaaaaaaaaaaaaaaaaaaaaaaaaaaaaaaa\n",
      "aaaaaaaaaaa\n"
     ]
    }
   ],
   "source": [
    "with open('test2.txt', 'r') as f:\n",
    "    for line in f:\n",
    "        print(line.strip())"
   ]
  },
  {
   "cell_type": "code",
   "execution_count": 117,
   "metadata": {
    "collapsed": false,
    "scrolled": true
   },
   "outputs": [
    {
     "name": "stdout",
     "output_type": "stream",
     "text": [
      "'i'\n",
      "' '\n",
      "'a'\n",
      "'m'\n",
      "' '\n",
      "'c'\n",
      "'o'\n",
      "'o'\n",
      "'l'\n",
      "'\\n'\n",
      "'p'\n",
      "'y'\n",
      "'t'\n",
      "'h'\n",
      "'o'\n",
      "'n'\n",
      "' '\n",
      "'n'\n",
      "'i'\n",
      "'n'\n",
      "'j'\n",
      "'a'\n",
      "'\\n'\n",
      "'b'\n",
      "'i'\n",
      "'g'\n",
      "' '\n",
      "'d'\n",
      "'a'\n",
      "'t'\n",
      "'a'\n",
      "' '\n",
      "'i'\n",
      "'s'\n",
      "' '\n",
      "'f'\n",
      "'u'\n",
      "'n'\n"
     ]
    }
   ],
   "source": [
    "mystr = \"\\nok\\tnot a tab\"\n",
    "# multistr = \"\"\"i am cool\n",
    "# python ninja\n",
    "# big data is fun\"\"\"\n",
    "for something in multistr:\n",
    "    print(repr(something))"
   ]
  },
  {
   "cell_type": "markdown",
   "metadata": {},
   "source": [
    "## Word count 範例"
   ]
  },
  {
   "cell_type": "code",
   "execution_count": 138,
   "metadata": {
    "collapsed": false
   },
   "outputs": [
    {
     "name": "stdout",
     "output_type": "stream",
     "text": [
      "{'saying': 1, 'all': 1, 'says.': 1, 'increasingly': 1, 'over': 1, 'global': 1, 'soon': 1, 'deliveries': 1, 'profits,': 1, 'four': 1, 'bring': 1, 'looks': 1, 'its': 2, 'also': 2, 'supply': 1, 'should': 2, 'to': 8, 'only': 1, 'announce': 1, 'has': 3, 'world.': 1, 'into': 1, 'world,': 1, 'Prime': 4, 'And': 1, 'network,': 1, 'around': 1, 'prepping': 1, 'working': 2, 'aspirational': 1, 'nearly': 1, 'press': 1, 'areas': 1, 'like': 1, 'countries': 1, 'India': 1, 'leave': 1, 'she': 1, 'team': 1, 'release': 1, '\\xe2\\x80\\x98magical.\\xe2\\x80\\x99\\xe2\\x80\\x9d': 1, 'wrote': 1, 'process,\\xe2\\x80\\x9d': 1, 'logistics': 1, 'forbid,': 1, 'force': 1, 'paper?\\n\\nStephenie': 1, 'house)': 1, 'humans': 1, 'growth': 1, 'out': 1, 'cargo': 1, 'what': 2, 'for': 2, 'That': 1, 'giving': 1, 'working-backward': 1, 'assembled': 1, 'may': 1, 'Amazon': 4, 'version': 1, 'China': 1, 'planes,': 1, 'probably': 1, '22-year': 1, 'be': 4, 'we': 1, 'infrastructure': 1, 'favored': 1, 'couriers.': 1, 'hundreds': 1, 'control': 1, 'from': 1, 'UPS': 1, 'wait': 1, 'on': 2, 'chain,': 1, 'service': 1, 'anything': 1, 'of': 9, '30': 1, 'days': 1, 'experience': 1, 'FedEx': 1, 'products': 1, '\\xe2\\x80\\x9cWe': 2, 'long-term': 1, 'contingency': 1, 'sprawling': 1, 'Now,': 1, 'gone': 1, 'Landry': 2, 'trucks,': 1, '(or,': 1, 'long': 1, 'drones': 1, 'actually': 1, 'writing': 1, 'your': 3, 'now.': 1, 'company\\xe2\\x80\\x99s': 1, 'would': 4, 'their': 1, 'concept,': 1, 'warehouses': 1, 'instantaneousness': 1, 'start': 1, 'live': 1, 'poured': 1, 'way': 1, '\\xe2\\x80\\x94Davey': 1, 'conceptualized': 1, 'was': 1, 'launching': 1, 'more': 1, 'building': 1, 'life': 1, 'Since': 1, 'scaled-down': 1, 'complete': 1, 'that': 3, 'company': 2, 'but': 1, 'delivery': 1, 'immediately.': 1, 'emerges,': 1, 'And,': 1, 'factories': 1, 'than': 1, 'gratification\\xe2\\x80\\x94as': 1, 'Now': 3, 'doorstep.': 1, 'Alba\\n': 1, 'well,': 1, 'thousands': 1, 'work': 1, 'resources': 1, 'December': 1, 'called': 1, 'something': 1, 'and': 8, 'toilet': 1, 'dedicated': 1, 'want': 1, 'metropolitan': 1, 'almost': 1, 'God': 1, 'is': 1, 'lifespan,': 1, 'play:': 1, 'involve': 1, 'problem.': 1, 'as': 3, 'at': 1, 'have': 2, 'in': 7, 'need': 1, 'if': 1, 'rumors': 1, 'not': 1, 'responsible': 1, 'when': 2, 'write': 1, 'how': 1, 'grand': 1, 'swirl': 1, 'you': 4, 'as,': 1, 'Why': 1, 'one-hour': 1, 'picture': 1, 'product': 1, 'plans': 1, 'I': 2, 'plan': 1, 'president': 1, '2014,': 1, 'a': 4, 'vice': 1, 'flow': 1, 'the': 15}\n"
     ]
    }
   ],
   "source": [
    "text = '''Amazon has long favored growth over profits, and in its nearly 22-year lifespan, the company has poured resources into building out a sprawling logistics infrastructure dedicated to giving you what you want almost immediately. Why should you have to wait for days (or, God forbid, leave your house) when you need toilet paper?\n",
    "\n",
    "Stephenie Landry is the force responsible for the instantaneousness of your gratification—as vice president of Amazon Prime Now, she conceptualized how the company would bring one-hour deliveries to life and assembled the team to work on the problem. “We have something at Amazon called the working-backward process,” Landry says. “We write a press release saying what we would announce to the world, and when I was writing the product concept, I wrote that the experience of Prime Now would be ‘magical.’” Since launching in December 2014, the service has gone live in four countries and more than 30 metropolitan areas around the world. And, as rumors swirl that Amazon may also be working on a global delivery network, Prime Now increasingly looks to be a scaled-down version of the company’s long-term play: to be in complete control of the flow of products in its supply chain, from factories in China and India all the way to your doorstep. That grand plan would involve not only trucks, cargo planes, and drones but also hundreds of thousands of humans working in warehouses and as couriers. And if anything like that aspirational picture of Prime Now actually emerges, UPS and FedEx should probably start prepping their contingency plans as soon as, well, now. —Davey Alba\n",
    "'''\n",
    "words = text.split(' ')\n",
    "\n",
    "dic = {}\n",
    "for w in words:\n",
    "    if w not in dic:\n",
    "        dic[w] = 1\n",
    "    else:\n",
    "        dic[w] += 1\n",
    "print(dic)"
   ]
  },
  {
   "cell_type": "code",
   "execution_count": 139,
   "metadata": {
    "collapsed": false
   },
   "outputs": [
    {
     "name": "stdout",
     "output_type": "stream",
     "text": [
      "Counter({'the': 15, 'of': 9, 'to': 8, 'and': 8, 'in': 7, 'Prime': 4, 'Amazon': 4, 'be': 4, 'would': 4, 'you': 4, 'a': 4, 'has': 3, 'your': 3, 'that': 3, 'Now': 3, 'as': 3, 'its': 2, 'also': 2, 'should': 2, 'working': 2, 'what': 2, 'for': 2, 'on': 2, '\\xe2\\x80\\x9cWe': 2, 'Landry': 2, 'company': 2, 'have': 2, 'when': 2, 'I': 2, 'saying': 1, 'all': 1, 'says.': 1, 'increasingly': 1, 'over': 1, 'global': 1, 'soon': 1, 'deliveries': 1, 'profits,': 1, 'four': 1, 'bring': 1, 'looks': 1, 'supply': 1, 'only': 1, 'announce': 1, 'world.': 1, 'into': 1, 'world,': 1, 'And': 1, 'network,': 1, 'around': 1, 'prepping': 1, 'aspirational': 1, 'nearly': 1, 'press': 1, 'areas': 1, 'like': 1, 'countries': 1, 'India': 1, 'leave': 1, 'she': 1, 'team': 1, 'release': 1, '\\xe2\\x80\\x98magical.\\xe2\\x80\\x99\\xe2\\x80\\x9d': 1, 'wrote': 1, 'process,\\xe2\\x80\\x9d': 1, 'logistics': 1, 'forbid,': 1, 'force': 1, 'paper?\\n\\nStephenie': 1, 'house)': 1, 'humans': 1, 'growth': 1, 'out': 1, 'cargo': 1, 'That': 1, 'giving': 1, 'working-backward': 1, 'assembled': 1, 'may': 1, 'version': 1, 'China': 1, 'planes,': 1, 'probably': 1, '22-year': 1, 'we': 1, 'infrastructure': 1, 'favored': 1, 'couriers.': 1, 'hundreds': 1, 'control': 1, 'from': 1, 'UPS': 1, 'wait': 1, 'chain,': 1, 'service': 1, 'anything': 1, '30': 1, 'days': 1, 'experience': 1, 'FedEx': 1, 'products': 1, 'long-term': 1, 'contingency': 1, 'sprawling': 1, 'Now,': 1, 'gone': 1, 'trucks,': 1, '(or,': 1, 'long': 1, 'drones': 1, 'actually': 1, 'writing': 1, 'now.': 1, 'company\\xe2\\x80\\x99s': 1, 'their': 1, 'concept,': 1, 'warehouses': 1, 'instantaneousness': 1, 'start': 1, 'live': 1, 'poured': 1, 'way': 1, '\\xe2\\x80\\x94Davey': 1, 'conceptualized': 1, 'was': 1, 'launching': 1, 'more': 1, 'building': 1, 'life': 1, 'Since': 1, 'scaled-down': 1, 'complete': 1, 'but': 1, 'delivery': 1, 'immediately.': 1, 'emerges,': 1, 'And,': 1, 'factories': 1, 'than': 1, 'gratification\\xe2\\x80\\x94as': 1, 'doorstep.': 1, 'Alba\\n': 1, 'well,': 1, 'thousands': 1, 'work': 1, 'resources': 1, 'December': 1, 'called': 1, 'something': 1, 'toilet': 1, 'dedicated': 1, 'want': 1, 'metropolitan': 1, 'almost': 1, 'God': 1, 'is': 1, 'lifespan,': 1, 'play:': 1, 'involve': 1, 'problem.': 1, 'at': 1, 'need': 1, 'if': 1, 'rumors': 1, 'not': 1, 'responsible': 1, 'write': 1, 'how': 1, 'grand': 1, 'swirl': 1, 'as,': 1, 'Why': 1, 'one-hour': 1, 'picture': 1, 'product': 1, 'plans': 1, 'plan': 1, 'president': 1, '2014,': 1, 'vice': 1, 'flow': 1})\n"
     ]
    }
   ],
   "source": [
    "from collections import Counter\n",
    "c = Counter(words)\n",
    "print(c)"
   ]
  },
  {
   "cell_type": "code",
   "execution_count": 144,
   "metadata": {
    "collapsed": false
   },
   "outputs": [
    {
     "name": "stdout",
     "output_type": "stream",
     "text": [
      "[('the', 15), ('of', 9), ('to', 8), ('and', 8), ('in', 7)]\n"
     ]
    }
   ],
   "source": [
    "from operator import itemgetter, attrgetter\n",
    "# sorted() builds a new list, sort() modifies list in place\n",
    "sorted_x = sorted(c.items, key=itemgetter(1), reverse=True) \n",
    "print(sorted_x[0:5])"
   ]
  },
  {
   "cell_type": "code",
   "execution_count": 148,
   "metadata": {
    "collapsed": false
   },
   "outputs": [
    {
     "data": {
      "text/plain": [
       "['__abs__',\n",
       " '__add__',\n",
       " '__and__',\n",
       " '__concat__',\n",
       " '__contains__',\n",
       " '__delitem__',\n",
       " '__delslice__',\n",
       " '__div__',\n",
       " '__doc__',\n",
       " '__eq__',\n",
       " '__file__',\n",
       " '__floordiv__',\n",
       " '__ge__',\n",
       " '__getitem__',\n",
       " '__getslice__',\n",
       " '__gt__',\n",
       " '__iadd__',\n",
       " '__iand__',\n",
       " '__iconcat__',\n",
       " '__idiv__',\n",
       " '__ifloordiv__',\n",
       " '__ilshift__',\n",
       " '__imod__',\n",
       " '__imul__',\n",
       " '__index__',\n",
       " '__inv__',\n",
       " '__invert__',\n",
       " '__ior__',\n",
       " '__ipow__',\n",
       " '__irepeat__',\n",
       " '__irshift__',\n",
       " '__isub__',\n",
       " '__itruediv__',\n",
       " '__ixor__',\n",
       " '__le__',\n",
       " '__lshift__',\n",
       " '__lt__',\n",
       " '__mod__',\n",
       " '__mul__',\n",
       " '__name__',\n",
       " '__ne__',\n",
       " '__neg__',\n",
       " '__not__',\n",
       " '__or__',\n",
       " '__package__',\n",
       " '__pos__',\n",
       " '__pow__',\n",
       " '__repeat__',\n",
       " '__rshift__',\n",
       " '__setitem__',\n",
       " '__setslice__',\n",
       " '__sub__',\n",
       " '__truediv__',\n",
       " '__xor__',\n",
       " '_compare_digest',\n",
       " 'abs',\n",
       " 'add',\n",
       " 'and_',\n",
       " 'attrgetter',\n",
       " 'concat',\n",
       " 'contains',\n",
       " 'countOf',\n",
       " 'delitem',\n",
       " 'delslice',\n",
       " 'div',\n",
       " 'eq',\n",
       " 'floordiv',\n",
       " 'ge',\n",
       " 'getitem',\n",
       " 'getslice',\n",
       " 'gt',\n",
       " 'iadd',\n",
       " 'iand',\n",
       " 'iconcat',\n",
       " 'idiv',\n",
       " 'ifloordiv',\n",
       " 'ilshift',\n",
       " 'imod',\n",
       " 'imul',\n",
       " 'index',\n",
       " 'indexOf',\n",
       " 'inv',\n",
       " 'invert',\n",
       " 'ior',\n",
       " 'ipow',\n",
       " 'irepeat',\n",
       " 'irshift',\n",
       " 'isCallable',\n",
       " 'isMappingType',\n",
       " 'isNumberType',\n",
       " 'isSequenceType',\n",
       " 'is_',\n",
       " 'is_not',\n",
       " 'isub',\n",
       " 'itemgetter',\n",
       " 'itruediv',\n",
       " 'ixor',\n",
       " 'le',\n",
       " 'lshift',\n",
       " 'lt',\n",
       " 'methodcaller',\n",
       " 'mod',\n",
       " 'mul',\n",
       " 'ne',\n",
       " 'neg',\n",
       " 'not_',\n",
       " 'or_',\n",
       " 'pos',\n",
       " 'pow',\n",
       " 'repeat',\n",
       " 'rshift',\n",
       " 'sequenceIncludes',\n",
       " 'setitem',\n",
       " 'setslice',\n",
       " 'sub',\n",
       " 'truediv',\n",
       " 'truth',\n",
       " 'xor']"
      ]
     },
     "execution_count": 148,
     "metadata": {},
     "output_type": "execute_result"
    }
   ],
   "source": [
    "dir(operator)"
   ]
  },
  {
   "cell_type": "code",
   "execution_count": 147,
   "metadata": {
    "collapsed": false
   },
   "outputs": [
    {
     "name": "stdout",
     "output_type": "stream",
     "text": [
      "Help on dict object:\n",
      "\n",
      "class dict(object)\n",
      " |  dict() -> new empty dictionary\n",
      " |  dict(mapping) -> new dictionary initialized from a mapping object's\n",
      " |      (key, value) pairs\n",
      " |  dict(iterable) -> new dictionary initialized as if via:\n",
      " |      d = {}\n",
      " |      for k, v in iterable:\n",
      " |          d[k] = v\n",
      " |  dict(**kwargs) -> new dictionary initialized with the name=value pairs\n",
      " |      in the keyword argument list.  For example:  dict(one=1, two=2)\n",
      " |  \n",
      " |  Methods defined here:\n",
      " |  \n",
      " |  __cmp__(...)\n",
      " |      x.__cmp__(y) <==> cmp(x,y)\n",
      " |  \n",
      " |  __contains__(...)\n",
      " |      D.__contains__(k) -> True if D has a key k, else False\n",
      " |  \n",
      " |  __delitem__(...)\n",
      " |      x.__delitem__(y) <==> del x[y]\n",
      " |  \n",
      " |  __eq__(...)\n",
      " |      x.__eq__(y) <==> x==y\n",
      " |  \n",
      " |  __ge__(...)\n",
      " |      x.__ge__(y) <==> x>=y\n",
      " |  \n",
      " |  __getattribute__(...)\n",
      " |      x.__getattribute__('name') <==> x.name\n",
      " |  \n",
      " |  __getitem__(...)\n",
      " |      x.__getitem__(y) <==> x[y]\n",
      " |  \n",
      " |  __gt__(...)\n",
      " |      x.__gt__(y) <==> x>y\n",
      " |  \n",
      " |  __init__(...)\n",
      " |      x.__init__(...) initializes x; see help(type(x)) for signature\n",
      " |  \n",
      " |  __iter__(...)\n",
      " |      x.__iter__() <==> iter(x)\n",
      " |  \n",
      " |  __le__(...)\n",
      " |      x.__le__(y) <==> x<=y\n",
      " |  \n",
      " |  __len__(...)\n",
      " |      x.__len__() <==> len(x)\n",
      " |  \n",
      " |  __lt__(...)\n",
      " |      x.__lt__(y) <==> x<y\n",
      " |  \n",
      " |  __ne__(...)\n",
      " |      x.__ne__(y) <==> x!=y\n",
      " |  \n",
      " |  __repr__(...)\n",
      " |      x.__repr__() <==> repr(x)\n",
      " |  \n",
      " |  __setitem__(...)\n",
      " |      x.__setitem__(i, y) <==> x[i]=y\n",
      " |  \n",
      " |  __sizeof__(...)\n",
      " |      D.__sizeof__() -> size of D in memory, in bytes\n",
      " |  \n",
      " |  clear(...)\n",
      " |      D.clear() -> None.  Remove all items from D.\n",
      " |  \n",
      " |  copy(...)\n",
      " |      D.copy() -> a shallow copy of D\n",
      " |  \n",
      " |  fromkeys(...)\n",
      " |      dict.fromkeys(S[,v]) -> New dict with keys from S and values equal to v.\n",
      " |      v defaults to None.\n",
      " |  \n",
      " |  get(...)\n",
      " |      D.get(k[,d]) -> D[k] if k in D, else d.  d defaults to None.\n",
      " |  \n",
      " |  has_key(...)\n",
      " |      D.has_key(k) -> True if D has a key k, else False\n",
      " |  \n",
      " |  items(...)\n",
      " |      D.items() -> list of D's (key, value) pairs, as 2-tuples\n",
      " |  \n",
      " |  iteritems(...)\n",
      " |      D.iteritems() -> an iterator over the (key, value) items of D\n",
      " |  \n",
      " |  iterkeys(...)\n",
      " |      D.iterkeys() -> an iterator over the keys of D\n",
      " |  \n",
      " |  itervalues(...)\n",
      " |      D.itervalues() -> an iterator over the values of D\n",
      " |  \n",
      " |  keys(...)\n",
      " |      D.keys() -> list of D's keys\n",
      " |  \n",
      " |  pop(...)\n",
      " |      D.pop(k[,d]) -> v, remove specified key and return the corresponding value.\n",
      " |      If key is not found, d is returned if given, otherwise KeyError is raised\n",
      " |  \n",
      " |  popitem(...)\n",
      " |      D.popitem() -> (k, v), remove and return some (key, value) pair as a\n",
      " |      2-tuple; but raise KeyError if D is empty.\n",
      " |  \n",
      " |  setdefault(...)\n",
      " |      D.setdefault(k[,d]) -> D.get(k,d), also set D[k]=d if k not in D\n",
      " |  \n",
      " |  update(...)\n",
      " |      D.update([E, ]**F) -> None.  Update D from dict/iterable E and F.\n",
      " |      If E present and has a .keys() method, does:     for k in E: D[k] = E[k]\n",
      " |      If E present and lacks .keys() method, does:     for (k, v) in E: D[k] = v\n",
      " |      In either case, this is followed by: for k in F: D[k] = F[k]\n",
      " |  \n",
      " |  values(...)\n",
      " |      D.values() -> list of D's values\n",
      " |  \n",
      " |  viewitems(...)\n",
      " |      D.viewitems() -> a set-like object providing a view on D's items\n",
      " |  \n",
      " |  viewkeys(...)\n",
      " |      D.viewkeys() -> a set-like object providing a view on D's keys\n",
      " |  \n",
      " |  viewvalues(...)\n",
      " |      D.viewvalues() -> an object providing a view on D's values\n",
      " |  \n",
      " |  ----------------------------------------------------------------------\n",
      " |  Data and other attributes defined here:\n",
      " |  \n",
      " |  __hash__ = None\n",
      " |  \n",
      " |  __new__ = <built-in method __new__ of type object>\n",
      " |      T.__new__(S, ...) -> a new object with type S, a subtype of T\n",
      "\n"
     ]
    }
   ],
   "source": [
    "dic = {}\n",
    "help(dic)"
   ]
  },
  {
   "cell_type": "code",
   "execution_count": 141,
   "metadata": {
    "collapsed": false
   },
   "outputs": [
    {
     "data": {
      "text/plain": [
       "[('saying', 1),\n",
       " ('all', 1),\n",
       " ('says.', 1),\n",
       " ('increasingly', 1),\n",
       " ('over', 1),\n",
       " ('global', 1),\n",
       " ('soon', 1),\n",
       " ('deliveries', 1),\n",
       " ('profits,', 1),\n",
       " ('four', 1),\n",
       " ('bring', 1),\n",
       " ('looks', 1),\n",
       " ('its', 2),\n",
       " ('also', 2),\n",
       " ('supply', 1),\n",
       " ('should', 2),\n",
       " ('to', 8),\n",
       " ('only', 1),\n",
       " ('announce', 1),\n",
       " ('has', 3),\n",
       " ('world.', 1),\n",
       " ('into', 1),\n",
       " ('world,', 1),\n",
       " ('Prime', 4),\n",
       " ('And', 1),\n",
       " ('network,', 1),\n",
       " ('around', 1),\n",
       " ('prepping', 1),\n",
       " ('working', 2),\n",
       " ('aspirational', 1),\n",
       " ('nearly', 1),\n",
       " ('press', 1),\n",
       " ('areas', 1),\n",
       " ('like', 1),\n",
       " ('countries', 1),\n",
       " ('India', 1),\n",
       " ('leave', 1),\n",
       " ('she', 1),\n",
       " ('team', 1),\n",
       " ('release', 1),\n",
       " ('\\xe2\\x80\\x98magical.\\xe2\\x80\\x99\\xe2\\x80\\x9d', 1),\n",
       " ('wrote', 1),\n",
       " ('process,\\xe2\\x80\\x9d', 1),\n",
       " ('logistics', 1),\n",
       " ('forbid,', 1),\n",
       " ('force', 1),\n",
       " ('paper?\\n\\nStephenie', 1),\n",
       " ('house)', 1),\n",
       " ('humans', 1),\n",
       " ('growth', 1),\n",
       " ('out', 1),\n",
       " ('cargo', 1),\n",
       " ('what', 2),\n",
       " ('for', 2),\n",
       " ('That', 1),\n",
       " ('giving', 1),\n",
       " ('working-backward', 1),\n",
       " ('assembled', 1),\n",
       " ('may', 1),\n",
       " ('Amazon', 4),\n",
       " ('version', 1),\n",
       " ('China', 1),\n",
       " ('planes,', 1),\n",
       " ('probably', 1),\n",
       " ('22-year', 1),\n",
       " ('be', 4),\n",
       " ('we', 1),\n",
       " ('infrastructure', 1),\n",
       " ('favored', 1),\n",
       " ('couriers.', 1),\n",
       " ('hundreds', 1),\n",
       " ('control', 1),\n",
       " ('from', 1),\n",
       " ('UPS', 1),\n",
       " ('wait', 1),\n",
       " ('on', 2),\n",
       " ('chain,', 1),\n",
       " ('service', 1),\n",
       " ('anything', 1),\n",
       " ('of', 9),\n",
       " ('30', 1),\n",
       " ('days', 1),\n",
       " ('experience', 1),\n",
       " ('FedEx', 1),\n",
       " ('products', 1),\n",
       " ('\\xe2\\x80\\x9cWe', 2),\n",
       " ('long-term', 1),\n",
       " ('contingency', 1),\n",
       " ('sprawling', 1),\n",
       " ('Now,', 1),\n",
       " ('gone', 1),\n",
       " ('Landry', 2),\n",
       " ('trucks,', 1),\n",
       " ('(or,', 1),\n",
       " ('long', 1),\n",
       " ('drones', 1),\n",
       " ('actually', 1),\n",
       " ('writing', 1),\n",
       " ('your', 3),\n",
       " ('now.', 1),\n",
       " ('company\\xe2\\x80\\x99s', 1),\n",
       " ('would', 4),\n",
       " ('their', 1),\n",
       " ('concept,', 1),\n",
       " ('warehouses', 1),\n",
       " ('instantaneousness', 1),\n",
       " ('start', 1),\n",
       " ('live', 1),\n",
       " ('poured', 1),\n",
       " ('way', 1),\n",
       " ('\\xe2\\x80\\x94Davey', 1),\n",
       " ('conceptualized', 1),\n",
       " ('was', 1),\n",
       " ('launching', 1),\n",
       " ('more', 1),\n",
       " ('building', 1),\n",
       " ('life', 1),\n",
       " ('Since', 1),\n",
       " ('scaled-down', 1),\n",
       " ('complete', 1),\n",
       " ('that', 3),\n",
       " ('company', 2),\n",
       " ('but', 1),\n",
       " ('delivery', 1),\n",
       " ('immediately.', 1),\n",
       " ('emerges,', 1),\n",
       " ('And,', 1),\n",
       " ('factories', 1),\n",
       " ('than', 1),\n",
       " ('gratification\\xe2\\x80\\x94as', 1),\n",
       " ('Now', 3),\n",
       " ('doorstep.', 1),\n",
       " ('Alba\\n', 1),\n",
       " ('well,', 1),\n",
       " ('thousands', 1),\n",
       " ('work', 1),\n",
       " ('resources', 1),\n",
       " ('December', 1),\n",
       " ('called', 1),\n",
       " ('something', 1),\n",
       " ('and', 8),\n",
       " ('toilet', 1),\n",
       " ('dedicated', 1),\n",
       " ('want', 1),\n",
       " ('metropolitan', 1),\n",
       " ('almost', 1),\n",
       " ('God', 1),\n",
       " ('is', 1),\n",
       " ('lifespan,', 1),\n",
       " ('play:', 1),\n",
       " ('involve', 1),\n",
       " ('problem.', 1),\n",
       " ('as', 3),\n",
       " ('at', 1),\n",
       " ('have', 2),\n",
       " ('in', 7),\n",
       " ('need', 1),\n",
       " ('if', 1),\n",
       " ('rumors', 1),\n",
       " ('not', 1),\n",
       " ('responsible', 1),\n",
       " ('when', 2),\n",
       " ('write', 1),\n",
       " ('how', 1),\n",
       " ('grand', 1),\n",
       " ('swirl', 1),\n",
       " ('you', 4),\n",
       " ('as,', 1),\n",
       " ('Why', 1),\n",
       " ('one-hour', 1),\n",
       " ('picture', 1),\n",
       " ('product', 1),\n",
       " ('plans', 1),\n",
       " ('I', 2),\n",
       " ('plan', 1),\n",
       " ('president', 1),\n",
       " ('2014,', 1),\n",
       " ('a', 4),\n",
       " ('vice', 1),\n",
       " ('flow', 1),\n",
       " ('the', 15)]"
      ]
     },
     "execution_count": 141,
     "metadata": {},
     "output_type": "execute_result"
    }
   ],
   "source": [
    "c.items()"
   ]
  },
  {
   "cell_type": "code",
   "execution_count": null,
   "metadata": {
    "collapsed": true
   },
   "outputs": [],
   "source": []
  }
 ],
 "metadata": {
  "kernelspec": {
   "display_name": "Python 2",
   "language": "python",
   "name": "python2"
  },
  "language_info": {
   "codemirror_mode": {
    "name": "ipython",
    "version": 2
   },
   "file_extension": ".py",
   "mimetype": "text/x-python",
   "name": "python",
   "nbconvert_exporter": "python",
   "pygments_lexer": "ipython2",
   "version": "2.7.11"
  }
 },
 "nbformat": 4,
 "nbformat_minor": 0
}
